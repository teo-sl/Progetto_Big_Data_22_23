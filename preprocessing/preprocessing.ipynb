{
 "cells": [
  {
   "cell_type": "code",
   "execution_count": 1,
   "metadata": {},
   "outputs": [],
   "source": [
    "import plotly.express as px\n",
    "import pandas as pd\n",
    "import plotly.graph_objects as go\n",
    "import plotly.offline as py\n",
    "import numpy as np\n",
    "from pyspark.sql import SparkSession\n",
    "import pyspark.sql.functions as F"
   ]
  },
  {
   "cell_type": "code",
   "execution_count": 2,
   "metadata": {},
   "outputs": [
    {
     "name": "stdout",
     "output_type": "stream",
     "text": [
      "22/12/21 11:52:02 WARN Utils: Your hostname, MacBook-Air-di-Teodoro.local resolves to a loopback address: 127.0.0.1; using 192.168.1.156 instead (on interface en0)\n",
      "22/12/21 11:52:02 WARN Utils: Set SPARK_LOCAL_IP if you need to bind to another address\n"
     ]
    },
    {
     "name": "stderr",
     "output_type": "stream",
     "text": [
      "Setting default log level to \"WARN\".\n",
      "To adjust logging level use sc.setLogLevel(newLevel). For SparkR, use setLogLevel(newLevel).\n"
     ]
    },
    {
     "name": "stdout",
     "output_type": "stream",
     "text": [
      "22/12/21 11:52:02 WARN NativeCodeLoader: Unable to load native-hadoop library for your platform... using builtin-java classes where applicable\n",
      "22/12/21 11:52:03 WARN Utils: Service 'SparkUI' could not bind on port 4040. Attempting port 4041.\n"
     ]
    }
   ],
   "source": [
    "\n",
    "spark = SparkSession.builder.appName('flights').getOrCreate()"
   ]
  },
  {
   "cell_type": "code",
   "execution_count": 3,
   "metadata": {},
   "outputs": [],
   "source": [
    "def count_null(df):\n",
    "    cols_check = df.columns\n",
    "    df.select(*[\n",
    "    (\n",
    "        F.count(F.when((F.isnan(c) | F.col(c).isNull()), c)) if t not in (\"timestamp\", \"date\")\n",
    "        else F.count(F.when(F.col(c).isNull(), c))\n",
    "    ).alias(c)\n",
    "    for c, t in df.dtypes if c in cols_check\n",
    "]).show()"
   ]
  },
  {
   "cell_type": "code",
   "execution_count": 4,
   "metadata": {},
   "outputs": [],
   "source": [
    "def select_features():\n",
    "    features = []\n",
    "    with open(\"features_analysis.txt\",\"r\") as f:\n",
    "        lines = f.readlines()\n",
    "        for line in lines:\n",
    "            line = line.strip()\n",
    "            if line==\"\":\n",
    "                continue\n",
    "            split = line.split()\n",
    "            feature = split[0].strip()\n",
    "            features.append(feature)\n",
    "    return features\n"
   ]
  },
  {
   "cell_type": "code",
   "execution_count": 5,
   "metadata": {},
   "outputs": [],
   "source": [
    "def clean_data(df,features):\n",
    "    df = df.select(features)\n",
    "    df = df.na.drop()\n",
    "    return df"
   ]
  },
  {
   "cell_type": "code",
   "execution_count": 6,
   "metadata": {},
   "outputs": [],
   "source": [
    "def join_airports(df,airports):\n",
    "    df = df.join(airports,df.Origin==airports.IATA)\n",
    "    df = df.withColumnRenamed(\"LATITUDE\",\"ORIGIN_LATITUDE\")\n",
    "    df = df.withColumnRenamed(\"LONGITUDE\",\"ORIGIN_LONGITUDE\")\n",
    "    df = df.drop(\"IATA\",\"AIRPORT\",\"CITY\",\"STATE\",\"COUNTRY\")\n",
    "    df = df.join(airports,df.Dest==airports.IATA)\n",
    "    df = df.withColumnRenamed(\"LATITUDE\",\"DEST_LATITUDE\")\n",
    "    df = df.withColumnRenamed(\"LONGITUDE\",\"DEST_LONGITUDE\")\n",
    "    df = df.drop(\"IATA\",\"AIRPORT\",\"CITY\",\"STATE\",\"COUNTRY\")\n",
    "    return df"
   ]
  },
  {
   "cell_type": "code",
   "execution_count": 7,
   "metadata": {},
   "outputs": [],
   "source": [
    "def preprocess_normal_data(path):\n",
    "    df = spark.read.csv(path, inferSchema=True, header=True)\n",
    "    columns = df.columns\n",
    "    df_normal = df.filter(df['Diverted'] == 0)\n",
    "    features = select_features()\n",
    "    df_normal = clean_data(df_normal,features)\n",
    "\n",
    "    airports = spark.read.csv(\"airports.csv\", inferSchema=True, header=True)\n",
    "    df_normal = join_airports(df_normal,airports)\n",
    "    return df_normal"
   ]
  },
  {
   "cell_type": "code",
   "execution_count": 8,
   "metadata": {},
   "outputs": [
    {
     "name": "stderr",
     "output_type": "stream",
     "text": [
      "                                                                                \r"
     ]
    }
   ],
   "source": [
    "df_cleaned = preprocess_normal_data(\"data/On_Time_Reporting_Carrier_On_Time_Performance_(1987_present)_2013_12.csv\")\n"
   ]
  },
  {
   "cell_type": "code",
   "execution_count": 10,
   "metadata": {},
   "outputs": [
    {
     "name": "stderr",
     "output_type": "stream",
     "text": [
      "/opt/homebrew/lib/python3.10/site-packages/pyspark/sql/pandas/conversion.py:248: FutureWarning:\n",
      "\n",
      "Passing unit-less datetime64 dtype to .astype is deprecated and will raise in a future version. Pass 'datetime64[ns]' instead\n",
      "\n"
     ]
    }
   ],
   "source": [
    "# save df_cleaned in a single csv file\n",
    "df_cleaned.toPandas().to_csv(\"data/df_cleaned.csv\",index=False)"
   ]
  }
 ],
 "metadata": {
  "kernelspec": {
   "display_name": "Python 3.10.7 64-bit",
   "language": "python",
   "name": "python3"
  },
  "language_info": {
   "codemirror_mode": {
    "name": "ipython",
    "version": 3
   },
   "file_extension": ".py",
   "mimetype": "text/x-python",
   "name": "python",
   "nbconvert_exporter": "python",
   "pygments_lexer": "ipython3",
   "version": "3.10.7"
  },
  "orig_nbformat": 4,
  "vscode": {
   "interpreter": {
    "hash": "b0fa6594d8f4cbf19f97940f81e996739fb7646882a419484c72d19e05852a7e"
   }
  }
 },
 "nbformat": 4,
 "nbformat_minor": 2
}
