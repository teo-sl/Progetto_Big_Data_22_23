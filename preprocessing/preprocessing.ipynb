{
 "cells": [
  {
   "cell_type": "code",
   "execution_count": 118,
   "metadata": {},
   "outputs": [],
   "source": [
    "import plotly.express as px\n",
    "import pandas as pd\n",
    "import plotly.graph_objects as go\n",
    "import plotly.offline as py\n",
    "import numpy as np\n",
    "from pyspark.sql import SparkSession\n",
    "import pyspark.sql.functions as F"
   ]
  },
  {
   "cell_type": "code",
   "execution_count": 119,
   "metadata": {},
   "outputs": [],
   "source": [
    "spark = SparkSession.builder.appName('flights').getOrCreate()"
   ]
  },
  {
   "cell_type": "code",
   "execution_count": 120,
   "metadata": {},
   "outputs": [],
   "source": [
    "def count_null(df):\n",
    "    cols_check = df.columns\n",
    "    df.select(*[\n",
    "    (\n",
    "        F.count(F.when((F.isnan(c) | F.col(c).isNull()), c)) if t not in (\"timestamp\", \"date\")\n",
    "        else F.count(F.when(F.col(c).isNull(), c))\n",
    "    ).alias(c)\n",
    "    for c, t in df.dtypes if c in cols_check\n",
    "]).show()"
   ]
  },
  {
   "cell_type": "code",
   "execution_count": 121,
   "metadata": {},
   "outputs": [],
   "source": [
    "def select_features():\n",
    "    features = []\n",
    "    with open(\"features_analysis.txt\",\"r\") as f:\n",
    "        lines = f.readlines()\n",
    "        for line in lines:\n",
    "            line = line.strip()\n",
    "            if line==\"\":\n",
    "                continue\n",
    "            split = line.split()\n",
    "            feature = split[0].strip()\n",
    "            features.append(feature)\n",
    "    return features\n"
   ]
  },
  {
   "cell_type": "code",
   "execution_count": 122,
   "metadata": {},
   "outputs": [],
   "source": [
    "def clean_data(df,features):\n",
    "    df = df.select(features)\n",
    "    df = df.na.drop()\n",
    "    return df"
   ]
  },
  {
   "cell_type": "code",
   "execution_count": 123,
   "metadata": {},
   "outputs": [],
   "source": [
    "# CAMBIARE QUA IL NOME DELLO STATO ABBREVIATO CON QUELLO COMPLETO \n",
    "def join_airports(df,airports):\n",
    "    df = df.join(airports,df.Origin==airports.IATA)\n",
    "    df = df.withColumnRenamed(\"LATITUDE\",\"ORIGIN_LATITUDE\")\n",
    "    df = df.withColumnRenamed(\"LONGITUDE\",\"ORIGIN_LONGITUDE\")\n",
    "    df = df.withColumnRenamed(\"STATE\",\"ORIGIN_STATE\")\n",
    "    df = df.drop(\"IATA\",\"AIRPORT\",\"CITY\",\"COUNTRY\")\n",
    "    df = df.join(airports,df.Dest==airports.IATA)\n",
    "    df = df.withColumnRenamed(\"LATITUDE\",\"DEST_LATITUDE\")\n",
    "    df = df.withColumnRenamed(\"LONGITUDE\",\"DEST_LONGITUDE\")\n",
    "    df = df.withColumnRenamed(\"STATE\",\"DEST_STATE\")\n",
    "    df = df.drop(\"IATA\",\"AIRPORT\",\"CITY\",\"COUNTRY\")    \n",
    "    return df"
   ]
  },
  {
   "cell_type": "code",
   "execution_count": 124,
   "metadata": {},
   "outputs": [],
   "source": [
    "def join_states_names(df, usa_states_names):\n",
    "    df = df.join(df,df.DEST_STATE==usa_states_names.code)\n",
    "    df = df.withColumnRenamed(\"state\", \"DestState\")\n",
    "    df = df.drop(\"abbrev\", \"code\", \"DEST_STATE\")\n",
    "    return df"
   ]
  },
  {
   "cell_type": "code",
   "execution_count": 125,
   "metadata": {},
   "outputs": [],
   "source": [
    "# get all files with .csv extension\n",
    "import glob\n",
    "files = glob.glob(\"../data.nosync/*.csv\")"
   ]
  },
  {
   "cell_type": "code",
   "execution_count": 126,
   "metadata": {},
   "outputs": [
    {
     "name": "stderr",
     "output_type": "stream",
     "text": [
      "                                                                                \r"
     ]
    }
   ],
   "source": [
    "df_tmp = spark.read.csv(files[0],header=True,inferSchema=True)"
   ]
  },
  {
   "cell_type": "code",
   "execution_count": 127,
   "metadata": {},
   "outputs": [],
   "source": [
    "schema = df_tmp.schema"
   ]
  },
  {
   "cell_type": "code",
   "execution_count": 145,
   "metadata": {},
   "outputs": [],
   "source": [
    "from pyspark.sql.functions import date_format, col, concat_ws, to_date, unix_timestamp\n",
    "\n",
    "spark.conf.set(\"spark.sql.legacy.timeParserPolicy\", \"LEGACY\")\n",
    "\n",
    "def preprocess_normal_data(path):\n",
    "    df = spark.read.csv(path, schema=schema, header=True)\n",
    "    columns = df.columns\n",
    "    df_normal = df.filter(df['Diverted'] == 0)\n",
    "    features = select_features()\n",
    "    df_normal = clean_data(df_normal,features)\n",
    "    airports = spark.read.csv(\"airports.csv\", inferSchema=True, header=True)\n",
    "    df_normal = join_airports(df_normal,airports)\n",
    "    df_normal =  df_normal.withColumn(\"WeekofMonth\", concat_ws(\"-\", df_normal.Year, df_normal.Month, date_format(col(\"FlightDate\"), \"W\").cast(\"string\")))\n",
    "    df_normal = df_normal.withColumn(\"WeekofMonth\", to_date(unix_timestamp(col('WeekofMonth'), 'yyyy-MM-dd').cast(\"timestamp\")))\n",
    "    return df_normal"
   ]
  },
  {
   "cell_type": "code",
   "execution_count": 146,
   "metadata": {},
   "outputs": [],
   "source": [
    "df_cleaned = preprocess_normal_data(\"../data.nosync\")"
   ]
  },
  {
   "cell_type": "code",
   "execution_count": 134,
   "metadata": {},
   "outputs": [
    {
     "name": "stderr",
     "output_type": "stream",
     "text": [
      "                                                                                \r"
     ]
    },
    {
     "data": {
      "text/plain": [
       "6246739"
      ]
     },
     "execution_count": 134,
     "metadata": {},
     "output_type": "execute_result"
    }
   ],
   "source": [
    "df_cleaned.count()"
   ]
  },
  {
   "cell_type": "code",
   "execution_count": 147,
   "metadata": {},
   "outputs": [
    {
     "name": "stderr",
     "output_type": "stream",
     "text": [
      "                                                                                \r"
     ]
    }
   ],
   "source": [
    "# save the cleaned data\n",
    "df_cleaned.write.csv(\"../data.nosync/cleaned/cleaned_flights.csv\",header=True)"
   ]
  }
 ],
 "metadata": {
  "kernelspec": {
   "display_name": "Python 3",
   "language": "python",
   "name": "python3"
  },
  "language_info": {
   "codemirror_mode": {
    "name": "ipython",
    "version": 3
   },
   "file_extension": ".py",
   "mimetype": "text/x-python",
   "name": "python",
   "nbconvert_exporter": "python",
   "pygments_lexer": "ipython3",
   "version": "3.9.16"
  },
  "orig_nbformat": 4,
  "vscode": {
   "interpreter": {
    "hash": "a665b5d41d17b532ea9890333293a1b812fa0b73c9c25c950b3cedf1bebd0438"
   }
  }
 },
 "nbformat": 4,
 "nbformat_minor": 2
}
