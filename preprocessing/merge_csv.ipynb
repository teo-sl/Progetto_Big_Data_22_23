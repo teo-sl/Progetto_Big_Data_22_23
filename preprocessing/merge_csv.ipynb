{
 "cells": [
  {
   "cell_type": "code",
   "execution_count": 17,
   "metadata": {},
   "outputs": [],
   "source": [
    "from pyspark.sql import SparkSession\n",
    "\n",
    "spark = SparkSession.builder.appName('flights').getOrCreate()\n",
    "airports = spark.read.csv(\"../../csv_files/airports.csv\", inferSchema=True, header=True)\n",
    "us_states_names = spark.read.csv(\"../../csv_files/us_states_names.csv\", inferSchema=True, header=True)"
   ]
  },
  {
   "cell_type": "code",
   "execution_count": 18,
   "metadata": {},
   "outputs": [],
   "source": [
    "us_states_names = us_states_names.withColumnRenamed(\"state\", \"STATE_FULL_NAME\")"
   ]
  },
  {
   "cell_type": "code",
   "execution_count": 19,
   "metadata": {},
   "outputs": [
    {
     "name": "stdout",
     "output_type": "stream",
     "text": [
      "+--------------------+------+----+\n",
      "|     STATE_FULL_NAME|abbrev|code|\n",
      "+--------------------+------+----+\n",
      "|             Alabama|  Ala.|  AL|\n",
      "|              Alaska|Alaska|  AK|\n",
      "|             Arizona| Ariz.|  AZ|\n",
      "|            Arkansas|  Ark.|  AR|\n",
      "|          California|Calif.|  CA|\n",
      "|            Colorado| Colo.|  CO|\n",
      "|         Connecticut| Conn.|  CT|\n",
      "|            Delaware|  Del.|  DE|\n",
      "|District of Columbia|  D.C.|  DC|\n",
      "|             Florida|  Fla.|  FL|\n",
      "+--------------------+------+----+\n",
      "only showing top 10 rows\n",
      "\n"
     ]
    }
   ],
   "source": [
    "us_states_names.select(\"*\").show(10)"
   ]
  },
  {
   "cell_type": "code",
   "execution_count": 10,
   "metadata": {},
   "outputs": [
    {
     "ename": "AttributeError",
     "evalue": "'DataFrame' object has no attribute 'select'",
     "output_type": "error",
     "traceback": [
      "\u001b[0;31m---------------------------------------------------------------------------\u001b[0m",
      "\u001b[0;31mAttributeError\u001b[0m                            Traceback (most recent call last)",
      "\u001b[1;32m/Users/filippofolino/Desktop/Cose/Universita/Big Data/Progetto_Big_Data_22_23/code/preprocessing/merge_csv.ipynb Cella 2\u001b[0m in \u001b[0;36m<cell line: 1>\u001b[0;34m()\u001b[0m\n\u001b[0;32m----> <a href='vscode-notebook-cell:/Users/filippofolino/Desktop/Cose/Universita/Big%20Data/Progetto_Big_Data_22_23/code/preprocessing/merge_csv.ipynb#W5sZmlsZQ%3D%3D?line=0'>1</a>\u001b[0m us_states_names\u001b[39m.\u001b[39;49mselect(\u001b[39m\"\u001b[39m\u001b[39m*\u001b[39m\u001b[39m\"\u001b[39m)\u001b[39m.\u001b[39mshow(\u001b[39m10\u001b[39m)\n",
      "File \u001b[0;32m/opt/homebrew/lib/python3.9/site-packages/pandas/core/generic.py:5583\u001b[0m, in \u001b[0;36mNDFrame.__getattr__\u001b[0;34m(self, name)\u001b[0m\n\u001b[1;32m   5576\u001b[0m \u001b[39mif\u001b[39;00m (\n\u001b[1;32m   5577\u001b[0m     name \u001b[39mnot\u001b[39;00m \u001b[39min\u001b[39;00m \u001b[39mself\u001b[39m\u001b[39m.\u001b[39m_internal_names_set\n\u001b[1;32m   5578\u001b[0m     \u001b[39mand\u001b[39;00m name \u001b[39mnot\u001b[39;00m \u001b[39min\u001b[39;00m \u001b[39mself\u001b[39m\u001b[39m.\u001b[39m_metadata\n\u001b[1;32m   5579\u001b[0m     \u001b[39mand\u001b[39;00m name \u001b[39mnot\u001b[39;00m \u001b[39min\u001b[39;00m \u001b[39mself\u001b[39m\u001b[39m.\u001b[39m_accessors\n\u001b[1;32m   5580\u001b[0m     \u001b[39mand\u001b[39;00m \u001b[39mself\u001b[39m\u001b[39m.\u001b[39m_info_axis\u001b[39m.\u001b[39m_can_hold_identifiers_and_holds_name(name)\n\u001b[1;32m   5581\u001b[0m ):\n\u001b[1;32m   5582\u001b[0m     \u001b[39mreturn\u001b[39;00m \u001b[39mself\u001b[39m[name]\n\u001b[0;32m-> 5583\u001b[0m \u001b[39mreturn\u001b[39;00m \u001b[39mobject\u001b[39;49m\u001b[39m.\u001b[39;49m\u001b[39m__getattribute__\u001b[39;49m(\u001b[39mself\u001b[39;49m, name)\n",
      "\u001b[0;31mAttributeError\u001b[0m: 'DataFrame' object has no attribute 'select'"
     ]
    }
   ],
   "source": [
    "us_states_names.select(\"*\").show(10)"
   ]
  },
  {
   "cell_type": "code",
   "execution_count": 20,
   "metadata": {},
   "outputs": [
    {
     "name": "stdout",
     "output_type": "stream",
     "text": [
      "+----+--------------------+-------------+-----+-------+-----------+------------+---------------+------+----+\n",
      "|IATA|             AIRPORT|         CITY|STATE|COUNTRY|   LATITUDE|   LONGITUDE|STATE_FULL_NAME|abbrev|code|\n",
      "+----+--------------------+-------------+-----+-------+-----------+------------+---------------+------+----+\n",
      "| ABQ|Albuquerque Inter...|  Albuquerque|   NM|    USA|35.04022222|-106.6091944|     New Mexico|  N.M.|  NM|\n",
      "| ANC|Ted Stevens Ancho...|    Anchorage|   AK|    USA|61.17432028|-149.9961856|         Alaska|Alaska|  AK|\n",
      "| ATL|William B Hartsfi...|      Atlanta|   GA|    USA|33.64044444|-84.42694444|        Georgia|   Ga.|  GA|\n",
      "| AUS|Austin-Bergstrom ...|       Austin|   TX|    USA|30.19453278|-97.66987194|          Texas|  Tex.|  TX|\n",
      "| BDL|Bradley Internati...|Windsor Locks|   CT|    USA|41.93887417|-72.68322833|    Connecticut| Conn.|  CT|\n",
      "| BHM|Birmingham Intern...|   Birmingham|   AL|    USA|33.56294306|-86.75354972|        Alabama|  Ala.|  AL|\n",
      "| BNA|Nashville Interna...|    Nashville|   TN|    USA|36.12447667|-86.67818222|      Tennessee| Tenn.|  TN|\n",
      "| BOS|Gen Edw L Logan Intl|       Boston|   MA|    USA| 42.3643475|-71.00517917|  Massachusetts| Mass.|  MA|\n",
      "| BUF|Buffalo Niagara Intl|      Buffalo|   NY|    USA|42.94052472|-78.73216667|       New York|  N.Y.|  NY|\n",
      "| BUR|Burbank-Glendale-...|      Burbank|   CA|    USA|34.20061917|-118.3584969|     California|Calif.|  CA|\n",
      "+----+--------------------+-------------+-----+-------+-----------+------------+---------------+------+----+\n",
      "only showing top 10 rows\n",
      "\n"
     ]
    }
   ],
   "source": [
    "airports = airports.join(us_states_names,airports.STATE==us_states_names.code)\n",
    "airports.show(10)"
   ]
  },
  {
   "cell_type": "code",
   "execution_count": 21,
   "metadata": {},
   "outputs": [],
   "source": [
    "airports = airports.drop(\"abbrev\", \"code\")"
   ]
  },
  {
   "cell_type": "code",
   "execution_count": 22,
   "metadata": {},
   "outputs": [
    {
     "name": "stdout",
     "output_type": "stream",
     "text": [
      "+----+--------------------+-------------+-----+-------+-----------+------------+---------------+\n",
      "|IATA|             AIRPORT|         CITY|STATE|COUNTRY|   LATITUDE|   LONGITUDE|STATE_FULL_NAME|\n",
      "+----+--------------------+-------------+-----+-------+-----------+------------+---------------+\n",
      "| ABQ|Albuquerque Inter...|  Albuquerque|   NM|    USA|35.04022222|-106.6091944|     New Mexico|\n",
      "| ANC|Ted Stevens Ancho...|    Anchorage|   AK|    USA|61.17432028|-149.9961856|         Alaska|\n",
      "| ATL|William B Hartsfi...|      Atlanta|   GA|    USA|33.64044444|-84.42694444|        Georgia|\n",
      "| AUS|Austin-Bergstrom ...|       Austin|   TX|    USA|30.19453278|-97.66987194|          Texas|\n",
      "| BDL|Bradley Internati...|Windsor Locks|   CT|    USA|41.93887417|-72.68322833|    Connecticut|\n",
      "| BHM|Birmingham Intern...|   Birmingham|   AL|    USA|33.56294306|-86.75354972|        Alabama|\n",
      "| BNA|Nashville Interna...|    Nashville|   TN|    USA|36.12447667|-86.67818222|      Tennessee|\n",
      "| BOS|Gen Edw L Logan Intl|       Boston|   MA|    USA| 42.3643475|-71.00517917|  Massachusetts|\n",
      "| BUF|Buffalo Niagara Intl|      Buffalo|   NY|    USA|42.94052472|-78.73216667|       New York|\n",
      "| BUR|Burbank-Glendale-...|      Burbank|   CA|    USA|34.20061917|-118.3584969|     California|\n",
      "+----+--------------------+-------------+-----+-------+-----------+------------+---------------+\n",
      "only showing top 10 rows\n",
      "\n"
     ]
    }
   ],
   "source": [
    "airports.show(10)"
   ]
  },
  {
   "cell_type": "code",
   "execution_count": 23,
   "metadata": {},
   "outputs": [],
   "source": [
    "airports_pd = airports.toPandas()\n",
    "airports_pd.to_csv(\"../../csv_files/airports_merged.csv\")"
   ]
  }
 ],
 "metadata": {
  "kernelspec": {
   "display_name": "Python 3",
   "language": "python",
   "name": "python3"
  },
  "language_info": {
   "codemirror_mode": {
    "name": "ipython",
    "version": 3
   },
   "file_extension": ".py",
   "mimetype": "text/x-python",
   "name": "python",
   "nbconvert_exporter": "python",
   "pygments_lexer": "ipython3",
   "version": "3.9.16 (main, Dec  7 2022, 10:06:04) \n[Clang 14.0.0 (clang-1400.0.29.202)]"
  },
  "orig_nbformat": 4,
  "vscode": {
   "interpreter": {
    "hash": "a665b5d41d17b532ea9890333293a1b812fa0b73c9c25c950b3cedf1bebd0438"
   }
  }
 },
 "nbformat": 4,
 "nbformat_minor": 2
}
