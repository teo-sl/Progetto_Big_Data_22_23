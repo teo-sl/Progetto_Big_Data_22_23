{
 "cells": [
  {
   "cell_type": "code",
   "execution_count": 1,
   "metadata": {},
   "outputs": [],
   "source": [
    "import plotly.express as px\n",
    "import plotly.graph_objs as go\n",
    "import pandas as pd\n",
    "import numpy as np\n",
    "from pyspark.sql import SparkSession\n",
    "from pyspark.sql.functions import *\n",
    "from plotly.subplots import make_subplots\n",
    "import plotly.offline as py\n"
   ]
  },
  {
   "cell_type": "code",
   "execution_count": 2,
   "metadata": {},
   "outputs": [
    {
     "name": "stdout",
     "output_type": "stream",
     "text": [
      "22/12/24 18:08:07 WARN Utils: Your hostname, MacBook-Air-di-Teodoro.local resolves to a loopback address: 127.0.0.1; using 192.168.69.184 instead (on interface en0)\n",
      "22/12/24 18:08:07 WARN Utils: Set SPARK_LOCAL_IP if you need to bind to another address\n"
     ]
    },
    {
     "name": "stderr",
     "output_type": "stream",
     "text": [
      "Setting default log level to \"WARN\".\n",
      "To adjust logging level use sc.setLogLevel(newLevel). For SparkR, use setLogLevel(newLevel).\n"
     ]
    },
    {
     "name": "stdout",
     "output_type": "stream",
     "text": [
      "22/12/24 18:08:07 WARN NativeCodeLoader: Unable to load native-hadoop library for your platform... using builtin-java classes where applicable\n"
     ]
    }
   ],
   "source": [
    "# create saprk session\n",
    "spark = SparkSession.builder.appName(\"flights\").getOrCreate()"
   ]
  },
  {
   "cell_type": "code",
   "execution_count": 3,
   "metadata": {},
   "outputs": [],
   "source": [
    "# load schema from json\n",
    "import json\n",
    "from pyspark.sql.types import StructType, StructField, StringType, IntegerType, DoubleType, DateType, TimestampType\n",
    "with open(\"schema.json\",\"r\") as f:\n",
    "    schema = StructType.fromJson(json.load(f))"
   ]
  },
  {
   "cell_type": "code",
   "execution_count": 4,
   "metadata": {},
   "outputs": [],
   "source": [
    "# load csv file\n",
    "df = spark.read.csv(\"../../data.nosync/cleaned/cleaned_flights.csv\",schema=schema, header=True)"
   ]
  },
  {
   "cell_type": "code",
   "execution_count": 5,
   "metadata": {},
   "outputs": [],
   "source": [
    "airports_sp = spark.read.csv(\"../../preprocessing/airports.csv\", header=True,inferSchema=True)\n",
    "airports = airports_sp.toPandas()"
   ]
  },
  {
   "cell_type": "code",
   "execution_count": 6,
   "metadata": {},
   "outputs": [],
   "source": [
    "airlines=pd.read_csv(\"./airlines.csv\")"
   ]
  },
  {
   "cell_type": "code",
   "execution_count": null,
   "metadata": {},
   "outputs": [],
   "source": [
    "# MATRIX\n",
    "\n",
    "def week_day_month_agg(df):\n",
    "    df_aggregated = df.groupBy(\"DayOfWeek\", \"Month\").agg({\"ArrDelay\": \"avg\"}).withColumnRenamed(\"avg(ArrDelay)\", \"AverageArrivalDelay\")\n",
    "    return df_aggregated\n",
    "def week_day_matrix_avg_delay(df):\n",
    "    df_pd = week_day_month_agg(df).toPandas()\n",
    "    fig = px.imshow(\n",
    "        df_pd.pivot(\"DayOfWeek\", \"Month\", \"AverageArrivalDelay\"), \n",
    "        labels=dict(x=\"Month\", y=\"DayOfWeek\", color=\"Average Arrival Delay\"), \n",
    "        x=[\"Jan\", \"Feb\", \"Mar\", \"Apr\", \"May\", \"Jun\", \"Jul\", \"Aug\", \"Sep\", \"Oct\", \"Nov\", \"Dec\"], \n",
    "        y=[\"Mon\", \"Tue\", \"Wed\", \"Thu\", \"Fri\", \"Sat\", \"Sun\"]\n",
    "    )\n",
    "    # add title \"Average delay by day of week and month\"\n",
    "    fig.update_layout(title=\"Average delay by day of week and month\")\n",
    "    return fig\n",
    "\n",
    "fig = week_day_matrix_avg_delay(df)\n",
    "fig.show()\n"
   ]
  },
  {
   "cell_type": "code",
   "execution_count": null,
   "metadata": {},
   "outputs": [],
   "source": [
    "def week_day_month_agg_count(df):\n",
    "    # group by mongh day of week and count\n",
    "    df_aggregated = df.groupBy(\"DayOfWeek\", \"Month\").count().withColumnRenamed(\"count\", \"num_flights\")\n",
    "    return df_aggregated\n",
    "def week_day_matrix_count(df):\n",
    "    df_pd = week_day_month_agg_count(df).toPandas()\n",
    "    fig = px.imshow(\n",
    "        df_pd.pivot(\"DayOfWeek\", \"Month\", \"num_flights\"), \n",
    "        labels=dict(x=\"Month\", y=\"DayOfWeek\", color=\"num_flights\"), \n",
    "        x=[\"Jan\", \"Feb\", \"Mar\", \"Apr\", \"May\", \"Jun\", \"Jul\", \"Aug\", \"Sep\", \"Oct\", \"Nov\", \"Dec\"], \n",
    "        y=[\"Mon\", \"Tue\", \"Wed\", \"Thu\", \"Fri\", \"Sat\", \"Sun\"]\n",
    "    )\n",
    "\n",
    "    # add title text \"Number of flights per day of week and month\"\n",
    "    fig.update_layout(title_text=\"Number of flights per day of week and month\")\n",
    "    \n",
    "    return fig\n",
    "\n",
    "\n",
    "\n",
    "fig = week_day_matrix_count(df)\n",
    "fig.show()"
   ]
  },
  {
   "cell_type": "code",
   "execution_count": 11,
   "metadata": {},
   "outputs": [
    {
     "name": "stderr",
     "output_type": "stream",
     "text": [
      "                                                                                \r"
     ]
    },
    {
     "data": {
      "application/vnd.plotly.v1+json": {
       "config": {
        "plotlyServerURL": "https://plot.ly"
       },
       "data": [
        {
         "domain": {
          "x": [
           0,
           1
          ],
          "y": [
           0,
           1
          ]
         },
         "hovertemplate": "Origin-Dest=%{label}<br>count=%{value}<extra></extra>",
         "labels": [
          "CA-CA",
          "TX-TX",
          "HI-HI",
          "GA-FL",
          "FL-GA",
          "AZ-CA",
          "CA-AZ",
          "TX-CA",
          "CA-TX",
          "NY-FL",
          "FL-NY",
          "CA-NV",
          "NV-CA",
          "TX-FL",
          "FL-TX",
          "CO-CA",
          "CA-CO",
          "WA-CA",
          "CA-WA",
          "LA-TX"
         ],
         "legendgroup": "",
         "name": "",
         "showlegend": true,
         "type": "pie",
         "values": [
          267479,
          228116,
          72891,
          62207,
          62148,
          59988,
          59596,
          57496,
          57070,
          54407,
          54348,
          50341,
          49939,
          40785,
          40657,
          38005,
          37809,
          35529,
          35430,
          32725
         ]
        }
       ],
       "layout": {
        "legend": {
         "tracegroupgap": 0
        },
        "template": {
         "data": {
          "bar": [
           {
            "error_x": {
             "color": "#2a3f5f"
            },
            "error_y": {
             "color": "#2a3f5f"
            },
            "marker": {
             "line": {
              "color": "#E5ECF6",
              "width": 0.5
             },
             "pattern": {
              "fillmode": "overlay",
              "size": 10,
              "solidity": 0.2
             }
            },
            "type": "bar"
           }
          ],
          "barpolar": [
           {
            "marker": {
             "line": {
              "color": "#E5ECF6",
              "width": 0.5
             },
             "pattern": {
              "fillmode": "overlay",
              "size": 10,
              "solidity": 0.2
             }
            },
            "type": "barpolar"
           }
          ],
          "carpet": [
           {
            "aaxis": {
             "endlinecolor": "#2a3f5f",
             "gridcolor": "white",
             "linecolor": "white",
             "minorgridcolor": "white",
             "startlinecolor": "#2a3f5f"
            },
            "baxis": {
             "endlinecolor": "#2a3f5f",
             "gridcolor": "white",
             "linecolor": "white",
             "minorgridcolor": "white",
             "startlinecolor": "#2a3f5f"
            },
            "type": "carpet"
           }
          ],
          "choropleth": [
           {
            "colorbar": {
             "outlinewidth": 0,
             "ticks": ""
            },
            "type": "choropleth"
           }
          ],
          "contour": [
           {
            "colorbar": {
             "outlinewidth": 0,
             "ticks": ""
            },
            "colorscale": [
             [
              0,
              "#0d0887"
             ],
             [
              0.1111111111111111,
              "#46039f"
             ],
             [
              0.2222222222222222,
              "#7201a8"
             ],
             [
              0.3333333333333333,
              "#9c179e"
             ],
             [
              0.4444444444444444,
              "#bd3786"
             ],
             [
              0.5555555555555556,
              "#d8576b"
             ],
             [
              0.6666666666666666,
              "#ed7953"
             ],
             [
              0.7777777777777778,
              "#fb9f3a"
             ],
             [
              0.8888888888888888,
              "#fdca26"
             ],
             [
              1,
              "#f0f921"
             ]
            ],
            "type": "contour"
           }
          ],
          "contourcarpet": [
           {
            "colorbar": {
             "outlinewidth": 0,
             "ticks": ""
            },
            "type": "contourcarpet"
           }
          ],
          "heatmap": [
           {
            "colorbar": {
             "outlinewidth": 0,
             "ticks": ""
            },
            "colorscale": [
             [
              0,
              "#0d0887"
             ],
             [
              0.1111111111111111,
              "#46039f"
             ],
             [
              0.2222222222222222,
              "#7201a8"
             ],
             [
              0.3333333333333333,
              "#9c179e"
             ],
             [
              0.4444444444444444,
              "#bd3786"
             ],
             [
              0.5555555555555556,
              "#d8576b"
             ],
             [
              0.6666666666666666,
              "#ed7953"
             ],
             [
              0.7777777777777778,
              "#fb9f3a"
             ],
             [
              0.8888888888888888,
              "#fdca26"
             ],
             [
              1,
              "#f0f921"
             ]
            ],
            "type": "heatmap"
           }
          ],
          "heatmapgl": [
           {
            "colorbar": {
             "outlinewidth": 0,
             "ticks": ""
            },
            "colorscale": [
             [
              0,
              "#0d0887"
             ],
             [
              0.1111111111111111,
              "#46039f"
             ],
             [
              0.2222222222222222,
              "#7201a8"
             ],
             [
              0.3333333333333333,
              "#9c179e"
             ],
             [
              0.4444444444444444,
              "#bd3786"
             ],
             [
              0.5555555555555556,
              "#d8576b"
             ],
             [
              0.6666666666666666,
              "#ed7953"
             ],
             [
              0.7777777777777778,
              "#fb9f3a"
             ],
             [
              0.8888888888888888,
              "#fdca26"
             ],
             [
              1,
              "#f0f921"
             ]
            ],
            "type": "heatmapgl"
           }
          ],
          "histogram": [
           {
            "marker": {
             "pattern": {
              "fillmode": "overlay",
              "size": 10,
              "solidity": 0.2
             }
            },
            "type": "histogram"
           }
          ],
          "histogram2d": [
           {
            "colorbar": {
             "outlinewidth": 0,
             "ticks": ""
            },
            "colorscale": [
             [
              0,
              "#0d0887"
             ],
             [
              0.1111111111111111,
              "#46039f"
             ],
             [
              0.2222222222222222,
              "#7201a8"
             ],
             [
              0.3333333333333333,
              "#9c179e"
             ],
             [
              0.4444444444444444,
              "#bd3786"
             ],
             [
              0.5555555555555556,
              "#d8576b"
             ],
             [
              0.6666666666666666,
              "#ed7953"
             ],
             [
              0.7777777777777778,
              "#fb9f3a"
             ],
             [
              0.8888888888888888,
              "#fdca26"
             ],
             [
              1,
              "#f0f921"
             ]
            ],
            "type": "histogram2d"
           }
          ],
          "histogram2dcontour": [
           {
            "colorbar": {
             "outlinewidth": 0,
             "ticks": ""
            },
            "colorscale": [
             [
              0,
              "#0d0887"
             ],
             [
              0.1111111111111111,
              "#46039f"
             ],
             [
              0.2222222222222222,
              "#7201a8"
             ],
             [
              0.3333333333333333,
              "#9c179e"
             ],
             [
              0.4444444444444444,
              "#bd3786"
             ],
             [
              0.5555555555555556,
              "#d8576b"
             ],
             [
              0.6666666666666666,
              "#ed7953"
             ],
             [
              0.7777777777777778,
              "#fb9f3a"
             ],
             [
              0.8888888888888888,
              "#fdca26"
             ],
             [
              1,
              "#f0f921"
             ]
            ],
            "type": "histogram2dcontour"
           }
          ],
          "mesh3d": [
           {
            "colorbar": {
             "outlinewidth": 0,
             "ticks": ""
            },
            "type": "mesh3d"
           }
          ],
          "parcoords": [
           {
            "line": {
             "colorbar": {
              "outlinewidth": 0,
              "ticks": ""
             }
            },
            "type": "parcoords"
           }
          ],
          "pie": [
           {
            "automargin": true,
            "type": "pie"
           }
          ],
          "scatter": [
           {
            "fillpattern": {
             "fillmode": "overlay",
             "size": 10,
             "solidity": 0.2
            },
            "type": "scatter"
           }
          ],
          "scatter3d": [
           {
            "line": {
             "colorbar": {
              "outlinewidth": 0,
              "ticks": ""
             }
            },
            "marker": {
             "colorbar": {
              "outlinewidth": 0,
              "ticks": ""
             }
            },
            "type": "scatter3d"
           }
          ],
          "scattercarpet": [
           {
            "marker": {
             "colorbar": {
              "outlinewidth": 0,
              "ticks": ""
             }
            },
            "type": "scattercarpet"
           }
          ],
          "scattergeo": [
           {
            "marker": {
             "colorbar": {
              "outlinewidth": 0,
              "ticks": ""
             }
            },
            "type": "scattergeo"
           }
          ],
          "scattergl": [
           {
            "marker": {
             "colorbar": {
              "outlinewidth": 0,
              "ticks": ""
             }
            },
            "type": "scattergl"
           }
          ],
          "scattermapbox": [
           {
            "marker": {
             "colorbar": {
              "outlinewidth": 0,
              "ticks": ""
             }
            },
            "type": "scattermapbox"
           }
          ],
          "scatterpolar": [
           {
            "marker": {
             "colorbar": {
              "outlinewidth": 0,
              "ticks": ""
             }
            },
            "type": "scatterpolar"
           }
          ],
          "scatterpolargl": [
           {
            "marker": {
             "colorbar": {
              "outlinewidth": 0,
              "ticks": ""
             }
            },
            "type": "scatterpolargl"
           }
          ],
          "scatterternary": [
           {
            "marker": {
             "colorbar": {
              "outlinewidth": 0,
              "ticks": ""
             }
            },
            "type": "scatterternary"
           }
          ],
          "surface": [
           {
            "colorbar": {
             "outlinewidth": 0,
             "ticks": ""
            },
            "colorscale": [
             [
              0,
              "#0d0887"
             ],
             [
              0.1111111111111111,
              "#46039f"
             ],
             [
              0.2222222222222222,
              "#7201a8"
             ],
             [
              0.3333333333333333,
              "#9c179e"
             ],
             [
              0.4444444444444444,
              "#bd3786"
             ],
             [
              0.5555555555555556,
              "#d8576b"
             ],
             [
              0.6666666666666666,
              "#ed7953"
             ],
             [
              0.7777777777777778,
              "#fb9f3a"
             ],
             [
              0.8888888888888888,
              "#fdca26"
             ],
             [
              1,
              "#f0f921"
             ]
            ],
            "type": "surface"
           }
          ],
          "table": [
           {
            "cells": {
             "fill": {
              "color": "#EBF0F8"
             },
             "line": {
              "color": "white"
             }
            },
            "header": {
             "fill": {
              "color": "#C8D4E3"
             },
             "line": {
              "color": "white"
             }
            },
            "type": "table"
           }
          ]
         },
         "layout": {
          "annotationdefaults": {
           "arrowcolor": "#2a3f5f",
           "arrowhead": 0,
           "arrowwidth": 1
          },
          "autotypenumbers": "strict",
          "coloraxis": {
           "colorbar": {
            "outlinewidth": 0,
            "ticks": ""
           }
          },
          "colorscale": {
           "diverging": [
            [
             0,
             "#8e0152"
            ],
            [
             0.1,
             "#c51b7d"
            ],
            [
             0.2,
             "#de77ae"
            ],
            [
             0.3,
             "#f1b6da"
            ],
            [
             0.4,
             "#fde0ef"
            ],
            [
             0.5,
             "#f7f7f7"
            ],
            [
             0.6,
             "#e6f5d0"
            ],
            [
             0.7,
             "#b8e186"
            ],
            [
             0.8,
             "#7fbc41"
            ],
            [
             0.9,
             "#4d9221"
            ],
            [
             1,
             "#276419"
            ]
           ],
           "sequential": [
            [
             0,
             "#0d0887"
            ],
            [
             0.1111111111111111,
             "#46039f"
            ],
            [
             0.2222222222222222,
             "#7201a8"
            ],
            [
             0.3333333333333333,
             "#9c179e"
            ],
            [
             0.4444444444444444,
             "#bd3786"
            ],
            [
             0.5555555555555556,
             "#d8576b"
            ],
            [
             0.6666666666666666,
             "#ed7953"
            ],
            [
             0.7777777777777778,
             "#fb9f3a"
            ],
            [
             0.8888888888888888,
             "#fdca26"
            ],
            [
             1,
             "#f0f921"
            ]
           ],
           "sequentialminus": [
            [
             0,
             "#0d0887"
            ],
            [
             0.1111111111111111,
             "#46039f"
            ],
            [
             0.2222222222222222,
             "#7201a8"
            ],
            [
             0.3333333333333333,
             "#9c179e"
            ],
            [
             0.4444444444444444,
             "#bd3786"
            ],
            [
             0.5555555555555556,
             "#d8576b"
            ],
            [
             0.6666666666666666,
             "#ed7953"
            ],
            [
             0.7777777777777778,
             "#fb9f3a"
            ],
            [
             0.8888888888888888,
             "#fdca26"
            ],
            [
             1,
             "#f0f921"
            ]
           ]
          },
          "colorway": [
           "#636efa",
           "#EF553B",
           "#00cc96",
           "#ab63fa",
           "#FFA15A",
           "#19d3f3",
           "#FF6692",
           "#B6E880",
           "#FF97FF",
           "#FECB52"
          ],
          "font": {
           "color": "#2a3f5f"
          },
          "geo": {
           "bgcolor": "white",
           "lakecolor": "white",
           "landcolor": "#E5ECF6",
           "showlakes": true,
           "showland": true,
           "subunitcolor": "white"
          },
          "hoverlabel": {
           "align": "left"
          },
          "hovermode": "closest",
          "mapbox": {
           "style": "light"
          },
          "paper_bgcolor": "white",
          "plot_bgcolor": "#E5ECF6",
          "polar": {
           "angularaxis": {
            "gridcolor": "white",
            "linecolor": "white",
            "ticks": ""
           },
           "bgcolor": "#E5ECF6",
           "radialaxis": {
            "gridcolor": "white",
            "linecolor": "white",
            "ticks": ""
           }
          },
          "scene": {
           "xaxis": {
            "backgroundcolor": "#E5ECF6",
            "gridcolor": "white",
            "gridwidth": 2,
            "linecolor": "white",
            "showbackground": true,
            "ticks": "",
            "zerolinecolor": "white"
           },
           "yaxis": {
            "backgroundcolor": "#E5ECF6",
            "gridcolor": "white",
            "gridwidth": 2,
            "linecolor": "white",
            "showbackground": true,
            "ticks": "",
            "zerolinecolor": "white"
           },
           "zaxis": {
            "backgroundcolor": "#E5ECF6",
            "gridcolor": "white",
            "gridwidth": 2,
            "linecolor": "white",
            "showbackground": true,
            "ticks": "",
            "zerolinecolor": "white"
           }
          },
          "shapedefaults": {
           "line": {
            "color": "#2a3f5f"
           }
          },
          "ternary": {
           "aaxis": {
            "gridcolor": "white",
            "linecolor": "white",
            "ticks": ""
           },
           "baxis": {
            "gridcolor": "white",
            "linecolor": "white",
            "ticks": ""
           },
           "bgcolor": "#E5ECF6",
           "caxis": {
            "gridcolor": "white",
            "linecolor": "white",
            "ticks": ""
           }
          },
          "title": {
           "x": 0.05
          },
          "xaxis": {
           "automargin": true,
           "gridcolor": "white",
           "linecolor": "white",
           "ticks": "",
           "title": {
            "standoff": 15
           },
           "zerolinecolor": "white",
           "zerolinewidth": 2
          },
          "yaxis": {
           "automargin": true,
           "gridcolor": "white",
           "linecolor": "white",
           "ticks": "",
           "title": {
            "standoff": 15
           },
           "zerolinecolor": "white",
           "zerolinewidth": 2
          }
         }
        },
        "title": {
         "text": "Number of flights by Origin-Dest"
        }
       }
      }
     },
     "metadata": {},
     "output_type": "display_data"
    }
   ],
   "source": [
    "# aggregate by Origin and Dest and month, and count the number of flights\n",
    "def flights_by_month(df):\n",
    "\n",
    "    df_aggregated = df.groupBy(\"ORIGIN_STATE\", \"DEST_STATE\").count()\n",
    "    # create a new column as Orgigin and Dest concatenated using a dash\n",
    "    df_aggregated = df_aggregated.withColumn(\"Origin-Dest\", concat(col(\"ORIGIN_STATE\"), lit(\"-\"), col(\"DEST_STATE\")))\n",
    "    # drop the columns Origin and Dest\n",
    "    df_aggregated = df_aggregated.drop(\"Origin\", \"Dest\")\n",
    "    # order by Origin-Dest\n",
    "    df_aggregated = df_aggregated.orderBy(\"count\",ascending=False)\n",
    "    \n",
    "    return df_aggregated\n",
    "\n",
    "# visualize flights as pie chart\n",
    "def flights_by_month_pie(df):\n",
    "    df_pd = flights_by_month(df).toPandas()\n",
    "    fig = px.pie(df_pd.head(20), values='count', names='Origin-Dest', title='Number of flights by Origin-Dest')\n",
    "    return fig\n",
    "# visualized flights as bar chart, onlyt show the top 20\n",
    "def flights_by_month_bar(df):\n",
    "    df_pd = flights_by_month(df).toPandas()\n",
    "    fig = px.bar(df_pd.head(20), x=\"Origin-Dest\", y=\"count\", title=\"Number of flights by Origin-Dest\")\n",
    "    return fig\n",
    "    \n",
    "flights_by_month_pie(df).show()\n"
   ]
  },
  {
   "cell_type": "code",
   "execution_count": null,
   "metadata": {},
   "outputs": [],
   "source": [
    "# num flights by day\n",
    "def flights_by_day(df):\n",
    "    df_aggregated = df.groupBy(\"FlightDate\",\"DayOfWeek\").count()\n",
    "    df_aggregated = df_aggregated.orderBy(\"FlightDate\", ascending=True)\n",
    "    # convert DayOfWeek to string with the corresponding day\n",
    "    df_aggregated = df_aggregated.withColumn(\"DayOfWeek\", when(col(\"DayOfWeek\") == 1, \"Monday\").when(col(\"DayOfWeek\") == 2, \"Tuesday\").when(col(\"DayOfWeek\") == 3, \"Wednesday\").when(col(\"DayOfWeek\") == 4, \"Thursday\").when(col(\"DayOfWeek\") == 5, \"Friday\").when(col(\"DayOfWeek\") == 6, \"Saturday\").when(col(\"DayOfWeek\") == 7, \"Sunday\"))\n",
    "    return df_aggregated\n",
    "\n",
    "# visualized flights as line chart\n",
    "def flights_by_day_line(df):\n",
    "    df_pd = flights_by_day(df).toPandas()\n",
    "    fig = px.line(df_pd, x=\"FlightDate\", y=\"count\", title=\"Number of flights by day\",hover_data=[\"DayOfWeek\",\"FlightDate\",\"count\"])\n",
    "    return fig\n",
    "\n",
    "\n",
    "flights_by_day_line(df).show()"
   ]
  },
  {
   "cell_type": "code",
   "execution_count": null,
   "metadata": {},
   "outputs": [],
   "source": [
    "# average delay by day\n",
    "def avg_delay_by_day(df):\n",
    "    df_aggregated = df.groupBy(\"FlightDate\",\"DayOfWeek\").agg({\"ArrDelay\": \"avg\"}).withColumnRenamed(\"avg(ArrDelay)\", \"AverageArrivalDelay\")\n",
    "    df_aggregated = df_aggregated.orderBy(\"FlightDate\", ascending=True)\n",
    "    # convert DayOfWeek to string with the corresponding day\n",
    "    df_aggregated = df_aggregated.withColumn(\"DayOfWeek\", when(col(\"DayOfWeek\") == 1, \"Monday\").when(col(\"DayOfWeek\") == 2, \"Tuesday\").when(col(\"DayOfWeek\") == 3, \"Wednesday\").when(col(\"DayOfWeek\") == 4, \"Thursday\").when(col(\"DayOfWeek\") == 5, \"Friday\").when(col(\"DayOfWeek\") == 6, \"Saturday\").when(col(\"DayOfWeek\") == 7, \"Sunday\"))\n",
    "    return df_aggregated\n",
    "\n",
    "# visualized flights as line chart\n",
    "def avg_delay_by_day_line(df):\n",
    "    df_pd = avg_delay_by_day(df).toPandas()\n",
    "    fig = px.line(df_pd, x=\"FlightDate\", y=\"AverageArrivalDelay\", title=\"Average Arrival Delay by day\",hover_data=[\"DayOfWeek\",\"FlightDate\",\"AverageArrivalDelay\"])\n",
    "    return fig\n",
    "\n",
    "avg_delay_by_day_line(df)"
   ]
  },
  {
   "cell_type": "code",
   "execution_count": null,
   "metadata": {},
   "outputs": [],
   "source": [
    "def avg_num_line(df):\n",
    "    df_num = flights_by_day(df).toPandas()\n",
    "    df_avg = avg_delay_by_day(df).toPandas()\n",
    "\n",
    "    # plot the two lines in the same figure, use to different y axes\n",
    "    fig = make_subplots(specs=[[{\"secondary_y\": True}]])\n",
    "\n",
    "    # Add traces\n",
    "    fig.add_trace(\n",
    "        go.Scatter(x=df_num[\"FlightDate\"] , y=df_num[\"count\"], name=\"num flights\"),\n",
    "        secondary_y=False,\n",
    "    )\n",
    "\n",
    "    fig.add_trace(\n",
    "        go.Scatter(x=df_avg[\"FlightDate\"], y=df_avg[\"AverageArrivalDelay\"], name=\"avg delay\"),\n",
    "        secondary_y=True,\n",
    "    )\n",
    "\n",
    "    # Add figure title\n",
    "    fig.update_layout(\n",
    "        title_text=\"Number of flights and average delay by day\"\n",
    "    )\n",
    "\n",
    "    # Set x-axis title\n",
    "    fig.update_xaxes(title_text=\"Day of the year\")\n",
    "\n",
    "    # Set y-axes titles\n",
    "    fig.update_yaxes(title_text=\"Number of flights\", secondary_y=False)\n",
    "    fig.update_yaxes(title_text=\"Average delay in minutes\", secondary_y=True)\n",
    "\n",
    "\n",
    "    return fig\n",
    "\n",
    "\n",
    "avg_num_line(df)\n",
    "    "
   ]
  },
  {
   "cell_type": "code",
   "execution_count": null,
   "metadata": {},
   "outputs": [],
   "source": [
    "# get all distinct FlightDate\n",
    "df_dates = df.select(\"FlightDate\").distinct().orderBy(\"FlightDate\", ascending=True)\n",
    "df_dates = df_dates.toPandas()"
   ]
  },
  {
   "cell_type": "code",
   "execution_count": null,
   "metadata": {},
   "outputs": [],
   "source": [
    "def route_between_airports(df,date_start,date_end,origin=\"BOS\",dest=\"None\"):\n",
    "    if dest == \"None\":\n",
    "        df_aggregated = df.filter((col(\"Origin\") == origin))\n",
    "    else:\n",
    "        df_aggregated = df.filter((col(\"Origin\") == origin) & (col(\"Dest\") == dest))\n",
    "\n",
    "    \n",
    "    \n",
    "    # aggregate by flight date, day of weew, Origin and Dest, count the number of flights and average the arrival delay\n",
    "    df_aggregated = df_aggregated.groupBy(\"FlightDate\",\"DayOfWeek\",\"Origin\",\"Dest\",\"ORIGIN_LATITUDE\",\"ORIGIN_LONGITUDE\",\"DEST_LATITUDE\",\"DEST_LONGITUDE\").agg({\"ArrDelay\": \"avg\",\"*\":\"count\"}).withColumnRenamed(\"avg(ArrDelay)\", \"AverageArrivalDelay\").withColumnRenamed(\"count(1)\", \"NumFlights\")\n",
    "    df_aggregated = df_aggregated.orderBy(\"FlightDate\", ascending=True)\n",
    "    # filter by date_start and date_end\n",
    "    df_aggregated = df_aggregated.filter((col(\"FlightDate\") >= date_start) & (col(\"FlightDate\") <= date_end))\n",
    "    # convert DayOfWeek to string with the corresponding day\n",
    "    df_aggregated = df_aggregated.withColumn(\"DayOfWeek\", when(col(\"DayOfWeek\") == 1, \"Monday\").when(col(\"DayOfWeek\") == 2, \"Tuesday\").when(col(\"DayOfWeek\") == 3, \"Wednesday\").when(col(\"DayOfWeek\") == 4, \"Thursday\").when(col(\"DayOfWeek\") == 5, \"Friday\").when(col(\"DayOfWeek\") == 6, \"Saturday\").when(col(\"DayOfWeek\") == 7, \"Sunday\"))\n",
    "    return df_aggregated\n",
    "\n",
    "\n",
    "def plot_map_routes(df,date_start,date_end,origin=\"BOS\",dest=\"None\"):\n",
    "    df_flight_paths = route_between_airports(df,date_start,date_end,origin,dest).toPandas()\n",
    "\n",
    "    fig = go.Figure()\n",
    "\n",
    "\n",
    "    flight_paths = []\n",
    "    for i in range(len(df_flight_paths)):\n",
    "        fig.add_trace(\n",
    "            go.Scattergeo(\n",
    "                locationmode = 'USA-states',\n",
    "                lon = [df_flight_paths['ORIGIN_LONGITUDE'][i], df_flight_paths['DEST_LONGITUDE'][i]],\n",
    "                lat = [df_flight_paths['ORIGIN_LATITUDE'][i], df_flight_paths['DEST_LATITUDE'][i]],\n",
    "                mode = 'lines',\n",
    "                line = dict(\n",
    "                    width = 1,\n",
    "                    color = 'blue'\n",
    "                ),\n",
    "            \n",
    "            )\n",
    "        )\n",
    "\n",
    "    # for each airport count the number of rows in df_flight_paths with that airport as destination\n",
    "    sizes = []\n",
    "    for airport_code in airports[\"IATA\"]:\n",
    "        # count the rows with airport_code as destination\n",
    "        count = len(df_flight_paths[df_flight_paths[\"Dest\"] == airport_code])+1\n",
    "        sizes.append(count)\n",
    "    \n",
    "    fig.add_trace(go.Scattergeo(\n",
    "        locationmode = 'USA-states',\n",
    "        lon = airports['LONGITUDE'],\n",
    "        lat = airports['LATITUDE'],\n",
    "        hoverinfo = 'text',\n",
    "        text = airports['AIRPORT']+\", \"+airports['CITY']+\", \"+airports['STATE']+\", \"+airports['COUNTRY'],\n",
    "        mode = 'markers',\n",
    "        marker = dict(\n",
    "            size = sizes,\n",
    "            color = 'rgb(255, 0, 0)',\n",
    "            line = dict(\n",
    "                width = 3,\n",
    "                color = 'rgba(68, 68, 68, 0)'\n",
    "            )\n",
    "        )))\n",
    "\n",
    "    \n",
    "\n",
    "    fig.update_layout(\n",
    "        title_text = \"Flights' route\",\n",
    "        showlegend = False,\n",
    "        geo = dict(\n",
    "            scope = 'north america',\n",
    "            projection_type = 'azimuthal equal area',\n",
    "            showland = True,\n",
    "            landcolor = 'rgb(243, 243, 243)',\n",
    "            countrycolor = 'rgb(204, 204, 204)',\n",
    "        ),\n",
    "    )\n",
    "    # make the figure bigger\n",
    "    fig.update_layout(height=800, width=800)\n",
    "\n",
    "    return fig\n",
    "\n",
    "plot_map_routes(df,df_dates[\"FlightDate\"][10],df_dates[\"FlightDate\"][15],\"ABQ\").show()"
   ]
  },
  {
   "cell_type": "code",
   "execution_count": null,
   "metadata": {},
   "outputs": [],
   "source": [
    "# get avg arrival delay by state origin\n",
    "def avg_delay_state_origin(df):\n",
    "    df_aggregated = df.groupBy(\"ORIGIN_STATE\").agg({\"ArrDelay\": \"avg\"}).withColumnRenamed(\"avg(ArrDelay)\", \"AverageArrivalDelay\")\n",
    "    df_aggregated = df_aggregated.orderBy(\"AverageArrivalDelay\", ascending=False)\n",
    "    return df_aggregated\n",
    "\n",
    "def plot_avg_delay_state_origin(df):\n",
    "    df_avg = avg_delay_state_origin(df).toPandas()\n",
    "    # drop row with AS in ORIGIN_STATE\n",
    "    df_avg = df_avg.drop(df_avg[df_avg[\"ORIGIN_STATE\"] == \"AS\"].index)\n",
    "    fig = px.choropleth(locations=df_avg[\"ORIGIN_STATE\"], locationmode=\"USA-states\", color=df_avg[\"AverageArrivalDelay\"], scope=\"usa\")\n",
    "\n",
    "    # add title \"Average delay by state origin\"\n",
    "    fig.update_layout(title_text=\"Average delay by state origin\")\n",
    "    \n",
    "    return fig\n",
    "\n",
    "plot_avg_delay_state_origin(df).show()"
   ]
  },
  {
   "cell_type": "code",
   "execution_count": null,
   "metadata": {},
   "outputs": [],
   "source": [
    "\n",
    "# get avg arrival delay by state origin\n",
    "def avg_delay_state_dest(df):\n",
    "    df_aggregated = df.groupBy(\"DEST_STATE\").agg({\"ArrDelay\": \"avg\"}).withColumnRenamed(\"avg(ArrDelay)\", \"AverageArrivalDelay\")\n",
    "    df_aggregated = df_aggregated.orderBy(\"AverageArrivalDelay\", ascending=False)\n",
    "    return df_aggregated    \n",
    "\n",
    "\n",
    "def plot_avg_delay_state_dest(df):\n",
    "    df_avg = avg_delay_state_dest(df).toPandas()\n",
    "    # drop row with AS in ORIGIN_STATE\n",
    "    df_avg = df_avg.drop(df_avg[df_avg[\"DEST_STATE\"] == \"AS\"].index)\n",
    "    df_avg = df_avg.drop(df_avg[df_avg[\"DEST_STATE\"] == \"GU\"].index)\n",
    "\n",
    "    fig = px.choropleth(locations=df_avg[\"DEST_STATE\"], locationmode=\"USA-states\", color=df_avg[\"AverageArrivalDelay\"], scope=\"usa\")\n",
    "\n",
    "    # add title \"Average delay by state \"\n",
    "    fig.update_layout(title_text=\"Average delay by state destination\")\n",
    "    return fig\n",
    "\n",
    "plot_avg_delay_state_dest(df).show()"
   ]
  },
  {
   "cell_type": "code",
   "execution_count": null,
   "metadata": {},
   "outputs": [],
   "source": [
    "# group by Reporting_Airline and count\n",
    "def aggregate_carrier(df):\n",
    "    df_aggregated = df.groupBy(\"Reporting_Airline\").count()\n",
    "    df_aggregated = df_aggregated.orderBy(\"count\", ascending=False)\n",
    "    return df_aggregated\n",
    "\n",
    "# show the most popular airlines as pie chart\n",
    "def plot_carrier(df):\n",
    "    df_aggregated = aggregate_carrier(df).toPandas()\n",
    "    # join df_aggregated with airlines to get the airline name\n",
    "    df_aggregated = df_aggregated.join(airlines.set_index(\"IATA\"), on=\"Reporting_Airline\")\n",
    "    fig = px.pie(df_aggregated, values='count', names='Name')\n",
    "    fig.update_layout(title_text=\"Most popular airlines\")\n",
    "    return fig\n",
    "\n",
    "\n",
    "    \n",
    "plot_carrier(df).show()\n"
   ]
  },
  {
   "cell_type": "code",
   "execution_count": null,
   "metadata": {},
   "outputs": [],
   "source": [
    "# group by airline and make the avg of ArrDelay, count the number of flights\n",
    "def avg_delay_carrier(df):\n",
    "    # aggregate by airline, count the number of rows\n",
    "    df_aggregated = df.groupBy(\"Reporting_Airline\").agg({\"ArrDelay\": \"avg\", \"*\": \"count\"}).withColumnRenamed(\"avg(ArrDelay)\", \"AverageArrivalDelay\").withColumnRenamed(\"count(*)\", \"NumberOfFlights\")\n",
    "    # create a new column \n",
    "    df_aggregated = df_aggregated.orderBy(\"AverageArrivalDelay\", ascending=False)\n",
    "    return df_aggregated\n",
    "\n",
    "# visualize the avg delay by airline as bar chart\n",
    "def plot_avg_delay_carrier(df):\n",
    "    df_avg = avg_delay_carrier(df).toPandas()\n",
    "    df_avg = df_avg.join(airlines.set_index(\"IATA\"), on=\"Reporting_Airline\")\n",
    "    \n",
    "    fig = px.bar(df_avg, x='Name', y='AverageArrivalDelay')\n",
    "    # add title \"Average delay by airline\"\n",
    "    fig.update_layout(title_text=\"Average delay by airline\")\n",
    "    return fig\n",
    "\n",
    "plot_avg_delay_carrier(df).show()\n"
   ]
  },
  {
   "cell_type": "code",
   "execution_count": null,
   "metadata": {},
   "outputs": [],
   "source": [
    "def taxiing_congenstion(df):\n",
    "    # group by Origin, sum taxi in  time, count the number of flights\n",
    "    df_aggregated = df.groupBy(\"ORIGIN\").agg({\"TaxiIn\": \"sum\", \"*\": \"count\"}).withColumnRenamed(\"sum(TaxiIn)\", \"TotalTaxiInTime\").withColumnRenamed(\"count(1)\", \"NumberOfFlights\")\n",
    "    return df_aggregated\n",
    "\n",
    "# plot in a scatter the number of flights vs the total taxi in time, hover data is the airport name\n",
    "def plot_taxiing_congenstion(df):\n",
    "    df_aggregated = taxiing_congenstion(df).toPandas()\n",
    "    df_aggregated = df_aggregated.join(airports.set_index(\"IATA\"), on=\"ORIGIN\")\n",
    "    fig = px.scatter(df_aggregated, x=\"NumberOfFlights\", y=\"TotalTaxiInTime\", hover_data=[\"AIRPORT\"])\n",
    "    # add title \"Taxiing Congestion\"\n",
    "    fig.update_layout(title_text=\"Taxi in Congestion\")\n",
    "    return fig\n",
    "\n",
    "plot_taxiing_congenstion(df).show()\n",
    "    "
   ]
  },
  {
   "cell_type": "code",
   "execution_count": null,
   "metadata": {},
   "outputs": [],
   "source": [
    "def taxiing_congenstion(df):\n",
    "    # group by Origin, sum taxi in  time, count the number of flights\n",
    "    df_aggregated = df.groupBy(\"DEST\").agg({\"TaxiIn\": \"sum\", \"*\": \"count\"}).withColumnRenamed(\"sum(TaxiIn)\", \"TotalTaxiInTime\").withColumnRenamed(\"count(1)\", \"NumberOfFlights\")\n",
    "    return df_aggregated\n",
    "\n",
    "# plot in a scatter the number of flights vs the total taxi in time, hover data is the airport name\n",
    "def plot_taxiing_congenstion(df):\n",
    "    df_aggregated = taxiing_congenstion(df).toPandas()\n",
    "    df_aggregated = df_aggregated.join(airports.set_index(\"IATA\"), on=\"DEST\")\n",
    "    fig = px.scatter(df_aggregated, x=\"NumberOfFlights\", y=\"TotalTaxiInTime\", hover_data=[\"AIRPORT\"])\n",
    "    # add title \"Taxiing Congestion\"\n",
    "    fig.update_layout(title_text=\"Taxi out Congestion\")\n",
    "    return fig\n",
    "\n",
    "plot_taxiing_congenstion(df).show()"
   ]
  },
  {
   "cell_type": "code",
   "execution_count": null,
   "metadata": {},
   "outputs": [],
   "source": [
    "# group by DayOfWeek and DepTimeBlk, make the avg of ArrDelay, count the number of flights\n",
    "def avg_delay_day_time(df):\n",
    "    # aggregate by airline, count the number of rows\n",
    "    df_aggregated = df.groupBy(\"DayOfWeek\", \"DepTimeBlk\").agg({\"ArrDelay\": \"avg\"}).withColumnRenamed(\"avg(ArrDelay)\", \"AverageArrivalDelay\")\n",
    "    # create a new column \n",
    "    df_aggregated = df_aggregated.orderBy(\"AverageArrivalDelay\", ascending=False)\n",
    "    return df_aggregated\n",
    "\n",
    "def week_time_blk_matrix_avg_delay(df):\n",
    "    df_pd = avg_delay_day_time(df).toPandas()\n",
    "    fig = px.imshow(\n",
    "        df_pd.pivot(\"DayOfWeek\", \"DepTimeBlk\", \"AverageArrivalDelay\"), \n",
    "        labels=dict(x=\"DepTimeBlk\", y=\"DayOfWeek\", color=\"Average Arrival Delay\"), \n",
    "        y=[\"Mon\", \"Tue\", \"Wed\", \"Thu\", \"Fri\", \"Sat\", \"Sun\"]\n",
    "    )\n",
    "    # add title \"Average delay by day of week and month\"\n",
    "    fig.update_layout(title=\"Average delay by day of week and block time\")\n",
    "    return fig\n",
    "\n",
    "\n",
    "week_time_blk_matrix_avg_delay(df).show()\n",
    "\n"
   ]
  },
  {
   "cell_type": "code",
   "execution_count": null,
   "metadata": {},
   "outputs": [],
   "source": [
    "# group by DayOfWeek and DepTimeBlk, make the avg of ArrDelay, count the number of flights\n",
    "def num_flights_day_time(df):\n",
    "    # aggregate by airline, count the number of rows\n",
    "    df_aggregated = df.groupBy(\"DayOfWeek\", \"DepTimeBlk\").agg({\"*\": \"count\"}).withColumnRenamed(\"count(1)\", \"NumFlights\")\n",
    "    # create a new column \n",
    "    df_aggregated = df_aggregated.orderBy(\"DepTimeBlk\", ascending=False)\n",
    "    return df_aggregated\n",
    "\n",
    "def week_time_blk_matrix_num_flights(df):\n",
    "    df_pd = num_flights_day_time(df).toPandas()\n",
    "    fig = px.imshow(\n",
    "        df_pd.pivot(\"DayOfWeek\", \"DepTimeBlk\", \"NumFlights\"), \n",
    "        labels=dict(x=\"DepTimeBlk\", y=\"DayOfWeek\", color=\"NumFlights\"), \n",
    "        y=[\"Mon\", \"Tue\", \"Wed\", \"Thu\", \"Fri\", \"Sat\", \"Sun\"]\n",
    "    )\n",
    "    # add title \"Average delay by day of week and month\"\n",
    "    fig.update_layout(title=\"Average delay by day of week and month\")\n",
    "    return fig\n",
    "\n",
    "\n",
    "week_time_blk_matrix_num_flights(df).show()"
   ]
  },
  {
   "cell_type": "code",
   "execution_count": null,
   "metadata": {},
   "outputs": [],
   "source": [
    "# num flights by day\n",
    "def flights_by_month(df):\n",
    "    df_aggregated = df.groupBy(\"Month\").count()\n",
    "    df_aggregated = df_aggregated.orderBy(\"Month\", ascending=True)\n",
    "    # convert Month to string with the corresponding month name, like January, February, etc.\n",
    "    df_aggregated = df_aggregated.withColumn(\"Month\", df_aggregated[\"Month\"].cast(\"string\"))\n",
    "    df_aggregated = df_aggregated.withColumn(\"Month\", when(df_aggregated[\"Month\"] == \"1\", \"January\")\n",
    "                                .when(df_aggregated[\"Month\"] == \"2\", \"February\")\n",
    "                                .when(df_aggregated[\"Month\"] == \"3\", \"March\")\n",
    "                                .when(df_aggregated[\"Month\"] == \"4\", \"April\")\n",
    "                                .when(df_aggregated[\"Month\"] == \"5\", \"May\")\n",
    "                                .when(df_aggregated[\"Month\"] == \"6\", \"June\")\n",
    "                                .when(df_aggregated[\"Month\"] == \"7\", \"July\")\n",
    "                                .when(df_aggregated[\"Month\"] == \"8\", \"August\")\n",
    "                                .when(df_aggregated[\"Month\"] == \"9\", \"September\")\n",
    "                                .when(df_aggregated[\"Month\"] == \"10\", \"October\")\n",
    "                                .when(df_aggregated[\"Month\"] == \"11\", \"November\")\n",
    "                                .when(df_aggregated[\"Month\"] == \"12\", \"December\")\n",
    "                                .otherwise(\"0\")\n",
    "                    )\n",
    "    return df_aggregated\n",
    "\n",
    "# visualized flights as line chart, smooth the line in the plot\n",
    "def flights_by_month_line(df):\n",
    "    df_aggregated = flights_by_month(df).toPandas()\n",
    "    fig = px.line(df_aggregated, x=\"Month\", y=\"count\", title=\"Number of Flights by Month\")\n",
    "    fig.update_traces(line_shape=\"spline\")\n",
    "    return fig\n",
    "\n",
    "\n",
    "flights_by_month_line(df).show()"
   ]
  },
  {
   "cell_type": "code",
   "execution_count": null,
   "metadata": {},
   "outputs": [],
   "source": [
    "\n",
    "def delay_by_month(df):\n",
    "    df_aggregated = df.groupBy(\"Month\").agg({\"ArrDelay\": \"avg\"}).withColumnRenamed(\"avg(ArrDelay)\", \"AverageArrivalDelay\")\n",
    "    df_aggregated = df_aggregated.orderBy(\"Month\", ascending=True)\n",
    "    # convert Month to string with the corresponding month name, like January, February, etc.\n",
    "    df_aggregated = df_aggregated.withColumn(\"Month\", df_aggregated[\"Month\"].cast(\"string\"))\n",
    "    df_aggregated = df_aggregated.withColumn(\"Month\", when(df_aggregated[\"Month\"] == \"1\", \"January\")\n",
    "                                .when(df_aggregated[\"Month\"] == \"2\", \"February\")\n",
    "                                .when(df_aggregated[\"Month\"] == \"3\", \"March\")\n",
    "                                .when(df_aggregated[\"Month\"] == \"4\", \"April\")\n",
    "                                .when(df_aggregated[\"Month\"] == \"5\", \"May\")\n",
    "                                .when(df_aggregated[\"Month\"] == \"6\", \"June\")\n",
    "                                .when(df_aggregated[\"Month\"] == \"7\", \"July\")\n",
    "                                .when(df_aggregated[\"Month\"] == \"8\", \"August\")\n",
    "                                .when(df_aggregated[\"Month\"] == \"9\", \"September\")\n",
    "                                .when(df_aggregated[\"Month\"] == \"10\", \"October\")\n",
    "                                .when(df_aggregated[\"Month\"] == \"11\", \"November\")\n",
    "                                .when(df_aggregated[\"Month\"] == \"12\", \"December\")\n",
    "                                .otherwise(\"0\")\n",
    "                    )\n",
    "    return df_aggregated\n",
    "\n",
    "# visualized flights as line chart, smooth the line in the plot\n",
    "def delay_by_month_line(df):\n",
    "    df_aggregated = delay_by_month(df).toPandas()\n",
    "    fig = px.line(df_aggregated, x=\"Month\", y=\"AverageArrivalDelay\", title=\"Avg delay by Month\")\n",
    "    fig.update_traces(line_shape=\"spline\")\n",
    "    return fig\n",
    "\n",
    "\n",
    "delay_by_month_line(df).show()"
   ]
  },
  {
   "cell_type": "code",
   "execution_count": null,
   "metadata": {},
   "outputs": [],
   "source": [
    "def avg_num_line_month(df):\n",
    "    df_num = flights_by_month(df).toPandas()\n",
    "    df_avg = delay_by_month(df).toPandas()\n",
    "\n",
    "    # plot the two lines in the same figure, use to different y axes\n",
    "    fig = make_subplots(specs=[[{\"secondary_y\": True}]])\n",
    "\n",
    "    # Add traces\n",
    "    fig.add_trace(\n",
    "        go.Scatter(x=df_num[\"Month\"] , y=df_num[\"count\"], name=\"num flights\"),\n",
    "        secondary_y=False,\n",
    "    )\n",
    "\n",
    "    fig.add_trace(\n",
    "        go.Scatter(x=df_avg[\"Month\"], y=df_avg[\"AverageArrivalDelay\"], name=\"avg delay\"),\n",
    "        secondary_y=True,\n",
    "    )\n",
    "\n",
    "    # Add figure title\n",
    "    fig.update_layout(\n",
    "        title_text=\"Number of flights and average delay by day\"\n",
    "    )\n",
    "\n",
    "    # Set x-axis title\n",
    "    fig.update_xaxes(title_text=\"Month of the year\")\n",
    "\n",
    "    # Set y-axes titles\n",
    "    fig.update_yaxes(title_text=\"Number of flights\", secondary_y=False)\n",
    "    fig.update_yaxes(title_text=\"Average delay in minutes\", secondary_y=True)\n",
    "\n",
    "\n",
    "    return fig\n",
    "\n",
    "\n",
    "avg_num_line_month(df).show()"
   ]
  },
  {
   "cell_type": "code",
   "execution_count": null,
   "metadata": {},
   "outputs": [],
   "source": [
    "df.columns"
   ]
  },
  {
   "cell_type": "code",
   "execution_count": null,
   "metadata": {},
   "outputs": [],
   "source": [
    "# get the unqique values of Month\n",
    "df.select(\"Month\").distinct().show()"
   ]
  },
  {
   "cell_type": "code",
   "execution_count": null,
   "metadata": {},
   "outputs": [],
   "source": []
  },
  {
   "cell_type": "code",
   "execution_count": null,
   "metadata": {},
   "outputs": [],
   "source": [
    "def matrix_agg(df,x,y,z=\"count\",):\n",
    "    if z==\"count\":\n",
    "        df_aggregated = df.groupBy(x,y).agg({\"*\": \"count\"}).withColumnRenamed(f\"count(1)\", f\"{z}_agg\")\n",
    "    else:\n",
    "        df_aggregated = df.groupBy(x,y).agg({z: \"avg\"}).withColumnRenamed(f\"avg({z})\", f\"{z}_agg\")\n",
    "    return df_aggregated\n",
    "\n",
    "\n",
    "week_days_names = [\"Mon\", \"Tue\", \"Wed\", \"Thu\", \"Fri\", \"Sat\", \"Sun\"]\n",
    "months_names = [\"Jan\", \"Feb\", \"Mar\", \"Apr\", \"May\", \"Jun\", \"Jul\", \"Aug\", \"Sep\", \"Oct\", \"Nov\", \"Dec\"]\n",
    "\n",
    "def matrix_plot(df,x,y,z=\"count\"):\n",
    "    df_pd = matrix_agg(df,x,y,z).toPandas()\n",
    "\n",
    "\n",
    "    fig = px.imshow(\n",
    "        df_pd.pivot(y, x, f\"{z}_agg\"), \n",
    "        labels=dict(x=x, y=y, color=f\"{z}_agg\"),\n",
    "        y=week_days_names,\n",
    "        x= months_names if x==\"Month\" else df_pd[x].unique().sort(),\n",
    "    )\n",
    "\n",
    "    return fig"
   ]
  },
  {
   "cell_type": "code",
   "execution_count": null,
   "metadata": {},
   "outputs": [],
   "source": [
    "matrix_plot(df,\"DepTimeBlk\",\"DayOfWeek\").show()"
   ]
  },
  {
   "cell_type": "code",
   "execution_count": 56,
   "metadata": {},
   "outputs": [
    {
     "name": "stderr",
     "output_type": "stream",
     "text": [
      "/opt/homebrew/lib/python3.10/site-packages/pyspark/sql/pandas/conversion.py:248: FutureWarning:\n",
      "\n",
      "Passing unit-less datetime64 dtype to .astype is deprecated and will raise in a future version. Pass 'datetime64[ns]' instead\n",
      "\n"
     ]
    }
   ],
   "source": [
    "# get dates from the df \"FlightDate\", orderd ascending\n",
    "def get_dates(df):\n",
    "    dates = df.select(\"FlightDate\").distinct().orderBy(\"FlightDate\", ascending=True).toPandas()[\"FlightDate\"]\n",
    "    return dates\n",
    "dates = get_dates(df)\n"
   ]
  },
  {
   "cell_type": "code",
   "execution_count": 18,
   "metadata": {},
   "outputs": [],
   "source": [
    "# load a dataset from internet with US states abbreviation an corresponding names\n",
    "states = pd.read_csv(\"https://raw.githubusercontent.com/jasonong/List-of-US-States/master/states.csv\")"
   ]
  },
  {
   "cell_type": "code",
   "execution_count": 65,
   "metadata": {},
   "outputs": [],
   "source": [
    "def origin_dest_query(df,from_date,to_date,query=\"ArrDelay\"):\n",
    "    # filter the dataframe using timestamp from_date and to_date\n",
    "    df = df.filter(df[\"FlightDate\"].between(from_date,to_date))\n",
    "    \n",
    "    if query==\"count\":\n",
    "        df = df.groupBy(\"ORIGIN_STATE\",\"DEST_STATE\").agg({\"*\": \"count\"}).withColumnRenamed(\"count(1)\", \"count\")\n",
    "    else:\n",
    "        df = df.groupBy(\"ORIGIN_STATE\",\"DEST_STATE\").agg({\"ArrDelay\": \"avg\"}).withColumnRenamed(\"avg(ArrDelay)\", \"ArrDelay\")\n",
    "\n",
    "    # crate a new column with the origin and destination\n",
    "    # order by query, descendant order\n",
    "    df = df.orderBy(df[query].desc())\n",
    "\n",
    "    return df\n",
    "\n",
    "def origin_dest_plot(df,from_date,to_date,query=\"ArrDelay\"):\n",
    "    df_pd = origin_dest_query(df,from_date,to_date,query).toPandas()\n",
    "    # make a join over STATE_ORIGIN and Abbreviation in states dataframe, rename the columns\n",
    "    df_pd = df_pd.merge(states, left_on=\"ORIGIN_STATE\", right_on=\"Abbreviation\").\\\n",
    "        rename(columns={\"State\": \"Origin\"}).\\\n",
    "        merge(states, left_on=\"DEST_STATE\", right_on=\"Abbreviation\").\\\n",
    "        rename(columns={\"State\": \"Dest\"})\n",
    "    # create a new column with the origin and destination\n",
    "    df_pd[\"Origin-Dest\"] = df_pd[\"Origin\"] + \" - \" + df_pd[\"Dest\"]\n",
    "    fig = px.pie(df_pd.head(20), values=query, names='Origin-Dest', title=f'{query} by Origin-Dest')\n",
    "    return fig\n"
   ]
  },
  {
   "cell_type": "code",
   "execution_count": 67,
   "metadata": {},
   "outputs": [
    {
     "name": "stderr",
     "output_type": "stream",
     "text": [
      "                                                                                \r"
     ]
    },
    {
     "data": {
      "application/vnd.plotly.v1+json": {
       "config": {
        "plotlyServerURL": "https://plot.ly"
       },
       "data": [
        {
         "domain": {
          "x": [
           0,
           1
          ],
          "y": [
           0,
           1
          ]
         },
         "hovertemplate": "Origin-Dest=%{label}<br>count=%{value}<extra></extra>",
         "labels": [
          "California - California",
          "Texas - California",
          "Hawaii - California",
          "Florida - California",
          "Georgia - California",
          "Arizona - California",
          "New York - California",
          "Nevada - California",
          "Colorado - California",
          "Washington - California",
          "Louisiana - California",
          "North Carolina - California",
          "Illinois - California",
          "Oregon - California",
          "Utah - California",
          "Virginia - California",
          "Michigan - California",
          "Pennsylvania - California",
          "New Jersey - California",
          "Missouri - California"
         ],
         "legendgroup": "",
         "name": "",
         "showlegend": true,
         "type": "pie",
         "values": [
          8150,
          1647,
          620,
          341,
          341,
          1827,
          697,
          1532,
          1197,
          948,
          42,
          152,
          790,
          720,
          702,
          368,
          106,
          230,
          216,
          118
         ]
        }
       ],
       "layout": {
        "legend": {
         "tracegroupgap": 0
        },
        "template": {
         "data": {
          "bar": [
           {
            "error_x": {
             "color": "#2a3f5f"
            },
            "error_y": {
             "color": "#2a3f5f"
            },
            "marker": {
             "line": {
              "color": "#E5ECF6",
              "width": 0.5
             },
             "pattern": {
              "fillmode": "overlay",
              "size": 10,
              "solidity": 0.2
             }
            },
            "type": "bar"
           }
          ],
          "barpolar": [
           {
            "marker": {
             "line": {
              "color": "#E5ECF6",
              "width": 0.5
             },
             "pattern": {
              "fillmode": "overlay",
              "size": 10,
              "solidity": 0.2
             }
            },
            "type": "barpolar"
           }
          ],
          "carpet": [
           {
            "aaxis": {
             "endlinecolor": "#2a3f5f",
             "gridcolor": "white",
             "linecolor": "white",
             "minorgridcolor": "white",
             "startlinecolor": "#2a3f5f"
            },
            "baxis": {
             "endlinecolor": "#2a3f5f",
             "gridcolor": "white",
             "linecolor": "white",
             "minorgridcolor": "white",
             "startlinecolor": "#2a3f5f"
            },
            "type": "carpet"
           }
          ],
          "choropleth": [
           {
            "colorbar": {
             "outlinewidth": 0,
             "ticks": ""
            },
            "type": "choropleth"
           }
          ],
          "contour": [
           {
            "colorbar": {
             "outlinewidth": 0,
             "ticks": ""
            },
            "colorscale": [
             [
              0,
              "#0d0887"
             ],
             [
              0.1111111111111111,
              "#46039f"
             ],
             [
              0.2222222222222222,
              "#7201a8"
             ],
             [
              0.3333333333333333,
              "#9c179e"
             ],
             [
              0.4444444444444444,
              "#bd3786"
             ],
             [
              0.5555555555555556,
              "#d8576b"
             ],
             [
              0.6666666666666666,
              "#ed7953"
             ],
             [
              0.7777777777777778,
              "#fb9f3a"
             ],
             [
              0.8888888888888888,
              "#fdca26"
             ],
             [
              1,
              "#f0f921"
             ]
            ],
            "type": "contour"
           }
          ],
          "contourcarpet": [
           {
            "colorbar": {
             "outlinewidth": 0,
             "ticks": ""
            },
            "type": "contourcarpet"
           }
          ],
          "heatmap": [
           {
            "colorbar": {
             "outlinewidth": 0,
             "ticks": ""
            },
            "colorscale": [
             [
              0,
              "#0d0887"
             ],
             [
              0.1111111111111111,
              "#46039f"
             ],
             [
              0.2222222222222222,
              "#7201a8"
             ],
             [
              0.3333333333333333,
              "#9c179e"
             ],
             [
              0.4444444444444444,
              "#bd3786"
             ],
             [
              0.5555555555555556,
              "#d8576b"
             ],
             [
              0.6666666666666666,
              "#ed7953"
             ],
             [
              0.7777777777777778,
              "#fb9f3a"
             ],
             [
              0.8888888888888888,
              "#fdca26"
             ],
             [
              1,
              "#f0f921"
             ]
            ],
            "type": "heatmap"
           }
          ],
          "heatmapgl": [
           {
            "colorbar": {
             "outlinewidth": 0,
             "ticks": ""
            },
            "colorscale": [
             [
              0,
              "#0d0887"
             ],
             [
              0.1111111111111111,
              "#46039f"
             ],
             [
              0.2222222222222222,
              "#7201a8"
             ],
             [
              0.3333333333333333,
              "#9c179e"
             ],
             [
              0.4444444444444444,
              "#bd3786"
             ],
             [
              0.5555555555555556,
              "#d8576b"
             ],
             [
              0.6666666666666666,
              "#ed7953"
             ],
             [
              0.7777777777777778,
              "#fb9f3a"
             ],
             [
              0.8888888888888888,
              "#fdca26"
             ],
             [
              1,
              "#f0f921"
             ]
            ],
            "type": "heatmapgl"
           }
          ],
          "histogram": [
           {
            "marker": {
             "pattern": {
              "fillmode": "overlay",
              "size": 10,
              "solidity": 0.2
             }
            },
            "type": "histogram"
           }
          ],
          "histogram2d": [
           {
            "colorbar": {
             "outlinewidth": 0,
             "ticks": ""
            },
            "colorscale": [
             [
              0,
              "#0d0887"
             ],
             [
              0.1111111111111111,
              "#46039f"
             ],
             [
              0.2222222222222222,
              "#7201a8"
             ],
             [
              0.3333333333333333,
              "#9c179e"
             ],
             [
              0.4444444444444444,
              "#bd3786"
             ],
             [
              0.5555555555555556,
              "#d8576b"
             ],
             [
              0.6666666666666666,
              "#ed7953"
             ],
             [
              0.7777777777777778,
              "#fb9f3a"
             ],
             [
              0.8888888888888888,
              "#fdca26"
             ],
             [
              1,
              "#f0f921"
             ]
            ],
            "type": "histogram2d"
           }
          ],
          "histogram2dcontour": [
           {
            "colorbar": {
             "outlinewidth": 0,
             "ticks": ""
            },
            "colorscale": [
             [
              0,
              "#0d0887"
             ],
             [
              0.1111111111111111,
              "#46039f"
             ],
             [
              0.2222222222222222,
              "#7201a8"
             ],
             [
              0.3333333333333333,
              "#9c179e"
             ],
             [
              0.4444444444444444,
              "#bd3786"
             ],
             [
              0.5555555555555556,
              "#d8576b"
             ],
             [
              0.6666666666666666,
              "#ed7953"
             ],
             [
              0.7777777777777778,
              "#fb9f3a"
             ],
             [
              0.8888888888888888,
              "#fdca26"
             ],
             [
              1,
              "#f0f921"
             ]
            ],
            "type": "histogram2dcontour"
           }
          ],
          "mesh3d": [
           {
            "colorbar": {
             "outlinewidth": 0,
             "ticks": ""
            },
            "type": "mesh3d"
           }
          ],
          "parcoords": [
           {
            "line": {
             "colorbar": {
              "outlinewidth": 0,
              "ticks": ""
             }
            },
            "type": "parcoords"
           }
          ],
          "pie": [
           {
            "automargin": true,
            "type": "pie"
           }
          ],
          "scatter": [
           {
            "fillpattern": {
             "fillmode": "overlay",
             "size": 10,
             "solidity": 0.2
            },
            "type": "scatter"
           }
          ],
          "scatter3d": [
           {
            "line": {
             "colorbar": {
              "outlinewidth": 0,
              "ticks": ""
             }
            },
            "marker": {
             "colorbar": {
              "outlinewidth": 0,
              "ticks": ""
             }
            },
            "type": "scatter3d"
           }
          ],
          "scattercarpet": [
           {
            "marker": {
             "colorbar": {
              "outlinewidth": 0,
              "ticks": ""
             }
            },
            "type": "scattercarpet"
           }
          ],
          "scattergeo": [
           {
            "marker": {
             "colorbar": {
              "outlinewidth": 0,
              "ticks": ""
             }
            },
            "type": "scattergeo"
           }
          ],
          "scattergl": [
           {
            "marker": {
             "colorbar": {
              "outlinewidth": 0,
              "ticks": ""
             }
            },
            "type": "scattergl"
           }
          ],
          "scattermapbox": [
           {
            "marker": {
             "colorbar": {
              "outlinewidth": 0,
              "ticks": ""
             }
            },
            "type": "scattermapbox"
           }
          ],
          "scatterpolar": [
           {
            "marker": {
             "colorbar": {
              "outlinewidth": 0,
              "ticks": ""
             }
            },
            "type": "scatterpolar"
           }
          ],
          "scatterpolargl": [
           {
            "marker": {
             "colorbar": {
              "outlinewidth": 0,
              "ticks": ""
             }
            },
            "type": "scatterpolargl"
           }
          ],
          "scatterternary": [
           {
            "marker": {
             "colorbar": {
              "outlinewidth": 0,
              "ticks": ""
             }
            },
            "type": "scatterternary"
           }
          ],
          "surface": [
           {
            "colorbar": {
             "outlinewidth": 0,
             "ticks": ""
            },
            "colorscale": [
             [
              0,
              "#0d0887"
             ],
             [
              0.1111111111111111,
              "#46039f"
             ],
             [
              0.2222222222222222,
              "#7201a8"
             ],
             [
              0.3333333333333333,
              "#9c179e"
             ],
             [
              0.4444444444444444,
              "#bd3786"
             ],
             [
              0.5555555555555556,
              "#d8576b"
             ],
             [
              0.6666666666666666,
              "#ed7953"
             ],
             [
              0.7777777777777778,
              "#fb9f3a"
             ],
             [
              0.8888888888888888,
              "#fdca26"
             ],
             [
              1,
              "#f0f921"
             ]
            ],
            "type": "surface"
           }
          ],
          "table": [
           {
            "cells": {
             "fill": {
              "color": "#EBF0F8"
             },
             "line": {
              "color": "white"
             }
            },
            "header": {
             "fill": {
              "color": "#C8D4E3"
             },
             "line": {
              "color": "white"
             }
            },
            "type": "table"
           }
          ]
         },
         "layout": {
          "annotationdefaults": {
           "arrowcolor": "#2a3f5f",
           "arrowhead": 0,
           "arrowwidth": 1
          },
          "autotypenumbers": "strict",
          "coloraxis": {
           "colorbar": {
            "outlinewidth": 0,
            "ticks": ""
           }
          },
          "colorscale": {
           "diverging": [
            [
             0,
             "#8e0152"
            ],
            [
             0.1,
             "#c51b7d"
            ],
            [
             0.2,
             "#de77ae"
            ],
            [
             0.3,
             "#f1b6da"
            ],
            [
             0.4,
             "#fde0ef"
            ],
            [
             0.5,
             "#f7f7f7"
            ],
            [
             0.6,
             "#e6f5d0"
            ],
            [
             0.7,
             "#b8e186"
            ],
            [
             0.8,
             "#7fbc41"
            ],
            [
             0.9,
             "#4d9221"
            ],
            [
             1,
             "#276419"
            ]
           ],
           "sequential": [
            [
             0,
             "#0d0887"
            ],
            [
             0.1111111111111111,
             "#46039f"
            ],
            [
             0.2222222222222222,
             "#7201a8"
            ],
            [
             0.3333333333333333,
             "#9c179e"
            ],
            [
             0.4444444444444444,
             "#bd3786"
            ],
            [
             0.5555555555555556,
             "#d8576b"
            ],
            [
             0.6666666666666666,
             "#ed7953"
            ],
            [
             0.7777777777777778,
             "#fb9f3a"
            ],
            [
             0.8888888888888888,
             "#fdca26"
            ],
            [
             1,
             "#f0f921"
            ]
           ],
           "sequentialminus": [
            [
             0,
             "#0d0887"
            ],
            [
             0.1111111111111111,
             "#46039f"
            ],
            [
             0.2222222222222222,
             "#7201a8"
            ],
            [
             0.3333333333333333,
             "#9c179e"
            ],
            [
             0.4444444444444444,
             "#bd3786"
            ],
            [
             0.5555555555555556,
             "#d8576b"
            ],
            [
             0.6666666666666666,
             "#ed7953"
            ],
            [
             0.7777777777777778,
             "#fb9f3a"
            ],
            [
             0.8888888888888888,
             "#fdca26"
            ],
            [
             1,
             "#f0f921"
            ]
           ]
          },
          "colorway": [
           "#636efa",
           "#EF553B",
           "#00cc96",
           "#ab63fa",
           "#FFA15A",
           "#19d3f3",
           "#FF6692",
           "#B6E880",
           "#FF97FF",
           "#FECB52"
          ],
          "font": {
           "color": "#2a3f5f"
          },
          "geo": {
           "bgcolor": "white",
           "lakecolor": "white",
           "landcolor": "#E5ECF6",
           "showlakes": true,
           "showland": true,
           "subunitcolor": "white"
          },
          "hoverlabel": {
           "align": "left"
          },
          "hovermode": "closest",
          "mapbox": {
           "style": "light"
          },
          "paper_bgcolor": "white",
          "plot_bgcolor": "#E5ECF6",
          "polar": {
           "angularaxis": {
            "gridcolor": "white",
            "linecolor": "white",
            "ticks": ""
           },
           "bgcolor": "#E5ECF6",
           "radialaxis": {
            "gridcolor": "white",
            "linecolor": "white",
            "ticks": ""
           }
          },
          "scene": {
           "xaxis": {
            "backgroundcolor": "#E5ECF6",
            "gridcolor": "white",
            "gridwidth": 2,
            "linecolor": "white",
            "showbackground": true,
            "ticks": "",
            "zerolinecolor": "white"
           },
           "yaxis": {
            "backgroundcolor": "#E5ECF6",
            "gridcolor": "white",
            "gridwidth": 2,
            "linecolor": "white",
            "showbackground": true,
            "ticks": "",
            "zerolinecolor": "white"
           },
           "zaxis": {
            "backgroundcolor": "#E5ECF6",
            "gridcolor": "white",
            "gridwidth": 2,
            "linecolor": "white",
            "showbackground": true,
            "ticks": "",
            "zerolinecolor": "white"
           }
          },
          "shapedefaults": {
           "line": {
            "color": "#2a3f5f"
           }
          },
          "ternary": {
           "aaxis": {
            "gridcolor": "white",
            "linecolor": "white",
            "ticks": ""
           },
           "baxis": {
            "gridcolor": "white",
            "linecolor": "white",
            "ticks": ""
           },
           "bgcolor": "#E5ECF6",
           "caxis": {
            "gridcolor": "white",
            "linecolor": "white",
            "ticks": ""
           }
          },
          "title": {
           "x": 0.05
          },
          "xaxis": {
           "automargin": true,
           "gridcolor": "white",
           "linecolor": "white",
           "ticks": "",
           "title": {
            "standoff": 15
           },
           "zerolinecolor": "white",
           "zerolinewidth": 2
          },
          "yaxis": {
           "automargin": true,
           "gridcolor": "white",
           "linecolor": "white",
           "ticks": "",
           "title": {
            "standoff": 15
           },
           "zerolinecolor": "white",
           "zerolinewidth": 2
          }
         }
        },
        "title": {
         "text": "count by Origin-Dest"
        }
       }
      }
     },
     "metadata": {},
     "output_type": "display_data"
    }
   ],
   "source": [
    "origin_dest_plot(df,dates[0],dates[10],\"count\").show()"
   ]
  },
  {
   "cell_type": "code",
   "execution_count": 71,
   "metadata": {},
   "outputs": [
    {
     "data": {
      "text/plain": [
       "'2013-01-01'"
      ]
     },
     "execution_count": 71,
     "metadata": {},
     "output_type": "execute_result"
    }
   ],
   "source": [
    "dates[0].strftime(\"%Y-%m-%d\")"
   ]
  },
  {
   "cell_type": "code",
   "execution_count": null,
   "metadata": {},
   "outputs": [],
   "source": []
  }
 ],
 "metadata": {
  "kernelspec": {
   "display_name": "Python 3.10.7 64-bit",
   "language": "python",
   "name": "python3"
  },
  "language_info": {
   "codemirror_mode": {
    "name": "ipython",
    "version": 3
   },
   "file_extension": ".py",
   "mimetype": "text/x-python",
   "name": "python",
   "nbconvert_exporter": "python",
   "pygments_lexer": "ipython3",
   "version": "3.10.7"
  },
  "orig_nbformat": 4,
  "vscode": {
   "interpreter": {
    "hash": "b0fa6594d8f4cbf19f97940f81e996739fb7646882a419484c72d19e05852a7e"
   }
  }
 },
 "nbformat": 4,
 "nbformat_minor": 2
}
