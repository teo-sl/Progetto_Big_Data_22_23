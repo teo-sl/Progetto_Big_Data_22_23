{
 "cells": [
  {
   "cell_type": "code",
   "execution_count": 1,
   "metadata": {},
   "outputs": [],
   "source": [
    "import plotly.express as px\n",
    "import plotly.graph_objs as go\n",
    "import pandas as pd\n",
    "import numpy as np\n",
    "from pyspark.sql import SparkSession\n",
    "from pyspark.sql.functions import *\n",
    "from plotly.subplots import make_subplots\n",
    "import plotly.offline as py\n"
   ]
  },
  {
   "cell_type": "code",
   "execution_count": 2,
   "metadata": {},
   "outputs": [
    {
     "name": "stdout",
     "output_type": "stream",
     "text": [
      "22/12/21 23:06:52 WARN Utils: Your hostname, MacBook-Air-di-Teodoro.local resolves to a loopback address: 127.0.0.1; using 192.168.69.184 instead (on interface en0)\n",
      "22/12/21 23:06:52 WARN Utils: Set SPARK_LOCAL_IP if you need to bind to another address\n"
     ]
    },
    {
     "name": "stderr",
     "output_type": "stream",
     "text": [
      "Setting default log level to \"WARN\".\n",
      "To adjust logging level use sc.setLogLevel(newLevel). For SparkR, use setLogLevel(newLevel).\n"
     ]
    },
    {
     "name": "stdout",
     "output_type": "stream",
     "text": [
      "22/12/21 23:06:53 WARN NativeCodeLoader: Unable to load native-hadoop library for your platform... using builtin-java classes where applicable\n",
      "22/12/21 23:06:53 WARN Utils: Service 'SparkUI' could not bind on port 4040. Attempting port 4041.\n"
     ]
    }
   ],
   "source": [
    "# create saprk session\n",
    "spark = SparkSession.builder.appName(\"flights\").getOrCreate()"
   ]
  },
  {
   "cell_type": "code",
   "execution_count": 3,
   "metadata": {},
   "outputs": [],
   "source": [
    "# load schema from json\n",
    "import json\n",
    "from pyspark.sql.types import StructType, StructField, StringType, IntegerType, DoubleType, DateType, TimestampType\n",
    "with open(\"schema.json\",\"r\") as f:\n",
    "    schema = StructType.fromJson(json.load(f))"
   ]
  },
  {
   "cell_type": "code",
   "execution_count": 4,
   "metadata": {},
   "outputs": [],
   "source": [
    "# load csv file\n",
    "df = spark.read.csv(\"../../data.nosync/cleaned/cleaned_flights.csv\",schema=schema, header=True)"
   ]
  },
  {
   "cell_type": "code",
   "execution_count": 5,
   "metadata": {},
   "outputs": [],
   "source": [
    "airports_sp = spark.read.csv(\"../../preprocessing/airports.csv\", header=True,inferSchema=True)\n",
    "airports = airports_sp.toPandas()"
   ]
  },
  {
   "cell_type": "code",
   "execution_count": 5,
   "metadata": {},
   "outputs": [
    {
     "name": "stderr",
     "output_type": "stream",
     "text": [
      "/var/folders/tx/5_6_zg1d0fd4zjwzxg1ztrth0000gn/T/ipykernel_62135/2888918700.py:9: FutureWarning: In a future version of pandas all arguments of DataFrame.pivot will be keyword-only.\n",
      "  df_pd.pivot(\"DayOfWeek\", \"Month\", \"AverageArrivalDelay\"),\n"
     ]
    },
    {
     "data": {
      "application/vnd.plotly.v1+json": {
       "config": {
        "plotlyServerURL": "https://plot.ly"
       },
       "data": [
        {
         "coloraxis": "coloraxis",
         "hovertemplate": "Month: %{x}<br>DayOfWeek: %{y}<br>Average Arrival Delay: %{z}<extra></extra>",
         "name": "0",
         "type": "heatmap",
         "x": [
          "Jan",
          "Feb",
          "Mar",
          "Apr",
          "May",
          "Jun",
          "Jul",
          "Aug",
          "Sep",
          "Oct",
          "Nov",
          "Dec"
         ],
         "xaxis": "x",
         "y": [
          "Mon",
          "Tue",
          "Wed",
          "Thu",
          "Fri",
          "Sat",
          "Sun"
         ],
         "yaxis": "y",
         "z": [
          [
           1.5995660452552805,
           6.549105851033046,
           10.293692157482914,
           5.122805872046837,
           2.79760051791347,
           17.987627619559376,
           13.682455670434457,
           4.420878431581897,
           1.4912877802779316,
           4.442979107378358,
           1.491670612543584,
           14.753553610091311
          ],
          [
           1.957030753993448,
           2.8960418701171875,
           3.967163323782235,
           3.992299317259056,
           3.438955885024384,
           12.411561023301287,
           10.414037521540745,
           3.686579966795794,
           -1.1735423582574107,
           -1.7558501977204002,
           1.0738358109478687,
           10.696089031883751
          ],
          [
           6.2588750105189765,
           1.70101276318517,
           0.39267067284011425,
           13.567468470010843,
           6.427156131542754,
           11.110481279071344,
           12.931741708059606,
           7.65940780839895,
           -0.031216656573521354,
           -1.1932120523024445,
           0.3186263425664217,
           6.929939420710545
          ],
          [
           3.700370085887857,
           3.797778284801643,
           0.48196956180899087,
           16.599578211282846,
           10.387267672234506,
           15.964485856012871,
           8.241993186904033,
           10.444780084409881,
           8.410196774921065,
           4.509889293911165,
           2.223367432085793,
           10.562568732997628
          ],
          [
           3.3884274720487877,
           4.41739295741694,
           5.267099449020784,
           9.700115465598044,
           9.021028927013413,
           16.131869453651234,
           10.651671039437355,
           6.951316873749211,
           4.518488119748484,
           3.8891472224528774,
           3.6180500455928852,
           10.317587779165336
          ],
          [
           -1.7308655457438196,
           2.017660085579161,
           5.0364745276249705,
           -0.9983180142374148,
           0.8241866348113274,
           5.229291106422997,
           9.61926213592233,
           2.281194824360292,
           -1.047242773812408,
           -0.4021992546766288,
           -0.8669556426484233,
           14.40376554422244
          ],
          [
           3.9410257231636607,
           3.0995132504056246,
           5.386685552407932,
           2.4226330580162907,
           3.0761831182209294,
           13.318525657548216,
           12.455866106937693,
           4.155332776385408,
           0.2585231447465099,
           1.5376621108248547,
           2.492928090813384,
           15.116472297775625
          ]
         ]
        }
       ],
       "layout": {
        "coloraxis": {
         "colorbar": {
          "title": {
           "text": "Average Arrival Delay"
          }
         },
         "colorscale": [
          [
           0,
           "#0d0887"
          ],
          [
           0.1111111111111111,
           "#46039f"
          ],
          [
           0.2222222222222222,
           "#7201a8"
          ],
          [
           0.3333333333333333,
           "#9c179e"
          ],
          [
           0.4444444444444444,
           "#bd3786"
          ],
          [
           0.5555555555555556,
           "#d8576b"
          ],
          [
           0.6666666666666666,
           "#ed7953"
          ],
          [
           0.7777777777777778,
           "#fb9f3a"
          ],
          [
           0.8888888888888888,
           "#fdca26"
          ],
          [
           1,
           "#f0f921"
          ]
         ]
        },
        "margin": {
         "t": 60
        },
        "template": {
         "data": {
          "bar": [
           {
            "error_x": {
             "color": "#2a3f5f"
            },
            "error_y": {
             "color": "#2a3f5f"
            },
            "marker": {
             "line": {
              "color": "#E5ECF6",
              "width": 0.5
             },
             "pattern": {
              "fillmode": "overlay",
              "size": 10,
              "solidity": 0.2
             }
            },
            "type": "bar"
           }
          ],
          "barpolar": [
           {
            "marker": {
             "line": {
              "color": "#E5ECF6",
              "width": 0.5
             },
             "pattern": {
              "fillmode": "overlay",
              "size": 10,
              "solidity": 0.2
             }
            },
            "type": "barpolar"
           }
          ],
          "carpet": [
           {
            "aaxis": {
             "endlinecolor": "#2a3f5f",
             "gridcolor": "white",
             "linecolor": "white",
             "minorgridcolor": "white",
             "startlinecolor": "#2a3f5f"
            },
            "baxis": {
             "endlinecolor": "#2a3f5f",
             "gridcolor": "white",
             "linecolor": "white",
             "minorgridcolor": "white",
             "startlinecolor": "#2a3f5f"
            },
            "type": "carpet"
           }
          ],
          "choropleth": [
           {
            "colorbar": {
             "outlinewidth": 0,
             "ticks": ""
            },
            "type": "choropleth"
           }
          ],
          "contour": [
           {
            "colorbar": {
             "outlinewidth": 0,
             "ticks": ""
            },
            "colorscale": [
             [
              0,
              "#0d0887"
             ],
             [
              0.1111111111111111,
              "#46039f"
             ],
             [
              0.2222222222222222,
              "#7201a8"
             ],
             [
              0.3333333333333333,
              "#9c179e"
             ],
             [
              0.4444444444444444,
              "#bd3786"
             ],
             [
              0.5555555555555556,
              "#d8576b"
             ],
             [
              0.6666666666666666,
              "#ed7953"
             ],
             [
              0.7777777777777778,
              "#fb9f3a"
             ],
             [
              0.8888888888888888,
              "#fdca26"
             ],
             [
              1,
              "#f0f921"
             ]
            ],
            "type": "contour"
           }
          ],
          "contourcarpet": [
           {
            "colorbar": {
             "outlinewidth": 0,
             "ticks": ""
            },
            "type": "contourcarpet"
           }
          ],
          "heatmap": [
           {
            "colorbar": {
             "outlinewidth": 0,
             "ticks": ""
            },
            "colorscale": [
             [
              0,
              "#0d0887"
             ],
             [
              0.1111111111111111,
              "#46039f"
             ],
             [
              0.2222222222222222,
              "#7201a8"
             ],
             [
              0.3333333333333333,
              "#9c179e"
             ],
             [
              0.4444444444444444,
              "#bd3786"
             ],
             [
              0.5555555555555556,
              "#d8576b"
             ],
             [
              0.6666666666666666,
              "#ed7953"
             ],
             [
              0.7777777777777778,
              "#fb9f3a"
             ],
             [
              0.8888888888888888,
              "#fdca26"
             ],
             [
              1,
              "#f0f921"
             ]
            ],
            "type": "heatmap"
           }
          ],
          "heatmapgl": [
           {
            "colorbar": {
             "outlinewidth": 0,
             "ticks": ""
            },
            "colorscale": [
             [
              0,
              "#0d0887"
             ],
             [
              0.1111111111111111,
              "#46039f"
             ],
             [
              0.2222222222222222,
              "#7201a8"
             ],
             [
              0.3333333333333333,
              "#9c179e"
             ],
             [
              0.4444444444444444,
              "#bd3786"
             ],
             [
              0.5555555555555556,
              "#d8576b"
             ],
             [
              0.6666666666666666,
              "#ed7953"
             ],
             [
              0.7777777777777778,
              "#fb9f3a"
             ],
             [
              0.8888888888888888,
              "#fdca26"
             ],
             [
              1,
              "#f0f921"
             ]
            ],
            "type": "heatmapgl"
           }
          ],
          "histogram": [
           {
            "marker": {
             "pattern": {
              "fillmode": "overlay",
              "size": 10,
              "solidity": 0.2
             }
            },
            "type": "histogram"
           }
          ],
          "histogram2d": [
           {
            "colorbar": {
             "outlinewidth": 0,
             "ticks": ""
            },
            "colorscale": [
             [
              0,
              "#0d0887"
             ],
             [
              0.1111111111111111,
              "#46039f"
             ],
             [
              0.2222222222222222,
              "#7201a8"
             ],
             [
              0.3333333333333333,
              "#9c179e"
             ],
             [
              0.4444444444444444,
              "#bd3786"
             ],
             [
              0.5555555555555556,
              "#d8576b"
             ],
             [
              0.6666666666666666,
              "#ed7953"
             ],
             [
              0.7777777777777778,
              "#fb9f3a"
             ],
             [
              0.8888888888888888,
              "#fdca26"
             ],
             [
              1,
              "#f0f921"
             ]
            ],
            "type": "histogram2d"
           }
          ],
          "histogram2dcontour": [
           {
            "colorbar": {
             "outlinewidth": 0,
             "ticks": ""
            },
            "colorscale": [
             [
              0,
              "#0d0887"
             ],
             [
              0.1111111111111111,
              "#46039f"
             ],
             [
              0.2222222222222222,
              "#7201a8"
             ],
             [
              0.3333333333333333,
              "#9c179e"
             ],
             [
              0.4444444444444444,
              "#bd3786"
             ],
             [
              0.5555555555555556,
              "#d8576b"
             ],
             [
              0.6666666666666666,
              "#ed7953"
             ],
             [
              0.7777777777777778,
              "#fb9f3a"
             ],
             [
              0.8888888888888888,
              "#fdca26"
             ],
             [
              1,
              "#f0f921"
             ]
            ],
            "type": "histogram2dcontour"
           }
          ],
          "mesh3d": [
           {
            "colorbar": {
             "outlinewidth": 0,
             "ticks": ""
            },
            "type": "mesh3d"
           }
          ],
          "parcoords": [
           {
            "line": {
             "colorbar": {
              "outlinewidth": 0,
              "ticks": ""
             }
            },
            "type": "parcoords"
           }
          ],
          "pie": [
           {
            "automargin": true,
            "type": "pie"
           }
          ],
          "scatter": [
           {
            "fillpattern": {
             "fillmode": "overlay",
             "size": 10,
             "solidity": 0.2
            },
            "type": "scatter"
           }
          ],
          "scatter3d": [
           {
            "line": {
             "colorbar": {
              "outlinewidth": 0,
              "ticks": ""
             }
            },
            "marker": {
             "colorbar": {
              "outlinewidth": 0,
              "ticks": ""
             }
            },
            "type": "scatter3d"
           }
          ],
          "scattercarpet": [
           {
            "marker": {
             "colorbar": {
              "outlinewidth": 0,
              "ticks": ""
             }
            },
            "type": "scattercarpet"
           }
          ],
          "scattergeo": [
           {
            "marker": {
             "colorbar": {
              "outlinewidth": 0,
              "ticks": ""
             }
            },
            "type": "scattergeo"
           }
          ],
          "scattergl": [
           {
            "marker": {
             "colorbar": {
              "outlinewidth": 0,
              "ticks": ""
             }
            },
            "type": "scattergl"
           }
          ],
          "scattermapbox": [
           {
            "marker": {
             "colorbar": {
              "outlinewidth": 0,
              "ticks": ""
             }
            },
            "type": "scattermapbox"
           }
          ],
          "scatterpolar": [
           {
            "marker": {
             "colorbar": {
              "outlinewidth": 0,
              "ticks": ""
             }
            },
            "type": "scatterpolar"
           }
          ],
          "scatterpolargl": [
           {
            "marker": {
             "colorbar": {
              "outlinewidth": 0,
              "ticks": ""
             }
            },
            "type": "scatterpolargl"
           }
          ],
          "scatterternary": [
           {
            "marker": {
             "colorbar": {
              "outlinewidth": 0,
              "ticks": ""
             }
            },
            "type": "scatterternary"
           }
          ],
          "surface": [
           {
            "colorbar": {
             "outlinewidth": 0,
             "ticks": ""
            },
            "colorscale": [
             [
              0,
              "#0d0887"
             ],
             [
              0.1111111111111111,
              "#46039f"
             ],
             [
              0.2222222222222222,
              "#7201a8"
             ],
             [
              0.3333333333333333,
              "#9c179e"
             ],
             [
              0.4444444444444444,
              "#bd3786"
             ],
             [
              0.5555555555555556,
              "#d8576b"
             ],
             [
              0.6666666666666666,
              "#ed7953"
             ],
             [
              0.7777777777777778,
              "#fb9f3a"
             ],
             [
              0.8888888888888888,
              "#fdca26"
             ],
             [
              1,
              "#f0f921"
             ]
            ],
            "type": "surface"
           }
          ],
          "table": [
           {
            "cells": {
             "fill": {
              "color": "#EBF0F8"
             },
             "line": {
              "color": "white"
             }
            },
            "header": {
             "fill": {
              "color": "#C8D4E3"
             },
             "line": {
              "color": "white"
             }
            },
            "type": "table"
           }
          ]
         },
         "layout": {
          "annotationdefaults": {
           "arrowcolor": "#2a3f5f",
           "arrowhead": 0,
           "arrowwidth": 1
          },
          "autotypenumbers": "strict",
          "coloraxis": {
           "colorbar": {
            "outlinewidth": 0,
            "ticks": ""
           }
          },
          "colorscale": {
           "diverging": [
            [
             0,
             "#8e0152"
            ],
            [
             0.1,
             "#c51b7d"
            ],
            [
             0.2,
             "#de77ae"
            ],
            [
             0.3,
             "#f1b6da"
            ],
            [
             0.4,
             "#fde0ef"
            ],
            [
             0.5,
             "#f7f7f7"
            ],
            [
             0.6,
             "#e6f5d0"
            ],
            [
             0.7,
             "#b8e186"
            ],
            [
             0.8,
             "#7fbc41"
            ],
            [
             0.9,
             "#4d9221"
            ],
            [
             1,
             "#276419"
            ]
           ],
           "sequential": [
            [
             0,
             "#0d0887"
            ],
            [
             0.1111111111111111,
             "#46039f"
            ],
            [
             0.2222222222222222,
             "#7201a8"
            ],
            [
             0.3333333333333333,
             "#9c179e"
            ],
            [
             0.4444444444444444,
             "#bd3786"
            ],
            [
             0.5555555555555556,
             "#d8576b"
            ],
            [
             0.6666666666666666,
             "#ed7953"
            ],
            [
             0.7777777777777778,
             "#fb9f3a"
            ],
            [
             0.8888888888888888,
             "#fdca26"
            ],
            [
             1,
             "#f0f921"
            ]
           ],
           "sequentialminus": [
            [
             0,
             "#0d0887"
            ],
            [
             0.1111111111111111,
             "#46039f"
            ],
            [
             0.2222222222222222,
             "#7201a8"
            ],
            [
             0.3333333333333333,
             "#9c179e"
            ],
            [
             0.4444444444444444,
             "#bd3786"
            ],
            [
             0.5555555555555556,
             "#d8576b"
            ],
            [
             0.6666666666666666,
             "#ed7953"
            ],
            [
             0.7777777777777778,
             "#fb9f3a"
            ],
            [
             0.8888888888888888,
             "#fdca26"
            ],
            [
             1,
             "#f0f921"
            ]
           ]
          },
          "colorway": [
           "#636efa",
           "#EF553B",
           "#00cc96",
           "#ab63fa",
           "#FFA15A",
           "#19d3f3",
           "#FF6692",
           "#B6E880",
           "#FF97FF",
           "#FECB52"
          ],
          "font": {
           "color": "#2a3f5f"
          },
          "geo": {
           "bgcolor": "white",
           "lakecolor": "white",
           "landcolor": "#E5ECF6",
           "showlakes": true,
           "showland": true,
           "subunitcolor": "white"
          },
          "hoverlabel": {
           "align": "left"
          },
          "hovermode": "closest",
          "mapbox": {
           "style": "light"
          },
          "paper_bgcolor": "white",
          "plot_bgcolor": "#E5ECF6",
          "polar": {
           "angularaxis": {
            "gridcolor": "white",
            "linecolor": "white",
            "ticks": ""
           },
           "bgcolor": "#E5ECF6",
           "radialaxis": {
            "gridcolor": "white",
            "linecolor": "white",
            "ticks": ""
           }
          },
          "scene": {
           "xaxis": {
            "backgroundcolor": "#E5ECF6",
            "gridcolor": "white",
            "gridwidth": 2,
            "linecolor": "white",
            "showbackground": true,
            "ticks": "",
            "zerolinecolor": "white"
           },
           "yaxis": {
            "backgroundcolor": "#E5ECF6",
            "gridcolor": "white",
            "gridwidth": 2,
            "linecolor": "white",
            "showbackground": true,
            "ticks": "",
            "zerolinecolor": "white"
           },
           "zaxis": {
            "backgroundcolor": "#E5ECF6",
            "gridcolor": "white",
            "gridwidth": 2,
            "linecolor": "white",
            "showbackground": true,
            "ticks": "",
            "zerolinecolor": "white"
           }
          },
          "shapedefaults": {
           "line": {
            "color": "#2a3f5f"
           }
          },
          "ternary": {
           "aaxis": {
            "gridcolor": "white",
            "linecolor": "white",
            "ticks": ""
           },
           "baxis": {
            "gridcolor": "white",
            "linecolor": "white",
            "ticks": ""
           },
           "bgcolor": "#E5ECF6",
           "caxis": {
            "gridcolor": "white",
            "linecolor": "white",
            "ticks": ""
           }
          },
          "title": {
           "x": 0.05
          },
          "xaxis": {
           "automargin": true,
           "gridcolor": "white",
           "linecolor": "white",
           "ticks": "",
           "title": {
            "standoff": 15
           },
           "zerolinecolor": "white",
           "zerolinewidth": 2
          },
          "yaxis": {
           "automargin": true,
           "gridcolor": "white",
           "linecolor": "white",
           "ticks": "",
           "title": {
            "standoff": 15
           },
           "zerolinecolor": "white",
           "zerolinewidth": 2
          }
         }
        },
        "xaxis": {
         "anchor": "y",
         "constrain": "domain",
         "domain": [
          0,
          1
         ],
         "scaleanchor": "y",
         "title": {
          "text": "Month"
         }
        },
        "yaxis": {
         "anchor": "x",
         "autorange": "reversed",
         "constrain": "domain",
         "domain": [
          0,
          1
         ],
         "title": {
          "text": "DayOfWeek"
         }
        }
       }
      }
     },
     "metadata": {},
     "output_type": "display_data"
    }
   ],
   "source": [
    "# MATRIX\n",
    "\n",
    "def week_day_month_agg(df):\n",
    "    df_aggregated = df.groupBy(\"DayOfWeek\", \"Month\").agg({\"ArrDelay\": \"avg\"}).withColumnRenamed(\"avg(ArrDelay)\", \"AverageArrivalDelay\")\n",
    "    return df_aggregated\n",
    "def week_day_matrix_avg_delay(df):\n",
    "    df_pd = week_day_month_agg(df).toPandas()\n",
    "    fig = px.imshow(\n",
    "        df_pd.pivot(\"DayOfWeek\", \"Month\", \"AverageArrivalDelay\"), \n",
    "        labels=dict(x=\"Month\", y=\"DayOfWeek\", color=\"Average Arrival Delay\"), \n",
    "        x=[\"Jan\", \"Feb\", \"Mar\", \"Apr\", \"May\", \"Jun\", \"Jul\", \"Aug\", \"Sep\", \"Oct\", \"Nov\", \"Dec\"], \n",
    "        y=[\"Mon\", \"Tue\", \"Wed\", \"Thu\", \"Fri\", \"Sat\", \"Sun\"]\n",
    "    )\n",
    "    return fig\n",
    "\n",
    "fig = week_day_matrix_avg_delay(df)\n",
    "fig.show()\n"
   ]
  },
  {
   "cell_type": "code",
   "execution_count": 6,
   "metadata": {},
   "outputs": [
    {
     "name": "stderr",
     "output_type": "stream",
     "text": [
      "                                                                                \r"
     ]
    },
    {
     "data": {
      "application/vnd.plotly.v1+json": {
       "config": {
        "plotlyServerURL": "https://plot.ly"
       },
       "data": [
        {
         "alignmentgroup": "True",
         "hovertemplate": "Origin-Dest=%{x}<br>count=%{y}<extra></extra>",
         "legendgroup": "",
         "marker": {
          "color": "#636efa",
          "pattern": {
           "shape": ""
          }
         },
         "name": "",
         "offsetgroup": "",
         "orientation": "v",
         "showlegend": false,
         "textposition": "auto",
         "type": "bar",
         "x": [
          "CA-CA",
          "TX-TX",
          "HI-HI",
          "GA-FL",
          "FL-GA",
          "AZ-CA",
          "CA-AZ",
          "TX-CA",
          "CA-TX",
          "NY-FL",
          "FL-NY",
          "CA-NV",
          "NV-CA",
          "TX-FL",
          "FL-TX",
          "CO-CA",
          "CA-CO",
          "WA-CA",
          "CA-WA",
          "LA-TX"
         ],
         "xaxis": "x",
         "y": [
          267479,
          228116,
          72891,
          62207,
          62148,
          59988,
          59596,
          57496,
          57070,
          54407,
          54348,
          50341,
          49939,
          40785,
          40657,
          38005,
          37809,
          35529,
          35430,
          32725
         ],
         "yaxis": "y"
        }
       ],
       "layout": {
        "barmode": "relative",
        "legend": {
         "tracegroupgap": 0
        },
        "template": {
         "data": {
          "bar": [
           {
            "error_x": {
             "color": "#2a3f5f"
            },
            "error_y": {
             "color": "#2a3f5f"
            },
            "marker": {
             "line": {
              "color": "#E5ECF6",
              "width": 0.5
             },
             "pattern": {
              "fillmode": "overlay",
              "size": 10,
              "solidity": 0.2
             }
            },
            "type": "bar"
           }
          ],
          "barpolar": [
           {
            "marker": {
             "line": {
              "color": "#E5ECF6",
              "width": 0.5
             },
             "pattern": {
              "fillmode": "overlay",
              "size": 10,
              "solidity": 0.2
             }
            },
            "type": "barpolar"
           }
          ],
          "carpet": [
           {
            "aaxis": {
             "endlinecolor": "#2a3f5f",
             "gridcolor": "white",
             "linecolor": "white",
             "minorgridcolor": "white",
             "startlinecolor": "#2a3f5f"
            },
            "baxis": {
             "endlinecolor": "#2a3f5f",
             "gridcolor": "white",
             "linecolor": "white",
             "minorgridcolor": "white",
             "startlinecolor": "#2a3f5f"
            },
            "type": "carpet"
           }
          ],
          "choropleth": [
           {
            "colorbar": {
             "outlinewidth": 0,
             "ticks": ""
            },
            "type": "choropleth"
           }
          ],
          "contour": [
           {
            "colorbar": {
             "outlinewidth": 0,
             "ticks": ""
            },
            "colorscale": [
             [
              0,
              "#0d0887"
             ],
             [
              0.1111111111111111,
              "#46039f"
             ],
             [
              0.2222222222222222,
              "#7201a8"
             ],
             [
              0.3333333333333333,
              "#9c179e"
             ],
             [
              0.4444444444444444,
              "#bd3786"
             ],
             [
              0.5555555555555556,
              "#d8576b"
             ],
             [
              0.6666666666666666,
              "#ed7953"
             ],
             [
              0.7777777777777778,
              "#fb9f3a"
             ],
             [
              0.8888888888888888,
              "#fdca26"
             ],
             [
              1,
              "#f0f921"
             ]
            ],
            "type": "contour"
           }
          ],
          "contourcarpet": [
           {
            "colorbar": {
             "outlinewidth": 0,
             "ticks": ""
            },
            "type": "contourcarpet"
           }
          ],
          "heatmap": [
           {
            "colorbar": {
             "outlinewidth": 0,
             "ticks": ""
            },
            "colorscale": [
             [
              0,
              "#0d0887"
             ],
             [
              0.1111111111111111,
              "#46039f"
             ],
             [
              0.2222222222222222,
              "#7201a8"
             ],
             [
              0.3333333333333333,
              "#9c179e"
             ],
             [
              0.4444444444444444,
              "#bd3786"
             ],
             [
              0.5555555555555556,
              "#d8576b"
             ],
             [
              0.6666666666666666,
              "#ed7953"
             ],
             [
              0.7777777777777778,
              "#fb9f3a"
             ],
             [
              0.8888888888888888,
              "#fdca26"
             ],
             [
              1,
              "#f0f921"
             ]
            ],
            "type": "heatmap"
           }
          ],
          "heatmapgl": [
           {
            "colorbar": {
             "outlinewidth": 0,
             "ticks": ""
            },
            "colorscale": [
             [
              0,
              "#0d0887"
             ],
             [
              0.1111111111111111,
              "#46039f"
             ],
             [
              0.2222222222222222,
              "#7201a8"
             ],
             [
              0.3333333333333333,
              "#9c179e"
             ],
             [
              0.4444444444444444,
              "#bd3786"
             ],
             [
              0.5555555555555556,
              "#d8576b"
             ],
             [
              0.6666666666666666,
              "#ed7953"
             ],
             [
              0.7777777777777778,
              "#fb9f3a"
             ],
             [
              0.8888888888888888,
              "#fdca26"
             ],
             [
              1,
              "#f0f921"
             ]
            ],
            "type": "heatmapgl"
           }
          ],
          "histogram": [
           {
            "marker": {
             "pattern": {
              "fillmode": "overlay",
              "size": 10,
              "solidity": 0.2
             }
            },
            "type": "histogram"
           }
          ],
          "histogram2d": [
           {
            "colorbar": {
             "outlinewidth": 0,
             "ticks": ""
            },
            "colorscale": [
             [
              0,
              "#0d0887"
             ],
             [
              0.1111111111111111,
              "#46039f"
             ],
             [
              0.2222222222222222,
              "#7201a8"
             ],
             [
              0.3333333333333333,
              "#9c179e"
             ],
             [
              0.4444444444444444,
              "#bd3786"
             ],
             [
              0.5555555555555556,
              "#d8576b"
             ],
             [
              0.6666666666666666,
              "#ed7953"
             ],
             [
              0.7777777777777778,
              "#fb9f3a"
             ],
             [
              0.8888888888888888,
              "#fdca26"
             ],
             [
              1,
              "#f0f921"
             ]
            ],
            "type": "histogram2d"
           }
          ],
          "histogram2dcontour": [
           {
            "colorbar": {
             "outlinewidth": 0,
             "ticks": ""
            },
            "colorscale": [
             [
              0,
              "#0d0887"
             ],
             [
              0.1111111111111111,
              "#46039f"
             ],
             [
              0.2222222222222222,
              "#7201a8"
             ],
             [
              0.3333333333333333,
              "#9c179e"
             ],
             [
              0.4444444444444444,
              "#bd3786"
             ],
             [
              0.5555555555555556,
              "#d8576b"
             ],
             [
              0.6666666666666666,
              "#ed7953"
             ],
             [
              0.7777777777777778,
              "#fb9f3a"
             ],
             [
              0.8888888888888888,
              "#fdca26"
             ],
             [
              1,
              "#f0f921"
             ]
            ],
            "type": "histogram2dcontour"
           }
          ],
          "mesh3d": [
           {
            "colorbar": {
             "outlinewidth": 0,
             "ticks": ""
            },
            "type": "mesh3d"
           }
          ],
          "parcoords": [
           {
            "line": {
             "colorbar": {
              "outlinewidth": 0,
              "ticks": ""
             }
            },
            "type": "parcoords"
           }
          ],
          "pie": [
           {
            "automargin": true,
            "type": "pie"
           }
          ],
          "scatter": [
           {
            "fillpattern": {
             "fillmode": "overlay",
             "size": 10,
             "solidity": 0.2
            },
            "type": "scatter"
           }
          ],
          "scatter3d": [
           {
            "line": {
             "colorbar": {
              "outlinewidth": 0,
              "ticks": ""
             }
            },
            "marker": {
             "colorbar": {
              "outlinewidth": 0,
              "ticks": ""
             }
            },
            "type": "scatter3d"
           }
          ],
          "scattercarpet": [
           {
            "marker": {
             "colorbar": {
              "outlinewidth": 0,
              "ticks": ""
             }
            },
            "type": "scattercarpet"
           }
          ],
          "scattergeo": [
           {
            "marker": {
             "colorbar": {
              "outlinewidth": 0,
              "ticks": ""
             }
            },
            "type": "scattergeo"
           }
          ],
          "scattergl": [
           {
            "marker": {
             "colorbar": {
              "outlinewidth": 0,
              "ticks": ""
             }
            },
            "type": "scattergl"
           }
          ],
          "scattermapbox": [
           {
            "marker": {
             "colorbar": {
              "outlinewidth": 0,
              "ticks": ""
             }
            },
            "type": "scattermapbox"
           }
          ],
          "scatterpolar": [
           {
            "marker": {
             "colorbar": {
              "outlinewidth": 0,
              "ticks": ""
             }
            },
            "type": "scatterpolar"
           }
          ],
          "scatterpolargl": [
           {
            "marker": {
             "colorbar": {
              "outlinewidth": 0,
              "ticks": ""
             }
            },
            "type": "scatterpolargl"
           }
          ],
          "scatterternary": [
           {
            "marker": {
             "colorbar": {
              "outlinewidth": 0,
              "ticks": ""
             }
            },
            "type": "scatterternary"
           }
          ],
          "surface": [
           {
            "colorbar": {
             "outlinewidth": 0,
             "ticks": ""
            },
            "colorscale": [
             [
              0,
              "#0d0887"
             ],
             [
              0.1111111111111111,
              "#46039f"
             ],
             [
              0.2222222222222222,
              "#7201a8"
             ],
             [
              0.3333333333333333,
              "#9c179e"
             ],
             [
              0.4444444444444444,
              "#bd3786"
             ],
             [
              0.5555555555555556,
              "#d8576b"
             ],
             [
              0.6666666666666666,
              "#ed7953"
             ],
             [
              0.7777777777777778,
              "#fb9f3a"
             ],
             [
              0.8888888888888888,
              "#fdca26"
             ],
             [
              1,
              "#f0f921"
             ]
            ],
            "type": "surface"
           }
          ],
          "table": [
           {
            "cells": {
             "fill": {
              "color": "#EBF0F8"
             },
             "line": {
              "color": "white"
             }
            },
            "header": {
             "fill": {
              "color": "#C8D4E3"
             },
             "line": {
              "color": "white"
             }
            },
            "type": "table"
           }
          ]
         },
         "layout": {
          "annotationdefaults": {
           "arrowcolor": "#2a3f5f",
           "arrowhead": 0,
           "arrowwidth": 1
          },
          "autotypenumbers": "strict",
          "coloraxis": {
           "colorbar": {
            "outlinewidth": 0,
            "ticks": ""
           }
          },
          "colorscale": {
           "diverging": [
            [
             0,
             "#8e0152"
            ],
            [
             0.1,
             "#c51b7d"
            ],
            [
             0.2,
             "#de77ae"
            ],
            [
             0.3,
             "#f1b6da"
            ],
            [
             0.4,
             "#fde0ef"
            ],
            [
             0.5,
             "#f7f7f7"
            ],
            [
             0.6,
             "#e6f5d0"
            ],
            [
             0.7,
             "#b8e186"
            ],
            [
             0.8,
             "#7fbc41"
            ],
            [
             0.9,
             "#4d9221"
            ],
            [
             1,
             "#276419"
            ]
           ],
           "sequential": [
            [
             0,
             "#0d0887"
            ],
            [
             0.1111111111111111,
             "#46039f"
            ],
            [
             0.2222222222222222,
             "#7201a8"
            ],
            [
             0.3333333333333333,
             "#9c179e"
            ],
            [
             0.4444444444444444,
             "#bd3786"
            ],
            [
             0.5555555555555556,
             "#d8576b"
            ],
            [
             0.6666666666666666,
             "#ed7953"
            ],
            [
             0.7777777777777778,
             "#fb9f3a"
            ],
            [
             0.8888888888888888,
             "#fdca26"
            ],
            [
             1,
             "#f0f921"
            ]
           ],
           "sequentialminus": [
            [
             0,
             "#0d0887"
            ],
            [
             0.1111111111111111,
             "#46039f"
            ],
            [
             0.2222222222222222,
             "#7201a8"
            ],
            [
             0.3333333333333333,
             "#9c179e"
            ],
            [
             0.4444444444444444,
             "#bd3786"
            ],
            [
             0.5555555555555556,
             "#d8576b"
            ],
            [
             0.6666666666666666,
             "#ed7953"
            ],
            [
             0.7777777777777778,
             "#fb9f3a"
            ],
            [
             0.8888888888888888,
             "#fdca26"
            ],
            [
             1,
             "#f0f921"
            ]
           ]
          },
          "colorway": [
           "#636efa",
           "#EF553B",
           "#00cc96",
           "#ab63fa",
           "#FFA15A",
           "#19d3f3",
           "#FF6692",
           "#B6E880",
           "#FF97FF",
           "#FECB52"
          ],
          "font": {
           "color": "#2a3f5f"
          },
          "geo": {
           "bgcolor": "white",
           "lakecolor": "white",
           "landcolor": "#E5ECF6",
           "showlakes": true,
           "showland": true,
           "subunitcolor": "white"
          },
          "hoverlabel": {
           "align": "left"
          },
          "hovermode": "closest",
          "mapbox": {
           "style": "light"
          },
          "paper_bgcolor": "white",
          "plot_bgcolor": "#E5ECF6",
          "polar": {
           "angularaxis": {
            "gridcolor": "white",
            "linecolor": "white",
            "ticks": ""
           },
           "bgcolor": "#E5ECF6",
           "radialaxis": {
            "gridcolor": "white",
            "linecolor": "white",
            "ticks": ""
           }
          },
          "scene": {
           "xaxis": {
            "backgroundcolor": "#E5ECF6",
            "gridcolor": "white",
            "gridwidth": 2,
            "linecolor": "white",
            "showbackground": true,
            "ticks": "",
            "zerolinecolor": "white"
           },
           "yaxis": {
            "backgroundcolor": "#E5ECF6",
            "gridcolor": "white",
            "gridwidth": 2,
            "linecolor": "white",
            "showbackground": true,
            "ticks": "",
            "zerolinecolor": "white"
           },
           "zaxis": {
            "backgroundcolor": "#E5ECF6",
            "gridcolor": "white",
            "gridwidth": 2,
            "linecolor": "white",
            "showbackground": true,
            "ticks": "",
            "zerolinecolor": "white"
           }
          },
          "shapedefaults": {
           "line": {
            "color": "#2a3f5f"
           }
          },
          "ternary": {
           "aaxis": {
            "gridcolor": "white",
            "linecolor": "white",
            "ticks": ""
           },
           "baxis": {
            "gridcolor": "white",
            "linecolor": "white",
            "ticks": ""
           },
           "bgcolor": "#E5ECF6",
           "caxis": {
            "gridcolor": "white",
            "linecolor": "white",
            "ticks": ""
           }
          },
          "title": {
           "x": 0.05
          },
          "xaxis": {
           "automargin": true,
           "gridcolor": "white",
           "linecolor": "white",
           "ticks": "",
           "title": {
            "standoff": 15
           },
           "zerolinecolor": "white",
           "zerolinewidth": 2
          },
          "yaxis": {
           "automargin": true,
           "gridcolor": "white",
           "linecolor": "white",
           "ticks": "",
           "title": {
            "standoff": 15
           },
           "zerolinecolor": "white",
           "zerolinewidth": 2
          }
         }
        },
        "title": {
         "text": "Number of flights by Origin-Dest"
        },
        "xaxis": {
         "anchor": "y",
         "domain": [
          0,
          1
         ],
         "title": {
          "text": "Origin-Dest"
         }
        },
        "yaxis": {
         "anchor": "x",
         "domain": [
          0,
          1
         ],
         "title": {
          "text": "count"
         }
        }
       }
      }
     },
     "metadata": {},
     "output_type": "display_data"
    }
   ],
   "source": [
    "# aggregate by Origin and Dest and month, and count the number of flights\n",
    "def flights_by_month(df):\n",
    "\n",
    "    df_aggregated = df.groupBy(\"ORIGIN_STATE\", \"DEST_STATE\").count()\n",
    "    # create a new column as Orgigin and Dest concatenated using a dash\n",
    "    df_aggregated = df_aggregated.withColumn(\"Origin-Dest\", concat(col(\"ORIGIN_STATE\"), lit(\"-\"), col(\"DEST_STATE\")))\n",
    "    # drop the columns Origin and Dest\n",
    "    df_aggregated = df_aggregated.drop(\"Origin\", \"Dest\")\n",
    "    # order by Origin-Dest\n",
    "    df_aggregated = df_aggregated.orderBy(\"count\",ascending=False)\n",
    "    \n",
    "    return df_aggregated\n",
    "\n",
    "# visualized flights as bar chart, onlyt show the top 20\n",
    "def flights_by_month_bar(df):\n",
    "    df_pd = flights_by_month(df).toPandas()\n",
    "    fig = px.bar(df_pd.head(20), x=\"Origin-Dest\", y=\"count\", title=\"Number of flights by Origin-Dest\")\n",
    "    return fig\n",
    "    \n",
    "flights_by_month_bar(df).show()\n"
   ]
  },
  {
   "cell_type": "code",
   "execution_count": 8,
   "metadata": {},
   "outputs": [
    {
     "name": "stderr",
     "output_type": "stream",
     "text": [
      "/opt/homebrew/lib/python3.10/site-packages/pyspark/sql/pandas/conversion.py:248: FutureWarning:\n",
      "\n",
      "Passing unit-less datetime64 dtype to .astype is deprecated and will raise in a future version. Pass 'datetime64[ns]' instead\n",
      "\n"
     ]
    },
    {
     "data": {
      "application/vnd.plotly.v1+json": {
       "config": {
        "plotlyServerURL": "https://plot.ly"
       },
       "data": [
        {
         "customdata": [
          [
           "Tuesday"
          ],
          [
           "Wednesday"
          ],
          [
           "Thursday"
          ],
          [
           "Friday"
          ],
          [
           "Saturday"
          ],
          [
           "Sunday"
          ],
          [
           "Monday"
          ],
          [
           "Tuesday"
          ],
          [
           "Wednesday"
          ],
          [
           "Thursday"
          ],
          [
           "Friday"
          ],
          [
           "Saturday"
          ],
          [
           "Sunday"
          ],
          [
           "Monday"
          ],
          [
           "Tuesday"
          ],
          [
           "Wednesday"
          ],
          [
           "Thursday"
          ],
          [
           "Friday"
          ],
          [
           "Saturday"
          ],
          [
           "Sunday"
          ],
          [
           "Monday"
          ],
          [
           "Tuesday"
          ],
          [
           "Wednesday"
          ],
          [
           "Thursday"
          ],
          [
           "Friday"
          ],
          [
           "Saturday"
          ],
          [
           "Sunday"
          ],
          [
           "Monday"
          ],
          [
           "Tuesday"
          ],
          [
           "Wednesday"
          ],
          [
           "Thursday"
          ],
          [
           "Friday"
          ],
          [
           "Saturday"
          ],
          [
           "Sunday"
          ],
          [
           "Monday"
          ],
          [
           "Tuesday"
          ],
          [
           "Wednesday"
          ],
          [
           "Thursday"
          ],
          [
           "Friday"
          ],
          [
           "Saturday"
          ],
          [
           "Sunday"
          ],
          [
           "Monday"
          ],
          [
           "Tuesday"
          ],
          [
           "Wednesday"
          ],
          [
           "Thursday"
          ],
          [
           "Friday"
          ],
          [
           "Saturday"
          ],
          [
           "Sunday"
          ],
          [
           "Monday"
          ],
          [
           "Tuesday"
          ],
          [
           "Wednesday"
          ],
          [
           "Thursday"
          ],
          [
           "Friday"
          ],
          [
           "Saturday"
          ],
          [
           "Sunday"
          ],
          [
           "Monday"
          ],
          [
           "Tuesday"
          ],
          [
           "Wednesday"
          ],
          [
           "Thursday"
          ],
          [
           "Friday"
          ],
          [
           "Saturday"
          ],
          [
           "Sunday"
          ],
          [
           "Monday"
          ],
          [
           "Tuesday"
          ],
          [
           "Wednesday"
          ],
          [
           "Thursday"
          ],
          [
           "Friday"
          ],
          [
           "Saturday"
          ],
          [
           "Sunday"
          ],
          [
           "Monday"
          ],
          [
           "Tuesday"
          ],
          [
           "Wednesday"
          ],
          [
           "Thursday"
          ],
          [
           "Friday"
          ],
          [
           "Saturday"
          ],
          [
           "Sunday"
          ],
          [
           "Monday"
          ],
          [
           "Tuesday"
          ],
          [
           "Wednesday"
          ],
          [
           "Thursday"
          ],
          [
           "Friday"
          ],
          [
           "Saturday"
          ],
          [
           "Sunday"
          ],
          [
           "Monday"
          ],
          [
           "Tuesday"
          ],
          [
           "Wednesday"
          ],
          [
           "Thursday"
          ],
          [
           "Friday"
          ],
          [
           "Saturday"
          ],
          [
           "Sunday"
          ],
          [
           "Monday"
          ],
          [
           "Tuesday"
          ],
          [
           "Wednesday"
          ],
          [
           "Thursday"
          ],
          [
           "Friday"
          ],
          [
           "Saturday"
          ],
          [
           "Sunday"
          ],
          [
           "Monday"
          ],
          [
           "Tuesday"
          ],
          [
           "Wednesday"
          ],
          [
           "Thursday"
          ],
          [
           "Friday"
          ],
          [
           "Saturday"
          ],
          [
           "Sunday"
          ],
          [
           "Monday"
          ],
          [
           "Tuesday"
          ],
          [
           "Wednesday"
          ],
          [
           "Thursday"
          ],
          [
           "Friday"
          ],
          [
           "Saturday"
          ],
          [
           "Sunday"
          ],
          [
           "Monday"
          ],
          [
           "Tuesday"
          ],
          [
           "Wednesday"
          ],
          [
           "Thursday"
          ],
          [
           "Friday"
          ],
          [
           "Saturday"
          ],
          [
           "Sunday"
          ],
          [
           "Monday"
          ],
          [
           "Tuesday"
          ],
          [
           "Wednesday"
          ],
          [
           "Thursday"
          ],
          [
           "Friday"
          ],
          [
           "Saturday"
          ],
          [
           "Sunday"
          ],
          [
           "Monday"
          ],
          [
           "Tuesday"
          ],
          [
           "Wednesday"
          ],
          [
           "Thursday"
          ],
          [
           "Friday"
          ],
          [
           "Saturday"
          ],
          [
           "Sunday"
          ],
          [
           "Monday"
          ],
          [
           "Tuesday"
          ],
          [
           "Wednesday"
          ],
          [
           "Thursday"
          ],
          [
           "Friday"
          ],
          [
           "Saturday"
          ],
          [
           "Sunday"
          ],
          [
           "Monday"
          ],
          [
           "Tuesday"
          ],
          [
           "Wednesday"
          ],
          [
           "Thursday"
          ],
          [
           "Friday"
          ],
          [
           "Saturday"
          ],
          [
           "Sunday"
          ],
          [
           "Monday"
          ],
          [
           "Tuesday"
          ],
          [
           "Wednesday"
          ],
          [
           "Thursday"
          ],
          [
           "Friday"
          ],
          [
           "Saturday"
          ],
          [
           "Sunday"
          ],
          [
           "Monday"
          ],
          [
           "Tuesday"
          ],
          [
           "Wednesday"
          ],
          [
           "Thursday"
          ],
          [
           "Friday"
          ],
          [
           "Saturday"
          ],
          [
           "Sunday"
          ],
          [
           "Monday"
          ],
          [
           "Tuesday"
          ],
          [
           "Wednesday"
          ],
          [
           "Thursday"
          ],
          [
           "Friday"
          ],
          [
           "Saturday"
          ],
          [
           "Sunday"
          ],
          [
           "Monday"
          ],
          [
           "Tuesday"
          ],
          [
           "Wednesday"
          ],
          [
           "Thursday"
          ],
          [
           "Friday"
          ],
          [
           "Saturday"
          ],
          [
           "Sunday"
          ],
          [
           "Monday"
          ],
          [
           "Tuesday"
          ],
          [
           "Wednesday"
          ],
          [
           "Thursday"
          ],
          [
           "Friday"
          ],
          [
           "Saturday"
          ],
          [
           "Sunday"
          ],
          [
           "Monday"
          ],
          [
           "Tuesday"
          ],
          [
           "Wednesday"
          ],
          [
           "Thursday"
          ],
          [
           "Friday"
          ],
          [
           "Saturday"
          ],
          [
           "Sunday"
          ],
          [
           "Monday"
          ],
          [
           "Tuesday"
          ],
          [
           "Wednesday"
          ],
          [
           "Thursday"
          ],
          [
           "Friday"
          ],
          [
           "Saturday"
          ],
          [
           "Sunday"
          ],
          [
           "Monday"
          ],
          [
           "Tuesday"
          ],
          [
           "Wednesday"
          ],
          [
           "Thursday"
          ],
          [
           "Friday"
          ],
          [
           "Saturday"
          ],
          [
           "Sunday"
          ],
          [
           "Monday"
          ],
          [
           "Tuesday"
          ],
          [
           "Wednesday"
          ],
          [
           "Thursday"
          ],
          [
           "Friday"
          ],
          [
           "Saturday"
          ],
          [
           "Sunday"
          ],
          [
           "Monday"
          ],
          [
           "Tuesday"
          ],
          [
           "Wednesday"
          ],
          [
           "Thursday"
          ],
          [
           "Friday"
          ],
          [
           "Saturday"
          ],
          [
           "Sunday"
          ],
          [
           "Monday"
          ],
          [
           "Tuesday"
          ],
          [
           "Wednesday"
          ],
          [
           "Thursday"
          ],
          [
           "Friday"
          ],
          [
           "Saturday"
          ],
          [
           "Sunday"
          ],
          [
           "Monday"
          ],
          [
           "Tuesday"
          ],
          [
           "Wednesday"
          ],
          [
           "Thursday"
          ],
          [
           "Friday"
          ],
          [
           "Saturday"
          ],
          [
           "Sunday"
          ],
          [
           "Monday"
          ],
          [
           "Tuesday"
          ],
          [
           "Wednesday"
          ],
          [
           "Thursday"
          ],
          [
           "Friday"
          ],
          [
           "Saturday"
          ],
          [
           "Sunday"
          ],
          [
           "Monday"
          ],
          [
           "Tuesday"
          ],
          [
           "Wednesday"
          ],
          [
           "Thursday"
          ],
          [
           "Friday"
          ],
          [
           "Saturday"
          ],
          [
           "Sunday"
          ],
          [
           "Monday"
          ],
          [
           "Tuesday"
          ],
          [
           "Wednesday"
          ],
          [
           "Thursday"
          ],
          [
           "Friday"
          ],
          [
           "Saturday"
          ],
          [
           "Sunday"
          ],
          [
           "Monday"
          ],
          [
           "Tuesday"
          ],
          [
           "Wednesday"
          ],
          [
           "Thursday"
          ],
          [
           "Friday"
          ],
          [
           "Saturday"
          ],
          [
           "Sunday"
          ],
          [
           "Monday"
          ],
          [
           "Tuesday"
          ],
          [
           "Wednesday"
          ],
          [
           "Thursday"
          ],
          [
           "Friday"
          ],
          [
           "Saturday"
          ],
          [
           "Sunday"
          ],
          [
           "Monday"
          ],
          [
           "Tuesday"
          ],
          [
           "Wednesday"
          ],
          [
           "Thursday"
          ],
          [
           "Friday"
          ],
          [
           "Saturday"
          ],
          [
           "Sunday"
          ],
          [
           "Monday"
          ],
          [
           "Tuesday"
          ],
          [
           "Wednesday"
          ],
          [
           "Thursday"
          ],
          [
           "Friday"
          ],
          [
           "Saturday"
          ],
          [
           "Sunday"
          ],
          [
           "Monday"
          ],
          [
           "Tuesday"
          ],
          [
           "Wednesday"
          ],
          [
           "Thursday"
          ],
          [
           "Friday"
          ],
          [
           "Saturday"
          ],
          [
           "Sunday"
          ],
          [
           "Monday"
          ],
          [
           "Tuesday"
          ],
          [
           "Wednesday"
          ],
          [
           "Thursday"
          ],
          [
           "Friday"
          ],
          [
           "Saturday"
          ],
          [
           "Sunday"
          ],
          [
           "Monday"
          ],
          [
           "Tuesday"
          ],
          [
           "Wednesday"
          ],
          [
           "Thursday"
          ],
          [
           "Friday"
          ],
          [
           "Saturday"
          ],
          [
           "Sunday"
          ],
          [
           "Monday"
          ],
          [
           "Tuesday"
          ],
          [
           "Wednesday"
          ],
          [
           "Thursday"
          ],
          [
           "Friday"
          ],
          [
           "Saturday"
          ],
          [
           "Sunday"
          ],
          [
           "Monday"
          ],
          [
           "Tuesday"
          ],
          [
           "Wednesday"
          ],
          [
           "Thursday"
          ],
          [
           "Friday"
          ],
          [
           "Saturday"
          ],
          [
           "Sunday"
          ],
          [
           "Monday"
          ],
          [
           "Tuesday"
          ],
          [
           "Wednesday"
          ],
          [
           "Thursday"
          ],
          [
           "Friday"
          ],
          [
           "Saturday"
          ],
          [
           "Sunday"
          ],
          [
           "Monday"
          ],
          [
           "Tuesday"
          ],
          [
           "Wednesday"
          ],
          [
           "Thursday"
          ],
          [
           "Friday"
          ],
          [
           "Saturday"
          ],
          [
           "Sunday"
          ],
          [
           "Monday"
          ],
          [
           "Tuesday"
          ],
          [
           "Wednesday"
          ],
          [
           "Thursday"
          ],
          [
           "Friday"
          ],
          [
           "Saturday"
          ],
          [
           "Sunday"
          ],
          [
           "Monday"
          ],
          [
           "Tuesday"
          ],
          [
           "Wednesday"
          ],
          [
           "Thursday"
          ],
          [
           "Friday"
          ],
          [
           "Saturday"
          ],
          [
           "Sunday"
          ],
          [
           "Monday"
          ],
          [
           "Tuesday"
          ],
          [
           "Wednesday"
          ],
          [
           "Thursday"
          ],
          [
           "Friday"
          ],
          [
           "Saturday"
          ],
          [
           "Sunday"
          ],
          [
           "Monday"
          ],
          [
           "Tuesday"
          ],
          [
           "Wednesday"
          ],
          [
           "Thursday"
          ],
          [
           "Friday"
          ],
          [
           "Saturday"
          ],
          [
           "Sunday"
          ],
          [
           "Monday"
          ],
          [
           "Tuesday"
          ],
          [
           "Wednesday"
          ],
          [
           "Thursday"
          ],
          [
           "Friday"
          ],
          [
           "Saturday"
          ],
          [
           "Sunday"
          ],
          [
           "Monday"
          ],
          [
           "Tuesday"
          ]
         ],
         "hovertemplate": "FlightDate=%{x}<br>count=%{y}<br>DayOfWeek=%{customdata[0]}<extra></extra>",
         "legendgroup": "",
         "line": {
          "color": "#636efa",
          "dash": "solid"
         },
         "marker": {
          "symbol": "circle"
         },
         "mode": "lines",
         "name": "",
         "orientation": "v",
         "showlegend": false,
         "type": "scatter",
         "x": [
          "2013-01-01T00:00:00",
          "2013-01-02T00:00:00",
          "2013-01-03T00:00:00",
          "2013-01-04T00:00:00",
          "2013-01-05T00:00:00",
          "2013-01-06T00:00:00",
          "2013-01-07T00:00:00",
          "2013-01-08T00:00:00",
          "2013-01-09T00:00:00",
          "2013-01-10T00:00:00",
          "2013-01-11T00:00:00",
          "2013-01-12T00:00:00",
          "2013-01-13T00:00:00",
          "2013-01-14T00:00:00",
          "2013-01-15T00:00:00",
          "2013-01-16T00:00:00",
          "2013-01-17T00:00:00",
          "2013-01-18T00:00:00",
          "2013-01-19T00:00:00",
          "2013-01-20T00:00:00",
          "2013-01-21T00:00:00",
          "2013-01-22T00:00:00",
          "2013-01-23T00:00:00",
          "2013-01-24T00:00:00",
          "2013-01-25T00:00:00",
          "2013-01-26T00:00:00",
          "2013-01-27T00:00:00",
          "2013-01-28T00:00:00",
          "2013-01-29T00:00:00",
          "2013-01-30T00:00:00",
          "2013-01-31T00:00:00",
          "2013-02-01T00:00:00",
          "2013-02-02T00:00:00",
          "2013-02-03T00:00:00",
          "2013-02-04T00:00:00",
          "2013-02-05T00:00:00",
          "2013-02-06T00:00:00",
          "2013-02-07T00:00:00",
          "2013-02-08T00:00:00",
          "2013-02-09T00:00:00",
          "2013-02-10T00:00:00",
          "2013-02-11T00:00:00",
          "2013-02-12T00:00:00",
          "2013-02-13T00:00:00",
          "2013-02-14T00:00:00",
          "2013-02-15T00:00:00",
          "2013-02-16T00:00:00",
          "2013-02-17T00:00:00",
          "2013-02-18T00:00:00",
          "2013-02-19T00:00:00",
          "2013-02-20T00:00:00",
          "2013-02-21T00:00:00",
          "2013-02-22T00:00:00",
          "2013-02-23T00:00:00",
          "2013-02-24T00:00:00",
          "2013-02-25T00:00:00",
          "2013-02-26T00:00:00",
          "2013-02-27T00:00:00",
          "2013-02-28T00:00:00",
          "2013-03-01T00:00:00",
          "2013-03-02T00:00:00",
          "2013-03-03T00:00:00",
          "2013-03-04T00:00:00",
          "2013-03-05T00:00:00",
          "2013-03-06T00:00:00",
          "2013-03-07T00:00:00",
          "2013-03-08T00:00:00",
          "2013-03-09T00:00:00",
          "2013-03-10T00:00:00",
          "2013-03-11T00:00:00",
          "2013-03-12T00:00:00",
          "2013-03-13T00:00:00",
          "2013-03-14T00:00:00",
          "2013-03-15T00:00:00",
          "2013-03-16T00:00:00",
          "2013-03-17T00:00:00",
          "2013-03-18T00:00:00",
          "2013-03-19T00:00:00",
          "2013-03-20T00:00:00",
          "2013-03-21T00:00:00",
          "2013-03-22T00:00:00",
          "2013-03-23T00:00:00",
          "2013-03-24T00:00:00",
          "2013-03-25T00:00:00",
          "2013-03-26T00:00:00",
          "2013-03-27T00:00:00",
          "2013-03-28T00:00:00",
          "2013-03-29T00:00:00",
          "2013-03-30T00:00:00",
          "2013-03-31T00:00:00",
          "2013-04-01T00:00:00",
          "2013-04-02T00:00:00",
          "2013-04-03T00:00:00",
          "2013-04-04T00:00:00",
          "2013-04-05T00:00:00",
          "2013-04-06T00:00:00",
          "2013-04-07T00:00:00",
          "2013-04-08T00:00:00",
          "2013-04-09T00:00:00",
          "2013-04-10T00:00:00",
          "2013-04-11T00:00:00",
          "2013-04-12T00:00:00",
          "2013-04-13T00:00:00",
          "2013-04-14T00:00:00",
          "2013-04-15T00:00:00",
          "2013-04-16T00:00:00",
          "2013-04-17T00:00:00",
          "2013-04-18T00:00:00",
          "2013-04-19T00:00:00",
          "2013-04-20T00:00:00",
          "2013-04-21T00:00:00",
          "2013-04-22T00:00:00",
          "2013-04-23T00:00:00",
          "2013-04-24T00:00:00",
          "2013-04-25T00:00:00",
          "2013-04-26T00:00:00",
          "2013-04-27T00:00:00",
          "2013-04-28T00:00:00",
          "2013-04-29T00:00:00",
          "2013-04-30T00:00:00",
          "2013-05-01T00:00:00",
          "2013-05-02T00:00:00",
          "2013-05-03T00:00:00",
          "2013-05-04T00:00:00",
          "2013-05-05T00:00:00",
          "2013-05-06T00:00:00",
          "2013-05-07T00:00:00",
          "2013-05-08T00:00:00",
          "2013-05-09T00:00:00",
          "2013-05-10T00:00:00",
          "2013-05-11T00:00:00",
          "2013-05-12T00:00:00",
          "2013-05-13T00:00:00",
          "2013-05-14T00:00:00",
          "2013-05-15T00:00:00",
          "2013-05-16T00:00:00",
          "2013-05-17T00:00:00",
          "2013-05-18T00:00:00",
          "2013-05-19T00:00:00",
          "2013-05-20T00:00:00",
          "2013-05-21T00:00:00",
          "2013-05-22T00:00:00",
          "2013-05-23T00:00:00",
          "2013-05-24T00:00:00",
          "2013-05-25T00:00:00",
          "2013-05-26T00:00:00",
          "2013-05-27T00:00:00",
          "2013-05-28T00:00:00",
          "2013-05-29T00:00:00",
          "2013-05-30T00:00:00",
          "2013-05-31T00:00:00",
          "2013-06-01T00:00:00",
          "2013-06-02T00:00:00",
          "2013-06-03T00:00:00",
          "2013-06-04T00:00:00",
          "2013-06-05T00:00:00",
          "2013-06-06T00:00:00",
          "2013-06-07T00:00:00",
          "2013-06-08T00:00:00",
          "2013-06-09T00:00:00",
          "2013-06-10T00:00:00",
          "2013-06-11T00:00:00",
          "2013-06-12T00:00:00",
          "2013-06-13T00:00:00",
          "2013-06-14T00:00:00",
          "2013-06-15T00:00:00",
          "2013-06-16T00:00:00",
          "2013-06-17T00:00:00",
          "2013-06-18T00:00:00",
          "2013-06-19T00:00:00",
          "2013-06-20T00:00:00",
          "2013-06-21T00:00:00",
          "2013-06-22T00:00:00",
          "2013-06-23T00:00:00",
          "2013-06-24T00:00:00",
          "2013-06-25T00:00:00",
          "2013-06-26T00:00:00",
          "2013-06-27T00:00:00",
          "2013-06-28T00:00:00",
          "2013-06-29T00:00:00",
          "2013-06-30T00:00:00",
          "2013-07-01T00:00:00",
          "2013-07-02T00:00:00",
          "2013-07-03T00:00:00",
          "2013-07-04T00:00:00",
          "2013-07-05T00:00:00",
          "2013-07-06T00:00:00",
          "2013-07-07T00:00:00",
          "2013-07-08T00:00:00",
          "2013-07-09T00:00:00",
          "2013-07-10T00:00:00",
          "2013-07-11T00:00:00",
          "2013-07-12T00:00:00",
          "2013-07-13T00:00:00",
          "2013-07-14T00:00:00",
          "2013-07-15T00:00:00",
          "2013-07-16T00:00:00",
          "2013-07-17T00:00:00",
          "2013-07-18T00:00:00",
          "2013-07-19T00:00:00",
          "2013-07-20T00:00:00",
          "2013-07-21T00:00:00",
          "2013-07-22T00:00:00",
          "2013-07-23T00:00:00",
          "2013-07-24T00:00:00",
          "2013-07-25T00:00:00",
          "2013-07-26T00:00:00",
          "2013-07-27T00:00:00",
          "2013-07-28T00:00:00",
          "2013-07-29T00:00:00",
          "2013-07-30T00:00:00",
          "2013-07-31T00:00:00",
          "2013-08-01T00:00:00",
          "2013-08-02T00:00:00",
          "2013-08-03T00:00:00",
          "2013-08-04T00:00:00",
          "2013-08-05T00:00:00",
          "2013-08-06T00:00:00",
          "2013-08-07T00:00:00",
          "2013-08-08T00:00:00",
          "2013-08-09T00:00:00",
          "2013-08-10T00:00:00",
          "2013-08-11T00:00:00",
          "2013-08-12T00:00:00",
          "2013-08-13T00:00:00",
          "2013-08-14T00:00:00",
          "2013-08-15T00:00:00",
          "2013-08-16T00:00:00",
          "2013-08-17T00:00:00",
          "2013-08-18T00:00:00",
          "2013-08-19T00:00:00",
          "2013-08-20T00:00:00",
          "2013-08-21T00:00:00",
          "2013-08-22T00:00:00",
          "2013-08-23T00:00:00",
          "2013-08-24T00:00:00",
          "2013-08-25T00:00:00",
          "2013-08-26T00:00:00",
          "2013-08-27T00:00:00",
          "2013-08-28T00:00:00",
          "2013-08-29T00:00:00",
          "2013-08-30T00:00:00",
          "2013-08-31T00:00:00",
          "2013-09-01T00:00:00",
          "2013-09-02T00:00:00",
          "2013-09-03T00:00:00",
          "2013-09-04T00:00:00",
          "2013-09-05T00:00:00",
          "2013-09-06T00:00:00",
          "2013-09-07T00:00:00",
          "2013-09-08T00:00:00",
          "2013-09-09T00:00:00",
          "2013-09-10T00:00:00",
          "2013-09-11T00:00:00",
          "2013-09-12T00:00:00",
          "2013-09-13T00:00:00",
          "2013-09-14T00:00:00",
          "2013-09-15T00:00:00",
          "2013-09-16T00:00:00",
          "2013-09-17T00:00:00",
          "2013-09-18T00:00:00",
          "2013-09-19T00:00:00",
          "2013-09-20T00:00:00",
          "2013-09-21T00:00:00",
          "2013-09-22T00:00:00",
          "2013-09-23T00:00:00",
          "2013-09-24T00:00:00",
          "2013-09-25T00:00:00",
          "2013-09-26T00:00:00",
          "2013-09-27T00:00:00",
          "2013-09-28T00:00:00",
          "2013-09-29T00:00:00",
          "2013-09-30T00:00:00",
          "2013-10-01T00:00:00",
          "2013-10-02T00:00:00",
          "2013-10-03T00:00:00",
          "2013-10-04T00:00:00",
          "2013-10-05T00:00:00",
          "2013-10-06T00:00:00",
          "2013-10-07T00:00:00",
          "2013-10-08T00:00:00",
          "2013-10-09T00:00:00",
          "2013-10-10T00:00:00",
          "2013-10-11T00:00:00",
          "2013-10-12T00:00:00",
          "2013-10-13T00:00:00",
          "2013-10-14T00:00:00",
          "2013-10-15T00:00:00",
          "2013-10-16T00:00:00",
          "2013-10-17T00:00:00",
          "2013-10-18T00:00:00",
          "2013-10-19T00:00:00",
          "2013-10-20T00:00:00",
          "2013-10-21T00:00:00",
          "2013-10-22T00:00:00",
          "2013-10-23T00:00:00",
          "2013-10-24T00:00:00",
          "2013-10-25T00:00:00",
          "2013-10-26T00:00:00",
          "2013-10-27T00:00:00",
          "2013-10-28T00:00:00",
          "2013-10-29T00:00:00",
          "2013-10-30T00:00:00",
          "2013-10-31T00:00:00",
          "2013-11-01T00:00:00",
          "2013-11-02T00:00:00",
          "2013-11-03T00:00:00",
          "2013-11-04T00:00:00",
          "2013-11-05T00:00:00",
          "2013-11-06T00:00:00",
          "2013-11-07T00:00:00",
          "2013-11-08T00:00:00",
          "2013-11-09T00:00:00",
          "2013-11-10T00:00:00",
          "2013-11-11T00:00:00",
          "2013-11-12T00:00:00",
          "2013-11-13T00:00:00",
          "2013-11-14T00:00:00",
          "2013-11-15T00:00:00",
          "2013-11-16T00:00:00",
          "2013-11-17T00:00:00",
          "2013-11-18T00:00:00",
          "2013-11-19T00:00:00",
          "2013-11-20T00:00:00",
          "2013-11-21T00:00:00",
          "2013-11-22T00:00:00",
          "2013-11-23T00:00:00",
          "2013-11-24T00:00:00",
          "2013-11-25T00:00:00",
          "2013-11-26T00:00:00",
          "2013-11-27T00:00:00",
          "2013-11-28T00:00:00",
          "2013-11-29T00:00:00",
          "2013-11-30T00:00:00",
          "2013-12-01T00:00:00",
          "2013-12-02T00:00:00",
          "2013-12-03T00:00:00",
          "2013-12-04T00:00:00",
          "2013-12-05T00:00:00",
          "2013-12-06T00:00:00",
          "2013-12-07T00:00:00",
          "2013-12-08T00:00:00",
          "2013-12-09T00:00:00",
          "2013-12-10T00:00:00",
          "2013-12-11T00:00:00",
          "2013-12-12T00:00:00",
          "2013-12-13T00:00:00",
          "2013-12-14T00:00:00",
          "2013-12-15T00:00:00",
          "2013-12-16T00:00:00",
          "2013-12-17T00:00:00",
          "2013-12-18T00:00:00",
          "2013-12-19T00:00:00",
          "2013-12-20T00:00:00",
          "2013-12-21T00:00:00",
          "2013-12-22T00:00:00",
          "2013-12-23T00:00:00",
          "2013-12-24T00:00:00",
          "2013-12-25T00:00:00",
          "2013-12-26T00:00:00",
          "2013-12-27T00:00:00",
          "2013-12-28T00:00:00",
          "2013-12-29T00:00:00",
          "2013-12-30T00:00:00",
          "2013-12-31T00:00:00"
         ],
         "xaxis": "x",
         "y": [
          15060,
          17894,
          17588,
          17495,
          13863,
          16322,
          17267,
          16233,
          16564,
          17259,
          17114,
          13121,
          15771,
          17011,
          15685,
          16332,
          17109,
          17261,
          13105,
          14909,
          16869,
          16101,
          16461,
          16972,
          17000,
          13022,
          15432,
          16602,
          15675,
          15932,
          16998,
          17245,
          13084,
          15207,
          16905,
          16121,
          16561,
          17031,
          15490,
          11929,
          15640,
          16738,
          16158,
          16639,
          17944,
          18149,
          14121,
          15773,
          17921,
          17424,
          17227,
          17137,
          17500,
          14150,
          16246,
          17552,
          15833,
          17111,
          18014,
          17878,
          14863,
          17201,
          18098,
          16416,
          16619,
          18172,
          17927,
          14602,
          17458,
          18415,
          17788,
          18063,
          18599,
          18606,
          15372,
          17587,
          17994,
          17617,
          18141,
          18597,
          18642,
          15126,
          17312,
          18212,
          17979,
          18234,
          18618,
          18602,
          15295,
          17280,
          18415,
          18051,
          18218,
          18515,
          18613,
          15271,
          17640,
          18335,
          17507,
          16940,
          17922,
          18314,
          14754,
          17413,
          18419,
          16949,
          16970,
          17161,
          18109,
          14406,
          17494,
          18291,
          17799,
          17964,
          18476,
          18579,
          14428,
          17554,
          18433,
          17868,
          18023,
          18303,
          18240,
          14428,
          17458,
          18433,
          17898,
          17832,
          18323,
          18267,
          14153,
          17188,
          18480,
          17959,
          17882,
          18511,
          18595,
          14499,
          17439,
          18247,
          17500,
          17790,
          17948,
          18456,
          13844,
          13927,
          17439,
          18206,
          17904,
          18273,
          18363,
          14482,
          17361,
          18467,
          18097,
          18112,
          18600,
          18580,
          15411,
          17865,
          18734,
          18652,
          18319,
          18372,
          18960,
          16300,
          18317,
          18718,
          18371,
          18906,
          19087,
          19010,
          16342,
          18174,
          18521,
          18524,
          18404,
          18531,
          18274,
          16151,
          17516,
          17860,
          17819,
          18807,
          13536,
          15746,
          15852,
          17827,
          18811,
          18529,
          18116,
          18553,
          18988,
          16197,
          18299,
          19089,
          18695,
          18841,
          18998,
          18941,
          16060,
          18132,
          18705,
          18501,
          18866,
          19072,
          19124,
          16266,
          18158,
          18870,
          18723,
          18985,
          18951,
          18922,
          16188,
          18276,
          19078,
          18828,
          18948,
          18890,
          18910,
          16257,
          18104,
          18765,
          17870,
          18281,
          18818,
          18799,
          15515,
          17878,
          18718,
          17990,
          18210,
          18298,
          18594,
          14990,
          17562,
          18368,
          17592,
          17713,
          18397,
          18216,
          12944,
          12967,
          16671,
          17590,
          17436,
          17991,
          18056,
          13536,
          17216,
          17939,
          16927,
          17106,
          17324,
          17971,
          13390,
          17149,
          17948,
          16925,
          17388,
          17470,
          17777,
          13431,
          17129,
          17957,
          16939,
          17424,
          18159,
          18080,
          13302,
          17199,
          17924,
          17017,
          17562,
          18037,
          18025,
          13603,
          17178,
          17909,
          17249,
          17585,
          18151,
          17974,
          13497,
          17033,
          18070,
          17229,
          17657,
          18191,
          18144,
          13700,
          17294,
          18066,
          17230,
          17570,
          18123,
          18115,
          13673,
          17198,
          17990,
          17255,
          17576,
          16382,
          17647,
          13660,
          16917,
          17893,
          17137,
          17499,
          18028,
          17916,
          13886,
          16841,
          17792,
          17107,
          17505,
          17987,
          18015,
          13880,
          16207,
          17804,
          17154,
          17481,
          17803,
          18006,
          14110,
          15576,
          16204,
          17620,
          18275,
          10896,
          12859,
          16673,
          18554,
          18291,
          16690,
          16535,
          16392,
          15458,
          12307,
          14010,
          15794,
          15444,
          16655,
          17338,
          17341,
          12755,
          15899,
          16975,
          16135,
          16947,
          17472,
          17981,
          15925,
          15995,
          16963,
          13657,
          13251,
          17906,
          18086,
          16269,
          16059,
          16961,
          13912
         ],
         "yaxis": "y"
        }
       ],
       "layout": {
        "legend": {
         "tracegroupgap": 0
        },
        "template": {
         "data": {
          "bar": [
           {
            "error_x": {
             "color": "#2a3f5f"
            },
            "error_y": {
             "color": "#2a3f5f"
            },
            "marker": {
             "line": {
              "color": "#E5ECF6",
              "width": 0.5
             },
             "pattern": {
              "fillmode": "overlay",
              "size": 10,
              "solidity": 0.2
             }
            },
            "type": "bar"
           }
          ],
          "barpolar": [
           {
            "marker": {
             "line": {
              "color": "#E5ECF6",
              "width": 0.5
             },
             "pattern": {
              "fillmode": "overlay",
              "size": 10,
              "solidity": 0.2
             }
            },
            "type": "barpolar"
           }
          ],
          "carpet": [
           {
            "aaxis": {
             "endlinecolor": "#2a3f5f",
             "gridcolor": "white",
             "linecolor": "white",
             "minorgridcolor": "white",
             "startlinecolor": "#2a3f5f"
            },
            "baxis": {
             "endlinecolor": "#2a3f5f",
             "gridcolor": "white",
             "linecolor": "white",
             "minorgridcolor": "white",
             "startlinecolor": "#2a3f5f"
            },
            "type": "carpet"
           }
          ],
          "choropleth": [
           {
            "colorbar": {
             "outlinewidth": 0,
             "ticks": ""
            },
            "type": "choropleth"
           }
          ],
          "contour": [
           {
            "colorbar": {
             "outlinewidth": 0,
             "ticks": ""
            },
            "colorscale": [
             [
              0,
              "#0d0887"
             ],
             [
              0.1111111111111111,
              "#46039f"
             ],
             [
              0.2222222222222222,
              "#7201a8"
             ],
             [
              0.3333333333333333,
              "#9c179e"
             ],
             [
              0.4444444444444444,
              "#bd3786"
             ],
             [
              0.5555555555555556,
              "#d8576b"
             ],
             [
              0.6666666666666666,
              "#ed7953"
             ],
             [
              0.7777777777777778,
              "#fb9f3a"
             ],
             [
              0.8888888888888888,
              "#fdca26"
             ],
             [
              1,
              "#f0f921"
             ]
            ],
            "type": "contour"
           }
          ],
          "contourcarpet": [
           {
            "colorbar": {
             "outlinewidth": 0,
             "ticks": ""
            },
            "type": "contourcarpet"
           }
          ],
          "heatmap": [
           {
            "colorbar": {
             "outlinewidth": 0,
             "ticks": ""
            },
            "colorscale": [
             [
              0,
              "#0d0887"
             ],
             [
              0.1111111111111111,
              "#46039f"
             ],
             [
              0.2222222222222222,
              "#7201a8"
             ],
             [
              0.3333333333333333,
              "#9c179e"
             ],
             [
              0.4444444444444444,
              "#bd3786"
             ],
             [
              0.5555555555555556,
              "#d8576b"
             ],
             [
              0.6666666666666666,
              "#ed7953"
             ],
             [
              0.7777777777777778,
              "#fb9f3a"
             ],
             [
              0.8888888888888888,
              "#fdca26"
             ],
             [
              1,
              "#f0f921"
             ]
            ],
            "type": "heatmap"
           }
          ],
          "heatmapgl": [
           {
            "colorbar": {
             "outlinewidth": 0,
             "ticks": ""
            },
            "colorscale": [
             [
              0,
              "#0d0887"
             ],
             [
              0.1111111111111111,
              "#46039f"
             ],
             [
              0.2222222222222222,
              "#7201a8"
             ],
             [
              0.3333333333333333,
              "#9c179e"
             ],
             [
              0.4444444444444444,
              "#bd3786"
             ],
             [
              0.5555555555555556,
              "#d8576b"
             ],
             [
              0.6666666666666666,
              "#ed7953"
             ],
             [
              0.7777777777777778,
              "#fb9f3a"
             ],
             [
              0.8888888888888888,
              "#fdca26"
             ],
             [
              1,
              "#f0f921"
             ]
            ],
            "type": "heatmapgl"
           }
          ],
          "histogram": [
           {
            "marker": {
             "pattern": {
              "fillmode": "overlay",
              "size": 10,
              "solidity": 0.2
             }
            },
            "type": "histogram"
           }
          ],
          "histogram2d": [
           {
            "colorbar": {
             "outlinewidth": 0,
             "ticks": ""
            },
            "colorscale": [
             [
              0,
              "#0d0887"
             ],
             [
              0.1111111111111111,
              "#46039f"
             ],
             [
              0.2222222222222222,
              "#7201a8"
             ],
             [
              0.3333333333333333,
              "#9c179e"
             ],
             [
              0.4444444444444444,
              "#bd3786"
             ],
             [
              0.5555555555555556,
              "#d8576b"
             ],
             [
              0.6666666666666666,
              "#ed7953"
             ],
             [
              0.7777777777777778,
              "#fb9f3a"
             ],
             [
              0.8888888888888888,
              "#fdca26"
             ],
             [
              1,
              "#f0f921"
             ]
            ],
            "type": "histogram2d"
           }
          ],
          "histogram2dcontour": [
           {
            "colorbar": {
             "outlinewidth": 0,
             "ticks": ""
            },
            "colorscale": [
             [
              0,
              "#0d0887"
             ],
             [
              0.1111111111111111,
              "#46039f"
             ],
             [
              0.2222222222222222,
              "#7201a8"
             ],
             [
              0.3333333333333333,
              "#9c179e"
             ],
             [
              0.4444444444444444,
              "#bd3786"
             ],
             [
              0.5555555555555556,
              "#d8576b"
             ],
             [
              0.6666666666666666,
              "#ed7953"
             ],
             [
              0.7777777777777778,
              "#fb9f3a"
             ],
             [
              0.8888888888888888,
              "#fdca26"
             ],
             [
              1,
              "#f0f921"
             ]
            ],
            "type": "histogram2dcontour"
           }
          ],
          "mesh3d": [
           {
            "colorbar": {
             "outlinewidth": 0,
             "ticks": ""
            },
            "type": "mesh3d"
           }
          ],
          "parcoords": [
           {
            "line": {
             "colorbar": {
              "outlinewidth": 0,
              "ticks": ""
             }
            },
            "type": "parcoords"
           }
          ],
          "pie": [
           {
            "automargin": true,
            "type": "pie"
           }
          ],
          "scatter": [
           {
            "fillpattern": {
             "fillmode": "overlay",
             "size": 10,
             "solidity": 0.2
            },
            "type": "scatter"
           }
          ],
          "scatter3d": [
           {
            "line": {
             "colorbar": {
              "outlinewidth": 0,
              "ticks": ""
             }
            },
            "marker": {
             "colorbar": {
              "outlinewidth": 0,
              "ticks": ""
             }
            },
            "type": "scatter3d"
           }
          ],
          "scattercarpet": [
           {
            "marker": {
             "colorbar": {
              "outlinewidth": 0,
              "ticks": ""
             }
            },
            "type": "scattercarpet"
           }
          ],
          "scattergeo": [
           {
            "marker": {
             "colorbar": {
              "outlinewidth": 0,
              "ticks": ""
             }
            },
            "type": "scattergeo"
           }
          ],
          "scattergl": [
           {
            "marker": {
             "colorbar": {
              "outlinewidth": 0,
              "ticks": ""
             }
            },
            "type": "scattergl"
           }
          ],
          "scattermapbox": [
           {
            "marker": {
             "colorbar": {
              "outlinewidth": 0,
              "ticks": ""
             }
            },
            "type": "scattermapbox"
           }
          ],
          "scatterpolar": [
           {
            "marker": {
             "colorbar": {
              "outlinewidth": 0,
              "ticks": ""
             }
            },
            "type": "scatterpolar"
           }
          ],
          "scatterpolargl": [
           {
            "marker": {
             "colorbar": {
              "outlinewidth": 0,
              "ticks": ""
             }
            },
            "type": "scatterpolargl"
           }
          ],
          "scatterternary": [
           {
            "marker": {
             "colorbar": {
              "outlinewidth": 0,
              "ticks": ""
             }
            },
            "type": "scatterternary"
           }
          ],
          "surface": [
           {
            "colorbar": {
             "outlinewidth": 0,
             "ticks": ""
            },
            "colorscale": [
             [
              0,
              "#0d0887"
             ],
             [
              0.1111111111111111,
              "#46039f"
             ],
             [
              0.2222222222222222,
              "#7201a8"
             ],
             [
              0.3333333333333333,
              "#9c179e"
             ],
             [
              0.4444444444444444,
              "#bd3786"
             ],
             [
              0.5555555555555556,
              "#d8576b"
             ],
             [
              0.6666666666666666,
              "#ed7953"
             ],
             [
              0.7777777777777778,
              "#fb9f3a"
             ],
             [
              0.8888888888888888,
              "#fdca26"
             ],
             [
              1,
              "#f0f921"
             ]
            ],
            "type": "surface"
           }
          ],
          "table": [
           {
            "cells": {
             "fill": {
              "color": "#EBF0F8"
             },
             "line": {
              "color": "white"
             }
            },
            "header": {
             "fill": {
              "color": "#C8D4E3"
             },
             "line": {
              "color": "white"
             }
            },
            "type": "table"
           }
          ]
         },
         "layout": {
          "annotationdefaults": {
           "arrowcolor": "#2a3f5f",
           "arrowhead": 0,
           "arrowwidth": 1
          },
          "autotypenumbers": "strict",
          "coloraxis": {
           "colorbar": {
            "outlinewidth": 0,
            "ticks": ""
           }
          },
          "colorscale": {
           "diverging": [
            [
             0,
             "#8e0152"
            ],
            [
             0.1,
             "#c51b7d"
            ],
            [
             0.2,
             "#de77ae"
            ],
            [
             0.3,
             "#f1b6da"
            ],
            [
             0.4,
             "#fde0ef"
            ],
            [
             0.5,
             "#f7f7f7"
            ],
            [
             0.6,
             "#e6f5d0"
            ],
            [
             0.7,
             "#b8e186"
            ],
            [
             0.8,
             "#7fbc41"
            ],
            [
             0.9,
             "#4d9221"
            ],
            [
             1,
             "#276419"
            ]
           ],
           "sequential": [
            [
             0,
             "#0d0887"
            ],
            [
             0.1111111111111111,
             "#46039f"
            ],
            [
             0.2222222222222222,
             "#7201a8"
            ],
            [
             0.3333333333333333,
             "#9c179e"
            ],
            [
             0.4444444444444444,
             "#bd3786"
            ],
            [
             0.5555555555555556,
             "#d8576b"
            ],
            [
             0.6666666666666666,
             "#ed7953"
            ],
            [
             0.7777777777777778,
             "#fb9f3a"
            ],
            [
             0.8888888888888888,
             "#fdca26"
            ],
            [
             1,
             "#f0f921"
            ]
           ],
           "sequentialminus": [
            [
             0,
             "#0d0887"
            ],
            [
             0.1111111111111111,
             "#46039f"
            ],
            [
             0.2222222222222222,
             "#7201a8"
            ],
            [
             0.3333333333333333,
             "#9c179e"
            ],
            [
             0.4444444444444444,
             "#bd3786"
            ],
            [
             0.5555555555555556,
             "#d8576b"
            ],
            [
             0.6666666666666666,
             "#ed7953"
            ],
            [
             0.7777777777777778,
             "#fb9f3a"
            ],
            [
             0.8888888888888888,
             "#fdca26"
            ],
            [
             1,
             "#f0f921"
            ]
           ]
          },
          "colorway": [
           "#636efa",
           "#EF553B",
           "#00cc96",
           "#ab63fa",
           "#FFA15A",
           "#19d3f3",
           "#FF6692",
           "#B6E880",
           "#FF97FF",
           "#FECB52"
          ],
          "font": {
           "color": "#2a3f5f"
          },
          "geo": {
           "bgcolor": "white",
           "lakecolor": "white",
           "landcolor": "#E5ECF6",
           "showlakes": true,
           "showland": true,
           "subunitcolor": "white"
          },
          "hoverlabel": {
           "align": "left"
          },
          "hovermode": "closest",
          "mapbox": {
           "style": "light"
          },
          "paper_bgcolor": "white",
          "plot_bgcolor": "#E5ECF6",
          "polar": {
           "angularaxis": {
            "gridcolor": "white",
            "linecolor": "white",
            "ticks": ""
           },
           "bgcolor": "#E5ECF6",
           "radialaxis": {
            "gridcolor": "white",
            "linecolor": "white",
            "ticks": ""
           }
          },
          "scene": {
           "xaxis": {
            "backgroundcolor": "#E5ECF6",
            "gridcolor": "white",
            "gridwidth": 2,
            "linecolor": "white",
            "showbackground": true,
            "ticks": "",
            "zerolinecolor": "white"
           },
           "yaxis": {
            "backgroundcolor": "#E5ECF6",
            "gridcolor": "white",
            "gridwidth": 2,
            "linecolor": "white",
            "showbackground": true,
            "ticks": "",
            "zerolinecolor": "white"
           },
           "zaxis": {
            "backgroundcolor": "#E5ECF6",
            "gridcolor": "white",
            "gridwidth": 2,
            "linecolor": "white",
            "showbackground": true,
            "ticks": "",
            "zerolinecolor": "white"
           }
          },
          "shapedefaults": {
           "line": {
            "color": "#2a3f5f"
           }
          },
          "ternary": {
           "aaxis": {
            "gridcolor": "white",
            "linecolor": "white",
            "ticks": ""
           },
           "baxis": {
            "gridcolor": "white",
            "linecolor": "white",
            "ticks": ""
           },
           "bgcolor": "#E5ECF6",
           "caxis": {
            "gridcolor": "white",
            "linecolor": "white",
            "ticks": ""
           }
          },
          "title": {
           "x": 0.05
          },
          "xaxis": {
           "automargin": true,
           "gridcolor": "white",
           "linecolor": "white",
           "ticks": "",
           "title": {
            "standoff": 15
           },
           "zerolinecolor": "white",
           "zerolinewidth": 2
          },
          "yaxis": {
           "automargin": true,
           "gridcolor": "white",
           "linecolor": "white",
           "ticks": "",
           "title": {
            "standoff": 15
           },
           "zerolinecolor": "white",
           "zerolinewidth": 2
          }
         }
        },
        "title": {
         "text": "Number of flights by day"
        },
        "xaxis": {
         "anchor": "y",
         "domain": [
          0,
          1
         ],
         "title": {
          "text": "FlightDate"
         }
        },
        "yaxis": {
         "anchor": "x",
         "domain": [
          0,
          1
         ],
         "title": {
          "text": "count"
         }
        }
       }
      }
     },
     "metadata": {},
     "output_type": "display_data"
    }
   ],
   "source": [
    "# num flights by day\n",
    "def flights_by_day(df):\n",
    "    df_aggregated = df.groupBy(\"FlightDate\",\"DayOfWeek\").count()\n",
    "    df_aggregated = df_aggregated.orderBy(\"FlightDate\", ascending=True)\n",
    "    # convert DayOfWeek to string with the corresponding day\n",
    "    df_aggregated = df_aggregated.withColumn(\"DayOfWeek\", when(col(\"DayOfWeek\") == 1, \"Monday\").when(col(\"DayOfWeek\") == 2, \"Tuesday\").when(col(\"DayOfWeek\") == 3, \"Wednesday\").when(col(\"DayOfWeek\") == 4, \"Thursday\").when(col(\"DayOfWeek\") == 5, \"Friday\").when(col(\"DayOfWeek\") == 6, \"Saturday\").when(col(\"DayOfWeek\") == 7, \"Sunday\"))\n",
    "    return df_aggregated\n",
    "\n",
    "# visualized flights as line chart\n",
    "def flights_by_day_line(df):\n",
    "    df_pd = flights_by_day(df).toPandas()\n",
    "    fig = px.line(df_pd, x=\"FlightDate\", y=\"count\", title=\"Number of flights by day\",hover_data=[\"DayOfWeek\",\"FlightDate\",\"count\"])\n",
    "    return fig\n",
    "\n",
    "\n",
    "flights_by_day_line(df).show()"
   ]
  },
  {
   "cell_type": "code",
   "execution_count": 9,
   "metadata": {},
   "outputs": [
    {
     "name": "stderr",
     "output_type": "stream",
     "text": [
      "/opt/homebrew/lib/python3.10/site-packages/pyspark/sql/pandas/conversion.py:248: FutureWarning:\n",
      "\n",
      "Passing unit-less datetime64 dtype to .astype is deprecated and will raise in a future version. Pass 'datetime64[ns]' instead\n",
      "\n"
     ]
    },
    {
     "data": {
      "application/vnd.plotly.v1+json": {
       "config": {
        "plotlyServerURL": "https://plot.ly"
       },
       "data": [
        {
         "customdata": [
          [
           "Tuesday"
          ],
          [
           "Wednesday"
          ],
          [
           "Thursday"
          ],
          [
           "Friday"
          ],
          [
           "Saturday"
          ],
          [
           "Sunday"
          ],
          [
           "Monday"
          ],
          [
           "Tuesday"
          ],
          [
           "Wednesday"
          ],
          [
           "Thursday"
          ],
          [
           "Friday"
          ],
          [
           "Saturday"
          ],
          [
           "Sunday"
          ],
          [
           "Monday"
          ],
          [
           "Tuesday"
          ],
          [
           "Wednesday"
          ],
          [
           "Thursday"
          ],
          [
           "Friday"
          ],
          [
           "Saturday"
          ],
          [
           "Sunday"
          ],
          [
           "Monday"
          ],
          [
           "Tuesday"
          ],
          [
           "Wednesday"
          ],
          [
           "Thursday"
          ],
          [
           "Friday"
          ],
          [
           "Saturday"
          ],
          [
           "Sunday"
          ],
          [
           "Monday"
          ],
          [
           "Tuesday"
          ],
          [
           "Wednesday"
          ],
          [
           "Thursday"
          ],
          [
           "Friday"
          ],
          [
           "Saturday"
          ],
          [
           "Sunday"
          ],
          [
           "Monday"
          ],
          [
           "Tuesday"
          ],
          [
           "Wednesday"
          ],
          [
           "Thursday"
          ],
          [
           "Friday"
          ],
          [
           "Saturday"
          ],
          [
           "Sunday"
          ],
          [
           "Monday"
          ],
          [
           "Tuesday"
          ],
          [
           "Wednesday"
          ],
          [
           "Thursday"
          ],
          [
           "Friday"
          ],
          [
           "Saturday"
          ],
          [
           "Sunday"
          ],
          [
           "Monday"
          ],
          [
           "Tuesday"
          ],
          [
           "Wednesday"
          ],
          [
           "Thursday"
          ],
          [
           "Friday"
          ],
          [
           "Saturday"
          ],
          [
           "Sunday"
          ],
          [
           "Monday"
          ],
          [
           "Tuesday"
          ],
          [
           "Wednesday"
          ],
          [
           "Thursday"
          ],
          [
           "Friday"
          ],
          [
           "Saturday"
          ],
          [
           "Sunday"
          ],
          [
           "Monday"
          ],
          [
           "Tuesday"
          ],
          [
           "Wednesday"
          ],
          [
           "Thursday"
          ],
          [
           "Friday"
          ],
          [
           "Saturday"
          ],
          [
           "Sunday"
          ],
          [
           "Monday"
          ],
          [
           "Tuesday"
          ],
          [
           "Wednesday"
          ],
          [
           "Thursday"
          ],
          [
           "Friday"
          ],
          [
           "Saturday"
          ],
          [
           "Sunday"
          ],
          [
           "Monday"
          ],
          [
           "Tuesday"
          ],
          [
           "Wednesday"
          ],
          [
           "Thursday"
          ],
          [
           "Friday"
          ],
          [
           "Saturday"
          ],
          [
           "Sunday"
          ],
          [
           "Monday"
          ],
          [
           "Tuesday"
          ],
          [
           "Wednesday"
          ],
          [
           "Thursday"
          ],
          [
           "Friday"
          ],
          [
           "Saturday"
          ],
          [
           "Sunday"
          ],
          [
           "Monday"
          ],
          [
           "Tuesday"
          ],
          [
           "Wednesday"
          ],
          [
           "Thursday"
          ],
          [
           "Friday"
          ],
          [
           "Saturday"
          ],
          [
           "Sunday"
          ],
          [
           "Monday"
          ],
          [
           "Tuesday"
          ],
          [
           "Wednesday"
          ],
          [
           "Thursday"
          ],
          [
           "Friday"
          ],
          [
           "Saturday"
          ],
          [
           "Sunday"
          ],
          [
           "Monday"
          ],
          [
           "Tuesday"
          ],
          [
           "Wednesday"
          ],
          [
           "Thursday"
          ],
          [
           "Friday"
          ],
          [
           "Saturday"
          ],
          [
           "Sunday"
          ],
          [
           "Monday"
          ],
          [
           "Tuesday"
          ],
          [
           "Wednesday"
          ],
          [
           "Thursday"
          ],
          [
           "Friday"
          ],
          [
           "Saturday"
          ],
          [
           "Sunday"
          ],
          [
           "Monday"
          ],
          [
           "Tuesday"
          ],
          [
           "Wednesday"
          ],
          [
           "Thursday"
          ],
          [
           "Friday"
          ],
          [
           "Saturday"
          ],
          [
           "Sunday"
          ],
          [
           "Monday"
          ],
          [
           "Tuesday"
          ],
          [
           "Wednesday"
          ],
          [
           "Thursday"
          ],
          [
           "Friday"
          ],
          [
           "Saturday"
          ],
          [
           "Sunday"
          ],
          [
           "Monday"
          ],
          [
           "Tuesday"
          ],
          [
           "Wednesday"
          ],
          [
           "Thursday"
          ],
          [
           "Friday"
          ],
          [
           "Saturday"
          ],
          [
           "Sunday"
          ],
          [
           "Monday"
          ],
          [
           "Tuesday"
          ],
          [
           "Wednesday"
          ],
          [
           "Thursday"
          ],
          [
           "Friday"
          ],
          [
           "Saturday"
          ],
          [
           "Sunday"
          ],
          [
           "Monday"
          ],
          [
           "Tuesday"
          ],
          [
           "Wednesday"
          ],
          [
           "Thursday"
          ],
          [
           "Friday"
          ],
          [
           "Saturday"
          ],
          [
           "Sunday"
          ],
          [
           "Monday"
          ],
          [
           "Tuesday"
          ],
          [
           "Wednesday"
          ],
          [
           "Thursday"
          ],
          [
           "Friday"
          ],
          [
           "Saturday"
          ],
          [
           "Sunday"
          ],
          [
           "Monday"
          ],
          [
           "Tuesday"
          ],
          [
           "Wednesday"
          ],
          [
           "Thursday"
          ],
          [
           "Friday"
          ],
          [
           "Saturday"
          ],
          [
           "Sunday"
          ],
          [
           "Monday"
          ],
          [
           "Tuesday"
          ],
          [
           "Wednesday"
          ],
          [
           "Thursday"
          ],
          [
           "Friday"
          ],
          [
           "Saturday"
          ],
          [
           "Sunday"
          ],
          [
           "Monday"
          ],
          [
           "Tuesday"
          ],
          [
           "Wednesday"
          ],
          [
           "Thursday"
          ],
          [
           "Friday"
          ],
          [
           "Saturday"
          ],
          [
           "Sunday"
          ],
          [
           "Monday"
          ],
          [
           "Tuesday"
          ],
          [
           "Wednesday"
          ],
          [
           "Thursday"
          ],
          [
           "Friday"
          ],
          [
           "Saturday"
          ],
          [
           "Sunday"
          ],
          [
           "Monday"
          ],
          [
           "Tuesday"
          ],
          [
           "Wednesday"
          ],
          [
           "Thursday"
          ],
          [
           "Friday"
          ],
          [
           "Saturday"
          ],
          [
           "Sunday"
          ],
          [
           "Monday"
          ],
          [
           "Tuesday"
          ],
          [
           "Wednesday"
          ],
          [
           "Thursday"
          ],
          [
           "Friday"
          ],
          [
           "Saturday"
          ],
          [
           "Sunday"
          ],
          [
           "Monday"
          ],
          [
           "Tuesday"
          ],
          [
           "Wednesday"
          ],
          [
           "Thursday"
          ],
          [
           "Friday"
          ],
          [
           "Saturday"
          ],
          [
           "Sunday"
          ],
          [
           "Monday"
          ],
          [
           "Tuesday"
          ],
          [
           "Wednesday"
          ],
          [
           "Thursday"
          ],
          [
           "Friday"
          ],
          [
           "Saturday"
          ],
          [
           "Sunday"
          ],
          [
           "Monday"
          ],
          [
           "Tuesday"
          ],
          [
           "Wednesday"
          ],
          [
           "Thursday"
          ],
          [
           "Friday"
          ],
          [
           "Saturday"
          ],
          [
           "Sunday"
          ],
          [
           "Monday"
          ],
          [
           "Tuesday"
          ],
          [
           "Wednesday"
          ],
          [
           "Thursday"
          ],
          [
           "Friday"
          ],
          [
           "Saturday"
          ],
          [
           "Sunday"
          ],
          [
           "Monday"
          ],
          [
           "Tuesday"
          ],
          [
           "Wednesday"
          ],
          [
           "Thursday"
          ],
          [
           "Friday"
          ],
          [
           "Saturday"
          ],
          [
           "Sunday"
          ],
          [
           "Monday"
          ],
          [
           "Tuesday"
          ],
          [
           "Wednesday"
          ],
          [
           "Thursday"
          ],
          [
           "Friday"
          ],
          [
           "Saturday"
          ],
          [
           "Sunday"
          ],
          [
           "Monday"
          ],
          [
           "Tuesday"
          ],
          [
           "Wednesday"
          ],
          [
           "Thursday"
          ],
          [
           "Friday"
          ],
          [
           "Saturday"
          ],
          [
           "Sunday"
          ],
          [
           "Monday"
          ],
          [
           "Tuesday"
          ],
          [
           "Wednesday"
          ],
          [
           "Thursday"
          ],
          [
           "Friday"
          ],
          [
           "Saturday"
          ],
          [
           "Sunday"
          ],
          [
           "Monday"
          ],
          [
           "Tuesday"
          ],
          [
           "Wednesday"
          ],
          [
           "Thursday"
          ],
          [
           "Friday"
          ],
          [
           "Saturday"
          ],
          [
           "Sunday"
          ],
          [
           "Monday"
          ],
          [
           "Tuesday"
          ],
          [
           "Wednesday"
          ],
          [
           "Thursday"
          ],
          [
           "Friday"
          ],
          [
           "Saturday"
          ],
          [
           "Sunday"
          ],
          [
           "Monday"
          ],
          [
           "Tuesday"
          ],
          [
           "Wednesday"
          ],
          [
           "Thursday"
          ],
          [
           "Friday"
          ],
          [
           "Saturday"
          ],
          [
           "Sunday"
          ],
          [
           "Monday"
          ],
          [
           "Tuesday"
          ],
          [
           "Wednesday"
          ],
          [
           "Thursday"
          ],
          [
           "Friday"
          ],
          [
           "Saturday"
          ],
          [
           "Sunday"
          ],
          [
           "Monday"
          ],
          [
           "Tuesday"
          ],
          [
           "Wednesday"
          ],
          [
           "Thursday"
          ],
          [
           "Friday"
          ],
          [
           "Saturday"
          ],
          [
           "Sunday"
          ],
          [
           "Monday"
          ],
          [
           "Tuesday"
          ],
          [
           "Wednesday"
          ],
          [
           "Thursday"
          ],
          [
           "Friday"
          ],
          [
           "Saturday"
          ],
          [
           "Sunday"
          ],
          [
           "Monday"
          ],
          [
           "Tuesday"
          ],
          [
           "Wednesday"
          ],
          [
           "Thursday"
          ],
          [
           "Friday"
          ],
          [
           "Saturday"
          ],
          [
           "Sunday"
          ],
          [
           "Monday"
          ],
          [
           "Tuesday"
          ],
          [
           "Wednesday"
          ],
          [
           "Thursday"
          ],
          [
           "Friday"
          ],
          [
           "Saturday"
          ],
          [
           "Sunday"
          ],
          [
           "Monday"
          ],
          [
           "Tuesday"
          ],
          [
           "Wednesday"
          ],
          [
           "Thursday"
          ],
          [
           "Friday"
          ],
          [
           "Saturday"
          ],
          [
           "Sunday"
          ],
          [
           "Monday"
          ],
          [
           "Tuesday"
          ],
          [
           "Wednesday"
          ],
          [
           "Thursday"
          ],
          [
           "Friday"
          ],
          [
           "Saturday"
          ],
          [
           "Sunday"
          ],
          [
           "Monday"
          ],
          [
           "Tuesday"
          ],
          [
           "Wednesday"
          ],
          [
           "Thursday"
          ],
          [
           "Friday"
          ],
          [
           "Saturday"
          ],
          [
           "Sunday"
          ],
          [
           "Monday"
          ],
          [
           "Tuesday"
          ],
          [
           "Wednesday"
          ],
          [
           "Thursday"
          ],
          [
           "Friday"
          ],
          [
           "Saturday"
          ],
          [
           "Sunday"
          ],
          [
           "Monday"
          ],
          [
           "Tuesday"
          ],
          [
           "Wednesday"
          ],
          [
           "Thursday"
          ],
          [
           "Friday"
          ],
          [
           "Saturday"
          ],
          [
           "Sunday"
          ],
          [
           "Monday"
          ],
          [
           "Tuesday"
          ],
          [
           "Wednesday"
          ],
          [
           "Thursday"
          ],
          [
           "Friday"
          ],
          [
           "Saturday"
          ],
          [
           "Sunday"
          ],
          [
           "Monday"
          ],
          [
           "Tuesday"
          ],
          [
           "Wednesday"
          ],
          [
           "Thursday"
          ],
          [
           "Friday"
          ],
          [
           "Saturday"
          ],
          [
           "Sunday"
          ],
          [
           "Monday"
          ],
          [
           "Tuesday"
          ]
         ],
         "hovertemplate": "FlightDate=%{x}<br>AverageArrivalDelay=%{y}<br>DayOfWeek=%{customdata[0]}<extra></extra>",
         "legendgroup": "",
         "line": {
          "color": "#636efa",
          "dash": "solid"
         },
         "marker": {
          "symbol": "circle"
         },
         "mode": "lines",
         "name": "",
         "orientation": "v",
         "showlegend": false,
         "type": "scatter",
         "x": [
          "2013-01-01T00:00:00",
          "2013-01-02T00:00:00",
          "2013-01-03T00:00:00",
          "2013-01-04T00:00:00",
          "2013-01-05T00:00:00",
          "2013-01-06T00:00:00",
          "2013-01-07T00:00:00",
          "2013-01-08T00:00:00",
          "2013-01-09T00:00:00",
          "2013-01-10T00:00:00",
          "2013-01-11T00:00:00",
          "2013-01-12T00:00:00",
          "2013-01-13T00:00:00",
          "2013-01-14T00:00:00",
          "2013-01-15T00:00:00",
          "2013-01-16T00:00:00",
          "2013-01-17T00:00:00",
          "2013-01-18T00:00:00",
          "2013-01-19T00:00:00",
          "2013-01-20T00:00:00",
          "2013-01-21T00:00:00",
          "2013-01-22T00:00:00",
          "2013-01-23T00:00:00",
          "2013-01-24T00:00:00",
          "2013-01-25T00:00:00",
          "2013-01-26T00:00:00",
          "2013-01-27T00:00:00",
          "2013-01-28T00:00:00",
          "2013-01-29T00:00:00",
          "2013-01-30T00:00:00",
          "2013-01-31T00:00:00",
          "2013-02-01T00:00:00",
          "2013-02-02T00:00:00",
          "2013-02-03T00:00:00",
          "2013-02-04T00:00:00",
          "2013-02-05T00:00:00",
          "2013-02-06T00:00:00",
          "2013-02-07T00:00:00",
          "2013-02-08T00:00:00",
          "2013-02-09T00:00:00",
          "2013-02-10T00:00:00",
          "2013-02-11T00:00:00",
          "2013-02-12T00:00:00",
          "2013-02-13T00:00:00",
          "2013-02-14T00:00:00",
          "2013-02-15T00:00:00",
          "2013-02-16T00:00:00",
          "2013-02-17T00:00:00",
          "2013-02-18T00:00:00",
          "2013-02-19T00:00:00",
          "2013-02-20T00:00:00",
          "2013-02-21T00:00:00",
          "2013-02-22T00:00:00",
          "2013-02-23T00:00:00",
          "2013-02-24T00:00:00",
          "2013-02-25T00:00:00",
          "2013-02-26T00:00:00",
          "2013-02-27T00:00:00",
          "2013-02-28T00:00:00",
          "2013-03-01T00:00:00",
          "2013-03-02T00:00:00",
          "2013-03-03T00:00:00",
          "2013-03-04T00:00:00",
          "2013-03-05T00:00:00",
          "2013-03-06T00:00:00",
          "2013-03-07T00:00:00",
          "2013-03-08T00:00:00",
          "2013-03-09T00:00:00",
          "2013-03-10T00:00:00",
          "2013-03-11T00:00:00",
          "2013-03-12T00:00:00",
          "2013-03-13T00:00:00",
          "2013-03-14T00:00:00",
          "2013-03-15T00:00:00",
          "2013-03-16T00:00:00",
          "2013-03-17T00:00:00",
          "2013-03-18T00:00:00",
          "2013-03-19T00:00:00",
          "2013-03-20T00:00:00",
          "2013-03-21T00:00:00",
          "2013-03-22T00:00:00",
          "2013-03-23T00:00:00",
          "2013-03-24T00:00:00",
          "2013-03-25T00:00:00",
          "2013-03-26T00:00:00",
          "2013-03-27T00:00:00",
          "2013-03-28T00:00:00",
          "2013-03-29T00:00:00",
          "2013-03-30T00:00:00",
          "2013-03-31T00:00:00",
          "2013-04-01T00:00:00",
          "2013-04-02T00:00:00",
          "2013-04-03T00:00:00",
          "2013-04-04T00:00:00",
          "2013-04-05T00:00:00",
          "2013-04-06T00:00:00",
          "2013-04-07T00:00:00",
          "2013-04-08T00:00:00",
          "2013-04-09T00:00:00",
          "2013-04-10T00:00:00",
          "2013-04-11T00:00:00",
          "2013-04-12T00:00:00",
          "2013-04-13T00:00:00",
          "2013-04-14T00:00:00",
          "2013-04-15T00:00:00",
          "2013-04-16T00:00:00",
          "2013-04-17T00:00:00",
          "2013-04-18T00:00:00",
          "2013-04-19T00:00:00",
          "2013-04-20T00:00:00",
          "2013-04-21T00:00:00",
          "2013-04-22T00:00:00",
          "2013-04-23T00:00:00",
          "2013-04-24T00:00:00",
          "2013-04-25T00:00:00",
          "2013-04-26T00:00:00",
          "2013-04-27T00:00:00",
          "2013-04-28T00:00:00",
          "2013-04-29T00:00:00",
          "2013-04-30T00:00:00",
          "2013-05-01T00:00:00",
          "2013-05-02T00:00:00",
          "2013-05-03T00:00:00",
          "2013-05-04T00:00:00",
          "2013-05-05T00:00:00",
          "2013-05-06T00:00:00",
          "2013-05-07T00:00:00",
          "2013-05-08T00:00:00",
          "2013-05-09T00:00:00",
          "2013-05-10T00:00:00",
          "2013-05-11T00:00:00",
          "2013-05-12T00:00:00",
          "2013-05-13T00:00:00",
          "2013-05-14T00:00:00",
          "2013-05-15T00:00:00",
          "2013-05-16T00:00:00",
          "2013-05-17T00:00:00",
          "2013-05-18T00:00:00",
          "2013-05-19T00:00:00",
          "2013-05-20T00:00:00",
          "2013-05-21T00:00:00",
          "2013-05-22T00:00:00",
          "2013-05-23T00:00:00",
          "2013-05-24T00:00:00",
          "2013-05-25T00:00:00",
          "2013-05-26T00:00:00",
          "2013-05-27T00:00:00",
          "2013-05-28T00:00:00",
          "2013-05-29T00:00:00",
          "2013-05-30T00:00:00",
          "2013-05-31T00:00:00",
          "2013-06-01T00:00:00",
          "2013-06-02T00:00:00",
          "2013-06-03T00:00:00",
          "2013-06-04T00:00:00",
          "2013-06-05T00:00:00",
          "2013-06-06T00:00:00",
          "2013-06-07T00:00:00",
          "2013-06-08T00:00:00",
          "2013-06-09T00:00:00",
          "2013-06-10T00:00:00",
          "2013-06-11T00:00:00",
          "2013-06-12T00:00:00",
          "2013-06-13T00:00:00",
          "2013-06-14T00:00:00",
          "2013-06-15T00:00:00",
          "2013-06-16T00:00:00",
          "2013-06-17T00:00:00",
          "2013-06-18T00:00:00",
          "2013-06-19T00:00:00",
          "2013-06-20T00:00:00",
          "2013-06-21T00:00:00",
          "2013-06-22T00:00:00",
          "2013-06-23T00:00:00",
          "2013-06-24T00:00:00",
          "2013-06-25T00:00:00",
          "2013-06-26T00:00:00",
          "2013-06-27T00:00:00",
          "2013-06-28T00:00:00",
          "2013-06-29T00:00:00",
          "2013-06-30T00:00:00",
          "2013-07-01T00:00:00",
          "2013-07-02T00:00:00",
          "2013-07-03T00:00:00",
          "2013-07-04T00:00:00",
          "2013-07-05T00:00:00",
          "2013-07-06T00:00:00",
          "2013-07-07T00:00:00",
          "2013-07-08T00:00:00",
          "2013-07-09T00:00:00",
          "2013-07-10T00:00:00",
          "2013-07-11T00:00:00",
          "2013-07-12T00:00:00",
          "2013-07-13T00:00:00",
          "2013-07-14T00:00:00",
          "2013-07-15T00:00:00",
          "2013-07-16T00:00:00",
          "2013-07-17T00:00:00",
          "2013-07-18T00:00:00",
          "2013-07-19T00:00:00",
          "2013-07-20T00:00:00",
          "2013-07-21T00:00:00",
          "2013-07-22T00:00:00",
          "2013-07-23T00:00:00",
          "2013-07-24T00:00:00",
          "2013-07-25T00:00:00",
          "2013-07-26T00:00:00",
          "2013-07-27T00:00:00",
          "2013-07-28T00:00:00",
          "2013-07-29T00:00:00",
          "2013-07-30T00:00:00",
          "2013-07-31T00:00:00",
          "2013-08-01T00:00:00",
          "2013-08-02T00:00:00",
          "2013-08-03T00:00:00",
          "2013-08-04T00:00:00",
          "2013-08-05T00:00:00",
          "2013-08-06T00:00:00",
          "2013-08-07T00:00:00",
          "2013-08-08T00:00:00",
          "2013-08-09T00:00:00",
          "2013-08-10T00:00:00",
          "2013-08-11T00:00:00",
          "2013-08-12T00:00:00",
          "2013-08-13T00:00:00",
          "2013-08-14T00:00:00",
          "2013-08-15T00:00:00",
          "2013-08-16T00:00:00",
          "2013-08-17T00:00:00",
          "2013-08-18T00:00:00",
          "2013-08-19T00:00:00",
          "2013-08-20T00:00:00",
          "2013-08-21T00:00:00",
          "2013-08-22T00:00:00",
          "2013-08-23T00:00:00",
          "2013-08-24T00:00:00",
          "2013-08-25T00:00:00",
          "2013-08-26T00:00:00",
          "2013-08-27T00:00:00",
          "2013-08-28T00:00:00",
          "2013-08-29T00:00:00",
          "2013-08-30T00:00:00",
          "2013-08-31T00:00:00",
          "2013-09-01T00:00:00",
          "2013-09-02T00:00:00",
          "2013-09-03T00:00:00",
          "2013-09-04T00:00:00",
          "2013-09-05T00:00:00",
          "2013-09-06T00:00:00",
          "2013-09-07T00:00:00",
          "2013-09-08T00:00:00",
          "2013-09-09T00:00:00",
          "2013-09-10T00:00:00",
          "2013-09-11T00:00:00",
          "2013-09-12T00:00:00",
          "2013-09-13T00:00:00",
          "2013-09-14T00:00:00",
          "2013-09-15T00:00:00",
          "2013-09-16T00:00:00",
          "2013-09-17T00:00:00",
          "2013-09-18T00:00:00",
          "2013-09-19T00:00:00",
          "2013-09-20T00:00:00",
          "2013-09-21T00:00:00",
          "2013-09-22T00:00:00",
          "2013-09-23T00:00:00",
          "2013-09-24T00:00:00",
          "2013-09-25T00:00:00",
          "2013-09-26T00:00:00",
          "2013-09-27T00:00:00",
          "2013-09-28T00:00:00",
          "2013-09-29T00:00:00",
          "2013-09-30T00:00:00",
          "2013-10-01T00:00:00",
          "2013-10-02T00:00:00",
          "2013-10-03T00:00:00",
          "2013-10-04T00:00:00",
          "2013-10-05T00:00:00",
          "2013-10-06T00:00:00",
          "2013-10-07T00:00:00",
          "2013-10-08T00:00:00",
          "2013-10-09T00:00:00",
          "2013-10-10T00:00:00",
          "2013-10-11T00:00:00",
          "2013-10-12T00:00:00",
          "2013-10-13T00:00:00",
          "2013-10-14T00:00:00",
          "2013-10-15T00:00:00",
          "2013-10-16T00:00:00",
          "2013-10-17T00:00:00",
          "2013-10-18T00:00:00",
          "2013-10-19T00:00:00",
          "2013-10-20T00:00:00",
          "2013-10-21T00:00:00",
          "2013-10-22T00:00:00",
          "2013-10-23T00:00:00",
          "2013-10-24T00:00:00",
          "2013-10-25T00:00:00",
          "2013-10-26T00:00:00",
          "2013-10-27T00:00:00",
          "2013-10-28T00:00:00",
          "2013-10-29T00:00:00",
          "2013-10-30T00:00:00",
          "2013-10-31T00:00:00",
          "2013-11-01T00:00:00",
          "2013-11-02T00:00:00",
          "2013-11-03T00:00:00",
          "2013-11-04T00:00:00",
          "2013-11-05T00:00:00",
          "2013-11-06T00:00:00",
          "2013-11-07T00:00:00",
          "2013-11-08T00:00:00",
          "2013-11-09T00:00:00",
          "2013-11-10T00:00:00",
          "2013-11-11T00:00:00",
          "2013-11-12T00:00:00",
          "2013-11-13T00:00:00",
          "2013-11-14T00:00:00",
          "2013-11-15T00:00:00",
          "2013-11-16T00:00:00",
          "2013-11-17T00:00:00",
          "2013-11-18T00:00:00",
          "2013-11-19T00:00:00",
          "2013-11-20T00:00:00",
          "2013-11-21T00:00:00",
          "2013-11-22T00:00:00",
          "2013-11-23T00:00:00",
          "2013-11-24T00:00:00",
          "2013-11-25T00:00:00",
          "2013-11-26T00:00:00",
          "2013-11-27T00:00:00",
          "2013-11-28T00:00:00",
          "2013-11-29T00:00:00",
          "2013-11-30T00:00:00",
          "2013-12-01T00:00:00",
          "2013-12-02T00:00:00",
          "2013-12-03T00:00:00",
          "2013-12-04T00:00:00",
          "2013-12-05T00:00:00",
          "2013-12-06T00:00:00",
          "2013-12-07T00:00:00",
          "2013-12-08T00:00:00",
          "2013-12-09T00:00:00",
          "2013-12-10T00:00:00",
          "2013-12-11T00:00:00",
          "2013-12-12T00:00:00",
          "2013-12-13T00:00:00",
          "2013-12-14T00:00:00",
          "2013-12-15T00:00:00",
          "2013-12-16T00:00:00",
          "2013-12-17T00:00:00",
          "2013-12-18T00:00:00",
          "2013-12-19T00:00:00",
          "2013-12-20T00:00:00",
          "2013-12-21T00:00:00",
          "2013-12-22T00:00:00",
          "2013-12-23T00:00:00",
          "2013-12-24T00:00:00",
          "2013-12-25T00:00:00",
          "2013-12-26T00:00:00",
          "2013-12-27T00:00:00",
          "2013-12-28T00:00:00",
          "2013-12-29T00:00:00",
          "2013-12-30T00:00:00",
          "2013-12-31T00:00:00"
         ],
         "xaxis": "x",
         "y": [
          6.910159362549801,
          5.930870682910473,
          4.628326131453264,
          -1.2612174907116318,
          0.7722715141022867,
          1.3831025609606666,
          -3.5749695951815603,
          -0.6245302778291135,
          -1.5687635836754408,
          -1.6438959383510052,
          2.405399088465584,
          -1.8311866473591951,
          7.21634645869,
          2.5432367291752396,
          -1.5567102327064073,
          6.966017634092579,
          0.10579227307265182,
          -0.7009443253577429,
          -6.125600915681038,
          1.3128311757998525,
          2.12330310036161,
          -0.37885845599652196,
          1.1847396877467955,
          6.423756775866132,
          13.315235294117647,
          0.12816771617263092,
          5.838322965266978,
          5.482291290206,
          5.787049441786284,
          19.28314084860658,
          9.06536063066243,
          3.7972745723398087,
          3.08934576582085,
          -0.7230222923653581,
          10.656078083407277,
          -2.243905464921531,
          -2.8418573757623333,
          4.981621748576126,
          2.7404131697869594,
          -2.2242434403554365,
          10.824104859335039,
          11.541821006093919,
          -2.9261047159301894,
          -1.9833523649257767,
          -0.30310967454302273,
          -1.050801697063199,
          1.4338219672827703,
          0.156216319026184,
          0.9419675241336979,
          6.7152203856749315,
          2.44221280547977,
          10.15177685709284,
          12.183828571428572,
          5.185441696113074,
          2.09873199556814,
          3.557372379216044,
          9.86818669866734,
          8.934369703699375,
          0.7188297990451871,
          8.975780288622888,
          2.4804548206956873,
          -0.5192139991860938,
          0.7378715880207758,
          4.583333333333333,
          3.6167639448823636,
          2.1125357693154303,
          16.3713393205779,
          3.264963703602246,
          6.644919234734792,
          4.1672549551995655,
          4.472397121655049,
          -0.6514421746110834,
          0.9201569976880477,
          1.6453832097172956,
          2.8595498308613063,
          1.1720589071473246,
          22.73135489607647,
          8.812226826360902,
          2.2963452951876966,
          1.9053610797440448,
          3.923452419268319,
          21.11311648816607,
          16.70898798521257,
          13.695640237206238,
          -1.8428166193892874,
          -3.4055061972139957,
          -2.969062197873026,
          -4.029512955596172,
          -4.499575024517816,
          2.940625,
          3.200434428455064,
          1.642679075951471,
          -0.46508947195081785,
          5.004104779908182,
          0.6224144415193682,
          -2.92626547049964,
          -2.768310657596372,
          6.074065994000545,
          6.887530702004912,
          26.269716646989373,
          21.162760852583418,
          12.513104728622912,
          0.9955266368442456,
          6.538161143972894,
          4.331071176502524,
          7.226503038527347,
          21.545197407189157,
          35.07889983101218,
          21.620078414048262,
          1.1495904484242676,
          3.167200182919858,
          11.632168826198678,
          7.252879375245801,
          8.283956802493877,
          6.629086382333838,
          4.403143333871576,
          -3.1412531189354036,
          2.8145152102084996,
          0.4290131828785331,
          -2.786601746138348,
          1.11257837208012,
          7.935311151177403,
          11.925438596491228,
          -0.3390629331854727,
          2.949135067017986,
          0.179297998155482,
          -3.441837076768354,
          8.695659488559892,
          8.356655569502811,
          14.152679695625991,
          4.135095032855225,
          -1.8238305794740517,
          -1.1687770562770563,
          -4.150620858622418,
          1.42987361592663,
          5.419048133542218,
          1.5550954557676795,
          -2.324643078833023,
          14.437295716497506,
          10.151312544527867,
          16.982,
          16.3035413153457,
          20.272398038778693,
          11.874620719549197,
          1.9495088124819417,
          -4.943275651611977,
          2.07385744595447,
          4.672086125453148,
          4.695319481680071,
          10.203031795545341,
          5.723465664651745,
          4.228973898632786,
          19.415010656068198,
          6.680402880814426,
          -0.9268939603249158,
          6.3412654593639575,
          11.576881720430107,
          13.465231431646933,
          0.8581532671468431,
          12.177609851665267,
          17.447528557702572,
          6.61805704482093,
          6.220863584256783,
          29.426627476594817,
          11.558227848101266,
          3.0508588957055216,
          5.1730632745536935,
          23.297627951704243,
          23.909150291219856,
          4.658045065058712,
          2.4040970293917328,
          11.03929510783798,
          4.205421613021662,
          14.226422361615494,
          24.44171481021543,
          19.8734614554092,
          27.299500108672028,
          20.98904538341158,
          28.88617708219328,
          13.531607949972138,
          16.015585750171272,
          14.662374020156776,
          6.6974577697962845,
          13.168873291859414,
          -3.1153959810874703,
          1.2112917566366062,
          2.3631718395155183,
          14.213832950019633,
          17.739886236776353,
          17.81677370608236,
          27.75099359682049,
          16.629439982752114,
          16.356224984200548,
          12.912267703895782,
          6.271217006393792,
          7.78977421551679,
          8.611874832843005,
          12.503423385170638,
          8.955416359616802,
          12.76606303785439,
          16.416687422166873,
          17.941705272446505,
          17.602780005346165,
          15.521647478514675,
          6.502491254107919,
          7.432833473154362,
          10.666387784982222,
          6.700295094061232,
          11.484634871681903,
          10.785267620561738,
          3.3775570154355607,
          5.369923623913616,
          12.661442667933091,
          9.991121445935947,
          7.332097850259451,
          4.848489822718319,
          3.162176328755635,
          4.516039940514128,
          13.860090774751953,
          15.631921651667549,
          13.152406134320465,
          5.069385495478871,
          4.162505523641184,
          12.1201172395417,
          12.483100167879128,
          8.542092883321482,
          4.333723031140398,
          3.8580775573168786,
          -0.11279407025459233,
          7.137431480031323,
          2.2350144246180146,
          0.3630906058921623,
          2.8926414058209775,
          16.06787627063067,
          2.827632569646122,
          -1.990660440293529,
          0.3908438674410659,
          0.0901023519163763,
          -2.738005911778081,
          5.0159205103596225,
          3.4932869489590694,
          4.757850241545894,
          0.2792027194066749,
          -1.7741960360916171,
          9.39151820526663,
          -0.7446276293348494,
          -2.539286533608626,
          -2.7576566060808183,
          -1.7184315463003987,
          -5.373965721040189,
          -1.9067727695167287,
          0.6558336585093929,
          -0.7762745908902936,
          2.901964223079621,
          18.013103209420457,
          8.090033943575762,
          -0.8374159820761763,
          2.265204968219721,
          0.35770002228660575,
          -0.3202954209748892,
          1.267138256268691,
          19.546479679450485,
          11.696011700511898,
          1.1576204303477031,
          1.8908868001634656,
          -1.2887453360806371,
          -2.868469213058622,
          -1.6967401285583104,
          -0.4003524423151055,
          0.1398783185840708,
          0.9181326116373477,
          0.3319379033664748,
          -1.1002566391430484,
          -4.993300816830229,
          -3.7812322058991,
          6.897322171092754,
          6.318002773925104,
          2.5553186797030065,
          3.4916753987658633,
          9.90468479535429,
          -2.9642877847991187,
          -2.1873187375604206,
          5.486970414853176,
          7.508901746967842,
          -0.4217974364673631,
          0.023190277696236716,
          4.653956834532374,
          3.333043124963724,
          -1.5940420229937136,
          2.4855148150184156,
          1.0063381834215168,
          -1.5592700729927007,
          -0.5184457037122702,
          0.7571681611867597,
          -2.0048752176436446,
          -0.9938531587933979,
          3.5373282569111075,
          0.7682031465636213,
          -2.1658743509105536,
          3.1534480753575997,
          2.495330739299611,
          -2.1875977977397856,
          2.590748748293127,
          4.122512513734587,
          4.027086756955857,
          -3.302489019033675,
          -3.6320860672696105,
          -0.4340803666238194,
          -2.7287156445118748,
          -1.2389279387393566,
          2.182993121810517,
          1.2676936816253628,
          -5.0335589802678955,
          -3.5342913128674067,
          1.6302832733812949,
          0.5348103115683638,
          -3.834790059982862,
          -1.625618502251626,
          -1.4102692200943658,
          -1.771541786743516,
          15.654902202751897,
          0.7669063131880476,
          -4.192957910691384,
          -0.28842743550140154,
          11.283772397910464,
          17.151393979784515,
          6.055563430191354,
          1.9668079096045197,
          4.26228091829178,
          10.422985244040863,
          6.369138166894665,
          -6.159783406754772,
          -5.574383700132203,
          -0.5067474359743298,
          2.9838848765764796,
          7.9399158055874475,
          10.423666866387059,
          13.200120955548837,
          17.107674475353832,
          13.655971018242981,
          8.308767368164458,
          33.726052819414704,
          30.699442826389767,
          17.94871794871795,
          6.782347643350345,
          4.275406621294267,
          3.828902600772735,
          17.721285770286162,
          9.61746021762375,
          9.188983799705449,
          13.832661915091416,
          5.358470525756771,
          10.611378205128204,
          18.661920916523,
          28.200690737833597,
          20.541169115348545,
          16.723692743028945,
          3.5335725269092775,
          1.301109350237718,
          10.610968390483636,
          5.389804268494968,
          2.9082918433831213,
          12.94003362600411,
          10.851541772301161,
          6.365080506037953
         ],
         "yaxis": "y"
        }
       ],
       "layout": {
        "legend": {
         "tracegroupgap": 0
        },
        "template": {
         "data": {
          "bar": [
           {
            "error_x": {
             "color": "#2a3f5f"
            },
            "error_y": {
             "color": "#2a3f5f"
            },
            "marker": {
             "line": {
              "color": "#E5ECF6",
              "width": 0.5
             },
             "pattern": {
              "fillmode": "overlay",
              "size": 10,
              "solidity": 0.2
             }
            },
            "type": "bar"
           }
          ],
          "barpolar": [
           {
            "marker": {
             "line": {
              "color": "#E5ECF6",
              "width": 0.5
             },
             "pattern": {
              "fillmode": "overlay",
              "size": 10,
              "solidity": 0.2
             }
            },
            "type": "barpolar"
           }
          ],
          "carpet": [
           {
            "aaxis": {
             "endlinecolor": "#2a3f5f",
             "gridcolor": "white",
             "linecolor": "white",
             "minorgridcolor": "white",
             "startlinecolor": "#2a3f5f"
            },
            "baxis": {
             "endlinecolor": "#2a3f5f",
             "gridcolor": "white",
             "linecolor": "white",
             "minorgridcolor": "white",
             "startlinecolor": "#2a3f5f"
            },
            "type": "carpet"
           }
          ],
          "choropleth": [
           {
            "colorbar": {
             "outlinewidth": 0,
             "ticks": ""
            },
            "type": "choropleth"
           }
          ],
          "contour": [
           {
            "colorbar": {
             "outlinewidth": 0,
             "ticks": ""
            },
            "colorscale": [
             [
              0,
              "#0d0887"
             ],
             [
              0.1111111111111111,
              "#46039f"
             ],
             [
              0.2222222222222222,
              "#7201a8"
             ],
             [
              0.3333333333333333,
              "#9c179e"
             ],
             [
              0.4444444444444444,
              "#bd3786"
             ],
             [
              0.5555555555555556,
              "#d8576b"
             ],
             [
              0.6666666666666666,
              "#ed7953"
             ],
             [
              0.7777777777777778,
              "#fb9f3a"
             ],
             [
              0.8888888888888888,
              "#fdca26"
             ],
             [
              1,
              "#f0f921"
             ]
            ],
            "type": "contour"
           }
          ],
          "contourcarpet": [
           {
            "colorbar": {
             "outlinewidth": 0,
             "ticks": ""
            },
            "type": "contourcarpet"
           }
          ],
          "heatmap": [
           {
            "colorbar": {
             "outlinewidth": 0,
             "ticks": ""
            },
            "colorscale": [
             [
              0,
              "#0d0887"
             ],
             [
              0.1111111111111111,
              "#46039f"
             ],
             [
              0.2222222222222222,
              "#7201a8"
             ],
             [
              0.3333333333333333,
              "#9c179e"
             ],
             [
              0.4444444444444444,
              "#bd3786"
             ],
             [
              0.5555555555555556,
              "#d8576b"
             ],
             [
              0.6666666666666666,
              "#ed7953"
             ],
             [
              0.7777777777777778,
              "#fb9f3a"
             ],
             [
              0.8888888888888888,
              "#fdca26"
             ],
             [
              1,
              "#f0f921"
             ]
            ],
            "type": "heatmap"
           }
          ],
          "heatmapgl": [
           {
            "colorbar": {
             "outlinewidth": 0,
             "ticks": ""
            },
            "colorscale": [
             [
              0,
              "#0d0887"
             ],
             [
              0.1111111111111111,
              "#46039f"
             ],
             [
              0.2222222222222222,
              "#7201a8"
             ],
             [
              0.3333333333333333,
              "#9c179e"
             ],
             [
              0.4444444444444444,
              "#bd3786"
             ],
             [
              0.5555555555555556,
              "#d8576b"
             ],
             [
              0.6666666666666666,
              "#ed7953"
             ],
             [
              0.7777777777777778,
              "#fb9f3a"
             ],
             [
              0.8888888888888888,
              "#fdca26"
             ],
             [
              1,
              "#f0f921"
             ]
            ],
            "type": "heatmapgl"
           }
          ],
          "histogram": [
           {
            "marker": {
             "pattern": {
              "fillmode": "overlay",
              "size": 10,
              "solidity": 0.2
             }
            },
            "type": "histogram"
           }
          ],
          "histogram2d": [
           {
            "colorbar": {
             "outlinewidth": 0,
             "ticks": ""
            },
            "colorscale": [
             [
              0,
              "#0d0887"
             ],
             [
              0.1111111111111111,
              "#46039f"
             ],
             [
              0.2222222222222222,
              "#7201a8"
             ],
             [
              0.3333333333333333,
              "#9c179e"
             ],
             [
              0.4444444444444444,
              "#bd3786"
             ],
             [
              0.5555555555555556,
              "#d8576b"
             ],
             [
              0.6666666666666666,
              "#ed7953"
             ],
             [
              0.7777777777777778,
              "#fb9f3a"
             ],
             [
              0.8888888888888888,
              "#fdca26"
             ],
             [
              1,
              "#f0f921"
             ]
            ],
            "type": "histogram2d"
           }
          ],
          "histogram2dcontour": [
           {
            "colorbar": {
             "outlinewidth": 0,
             "ticks": ""
            },
            "colorscale": [
             [
              0,
              "#0d0887"
             ],
             [
              0.1111111111111111,
              "#46039f"
             ],
             [
              0.2222222222222222,
              "#7201a8"
             ],
             [
              0.3333333333333333,
              "#9c179e"
             ],
             [
              0.4444444444444444,
              "#bd3786"
             ],
             [
              0.5555555555555556,
              "#d8576b"
             ],
             [
              0.6666666666666666,
              "#ed7953"
             ],
             [
              0.7777777777777778,
              "#fb9f3a"
             ],
             [
              0.8888888888888888,
              "#fdca26"
             ],
             [
              1,
              "#f0f921"
             ]
            ],
            "type": "histogram2dcontour"
           }
          ],
          "mesh3d": [
           {
            "colorbar": {
             "outlinewidth": 0,
             "ticks": ""
            },
            "type": "mesh3d"
           }
          ],
          "parcoords": [
           {
            "line": {
             "colorbar": {
              "outlinewidth": 0,
              "ticks": ""
             }
            },
            "type": "parcoords"
           }
          ],
          "pie": [
           {
            "automargin": true,
            "type": "pie"
           }
          ],
          "scatter": [
           {
            "fillpattern": {
             "fillmode": "overlay",
             "size": 10,
             "solidity": 0.2
            },
            "type": "scatter"
           }
          ],
          "scatter3d": [
           {
            "line": {
             "colorbar": {
              "outlinewidth": 0,
              "ticks": ""
             }
            },
            "marker": {
             "colorbar": {
              "outlinewidth": 0,
              "ticks": ""
             }
            },
            "type": "scatter3d"
           }
          ],
          "scattercarpet": [
           {
            "marker": {
             "colorbar": {
              "outlinewidth": 0,
              "ticks": ""
             }
            },
            "type": "scattercarpet"
           }
          ],
          "scattergeo": [
           {
            "marker": {
             "colorbar": {
              "outlinewidth": 0,
              "ticks": ""
             }
            },
            "type": "scattergeo"
           }
          ],
          "scattergl": [
           {
            "marker": {
             "colorbar": {
              "outlinewidth": 0,
              "ticks": ""
             }
            },
            "type": "scattergl"
           }
          ],
          "scattermapbox": [
           {
            "marker": {
             "colorbar": {
              "outlinewidth": 0,
              "ticks": ""
             }
            },
            "type": "scattermapbox"
           }
          ],
          "scatterpolar": [
           {
            "marker": {
             "colorbar": {
              "outlinewidth": 0,
              "ticks": ""
             }
            },
            "type": "scatterpolar"
           }
          ],
          "scatterpolargl": [
           {
            "marker": {
             "colorbar": {
              "outlinewidth": 0,
              "ticks": ""
             }
            },
            "type": "scatterpolargl"
           }
          ],
          "scatterternary": [
           {
            "marker": {
             "colorbar": {
              "outlinewidth": 0,
              "ticks": ""
             }
            },
            "type": "scatterternary"
           }
          ],
          "surface": [
           {
            "colorbar": {
             "outlinewidth": 0,
             "ticks": ""
            },
            "colorscale": [
             [
              0,
              "#0d0887"
             ],
             [
              0.1111111111111111,
              "#46039f"
             ],
             [
              0.2222222222222222,
              "#7201a8"
             ],
             [
              0.3333333333333333,
              "#9c179e"
             ],
             [
              0.4444444444444444,
              "#bd3786"
             ],
             [
              0.5555555555555556,
              "#d8576b"
             ],
             [
              0.6666666666666666,
              "#ed7953"
             ],
             [
              0.7777777777777778,
              "#fb9f3a"
             ],
             [
              0.8888888888888888,
              "#fdca26"
             ],
             [
              1,
              "#f0f921"
             ]
            ],
            "type": "surface"
           }
          ],
          "table": [
           {
            "cells": {
             "fill": {
              "color": "#EBF0F8"
             },
             "line": {
              "color": "white"
             }
            },
            "header": {
             "fill": {
              "color": "#C8D4E3"
             },
             "line": {
              "color": "white"
             }
            },
            "type": "table"
           }
          ]
         },
         "layout": {
          "annotationdefaults": {
           "arrowcolor": "#2a3f5f",
           "arrowhead": 0,
           "arrowwidth": 1
          },
          "autotypenumbers": "strict",
          "coloraxis": {
           "colorbar": {
            "outlinewidth": 0,
            "ticks": ""
           }
          },
          "colorscale": {
           "diverging": [
            [
             0,
             "#8e0152"
            ],
            [
             0.1,
             "#c51b7d"
            ],
            [
             0.2,
             "#de77ae"
            ],
            [
             0.3,
             "#f1b6da"
            ],
            [
             0.4,
             "#fde0ef"
            ],
            [
             0.5,
             "#f7f7f7"
            ],
            [
             0.6,
             "#e6f5d0"
            ],
            [
             0.7,
             "#b8e186"
            ],
            [
             0.8,
             "#7fbc41"
            ],
            [
             0.9,
             "#4d9221"
            ],
            [
             1,
             "#276419"
            ]
           ],
           "sequential": [
            [
             0,
             "#0d0887"
            ],
            [
             0.1111111111111111,
             "#46039f"
            ],
            [
             0.2222222222222222,
             "#7201a8"
            ],
            [
             0.3333333333333333,
             "#9c179e"
            ],
            [
             0.4444444444444444,
             "#bd3786"
            ],
            [
             0.5555555555555556,
             "#d8576b"
            ],
            [
             0.6666666666666666,
             "#ed7953"
            ],
            [
             0.7777777777777778,
             "#fb9f3a"
            ],
            [
             0.8888888888888888,
             "#fdca26"
            ],
            [
             1,
             "#f0f921"
            ]
           ],
           "sequentialminus": [
            [
             0,
             "#0d0887"
            ],
            [
             0.1111111111111111,
             "#46039f"
            ],
            [
             0.2222222222222222,
             "#7201a8"
            ],
            [
             0.3333333333333333,
             "#9c179e"
            ],
            [
             0.4444444444444444,
             "#bd3786"
            ],
            [
             0.5555555555555556,
             "#d8576b"
            ],
            [
             0.6666666666666666,
             "#ed7953"
            ],
            [
             0.7777777777777778,
             "#fb9f3a"
            ],
            [
             0.8888888888888888,
             "#fdca26"
            ],
            [
             1,
             "#f0f921"
            ]
           ]
          },
          "colorway": [
           "#636efa",
           "#EF553B",
           "#00cc96",
           "#ab63fa",
           "#FFA15A",
           "#19d3f3",
           "#FF6692",
           "#B6E880",
           "#FF97FF",
           "#FECB52"
          ],
          "font": {
           "color": "#2a3f5f"
          },
          "geo": {
           "bgcolor": "white",
           "lakecolor": "white",
           "landcolor": "#E5ECF6",
           "showlakes": true,
           "showland": true,
           "subunitcolor": "white"
          },
          "hoverlabel": {
           "align": "left"
          },
          "hovermode": "closest",
          "mapbox": {
           "style": "light"
          },
          "paper_bgcolor": "white",
          "plot_bgcolor": "#E5ECF6",
          "polar": {
           "angularaxis": {
            "gridcolor": "white",
            "linecolor": "white",
            "ticks": ""
           },
           "bgcolor": "#E5ECF6",
           "radialaxis": {
            "gridcolor": "white",
            "linecolor": "white",
            "ticks": ""
           }
          },
          "scene": {
           "xaxis": {
            "backgroundcolor": "#E5ECF6",
            "gridcolor": "white",
            "gridwidth": 2,
            "linecolor": "white",
            "showbackground": true,
            "ticks": "",
            "zerolinecolor": "white"
           },
           "yaxis": {
            "backgroundcolor": "#E5ECF6",
            "gridcolor": "white",
            "gridwidth": 2,
            "linecolor": "white",
            "showbackground": true,
            "ticks": "",
            "zerolinecolor": "white"
           },
           "zaxis": {
            "backgroundcolor": "#E5ECF6",
            "gridcolor": "white",
            "gridwidth": 2,
            "linecolor": "white",
            "showbackground": true,
            "ticks": "",
            "zerolinecolor": "white"
           }
          },
          "shapedefaults": {
           "line": {
            "color": "#2a3f5f"
           }
          },
          "ternary": {
           "aaxis": {
            "gridcolor": "white",
            "linecolor": "white",
            "ticks": ""
           },
           "baxis": {
            "gridcolor": "white",
            "linecolor": "white",
            "ticks": ""
           },
           "bgcolor": "#E5ECF6",
           "caxis": {
            "gridcolor": "white",
            "linecolor": "white",
            "ticks": ""
           }
          },
          "title": {
           "x": 0.05
          },
          "xaxis": {
           "automargin": true,
           "gridcolor": "white",
           "linecolor": "white",
           "ticks": "",
           "title": {
            "standoff": 15
           },
           "zerolinecolor": "white",
           "zerolinewidth": 2
          },
          "yaxis": {
           "automargin": true,
           "gridcolor": "white",
           "linecolor": "white",
           "ticks": "",
           "title": {
            "standoff": 15
           },
           "zerolinecolor": "white",
           "zerolinewidth": 2
          }
         }
        },
        "title": {
         "text": "Average Arrival Delay by day"
        },
        "xaxis": {
         "anchor": "y",
         "domain": [
          0,
          1
         ],
         "title": {
          "text": "FlightDate"
         }
        },
        "yaxis": {
         "anchor": "x",
         "domain": [
          0,
          1
         ],
         "title": {
          "text": "AverageArrivalDelay"
         }
        }
       }
      }
     },
     "metadata": {},
     "output_type": "display_data"
    }
   ],
   "source": [
    "# average delay by day\n",
    "def avg_delay_by_day(df):\n",
    "    df_aggregated = df.groupBy(\"FlightDate\",\"DayOfWeek\").agg({\"ArrDelay\": \"avg\"}).withColumnRenamed(\"avg(ArrDelay)\", \"AverageArrivalDelay\")\n",
    "    df_aggregated = df_aggregated.orderBy(\"FlightDate\", ascending=True)\n",
    "    # convert DayOfWeek to string with the corresponding day\n",
    "    df_aggregated = df_aggregated.withColumn(\"DayOfWeek\", when(col(\"DayOfWeek\") == 1, \"Monday\").when(col(\"DayOfWeek\") == 2, \"Tuesday\").when(col(\"DayOfWeek\") == 3, \"Wednesday\").when(col(\"DayOfWeek\") == 4, \"Thursday\").when(col(\"DayOfWeek\") == 5, \"Friday\").when(col(\"DayOfWeek\") == 6, \"Saturday\").when(col(\"DayOfWeek\") == 7, \"Sunday\"))\n",
    "    return df_aggregated\n",
    "\n",
    "# visualized flights as line chart\n",
    "def avg_delay_by_day_line(df):\n",
    "    df_pd = avg_delay_by_day(df).toPandas()\n",
    "    fig = px.line(df_pd, x=\"FlightDate\", y=\"AverageArrivalDelay\", title=\"Average Arrival Delay by day\",hover_data=[\"DayOfWeek\",\"FlightDate\",\"AverageArrivalDelay\"])\n",
    "    return fig\n",
    "\n",
    "avg_delay_by_day_line(df)"
   ]
  },
  {
   "cell_type": "code",
   "execution_count": 10,
   "metadata": {},
   "outputs": [
    {
     "name": "stderr",
     "output_type": "stream",
     "text": [
      "/opt/homebrew/lib/python3.10/site-packages/pyspark/sql/pandas/conversion.py:248: FutureWarning:\n",
      "\n",
      "Passing unit-less datetime64 dtype to .astype is deprecated and will raise in a future version. Pass 'datetime64[ns]' instead\n",
      "\n",
      "/opt/homebrew/lib/python3.10/site-packages/pyspark/sql/pandas/conversion.py:248: FutureWarning:\n",
      "\n",
      "Passing unit-less datetime64 dtype to .astype is deprecated and will raise in a future version. Pass 'datetime64[ns]' instead\n",
      "\n"
     ]
    },
    {
     "data": {
      "application/vnd.plotly.v1+json": {
       "config": {
        "plotlyServerURL": "https://plot.ly"
       },
       "data": [
        {
         "name": "num flights",
         "type": "scatter",
         "x": [
          "2013-01-01T00:00:00",
          "2013-01-02T00:00:00",
          "2013-01-03T00:00:00",
          "2013-01-04T00:00:00",
          "2013-01-05T00:00:00",
          "2013-01-06T00:00:00",
          "2013-01-07T00:00:00",
          "2013-01-08T00:00:00",
          "2013-01-09T00:00:00",
          "2013-01-10T00:00:00",
          "2013-01-11T00:00:00",
          "2013-01-12T00:00:00",
          "2013-01-13T00:00:00",
          "2013-01-14T00:00:00",
          "2013-01-15T00:00:00",
          "2013-01-16T00:00:00",
          "2013-01-17T00:00:00",
          "2013-01-18T00:00:00",
          "2013-01-19T00:00:00",
          "2013-01-20T00:00:00",
          "2013-01-21T00:00:00",
          "2013-01-22T00:00:00",
          "2013-01-23T00:00:00",
          "2013-01-24T00:00:00",
          "2013-01-25T00:00:00",
          "2013-01-26T00:00:00",
          "2013-01-27T00:00:00",
          "2013-01-28T00:00:00",
          "2013-01-29T00:00:00",
          "2013-01-30T00:00:00",
          "2013-01-31T00:00:00",
          "2013-02-01T00:00:00",
          "2013-02-02T00:00:00",
          "2013-02-03T00:00:00",
          "2013-02-04T00:00:00",
          "2013-02-05T00:00:00",
          "2013-02-06T00:00:00",
          "2013-02-07T00:00:00",
          "2013-02-08T00:00:00",
          "2013-02-09T00:00:00",
          "2013-02-10T00:00:00",
          "2013-02-11T00:00:00",
          "2013-02-12T00:00:00",
          "2013-02-13T00:00:00",
          "2013-02-14T00:00:00",
          "2013-02-15T00:00:00",
          "2013-02-16T00:00:00",
          "2013-02-17T00:00:00",
          "2013-02-18T00:00:00",
          "2013-02-19T00:00:00",
          "2013-02-20T00:00:00",
          "2013-02-21T00:00:00",
          "2013-02-22T00:00:00",
          "2013-02-23T00:00:00",
          "2013-02-24T00:00:00",
          "2013-02-25T00:00:00",
          "2013-02-26T00:00:00",
          "2013-02-27T00:00:00",
          "2013-02-28T00:00:00",
          "2013-03-01T00:00:00",
          "2013-03-02T00:00:00",
          "2013-03-03T00:00:00",
          "2013-03-04T00:00:00",
          "2013-03-05T00:00:00",
          "2013-03-06T00:00:00",
          "2013-03-07T00:00:00",
          "2013-03-08T00:00:00",
          "2013-03-09T00:00:00",
          "2013-03-10T00:00:00",
          "2013-03-11T00:00:00",
          "2013-03-12T00:00:00",
          "2013-03-13T00:00:00",
          "2013-03-14T00:00:00",
          "2013-03-15T00:00:00",
          "2013-03-16T00:00:00",
          "2013-03-17T00:00:00",
          "2013-03-18T00:00:00",
          "2013-03-19T00:00:00",
          "2013-03-20T00:00:00",
          "2013-03-21T00:00:00",
          "2013-03-22T00:00:00",
          "2013-03-23T00:00:00",
          "2013-03-24T00:00:00",
          "2013-03-25T00:00:00",
          "2013-03-26T00:00:00",
          "2013-03-27T00:00:00",
          "2013-03-28T00:00:00",
          "2013-03-29T00:00:00",
          "2013-03-30T00:00:00",
          "2013-03-31T00:00:00",
          "2013-04-01T00:00:00",
          "2013-04-02T00:00:00",
          "2013-04-03T00:00:00",
          "2013-04-04T00:00:00",
          "2013-04-05T00:00:00",
          "2013-04-06T00:00:00",
          "2013-04-07T00:00:00",
          "2013-04-08T00:00:00",
          "2013-04-09T00:00:00",
          "2013-04-10T00:00:00",
          "2013-04-11T00:00:00",
          "2013-04-12T00:00:00",
          "2013-04-13T00:00:00",
          "2013-04-14T00:00:00",
          "2013-04-15T00:00:00",
          "2013-04-16T00:00:00",
          "2013-04-17T00:00:00",
          "2013-04-18T00:00:00",
          "2013-04-19T00:00:00",
          "2013-04-20T00:00:00",
          "2013-04-21T00:00:00",
          "2013-04-22T00:00:00",
          "2013-04-23T00:00:00",
          "2013-04-24T00:00:00",
          "2013-04-25T00:00:00",
          "2013-04-26T00:00:00",
          "2013-04-27T00:00:00",
          "2013-04-28T00:00:00",
          "2013-04-29T00:00:00",
          "2013-04-30T00:00:00",
          "2013-05-01T00:00:00",
          "2013-05-02T00:00:00",
          "2013-05-03T00:00:00",
          "2013-05-04T00:00:00",
          "2013-05-05T00:00:00",
          "2013-05-06T00:00:00",
          "2013-05-07T00:00:00",
          "2013-05-08T00:00:00",
          "2013-05-09T00:00:00",
          "2013-05-10T00:00:00",
          "2013-05-11T00:00:00",
          "2013-05-12T00:00:00",
          "2013-05-13T00:00:00",
          "2013-05-14T00:00:00",
          "2013-05-15T00:00:00",
          "2013-05-16T00:00:00",
          "2013-05-17T00:00:00",
          "2013-05-18T00:00:00",
          "2013-05-19T00:00:00",
          "2013-05-20T00:00:00",
          "2013-05-21T00:00:00",
          "2013-05-22T00:00:00",
          "2013-05-23T00:00:00",
          "2013-05-24T00:00:00",
          "2013-05-25T00:00:00",
          "2013-05-26T00:00:00",
          "2013-05-27T00:00:00",
          "2013-05-28T00:00:00",
          "2013-05-29T00:00:00",
          "2013-05-30T00:00:00",
          "2013-05-31T00:00:00",
          "2013-06-01T00:00:00",
          "2013-06-02T00:00:00",
          "2013-06-03T00:00:00",
          "2013-06-04T00:00:00",
          "2013-06-05T00:00:00",
          "2013-06-06T00:00:00",
          "2013-06-07T00:00:00",
          "2013-06-08T00:00:00",
          "2013-06-09T00:00:00",
          "2013-06-10T00:00:00",
          "2013-06-11T00:00:00",
          "2013-06-12T00:00:00",
          "2013-06-13T00:00:00",
          "2013-06-14T00:00:00",
          "2013-06-15T00:00:00",
          "2013-06-16T00:00:00",
          "2013-06-17T00:00:00",
          "2013-06-18T00:00:00",
          "2013-06-19T00:00:00",
          "2013-06-20T00:00:00",
          "2013-06-21T00:00:00",
          "2013-06-22T00:00:00",
          "2013-06-23T00:00:00",
          "2013-06-24T00:00:00",
          "2013-06-25T00:00:00",
          "2013-06-26T00:00:00",
          "2013-06-27T00:00:00",
          "2013-06-28T00:00:00",
          "2013-06-29T00:00:00",
          "2013-06-30T00:00:00",
          "2013-07-01T00:00:00",
          "2013-07-02T00:00:00",
          "2013-07-03T00:00:00",
          "2013-07-04T00:00:00",
          "2013-07-05T00:00:00",
          "2013-07-06T00:00:00",
          "2013-07-07T00:00:00",
          "2013-07-08T00:00:00",
          "2013-07-09T00:00:00",
          "2013-07-10T00:00:00",
          "2013-07-11T00:00:00",
          "2013-07-12T00:00:00",
          "2013-07-13T00:00:00",
          "2013-07-14T00:00:00",
          "2013-07-15T00:00:00",
          "2013-07-16T00:00:00",
          "2013-07-17T00:00:00",
          "2013-07-18T00:00:00",
          "2013-07-19T00:00:00",
          "2013-07-20T00:00:00",
          "2013-07-21T00:00:00",
          "2013-07-22T00:00:00",
          "2013-07-23T00:00:00",
          "2013-07-24T00:00:00",
          "2013-07-25T00:00:00",
          "2013-07-26T00:00:00",
          "2013-07-27T00:00:00",
          "2013-07-28T00:00:00",
          "2013-07-29T00:00:00",
          "2013-07-30T00:00:00",
          "2013-07-31T00:00:00",
          "2013-08-01T00:00:00",
          "2013-08-02T00:00:00",
          "2013-08-03T00:00:00",
          "2013-08-04T00:00:00",
          "2013-08-05T00:00:00",
          "2013-08-06T00:00:00",
          "2013-08-07T00:00:00",
          "2013-08-08T00:00:00",
          "2013-08-09T00:00:00",
          "2013-08-10T00:00:00",
          "2013-08-11T00:00:00",
          "2013-08-12T00:00:00",
          "2013-08-13T00:00:00",
          "2013-08-14T00:00:00",
          "2013-08-15T00:00:00",
          "2013-08-16T00:00:00",
          "2013-08-17T00:00:00",
          "2013-08-18T00:00:00",
          "2013-08-19T00:00:00",
          "2013-08-20T00:00:00",
          "2013-08-21T00:00:00",
          "2013-08-22T00:00:00",
          "2013-08-23T00:00:00",
          "2013-08-24T00:00:00",
          "2013-08-25T00:00:00",
          "2013-08-26T00:00:00",
          "2013-08-27T00:00:00",
          "2013-08-28T00:00:00",
          "2013-08-29T00:00:00",
          "2013-08-30T00:00:00",
          "2013-08-31T00:00:00",
          "2013-09-01T00:00:00",
          "2013-09-02T00:00:00",
          "2013-09-03T00:00:00",
          "2013-09-04T00:00:00",
          "2013-09-05T00:00:00",
          "2013-09-06T00:00:00",
          "2013-09-07T00:00:00",
          "2013-09-08T00:00:00",
          "2013-09-09T00:00:00",
          "2013-09-10T00:00:00",
          "2013-09-11T00:00:00",
          "2013-09-12T00:00:00",
          "2013-09-13T00:00:00",
          "2013-09-14T00:00:00",
          "2013-09-15T00:00:00",
          "2013-09-16T00:00:00",
          "2013-09-17T00:00:00",
          "2013-09-18T00:00:00",
          "2013-09-19T00:00:00",
          "2013-09-20T00:00:00",
          "2013-09-21T00:00:00",
          "2013-09-22T00:00:00",
          "2013-09-23T00:00:00",
          "2013-09-24T00:00:00",
          "2013-09-25T00:00:00",
          "2013-09-26T00:00:00",
          "2013-09-27T00:00:00",
          "2013-09-28T00:00:00",
          "2013-09-29T00:00:00",
          "2013-09-30T00:00:00",
          "2013-10-01T00:00:00",
          "2013-10-02T00:00:00",
          "2013-10-03T00:00:00",
          "2013-10-04T00:00:00",
          "2013-10-05T00:00:00",
          "2013-10-06T00:00:00",
          "2013-10-07T00:00:00",
          "2013-10-08T00:00:00",
          "2013-10-09T00:00:00",
          "2013-10-10T00:00:00",
          "2013-10-11T00:00:00",
          "2013-10-12T00:00:00",
          "2013-10-13T00:00:00",
          "2013-10-14T00:00:00",
          "2013-10-15T00:00:00",
          "2013-10-16T00:00:00",
          "2013-10-17T00:00:00",
          "2013-10-18T00:00:00",
          "2013-10-19T00:00:00",
          "2013-10-20T00:00:00",
          "2013-10-21T00:00:00",
          "2013-10-22T00:00:00",
          "2013-10-23T00:00:00",
          "2013-10-24T00:00:00",
          "2013-10-25T00:00:00",
          "2013-10-26T00:00:00",
          "2013-10-27T00:00:00",
          "2013-10-28T00:00:00",
          "2013-10-29T00:00:00",
          "2013-10-30T00:00:00",
          "2013-10-31T00:00:00",
          "2013-11-01T00:00:00",
          "2013-11-02T00:00:00",
          "2013-11-03T00:00:00",
          "2013-11-04T00:00:00",
          "2013-11-05T00:00:00",
          "2013-11-06T00:00:00",
          "2013-11-07T00:00:00",
          "2013-11-08T00:00:00",
          "2013-11-09T00:00:00",
          "2013-11-10T00:00:00",
          "2013-11-11T00:00:00",
          "2013-11-12T00:00:00",
          "2013-11-13T00:00:00",
          "2013-11-14T00:00:00",
          "2013-11-15T00:00:00",
          "2013-11-16T00:00:00",
          "2013-11-17T00:00:00",
          "2013-11-18T00:00:00",
          "2013-11-19T00:00:00",
          "2013-11-20T00:00:00",
          "2013-11-21T00:00:00",
          "2013-11-22T00:00:00",
          "2013-11-23T00:00:00",
          "2013-11-24T00:00:00",
          "2013-11-25T00:00:00",
          "2013-11-26T00:00:00",
          "2013-11-27T00:00:00",
          "2013-11-28T00:00:00",
          "2013-11-29T00:00:00",
          "2013-11-30T00:00:00",
          "2013-12-01T00:00:00",
          "2013-12-02T00:00:00",
          "2013-12-03T00:00:00",
          "2013-12-04T00:00:00",
          "2013-12-05T00:00:00",
          "2013-12-06T00:00:00",
          "2013-12-07T00:00:00",
          "2013-12-08T00:00:00",
          "2013-12-09T00:00:00",
          "2013-12-10T00:00:00",
          "2013-12-11T00:00:00",
          "2013-12-12T00:00:00",
          "2013-12-13T00:00:00",
          "2013-12-14T00:00:00",
          "2013-12-15T00:00:00",
          "2013-12-16T00:00:00",
          "2013-12-17T00:00:00",
          "2013-12-18T00:00:00",
          "2013-12-19T00:00:00",
          "2013-12-20T00:00:00",
          "2013-12-21T00:00:00",
          "2013-12-22T00:00:00",
          "2013-12-23T00:00:00",
          "2013-12-24T00:00:00",
          "2013-12-25T00:00:00",
          "2013-12-26T00:00:00",
          "2013-12-27T00:00:00",
          "2013-12-28T00:00:00",
          "2013-12-29T00:00:00",
          "2013-12-30T00:00:00",
          "2013-12-31T00:00:00"
         ],
         "xaxis": "x",
         "y": [
          15060,
          17894,
          17588,
          17495,
          13863,
          16322,
          17267,
          16233,
          16564,
          17259,
          17114,
          13121,
          15771,
          17011,
          15685,
          16332,
          17109,
          17261,
          13105,
          14909,
          16869,
          16101,
          16461,
          16972,
          17000,
          13022,
          15432,
          16602,
          15675,
          15932,
          16998,
          17245,
          13084,
          15207,
          16905,
          16121,
          16561,
          17031,
          15490,
          11929,
          15640,
          16738,
          16158,
          16639,
          17944,
          18149,
          14121,
          15773,
          17921,
          17424,
          17227,
          17137,
          17500,
          14150,
          16246,
          17552,
          15833,
          17111,
          18014,
          17878,
          14863,
          17201,
          18098,
          16416,
          16619,
          18172,
          17927,
          14602,
          17458,
          18415,
          17788,
          18063,
          18599,
          18606,
          15372,
          17587,
          17994,
          17617,
          18141,
          18597,
          18642,
          15126,
          17312,
          18212,
          17979,
          18234,
          18618,
          18602,
          15295,
          17280,
          18415,
          18051,
          18218,
          18515,
          18613,
          15271,
          17640,
          18335,
          17507,
          16940,
          17922,
          18314,
          14754,
          17413,
          18419,
          16949,
          16970,
          17161,
          18109,
          14406,
          17494,
          18291,
          17799,
          17964,
          18476,
          18579,
          14428,
          17554,
          18433,
          17868,
          18023,
          18303,
          18240,
          14428,
          17458,
          18433,
          17898,
          17832,
          18323,
          18267,
          14153,
          17188,
          18480,
          17959,
          17882,
          18511,
          18595,
          14499,
          17439,
          18247,
          17500,
          17790,
          17948,
          18456,
          13844,
          13927,
          17439,
          18206,
          17904,
          18273,
          18363,
          14482,
          17361,
          18467,
          18097,
          18112,
          18600,
          18580,
          15411,
          17865,
          18734,
          18652,
          18319,
          18372,
          18960,
          16300,
          18317,
          18718,
          18371,
          18906,
          19087,
          19010,
          16342,
          18174,
          18521,
          18524,
          18404,
          18531,
          18274,
          16151,
          17516,
          17860,
          17819,
          18807,
          13536,
          15746,
          15852,
          17827,
          18811,
          18529,
          18116,
          18553,
          18988,
          16197,
          18299,
          19089,
          18695,
          18841,
          18998,
          18941,
          16060,
          18132,
          18705,
          18501,
          18866,
          19072,
          19124,
          16266,
          18158,
          18870,
          18723,
          18985,
          18951,
          18922,
          16188,
          18276,
          19078,
          18828,
          18948,
          18890,
          18910,
          16257,
          18104,
          18765,
          17870,
          18281,
          18818,
          18799,
          15515,
          17878,
          18718,
          17990,
          18210,
          18298,
          18594,
          14990,
          17562,
          18368,
          17592,
          17713,
          18397,
          18216,
          12944,
          12967,
          16671,
          17590,
          17436,
          17991,
          18056,
          13536,
          17216,
          17939,
          16927,
          17106,
          17324,
          17971,
          13390,
          17149,
          17948,
          16925,
          17388,
          17470,
          17777,
          13431,
          17129,
          17957,
          16939,
          17424,
          18159,
          18080,
          13302,
          17199,
          17924,
          17017,
          17562,
          18037,
          18025,
          13603,
          17178,
          17909,
          17249,
          17585,
          18151,
          17974,
          13497,
          17033,
          18070,
          17229,
          17657,
          18191,
          18144,
          13700,
          17294,
          18066,
          17230,
          17570,
          18123,
          18115,
          13673,
          17198,
          17990,
          17255,
          17576,
          16382,
          17647,
          13660,
          16917,
          17893,
          17137,
          17499,
          18028,
          17916,
          13886,
          16841,
          17792,
          17107,
          17505,
          17987,
          18015,
          13880,
          16207,
          17804,
          17154,
          17481,
          17803,
          18006,
          14110,
          15576,
          16204,
          17620,
          18275,
          10896,
          12859,
          16673,
          18554,
          18291,
          16690,
          16535,
          16392,
          15458,
          12307,
          14010,
          15794,
          15444,
          16655,
          17338,
          17341,
          12755,
          15899,
          16975,
          16135,
          16947,
          17472,
          17981,
          15925,
          15995,
          16963,
          13657,
          13251,
          17906,
          18086,
          16269,
          16059,
          16961,
          13912
         ],
         "yaxis": "y"
        },
        {
         "name": "avg delay",
         "type": "scatter",
         "x": [
          "2013-01-01T00:00:00",
          "2013-01-02T00:00:00",
          "2013-01-03T00:00:00",
          "2013-01-04T00:00:00",
          "2013-01-05T00:00:00",
          "2013-01-06T00:00:00",
          "2013-01-07T00:00:00",
          "2013-01-08T00:00:00",
          "2013-01-09T00:00:00",
          "2013-01-10T00:00:00",
          "2013-01-11T00:00:00",
          "2013-01-12T00:00:00",
          "2013-01-13T00:00:00",
          "2013-01-14T00:00:00",
          "2013-01-15T00:00:00",
          "2013-01-16T00:00:00",
          "2013-01-17T00:00:00",
          "2013-01-18T00:00:00",
          "2013-01-19T00:00:00",
          "2013-01-20T00:00:00",
          "2013-01-21T00:00:00",
          "2013-01-22T00:00:00",
          "2013-01-23T00:00:00",
          "2013-01-24T00:00:00",
          "2013-01-25T00:00:00",
          "2013-01-26T00:00:00",
          "2013-01-27T00:00:00",
          "2013-01-28T00:00:00",
          "2013-01-29T00:00:00",
          "2013-01-30T00:00:00",
          "2013-01-31T00:00:00",
          "2013-02-01T00:00:00",
          "2013-02-02T00:00:00",
          "2013-02-03T00:00:00",
          "2013-02-04T00:00:00",
          "2013-02-05T00:00:00",
          "2013-02-06T00:00:00",
          "2013-02-07T00:00:00",
          "2013-02-08T00:00:00",
          "2013-02-09T00:00:00",
          "2013-02-10T00:00:00",
          "2013-02-11T00:00:00",
          "2013-02-12T00:00:00",
          "2013-02-13T00:00:00",
          "2013-02-14T00:00:00",
          "2013-02-15T00:00:00",
          "2013-02-16T00:00:00",
          "2013-02-17T00:00:00",
          "2013-02-18T00:00:00",
          "2013-02-19T00:00:00",
          "2013-02-20T00:00:00",
          "2013-02-21T00:00:00",
          "2013-02-22T00:00:00",
          "2013-02-23T00:00:00",
          "2013-02-24T00:00:00",
          "2013-02-25T00:00:00",
          "2013-02-26T00:00:00",
          "2013-02-27T00:00:00",
          "2013-02-28T00:00:00",
          "2013-03-01T00:00:00",
          "2013-03-02T00:00:00",
          "2013-03-03T00:00:00",
          "2013-03-04T00:00:00",
          "2013-03-05T00:00:00",
          "2013-03-06T00:00:00",
          "2013-03-07T00:00:00",
          "2013-03-08T00:00:00",
          "2013-03-09T00:00:00",
          "2013-03-10T00:00:00",
          "2013-03-11T00:00:00",
          "2013-03-12T00:00:00",
          "2013-03-13T00:00:00",
          "2013-03-14T00:00:00",
          "2013-03-15T00:00:00",
          "2013-03-16T00:00:00",
          "2013-03-17T00:00:00",
          "2013-03-18T00:00:00",
          "2013-03-19T00:00:00",
          "2013-03-20T00:00:00",
          "2013-03-21T00:00:00",
          "2013-03-22T00:00:00",
          "2013-03-23T00:00:00",
          "2013-03-24T00:00:00",
          "2013-03-25T00:00:00",
          "2013-03-26T00:00:00",
          "2013-03-27T00:00:00",
          "2013-03-28T00:00:00",
          "2013-03-29T00:00:00",
          "2013-03-30T00:00:00",
          "2013-03-31T00:00:00",
          "2013-04-01T00:00:00",
          "2013-04-02T00:00:00",
          "2013-04-03T00:00:00",
          "2013-04-04T00:00:00",
          "2013-04-05T00:00:00",
          "2013-04-06T00:00:00",
          "2013-04-07T00:00:00",
          "2013-04-08T00:00:00",
          "2013-04-09T00:00:00",
          "2013-04-10T00:00:00",
          "2013-04-11T00:00:00",
          "2013-04-12T00:00:00",
          "2013-04-13T00:00:00",
          "2013-04-14T00:00:00",
          "2013-04-15T00:00:00",
          "2013-04-16T00:00:00",
          "2013-04-17T00:00:00",
          "2013-04-18T00:00:00",
          "2013-04-19T00:00:00",
          "2013-04-20T00:00:00",
          "2013-04-21T00:00:00",
          "2013-04-22T00:00:00",
          "2013-04-23T00:00:00",
          "2013-04-24T00:00:00",
          "2013-04-25T00:00:00",
          "2013-04-26T00:00:00",
          "2013-04-27T00:00:00",
          "2013-04-28T00:00:00",
          "2013-04-29T00:00:00",
          "2013-04-30T00:00:00",
          "2013-05-01T00:00:00",
          "2013-05-02T00:00:00",
          "2013-05-03T00:00:00",
          "2013-05-04T00:00:00",
          "2013-05-05T00:00:00",
          "2013-05-06T00:00:00",
          "2013-05-07T00:00:00",
          "2013-05-08T00:00:00",
          "2013-05-09T00:00:00",
          "2013-05-10T00:00:00",
          "2013-05-11T00:00:00",
          "2013-05-12T00:00:00",
          "2013-05-13T00:00:00",
          "2013-05-14T00:00:00",
          "2013-05-15T00:00:00",
          "2013-05-16T00:00:00",
          "2013-05-17T00:00:00",
          "2013-05-18T00:00:00",
          "2013-05-19T00:00:00",
          "2013-05-20T00:00:00",
          "2013-05-21T00:00:00",
          "2013-05-22T00:00:00",
          "2013-05-23T00:00:00",
          "2013-05-24T00:00:00",
          "2013-05-25T00:00:00",
          "2013-05-26T00:00:00",
          "2013-05-27T00:00:00",
          "2013-05-28T00:00:00",
          "2013-05-29T00:00:00",
          "2013-05-30T00:00:00",
          "2013-05-31T00:00:00",
          "2013-06-01T00:00:00",
          "2013-06-02T00:00:00",
          "2013-06-03T00:00:00",
          "2013-06-04T00:00:00",
          "2013-06-05T00:00:00",
          "2013-06-06T00:00:00",
          "2013-06-07T00:00:00",
          "2013-06-08T00:00:00",
          "2013-06-09T00:00:00",
          "2013-06-10T00:00:00",
          "2013-06-11T00:00:00",
          "2013-06-12T00:00:00",
          "2013-06-13T00:00:00",
          "2013-06-14T00:00:00",
          "2013-06-15T00:00:00",
          "2013-06-16T00:00:00",
          "2013-06-17T00:00:00",
          "2013-06-18T00:00:00",
          "2013-06-19T00:00:00",
          "2013-06-20T00:00:00",
          "2013-06-21T00:00:00",
          "2013-06-22T00:00:00",
          "2013-06-23T00:00:00",
          "2013-06-24T00:00:00",
          "2013-06-25T00:00:00",
          "2013-06-26T00:00:00",
          "2013-06-27T00:00:00",
          "2013-06-28T00:00:00",
          "2013-06-29T00:00:00",
          "2013-06-30T00:00:00",
          "2013-07-01T00:00:00",
          "2013-07-02T00:00:00",
          "2013-07-03T00:00:00",
          "2013-07-04T00:00:00",
          "2013-07-05T00:00:00",
          "2013-07-06T00:00:00",
          "2013-07-07T00:00:00",
          "2013-07-08T00:00:00",
          "2013-07-09T00:00:00",
          "2013-07-10T00:00:00",
          "2013-07-11T00:00:00",
          "2013-07-12T00:00:00",
          "2013-07-13T00:00:00",
          "2013-07-14T00:00:00",
          "2013-07-15T00:00:00",
          "2013-07-16T00:00:00",
          "2013-07-17T00:00:00",
          "2013-07-18T00:00:00",
          "2013-07-19T00:00:00",
          "2013-07-20T00:00:00",
          "2013-07-21T00:00:00",
          "2013-07-22T00:00:00",
          "2013-07-23T00:00:00",
          "2013-07-24T00:00:00",
          "2013-07-25T00:00:00",
          "2013-07-26T00:00:00",
          "2013-07-27T00:00:00",
          "2013-07-28T00:00:00",
          "2013-07-29T00:00:00",
          "2013-07-30T00:00:00",
          "2013-07-31T00:00:00",
          "2013-08-01T00:00:00",
          "2013-08-02T00:00:00",
          "2013-08-03T00:00:00",
          "2013-08-04T00:00:00",
          "2013-08-05T00:00:00",
          "2013-08-06T00:00:00",
          "2013-08-07T00:00:00",
          "2013-08-08T00:00:00",
          "2013-08-09T00:00:00",
          "2013-08-10T00:00:00",
          "2013-08-11T00:00:00",
          "2013-08-12T00:00:00",
          "2013-08-13T00:00:00",
          "2013-08-14T00:00:00",
          "2013-08-15T00:00:00",
          "2013-08-16T00:00:00",
          "2013-08-17T00:00:00",
          "2013-08-18T00:00:00",
          "2013-08-19T00:00:00",
          "2013-08-20T00:00:00",
          "2013-08-21T00:00:00",
          "2013-08-22T00:00:00",
          "2013-08-23T00:00:00",
          "2013-08-24T00:00:00",
          "2013-08-25T00:00:00",
          "2013-08-26T00:00:00",
          "2013-08-27T00:00:00",
          "2013-08-28T00:00:00",
          "2013-08-29T00:00:00",
          "2013-08-30T00:00:00",
          "2013-08-31T00:00:00",
          "2013-09-01T00:00:00",
          "2013-09-02T00:00:00",
          "2013-09-03T00:00:00",
          "2013-09-04T00:00:00",
          "2013-09-05T00:00:00",
          "2013-09-06T00:00:00",
          "2013-09-07T00:00:00",
          "2013-09-08T00:00:00",
          "2013-09-09T00:00:00",
          "2013-09-10T00:00:00",
          "2013-09-11T00:00:00",
          "2013-09-12T00:00:00",
          "2013-09-13T00:00:00",
          "2013-09-14T00:00:00",
          "2013-09-15T00:00:00",
          "2013-09-16T00:00:00",
          "2013-09-17T00:00:00",
          "2013-09-18T00:00:00",
          "2013-09-19T00:00:00",
          "2013-09-20T00:00:00",
          "2013-09-21T00:00:00",
          "2013-09-22T00:00:00",
          "2013-09-23T00:00:00",
          "2013-09-24T00:00:00",
          "2013-09-25T00:00:00",
          "2013-09-26T00:00:00",
          "2013-09-27T00:00:00",
          "2013-09-28T00:00:00",
          "2013-09-29T00:00:00",
          "2013-09-30T00:00:00",
          "2013-10-01T00:00:00",
          "2013-10-02T00:00:00",
          "2013-10-03T00:00:00",
          "2013-10-04T00:00:00",
          "2013-10-05T00:00:00",
          "2013-10-06T00:00:00",
          "2013-10-07T00:00:00",
          "2013-10-08T00:00:00",
          "2013-10-09T00:00:00",
          "2013-10-10T00:00:00",
          "2013-10-11T00:00:00",
          "2013-10-12T00:00:00",
          "2013-10-13T00:00:00",
          "2013-10-14T00:00:00",
          "2013-10-15T00:00:00",
          "2013-10-16T00:00:00",
          "2013-10-17T00:00:00",
          "2013-10-18T00:00:00",
          "2013-10-19T00:00:00",
          "2013-10-20T00:00:00",
          "2013-10-21T00:00:00",
          "2013-10-22T00:00:00",
          "2013-10-23T00:00:00",
          "2013-10-24T00:00:00",
          "2013-10-25T00:00:00",
          "2013-10-26T00:00:00",
          "2013-10-27T00:00:00",
          "2013-10-28T00:00:00",
          "2013-10-29T00:00:00",
          "2013-10-30T00:00:00",
          "2013-10-31T00:00:00",
          "2013-11-01T00:00:00",
          "2013-11-02T00:00:00",
          "2013-11-03T00:00:00",
          "2013-11-04T00:00:00",
          "2013-11-05T00:00:00",
          "2013-11-06T00:00:00",
          "2013-11-07T00:00:00",
          "2013-11-08T00:00:00",
          "2013-11-09T00:00:00",
          "2013-11-10T00:00:00",
          "2013-11-11T00:00:00",
          "2013-11-12T00:00:00",
          "2013-11-13T00:00:00",
          "2013-11-14T00:00:00",
          "2013-11-15T00:00:00",
          "2013-11-16T00:00:00",
          "2013-11-17T00:00:00",
          "2013-11-18T00:00:00",
          "2013-11-19T00:00:00",
          "2013-11-20T00:00:00",
          "2013-11-21T00:00:00",
          "2013-11-22T00:00:00",
          "2013-11-23T00:00:00",
          "2013-11-24T00:00:00",
          "2013-11-25T00:00:00",
          "2013-11-26T00:00:00",
          "2013-11-27T00:00:00",
          "2013-11-28T00:00:00",
          "2013-11-29T00:00:00",
          "2013-11-30T00:00:00",
          "2013-12-01T00:00:00",
          "2013-12-02T00:00:00",
          "2013-12-03T00:00:00",
          "2013-12-04T00:00:00",
          "2013-12-05T00:00:00",
          "2013-12-06T00:00:00",
          "2013-12-07T00:00:00",
          "2013-12-08T00:00:00",
          "2013-12-09T00:00:00",
          "2013-12-10T00:00:00",
          "2013-12-11T00:00:00",
          "2013-12-12T00:00:00",
          "2013-12-13T00:00:00",
          "2013-12-14T00:00:00",
          "2013-12-15T00:00:00",
          "2013-12-16T00:00:00",
          "2013-12-17T00:00:00",
          "2013-12-18T00:00:00",
          "2013-12-19T00:00:00",
          "2013-12-20T00:00:00",
          "2013-12-21T00:00:00",
          "2013-12-22T00:00:00",
          "2013-12-23T00:00:00",
          "2013-12-24T00:00:00",
          "2013-12-25T00:00:00",
          "2013-12-26T00:00:00",
          "2013-12-27T00:00:00",
          "2013-12-28T00:00:00",
          "2013-12-29T00:00:00",
          "2013-12-30T00:00:00",
          "2013-12-31T00:00:00"
         ],
         "xaxis": "x",
         "y": [
          6.910159362549801,
          5.930870682910473,
          4.628326131453264,
          -1.2612174907116318,
          0.7722715141022867,
          1.3831025609606666,
          -3.5749695951815603,
          -0.6245302778291135,
          -1.5687635836754408,
          -1.6438959383510052,
          2.405399088465584,
          -1.8311866473591951,
          7.21634645869,
          2.5432367291752396,
          -1.5567102327064073,
          6.966017634092579,
          0.10579227307265182,
          -0.7009443253577429,
          -6.125600915681038,
          1.3128311757998525,
          2.12330310036161,
          -0.37885845599652196,
          1.1847396877467955,
          6.423756775866132,
          13.315235294117647,
          0.12816771617263092,
          5.838322965266978,
          5.482291290206,
          5.787049441786284,
          19.28314084860658,
          9.06536063066243,
          3.7972745723398087,
          3.08934576582085,
          -0.7230222923653581,
          10.656078083407277,
          -2.243905464921531,
          -2.8418573757623333,
          4.981621748576126,
          2.7404131697869594,
          -2.2242434403554365,
          10.824104859335039,
          11.541821006093919,
          -2.9261047159301894,
          -1.9833523649257767,
          -0.30310967454302273,
          -1.050801697063199,
          1.4338219672827703,
          0.156216319026184,
          0.9419675241336979,
          6.7152203856749315,
          2.44221280547977,
          10.15177685709284,
          12.183828571428572,
          5.185441696113074,
          2.09873199556814,
          3.557372379216044,
          9.86818669866734,
          8.934369703699375,
          0.7188297990451871,
          8.975780288622888,
          2.4804548206956873,
          -0.5192139991860938,
          0.7378715880207758,
          4.583333333333333,
          3.6167639448823636,
          2.1125357693154303,
          16.3713393205779,
          3.264963703602246,
          6.644919234734792,
          4.1672549551995655,
          4.472397121655049,
          -0.6514421746110834,
          0.9201569976880477,
          1.6453832097172956,
          2.8595498308613063,
          1.1720589071473246,
          22.73135489607647,
          8.812226826360902,
          2.2963452951876966,
          1.9053610797440448,
          3.923452419268319,
          21.11311648816607,
          16.70898798521257,
          13.695640237206238,
          -1.8428166193892874,
          -3.4055061972139957,
          -2.969062197873026,
          -4.029512955596172,
          -4.499575024517816,
          2.940625,
          3.200434428455064,
          1.642679075951471,
          -0.46508947195081785,
          5.004104779908182,
          0.6224144415193682,
          -2.92626547049964,
          -2.768310657596372,
          6.074065994000545,
          6.887530702004912,
          26.269716646989373,
          21.162760852583418,
          12.513104728622912,
          0.9955266368442456,
          6.538161143972894,
          4.331071176502524,
          7.226503038527347,
          21.545197407189157,
          35.07889983101218,
          21.620078414048262,
          1.1495904484242676,
          3.167200182919858,
          11.632168826198678,
          7.252879375245801,
          8.283956802493877,
          6.629086382333838,
          4.403143333871576,
          -3.1412531189354036,
          2.8145152102084996,
          0.4290131828785331,
          -2.786601746138348,
          1.11257837208012,
          7.935311151177403,
          11.925438596491228,
          -0.3390629331854727,
          2.949135067017986,
          0.179297998155482,
          -3.441837076768354,
          8.695659488559892,
          8.356655569502811,
          14.152679695625991,
          4.135095032855225,
          -1.8238305794740517,
          -1.1687770562770563,
          -4.150620858622418,
          1.42987361592663,
          5.419048133542218,
          1.5550954557676795,
          -2.324643078833023,
          14.437295716497506,
          10.151312544527867,
          16.982,
          16.3035413153457,
          20.272398038778693,
          11.874620719549197,
          1.9495088124819417,
          -4.943275651611977,
          2.07385744595447,
          4.672086125453148,
          4.695319481680071,
          10.203031795545341,
          5.723465664651745,
          4.228973898632786,
          19.415010656068198,
          6.680402880814426,
          -0.9268939603249158,
          6.3412654593639575,
          11.576881720430107,
          13.465231431646933,
          0.8581532671468431,
          12.177609851665267,
          17.447528557702572,
          6.61805704482093,
          6.220863584256783,
          29.426627476594817,
          11.558227848101266,
          3.0508588957055216,
          5.1730632745536935,
          23.297627951704243,
          23.909150291219856,
          4.658045065058712,
          2.4040970293917328,
          11.03929510783798,
          4.205421613021662,
          14.226422361615494,
          24.44171481021543,
          19.8734614554092,
          27.299500108672028,
          20.98904538341158,
          28.88617708219328,
          13.531607949972138,
          16.015585750171272,
          14.662374020156776,
          6.6974577697962845,
          13.168873291859414,
          -3.1153959810874703,
          1.2112917566366062,
          2.3631718395155183,
          14.213832950019633,
          17.739886236776353,
          17.81677370608236,
          27.75099359682049,
          16.629439982752114,
          16.356224984200548,
          12.912267703895782,
          6.271217006393792,
          7.78977421551679,
          8.611874832843005,
          12.503423385170638,
          8.955416359616802,
          12.76606303785439,
          16.416687422166873,
          17.941705272446505,
          17.602780005346165,
          15.521647478514675,
          6.502491254107919,
          7.432833473154362,
          10.666387784982222,
          6.700295094061232,
          11.484634871681903,
          10.785267620561738,
          3.3775570154355607,
          5.369923623913616,
          12.661442667933091,
          9.991121445935947,
          7.332097850259451,
          4.848489822718319,
          3.162176328755635,
          4.516039940514128,
          13.860090774751953,
          15.631921651667549,
          13.152406134320465,
          5.069385495478871,
          4.162505523641184,
          12.1201172395417,
          12.483100167879128,
          8.542092883321482,
          4.333723031140398,
          3.8580775573168786,
          -0.11279407025459233,
          7.137431480031323,
          2.2350144246180146,
          0.3630906058921623,
          2.8926414058209775,
          16.06787627063067,
          2.827632569646122,
          -1.990660440293529,
          0.3908438674410659,
          0.0901023519163763,
          -2.738005911778081,
          5.0159205103596225,
          3.4932869489590694,
          4.757850241545894,
          0.2792027194066749,
          -1.7741960360916171,
          9.39151820526663,
          -0.7446276293348494,
          -2.539286533608626,
          -2.7576566060808183,
          -1.7184315463003987,
          -5.373965721040189,
          -1.9067727695167287,
          0.6558336585093929,
          -0.7762745908902936,
          2.901964223079621,
          18.013103209420457,
          8.090033943575762,
          -0.8374159820761763,
          2.265204968219721,
          0.35770002228660575,
          -0.3202954209748892,
          1.267138256268691,
          19.546479679450485,
          11.696011700511898,
          1.1576204303477031,
          1.8908868001634656,
          -1.2887453360806371,
          -2.868469213058622,
          -1.6967401285583104,
          -0.4003524423151055,
          0.1398783185840708,
          0.9181326116373477,
          0.3319379033664748,
          -1.1002566391430484,
          -4.993300816830229,
          -3.7812322058991,
          6.897322171092754,
          6.318002773925104,
          2.5553186797030065,
          3.4916753987658633,
          9.90468479535429,
          -2.9642877847991187,
          -2.1873187375604206,
          5.486970414853176,
          7.508901746967842,
          -0.4217974364673631,
          0.023190277696236716,
          4.653956834532374,
          3.333043124963724,
          -1.5940420229937136,
          2.4855148150184156,
          1.0063381834215168,
          -1.5592700729927007,
          -0.5184457037122702,
          0.7571681611867597,
          -2.0048752176436446,
          -0.9938531587933979,
          3.5373282569111075,
          0.7682031465636213,
          -2.1658743509105536,
          3.1534480753575997,
          2.495330739299611,
          -2.1875977977397856,
          2.590748748293127,
          4.122512513734587,
          4.027086756955857,
          -3.302489019033675,
          -3.6320860672696105,
          -0.4340803666238194,
          -2.7287156445118748,
          -1.2389279387393566,
          2.182993121810517,
          1.2676936816253628,
          -5.0335589802678955,
          -3.5342913128674067,
          1.6302832733812949,
          0.5348103115683638,
          -3.834790059982862,
          -1.625618502251626,
          -1.4102692200943658,
          -1.771541786743516,
          15.654902202751897,
          0.7669063131880476,
          -4.192957910691384,
          -0.28842743550140154,
          11.283772397910464,
          17.151393979784515,
          6.055563430191354,
          1.9668079096045197,
          4.26228091829178,
          10.422985244040863,
          6.369138166894665,
          -6.159783406754772,
          -5.574383700132203,
          -0.5067474359743298,
          2.9838848765764796,
          7.9399158055874475,
          10.423666866387059,
          13.200120955548837,
          17.107674475353832,
          13.655971018242981,
          8.308767368164458,
          33.726052819414704,
          30.699442826389767,
          17.94871794871795,
          6.782347643350345,
          4.275406621294267,
          3.828902600772735,
          17.721285770286162,
          9.61746021762375,
          9.188983799705449,
          13.832661915091416,
          5.358470525756771,
          10.611378205128204,
          18.661920916523,
          28.200690737833597,
          20.541169115348545,
          16.723692743028945,
          3.5335725269092775,
          1.301109350237718,
          10.610968390483636,
          5.389804268494968,
          2.9082918433831213,
          12.94003362600411,
          10.851541772301161,
          6.365080506037953
         ],
         "yaxis": "y2"
        }
       ],
       "layout": {
        "template": {
         "data": {
          "bar": [
           {
            "error_x": {
             "color": "#2a3f5f"
            },
            "error_y": {
             "color": "#2a3f5f"
            },
            "marker": {
             "line": {
              "color": "#E5ECF6",
              "width": 0.5
             },
             "pattern": {
              "fillmode": "overlay",
              "size": 10,
              "solidity": 0.2
             }
            },
            "type": "bar"
           }
          ],
          "barpolar": [
           {
            "marker": {
             "line": {
              "color": "#E5ECF6",
              "width": 0.5
             },
             "pattern": {
              "fillmode": "overlay",
              "size": 10,
              "solidity": 0.2
             }
            },
            "type": "barpolar"
           }
          ],
          "carpet": [
           {
            "aaxis": {
             "endlinecolor": "#2a3f5f",
             "gridcolor": "white",
             "linecolor": "white",
             "minorgridcolor": "white",
             "startlinecolor": "#2a3f5f"
            },
            "baxis": {
             "endlinecolor": "#2a3f5f",
             "gridcolor": "white",
             "linecolor": "white",
             "minorgridcolor": "white",
             "startlinecolor": "#2a3f5f"
            },
            "type": "carpet"
           }
          ],
          "choropleth": [
           {
            "colorbar": {
             "outlinewidth": 0,
             "ticks": ""
            },
            "type": "choropleth"
           }
          ],
          "contour": [
           {
            "colorbar": {
             "outlinewidth": 0,
             "ticks": ""
            },
            "colorscale": [
             [
              0,
              "#0d0887"
             ],
             [
              0.1111111111111111,
              "#46039f"
             ],
             [
              0.2222222222222222,
              "#7201a8"
             ],
             [
              0.3333333333333333,
              "#9c179e"
             ],
             [
              0.4444444444444444,
              "#bd3786"
             ],
             [
              0.5555555555555556,
              "#d8576b"
             ],
             [
              0.6666666666666666,
              "#ed7953"
             ],
             [
              0.7777777777777778,
              "#fb9f3a"
             ],
             [
              0.8888888888888888,
              "#fdca26"
             ],
             [
              1,
              "#f0f921"
             ]
            ],
            "type": "contour"
           }
          ],
          "contourcarpet": [
           {
            "colorbar": {
             "outlinewidth": 0,
             "ticks": ""
            },
            "type": "contourcarpet"
           }
          ],
          "heatmap": [
           {
            "colorbar": {
             "outlinewidth": 0,
             "ticks": ""
            },
            "colorscale": [
             [
              0,
              "#0d0887"
             ],
             [
              0.1111111111111111,
              "#46039f"
             ],
             [
              0.2222222222222222,
              "#7201a8"
             ],
             [
              0.3333333333333333,
              "#9c179e"
             ],
             [
              0.4444444444444444,
              "#bd3786"
             ],
             [
              0.5555555555555556,
              "#d8576b"
             ],
             [
              0.6666666666666666,
              "#ed7953"
             ],
             [
              0.7777777777777778,
              "#fb9f3a"
             ],
             [
              0.8888888888888888,
              "#fdca26"
             ],
             [
              1,
              "#f0f921"
             ]
            ],
            "type": "heatmap"
           }
          ],
          "heatmapgl": [
           {
            "colorbar": {
             "outlinewidth": 0,
             "ticks": ""
            },
            "colorscale": [
             [
              0,
              "#0d0887"
             ],
             [
              0.1111111111111111,
              "#46039f"
             ],
             [
              0.2222222222222222,
              "#7201a8"
             ],
             [
              0.3333333333333333,
              "#9c179e"
             ],
             [
              0.4444444444444444,
              "#bd3786"
             ],
             [
              0.5555555555555556,
              "#d8576b"
             ],
             [
              0.6666666666666666,
              "#ed7953"
             ],
             [
              0.7777777777777778,
              "#fb9f3a"
             ],
             [
              0.8888888888888888,
              "#fdca26"
             ],
             [
              1,
              "#f0f921"
             ]
            ],
            "type": "heatmapgl"
           }
          ],
          "histogram": [
           {
            "marker": {
             "pattern": {
              "fillmode": "overlay",
              "size": 10,
              "solidity": 0.2
             }
            },
            "type": "histogram"
           }
          ],
          "histogram2d": [
           {
            "colorbar": {
             "outlinewidth": 0,
             "ticks": ""
            },
            "colorscale": [
             [
              0,
              "#0d0887"
             ],
             [
              0.1111111111111111,
              "#46039f"
             ],
             [
              0.2222222222222222,
              "#7201a8"
             ],
             [
              0.3333333333333333,
              "#9c179e"
             ],
             [
              0.4444444444444444,
              "#bd3786"
             ],
             [
              0.5555555555555556,
              "#d8576b"
             ],
             [
              0.6666666666666666,
              "#ed7953"
             ],
             [
              0.7777777777777778,
              "#fb9f3a"
             ],
             [
              0.8888888888888888,
              "#fdca26"
             ],
             [
              1,
              "#f0f921"
             ]
            ],
            "type": "histogram2d"
           }
          ],
          "histogram2dcontour": [
           {
            "colorbar": {
             "outlinewidth": 0,
             "ticks": ""
            },
            "colorscale": [
             [
              0,
              "#0d0887"
             ],
             [
              0.1111111111111111,
              "#46039f"
             ],
             [
              0.2222222222222222,
              "#7201a8"
             ],
             [
              0.3333333333333333,
              "#9c179e"
             ],
             [
              0.4444444444444444,
              "#bd3786"
             ],
             [
              0.5555555555555556,
              "#d8576b"
             ],
             [
              0.6666666666666666,
              "#ed7953"
             ],
             [
              0.7777777777777778,
              "#fb9f3a"
             ],
             [
              0.8888888888888888,
              "#fdca26"
             ],
             [
              1,
              "#f0f921"
             ]
            ],
            "type": "histogram2dcontour"
           }
          ],
          "mesh3d": [
           {
            "colorbar": {
             "outlinewidth": 0,
             "ticks": ""
            },
            "type": "mesh3d"
           }
          ],
          "parcoords": [
           {
            "line": {
             "colorbar": {
              "outlinewidth": 0,
              "ticks": ""
             }
            },
            "type": "parcoords"
           }
          ],
          "pie": [
           {
            "automargin": true,
            "type": "pie"
           }
          ],
          "scatter": [
           {
            "fillpattern": {
             "fillmode": "overlay",
             "size": 10,
             "solidity": 0.2
            },
            "type": "scatter"
           }
          ],
          "scatter3d": [
           {
            "line": {
             "colorbar": {
              "outlinewidth": 0,
              "ticks": ""
             }
            },
            "marker": {
             "colorbar": {
              "outlinewidth": 0,
              "ticks": ""
             }
            },
            "type": "scatter3d"
           }
          ],
          "scattercarpet": [
           {
            "marker": {
             "colorbar": {
              "outlinewidth": 0,
              "ticks": ""
             }
            },
            "type": "scattercarpet"
           }
          ],
          "scattergeo": [
           {
            "marker": {
             "colorbar": {
              "outlinewidth": 0,
              "ticks": ""
             }
            },
            "type": "scattergeo"
           }
          ],
          "scattergl": [
           {
            "marker": {
             "colorbar": {
              "outlinewidth": 0,
              "ticks": ""
             }
            },
            "type": "scattergl"
           }
          ],
          "scattermapbox": [
           {
            "marker": {
             "colorbar": {
              "outlinewidth": 0,
              "ticks": ""
             }
            },
            "type": "scattermapbox"
           }
          ],
          "scatterpolar": [
           {
            "marker": {
             "colorbar": {
              "outlinewidth": 0,
              "ticks": ""
             }
            },
            "type": "scatterpolar"
           }
          ],
          "scatterpolargl": [
           {
            "marker": {
             "colorbar": {
              "outlinewidth": 0,
              "ticks": ""
             }
            },
            "type": "scatterpolargl"
           }
          ],
          "scatterternary": [
           {
            "marker": {
             "colorbar": {
              "outlinewidth": 0,
              "ticks": ""
             }
            },
            "type": "scatterternary"
           }
          ],
          "surface": [
           {
            "colorbar": {
             "outlinewidth": 0,
             "ticks": ""
            },
            "colorscale": [
             [
              0,
              "#0d0887"
             ],
             [
              0.1111111111111111,
              "#46039f"
             ],
             [
              0.2222222222222222,
              "#7201a8"
             ],
             [
              0.3333333333333333,
              "#9c179e"
             ],
             [
              0.4444444444444444,
              "#bd3786"
             ],
             [
              0.5555555555555556,
              "#d8576b"
             ],
             [
              0.6666666666666666,
              "#ed7953"
             ],
             [
              0.7777777777777778,
              "#fb9f3a"
             ],
             [
              0.8888888888888888,
              "#fdca26"
             ],
             [
              1,
              "#f0f921"
             ]
            ],
            "type": "surface"
           }
          ],
          "table": [
           {
            "cells": {
             "fill": {
              "color": "#EBF0F8"
             },
             "line": {
              "color": "white"
             }
            },
            "header": {
             "fill": {
              "color": "#C8D4E3"
             },
             "line": {
              "color": "white"
             }
            },
            "type": "table"
           }
          ]
         },
         "layout": {
          "annotationdefaults": {
           "arrowcolor": "#2a3f5f",
           "arrowhead": 0,
           "arrowwidth": 1
          },
          "autotypenumbers": "strict",
          "coloraxis": {
           "colorbar": {
            "outlinewidth": 0,
            "ticks": ""
           }
          },
          "colorscale": {
           "diverging": [
            [
             0,
             "#8e0152"
            ],
            [
             0.1,
             "#c51b7d"
            ],
            [
             0.2,
             "#de77ae"
            ],
            [
             0.3,
             "#f1b6da"
            ],
            [
             0.4,
             "#fde0ef"
            ],
            [
             0.5,
             "#f7f7f7"
            ],
            [
             0.6,
             "#e6f5d0"
            ],
            [
             0.7,
             "#b8e186"
            ],
            [
             0.8,
             "#7fbc41"
            ],
            [
             0.9,
             "#4d9221"
            ],
            [
             1,
             "#276419"
            ]
           ],
           "sequential": [
            [
             0,
             "#0d0887"
            ],
            [
             0.1111111111111111,
             "#46039f"
            ],
            [
             0.2222222222222222,
             "#7201a8"
            ],
            [
             0.3333333333333333,
             "#9c179e"
            ],
            [
             0.4444444444444444,
             "#bd3786"
            ],
            [
             0.5555555555555556,
             "#d8576b"
            ],
            [
             0.6666666666666666,
             "#ed7953"
            ],
            [
             0.7777777777777778,
             "#fb9f3a"
            ],
            [
             0.8888888888888888,
             "#fdca26"
            ],
            [
             1,
             "#f0f921"
            ]
           ],
           "sequentialminus": [
            [
             0,
             "#0d0887"
            ],
            [
             0.1111111111111111,
             "#46039f"
            ],
            [
             0.2222222222222222,
             "#7201a8"
            ],
            [
             0.3333333333333333,
             "#9c179e"
            ],
            [
             0.4444444444444444,
             "#bd3786"
            ],
            [
             0.5555555555555556,
             "#d8576b"
            ],
            [
             0.6666666666666666,
             "#ed7953"
            ],
            [
             0.7777777777777778,
             "#fb9f3a"
            ],
            [
             0.8888888888888888,
             "#fdca26"
            ],
            [
             1,
             "#f0f921"
            ]
           ]
          },
          "colorway": [
           "#636efa",
           "#EF553B",
           "#00cc96",
           "#ab63fa",
           "#FFA15A",
           "#19d3f3",
           "#FF6692",
           "#B6E880",
           "#FF97FF",
           "#FECB52"
          ],
          "font": {
           "color": "#2a3f5f"
          },
          "geo": {
           "bgcolor": "white",
           "lakecolor": "white",
           "landcolor": "#E5ECF6",
           "showlakes": true,
           "showland": true,
           "subunitcolor": "white"
          },
          "hoverlabel": {
           "align": "left"
          },
          "hovermode": "closest",
          "mapbox": {
           "style": "light"
          },
          "paper_bgcolor": "white",
          "plot_bgcolor": "#E5ECF6",
          "polar": {
           "angularaxis": {
            "gridcolor": "white",
            "linecolor": "white",
            "ticks": ""
           },
           "bgcolor": "#E5ECF6",
           "radialaxis": {
            "gridcolor": "white",
            "linecolor": "white",
            "ticks": ""
           }
          },
          "scene": {
           "xaxis": {
            "backgroundcolor": "#E5ECF6",
            "gridcolor": "white",
            "gridwidth": 2,
            "linecolor": "white",
            "showbackground": true,
            "ticks": "",
            "zerolinecolor": "white"
           },
           "yaxis": {
            "backgroundcolor": "#E5ECF6",
            "gridcolor": "white",
            "gridwidth": 2,
            "linecolor": "white",
            "showbackground": true,
            "ticks": "",
            "zerolinecolor": "white"
           },
           "zaxis": {
            "backgroundcolor": "#E5ECF6",
            "gridcolor": "white",
            "gridwidth": 2,
            "linecolor": "white",
            "showbackground": true,
            "ticks": "",
            "zerolinecolor": "white"
           }
          },
          "shapedefaults": {
           "line": {
            "color": "#2a3f5f"
           }
          },
          "ternary": {
           "aaxis": {
            "gridcolor": "white",
            "linecolor": "white",
            "ticks": ""
           },
           "baxis": {
            "gridcolor": "white",
            "linecolor": "white",
            "ticks": ""
           },
           "bgcolor": "#E5ECF6",
           "caxis": {
            "gridcolor": "white",
            "linecolor": "white",
            "ticks": ""
           }
          },
          "title": {
           "x": 0.05
          },
          "xaxis": {
           "automargin": true,
           "gridcolor": "white",
           "linecolor": "white",
           "ticks": "",
           "title": {
            "standoff": 15
           },
           "zerolinecolor": "white",
           "zerolinewidth": 2
          },
          "yaxis": {
           "automargin": true,
           "gridcolor": "white",
           "linecolor": "white",
           "ticks": "",
           "title": {
            "standoff": 15
           },
           "zerolinecolor": "white",
           "zerolinewidth": 2
          }
         }
        },
        "title": {
         "text": "Double Y Axis Example"
        },
        "xaxis": {
         "anchor": "y",
         "domain": [
          0,
          0.94
         ],
         "title": {
          "text": "xaxis title"
         }
        },
        "yaxis": {
         "anchor": "x",
         "domain": [
          0,
          1
         ],
         "title": {
          "text": "<b>primary</b> yaxis title"
         }
        },
        "yaxis2": {
         "anchor": "x",
         "overlaying": "y",
         "side": "right",
         "title": {
          "text": "<b>secondary</b> yaxis title"
         }
        }
       }
      }
     },
     "metadata": {},
     "output_type": "display_data"
    }
   ],
   "source": [
    "def avg_num_line(df):\n",
    "    df_num = flights_by_day(df).toPandas()\n",
    "    df_avg = avg_delay_by_day(df).toPandas()\n",
    "\n",
    "    # plot the two lines in the same figure, use to different y axes\n",
    "    fig = make_subplots(specs=[[{\"secondary_y\": True}]])\n",
    "\n",
    "    # Add traces\n",
    "    fig.add_trace(\n",
    "        go.Scatter(x=df_num[\"FlightDate\"] , y=df_num[\"count\"], name=\"num flights\"),\n",
    "        secondary_y=False,\n",
    "    )\n",
    "\n",
    "    fig.add_trace(\n",
    "        go.Scatter(x=df_avg[\"FlightDate\"], y=df_avg[\"AverageArrivalDelay\"], name=\"avg delay\"),\n",
    "        secondary_y=True,\n",
    "    )\n",
    "\n",
    "    # Add figure title\n",
    "    fig.update_layout(\n",
    "        title_text=\"Double Y Axis Example\"\n",
    "    )\n",
    "\n",
    "    # Set x-axis title\n",
    "    fig.update_xaxes(title_text=\"xaxis title\")\n",
    "\n",
    "    # Set y-axes titles\n",
    "    fig.update_yaxes(title_text=\"<b>primary</b> yaxis title\", secondary_y=False)\n",
    "    fig.update_yaxes(title_text=\"<b>secondary</b> yaxis title\", secondary_y=True)\n",
    "\n",
    "\n",
    "    return fig\n",
    "\n",
    "\n",
    "avg_num_line(df)\n",
    "    "
   ]
  },
  {
   "cell_type": "code",
   "execution_count": 7,
   "metadata": {},
   "outputs": [
    {
     "name": "stderr",
     "output_type": "stream",
     "text": [
      "/opt/homebrew/lib/python3.10/site-packages/pyspark/sql/pandas/conversion.py:248: FutureWarning:\n",
      "\n",
      "Passing unit-less datetime64 dtype to .astype is deprecated and will raise in a future version. Pass 'datetime64[ns]' instead\n",
      "\n"
     ]
    }
   ],
   "source": [
    "# get all distinct FlightDate\n",
    "df_dates = df.select(\"FlightDate\").distinct().orderBy(\"FlightDate\", ascending=True)\n",
    "df_dates = df_dates.toPandas()"
   ]
  },
  {
   "cell_type": "code",
   "execution_count": 70,
   "metadata": {},
   "outputs": [
    {
     "name": "stderr",
     "output_type": "stream",
     "text": [
      "/opt/homebrew/lib/python3.10/site-packages/pyspark/sql/pandas/conversion.py:248: FutureWarning:\n",
      "\n",
      "Passing unit-less datetime64 dtype to .astype is deprecated and will raise in a future version. Pass 'datetime64[ns]' instead\n",
      "\n"
     ]
    },
    {
     "data": {
      "application/vnd.plotly.v1+json": {
       "config": {
        "plotlyServerURL": "https://plot.ly"
       },
       "data": [
        {
         "lat": [
          35.04022222,
          29.64541861
         ],
         "line": {
          "color": "blue",
          "width": 1
         },
         "locationmode": "USA-states",
         "lon": [
          -106.6091944,
          -95.27888889
         ],
         "mode": "lines",
         "type": "scattergeo"
        },
        {
         "lat": [
          35.04022222,
          32.89595056
         ],
         "line": {
          "color": "blue",
          "width": 1
         },
         "locationmode": "USA-states",
         "lon": [
          -106.6091944,
          -97.0372
         ],
         "mode": "lines",
         "type": "scattergeo"
        },
        {
         "lat": [
          35.04022222,
          36.08036111
         ],
         "line": {
          "color": "blue",
          "width": 1
         },
         "locationmode": "USA-states",
         "lon": [
          -106.6091944,
          -115.1523333
         ],
         "mode": "lines",
         "type": "scattergeo"
        },
        {
         "lat": [
          35.04022222,
          33.43416667
         ],
         "line": {
          "color": "blue",
          "width": 1
         },
         "locationmode": "USA-states",
         "lon": [
          -106.6091944,
          -112.0080556
         ],
         "mode": "lines",
         "type": "scattergeo"
        },
        {
         "lat": [
          35.04022222,
          29.98047222
         ],
         "line": {
          "color": "blue",
          "width": 1
         },
         "locationmode": "USA-states",
         "lon": [
          -106.6091944,
          -95.33972222
         ],
         "mode": "lines",
         "type": "scattergeo"
        },
        {
         "lat": [
          35.04022222,
          32.84711389
         ],
         "line": {
          "color": "blue",
          "width": 1
         },
         "locationmode": "USA-states",
         "lon": [
          -106.6091944,
          -96.85177222
         ],
         "mode": "lines",
         "type": "scattergeo"
        },
        {
         "lat": [
          35.04022222,
          37.72129083
         ],
         "line": {
          "color": "blue",
          "width": 1
         },
         "locationmode": "USA-states",
         "lon": [
          -106.6091944,
          -122.2207167
         ],
         "mode": "lines",
         "type": "scattergeo"
        },
        {
         "lat": [
          35.04022222,
          33.94253611
         ],
         "line": {
          "color": "blue",
          "width": 1
         },
         "locationmode": "USA-states",
         "lon": [
          -106.6091944,
          -118.4080744
         ],
         "mode": "lines",
         "type": "scattergeo"
        },
        {
         "lat": [
          35.04022222,
          39.29760528
         ],
         "line": {
          "color": "blue",
          "width": 1
         },
         "locationmode": "USA-states",
         "lon": [
          -106.6091944,
          -94.71390556
         ],
         "mode": "lines",
         "type": "scattergeo"
        },
        {
         "lat": [
          35.04022222,
          32.73355611
         ],
         "line": {
          "color": "blue",
          "width": 1
         },
         "locationmode": "USA-states",
         "lon": [
          -106.6091944,
          -117.1896567
         ],
         "mode": "lines",
         "type": "scattergeo"
        },
        {
         "lat": [
          35.04022222,
          39.17540167
         ],
         "line": {
          "color": "blue",
          "width": 1
         },
         "locationmode": "USA-states",
         "lon": [
          -106.6091944,
          -76.66819833
         ],
         "mode": "lines",
         "type": "scattergeo"
        },
        {
         "lat": [
          35.04022222,
          39.85840806
         ],
         "line": {
          "color": "blue",
          "width": 1
         },
         "locationmode": "USA-states",
         "lon": [
          -106.6091944,
          -104.6670019
         ],
         "mode": "lines",
         "type": "scattergeo"
        },
        {
         "lat": [
          35.04022222,
          40.78838778
         ],
         "line": {
          "color": "blue",
          "width": 1
         },
         "locationmode": "USA-states",
         "lon": [
          -106.6091944,
          -111.9777731
         ],
         "mode": "lines",
         "type": "scattergeo"
        },
        {
         "lat": [
          35.04022222,
          41.7859825
         ],
         "line": {
          "color": "blue",
          "width": 1
         },
         "locationmode": "USA-states",
         "lon": [
          -106.6091944,
          -87.75242444
         ],
         "mode": "lines",
         "type": "scattergeo"
        },
        {
         "lat": [
          35.04022222,
          33.64044444
         ],
         "line": {
          "color": "blue",
          "width": 1
         },
         "locationmode": "USA-states",
         "lon": [
          -106.6091944,
          -84.42694444
         ],
         "mode": "lines",
         "type": "scattergeo"
        },
        {
         "lat": [
          35.04022222,
          41.979595
         ],
         "line": {
          "color": "blue",
          "width": 1
         },
         "locationmode": "USA-states",
         "lon": [
          -106.6091944,
          -87.90446417
         ],
         "mode": "lines",
         "type": "scattergeo"
        },
        {
         "lat": [
          35.04022222,
          32.11608333
         ],
         "line": {
          "color": "blue",
          "width": 1
         },
         "locationmode": "USA-states",
         "lon": [
          -106.6091944,
          -110.9410278
         ],
         "mode": "lines",
         "type": "scattergeo"
        },
        {
         "lat": [
          35.04022222,
          47.44898194
         ],
         "line": {
          "color": "blue",
          "width": 1
         },
         "locationmode": "USA-states",
         "lon": [
          -106.6091944,
          -122.3093131
         ],
         "mode": "lines",
         "type": "scattergeo"
        },
        {
         "lat": [
          35.04022222,
          37.61900194
         ],
         "line": {
          "color": "blue",
          "width": 1
         },
         "locationmode": "USA-states",
         "lon": [
          -106.6091944,
          -122.3748433
         ],
         "mode": "lines",
         "type": "scattergeo"
        },
        {
         "lat": [
          35.04022222,
          38.94453194
         ],
         "line": {
          "color": "blue",
          "width": 1
         },
         "locationmode": "USA-states",
         "lon": [
          -106.6091944,
          -77.45580972
         ],
         "mode": "lines",
         "type": "scattergeo"
        },
        {
         "lat": [
          35.04022222,
          36.08036111
         ],
         "line": {
          "color": "blue",
          "width": 1
         },
         "locationmode": "USA-states",
         "lon": [
          -106.6091944,
          -115.1523333
         ],
         "mode": "lines",
         "type": "scattergeo"
        },
        {
         "lat": [
          35.04022222,
          41.7859825
         ],
         "line": {
          "color": "blue",
          "width": 1
         },
         "locationmode": "USA-states",
         "lon": [
          -106.6091944,
          -87.75242444
         ],
         "mode": "lines",
         "type": "scattergeo"
        },
        {
         "lat": [
          35.04022222,
          47.44898194
         ],
         "line": {
          "color": "blue",
          "width": 1
         },
         "locationmode": "USA-states",
         "lon": [
          -106.6091944,
          -122.3093131
         ],
         "mode": "lines",
         "type": "scattergeo"
        },
        {
         "lat": [
          35.04022222,
          41.979595
         ],
         "line": {
          "color": "blue",
          "width": 1
         },
         "locationmode": "USA-states",
         "lon": [
          -106.6091944,
          -87.90446417
         ],
         "mode": "lines",
         "type": "scattergeo"
        },
        {
         "lat": [
          35.04022222,
          39.17540167
         ],
         "line": {
          "color": "blue",
          "width": 1
         },
         "locationmode": "USA-states",
         "lon": [
          -106.6091944,
          -76.66819833
         ],
         "mode": "lines",
         "type": "scattergeo"
        },
        {
         "lat": [
          35.04022222,
          39.85840806
         ],
         "line": {
          "color": "blue",
          "width": 1
         },
         "locationmode": "USA-states",
         "lon": [
          -106.6091944,
          -104.6670019
         ],
         "mode": "lines",
         "type": "scattergeo"
        },
        {
         "lat": [
          35.04022222,
          33.43416667
         ],
         "line": {
          "color": "blue",
          "width": 1
         },
         "locationmode": "USA-states",
         "lon": [
          -106.6091944,
          -112.0080556
         ],
         "mode": "lines",
         "type": "scattergeo"
        },
        {
         "lat": [
          35.04022222,
          40.78838778
         ],
         "line": {
          "color": "blue",
          "width": 1
         },
         "locationmode": "USA-states",
         "lon": [
          -106.6091944,
          -111.9777731
         ],
         "mode": "lines",
         "type": "scattergeo"
        },
        {
         "lat": [
          35.04022222,
          29.64541861
         ],
         "line": {
          "color": "blue",
          "width": 1
         },
         "locationmode": "USA-states",
         "lon": [
          -106.6091944,
          -95.27888889
         ],
         "mode": "lines",
         "type": "scattergeo"
        },
        {
         "lat": [
          35.04022222,
          33.64044444
         ],
         "line": {
          "color": "blue",
          "width": 1
         },
         "locationmode": "USA-states",
         "lon": [
          -106.6091944,
          -84.42694444
         ],
         "mode": "lines",
         "type": "scattergeo"
        },
        {
         "lat": [
          35.04022222,
          32.11608333
         ],
         "line": {
          "color": "blue",
          "width": 1
         },
         "locationmode": "USA-states",
         "lon": [
          -106.6091944,
          -110.9410278
         ],
         "mode": "lines",
         "type": "scattergeo"
        },
        {
         "lat": [
          35.04022222,
          37.72129083
         ],
         "line": {
          "color": "blue",
          "width": 1
         },
         "locationmode": "USA-states",
         "lon": [
          -106.6091944,
          -122.2207167
         ],
         "mode": "lines",
         "type": "scattergeo"
        },
        {
         "lat": [
          35.04022222,
          29.98047222
         ],
         "line": {
          "color": "blue",
          "width": 1
         },
         "locationmode": "USA-states",
         "lon": [
          -106.6091944,
          -95.33972222
         ],
         "mode": "lines",
         "type": "scattergeo"
        },
        {
         "lat": [
          35.04022222,
          32.73355611
         ],
         "line": {
          "color": "blue",
          "width": 1
         },
         "locationmode": "USA-states",
         "lon": [
          -106.6091944,
          -117.1896567
         ],
         "mode": "lines",
         "type": "scattergeo"
        },
        {
         "lat": [
          35.04022222,
          33.94253611
         ],
         "line": {
          "color": "blue",
          "width": 1
         },
         "locationmode": "USA-states",
         "lon": [
          -106.6091944,
          -118.4080744
         ],
         "mode": "lines",
         "type": "scattergeo"
        },
        {
         "lat": [
          35.04022222,
          32.89595056
         ],
         "line": {
          "color": "blue",
          "width": 1
         },
         "locationmode": "USA-states",
         "lon": [
          -106.6091944,
          -97.0372
         ],
         "mode": "lines",
         "type": "scattergeo"
        },
        {
         "lat": [
          35.04022222,
          32.84711389
         ],
         "line": {
          "color": "blue",
          "width": 1
         },
         "locationmode": "USA-states",
         "lon": [
          -106.6091944,
          -96.85177222
         ],
         "mode": "lines",
         "type": "scattergeo"
        },
        {
         "lat": [
          35.04022222,
          37.61900194
         ],
         "line": {
          "color": "blue",
          "width": 1
         },
         "locationmode": "USA-states",
         "lon": [
          -106.6091944,
          -122.3748433
         ],
         "mode": "lines",
         "type": "scattergeo"
        },
        {
         "lat": [
          35.04022222,
          38.94453194
         ],
         "line": {
          "color": "blue",
          "width": 1
         },
         "locationmode": "USA-states",
         "lon": [
          -106.6091944,
          -77.45580972
         ],
         "mode": "lines",
         "type": "scattergeo"
        },
        {
         "lat": [
          35.04022222,
          33.94253611
         ],
         "line": {
          "color": "blue",
          "width": 1
         },
         "locationmode": "USA-states",
         "lon": [
          -106.6091944,
          -118.4080744
         ],
         "mode": "lines",
         "type": "scattergeo"
        },
        {
         "lat": [
          35.04022222,
          39.85840806
         ],
         "line": {
          "color": "blue",
          "width": 1
         },
         "locationmode": "USA-states",
         "lon": [
          -106.6091944,
          -104.6670019
         ],
         "mode": "lines",
         "type": "scattergeo"
        },
        {
         "lat": [
          35.04022222,
          29.98047222
         ],
         "line": {
          "color": "blue",
          "width": 1
         },
         "locationmode": "USA-states",
         "lon": [
          -106.6091944,
          -95.33972222
         ],
         "mode": "lines",
         "type": "scattergeo"
        },
        {
         "lat": [
          35.04022222,
          40.78838778
         ],
         "line": {
          "color": "blue",
          "width": 1
         },
         "locationmode": "USA-states",
         "lon": [
          -106.6091944,
          -111.9777731
         ],
         "mode": "lines",
         "type": "scattergeo"
        },
        {
         "lat": [
          35.04022222,
          36.08036111
         ],
         "line": {
          "color": "blue",
          "width": 1
         },
         "locationmode": "USA-states",
         "lon": [
          -106.6091944,
          -115.1523333
         ],
         "mode": "lines",
         "type": "scattergeo"
        },
        {
         "lat": [
          35.04022222,
          32.11608333
         ],
         "line": {
          "color": "blue",
          "width": 1
         },
         "locationmode": "USA-states",
         "lon": [
          -106.6091944,
          -110.9410278
         ],
         "mode": "lines",
         "type": "scattergeo"
        },
        {
         "lat": [
          35.04022222,
          41.7859825
         ],
         "line": {
          "color": "blue",
          "width": 1
         },
         "locationmode": "USA-states",
         "lon": [
          -106.6091944,
          -87.75242444
         ],
         "mode": "lines",
         "type": "scattergeo"
        },
        {
         "lat": [
          35.04022222,
          33.64044444
         ],
         "line": {
          "color": "blue",
          "width": 1
         },
         "locationmode": "USA-states",
         "lon": [
          -106.6091944,
          -84.42694444
         ],
         "mode": "lines",
         "type": "scattergeo"
        },
        {
         "lat": [
          35.04022222,
          32.89595056
         ],
         "line": {
          "color": "blue",
          "width": 1
         },
         "locationmode": "USA-states",
         "lon": [
          -106.6091944,
          -97.0372
         ],
         "mode": "lines",
         "type": "scattergeo"
        },
        {
         "lat": [
          35.04022222,
          47.44898194
         ],
         "line": {
          "color": "blue",
          "width": 1
         },
         "locationmode": "USA-states",
         "lon": [
          -106.6091944,
          -122.3093131
         ],
         "mode": "lines",
         "type": "scattergeo"
        },
        {
         "lat": [
          35.04022222,
          33.43416667
         ],
         "line": {
          "color": "blue",
          "width": 1
         },
         "locationmode": "USA-states",
         "lon": [
          -106.6091944,
          -112.0080556
         ],
         "mode": "lines",
         "type": "scattergeo"
        },
        {
         "lat": [
          35.04022222,
          39.17540167
         ],
         "line": {
          "color": "blue",
          "width": 1
         },
         "locationmode": "USA-states",
         "lon": [
          -106.6091944,
          -76.66819833
         ],
         "mode": "lines",
         "type": "scattergeo"
        },
        {
         "lat": [
          35.04022222,
          41.979595
         ],
         "line": {
          "color": "blue",
          "width": 1
         },
         "locationmode": "USA-states",
         "lon": [
          -106.6091944,
          -87.90446417
         ],
         "mode": "lines",
         "type": "scattergeo"
        },
        {
         "lat": [
          35.04022222,
          39.29760528
         ],
         "line": {
          "color": "blue",
          "width": 1
         },
         "locationmode": "USA-states",
         "lon": [
          -106.6091944,
          -94.71390556
         ],
         "mode": "lines",
         "type": "scattergeo"
        },
        {
         "lat": [
          35.04022222,
          32.73355611
         ],
         "line": {
          "color": "blue",
          "width": 1
         },
         "locationmode": "USA-states",
         "lon": [
          -106.6091944,
          -117.1896567
         ],
         "mode": "lines",
         "type": "scattergeo"
        },
        {
         "lat": [
          35.04022222,
          29.64541861
         ],
         "line": {
          "color": "blue",
          "width": 1
         },
         "locationmode": "USA-states",
         "lon": [
          -106.6091944,
          -95.27888889
         ],
         "mode": "lines",
         "type": "scattergeo"
        },
        {
         "lat": [
          35.04022222,
          37.72129083
         ],
         "line": {
          "color": "blue",
          "width": 1
         },
         "locationmode": "USA-states",
         "lon": [
          -106.6091944,
          -122.2207167
         ],
         "mode": "lines",
         "type": "scattergeo"
        },
        {
         "lat": [
          35.04022222,
          32.84711389
         ],
         "line": {
          "color": "blue",
          "width": 1
         },
         "locationmode": "USA-states",
         "lon": [
          -106.6091944,
          -96.85177222
         ],
         "mode": "lines",
         "type": "scattergeo"
        },
        {
         "lat": [
          35.04022222,
          38.94453194
         ],
         "line": {
          "color": "blue",
          "width": 1
         },
         "locationmode": "USA-states",
         "lon": [
          -106.6091944,
          -77.45580972
         ],
         "mode": "lines",
         "type": "scattergeo"
        },
        {
         "lat": [
          35.04022222,
          37.61900194
         ],
         "line": {
          "color": "blue",
          "width": 1
         },
         "locationmode": "USA-states",
         "lon": [
          -106.6091944,
          -122.3748433
         ],
         "mode": "lines",
         "type": "scattergeo"
        },
        {
         "lat": [
          35.04022222,
          39.29760528
         ],
         "line": {
          "color": "blue",
          "width": 1
         },
         "locationmode": "USA-states",
         "lon": [
          -106.6091944,
          -94.71390556
         ],
         "mode": "lines",
         "type": "scattergeo"
        },
        {
         "lat": [
          35.04022222,
          32.73355611
         ],
         "line": {
          "color": "blue",
          "width": 1
         },
         "locationmode": "USA-states",
         "lon": [
          -106.6091944,
          -117.1896567
         ],
         "mode": "lines",
         "type": "scattergeo"
        },
        {
         "lat": [
          35.04022222,
          32.84711389
         ],
         "line": {
          "color": "blue",
          "width": 1
         },
         "locationmode": "USA-states",
         "lon": [
          -106.6091944,
          -96.85177222
         ],
         "mode": "lines",
         "type": "scattergeo"
        },
        {
         "lat": [
          35.04022222,
          29.98047222
         ],
         "line": {
          "color": "blue",
          "width": 1
         },
         "locationmode": "USA-states",
         "lon": [
          -106.6091944,
          -95.33972222
         ],
         "mode": "lines",
         "type": "scattergeo"
        },
        {
         "lat": [
          35.04022222,
          39.85840806
         ],
         "line": {
          "color": "blue",
          "width": 1
         },
         "locationmode": "USA-states",
         "lon": [
          -106.6091944,
          -104.6670019
         ],
         "mode": "lines",
         "type": "scattergeo"
        },
        {
         "lat": [
          35.04022222,
          32.89595056
         ],
         "line": {
          "color": "blue",
          "width": 1
         },
         "locationmode": "USA-states",
         "lon": [
          -106.6091944,
          -97.0372
         ],
         "mode": "lines",
         "type": "scattergeo"
        },
        {
         "lat": [
          35.04022222,
          41.7859825
         ],
         "line": {
          "color": "blue",
          "width": 1
         },
         "locationmode": "USA-states",
         "lon": [
          -106.6091944,
          -87.75242444
         ],
         "mode": "lines",
         "type": "scattergeo"
        },
        {
         "lat": [
          35.04022222,
          33.94253611
         ],
         "line": {
          "color": "blue",
          "width": 1
         },
         "locationmode": "USA-states",
         "lon": [
          -106.6091944,
          -118.4080744
         ],
         "mode": "lines",
         "type": "scattergeo"
        },
        {
         "lat": [
          35.04022222,
          37.72129083
         ],
         "line": {
          "color": "blue",
          "width": 1
         },
         "locationmode": "USA-states",
         "lon": [
          -106.6091944,
          -122.2207167
         ],
         "mode": "lines",
         "type": "scattergeo"
        },
        {
         "lat": [
          35.04022222,
          32.11608333
         ],
         "line": {
          "color": "blue",
          "width": 1
         },
         "locationmode": "USA-states",
         "lon": [
          -106.6091944,
          -110.9410278
         ],
         "mode": "lines",
         "type": "scattergeo"
        },
        {
         "lat": [
          35.04022222,
          39.17540167
         ],
         "line": {
          "color": "blue",
          "width": 1
         },
         "locationmode": "USA-states",
         "lon": [
          -106.6091944,
          -76.66819833
         ],
         "mode": "lines",
         "type": "scattergeo"
        },
        {
         "lat": [
          35.04022222,
          41.979595
         ],
         "line": {
          "color": "blue",
          "width": 1
         },
         "locationmode": "USA-states",
         "lon": [
          -106.6091944,
          -87.90446417
         ],
         "mode": "lines",
         "type": "scattergeo"
        },
        {
         "lat": [
          35.04022222,
          33.64044444
         ],
         "line": {
          "color": "blue",
          "width": 1
         },
         "locationmode": "USA-states",
         "lon": [
          -106.6091944,
          -84.42694444
         ],
         "mode": "lines",
         "type": "scattergeo"
        },
        {
         "lat": [
          35.04022222,
          40.78838778
         ],
         "line": {
          "color": "blue",
          "width": 1
         },
         "locationmode": "USA-states",
         "lon": [
          -106.6091944,
          -111.9777731
         ],
         "mode": "lines",
         "type": "scattergeo"
        },
        {
         "lat": [
          35.04022222,
          33.43416667
         ],
         "line": {
          "color": "blue",
          "width": 1
         },
         "locationmode": "USA-states",
         "lon": [
          -106.6091944,
          -112.0080556
         ],
         "mode": "lines",
         "type": "scattergeo"
        },
        {
         "lat": [
          35.04022222,
          47.44898194
         ],
         "line": {
          "color": "blue",
          "width": 1
         },
         "locationmode": "USA-states",
         "lon": [
          -106.6091944,
          -122.3093131
         ],
         "mode": "lines",
         "type": "scattergeo"
        },
        {
         "lat": [
          35.04022222,
          29.64541861
         ],
         "line": {
          "color": "blue",
          "width": 1
         },
         "locationmode": "USA-states",
         "lon": [
          -106.6091944,
          -95.27888889
         ],
         "mode": "lines",
         "type": "scattergeo"
        },
        {
         "lat": [
          35.04022222,
          36.08036111
         ],
         "line": {
          "color": "blue",
          "width": 1
         },
         "locationmode": "USA-states",
         "lon": [
          -106.6091944,
          -115.1523333
         ],
         "mode": "lines",
         "type": "scattergeo"
        },
        {
         "lat": [
          35.04022222,
          38.94453194
         ],
         "line": {
          "color": "blue",
          "width": 1
         },
         "locationmode": "USA-states",
         "lon": [
          -106.6091944,
          -77.45580972
         ],
         "mode": "lines",
         "type": "scattergeo"
        },
        {
         "lat": [
          35.04022222,
          37.61900194
         ],
         "line": {
          "color": "blue",
          "width": 1
         },
         "locationmode": "USA-states",
         "lon": [
          -106.6091944,
          -122.3748433
         ],
         "mode": "lines",
         "type": "scattergeo"
        },
        {
         "lat": [
          35.04022222,
          32.11608333
         ],
         "line": {
          "color": "blue",
          "width": 1
         },
         "locationmode": "USA-states",
         "lon": [
          -106.6091944,
          -110.9410278
         ],
         "mode": "lines",
         "type": "scattergeo"
        },
        {
         "lat": [
          35.04022222,
          47.44898194
         ],
         "line": {
          "color": "blue",
          "width": 1
         },
         "locationmode": "USA-states",
         "lon": [
          -106.6091944,
          -122.3093131
         ],
         "mode": "lines",
         "type": "scattergeo"
        },
        {
         "lat": [
          35.04022222,
          39.85840806
         ],
         "line": {
          "color": "blue",
          "width": 1
         },
         "locationmode": "USA-states",
         "lon": [
          -106.6091944,
          -104.6670019
         ],
         "mode": "lines",
         "type": "scattergeo"
        },
        {
         "lat": [
          35.04022222,
          29.64541861
         ],
         "line": {
          "color": "blue",
          "width": 1
         },
         "locationmode": "USA-states",
         "lon": [
          -106.6091944,
          -95.27888889
         ],
         "mode": "lines",
         "type": "scattergeo"
        },
        {
         "lat": [
          35.04022222,
          39.29760528
         ],
         "line": {
          "color": "blue",
          "width": 1
         },
         "locationmode": "USA-states",
         "lon": [
          -106.6091944,
          -94.71390556
         ],
         "mode": "lines",
         "type": "scattergeo"
        },
        {
         "lat": [
          35.04022222,
          41.979595
         ],
         "line": {
          "color": "blue",
          "width": 1
         },
         "locationmode": "USA-states",
         "lon": [
          -106.6091944,
          -87.90446417
         ],
         "mode": "lines",
         "type": "scattergeo"
        },
        {
         "lat": [
          35.04022222,
          40.78838778
         ],
         "line": {
          "color": "blue",
          "width": 1
         },
         "locationmode": "USA-states",
         "lon": [
          -106.6091944,
          -111.9777731
         ],
         "mode": "lines",
         "type": "scattergeo"
        },
        {
         "lat": [
          35.04022222,
          37.72129083
         ],
         "line": {
          "color": "blue",
          "width": 1
         },
         "locationmode": "USA-states",
         "lon": [
          -106.6091944,
          -122.2207167
         ],
         "mode": "lines",
         "type": "scattergeo"
        },
        {
         "lat": [
          35.04022222,
          38.94453194
         ],
         "line": {
          "color": "blue",
          "width": 1
         },
         "locationmode": "USA-states",
         "lon": [
          -106.6091944,
          -77.45580972
         ],
         "mode": "lines",
         "type": "scattergeo"
        },
        {
         "lat": [
          35.04022222,
          36.08036111
         ],
         "line": {
          "color": "blue",
          "width": 1
         },
         "locationmode": "USA-states",
         "lon": [
          -106.6091944,
          -115.1523333
         ],
         "mode": "lines",
         "type": "scattergeo"
        },
        {
         "lat": [
          35.04022222,
          39.17540167
         ],
         "line": {
          "color": "blue",
          "width": 1
         },
         "locationmode": "USA-states",
         "lon": [
          -106.6091944,
          -76.66819833
         ],
         "mode": "lines",
         "type": "scattergeo"
        },
        {
         "lat": [
          35.04022222,
          41.7859825
         ],
         "line": {
          "color": "blue",
          "width": 1
         },
         "locationmode": "USA-states",
         "lon": [
          -106.6091944,
          -87.75242444
         ],
         "mode": "lines",
         "type": "scattergeo"
        },
        {
         "lat": [
          35.04022222,
          32.84711389
         ],
         "line": {
          "color": "blue",
          "width": 1
         },
         "locationmode": "USA-states",
         "lon": [
          -106.6091944,
          -96.85177222
         ],
         "mode": "lines",
         "type": "scattergeo"
        },
        {
         "lat": [
          35.04022222,
          33.64044444
         ],
         "line": {
          "color": "blue",
          "width": 1
         },
         "locationmode": "USA-states",
         "lon": [
          -106.6091944,
          -84.42694444
         ],
         "mode": "lines",
         "type": "scattergeo"
        },
        {
         "lat": [
          35.04022222,
          32.89595056
         ],
         "line": {
          "color": "blue",
          "width": 1
         },
         "locationmode": "USA-states",
         "lon": [
          -106.6091944,
          -97.0372
         ],
         "mode": "lines",
         "type": "scattergeo"
        },
        {
         "lat": [
          35.04022222,
          33.94253611
         ],
         "line": {
          "color": "blue",
          "width": 1
         },
         "locationmode": "USA-states",
         "lon": [
          -106.6091944,
          -118.4080744
         ],
         "mode": "lines",
         "type": "scattergeo"
        },
        {
         "lat": [
          35.04022222,
          33.43416667
         ],
         "line": {
          "color": "blue",
          "width": 1
         },
         "locationmode": "USA-states",
         "lon": [
          -106.6091944,
          -112.0080556
         ],
         "mode": "lines",
         "type": "scattergeo"
        },
        {
         "lat": [
          35.04022222,
          32.73355611
         ],
         "line": {
          "color": "blue",
          "width": 1
         },
         "locationmode": "USA-states",
         "lon": [
          -106.6091944,
          -117.1896567
         ],
         "mode": "lines",
         "type": "scattergeo"
        },
        {
         "lat": [
          35.04022222,
          37.61900194
         ],
         "line": {
          "color": "blue",
          "width": 1
         },
         "locationmode": "USA-states",
         "lon": [
          -106.6091944,
          -122.3748433
         ],
         "mode": "lines",
         "type": "scattergeo"
        },
        {
         "lat": [
          35.04022222,
          29.98047222
         ],
         "line": {
          "color": "blue",
          "width": 1
         },
         "locationmode": "USA-states",
         "lon": [
          -106.6091944,
          -95.33972222
         ],
         "mode": "lines",
         "type": "scattergeo"
        },
        {
         "lat": [
          35.04022222,
          36.08036111
         ],
         "line": {
          "color": "blue",
          "width": 1
         },
         "locationmode": "USA-states",
         "lon": [
          -106.6091944,
          -115.1523333
         ],
         "mode": "lines",
         "type": "scattergeo"
        },
        {
         "lat": [
          35.04022222,
          33.43416667
         ],
         "line": {
          "color": "blue",
          "width": 1
         },
         "locationmode": "USA-states",
         "lon": [
          -106.6091944,
          -112.0080556
         ],
         "mode": "lines",
         "type": "scattergeo"
        },
        {
         "lat": [
          35.04022222,
          41.7859825
         ],
         "line": {
          "color": "blue",
          "width": 1
         },
         "locationmode": "USA-states",
         "lon": [
          -106.6091944,
          -87.75242444
         ],
         "mode": "lines",
         "type": "scattergeo"
        },
        {
         "lat": [
          35.04022222,
          40.78838778
         ],
         "line": {
          "color": "blue",
          "width": 1
         },
         "locationmode": "USA-states",
         "lon": [
          -106.6091944,
          -111.9777731
         ],
         "mode": "lines",
         "type": "scattergeo"
        },
        {
         "lat": [
          35.04022222,
          32.11608333
         ],
         "line": {
          "color": "blue",
          "width": 1
         },
         "locationmode": "USA-states",
         "lon": [
          -106.6091944,
          -110.9410278
         ],
         "mode": "lines",
         "type": "scattergeo"
        },
        {
         "lat": [
          35.04022222,
          41.979595
         ],
         "line": {
          "color": "blue",
          "width": 1
         },
         "locationmode": "USA-states",
         "lon": [
          -106.6091944,
          -87.90446417
         ],
         "mode": "lines",
         "type": "scattergeo"
        },
        {
         "lat": [
          35.04022222,
          32.73355611
         ],
         "line": {
          "color": "blue",
          "width": 1
         },
         "locationmode": "USA-states",
         "lon": [
          -106.6091944,
          -117.1896567
         ],
         "mode": "lines",
         "type": "scattergeo"
        },
        {
         "lat": [
          35.04022222,
          38.94453194
         ],
         "line": {
          "color": "blue",
          "width": 1
         },
         "locationmode": "USA-states",
         "lon": [
          -106.6091944,
          -77.45580972
         ],
         "mode": "lines",
         "type": "scattergeo"
        },
        {
         "lat": [
          35.04022222,
          39.17540167
         ],
         "line": {
          "color": "blue",
          "width": 1
         },
         "locationmode": "USA-states",
         "lon": [
          -106.6091944,
          -76.66819833
         ],
         "mode": "lines",
         "type": "scattergeo"
        },
        {
         "lat": [
          35.04022222,
          33.94253611
         ],
         "line": {
          "color": "blue",
          "width": 1
         },
         "locationmode": "USA-states",
         "lon": [
          -106.6091944,
          -118.4080744
         ],
         "mode": "lines",
         "type": "scattergeo"
        },
        {
         "lat": [
          35.04022222,
          39.29760528
         ],
         "line": {
          "color": "blue",
          "width": 1
         },
         "locationmode": "USA-states",
         "lon": [
          -106.6091944,
          -94.71390556
         ],
         "mode": "lines",
         "type": "scattergeo"
        },
        {
         "lat": [
          35.04022222,
          39.85840806
         ],
         "line": {
          "color": "blue",
          "width": 1
         },
         "locationmode": "USA-states",
         "lon": [
          -106.6091944,
          -104.6670019
         ],
         "mode": "lines",
         "type": "scattergeo"
        },
        {
         "lat": [
          35.04022222,
          33.64044444
         ],
         "line": {
          "color": "blue",
          "width": 1
         },
         "locationmode": "USA-states",
         "lon": [
          -106.6091944,
          -84.42694444
         ],
         "mode": "lines",
         "type": "scattergeo"
        },
        {
         "lat": [
          35.04022222,
          47.44898194
         ],
         "line": {
          "color": "blue",
          "width": 1
         },
         "locationmode": "USA-states",
         "lon": [
          -106.6091944,
          -122.3093131
         ],
         "mode": "lines",
         "type": "scattergeo"
        },
        {
         "lat": [
          35.04022222,
          32.89595056
         ],
         "line": {
          "color": "blue",
          "width": 1
         },
         "locationmode": "USA-states",
         "lon": [
          -106.6091944,
          -97.0372
         ],
         "mode": "lines",
         "type": "scattergeo"
        },
        {
         "lat": [
          35.04022222,
          29.64541861
         ],
         "line": {
          "color": "blue",
          "width": 1
         },
         "locationmode": "USA-states",
         "lon": [
          -106.6091944,
          -95.27888889
         ],
         "mode": "lines",
         "type": "scattergeo"
        },
        {
         "lat": [
          35.04022222,
          37.72129083
         ],
         "line": {
          "color": "blue",
          "width": 1
         },
         "locationmode": "USA-states",
         "lon": [
          -106.6091944,
          -122.2207167
         ],
         "mode": "lines",
         "type": "scattergeo"
        },
        {
         "lat": [
          35.04022222,
          32.84711389
         ],
         "line": {
          "color": "blue",
          "width": 1
         },
         "locationmode": "USA-states",
         "lon": [
          -106.6091944,
          -96.85177222
         ],
         "mode": "lines",
         "type": "scattergeo"
        },
        {
         "lat": [
          35.04022222,
          29.98047222
         ],
         "line": {
          "color": "blue",
          "width": 1
         },
         "locationmode": "USA-states",
         "lon": [
          -106.6091944,
          -95.33972222
         ],
         "mode": "lines",
         "type": "scattergeo"
        },
        {
         "lat": [
          35.04022222,
          37.61900194
         ],
         "line": {
          "color": "blue",
          "width": 1
         },
         "locationmode": "USA-states",
         "lon": [
          -106.6091944,
          -122.3748433
         ],
         "mode": "lines",
         "type": "scattergeo"
        },
        {
         "hoverinfo": "text",
         "lat": [
          35.04022222,
          61.17432028,
          33.64044444,
          30.19453278,
          41.93887417,
          33.56294306,
          36.12447667,
          42.3643475,
          42.94052472,
          34.20061917,
          39.17540167,
          32.89864639,
          41.41089417,
          35.21401111,
          39.99798528,
          39.04614278,
          32.84711389,
          38.85208333,
          39.85840806,
          32.89595056,
          42.21205889,
          31.80666667,
          40.69249722,
          26.07258333,
          21.31869111,
          29.64541861,
          38.94453194,
          29.98047222,
          39.71732917,
          30.49405556,
          40.63975111,
          36.08036111,
          33.94253611,
          40.77724306,
          34.72939611,
          39.29760528,
          28.42888889,
          41.7859825,
          35.04241667,
          25.79325,
          42.94722222,
          44.88054694,
          29.99338889,
          37.72129083,
          20.89864972,
          35.39308833,
          41.30251861,
          34.056,
          41.979595,
          36.89461111,
          26.68316194,
          45.58872222,
          39.87195278,
          33.43416667,
          40.49146583,
          41.72399917,
          35.87763889,
          37.50516667,
          39.49857611,
          26.53616667,
          32.73355611,
          29.53369444,
          38.17438889,
          47.44898194,
          37.61900194,
          37.36186194,
          18.43941667,
          40.78838778,
          38.69542167,
          33.67565861,
          38.74768694,
          27.97547222,
          36.19837222,
          32.11608333,
          40.65236278,
          32.41132,
          45.44905556,
          31.535515,
          41.25305194,
          31.61128833,
          40.97811528,
          39.45758333,
          51.87796389,
          57.74996778,
          31.32737167,
          33.369955,
          58.67680167,
          42.74811944,
          42.55708139,
          35.2193725,
          45.0780675,
          43.99192222,
          39.22316,
          44.25740806,
          35.43619444,
          41.33814944,
          42.234875,
          60.77977639,
          35.43359806,
          42.20848278,
          44.80744444,
          45.8076625,
          46.77411111,
          47.50942417,
          48.79275,
          40.47798556,
          43.56444444,
          29.95083333,
          31.25902778,
          18.49486111,
          46.39785806,
          25.90683333,
          71.2854475,
          45.95479528,
          30.53316083,
          44.47300361,
          45.77690139,
          33.93884,
          40.91631194,
          37.70097028,
          60.49183389,
          41.78015722,
          35.03526833,
          38.13863889,
          39.79538278,
          41.88458833,
          46.25075194,
          33.127231,
          30.58858944,
          40.03925,
          47.16841722,
          38.75495611,
          44.52019417,
          38.80580556,
          38.81809306,
          42.90835556,
          27.77036083,
          38.37315083,
          32.51633333,
          44.77761917,
          41.1557225,
          29.17991667,
          39.90237583,
          42.40295944,
          31.32133917,
          46.79738889,
          59.0454125,
          46.84209028,
          37.15151667,
          29.37181222,
          41.53493306,
          48.11424528,
          44.86525722,
          39.64256778,
          40.82492611,
          42.15991361,
          42.08202139,
          45.72266972,
          44.12326,
          38.03799139,
          35.07297222,
          24.55611111,
          64.8136775,
          46.91934889,
          36.77619444,
          34.99147222,
          48.31140472,
          35.13845472,
          34.18536111,
          42.96550333,
          38.95095194,
          43.58135111,
          35.33659028,
          40.97846583,
          44.34889806,
          37.92751556,
          47.61985556,
          47.949255,
          32.38486111,
          39.1224125,
          29.69005556,
          30.40728028,
          44.48507333,
          40.96747222,
          31.06489778,
          42.88081972,
          36.09774694,
          34.89566722,
          58.42438139,
          47.48200194,
          33.45033444,
          38.53396333,
          13.48345,
          40.48118028,
          47.38659917,
          46.60681806,
          32.68752778,
          41.06695778,
          26.22850611,
          34.6404475,
          38.36666667,
          41.66933639,
          38.84494167,
          37.64995889,
          43.51455556,
          39.67872222,
          34.27061111,
          45.81835417,
          48.56618722,
          32.83422028,
          48.17793861,
          40.7952425,
          42.49102778,
          19.72026306,
          35.65884306,
          43.60732417,
          32.31116667,
          37.15181361,
          46.92971944,
          58.35496194,
          19.73876583,
          55.35556861,
          42.7787,
          41.31205,
          34.56771444,
          33.66363889,
          30.1260975,
          38.03697222,
          30.20527972,
          33.81772222,
          21.97598306,
          42.15614361,
          40.85097222,
          27.54373861,
          43.87937972,
          37.85830556,
          46.37449806,
          37.32668528,
          31.94252778,
          43.53291472,
          32.69284944,
          40.19349528,
          32.33313333,
          26.17583333,
          42.37422778,
          32.30064417,
          39.14096722,
          42.93451639,
          43.16948806,
          28.10275,
          41.44852639,
          32.51086556,
          37.62404861,
          30.69141667,
          37.62581722,
          48.25937778,
          46.353639,
          36.5869825,
          43.13985778,
          46.91630556,
          38.50886722,
          41.39302583,
          47.20770806,
          33.67975,
          34.82916444,
          64.51220222,
          42.26733944,
          43.41713889,
          66.88467694,
          34.20080083,
          37.06083333,
          30.21208333,
          37.13189556,
          40.66424333,
          31.46714944,
          27.91076333,
          42.91130556,
          44.38267694,
          45.5709275,
          30.47330556,
          14.33102278,
          46.26468028,
          18.00830278,
          56.80165194,
          33.82921556,
          38.28908722,
          43.64616667,
          44.04532139,
          40.50898361,
          44.25406722,
          42.19536389,
          45.63119306,
          41.5942175,
          37.32546833,
          43.11886611,
          33.30155556,
          43.90882639,
          35.61677778,
          32.12758333,
          34.42621194,
          41.70895361,
          35.23705806,
          70.19475583,
          40.851206,
          37.24432611,
          37.09058333,
          38.26384333,
          32.4466275,
          57.04713806,
          31.35775,
          34.89924833,
          39.84395194,
          14.996111,
          33.98879611,
          27.39533333,
          45.54532417,
          18.33730556,
          17.70188889,
          43.50484139,
          42.40260333,
          41.50409361,
          43.11118694,
          37.95375861,
          30.39652778,
          41.58680556,
          36.47521417,
          40.27669111,
          34.26810833,
          44.74144472,
          42.48180389,
          33.45370806,
          32.35413889,
          35.81248722,
          40.44090167,
          30.7825,
          30.48325,
          56.48432583,
          44.68839917,
          36.28186944,
          59.50336056,
          32.65658333
         ],
         "locationmode": "USA-states",
         "lon": [
          -106.6091944,
          -149.9961856,
          -84.42694444,
          -97.66987194,
          -72.68322833,
          -86.75354972,
          -86.67818222,
          -71.00517917,
          -78.73216667,
          -118.3584969,
          -76.66819833,
          -80.04050583,
          -81.84939667,
          -80.94312583,
          -82.89188278,
          -84.6621725,
          -96.85177222,
          -77.03772222,
          -104.6670019,
          -97.0372,
          -83.34883583,
          -106.3778056,
          -74.16866056,
          -80.15275,
          -157.9224072,
          -95.27888889,
          -77.45580972,
          -95.33972222,
          -86.29438417,
          -81.68786111,
          -73.77892556,
          -115.1523333,
          -118.4080744,
          -73.87260917,
          -92.22424556,
          -94.71390556,
          -81.31602778,
          -87.75242444,
          -89.97666667,
          -80.29055556,
          -87.89658333,
          -93.2169225,
          -90.25802778,
          -122.2207167,
          -156.4304578,
          -97.60073389,
          -95.89417306,
          -117.6011944,
          -87.90446417,
          -76.20122222,
          -80.09559417,
          -122.5975,
          -75.24114083,
          -112.0080556,
          -80.23287083,
          -71.42822111,
          -78.78747222,
          -77.31966667,
          -119.7680647,
          -81.75516667,
          -117.1896567,
          -98.46977778,
          -85.736,
          -122.3093131,
          -122.3748433,
          -121.9290089,
          -66.00183333,
          -111.9777731,
          -121.5907669,
          -117.8682225,
          -90.35998972,
          -82.53325,
          -95.88824167,
          -110.9410278,
          -75.44040167,
          -99.68189722,
          -98.42183333,
          -84.19447333,
          -70.06018139,
          -97.23051917,
          -124.1086189,
          -74.57716667,
          -176.6460306,
          -152.4938553,
          -92.54855611,
          -81.96449611,
          -156.6492175,
          -73.80297861,
          -92.40034361,
          -101.7059272,
          -83.56028583,
          -76.02173861,
          -106.868845,
          -88.51947556,
          -82.54180556,
          -75.7242675,
          -85.5520575,
          -161.8379975,
          -119.0567681,
          -75.97961361,
          -68.82813889,
          -108.5428611,
          -100.7467222,
          -94.93372333,
          -122.5375278,
          -88.91595278,
          -116.2227778,
          -94.02069444,
          -81.46630556,
          -67.12944444,
          -94.1372275,
          -97.42586111,
          -156.7660019,
          -112.49746,
          -91.14963444,
          -73.1503125,
          -111.1530072,
          -81.11953944,
          -81.44246556,
          -113.098575,
          -145.4776503,
          -124.2365333,
          -85.20378778,
          -78.45286111,
          -121.8584231,
          -91.71087222,
          -84.47238528,
          -117.278727,
          -96.36382417,
          -88.27805556,
          -88.48906083,
          -109.7548439,
          -109.0237961,
          -104.70025,
          -92.21962917,
          -106.4644661,
          -97.50121528,
          -81.59318972,
          -84.93886111,
          -89.66677944,
          -104.8118381,
          -81.05805556,
          -84.219375,
          -90.70916722,
          -85.44962889,
          -102.8019528,
          -158.5033389,
          -92.19364861,
          -107.7537692,
          -100.9232339,
          -93.66068222,
          -98.90877833,
          -91.48507194,
          -106.9176953,
          -115.7916964,
          -76.89144333,
          -80.17621556,
          -87.09373139,
          -123.2186856,
          -87.53062667,
          -77.04294444,
          -81.75955556,
          -147.8596694,
          -96.81498889,
          -119.7181389,
          -78.88,
          -114.2550694,
          -111.6712183,
          -79.72388889,
          -83.74345639,
          -95.66361444,
          -96.74170028,
          -94.36744111,
          -85.19514639,
          -105.5393614,
          -100.7244147,
          -117.5338425,
          -97.17611111,
          -94.71171,
          -108.5267347,
          -82.27177778,
          -89.07009278,
          -88.12959,
          -98.30861111,
          -97.82779778,
          -85.52276778,
          -79.9372975,
          -82.21885833,
          -135.7073814,
          -111.3706853,
          -88.59136861,
          -106.9331817,
          -144.7959825,
          -107.2176597,
          -92.83899333,
          -111.9827503,
          -103.2170278,
          -73.70757444,
          -97.65439389,
          -86.77310944,
          -82.55802778,
          -70.28035583,
          -99.27403361,
          -97.43304583,
          -112.0701667,
          -75.60652778,
          -77.90255556,
          -88.1145425,
          -93.40306667,
          -115.5787456,
          -103.6423467,
          -73.10021194,
          -76.45844444,
          -155.0484703,
          -117.8295122,
          -110.7377389,
          -90.07588889,
          -94.49826833,
          -98.67819528,
          -134.5762764,
          -156.0456314,
          -131.71374,
          -84.58735806,
          -105.6749864,
          -98.41663667,
          -101.8227778,
          -93.22340361,
          -84.60538889,
          -91.987655,
          -118.1516111,
          -159.3389581,
          -121.7332081,
          -96.75925,
          -99.46154361,
          -91.25653778,
          -80.39947222,
          -117.0153944,
          -79.20043056,
          -102.2019139,
          -84.07964722,
          -83.64921083,
          -76.76340361,
          -88.75120556,
          -98.23861111,
          -122.8734978,
          -86.39397611,
          -96.67083278,
          -71.43705583,
          -86.23822306,
          -80.64580556,
          -90.50753917,
          -92.03768778,
          -118.8377722,
          -88.24283333,
          -120.9544214,
          -101.2803339,
          -87.395361,
          -121.8429478,
          -89.33751361,
          -114.0905556,
          -107.8938333,
          -70.6143325,
          -119.3201897,
          -78.92833333,
          -77.61213778,
          -165.4452458,
          -71.87570944,
          -124.2460278,
          -162.5985497,
          -119.2072164,
          -88.77375,
          -85.68280556,
          -76.4929875,
          -89.69330556,
          -89.33705778,
          -82.68743944,
          -112.5958611,
          -100.285965,
          -84.796715,
          -87.18744444,
          -170.7105258,
          -119.1190292,
          -66.56301194,
          -132.9452781,
          -116.5062531,
          -104.4965722,
          -70.30875,
          -103.0573708,
          -122.2934019,
          -121.1499633,
          -89.09721111,
          -89.46745361,
          -109.0651928,
          -79.97542833,
          -77.67238389,
          -104.5305556,
          -92.49798722,
          -106.0881389,
          -81.20213889,
          -119.8403733,
          -86.31847417,
          -120.6423931,
          -148.4651608,
          -77.846302,
          -93.38685806,
          -113.5930556,
          -78.89643806,
          -93.82559833,
          -135.3615983,
          -100.4963056,
          -120.4575825,
          -89.67761861,
          145.621384,
          -98.49189333,
          -82.55411111,
          -94.05833667,
          -64.97336111,
          -64.79855556,
          -114.2965903,
          -96.38436694,
          -74.10483833,
          -76.10631056,
          -107.90848,
          -84.35033333,
          -83.80783333,
          -82.40742056,
          -74.81346833,
          -88.769895,
          -85.582235,
          -114.4877356,
          -93.99102,
          -95.40238611,
          -83.99285583,
          -109.5099203,
          -83.27672222,
          -86.5254,
          -132.3698242,
          -111.1176375,
          -94.30681111,
          -139.6602261,
          -114.6059722
         ],
         "marker": {
          "color": "rgb(255, 0, 0)",
          "line": {
           "color": "rgba(68, 68, 68, 0)",
           "width": 3
          },
          "size": [
           1,
           1,
           7,
           1,
           1,
           1,
           1,
           1,
           1,
           1,
           7,
           1,
           1,
           1,
           1,
           1,
           7,
           1,
           7,
           7,
           1,
           1,
           1,
           1,
           1,
           7,
           7,
           7,
           1,
           1,
           1,
           7,
           7,
           1,
           1,
           6,
           1,
           7,
           1,
           1,
           1,
           1,
           1,
           7,
           1,
           1,
           1,
           1,
           7,
           1,
           1,
           1,
           1,
           7,
           1,
           1,
           1,
           1,
           1,
           1,
           7,
           1,
           1,
           7,
           7,
           1,
           1,
           7,
           1,
           1,
           1,
           1,
           1,
           7,
           1,
           1,
           1,
           1,
           1,
           1,
           1,
           1,
           1,
           1,
           1,
           1,
           1,
           1,
           1,
           1,
           1,
           1,
           1,
           1,
           1,
           1,
           1,
           1,
           1,
           1,
           1,
           1,
           1,
           1,
           1,
           1,
           1,
           1,
           1,
           1,
           1,
           1,
           1,
           1,
           1,
           1,
           1,
           1,
           1,
           1,
           1,
           1,
           1,
           1,
           1,
           1,
           1,
           1,
           1,
           1,
           1,
           1,
           1,
           1,
           1,
           1,
           1,
           1,
           1,
           1,
           1,
           1,
           1,
           1,
           1,
           1,
           1,
           1,
           1,
           1,
           1,
           1,
           1,
           1,
           1,
           1,
           1,
           1,
           1,
           1,
           1,
           1,
           1,
           1,
           1,
           1,
           1,
           1,
           1,
           1,
           1,
           1,
           1,
           1,
           1,
           1,
           1,
           1,
           1,
           1,
           1,
           1,
           1,
           1,
           1,
           1,
           1,
           1,
           1,
           1,
           1,
           1,
           1,
           1,
           1,
           1,
           1,
           1,
           1,
           1,
           1,
           1,
           1,
           1,
           1,
           1,
           1,
           1,
           1,
           1,
           1,
           1,
           1,
           1,
           1,
           1,
           1,
           1,
           1,
           1,
           1,
           1,
           1,
           1,
           1,
           1,
           1,
           1,
           1,
           1,
           1,
           1,
           1,
           1,
           1,
           1,
           1,
           1,
           1,
           1,
           1,
           1,
           1,
           1,
           1,
           1,
           1,
           1,
           1,
           1,
           1,
           1,
           1,
           1,
           1,
           1,
           1,
           1,
           1,
           1,
           1,
           1,
           1,
           1,
           1,
           1,
           1,
           1,
           1,
           1,
           1,
           1,
           1,
           1,
           1,
           1,
           1,
           1,
           1,
           1,
           1,
           1,
           1,
           1,
           1,
           1,
           1,
           1,
           1,
           1,
           1,
           1,
           1,
           1,
           1,
           1,
           1,
           1,
           1,
           1,
           1,
           1,
           1,
           1,
           1,
           1,
           1,
           1,
           1,
           1,
           1,
           1,
           1,
           1,
           1,
           1,
           1,
           1,
           1,
           1,
           1,
           1,
           1,
           1,
           1,
           1,
           1,
           1,
           1,
           1,
           1,
           1,
           1,
           1,
           1,
           1,
           1,
           1,
           1,
           1,
           1
          ]
         },
         "mode": "markers",
         "text": [
          "Albuquerque International, Albuquerque, NM, USA",
          "Ted Stevens Anchorage International, Anchorage, AK, USA",
          "William B Hartsfield-Atlanta Intl, Atlanta, GA, USA",
          "Austin-Bergstrom International, Austin, TX, USA",
          "Bradley International, Windsor Locks, CT, USA",
          "Birmingham International, Birmingham, AL, USA",
          "Nashville International, Nashville, TN, USA",
          "Gen Edw L Logan Intl, Boston, MA, USA",
          "Buffalo Niagara Intl, Buffalo, NY, USA",
          "Burbank-Glendale-Pasadena, Burbank, CA, USA",
          "Baltimore-Washington International, Baltimore, MD, USA",
          "Charleston AFB International, Charleston, SC, USA",
          "Cleveland-Hopkins Intl, Cleveland, OH, USA",
          "Charlotte Douglas International, Charlotte, NC, USA",
          "Port Columbus Intl, Columbus, OH, USA",
          "Cincinnati Northern Kentucky Intl, Covington, KY, USA",
          "Dallas Love , Dallas, TX, USA",
          "Ronald Reagan Washington National, Arlington, VA, USA",
          "Denver Intl, Denver, CO, USA",
          "Dallas-Fort Worth International, Dallas-Fort Worth, TX, USA",
          "Detroit Metropolitan-Wayne County, Detroit, MI, USA",
          "El Paso International, El Paso, TX, USA",
          "Newark Intl, Newark, NJ, USA",
          "Fort Lauderdale-Hollywood Int'l, Ft. Lauderdale, FL, USA",
          "Honolulu International, Honolulu, HI, USA",
          "William P X, Houston, TX, USA",
          "Washington Dulles International, Chantilly, VA, USA",
          "George Bush Intercontinental, Houston, TX, USA",
          "Indianapolis International, Indianapolis, IN, USA",
          "Jacksonville International, Jacksonville, FL, USA",
          "John F Kennedy Intl, New York, NY, USA",
          "McCarran International, Las Vegas, NV, USA",
          "Los Angeles International, Los Angeles, CA, USA",
          "LaGuardia, New York, NY, USA",
          "Adams , Little Rock, AR, USA",
          "Kansas City International, Kansas City, MO, USA",
          "Orlando International, Orlando, FL, USA",
          "Chicago Midway, Chicago, IL, USA",
          "Memphis International, Memphis, TN, USA",
          "Miami International, Miami, FL, USA",
          "General Mitchell International, Milwaukee, WI, USA",
          "Minneapolis-St Paul Intl, Minneapolis, MN, USA",
          "New Orleans International , New Orleans, LA, USA",
          "Metropolitan Oakland International, Oakland, CA, USA",
          "Kahului, Kahului, HI, USA",
          "Will Rogers World, Oklahoma City, OK, USA",
          "Eppley Airfield, Omaha, NE, USA",
          "Ontario International, Ontario, CA, USA",
          "Chicago O'Hare International, Chicago, IL, USA",
          "Norfolk International, Norfolk, VA, USA",
          "Palm Beach International, West Palm Beach, FL, USA",
          "Portland Intl, Portland, OR, USA",
          "Philadelphia Intl, Philadelphia, PA, USA",
          "Phoenix Sky Harbor International, Phoenix, AZ, USA",
          "Pittsburgh International, Pittsburgh, PA, USA",
          "Theodore F Green State, Providence, RI, USA",
          "Raleigh-Durham International, Raleigh, NC, USA",
          "Richmond International, Richmond, VA, USA",
          "Reno Tahoe International, Reno, NV, USA",
          "Southwest Florida International, Ft. Myers, FL, USA",
          "San Diego International-Lindbergh , San Diego, CA, USA",
          "San Antonio International, San Antonio, TX, USA",
          "Louisville International-Standiford , Louisville, KY, USA",
          "Seattle-Tacoma Intl, Seattle, WA, USA",
          "San Francisco International, San Francisco, CA, USA",
          "San Jose International, San Jose, CA, USA",
          "Luis Munoz Marin International, San Juan, PR, USA",
          "Salt Lake City Intl, Salt Lake City, UT, USA",
          "Sacramento International, Sacramento, CA, USA",
          "John Wayne  Orange Co, Santa Ana, CA, USA",
          "Lambert-St Louis International, St Louis, MO, USA",
          "Tampa International , Tampa, FL, USA",
          "Tulsa International, Tulsa, OK, USA",
          "Tucson International, Tucson, AZ, USA",
          "Lehigh Valley International, Allentown, PA, USA",
          "Abilene Regional, Abilene, TX, USA",
          "Aberdeen Regional, Aberdeen, SD, USA",
          "Southwest Georgia Regional, Albany, GA, USA",
          "Nantucket Memorial, Nantucket, MA, USA",
          "Waco Regional, Waco, TX, USA",
          "Arcata, Arcata Eureka, CA, USA",
          "Atlantic City International, Atlantic City, NJ, USA",
          "Adak, Adak, AK, USA",
          "Kodiak , Kodiak, AK, USA",
          "Alexandria International, Alexandria, LA, USA",
          "Bush , Augusta, GA, USA",
          "King Salmon, King Salmon, AK, USA",
          "Albany Cty, Albany, NY, USA",
          "Waterloo Municipal, Waterloo, IA, USA",
          "Amarillo International, Amarillo, TX, USA",
          "Alpena County Regional , Alpena, MI, USA",
          "Watertown Intl, Watertown, NY, USA",
          "Aspen-Pitkin Co Sardy , Aspen, CO, USA",
          "Outagamie County Regional, Appleton, WI, USA",
          "Asheville Regional, Asheville, NC, USA",
          "Wilkes-Barre Scranton Intl, Wilkes-Barre Scranton, PA, USA",
          "Kalamazoo County, Kalamazoo, MI, USA",
          "Bethel, Bethel, AK, USA",
          "Meadows , Bakersfield, CA, USA",
          "Binghamton Regional, Binghamton, NY, USA",
          "Bangor International, Bangor, ME, USA",
          "Billings Logan Intl, Billings, MT, USA",
          "Bismarck Municipal, Bismarck, ND, USA",
          "Bemidji-Beltrami County, Bemidji, MN, USA",
          "Bellingham Intl, Bellingham, WA, USA",
          "Central Illinois Regional, Bloomington, IL, USA",
          "Boise Air Terminal, Boise, ID, USA",
          "Southeast Texas Regional, Beaumont Port Arthur, TX, USA",
          "Glynco Jetport, Brunswick, GA, USA",
          "Rafael Hernandez, Aguadilla, PR, USA",
          "Brainerd-Crow Wing County Regional, Brainerd, MN, USA",
          "Brownsville S.Padre Island International, Brownsville, TX, USA",
          "Wiley Post Will Rogers Memorial, Barrow, AK, USA",
          "Bert Mooney, Butte, MT, USA",
          "Baton Rouge Metropolitan, Baton Rouge, LA, USA",
          "Burlington International, Burlington, VT, USA",
          "Gallatin , Bozeman, MT, USA",
          "Columbia Metropolitan, Columbia, SC, USA",
          "Akron-Canton Regional, Akron, OH, USA",
          "Cedar City Muni, Cedar City, UT, USA",
          "Merle K (Mudhole) Smith, Cordova, AK, USA",
          "Jack McNamara , Crescent City, CA, USA",
          "Lovell , Chattanooga, TN, USA",
          "Charlottesville-Albermarle, Charlottesville, VA, USA",
          "Chico Municipal, Chico, CA, USA",
          "Eastern Iowa , Cedar Rapids, IA, USA",
          "Chippewa County International, Sault Ste. Marie, MI, USA",
          "MC Clellan-Palomar Airport, NA, NA, USA",
          "Easterwood , College Station, TX, USA",
          "University of Illinois-Willard, Champaign Urbana, IL, USA",
          "Houghton County Memorial, Hancock, MI, USA",
          "Canyonlands , Moab, UT, USA",
          "Yellowstone Regional, Cody, WY, USA",
          "City of Colorado Springs Muni, Colorado Springs, CO, USA",
          "Columbia Regional, Columbia, MO, USA",
          "Natrona County Intl, Casper, WY, USA",
          "Corpus Christi International, Corpus Christi, TX, USA",
          "Yeager, Charleston, WV, USA",
          "Columbus Metropolitan, Columbus, GA, USA",
          "Central Wisconsin, Mosinee, WI, USA",
          "Cheyenne, Cheyenne, WY, USA",
          "Daytona Beach International, Daytona Beach, FL, USA",
          "James M Cox Dayton Intl, Dayton, OH, USA",
          "Dubuque Municipal, Dubuque, IA, USA",
          "Dothan , Dothan, AL, USA",
          "Dickinson Municipal, Dickinson, ND, USA",
          "Dillingham, Dillingham, AK, USA",
          "Duluth International, Duluth, MN, USA",
          "Durango-La Plata County, Durango, CO, USA",
          "Del Rio International, Del Rio, TX, USA",
          "Des Moines International, Des Moines, IA, USA",
          "Devils Lake Municipal-Knoke , Devils Lake, ND, USA",
          "Chippewa Valley Regional, Eau Claire, WI, USA",
          "Eagle County Regional, Eagle, CO, USA",
          "Elko Regional, Elko, NV, USA",
          "Elmira Corning Regional, Elmira, NY, USA",
          "Erie Intl, Erie, PA, USA",
          "Delta County, Escanaba, MI, USA",
          "Mahlon Sweet , Eugene, OR, USA",
          "Evansville Regional, Evansville, IN, USA",
          "Craven County Regional, New Bern, NC, USA",
          "Key West International, Key West, FL, USA",
          "Fairbanks International, Fairbanks, AK, USA",
          "Hector International, Fargo, ND, USA",
          "Fresno Yosemite International, Fresno, CA, USA",
          "Fayetteville Municipal, Fayetteville, NC, USA",
          "Glacier Park Intl, Kalispell, MT, USA",
          "Flagstaff Pulliam, Flagstaff, AZ, USA",
          "Florence Regional, Florence, SC, USA",
          "Bishop, Flint, MI, USA",
          "Forbes , Topeka, KS, USA",
          "Joe Foss , Sioux Falls, SD, USA",
          "Fort Smith Regional, Fort Smith, AR, USA",
          "Fort Wayne International, Fort Wayne, IN, USA",
          "Gillette-Campbell County, Gillette, WY, USA",
          "Garden City Regional, Garden City, KS, USA",
          "Spokane Intl, Spokane, WA, USA",
          "Grand Forks International, Grand Forks, ND, USA",
          "Gregg County, Longview, TX, USA",
          "Walker , Grand Junction, CO, USA",
          "Gainesville Regional, Gainesville, FL, USA",
          "Gulfport-Biloxi Regional, Gulfport-Biloxi, MS, USA",
          "Austin Straubel International, Green Bay, WI, USA",
          "Central Nebraska Regional , Grand Island, NE, USA",
          "Robert Gray AAF, Killeen, TX, USA",
          "Kent County International, Grand Rapids, MI, USA",
          "Piedmont Triad International, Greensboro, NC, USA",
          "Greenville-Spartanburg, Greer, SC, USA",
          "Gustavus, Gustavus, AK, USA",
          "Great Falls Intl, Great Falls, MT, USA",
          "Golden Triangle Regional, Columbus-Starkville-West Point, MS, USA",
          "Gunnison County, Gunnison, CO, USA",
          "Guam International, Agana, GU, USA",
          "Yampa Valley, Hayden, CO, USA",
          "Chisholm-Hibbing, Hibbing, MN, USA",
          "Helena Regional, Helena, MT, USA",
          "Lea County Regional, Hobbs, NM, USA",
          "Westchester Cty, White Plains, NY, USA",
          "Valley International, Harlingen, TX, USA",
          "Huntsville International , Huntsville, AL, USA",
          "Tri-State Walker-Long , Huntington, WV, USA",
          "Barnstable Mun Boardman Polando , Hyannis, MA, USA",
          "Hays Municipal, Hays, KS, USA",
          "Wichita Mid-Continent, Wichita, KS, USA",
          "Idaho Falls Regional, Idaho Falls, ID, USA",
          "New Castle County , Wilmington, DE, USA",
          "Wilmington International, Wilmington, NC, USA",
          "Ford, Iron Mountain Kingsford, MI, USA",
          "Falls International, International Falls, MN, USA",
          "Imperial County, Imperial, CA, USA",
          "Sloulin Field International, Williston, ND, USA",
          "Long Island - MacArthur, Islip, NY, USA",
          "Tompkins Cty , Ithaca, NY, USA",
          "Hilo International, Hilo, HI, USA",
          "Inyokern, Inyokern, CA, USA",
          "Jackson Hole, Jackson, WY, USA",
          "Jackson International, Jackson, MS, USA",
          "Joplin Regional, Joplin, MO, USA",
          "Jamestown Municipal, Jamestown, ND, USA",
          "Juneau International, Juneau, AK, USA",
          "Kona International At Keahole, Kailua Kona, HI, USA",
          "Ketchikan International, Ketchikan, AK, USA",
          "Capital City, Lansing, MI, USA",
          "Laramie Regional, Laramie, WY, USA",
          "Lawton-Ft Sill Regional, Lawton, OK, USA",
          "Lubbock International, Lubbock, TX, USA",
          "Lake Charles Regional, Lake Charles, LA, USA",
          "Blue Grass , Lexington, KY, USA",
          "Lafayette Regional, Lafayette, LA, USA",
          "Long Beach (Daugherty ), Long Beach, CA, USA",
          "Lihue, Lihue, HI, USA",
          "Klamath Falls International, Klamath Falls, OR, USA",
          "Lincoln Municipal, Lincoln, NE, USA",
          "Laredo International, Laredo, TX, USA",
          "La Crosse Municipal, La Crosse, WI, USA",
          "Greenbrier Valley, Lewisburg, WV, USA",
          "Lewiston-Nez Perce County, Lewiston, ID, USA",
          "Lynchburg Municipal-Preston Glenn , Lynchburg, VA, USA",
          "Midland International, Midland, TX, USA",
          "Mbs International, Saginaw, MI, USA",
          "Middle Georgia Regional, Macon, GA, USA",
          "Harrisburg Intl, Harrisburg, PA, USA",
          "Key , Meridian, MS, USA",
          "McAllen Miller International, McAllen, TX, USA",
          "Rogue Valley International, Medford, OR, USA",
          "Montgomery Regional Apt, Montgomery, AL, USA",
          "Manhattan Regional, Manhattan, KS, USA",
          "Manchester, Manchester, NH, USA",
          "Muskegon County, Muskegon, MI, USA",
          "Melbourne International , Melbourne, FL, USA",
          "Quad City, Moline, IL, USA",
          "Monroe Regional, Monroe, LA, USA",
          "Mammoth Yosemite, Mammoth Lakes, CA, USA",
          "Mobile Regional, Mobile, AL, USA",
          "Modesto City-County-Harry Sham , Modesto, CA, USA",
          "Minot International, Minot, ND, USA",
          "Marquette County Airport, NA, NA, USA",
          "Monterey Peninsula, Monterey, CA, USA",
          "Dane County Regional, Madison, WI, USA",
          "Missoula International, Missoula, MT, USA",
          "Montrose Regional, Montrose, CO, USA",
          "Marthas Vineyard, Marthas Vineyard, MA, USA",
          "Grant County, Moses Lake, WA, USA",
          "Myrtle Beach International, Myrtle Beach, SC, USA",
          "Albert J Ellis, Jacksonville, NC, USA",
          "Nome, Nome, AK, USA",
          "Worcester Regional, Worcester, MA, USA",
          "North Bend Muni, North Bend, OR, USA",
          "Ralph Wien Memorial, Kotzebue, AK, USA",
          "Oxnard, Oxnard, CA, USA",
          "Barkley Regional, Paducah, KY, USA",
          "Panama City-Bay County International, Panama City, FL, USA",
          "Newport News Williamsburg International, Newport News, VA, USA",
          "Greater Peoria Regional, Peoria, IL, USA",
          "Hattiesburg-Laurel Regional, Hattiesburg-Laurel, MS, USA",
          "St. Petersburg-Clearwater International, St. Petersburg, FL, USA",
          "Pocatello Regional, Pocatello, ID, USA",
          "Pierre Regional, Pierre, SD, USA",
          "Pellston Regional  of Emmet County, Pellston, MI, USA",
          "Pensacola Regional, Pensacola, FL, USA",
          "Pago Pago International, Pago Pago, AS, USA",
          "Tri-Cities, Pasco, WA, USA",
          "Mercedita, Ponce, PR, USA",
          "James C. Johnson Petersburg, Petersburg, AK, USA",
          "Palm Springs International, Palm Springs, CA, USA",
          "Pueblo Memorial, Pueblo, CO, USA",
          "Portland International Jetport, Portland, ME, USA",
          "Rapid City Regional, Rapid City, SD, USA",
          "Redding Municipal, Redding, CA, USA",
          "Roberts , Redmond, OR, USA",
          "Greater Rockford, Rockford, IL, USA",
          "Rhinelander-Oneida County, Rhinelander, WI, USA",
          "Rock Springs-Sweetwater County, Rock Springs, WY, USA",
          "Roanoke Regional  Woodrum , Roanoke, VA, USA",
          "Greater Rochester Int'l, Rochester, NY, USA",
          "Roswell Industrial Air Center, Roswell, NM, USA",
          "Rochester International, Rochester, MN, USA",
          "Santa Fe Municipal, Santa Fe, NM, USA",
          "Savannah International, Savannah, GA, USA",
          "Santa Barbara Municipal, Santa Barbara, CA, USA",
          "South Bend Regional, South Bend, IN, USA",
          "San Luis Obispo Co-McChesney , San Luis Obispo, CA, USA",
          "Deadhorse, Deadhorse, AK, USA",
          "University Park, NA, NA, USA",
          "Springfield-Branson Regional, Springfield, MO, USA",
          "St George Muni, St George, UT, USA",
          "Shenandoah Valley Regional, Staunton Harrisonburg, VA, USA",
          "Shreveport Regional, Shreveport, LA, USA",
          "Sitka, Sitka, AK, USA",
          "San Angelo Regional  Mathis , San Angelo, TX, USA",
          "Santa Maria Pub Capt G Allan Hancock , Santa Maria, CA, USA",
          "Capital, Springfield, IL, USA",
          "Tinian International Airport, NA, NA, N Mariana Islands",
          "Sheppard AFB Wichita Falls Municipal, Wichita Falls, TX, USA",
          "Sarasota Bradenton International, Sarasota, FL, USA",
          "St Cloud Regional, St Cloud, MN, USA",
          "Cyril E. King, Charlotte Amalie, VI, USA",
          "Henry E. Rohlsen , Christiansted, VI, USA",
          "Friedman Memorial, Hailey, ID, USA",
          "Sioux Gateway , Sioux City, IA, USA",
          "Stewart, Newburgh, NY, USA",
          "Syracuse-Hancock Intl, Syracuse, NY, USA",
          "Telluride Regional, Telluride, CO, USA",
          "Tallahassee Regional, Tallahassee, FL, USA",
          "Toledo Express, Toledo, OH, USA",
          "Tri-Cities Regional, Bristol, TN, USA",
          "Trenton-Mercer County , Trenton, NJ, USA",
          "Tupelo Municipal , Tupelo, MS, USA",
          "Cherry Capital, Traverse City, MI, USA",
          "Joslin Field - Magic Valley, Twin Falls, ID, USA",
          "Texarkana Regional-Webb , Texarkana, AR, USA",
          "Tyler Pounds , Tyler, TX, USA",
          "McGhee-Tyson, Knoxville, TN, USA",
          "Vernal, Vernal, UT, USA",
          "Valdosta Regional, Valdosta, GA, USA",
          "Eglin Air Force Base, Valparaiso, FL, USA",
          "Wrangell, Wrangell, AK, USA",
          "Yellowstone, West Yellowstone, MT, USA",
          "Northwest Arkansas Regional, Fayetteville Springdale Rogers, AR, USA",
          "Yakutat, Yakutat, AK, USA",
          "Yuma MCAS-Yuma International, Yuma, AZ, USA"
         ],
         "type": "scattergeo"
        }
       ],
       "layout": {
        "geo": {
         "countrycolor": "rgb(204, 204, 204)",
         "landcolor": "rgb(243, 243, 243)",
         "projection": {
          "type": "azimuthal equal area"
         },
         "scope": "north america",
         "showland": true
        },
        "showlegend": false,
        "template": {
         "data": {
          "bar": [
           {
            "error_x": {
             "color": "#2a3f5f"
            },
            "error_y": {
             "color": "#2a3f5f"
            },
            "marker": {
             "line": {
              "color": "#E5ECF6",
              "width": 0.5
             },
             "pattern": {
              "fillmode": "overlay",
              "size": 10,
              "solidity": 0.2
             }
            },
            "type": "bar"
           }
          ],
          "barpolar": [
           {
            "marker": {
             "line": {
              "color": "#E5ECF6",
              "width": 0.5
             },
             "pattern": {
              "fillmode": "overlay",
              "size": 10,
              "solidity": 0.2
             }
            },
            "type": "barpolar"
           }
          ],
          "carpet": [
           {
            "aaxis": {
             "endlinecolor": "#2a3f5f",
             "gridcolor": "white",
             "linecolor": "white",
             "minorgridcolor": "white",
             "startlinecolor": "#2a3f5f"
            },
            "baxis": {
             "endlinecolor": "#2a3f5f",
             "gridcolor": "white",
             "linecolor": "white",
             "minorgridcolor": "white",
             "startlinecolor": "#2a3f5f"
            },
            "type": "carpet"
           }
          ],
          "choropleth": [
           {
            "colorbar": {
             "outlinewidth": 0,
             "ticks": ""
            },
            "type": "choropleth"
           }
          ],
          "contour": [
           {
            "colorbar": {
             "outlinewidth": 0,
             "ticks": ""
            },
            "colorscale": [
             [
              0,
              "#0d0887"
             ],
             [
              0.1111111111111111,
              "#46039f"
             ],
             [
              0.2222222222222222,
              "#7201a8"
             ],
             [
              0.3333333333333333,
              "#9c179e"
             ],
             [
              0.4444444444444444,
              "#bd3786"
             ],
             [
              0.5555555555555556,
              "#d8576b"
             ],
             [
              0.6666666666666666,
              "#ed7953"
             ],
             [
              0.7777777777777778,
              "#fb9f3a"
             ],
             [
              0.8888888888888888,
              "#fdca26"
             ],
             [
              1,
              "#f0f921"
             ]
            ],
            "type": "contour"
           }
          ],
          "contourcarpet": [
           {
            "colorbar": {
             "outlinewidth": 0,
             "ticks": ""
            },
            "type": "contourcarpet"
           }
          ],
          "heatmap": [
           {
            "colorbar": {
             "outlinewidth": 0,
             "ticks": ""
            },
            "colorscale": [
             [
              0,
              "#0d0887"
             ],
             [
              0.1111111111111111,
              "#46039f"
             ],
             [
              0.2222222222222222,
              "#7201a8"
             ],
             [
              0.3333333333333333,
              "#9c179e"
             ],
             [
              0.4444444444444444,
              "#bd3786"
             ],
             [
              0.5555555555555556,
              "#d8576b"
             ],
             [
              0.6666666666666666,
              "#ed7953"
             ],
             [
              0.7777777777777778,
              "#fb9f3a"
             ],
             [
              0.8888888888888888,
              "#fdca26"
             ],
             [
              1,
              "#f0f921"
             ]
            ],
            "type": "heatmap"
           }
          ],
          "heatmapgl": [
           {
            "colorbar": {
             "outlinewidth": 0,
             "ticks": ""
            },
            "colorscale": [
             [
              0,
              "#0d0887"
             ],
             [
              0.1111111111111111,
              "#46039f"
             ],
             [
              0.2222222222222222,
              "#7201a8"
             ],
             [
              0.3333333333333333,
              "#9c179e"
             ],
             [
              0.4444444444444444,
              "#bd3786"
             ],
             [
              0.5555555555555556,
              "#d8576b"
             ],
             [
              0.6666666666666666,
              "#ed7953"
             ],
             [
              0.7777777777777778,
              "#fb9f3a"
             ],
             [
              0.8888888888888888,
              "#fdca26"
             ],
             [
              1,
              "#f0f921"
             ]
            ],
            "type": "heatmapgl"
           }
          ],
          "histogram": [
           {
            "marker": {
             "pattern": {
              "fillmode": "overlay",
              "size": 10,
              "solidity": 0.2
             }
            },
            "type": "histogram"
           }
          ],
          "histogram2d": [
           {
            "colorbar": {
             "outlinewidth": 0,
             "ticks": ""
            },
            "colorscale": [
             [
              0,
              "#0d0887"
             ],
             [
              0.1111111111111111,
              "#46039f"
             ],
             [
              0.2222222222222222,
              "#7201a8"
             ],
             [
              0.3333333333333333,
              "#9c179e"
             ],
             [
              0.4444444444444444,
              "#bd3786"
             ],
             [
              0.5555555555555556,
              "#d8576b"
             ],
             [
              0.6666666666666666,
              "#ed7953"
             ],
             [
              0.7777777777777778,
              "#fb9f3a"
             ],
             [
              0.8888888888888888,
              "#fdca26"
             ],
             [
              1,
              "#f0f921"
             ]
            ],
            "type": "histogram2d"
           }
          ],
          "histogram2dcontour": [
           {
            "colorbar": {
             "outlinewidth": 0,
             "ticks": ""
            },
            "colorscale": [
             [
              0,
              "#0d0887"
             ],
             [
              0.1111111111111111,
              "#46039f"
             ],
             [
              0.2222222222222222,
              "#7201a8"
             ],
             [
              0.3333333333333333,
              "#9c179e"
             ],
             [
              0.4444444444444444,
              "#bd3786"
             ],
             [
              0.5555555555555556,
              "#d8576b"
             ],
             [
              0.6666666666666666,
              "#ed7953"
             ],
             [
              0.7777777777777778,
              "#fb9f3a"
             ],
             [
              0.8888888888888888,
              "#fdca26"
             ],
             [
              1,
              "#f0f921"
             ]
            ],
            "type": "histogram2dcontour"
           }
          ],
          "mesh3d": [
           {
            "colorbar": {
             "outlinewidth": 0,
             "ticks": ""
            },
            "type": "mesh3d"
           }
          ],
          "parcoords": [
           {
            "line": {
             "colorbar": {
              "outlinewidth": 0,
              "ticks": ""
             }
            },
            "type": "parcoords"
           }
          ],
          "pie": [
           {
            "automargin": true,
            "type": "pie"
           }
          ],
          "scatter": [
           {
            "fillpattern": {
             "fillmode": "overlay",
             "size": 10,
             "solidity": 0.2
            },
            "type": "scatter"
           }
          ],
          "scatter3d": [
           {
            "line": {
             "colorbar": {
              "outlinewidth": 0,
              "ticks": ""
             }
            },
            "marker": {
             "colorbar": {
              "outlinewidth": 0,
              "ticks": ""
             }
            },
            "type": "scatter3d"
           }
          ],
          "scattercarpet": [
           {
            "marker": {
             "colorbar": {
              "outlinewidth": 0,
              "ticks": ""
             }
            },
            "type": "scattercarpet"
           }
          ],
          "scattergeo": [
           {
            "marker": {
             "colorbar": {
              "outlinewidth": 0,
              "ticks": ""
             }
            },
            "type": "scattergeo"
           }
          ],
          "scattergl": [
           {
            "marker": {
             "colorbar": {
              "outlinewidth": 0,
              "ticks": ""
             }
            },
            "type": "scattergl"
           }
          ],
          "scattermapbox": [
           {
            "marker": {
             "colorbar": {
              "outlinewidth": 0,
              "ticks": ""
             }
            },
            "type": "scattermapbox"
           }
          ],
          "scatterpolar": [
           {
            "marker": {
             "colorbar": {
              "outlinewidth": 0,
              "ticks": ""
             }
            },
            "type": "scatterpolar"
           }
          ],
          "scatterpolargl": [
           {
            "marker": {
             "colorbar": {
              "outlinewidth": 0,
              "ticks": ""
             }
            },
            "type": "scatterpolargl"
           }
          ],
          "scatterternary": [
           {
            "marker": {
             "colorbar": {
              "outlinewidth": 0,
              "ticks": ""
             }
            },
            "type": "scatterternary"
           }
          ],
          "surface": [
           {
            "colorbar": {
             "outlinewidth": 0,
             "ticks": ""
            },
            "colorscale": [
             [
              0,
              "#0d0887"
             ],
             [
              0.1111111111111111,
              "#46039f"
             ],
             [
              0.2222222222222222,
              "#7201a8"
             ],
             [
              0.3333333333333333,
              "#9c179e"
             ],
             [
              0.4444444444444444,
              "#bd3786"
             ],
             [
              0.5555555555555556,
              "#d8576b"
             ],
             [
              0.6666666666666666,
              "#ed7953"
             ],
             [
              0.7777777777777778,
              "#fb9f3a"
             ],
             [
              0.8888888888888888,
              "#fdca26"
             ],
             [
              1,
              "#f0f921"
             ]
            ],
            "type": "surface"
           }
          ],
          "table": [
           {
            "cells": {
             "fill": {
              "color": "#EBF0F8"
             },
             "line": {
              "color": "white"
             }
            },
            "header": {
             "fill": {
              "color": "#C8D4E3"
             },
             "line": {
              "color": "white"
             }
            },
            "type": "table"
           }
          ]
         },
         "layout": {
          "annotationdefaults": {
           "arrowcolor": "#2a3f5f",
           "arrowhead": 0,
           "arrowwidth": 1
          },
          "autotypenumbers": "strict",
          "coloraxis": {
           "colorbar": {
            "outlinewidth": 0,
            "ticks": ""
           }
          },
          "colorscale": {
           "diverging": [
            [
             0,
             "#8e0152"
            ],
            [
             0.1,
             "#c51b7d"
            ],
            [
             0.2,
             "#de77ae"
            ],
            [
             0.3,
             "#f1b6da"
            ],
            [
             0.4,
             "#fde0ef"
            ],
            [
             0.5,
             "#f7f7f7"
            ],
            [
             0.6,
             "#e6f5d0"
            ],
            [
             0.7,
             "#b8e186"
            ],
            [
             0.8,
             "#7fbc41"
            ],
            [
             0.9,
             "#4d9221"
            ],
            [
             1,
             "#276419"
            ]
           ],
           "sequential": [
            [
             0,
             "#0d0887"
            ],
            [
             0.1111111111111111,
             "#46039f"
            ],
            [
             0.2222222222222222,
             "#7201a8"
            ],
            [
             0.3333333333333333,
             "#9c179e"
            ],
            [
             0.4444444444444444,
             "#bd3786"
            ],
            [
             0.5555555555555556,
             "#d8576b"
            ],
            [
             0.6666666666666666,
             "#ed7953"
            ],
            [
             0.7777777777777778,
             "#fb9f3a"
            ],
            [
             0.8888888888888888,
             "#fdca26"
            ],
            [
             1,
             "#f0f921"
            ]
           ],
           "sequentialminus": [
            [
             0,
             "#0d0887"
            ],
            [
             0.1111111111111111,
             "#46039f"
            ],
            [
             0.2222222222222222,
             "#7201a8"
            ],
            [
             0.3333333333333333,
             "#9c179e"
            ],
            [
             0.4444444444444444,
             "#bd3786"
            ],
            [
             0.5555555555555556,
             "#d8576b"
            ],
            [
             0.6666666666666666,
             "#ed7953"
            ],
            [
             0.7777777777777778,
             "#fb9f3a"
            ],
            [
             0.8888888888888888,
             "#fdca26"
            ],
            [
             1,
             "#f0f921"
            ]
           ]
          },
          "colorway": [
           "#636efa",
           "#EF553B",
           "#00cc96",
           "#ab63fa",
           "#FFA15A",
           "#19d3f3",
           "#FF6692",
           "#B6E880",
           "#FF97FF",
           "#FECB52"
          ],
          "font": {
           "color": "#2a3f5f"
          },
          "geo": {
           "bgcolor": "white",
           "lakecolor": "white",
           "landcolor": "#E5ECF6",
           "showlakes": true,
           "showland": true,
           "subunitcolor": "white"
          },
          "hoverlabel": {
           "align": "left"
          },
          "hovermode": "closest",
          "mapbox": {
           "style": "light"
          },
          "paper_bgcolor": "white",
          "plot_bgcolor": "#E5ECF6",
          "polar": {
           "angularaxis": {
            "gridcolor": "white",
            "linecolor": "white",
            "ticks": ""
           },
           "bgcolor": "#E5ECF6",
           "radialaxis": {
            "gridcolor": "white",
            "linecolor": "white",
            "ticks": ""
           }
          },
          "scene": {
           "xaxis": {
            "backgroundcolor": "#E5ECF6",
            "gridcolor": "white",
            "gridwidth": 2,
            "linecolor": "white",
            "showbackground": true,
            "ticks": "",
            "zerolinecolor": "white"
           },
           "yaxis": {
            "backgroundcolor": "#E5ECF6",
            "gridcolor": "white",
            "gridwidth": 2,
            "linecolor": "white",
            "showbackground": true,
            "ticks": "",
            "zerolinecolor": "white"
           },
           "zaxis": {
            "backgroundcolor": "#E5ECF6",
            "gridcolor": "white",
            "gridwidth": 2,
            "linecolor": "white",
            "showbackground": true,
            "ticks": "",
            "zerolinecolor": "white"
           }
          },
          "shapedefaults": {
           "line": {
            "color": "#2a3f5f"
           }
          },
          "ternary": {
           "aaxis": {
            "gridcolor": "white",
            "linecolor": "white",
            "ticks": ""
           },
           "baxis": {
            "gridcolor": "white",
            "linecolor": "white",
            "ticks": ""
           },
           "bgcolor": "#E5ECF6",
           "caxis": {
            "gridcolor": "white",
            "linecolor": "white",
            "ticks": ""
           }
          },
          "title": {
           "x": 0.05
          },
          "xaxis": {
           "automargin": true,
           "gridcolor": "white",
           "linecolor": "white",
           "ticks": "",
           "title": {
            "standoff": 15
           },
           "zerolinecolor": "white",
           "zerolinewidth": 2
          },
          "yaxis": {
           "automargin": true,
           "gridcolor": "white",
           "linecolor": "white",
           "ticks": "",
           "title": {
            "standoff": 15
           },
           "zerolinecolor": "white",
           "zerolinewidth": 2
          }
         }
        },
        "title": {
         "text": "Flights' route"
        }
       }
      }
     },
     "metadata": {},
     "output_type": "display_data"
    }
   ],
   "source": [
    "def route_between_airports(df,date_start,date_end,origin=\"BOS\",dest=\"None\"):\n",
    "    if dest == \"None\":\n",
    "        df_aggregated = df.filter((col(\"Origin\") == origin))\n",
    "    else:\n",
    "        df_aggregated = df.filter((col(\"Origin\") == origin) & (col(\"Dest\") == dest))\n",
    "\n",
    "    \n",
    "    \n",
    "    # aggregate by flight date, day of weew, Origin and Dest, count the number of flights and average the arrival delay\n",
    "    df_aggregated = df_aggregated.groupBy(\"FlightDate\",\"DayOfWeek\",\"Origin\",\"Dest\",\"ORIGIN_LATITUDE\",\"ORIGIN_LONGITUDE\",\"DEST_LATITUDE\",\"DEST_LONGITUDE\").agg({\"ArrDelay\": \"avg\"}).withColumnRenamed(\"avg(ArrDelay)\", \"AverageArrivalDelay\")\n",
    "    df_aggregated = df_aggregated.orderBy(\"FlightDate\", ascending=True)\n",
    "    # filter by date_start and date_end\n",
    "    df_aggregated = df_aggregated.filter((col(\"FlightDate\") >= date_start) & (col(\"FlightDate\") <= date_end))\n",
    "    # convert DayOfWeek to string with the corresponding day\n",
    "    df_aggregated = df_aggregated.withColumn(\"DayOfWeek\", when(col(\"DayOfWeek\") == 1, \"Monday\").when(col(\"DayOfWeek\") == 2, \"Tuesday\").when(col(\"DayOfWeek\") == 3, \"Wednesday\").when(col(\"DayOfWeek\") == 4, \"Thursday\").when(col(\"DayOfWeek\") == 5, \"Friday\").when(col(\"DayOfWeek\") == 6, \"Saturday\").when(col(\"DayOfWeek\") == 7, \"Sunday\"))\n",
    "    return df_aggregated\n",
    "\n",
    "\n",
    "def plot_map_routes(df,date_start,date_end,origin=\"BOS\",dest=\"None\"):\n",
    "    df_flight_paths = route_between_airports(df,date_start,date_end,origin,dest).toPandas()\n",
    "\n",
    "    fig = go.Figure()\n",
    "\n",
    "\n",
    "    flight_paths = []\n",
    "    for i in range(len(df_flight_paths)):\n",
    "        fig.add_trace(\n",
    "            go.Scattergeo(\n",
    "                locationmode = 'USA-states',\n",
    "                lon = [df_flight_paths['ORIGIN_LONGITUDE'][i], df_flight_paths['DEST_LONGITUDE'][i]],\n",
    "                lat = [df_flight_paths['ORIGIN_LATITUDE'][i], df_flight_paths['DEST_LATITUDE'][i]],\n",
    "                mode = 'lines',\n",
    "                line = dict(width = 1,color = 'blue'),\n",
    "            \n",
    "            )\n",
    "        )\n",
    "\n",
    "    # for each airport count the number of rows in df_flight_paths with that airport as destination\n",
    "    sizes = []\n",
    "    for airport_code in airports[\"IATA\"]:\n",
    "        # count the rows with airport_code as destination\n",
    "        count = len(df_flight_paths[df_flight_paths[\"Dest\"] == airport_code])+1\n",
    "        sizes.append(count)\n",
    "    \n",
    "    fig.add_trace(go.Scattergeo(\n",
    "        locationmode = 'USA-states',\n",
    "        lon = airports['LONGITUDE'],\n",
    "        lat = airports['LATITUDE'],\n",
    "        hoverinfo = 'text',\n",
    "        text = airports['AIRPORT']+\", \"+airports['CITY']+\", \"+airports['STATE']+\", \"+airports['COUNTRY'],\n",
    "        mode = 'markers',\n",
    "        marker = dict(\n",
    "            size = sizes,\n",
    "            color = 'rgb(255, 0, 0)',\n",
    "            line = dict(\n",
    "                width = 3,\n",
    "                color = 'rgba(68, 68, 68, 0)'\n",
    "            )\n",
    "        )))\n",
    "\n",
    "    \n",
    "\n",
    "    fig.update_layout(\n",
    "        title_text = \"Flights' route\",\n",
    "        showlegend = False,\n",
    "        geo = dict(\n",
    "            scope = 'north america',\n",
    "            projection_type = 'azimuthal equal area',\n",
    "            showland = True,\n",
    "            landcolor = 'rgb(243, 243, 243)',\n",
    "            countrycolor = 'rgb(204, 204, 204)',\n",
    "        ),\n",
    "    )\n",
    "\n",
    "    return fig\n",
    "\n",
    "plot_map_routes(df,df_dates[\"FlightDate\"][10],df_dates[\"FlightDate\"][15],\"ABQ\").show()"
   ]
  },
  {
   "cell_type": "code",
   "execution_count": 55,
   "metadata": {},
   "outputs": [
    {
     "name": "stderr",
     "output_type": "stream",
     "text": [
      "                                                                                \r"
     ]
    },
    {
     "data": {
      "application/vnd.plotly.v1+json": {
       "config": {
        "plotlyServerURL": "https://plot.ly"
       },
       "data": [
        {
         "coloraxis": "coloraxis",
         "geo": "geo",
         "hovertemplate": "locations=%{location}<br>color=%{z}<extra></extra>",
         "locationmode": "USA-states",
         "locations": [
          "IL",
          "CO",
          "NJ",
          "MD",
          "AR",
          "WV",
          "VT",
          "IA",
          "SC",
          "KS",
          "VA",
          "TX",
          "NC",
          "MS",
          "MO",
          "PR",
          "ME",
          "OH",
          "OK",
          "ND",
          "KY",
          "AL",
          "TN",
          "SD",
          "WI",
          "NV",
          "MA",
          "NE",
          "NY",
          "FL",
          "LA",
          "NM",
          "PA",
          "IN",
          "CA",
          "MI",
          "GA",
          "NH",
          "WY",
          "CT",
          "MN",
          "AZ",
          "RI",
          "OR",
          "HI",
          "GU",
          "DE",
          "WA",
          "ID",
          "UT",
          "NA",
          "AK",
          "MT",
          "VI"
         ],
         "name": "",
         "type": "choropleth",
         "z": [
          12.312363154314767,
          10.196808791244466,
          9.108605777766504,
          8.982975663604785,
          8.948162263419675,
          8.885346756152126,
          8.047951497336028,
          7.632330857583506,
          7.3956975228161665,
          7.3706960798926815,
          7.149184564174773,
          6.985761159172395,
          6.884523968241563,
          6.543473928927266,
          6.516721790225538,
          6.422924330952896,
          6.420796634678585,
          6.33705331267849,
          6.3267923676188325,
          6.289396887159533,
          6.215562038472058,
          6.157790086635421,
          6.093653874322543,
          5.975710900473934,
          5.911753035473375,
          5.808930946094398,
          5.803502846403181,
          5.701130163678878,
          5.693744750077087,
          5.5838644367616475,
          5.310268817204301,
          5.305804699343103,
          5.289434258400513,
          4.982311886586696,
          4.710380618167094,
          4.316852292526482,
          4.226738051506507,
          4.150958876012717,
          4.114367475823959,
          3.3313652798755093,
          3.2841928287790867,
          3.113733088993701,
          2.6387586662264773,
          2.567305800632576,
          2.4861818079929763,
          2.3112947658402203,
          2.1681159420289857,
          2.123330103135599,
          1.8780026690391458,
          1.6963063213491638,
          1.4418454935622318,
          0.07448712296081127,
          -0.7537030453845243,
          -0.9371002132196162
         ]
        }
       ],
       "layout": {
        "coloraxis": {
         "colorbar": {
          "title": {
           "text": "color"
          }
         },
         "colorscale": [
          [
           0,
           "#0d0887"
          ],
          [
           0.1111111111111111,
           "#46039f"
          ],
          [
           0.2222222222222222,
           "#7201a8"
          ],
          [
           0.3333333333333333,
           "#9c179e"
          ],
          [
           0.4444444444444444,
           "#bd3786"
          ],
          [
           0.5555555555555556,
           "#d8576b"
          ],
          [
           0.6666666666666666,
           "#ed7953"
          ],
          [
           0.7777777777777778,
           "#fb9f3a"
          ],
          [
           0.8888888888888888,
           "#fdca26"
          ],
          [
           1,
           "#f0f921"
          ]
         ]
        },
        "geo": {
         "center": {},
         "domain": {
          "x": [
           0,
           1
          ],
          "y": [
           0,
           1
          ]
         },
         "scope": "usa"
        },
        "legend": {
         "tracegroupgap": 0
        },
        "margin": {
         "t": 60
        },
        "template": {
         "data": {
          "bar": [
           {
            "error_x": {
             "color": "#2a3f5f"
            },
            "error_y": {
             "color": "#2a3f5f"
            },
            "marker": {
             "line": {
              "color": "#E5ECF6",
              "width": 0.5
             },
             "pattern": {
              "fillmode": "overlay",
              "size": 10,
              "solidity": 0.2
             }
            },
            "type": "bar"
           }
          ],
          "barpolar": [
           {
            "marker": {
             "line": {
              "color": "#E5ECF6",
              "width": 0.5
             },
             "pattern": {
              "fillmode": "overlay",
              "size": 10,
              "solidity": 0.2
             }
            },
            "type": "barpolar"
           }
          ],
          "carpet": [
           {
            "aaxis": {
             "endlinecolor": "#2a3f5f",
             "gridcolor": "white",
             "linecolor": "white",
             "minorgridcolor": "white",
             "startlinecolor": "#2a3f5f"
            },
            "baxis": {
             "endlinecolor": "#2a3f5f",
             "gridcolor": "white",
             "linecolor": "white",
             "minorgridcolor": "white",
             "startlinecolor": "#2a3f5f"
            },
            "type": "carpet"
           }
          ],
          "choropleth": [
           {
            "colorbar": {
             "outlinewidth": 0,
             "ticks": ""
            },
            "type": "choropleth"
           }
          ],
          "contour": [
           {
            "colorbar": {
             "outlinewidth": 0,
             "ticks": ""
            },
            "colorscale": [
             [
              0,
              "#0d0887"
             ],
             [
              0.1111111111111111,
              "#46039f"
             ],
             [
              0.2222222222222222,
              "#7201a8"
             ],
             [
              0.3333333333333333,
              "#9c179e"
             ],
             [
              0.4444444444444444,
              "#bd3786"
             ],
             [
              0.5555555555555556,
              "#d8576b"
             ],
             [
              0.6666666666666666,
              "#ed7953"
             ],
             [
              0.7777777777777778,
              "#fb9f3a"
             ],
             [
              0.8888888888888888,
              "#fdca26"
             ],
             [
              1,
              "#f0f921"
             ]
            ],
            "type": "contour"
           }
          ],
          "contourcarpet": [
           {
            "colorbar": {
             "outlinewidth": 0,
             "ticks": ""
            },
            "type": "contourcarpet"
           }
          ],
          "heatmap": [
           {
            "colorbar": {
             "outlinewidth": 0,
             "ticks": ""
            },
            "colorscale": [
             [
              0,
              "#0d0887"
             ],
             [
              0.1111111111111111,
              "#46039f"
             ],
             [
              0.2222222222222222,
              "#7201a8"
             ],
             [
              0.3333333333333333,
              "#9c179e"
             ],
             [
              0.4444444444444444,
              "#bd3786"
             ],
             [
              0.5555555555555556,
              "#d8576b"
             ],
             [
              0.6666666666666666,
              "#ed7953"
             ],
             [
              0.7777777777777778,
              "#fb9f3a"
             ],
             [
              0.8888888888888888,
              "#fdca26"
             ],
             [
              1,
              "#f0f921"
             ]
            ],
            "type": "heatmap"
           }
          ],
          "heatmapgl": [
           {
            "colorbar": {
             "outlinewidth": 0,
             "ticks": ""
            },
            "colorscale": [
             [
              0,
              "#0d0887"
             ],
             [
              0.1111111111111111,
              "#46039f"
             ],
             [
              0.2222222222222222,
              "#7201a8"
             ],
             [
              0.3333333333333333,
              "#9c179e"
             ],
             [
              0.4444444444444444,
              "#bd3786"
             ],
             [
              0.5555555555555556,
              "#d8576b"
             ],
             [
              0.6666666666666666,
              "#ed7953"
             ],
             [
              0.7777777777777778,
              "#fb9f3a"
             ],
             [
              0.8888888888888888,
              "#fdca26"
             ],
             [
              1,
              "#f0f921"
             ]
            ],
            "type": "heatmapgl"
           }
          ],
          "histogram": [
           {
            "marker": {
             "pattern": {
              "fillmode": "overlay",
              "size": 10,
              "solidity": 0.2
             }
            },
            "type": "histogram"
           }
          ],
          "histogram2d": [
           {
            "colorbar": {
             "outlinewidth": 0,
             "ticks": ""
            },
            "colorscale": [
             [
              0,
              "#0d0887"
             ],
             [
              0.1111111111111111,
              "#46039f"
             ],
             [
              0.2222222222222222,
              "#7201a8"
             ],
             [
              0.3333333333333333,
              "#9c179e"
             ],
             [
              0.4444444444444444,
              "#bd3786"
             ],
             [
              0.5555555555555556,
              "#d8576b"
             ],
             [
              0.6666666666666666,
              "#ed7953"
             ],
             [
              0.7777777777777778,
              "#fb9f3a"
             ],
             [
              0.8888888888888888,
              "#fdca26"
             ],
             [
              1,
              "#f0f921"
             ]
            ],
            "type": "histogram2d"
           }
          ],
          "histogram2dcontour": [
           {
            "colorbar": {
             "outlinewidth": 0,
             "ticks": ""
            },
            "colorscale": [
             [
              0,
              "#0d0887"
             ],
             [
              0.1111111111111111,
              "#46039f"
             ],
             [
              0.2222222222222222,
              "#7201a8"
             ],
             [
              0.3333333333333333,
              "#9c179e"
             ],
             [
              0.4444444444444444,
              "#bd3786"
             ],
             [
              0.5555555555555556,
              "#d8576b"
             ],
             [
              0.6666666666666666,
              "#ed7953"
             ],
             [
              0.7777777777777778,
              "#fb9f3a"
             ],
             [
              0.8888888888888888,
              "#fdca26"
             ],
             [
              1,
              "#f0f921"
             ]
            ],
            "type": "histogram2dcontour"
           }
          ],
          "mesh3d": [
           {
            "colorbar": {
             "outlinewidth": 0,
             "ticks": ""
            },
            "type": "mesh3d"
           }
          ],
          "parcoords": [
           {
            "line": {
             "colorbar": {
              "outlinewidth": 0,
              "ticks": ""
             }
            },
            "type": "parcoords"
           }
          ],
          "pie": [
           {
            "automargin": true,
            "type": "pie"
           }
          ],
          "scatter": [
           {
            "fillpattern": {
             "fillmode": "overlay",
             "size": 10,
             "solidity": 0.2
            },
            "type": "scatter"
           }
          ],
          "scatter3d": [
           {
            "line": {
             "colorbar": {
              "outlinewidth": 0,
              "ticks": ""
             }
            },
            "marker": {
             "colorbar": {
              "outlinewidth": 0,
              "ticks": ""
             }
            },
            "type": "scatter3d"
           }
          ],
          "scattercarpet": [
           {
            "marker": {
             "colorbar": {
              "outlinewidth": 0,
              "ticks": ""
             }
            },
            "type": "scattercarpet"
           }
          ],
          "scattergeo": [
           {
            "marker": {
             "colorbar": {
              "outlinewidth": 0,
              "ticks": ""
             }
            },
            "type": "scattergeo"
           }
          ],
          "scattergl": [
           {
            "marker": {
             "colorbar": {
              "outlinewidth": 0,
              "ticks": ""
             }
            },
            "type": "scattergl"
           }
          ],
          "scattermapbox": [
           {
            "marker": {
             "colorbar": {
              "outlinewidth": 0,
              "ticks": ""
             }
            },
            "type": "scattermapbox"
           }
          ],
          "scatterpolar": [
           {
            "marker": {
             "colorbar": {
              "outlinewidth": 0,
              "ticks": ""
             }
            },
            "type": "scatterpolar"
           }
          ],
          "scatterpolargl": [
           {
            "marker": {
             "colorbar": {
              "outlinewidth": 0,
              "ticks": ""
             }
            },
            "type": "scatterpolargl"
           }
          ],
          "scatterternary": [
           {
            "marker": {
             "colorbar": {
              "outlinewidth": 0,
              "ticks": ""
             }
            },
            "type": "scatterternary"
           }
          ],
          "surface": [
           {
            "colorbar": {
             "outlinewidth": 0,
             "ticks": ""
            },
            "colorscale": [
             [
              0,
              "#0d0887"
             ],
             [
              0.1111111111111111,
              "#46039f"
             ],
             [
              0.2222222222222222,
              "#7201a8"
             ],
             [
              0.3333333333333333,
              "#9c179e"
             ],
             [
              0.4444444444444444,
              "#bd3786"
             ],
             [
              0.5555555555555556,
              "#d8576b"
             ],
             [
              0.6666666666666666,
              "#ed7953"
             ],
             [
              0.7777777777777778,
              "#fb9f3a"
             ],
             [
              0.8888888888888888,
              "#fdca26"
             ],
             [
              1,
              "#f0f921"
             ]
            ],
            "type": "surface"
           }
          ],
          "table": [
           {
            "cells": {
             "fill": {
              "color": "#EBF0F8"
             },
             "line": {
              "color": "white"
             }
            },
            "header": {
             "fill": {
              "color": "#C8D4E3"
             },
             "line": {
              "color": "white"
             }
            },
            "type": "table"
           }
          ]
         },
         "layout": {
          "annotationdefaults": {
           "arrowcolor": "#2a3f5f",
           "arrowhead": 0,
           "arrowwidth": 1
          },
          "autotypenumbers": "strict",
          "coloraxis": {
           "colorbar": {
            "outlinewidth": 0,
            "ticks": ""
           }
          },
          "colorscale": {
           "diverging": [
            [
             0,
             "#8e0152"
            ],
            [
             0.1,
             "#c51b7d"
            ],
            [
             0.2,
             "#de77ae"
            ],
            [
             0.3,
             "#f1b6da"
            ],
            [
             0.4,
             "#fde0ef"
            ],
            [
             0.5,
             "#f7f7f7"
            ],
            [
             0.6,
             "#e6f5d0"
            ],
            [
             0.7,
             "#b8e186"
            ],
            [
             0.8,
             "#7fbc41"
            ],
            [
             0.9,
             "#4d9221"
            ],
            [
             1,
             "#276419"
            ]
           ],
           "sequential": [
            [
             0,
             "#0d0887"
            ],
            [
             0.1111111111111111,
             "#46039f"
            ],
            [
             0.2222222222222222,
             "#7201a8"
            ],
            [
             0.3333333333333333,
             "#9c179e"
            ],
            [
             0.4444444444444444,
             "#bd3786"
            ],
            [
             0.5555555555555556,
             "#d8576b"
            ],
            [
             0.6666666666666666,
             "#ed7953"
            ],
            [
             0.7777777777777778,
             "#fb9f3a"
            ],
            [
             0.8888888888888888,
             "#fdca26"
            ],
            [
             1,
             "#f0f921"
            ]
           ],
           "sequentialminus": [
            [
             0,
             "#0d0887"
            ],
            [
             0.1111111111111111,
             "#46039f"
            ],
            [
             0.2222222222222222,
             "#7201a8"
            ],
            [
             0.3333333333333333,
             "#9c179e"
            ],
            [
             0.4444444444444444,
             "#bd3786"
            ],
            [
             0.5555555555555556,
             "#d8576b"
            ],
            [
             0.6666666666666666,
             "#ed7953"
            ],
            [
             0.7777777777777778,
             "#fb9f3a"
            ],
            [
             0.8888888888888888,
             "#fdca26"
            ],
            [
             1,
             "#f0f921"
            ]
           ]
          },
          "colorway": [
           "#636efa",
           "#EF553B",
           "#00cc96",
           "#ab63fa",
           "#FFA15A",
           "#19d3f3",
           "#FF6692",
           "#B6E880",
           "#FF97FF",
           "#FECB52"
          ],
          "font": {
           "color": "#2a3f5f"
          },
          "geo": {
           "bgcolor": "white",
           "lakecolor": "white",
           "landcolor": "#E5ECF6",
           "showlakes": true,
           "showland": true,
           "subunitcolor": "white"
          },
          "hoverlabel": {
           "align": "left"
          },
          "hovermode": "closest",
          "mapbox": {
           "style": "light"
          },
          "paper_bgcolor": "white",
          "plot_bgcolor": "#E5ECF6",
          "polar": {
           "angularaxis": {
            "gridcolor": "white",
            "linecolor": "white",
            "ticks": ""
           },
           "bgcolor": "#E5ECF6",
           "radialaxis": {
            "gridcolor": "white",
            "linecolor": "white",
            "ticks": ""
           }
          },
          "scene": {
           "xaxis": {
            "backgroundcolor": "#E5ECF6",
            "gridcolor": "white",
            "gridwidth": 2,
            "linecolor": "white",
            "showbackground": true,
            "ticks": "",
            "zerolinecolor": "white"
           },
           "yaxis": {
            "backgroundcolor": "#E5ECF6",
            "gridcolor": "white",
            "gridwidth": 2,
            "linecolor": "white",
            "showbackground": true,
            "ticks": "",
            "zerolinecolor": "white"
           },
           "zaxis": {
            "backgroundcolor": "#E5ECF6",
            "gridcolor": "white",
            "gridwidth": 2,
            "linecolor": "white",
            "showbackground": true,
            "ticks": "",
            "zerolinecolor": "white"
           }
          },
          "shapedefaults": {
           "line": {
            "color": "#2a3f5f"
           }
          },
          "ternary": {
           "aaxis": {
            "gridcolor": "white",
            "linecolor": "white",
            "ticks": ""
           },
           "baxis": {
            "gridcolor": "white",
            "linecolor": "white",
            "ticks": ""
           },
           "bgcolor": "#E5ECF6",
           "caxis": {
            "gridcolor": "white",
            "linecolor": "white",
            "ticks": ""
           }
          },
          "title": {
           "x": 0.05
          },
          "xaxis": {
           "automargin": true,
           "gridcolor": "white",
           "linecolor": "white",
           "ticks": "",
           "title": {
            "standoff": 15
           },
           "zerolinecolor": "white",
           "zerolinewidth": 2
          },
          "yaxis": {
           "automargin": true,
           "gridcolor": "white",
           "linecolor": "white",
           "ticks": "",
           "title": {
            "standoff": 15
           },
           "zerolinecolor": "white",
           "zerolinewidth": 2
          }
         }
        }
       }
      }
     },
     "metadata": {},
     "output_type": "display_data"
    }
   ],
   "source": [
    "# get avg arrival delay by state origin\n",
    "def avg_delay_state_origin(df):\n",
    "    df_aggregated = df.groupBy(\"ORIGIN_STATE\").agg({\"ArrDelay\": \"avg\"}).withColumnRenamed(\"avg(ArrDelay)\", \"AverageArrivalDelay\")\n",
    "    df_aggregated = df_aggregated.orderBy(\"AverageArrivalDelay\", ascending=False)\n",
    "    return df_aggregated\n",
    "\n",
    "def plot_avg_delay_state_origin(df):\n",
    "    df_avg = avg_delay_state_origin(df).toPandas()\n",
    "    # drop row with AS in ORIGIN_STATE\n",
    "    df_avg = df_avg.drop(df_avg[df_avg[\"ORIGIN_STATE\"] == \"AS\"].index)\n",
    "    fig = px.choropleth(locations=df_avg[\"ORIGIN_STATE\"], locationmode=\"USA-states\", color=df_avg[\"AverageArrivalDelay\"], scope=\"usa\")\n",
    "    return fig\n",
    "\n",
    "plot_avg_delay_state_origin(df).show()"
   ]
  },
  {
   "cell_type": "code",
   "execution_count": 62,
   "metadata": {},
   "outputs": [
    {
     "name": "stderr",
     "output_type": "stream",
     "text": [
      "                                                                                \r"
     ]
    },
    {
     "data": {
      "application/vnd.plotly.v1+json": {
       "config": {
        "plotlyServerURL": "https://plot.ly"
       },
       "data": [
        {
         "coloraxis": "coloraxis",
         "geo": "geo",
         "hovertemplate": "locations=%{location}<br>color=%{z}<extra></extra>",
         "locationmode": "USA-states",
         "locations": [
          "NJ",
          "KS",
          "OK",
          "AR",
          "WV",
          "NH",
          "IA",
          "NE",
          "SD",
          "DE",
          "IL",
          "SC",
          "ME",
          "VT",
          "NY",
          "NM",
          "AL",
          "WI",
          "CO",
          "OH",
          "CT",
          "RI",
          "MS",
          "MO",
          "ND",
          "TN",
          "IN",
          "PR",
          "PA",
          "TX",
          "VA",
          "LA",
          "GA",
          "NA",
          "KY",
          "CA",
          "FL",
          "MD",
          "NC",
          "MA",
          "WY",
          "NV",
          "VI",
          "ID",
          "OR",
          "HI",
          "MI",
          "AZ",
          "MN",
          "MT",
          "WA",
          "UT",
          "AK"
         ],
         "name": "",
         "type": "choropleth",
         "z": [
          11.230970370999236,
          11.123390637791173,
          11.00611655306279,
          10.498694937647022,
          10.285393888421643,
          10.264510185279967,
          10.162896110728884,
          9.729093096356086,
          9.623080816601991,
          9.46685878962536,
          9.106038251298141,
          9.018758120398441,
          8.79554682383759,
          8.747711461003295,
          8.591489557881149,
          8.288674425205791,
          8.264085106382979,
          8.015094936708861,
          7.90731921573731,
          7.859555583598868,
          7.365130077590141,
          7.350438047559449,
          7.329264247329663,
          7.323603537149732,
          7.210885817243049,
          7.1606034041931474,
          7.006066140499641,
          6.638265691958659,
          6.635172162564541,
          6.299691906542697,
          6.198608523333082,
          6.096035869142067,
          6.016247066875245,
          5.907804459691252,
          5.593918171206815,
          5.50957375766447,
          5.210643290999448,
          5.162575195965243,
          5.080683124166781,
          4.7267088068053,
          4.653284671532846,
          4.517954179471222,
          4.270281719974582,
          3.9585509501055673,
          3.799722171891043,
          3.7425384974335043,
          2.4185123813836684,
          2.2270298449107258,
          1.918535538012385,
          1.8921886992973962,
          1.8216336839191807,
          1.6151630970832747,
          1.3684947128343354
         ]
        }
       ],
       "layout": {
        "coloraxis": {
         "colorbar": {
          "title": {
           "text": "color"
          }
         },
         "colorscale": [
          [
           0,
           "#0d0887"
          ],
          [
           0.1111111111111111,
           "#46039f"
          ],
          [
           0.2222222222222222,
           "#7201a8"
          ],
          [
           0.3333333333333333,
           "#9c179e"
          ],
          [
           0.4444444444444444,
           "#bd3786"
          ],
          [
           0.5555555555555556,
           "#d8576b"
          ],
          [
           0.6666666666666666,
           "#ed7953"
          ],
          [
           0.7777777777777778,
           "#fb9f3a"
          ],
          [
           0.8888888888888888,
           "#fdca26"
          ],
          [
           1,
           "#f0f921"
          ]
         ]
        },
        "geo": {
         "center": {},
         "domain": {
          "x": [
           0,
           1
          ],
          "y": [
           0,
           1
          ]
         },
         "scope": "usa"
        },
        "legend": {
         "tracegroupgap": 0
        },
        "margin": {
         "t": 60
        },
        "template": {
         "data": {
          "bar": [
           {
            "error_x": {
             "color": "#2a3f5f"
            },
            "error_y": {
             "color": "#2a3f5f"
            },
            "marker": {
             "line": {
              "color": "#E5ECF6",
              "width": 0.5
             },
             "pattern": {
              "fillmode": "overlay",
              "size": 10,
              "solidity": 0.2
             }
            },
            "type": "bar"
           }
          ],
          "barpolar": [
           {
            "marker": {
             "line": {
              "color": "#E5ECF6",
              "width": 0.5
             },
             "pattern": {
              "fillmode": "overlay",
              "size": 10,
              "solidity": 0.2
             }
            },
            "type": "barpolar"
           }
          ],
          "carpet": [
           {
            "aaxis": {
             "endlinecolor": "#2a3f5f",
             "gridcolor": "white",
             "linecolor": "white",
             "minorgridcolor": "white",
             "startlinecolor": "#2a3f5f"
            },
            "baxis": {
             "endlinecolor": "#2a3f5f",
             "gridcolor": "white",
             "linecolor": "white",
             "minorgridcolor": "white",
             "startlinecolor": "#2a3f5f"
            },
            "type": "carpet"
           }
          ],
          "choropleth": [
           {
            "colorbar": {
             "outlinewidth": 0,
             "ticks": ""
            },
            "type": "choropleth"
           }
          ],
          "contour": [
           {
            "colorbar": {
             "outlinewidth": 0,
             "ticks": ""
            },
            "colorscale": [
             [
              0,
              "#0d0887"
             ],
             [
              0.1111111111111111,
              "#46039f"
             ],
             [
              0.2222222222222222,
              "#7201a8"
             ],
             [
              0.3333333333333333,
              "#9c179e"
             ],
             [
              0.4444444444444444,
              "#bd3786"
             ],
             [
              0.5555555555555556,
              "#d8576b"
             ],
             [
              0.6666666666666666,
              "#ed7953"
             ],
             [
              0.7777777777777778,
              "#fb9f3a"
             ],
             [
              0.8888888888888888,
              "#fdca26"
             ],
             [
              1,
              "#f0f921"
             ]
            ],
            "type": "contour"
           }
          ],
          "contourcarpet": [
           {
            "colorbar": {
             "outlinewidth": 0,
             "ticks": ""
            },
            "type": "contourcarpet"
           }
          ],
          "heatmap": [
           {
            "colorbar": {
             "outlinewidth": 0,
             "ticks": ""
            },
            "colorscale": [
             [
              0,
              "#0d0887"
             ],
             [
              0.1111111111111111,
              "#46039f"
             ],
             [
              0.2222222222222222,
              "#7201a8"
             ],
             [
              0.3333333333333333,
              "#9c179e"
             ],
             [
              0.4444444444444444,
              "#bd3786"
             ],
             [
              0.5555555555555556,
              "#d8576b"
             ],
             [
              0.6666666666666666,
              "#ed7953"
             ],
             [
              0.7777777777777778,
              "#fb9f3a"
             ],
             [
              0.8888888888888888,
              "#fdca26"
             ],
             [
              1,
              "#f0f921"
             ]
            ],
            "type": "heatmap"
           }
          ],
          "heatmapgl": [
           {
            "colorbar": {
             "outlinewidth": 0,
             "ticks": ""
            },
            "colorscale": [
             [
              0,
              "#0d0887"
             ],
             [
              0.1111111111111111,
              "#46039f"
             ],
             [
              0.2222222222222222,
              "#7201a8"
             ],
             [
              0.3333333333333333,
              "#9c179e"
             ],
             [
              0.4444444444444444,
              "#bd3786"
             ],
             [
              0.5555555555555556,
              "#d8576b"
             ],
             [
              0.6666666666666666,
              "#ed7953"
             ],
             [
              0.7777777777777778,
              "#fb9f3a"
             ],
             [
              0.8888888888888888,
              "#fdca26"
             ],
             [
              1,
              "#f0f921"
             ]
            ],
            "type": "heatmapgl"
           }
          ],
          "histogram": [
           {
            "marker": {
             "pattern": {
              "fillmode": "overlay",
              "size": 10,
              "solidity": 0.2
             }
            },
            "type": "histogram"
           }
          ],
          "histogram2d": [
           {
            "colorbar": {
             "outlinewidth": 0,
             "ticks": ""
            },
            "colorscale": [
             [
              0,
              "#0d0887"
             ],
             [
              0.1111111111111111,
              "#46039f"
             ],
             [
              0.2222222222222222,
              "#7201a8"
             ],
             [
              0.3333333333333333,
              "#9c179e"
             ],
             [
              0.4444444444444444,
              "#bd3786"
             ],
             [
              0.5555555555555556,
              "#d8576b"
             ],
             [
              0.6666666666666666,
              "#ed7953"
             ],
             [
              0.7777777777777778,
              "#fb9f3a"
             ],
             [
              0.8888888888888888,
              "#fdca26"
             ],
             [
              1,
              "#f0f921"
             ]
            ],
            "type": "histogram2d"
           }
          ],
          "histogram2dcontour": [
           {
            "colorbar": {
             "outlinewidth": 0,
             "ticks": ""
            },
            "colorscale": [
             [
              0,
              "#0d0887"
             ],
             [
              0.1111111111111111,
              "#46039f"
             ],
             [
              0.2222222222222222,
              "#7201a8"
             ],
             [
              0.3333333333333333,
              "#9c179e"
             ],
             [
              0.4444444444444444,
              "#bd3786"
             ],
             [
              0.5555555555555556,
              "#d8576b"
             ],
             [
              0.6666666666666666,
              "#ed7953"
             ],
             [
              0.7777777777777778,
              "#fb9f3a"
             ],
             [
              0.8888888888888888,
              "#fdca26"
             ],
             [
              1,
              "#f0f921"
             ]
            ],
            "type": "histogram2dcontour"
           }
          ],
          "mesh3d": [
           {
            "colorbar": {
             "outlinewidth": 0,
             "ticks": ""
            },
            "type": "mesh3d"
           }
          ],
          "parcoords": [
           {
            "line": {
             "colorbar": {
              "outlinewidth": 0,
              "ticks": ""
             }
            },
            "type": "parcoords"
           }
          ],
          "pie": [
           {
            "automargin": true,
            "type": "pie"
           }
          ],
          "scatter": [
           {
            "fillpattern": {
             "fillmode": "overlay",
             "size": 10,
             "solidity": 0.2
            },
            "type": "scatter"
           }
          ],
          "scatter3d": [
           {
            "line": {
             "colorbar": {
              "outlinewidth": 0,
              "ticks": ""
             }
            },
            "marker": {
             "colorbar": {
              "outlinewidth": 0,
              "ticks": ""
             }
            },
            "type": "scatter3d"
           }
          ],
          "scattercarpet": [
           {
            "marker": {
             "colorbar": {
              "outlinewidth": 0,
              "ticks": ""
             }
            },
            "type": "scattercarpet"
           }
          ],
          "scattergeo": [
           {
            "marker": {
             "colorbar": {
              "outlinewidth": 0,
              "ticks": ""
             }
            },
            "type": "scattergeo"
           }
          ],
          "scattergl": [
           {
            "marker": {
             "colorbar": {
              "outlinewidth": 0,
              "ticks": ""
             }
            },
            "type": "scattergl"
           }
          ],
          "scattermapbox": [
           {
            "marker": {
             "colorbar": {
              "outlinewidth": 0,
              "ticks": ""
             }
            },
            "type": "scattermapbox"
           }
          ],
          "scatterpolar": [
           {
            "marker": {
             "colorbar": {
              "outlinewidth": 0,
              "ticks": ""
             }
            },
            "type": "scatterpolar"
           }
          ],
          "scatterpolargl": [
           {
            "marker": {
             "colorbar": {
              "outlinewidth": 0,
              "ticks": ""
             }
            },
            "type": "scatterpolargl"
           }
          ],
          "scatterternary": [
           {
            "marker": {
             "colorbar": {
              "outlinewidth": 0,
              "ticks": ""
             }
            },
            "type": "scatterternary"
           }
          ],
          "surface": [
           {
            "colorbar": {
             "outlinewidth": 0,
             "ticks": ""
            },
            "colorscale": [
             [
              0,
              "#0d0887"
             ],
             [
              0.1111111111111111,
              "#46039f"
             ],
             [
              0.2222222222222222,
              "#7201a8"
             ],
             [
              0.3333333333333333,
              "#9c179e"
             ],
             [
              0.4444444444444444,
              "#bd3786"
             ],
             [
              0.5555555555555556,
              "#d8576b"
             ],
             [
              0.6666666666666666,
              "#ed7953"
             ],
             [
              0.7777777777777778,
              "#fb9f3a"
             ],
             [
              0.8888888888888888,
              "#fdca26"
             ],
             [
              1,
              "#f0f921"
             ]
            ],
            "type": "surface"
           }
          ],
          "table": [
           {
            "cells": {
             "fill": {
              "color": "#EBF0F8"
             },
             "line": {
              "color": "white"
             }
            },
            "header": {
             "fill": {
              "color": "#C8D4E3"
             },
             "line": {
              "color": "white"
             }
            },
            "type": "table"
           }
          ]
         },
         "layout": {
          "annotationdefaults": {
           "arrowcolor": "#2a3f5f",
           "arrowhead": 0,
           "arrowwidth": 1
          },
          "autotypenumbers": "strict",
          "coloraxis": {
           "colorbar": {
            "outlinewidth": 0,
            "ticks": ""
           }
          },
          "colorscale": {
           "diverging": [
            [
             0,
             "#8e0152"
            ],
            [
             0.1,
             "#c51b7d"
            ],
            [
             0.2,
             "#de77ae"
            ],
            [
             0.3,
             "#f1b6da"
            ],
            [
             0.4,
             "#fde0ef"
            ],
            [
             0.5,
             "#f7f7f7"
            ],
            [
             0.6,
             "#e6f5d0"
            ],
            [
             0.7,
             "#b8e186"
            ],
            [
             0.8,
             "#7fbc41"
            ],
            [
             0.9,
             "#4d9221"
            ],
            [
             1,
             "#276419"
            ]
           ],
           "sequential": [
            [
             0,
             "#0d0887"
            ],
            [
             0.1111111111111111,
             "#46039f"
            ],
            [
             0.2222222222222222,
             "#7201a8"
            ],
            [
             0.3333333333333333,
             "#9c179e"
            ],
            [
             0.4444444444444444,
             "#bd3786"
            ],
            [
             0.5555555555555556,
             "#d8576b"
            ],
            [
             0.6666666666666666,
             "#ed7953"
            ],
            [
             0.7777777777777778,
             "#fb9f3a"
            ],
            [
             0.8888888888888888,
             "#fdca26"
            ],
            [
             1,
             "#f0f921"
            ]
           ],
           "sequentialminus": [
            [
             0,
             "#0d0887"
            ],
            [
             0.1111111111111111,
             "#46039f"
            ],
            [
             0.2222222222222222,
             "#7201a8"
            ],
            [
             0.3333333333333333,
             "#9c179e"
            ],
            [
             0.4444444444444444,
             "#bd3786"
            ],
            [
             0.5555555555555556,
             "#d8576b"
            ],
            [
             0.6666666666666666,
             "#ed7953"
            ],
            [
             0.7777777777777778,
             "#fb9f3a"
            ],
            [
             0.8888888888888888,
             "#fdca26"
            ],
            [
             1,
             "#f0f921"
            ]
           ]
          },
          "colorway": [
           "#636efa",
           "#EF553B",
           "#00cc96",
           "#ab63fa",
           "#FFA15A",
           "#19d3f3",
           "#FF6692",
           "#B6E880",
           "#FF97FF",
           "#FECB52"
          ],
          "font": {
           "color": "#2a3f5f"
          },
          "geo": {
           "bgcolor": "white",
           "lakecolor": "white",
           "landcolor": "#E5ECF6",
           "showlakes": true,
           "showland": true,
           "subunitcolor": "white"
          },
          "hoverlabel": {
           "align": "left"
          },
          "hovermode": "closest",
          "mapbox": {
           "style": "light"
          },
          "paper_bgcolor": "white",
          "plot_bgcolor": "#E5ECF6",
          "polar": {
           "angularaxis": {
            "gridcolor": "white",
            "linecolor": "white",
            "ticks": ""
           },
           "bgcolor": "#E5ECF6",
           "radialaxis": {
            "gridcolor": "white",
            "linecolor": "white",
            "ticks": ""
           }
          },
          "scene": {
           "xaxis": {
            "backgroundcolor": "#E5ECF6",
            "gridcolor": "white",
            "gridwidth": 2,
            "linecolor": "white",
            "showbackground": true,
            "ticks": "",
            "zerolinecolor": "white"
           },
           "yaxis": {
            "backgroundcolor": "#E5ECF6",
            "gridcolor": "white",
            "gridwidth": 2,
            "linecolor": "white",
            "showbackground": true,
            "ticks": "",
            "zerolinecolor": "white"
           },
           "zaxis": {
            "backgroundcolor": "#E5ECF6",
            "gridcolor": "white",
            "gridwidth": 2,
            "linecolor": "white",
            "showbackground": true,
            "ticks": "",
            "zerolinecolor": "white"
           }
          },
          "shapedefaults": {
           "line": {
            "color": "#2a3f5f"
           }
          },
          "ternary": {
           "aaxis": {
            "gridcolor": "white",
            "linecolor": "white",
            "ticks": ""
           },
           "baxis": {
            "gridcolor": "white",
            "linecolor": "white",
            "ticks": ""
           },
           "bgcolor": "#E5ECF6",
           "caxis": {
            "gridcolor": "white",
            "linecolor": "white",
            "ticks": ""
           }
          },
          "title": {
           "x": 0.05
          },
          "xaxis": {
           "automargin": true,
           "gridcolor": "white",
           "linecolor": "white",
           "ticks": "",
           "title": {
            "standoff": 15
           },
           "zerolinecolor": "white",
           "zerolinewidth": 2
          },
          "yaxis": {
           "automargin": true,
           "gridcolor": "white",
           "linecolor": "white",
           "ticks": "",
           "title": {
            "standoff": 15
           },
           "zerolinecolor": "white",
           "zerolinewidth": 2
          }
         }
        }
       }
      }
     },
     "metadata": {},
     "output_type": "display_data"
    }
   ],
   "source": [
    "\n",
    "# get avg arrival delay by state origin\n",
    "def avg_delay_state_dest(df):\n",
    "    df_aggregated = df.groupBy(\"DEST_STATE\").agg({\"ArrDelay\": \"avg\"}).withColumnRenamed(\"avg(ArrDelay)\", \"AverageArrivalDelay\")\n",
    "    df_aggregated = df_aggregated.orderBy(\"AverageArrivalDelay\", ascending=False)\n",
    "    return df_aggregated    \n",
    "\n",
    "\n",
    "def plot_avg_delay_state_dest(df):\n",
    "    df_avg = avg_delay_state_dest(df).toPandas()\n",
    "    # drop row with AS in ORIGIN_STATE\n",
    "    df_avg = df_avg.drop(df_avg[df_avg[\"DEST_STATE\"] == \"AS\"].index)\n",
    "    df_avg = df_avg.drop(df_avg[df_avg[\"DEST_STATE\"] == \"GU\"].index)\n",
    "\n",
    "    fig = px.choropleth(locations=df_avg[\"DEST_STATE\"], locationmode=\"USA-states\", color=df_avg[\"AverageArrivalDelay\"], scope=\"usa\")\n",
    "    return fig\n",
    "\n",
    "plot_avg_delay_state_dest(df).show()"
   ]
  }
 ],
 "metadata": {
  "kernelspec": {
   "display_name": "Python 3.10.7 64-bit",
   "language": "python",
   "name": "python3"
  },
  "language_info": {
   "codemirror_mode": {
    "name": "ipython",
    "version": 3
   },
   "file_extension": ".py",
   "mimetype": "text/x-python",
   "name": "python",
   "nbconvert_exporter": "python",
   "pygments_lexer": "ipython3",
   "version": "3.10.7"
  },
  "orig_nbformat": 4,
  "vscode": {
   "interpreter": {
    "hash": "b0fa6594d8f4cbf19f97940f81e996739fb7646882a419484c72d19e05852a7e"
   }
  }
 },
 "nbformat": 4,
 "nbformat_minor": 2
}
