{
 "cells": [
  {
   "cell_type": "code",
   "execution_count": 1,
   "metadata": {},
   "outputs": [],
   "source": [
    "import plotly.express as px\n",
    "import plotly.graph_objs as go\n",
    "import pandas as pd\n",
    "import numpy as np\n",
    "from pyspark.sql import SparkSession\n",
    "from pyspark.sql.functions import *\n",
    "from plotly.subplots import make_subplots\n",
    "import plotly.offline as py\n"
   ]
  },
  {
   "cell_type": "code",
   "execution_count": 2,
   "metadata": {},
   "outputs": [
    {
     "name": "stdout",
     "output_type": "stream",
     "text": [
      "22/12/24 23:53:20 WARN Utils: Your hostname, MacBook-Air-di-Teodoro.local resolves to a loopback address: 127.0.0.1; using 192.168.1.156 instead (on interface en0)\n",
      "22/12/24 23:53:20 WARN Utils: Set SPARK_LOCAL_IP if you need to bind to another address\n"
     ]
    },
    {
     "name": "stderr",
     "output_type": "stream",
     "text": [
      "Setting default log level to \"WARN\".\n",
      "To adjust logging level use sc.setLogLevel(newLevel). For SparkR, use setLogLevel(newLevel).\n"
     ]
    },
    {
     "name": "stdout",
     "output_type": "stream",
     "text": [
      "22/12/24 23:53:21 WARN NativeCodeLoader: Unable to load native-hadoop library for your platform... using builtin-java classes where applicable\n"
     ]
    }
   ],
   "source": [
    "spark = SparkSession.builder.appName(\"flights\").getOrCreate()\n",
    "import json\n",
    "from pyspark.sql.types import StructType, StructField, StringType, IntegerType, DoubleType, DateType, TimestampType\n",
    "with open(\"../matrix/schema.json\",\"r\") as f:\n",
    "    schema = StructType.fromJson(json.load(f))"
   ]
  },
  {
   "cell_type": "code",
   "execution_count": 3,
   "metadata": {},
   "outputs": [],
   "source": [
    "df = spark.read.csv(\"../../data.nosync/cleaned/cleaned_flights.csv\",schema=schema, header=True)"
   ]
  },
  {
   "cell_type": "code",
   "execution_count": 4,
   "metadata": {},
   "outputs": [],
   "source": [
    "airports_sp = spark.read.csv(\"../../preprocessing/airports.csv\", header=True,inferSchema=True)\n",
    "airports = airports_sp.toPandas()"
   ]
  },
  {
   "cell_type": "code",
   "execution_count": 5,
   "metadata": {},
   "outputs": [],
   "source": [
    "def routes_queries(df,date_start,date_end,origin=\"BOS\",query=\"NumFlights\"):\n",
    "    df_aggregated = df.filter((col(\"Origin\") == origin))\n",
    "    df_aggregated = df_aggregated.filter((col(\"FlightDate\") >= date_start) & (col(\"FlightDate\") <= date_end))\n",
    "    # aggregate by flight date, day of weew, Origin and Dest, count the number of flights and average the arrival delay\n",
    "    df_aggregated = df_aggregated.groupBy(\"Origin\",\"Dest\",\"ORIGIN_LATITUDE\",\"ORIGIN_LONGITUDE\",\"DEST_LATITUDE\",\"DEST_LONGITUDE\").agg({\"ArrDelay\": \"avg\",\"*\":\"count\"}).withColumnRenamed(\"avg(ArrDelay)\", \"AverageArrivalDelay\").withColumnRenamed(\"count(1)\", \"NumFlights\")\n",
    "    # sort by query and take the first 100 rows\n",
    "    df_aggregated = df_aggregated.orderBy(df_aggregated[query].desc()).limit(100)\n",
    "    return df_aggregated"
   ]
  },
  {
   "cell_type": "code",
   "execution_count": 6,
   "metadata": {},
   "outputs": [],
   "source": [
    "# create a timestamp object from the string\n",
    "date_start = \"2013-02-01\"\n",
    "date_end = \"2013-12-28\"\n",
    "# convert the string to a timestamp object\n",
    "date_start = pd.Timestamp(date_start)\n",
    "date_end = pd.Timestamp(date_end)\n"
   ]
  },
  {
   "cell_type": "code",
   "execution_count": 7,
   "metadata": {},
   "outputs": [],
   "source": [
    "df_aggregatedp = routes_queries(df,date_start,date_end)\n",
    "#show on map the routes\n"
   ]
  },
  {
   "cell_type": "code",
   "execution_count": 106,
   "metadata": {},
   "outputs": [
    {
     "name": "stderr",
     "output_type": "stream",
     "text": [
      "                                                                                \r"
     ]
    }
   ],
   "source": [
    "df_aggregatedp=df_aggregatedp.toPandas()"
   ]
  },
  {
   "cell_type": "code",
   "execution_count": 107,
   "metadata": {},
   "outputs": [],
   "source": [
    "# join the airports dataframe with the aggregated dataframe compare with Origin and Dest\n",
    "df_aggregatedp = df_aggregatedp.merge(airports, left_on=\"Origin\", right_on=\"IATA\")\n",
    "df_aggregatedp = df_aggregatedp.merge(airports, left_on=\"Dest\", right_on=\"IATA\")\n"
   ]
  },
  {
   "cell_type": "code",
   "execution_count": 108,
   "metadata": {},
   "outputs": [],
   "source": [
    "df_aggregated = df_aggregatedp.sort_values(by=\"AverageArrivalDelay\", ascending=False).head(100)"
   ]
  },
  {
   "cell_type": "code",
   "execution_count": 112,
   "metadata": {},
   "outputs": [],
   "source": [
    "df_aggregated[\"AverageArrivalDelay\"] = df_aggregated[\"AverageArrivalDelay\"]+ df_aggregated[\"AverageArrivalDelay\"].min()*-1"
   ]
  },
  {
   "cell_type": "code",
   "execution_count": 113,
   "metadata": {},
   "outputs": [
    {
     "data": {
      "text/plain": [
       "0.0"
      ]
     },
     "execution_count": 113,
     "metadata": {},
     "output_type": "execute_result"
    }
   ],
   "source": [
    "df_aggregated[\"AverageArrivalDelay\"].min()"
   ]
  },
  {
   "cell_type": "code",
   "execution_count": 8,
   "metadata": {},
   "outputs": [
    {
     "ename": "NameError",
     "evalue": "name 'df_aggregated' is not defined",
     "output_type": "error",
     "traceback": [
      "\u001b[0;31m---------------------------------------------------------------------------\u001b[0m",
      "\u001b[0;31mNameError\u001b[0m                                 Traceback (most recent call last)",
      "\u001b[1;32m/Users/teodorosullazzo/Documents/git_repos/Progetto_Big_Data_22_23/tests/app_tests/plot.ipynb Cella 13\u001b[0m in \u001b[0;36m<cell line: 6>\u001b[0;34m()\u001b[0m\n\u001b[1;32m      <a href='vscode-notebook-cell:/Users/teodorosullazzo/Documents/git_repos/Progetto_Big_Data_22_23/tests/app_tests/plot.ipynb#ch0000012?line=2'>3</a>\u001b[0m query \u001b[39m=\u001b[39m \u001b[39m\"\u001b[39m\u001b[39mNumber of flights: \u001b[39m\u001b[39m\"\u001b[39m\n\u001b[1;32m      <a href='vscode-notebook-cell:/Users/teodorosullazzo/Documents/git_repos/Progetto_Big_Data_22_23/tests/app_tests/plot.ipynb#ch0000012?line=4'>5</a>\u001b[0m \u001b[39m# only get the first 100 in order of number of flights\u001b[39;00m\n\u001b[0;32m----> <a href='vscode-notebook-cell:/Users/teodorosullazzo/Documents/git_repos/Progetto_Big_Data_22_23/tests/app_tests/plot.ipynb#ch0000012?line=5'>6</a>\u001b[0m df_aggregated \u001b[39m=\u001b[39m df_aggregated\u001b[39m.\u001b[39msort_values(by\u001b[39m=\u001b[39m\u001b[39m\"\u001b[39m\u001b[39mNumFlights\u001b[39m\u001b[39m\"\u001b[39m, ascending\u001b[39m=\u001b[39m\u001b[39mFalse\u001b[39;00m)\u001b[39m.\u001b[39mhead(\u001b[39m200\u001b[39m)\n\u001b[1;32m      <a href='vscode-notebook-cell:/Users/teodorosullazzo/Documents/git_repos/Progetto_Big_Data_22_23/tests/app_tests/plot.ipynb#ch0000012?line=7'>8</a>\u001b[0m source_to_dest \u001b[39m=\u001b[39m \u001b[39mzip\u001b[39m(df_aggregated[\u001b[39m\"\u001b[39m\u001b[39mORIGIN_LATITUDE\u001b[39m\u001b[39m\"\u001b[39m], df_aggregated[\u001b[39m\"\u001b[39m\u001b[39mDEST_LATITUDE\u001b[39m\u001b[39m\"\u001b[39m],\n\u001b[1;32m      <a href='vscode-notebook-cell:/Users/teodorosullazzo/Documents/git_repos/Progetto_Big_Data_22_23/tests/app_tests/plot.ipynb#ch0000012?line=8'>9</a>\u001b[0m                      df_aggregated[\u001b[39m\"\u001b[39m\u001b[39mORIGIN_LONGITUDE\u001b[39m\u001b[39m\"\u001b[39m], df_aggregated[\u001b[39m\"\u001b[39m\u001b[39mDEST_LONGITUDE\u001b[39m\u001b[39m\"\u001b[39m],\n\u001b[1;32m     <a href='vscode-notebook-cell:/Users/teodorosullazzo/Documents/git_repos/Progetto_Big_Data_22_23/tests/app_tests/plot.ipynb#ch0000012?line=9'>10</a>\u001b[0m                      df_aggregated[\u001b[39m\"\u001b[39m\u001b[39mNumFlights\u001b[39m\u001b[39m\"\u001b[39m])\n\u001b[1;32m     <a href='vscode-notebook-cell:/Users/teodorosullazzo/Documents/git_repos/Progetto_Big_Data_22_23/tests/app_tests/plot.ipynb#ch0000012?line=11'>12</a>\u001b[0m \u001b[39m# get the max of the number of flights to scale the width of the lines\u001b[39;00m\n",
      "\u001b[0;31mNameError\u001b[0m: name 'df_aggregated' is not defined"
     ]
    }
   ],
   "source": [
    "\n",
    "fig = go.Figure()\n",
    "\n",
    "query = \"Number of flights: \"\n",
    "\n",
    "# only get the first 100 in order of number of flights\n",
    "df_aggregated = df_aggregated.sort_values(by=\"NumFlights\", ascending=False).head(200)\n",
    "\n",
    "source_to_dest = zip(df_aggregated[\"ORIGIN_LATITUDE\"], df_aggregated[\"DEST_LATITUDE\"],\n",
    "                     df_aggregated[\"ORIGIN_LONGITUDE\"], df_aggregated[\"DEST_LONGITUDE\"],\n",
    "                     df_aggregated[\"NumFlights\"])\n",
    "\n",
    "# get the max of the number of flights to scale the width of the lines\n",
    "max_flights = df_aggregated[\"NumFlights\"].max()\n",
    "\n",
    "## Loop thorugh each flight entry to add line between source and destination\n",
    "for slat,dlat, slon, dlon, num_flights in source_to_dest:\n",
    "    fig.add_trace(go.Scattergeo(\n",
    "                        lat = [slat,dlat],\n",
    "                        lon = [slon, dlon],\n",
    "                        mode = 'lines',\n",
    "                        line = dict(width = (num_flights/max_flights)*7, color=\"red\"),\n",
    "                        hoverinfo='text',\n",
    "                        text = query+\" \"+str(num_flights)\n",
    "                        ))\n",
    "\n",
    "## Logic to create labels of source and destination cities of flights\n",
    "cities = df_aggregated[\"AIRPORT_x\"].values.tolist()+df_aggregated[\"AIRPORT_y\"].values.tolist()\n",
    "scatter_hover_data = [city for city in cities]\n",
    "\n",
    "## Loop thorugh each flight entry to plot source and destination as points.\n",
    "fig.add_trace(\n",
    "    go.Scattergeo(\n",
    "                lon = df_aggregated[\"ORIGIN_LONGITUDE\"].values.tolist()+df_aggregated[\"DEST_LONGITUDE\"].values.tolist(),\n",
    "                lat = df_aggregated[\"ORIGIN_LATITUDE\"].values.tolist()+df_aggregated[\"DEST_LATITUDE\"].values.tolist(),\n",
    "                hoverinfo = 'text',\n",
    "                text = scatter_hover_data,\n",
    "                mode = 'markers',\n",
    "                marker = dict(size = 10, color = 'blue', opacity=0.1)),\n",
    "                # define the size of the marker based on the number of flights\n",
    "                #     \n",
    "    )\n",
    "\n",
    "## Update graph layout to improve graph styling.\n",
    "fig.update_layout(title_text=\"Connection Map Depicting Flights from Brazil to All Other Countries\",\n",
    "                  height=700, width=900,\n",
    "                  margin={\"t\":0,\"b\":0,\"l\":0, \"r\":0, \"pad\":0},\n",
    "                  showlegend=False,\n",
    "                  geo= dict(showland = True, landcolor = 'white', countrycolor = 'grey', bgcolor=\"lightgrey\",scope='north america'))\n",
    "\n",
    "fig.show()"
   ]
  },
  {
   "cell_type": "code",
   "execution_count": 9,
   "metadata": {},
   "outputs": [],
   "source": [
    "def plot_routes(df,date_start,date_to,origin=\"BOS\",query=\"NumFlights\"):\n",
    "    df_aggregated=routes_queries(df,date_start,date_to,origin,query).toPandas()\n",
    "    print(len(df_aggregated))\n",
    "    df_aggregated = df_aggregated.merge(airports, left_on=\"Origin\", right_on=\"IATA\")\n",
    "    df_aggregated = df_aggregated.merge(airports, left_on=\"Dest\", right_on=\"IATA\")\n",
    "\n",
    "    \n",
    "    \n",
    "    fig = go.Figure()\n",
    "    \n",
    "    if query == \"AverageArrivalDelay\":\n",
    "        df_aggregated[query] = df_aggregated[query] + df_aggregated[query].min()*-1\n",
    "\n",
    "    \n",
    "    df_aggregated[query]=df_aggregated[query]/df_aggregated[query].max()\n",
    "\n",
    "\n",
    "    source_to_dest = zip(df_aggregated[\"ORIGIN_LATITUDE\"], df_aggregated[\"DEST_LATITUDE\"],\n",
    "                         df_aggregated[\"ORIGIN_LONGITUDE\"], df_aggregated[\"DEST_LONGITUDE\"],\n",
    "                         df_aggregated[query])\n",
    "\n",
    "    ## Loop thorugh each flight entry to add line between source and destination\n",
    "    for slat,dlat, slon, dlon, num_flights in source_to_dest:\n",
    "        fig.add_trace(go.Scattergeo(\n",
    "                            lat = [slat,dlat],\n",
    "                            lon = [slon, dlon],\n",
    "                            mode = 'lines',\n",
    "                            line = dict(width = (num_flights)*7, color=\"red\"),\n",
    "                            hoverinfo='text',\n",
    "                            text = query+\" \"+str(num_flights)\n",
    "                            ))\n",
    "\n",
    "    ## Logic to create labels of source and destination cities of flights\n",
    "    cities = df_aggregated[\"AIRPORT_x\"].values.tolist()+df_aggregated[\"AIRPORT_y\"].values.tolist()\n",
    "    scatter_hover_data = [city for city in cities]\n",
    "\n",
    "    ## Loop thorugh each flight entry to plot source and destination as points.\n",
    "    fig.add_trace(\n",
    "        go.Scattergeo(\n",
    "                    lon = df_aggregated[\"ORIGIN_LONGITUDE\"].values.tolist()+df_aggregated[\"DEST_LONGITUDE\"].values.tolist(),\n",
    "                    lat = df_aggregated[\"ORIGIN_LATITUDE\"].values.tolist()+df_aggregated[\"DEST_LATITUDE\"].values.tolist(),\n",
    "                    hoverinfo = 'text',\n",
    "                    text = scatter_hover_data,\n",
    "                    mode = 'markers',\n",
    "                    marker = dict(size = 10, color = 'blue', opacity=0.1)),\n",
    "                    # define the size of the marker based on the number of flights\n",
    "                    #     \n",
    "        )\n",
    "\n",
    "    ## Update graph layout to improve graph styling.\n",
    "    fig.update_layout(title_text=\"Connection Map Depicting Flights from Brazil to All Other Countries\",\n",
    "                      height=700, width=900,\n",
    "                      margin={\"t\":0,\"b\":0,\"l\":0, \"r\":0, \"pad\":0},\n",
    "                      showlegend=False,\n",
    "                      geo= dict(showland = True, landcolor = 'white', countrycolor = 'grey', bgcolor=\"lightgrey\",scope='north america'))\n",
    "\n",
    "    return fig"
   ]
  },
  {
   "cell_type": "code",
   "execution_count": 11,
   "metadata": {},
   "outputs": [
    {
     "name": "stderr",
     "output_type": "stream",
     "text": [
      "                                                                                \r"
     ]
    },
    {
     "name": "stdout",
     "output_type": "stream",
     "text": [
      "58\n"
     ]
    },
    {
     "data": {
      "application/vnd.plotly.v1+json": {
       "config": {
        "plotlyServerURL": "https://plot.ly"
       },
       "data": [
        {
         "hoverinfo": "text",
         "lat": [
          42.3643475,
          38.85208333
         ],
         "line": {
          "color": "red",
          "width": 7
         },
         "lon": [
          -71.00517917,
          -77.03772222
         ],
         "mode": "lines",
         "text": "NumFlights 1.0",
         "type": "scattergeo"
        },
        {
         "hoverinfo": "text",
         "lat": [
          42.3643475,
          41.979595
         ],
         "line": {
          "color": "red",
          "width": 5.93189323059989
         },
         "lon": [
          -71.00517917,
          -87.90446417
         ],
         "mode": "lines",
         "text": "NumFlights 0.8474133186571271",
         "type": "scattergeo"
        },
        {
         "hoverinfo": "text",
         "lat": [
          42.3643475,
          39.87195278
         ],
         "line": {
          "color": "red",
          "width": 5.324160704457897
         },
         "lon": [
          -71.00517917,
          -75.24114083
         ],
         "mode": "lines",
         "text": "NumFlights 0.7605943863511282",
         "type": "scattergeo"
        },
        {
         "hoverinfo": "text",
         "lat": [
          42.3643475,
          40.63975111
         ],
         "line": {
          "color": "red",
          "width": 5.046780407264722
         },
         "lon": [
          -71.00517917,
          -73.77892556
         ],
         "mode": "lines",
         "text": "NumFlights 0.720968629609246",
         "type": "scattergeo"
        },
        {
         "hoverinfo": "text",
         "lat": [
          42.3643475,
          39.17540167
         ],
         "line": {
          "color": "red",
          "width": 4.925426527242708
         },
         "lon": [
          -71.00517917,
          -76.66819833
         ],
         "mode": "lines",
         "text": "NumFlights 0.7036323610346725",
         "type": "scattergeo"
        },
        {
         "hoverinfo": "text",
         "lat": [
          42.3643475,
          33.64044444
         ],
         "line": {
          "color": "red",
          "width": 4.790588882773803
         },
         "lon": [
          -71.00517917,
          -84.42694444
         ],
         "mode": "lines",
         "text": "NumFlights 0.6843698403962576",
         "type": "scattergeo"
        },
        {
         "hoverinfo": "text",
         "lat": [
          42.3643475,
          40.69249722
         ],
         "line": {
          "color": "red",
          "width": 4.616263070996148
         },
         "lon": [
          -71.00517917,
          -74.16866056
         ],
         "mode": "lines",
         "text": "NumFlights 0.6594661529994497",
         "type": "scattergeo"
        },
        {
         "hoverinfo": "text",
         "lat": [
          42.3643475,
          40.77724306
         ],
         "line": {
          "color": "red",
          "width": 3.5539350577875624
         },
         "lon": [
          -71.00517917,
          -73.87260917
         ],
         "mode": "lines",
         "text": "NumFlights 0.507705008255366",
         "type": "scattergeo"
        },
        {
         "hoverinfo": "text",
         "lat": [
          42.3643475,
          37.61900194
         ],
         "line": {
          "color": "red",
          "width": 3.5433406714364337
         },
         "lon": [
          -71.00517917,
          -122.3748433
         ],
         "mode": "lines",
         "text": "NumFlights 0.5061915244909191",
         "type": "scattergeo"
        },
        {
         "hoverinfo": "text",
         "lat": [
          42.3643475,
          32.89595056
         ],
         "line": {
          "color": "red",
          "width": 3.395982388552559
         },
         "lon": [
          -71.00517917,
          -97.0372
         ],
         "mode": "lines",
         "text": "NumFlights 0.48514034122179417",
         "type": "scattergeo"
        },
        {
         "hoverinfo": "text",
         "lat": [
          42.3643475,
          35.21401111
         ],
         "line": {
          "color": "red",
          "width": 3.3805723720418275
         },
         "lon": [
          -71.00517917,
          -80.94312583
         ],
         "mode": "lines",
         "text": "NumFlights 0.4829389102916896",
         "type": "scattergeo"
        },
        {
         "hoverinfo": "text",
         "lat": [
          42.3643475,
          33.94253611
         ],
         "line": {
          "color": "red",
          "width": 3.166758392955421
         },
         "lon": [
          -71.00517917,
          -118.4080744
         ],
         "mode": "lines",
         "text": "NumFlights 0.4523940561364887",
         "type": "scattergeo"
        },
        {
         "hoverinfo": "text",
         "lat": [
          42.3643475,
          28.42888889
         ],
         "line": {
          "color": "red",
          "width": 2.9847275729223997
         },
         "lon": [
          -71.00517917,
          -81.31602778
         ],
         "mode": "lines",
         "text": "NumFlights 0.4263896532746285",
         "type": "scattergeo"
        },
        {
         "hoverinfo": "text",
         "lat": [
          42.3643475,
          35.87763889
         ],
         "line": {
          "color": "red",
          "width": 2.7863236103467255
         },
         "lon": [
          -71.00517917,
          -78.78747222
         ],
         "mode": "lines",
         "text": "NumFlights 0.3980462300495322",
         "type": "scattergeo"
        },
        {
         "hoverinfo": "text",
         "lat": [
          42.3643475,
          38.94453194
         ],
         "line": {
          "color": "red",
          "width": 2.4887176664832142
         },
         "lon": [
          -71.00517917,
          -77.45580972
         ],
         "mode": "lines",
         "text": "NumFlights 0.35553109521188775",
         "type": "scattergeo"
        },
        {
         "hoverinfo": "text",
         "lat": [
          42.3643475,
          25.79325
         ],
         "line": {
          "color": "red",
          "width": 2.2026692350027517
         },
         "lon": [
          -71.00517917,
          -80.29055556
         ],
         "mode": "lines",
         "text": "NumFlights 0.3146670335718217",
         "type": "scattergeo"
        },
        {
         "hoverinfo": "text",
         "lat": [
          42.3643475,
          39.85840806
         ],
         "line": {
          "color": "red",
          "width": 2.1737754540451295
         },
         "lon": [
          -71.00517917,
          -104.6670019
         ],
         "mode": "lines",
         "text": "NumFlights 0.31053935057787563",
         "type": "scattergeo"
        },
        {
         "hoverinfo": "text",
         "lat": [
          42.3643475,
          42.21205889
         ],
         "line": {
          "color": "red",
          "width": 2.0129334067143643
         },
         "lon": [
          -71.00517917,
          -83.34883583
         ],
         "mode": "lines",
         "text": "NumFlights 0.2875619152449092",
         "type": "scattergeo"
        },
        {
         "hoverinfo": "text",
         "lat": [
          42.3643475,
          26.07258333
         ],
         "line": {
          "color": "red",
          "width": 1.8309025866813429
         },
         "lon": [
          -71.00517917,
          -80.15275
         ],
         "mode": "lines",
         "text": "NumFlights 0.261557512383049",
         "type": "scattergeo"
        },
        {
         "hoverinfo": "text",
         "lat": [
          42.3643475,
          29.98047222
         ],
         "line": {
          "color": "red",
          "width": 1.6045679691799668
         },
         "lon": [
          -71.00517917,
          -95.33972222
         ],
         "mode": "lines",
         "text": "NumFlights 0.22922399559713813",
         "type": "scattergeo"
        },
        {
         "hoverinfo": "text",
         "lat": [
          42.3643475,
          44.88054694
         ],
         "line": {
          "color": "red",
          "width": 1.5024766097963675
         },
         "lon": [
          -71.00517917,
          -93.2169225
         ],
         "mode": "lines",
         "text": "NumFlights 0.21463951568519538",
         "type": "scattergeo"
        },
        {
         "hoverinfo": "text",
         "lat": [
          42.3643475,
          26.53616667
         ],
         "line": {
          "color": "red",
          "width": 1.4427627958172813
         },
         "lon": [
          -71.00517917,
          -81.75516667
         ],
         "mode": "lines",
         "text": "NumFlights 0.20610897083104018",
         "type": "scattergeo"
        },
        {
         "hoverinfo": "text",
         "lat": [
          42.3643475,
          41.7859825
         ],
         "line": {
          "color": "red",
          "width": 1.4186846450192627
         },
         "lon": [
          -71.00517917,
          -87.75242444
         ],
         "mode": "lines",
         "text": "NumFlights 0.2026692350027518",
         "type": "scattergeo"
        },
        {
         "hoverinfo": "text",
         "lat": [
          42.3643475,
          42.94052472
         ],
         "line": {
          "color": "red",
          "width": 1.2819207484865163
         },
         "lon": [
          -71.00517917,
          -78.73216667
         ],
         "mode": "lines",
         "text": "NumFlights 0.18313153549807376",
         "type": "scattergeo"
        },
        {
         "hoverinfo": "text",
         "lat": [
          42.3643475,
          33.43416667
         ],
         "line": {
          "color": "red",
          "width": 1.2453219592735278
         },
         "lon": [
          -71.00517917,
          -112.0080556
         ],
         "mode": "lines",
         "text": "NumFlights 0.1779031370390754",
         "type": "scattergeo"
        },
        {
         "hoverinfo": "text",
         "lat": [
          42.3643475,
          47.44898194
         ],
         "line": {
          "color": "red",
          "width": 1.2424325811777657
         },
         "lon": [
          -71.00517917,
          -122.3093131
         ],
         "mode": "lines",
         "text": "NumFlights 0.1774903687396808",
         "type": "scattergeo"
        },
        {
         "hoverinfo": "text",
         "lat": [
          42.3643475,
          26.68316194
         ],
         "line": {
          "color": "red",
          "width": 1.1095211887727021
         },
         "lon": [
          -71.00517917,
          -80.09559417
         ],
         "mode": "lines",
         "text": "NumFlights 0.15850302696752888",
         "type": "scattergeo"
        },
        {
         "hoverinfo": "text",
         "lat": [
          42.3643475,
          27.97547222
         ],
         "line": {
          "color": "red",
          "width": 1.10663181067694
         },
         "lon": [
          -71.00517917,
          -82.53325
         ],
         "mode": "lines",
         "text": "NumFlights 0.15809025866813428",
         "type": "scattergeo"
        },
        {
         "hoverinfo": "text",
         "lat": [
          42.3643475,
          40.49146583
         ],
         "line": {
          "color": "red",
          "width": 1.053659878921299
         },
         "lon": [
          -71.00517917,
          -80.23287083
         ],
         "mode": "lines",
         "text": "NumFlights 0.15052283984589984",
         "type": "scattergeo"
        },
        {
         "hoverinfo": "text",
         "lat": [
          42.3643475,
          39.04614278
         ],
         "line": {
          "color": "red",
          "width": 1.052696752889378
         },
         "lon": [
          -71.00517917,
          -84.6621725
         ],
         "mode": "lines",
         "text": "NumFlights 0.1503852504127683",
         "type": "scattergeo"
        },
        {
         "hoverinfo": "text",
         "lat": [
          42.3643475,
          18.43941667
         ],
         "line": {
          "color": "red",
          "width": 0.9332691249312053
         },
         "lon": [
          -71.00517917,
          -66.00183333
         ],
         "mode": "lines",
         "text": "NumFlights 0.1333241607044579",
         "type": "scattergeo"
        },
        {
         "hoverinfo": "text",
         "lat": [
          42.3643475,
          37.50516667
         ],
         "line": {
          "color": "red",
          "width": 0.8292515134837645
         },
         "lon": [
          -71.00517917,
          -77.31966667
         ],
         "mode": "lines",
         "text": "NumFlights 0.11846450192625206",
         "type": "scattergeo"
        },
        {
         "hoverinfo": "text",
         "lat": [
          42.3643475,
          32.73355611
         ],
         "line": {
          "color": "red",
          "width": 0.7753164556962024
         },
         "lon": [
          -71.00517917,
          -117.1896567
         ],
         "mode": "lines",
         "text": "NumFlights 0.11075949367088607",
         "type": "scattergeo"
        },
        {
         "hoverinfo": "text",
         "lat": [
          42.3643475,
          42.94722222
         ],
         "line": {
          "color": "red",
          "width": 0.7627958172812328
         },
         "lon": [
          -71.00517917,
          -87.89658333
         ],
         "mode": "lines",
         "text": "NumFlights 0.10897083104017612",
         "type": "scattergeo"
        },
        {
         "hoverinfo": "text",
         "lat": [
          42.3643475,
          36.08036111
         ],
         "line": {
          "color": "red",
          "width": 0.7136763896532746
         },
         "lon": [
          -71.00517917,
          -115.1523333
         ],
         "mode": "lines",
         "text": "NumFlights 0.1019537699504678",
         "type": "scattergeo"
        },
        {
         "hoverinfo": "text",
         "lat": [
          42.3643475,
          38.74768694
         ],
         "line": {
          "color": "red",
          "width": 0.6751513483764447
         },
         "lon": [
          -71.00517917,
          -90.35998972
         ],
         "mode": "lines",
         "text": "NumFlights 0.09645019262520639",
         "type": "scattergeo"
        },
        {
         "hoverinfo": "text",
         "lat": [
          42.3643475,
          29.64541861
         ],
         "line": {
          "color": "red",
          "width": 0.6221794166208036
         },
         "lon": [
          -71.00517917,
          -95.27888889
         ],
         "mode": "lines",
         "text": "NumFlights 0.08888277380297194",
         "type": "scattergeo"
        },
        {
         "hoverinfo": "text",
         "lat": [
          42.3643475,
          41.41089417
         ],
         "line": {
          "color": "red",
          "width": 0.5663181067694001
         },
         "lon": [
          -71.00517917,
          -81.84939667
         ],
         "mode": "lines",
         "text": "NumFlights 0.08090258668134287",
         "type": "scattergeo"
        },
        {
         "hoverinfo": "text",
         "lat": [
          42.3643475,
          36.12447667
         ],
         "line": {
          "color": "red",
          "width": 0.5499449642267473
         },
         "lon": [
          -71.00517917,
          -86.67818222
         ],
         "mode": "lines",
         "text": "NumFlights 0.07856356631810676",
         "type": "scattergeo"
        },
        {
         "hoverinfo": "text",
         "lat": [
          42.3643475,
          30.49405556
         ],
         "line": {
          "color": "red",
          "width": 0.5403137039075399
         },
         "lon": [
          -71.00517917,
          -81.68786111
         ],
         "mode": "lines",
         "text": "NumFlights 0.07718767198679141",
         "type": "scattergeo"
        },
        {
         "hoverinfo": "text",
         "lat": [
          42.3643475,
          45.58872222
         ],
         "line": {
          "color": "red",
          "width": 0.5297193175564117
         },
         "lon": [
          -71.00517917,
          -122.5975
         ],
         "mode": "lines",
         "text": "NumFlights 0.07567418822234452",
         "type": "scattergeo"
        },
        {
         "hoverinfo": "text",
         "lat": [
          42.3643475,
          40.78838778
         ],
         "line": {
          "color": "red",
          "width": 0.5268299394606495
         },
         "lon": [
          -71.00517917,
          -111.9777731
         ],
         "mode": "lines",
         "text": "NumFlights 0.07526141992294992",
         "type": "scattergeo"
        },
        {
         "hoverinfo": "text",
         "lat": [
          42.3643475,
          40.91631194
         ],
         "line": {
          "color": "red",
          "width": 0.47963676389653276
         },
         "lon": [
          -71.00517917,
          -81.44246556
         ],
         "mode": "lines",
         "text": "NumFlights 0.06851953769950468",
         "type": "scattergeo"
        },
        {
         "hoverinfo": "text",
         "lat": [
          42.3643475,
          39.29760528
         ],
         "line": {
          "color": "red",
          "width": 0.4680792515134838
         },
         "lon": [
          -71.00517917,
          -94.71390556
         ],
         "mode": "lines",
         "text": "NumFlights 0.06686846450192625",
         "type": "scattergeo"
        },
        {
         "hoverinfo": "text",
         "lat": [
          42.3643475,
          36.89461111
         ],
         "line": {
          "color": "red",
          "width": 0.38813979086406164
         },
         "lon": [
          -71.00517917,
          -76.20122222
         ],
         "mode": "lines",
         "text": "NumFlights 0.055448541552008804",
         "type": "scattergeo"
        },
        {
         "hoverinfo": "text",
         "lat": [
          42.3643475,
          32.89864639
         ],
         "line": {
          "color": "red",
          "width": 0.33516785910842045
         },
         "lon": [
          -71.00517917,
          -80.04050583
         ],
         "mode": "lines",
         "text": "NumFlights 0.04788112272977435",
         "type": "scattergeo"
        },
        {
         "hoverinfo": "text",
         "lat": [
          42.3643475,
          29.99338889
         ],
         "line": {
          "color": "red",
          "width": 0.3120528343423225
         },
         "lon": [
          -71.00517917,
          -90.25802778
         ],
         "mode": "lines",
         "text": "NumFlights 0.0445789763346175",
         "type": "scattergeo"
        },
        {
         "hoverinfo": "text",
         "lat": [
          42.3643475,
          27.39533333
         ],
         "line": {
          "color": "red",
          "width": 0.306274078150798
         },
         "lon": [
          -71.00517917,
          -82.55411111
         ],
         "mode": "lines",
         "text": "NumFlights 0.043753439735828285",
         "type": "scattergeo"
        },
        {
         "hoverinfo": "text",
         "lat": [
          42.3643475,
          30.19453278
         ],
         "line": {
          "color": "red",
          "width": 0.306274078150798
         },
         "lon": [
          -71.00517917,
          -97.66987194
         ],
         "mode": "lines",
         "text": "NumFlights 0.043753439735828285",
         "type": "scattergeo"
        },
        {
         "hoverinfo": "text",
         "lat": [
          42.3643475,
          33.81772222
         ],
         "line": {
          "color": "red",
          "width": 0.2523390203632361
         },
         "lon": [
          -71.00517917,
          -118.1516111
         ],
         "mode": "lines",
         "text": "NumFlights 0.0360484314804623",
         "type": "scattergeo"
        },
        {
         "hoverinfo": "text",
         "lat": [
          42.3643475,
          35.04241667
         ],
         "line": {
          "color": "red",
          "width": 0.25041276829939463
         },
         "lon": [
          -71.00517917,
          -89.97666667
         ],
         "mode": "lines",
         "text": "NumFlights 0.03577325261419923",
         "type": "scattergeo"
        },
        {
         "hoverinfo": "text",
         "lat": [
          42.3643475,
          37.36186194
         ],
         "line": {
          "color": "red",
          "width": 0.20225646670335717
         },
         "lon": [
          -71.00517917,
          -121.9290089
         ],
         "mode": "lines",
         "text": "NumFlights 0.028893780957622454",
         "type": "scattergeo"
        },
        {
         "hoverinfo": "text",
         "lat": [
          42.3643475,
          18.33730556
         ],
         "line": {
          "color": "red",
          "width": 0.156989543203082
         },
         "lon": [
          -71.00517917,
          -64.97336111
         ],
         "mode": "lines",
         "text": "NumFlights 0.022427077600440288",
         "type": "scattergeo"
        },
        {
         "hoverinfo": "text",
         "lat": [
          42.3643475,
          41.25305194
         ],
         "line": {
          "color": "red",
          "width": 0.10883324160704458
         },
         "lon": [
          -71.00517917,
          -70.06018139
         ],
         "mode": "lines",
         "text": "NumFlights 0.01554760594386351",
         "type": "scattergeo"
        },
        {
         "hoverinfo": "text",
         "lat": [
          42.3643475,
          37.72129083
         ],
         "line": {
          "color": "red",
          "width": 0.07801320858558063
         },
         "lon": [
          -71.00517917,
          -122.2207167
         ],
         "mode": "lines",
         "text": "NumFlights 0.011144744083654375",
         "type": "scattergeo"
        },
        {
         "hoverinfo": "text",
         "lat": [
          42.3643475,
          39.71732917
         ],
         "line": {
          "color": "red",
          "width": 0.010594386351128233
         },
         "lon": [
          -71.00517917,
          -86.29438417
         ],
         "mode": "lines",
         "text": "NumFlights 0.0015134837644468905",
         "type": "scattergeo"
        },
        {
         "hoverinfo": "text",
         "lat": [
          42.3643475,
          39.99798528
         ],
         "line": {
          "color": "red",
          "width": 0.004815630159603743
         },
         "lon": [
          -71.00517917,
          -82.89188278
         ],
         "mode": "lines",
         "text": "NumFlights 0.0006879471656576775",
         "type": "scattergeo"
        },
        {
         "hoverinfo": "text",
         "lat": [
          42.3643475,
          33.67975
         ],
         "line": {
          "color": "red",
          "width": 0.0009631260319207485
         },
         "lon": [
          -71.00517917,
          -78.92833333
         ],
         "mode": "lines",
         "text": "NumFlights 0.0001375894331315355",
         "type": "scattergeo"
        },
        {
         "hoverinfo": "text",
         "lat": [
          42.3643475,
          42.3643475,
          42.3643475,
          42.3643475,
          42.3643475,
          42.3643475,
          42.3643475,
          42.3643475,
          42.3643475,
          42.3643475,
          42.3643475,
          42.3643475,
          42.3643475,
          42.3643475,
          42.3643475,
          42.3643475,
          42.3643475,
          42.3643475,
          42.3643475,
          42.3643475,
          42.3643475,
          42.3643475,
          42.3643475,
          42.3643475,
          42.3643475,
          42.3643475,
          42.3643475,
          42.3643475,
          42.3643475,
          42.3643475,
          42.3643475,
          42.3643475,
          42.3643475,
          42.3643475,
          42.3643475,
          42.3643475,
          42.3643475,
          42.3643475,
          42.3643475,
          42.3643475,
          42.3643475,
          42.3643475,
          42.3643475,
          42.3643475,
          42.3643475,
          42.3643475,
          42.3643475,
          42.3643475,
          42.3643475,
          42.3643475,
          42.3643475,
          42.3643475,
          42.3643475,
          42.3643475,
          42.3643475,
          42.3643475,
          42.3643475,
          42.3643475,
          38.85208333,
          41.979595,
          39.87195278,
          40.63975111,
          39.17540167,
          33.64044444,
          40.69249722,
          40.77724306,
          37.61900194,
          32.89595056,
          35.21401111,
          33.94253611,
          28.42888889,
          35.87763889,
          38.94453194,
          25.79325,
          39.85840806,
          42.21205889,
          26.07258333,
          29.98047222,
          44.88054694,
          26.53616667,
          41.7859825,
          42.94052472,
          33.43416667,
          47.44898194,
          26.68316194,
          27.97547222,
          40.49146583,
          39.04614278,
          18.43941667,
          37.50516667,
          32.73355611,
          42.94722222,
          36.08036111,
          38.74768694,
          29.64541861,
          41.41089417,
          36.12447667,
          30.49405556,
          45.58872222,
          40.78838778,
          40.91631194,
          39.29760528,
          36.89461111,
          32.89864639,
          29.99338889,
          27.39533333,
          30.19453278,
          33.81772222,
          35.04241667,
          37.36186194,
          18.33730556,
          41.25305194,
          37.72129083,
          39.71732917,
          39.99798528,
          33.67975
         ],
         "lon": [
          -71.00517917,
          -71.00517917,
          -71.00517917,
          -71.00517917,
          -71.00517917,
          -71.00517917,
          -71.00517917,
          -71.00517917,
          -71.00517917,
          -71.00517917,
          -71.00517917,
          -71.00517917,
          -71.00517917,
          -71.00517917,
          -71.00517917,
          -71.00517917,
          -71.00517917,
          -71.00517917,
          -71.00517917,
          -71.00517917,
          -71.00517917,
          -71.00517917,
          -71.00517917,
          -71.00517917,
          -71.00517917,
          -71.00517917,
          -71.00517917,
          -71.00517917,
          -71.00517917,
          -71.00517917,
          -71.00517917,
          -71.00517917,
          -71.00517917,
          -71.00517917,
          -71.00517917,
          -71.00517917,
          -71.00517917,
          -71.00517917,
          -71.00517917,
          -71.00517917,
          -71.00517917,
          -71.00517917,
          -71.00517917,
          -71.00517917,
          -71.00517917,
          -71.00517917,
          -71.00517917,
          -71.00517917,
          -71.00517917,
          -71.00517917,
          -71.00517917,
          -71.00517917,
          -71.00517917,
          -71.00517917,
          -71.00517917,
          -71.00517917,
          -71.00517917,
          -71.00517917,
          -77.03772222,
          -87.90446417,
          -75.24114083,
          -73.77892556,
          -76.66819833,
          -84.42694444,
          -74.16866056,
          -73.87260917,
          -122.3748433,
          -97.0372,
          -80.94312583,
          -118.4080744,
          -81.31602778,
          -78.78747222,
          -77.45580972,
          -80.29055556,
          -104.6670019,
          -83.34883583,
          -80.15275,
          -95.33972222,
          -93.2169225,
          -81.75516667,
          -87.75242444,
          -78.73216667,
          -112.0080556,
          -122.3093131,
          -80.09559417,
          -82.53325,
          -80.23287083,
          -84.6621725,
          -66.00183333,
          -77.31966667,
          -117.1896567,
          -87.89658333,
          -115.1523333,
          -90.35998972,
          -95.27888889,
          -81.84939667,
          -86.67818222,
          -81.68786111,
          -122.5975,
          -111.9777731,
          -81.44246556,
          -94.71390556,
          -76.20122222,
          -80.04050583,
          -90.25802778,
          -82.55411111,
          -97.66987194,
          -118.1516111,
          -89.97666667,
          -121.9290089,
          -64.97336111,
          -70.06018139,
          -122.2207167,
          -86.29438417,
          -82.89188278,
          -78.92833333
         ],
         "marker": {
          "color": "blue",
          "opacity": 0.1,
          "size": 10
         },
         "mode": "markers",
         "text": [
          "Gen Edw L Logan Intl",
          "Gen Edw L Logan Intl",
          "Gen Edw L Logan Intl",
          "Gen Edw L Logan Intl",
          "Gen Edw L Logan Intl",
          "Gen Edw L Logan Intl",
          "Gen Edw L Logan Intl",
          "Gen Edw L Logan Intl",
          "Gen Edw L Logan Intl",
          "Gen Edw L Logan Intl",
          "Gen Edw L Logan Intl",
          "Gen Edw L Logan Intl",
          "Gen Edw L Logan Intl",
          "Gen Edw L Logan Intl",
          "Gen Edw L Logan Intl",
          "Gen Edw L Logan Intl",
          "Gen Edw L Logan Intl",
          "Gen Edw L Logan Intl",
          "Gen Edw L Logan Intl",
          "Gen Edw L Logan Intl",
          "Gen Edw L Logan Intl",
          "Gen Edw L Logan Intl",
          "Gen Edw L Logan Intl",
          "Gen Edw L Logan Intl",
          "Gen Edw L Logan Intl",
          "Gen Edw L Logan Intl",
          "Gen Edw L Logan Intl",
          "Gen Edw L Logan Intl",
          "Gen Edw L Logan Intl",
          "Gen Edw L Logan Intl",
          "Gen Edw L Logan Intl",
          "Gen Edw L Logan Intl",
          "Gen Edw L Logan Intl",
          "Gen Edw L Logan Intl",
          "Gen Edw L Logan Intl",
          "Gen Edw L Logan Intl",
          "Gen Edw L Logan Intl",
          "Gen Edw L Logan Intl",
          "Gen Edw L Logan Intl",
          "Gen Edw L Logan Intl",
          "Gen Edw L Logan Intl",
          "Gen Edw L Logan Intl",
          "Gen Edw L Logan Intl",
          "Gen Edw L Logan Intl",
          "Gen Edw L Logan Intl",
          "Gen Edw L Logan Intl",
          "Gen Edw L Logan Intl",
          "Gen Edw L Logan Intl",
          "Gen Edw L Logan Intl",
          "Gen Edw L Logan Intl",
          "Gen Edw L Logan Intl",
          "Gen Edw L Logan Intl",
          "Gen Edw L Logan Intl",
          "Gen Edw L Logan Intl",
          "Gen Edw L Logan Intl",
          "Gen Edw L Logan Intl",
          "Gen Edw L Logan Intl",
          "Gen Edw L Logan Intl",
          "Ronald Reagan Washington National",
          "Chicago O'Hare International",
          "Philadelphia Intl",
          "John F Kennedy Intl",
          "Baltimore-Washington International",
          "William B Hartsfield-Atlanta Intl",
          "Newark Intl",
          "LaGuardia",
          "San Francisco International",
          "Dallas-Fort Worth International",
          "Charlotte Douglas International",
          "Los Angeles International",
          "Orlando International",
          "Raleigh-Durham International",
          "Washington Dulles International",
          "Miami International",
          "Denver Intl",
          "Detroit Metropolitan-Wayne County",
          "Fort Lauderdale-Hollywood Int'l",
          "George Bush Intercontinental",
          "Minneapolis-St Paul Intl",
          "Southwest Florida International",
          "Chicago Midway",
          "Buffalo Niagara Intl",
          "Phoenix Sky Harbor International",
          "Seattle-Tacoma Intl",
          "Palm Beach International",
          "Tampa International ",
          "Pittsburgh International",
          "Cincinnati Northern Kentucky Intl",
          "Luis Munoz Marin International",
          "Richmond International",
          "San Diego International-Lindbergh ",
          "General Mitchell International",
          "McCarran International",
          "Lambert-St Louis International",
          "William P X",
          "Cleveland-Hopkins Intl",
          "Nashville International",
          "Jacksonville International",
          "Portland Intl",
          "Salt Lake City Intl",
          "Akron-Canton Regional",
          "Kansas City International",
          "Norfolk International",
          "Charleston AFB International",
          "New Orleans International ",
          "Sarasota Bradenton International",
          "Austin-Bergstrom International",
          "Long Beach (Daugherty )",
          "Memphis International",
          "San Jose International",
          "Cyril E. King",
          "Nantucket Memorial",
          "Metropolitan Oakland International",
          "Indianapolis International",
          "Port Columbus Intl",
          "Myrtle Beach International"
         ],
         "type": "scattergeo"
        }
       ],
       "layout": {
        "geo": {
         "bgcolor": "lightgrey",
         "countrycolor": "grey",
         "landcolor": "white",
         "scope": "north america",
         "showland": true
        },
        "height": 700,
        "margin": {
         "b": 0,
         "l": 0,
         "pad": 0,
         "r": 0,
         "t": 0
        },
        "showlegend": false,
        "template": {
         "data": {
          "bar": [
           {
            "error_x": {
             "color": "#2a3f5f"
            },
            "error_y": {
             "color": "#2a3f5f"
            },
            "marker": {
             "line": {
              "color": "#E5ECF6",
              "width": 0.5
             },
             "pattern": {
              "fillmode": "overlay",
              "size": 10,
              "solidity": 0.2
             }
            },
            "type": "bar"
           }
          ],
          "barpolar": [
           {
            "marker": {
             "line": {
              "color": "#E5ECF6",
              "width": 0.5
             },
             "pattern": {
              "fillmode": "overlay",
              "size": 10,
              "solidity": 0.2
             }
            },
            "type": "barpolar"
           }
          ],
          "carpet": [
           {
            "aaxis": {
             "endlinecolor": "#2a3f5f",
             "gridcolor": "white",
             "linecolor": "white",
             "minorgridcolor": "white",
             "startlinecolor": "#2a3f5f"
            },
            "baxis": {
             "endlinecolor": "#2a3f5f",
             "gridcolor": "white",
             "linecolor": "white",
             "minorgridcolor": "white",
             "startlinecolor": "#2a3f5f"
            },
            "type": "carpet"
           }
          ],
          "choropleth": [
           {
            "colorbar": {
             "outlinewidth": 0,
             "ticks": ""
            },
            "type": "choropleth"
           }
          ],
          "contour": [
           {
            "colorbar": {
             "outlinewidth": 0,
             "ticks": ""
            },
            "colorscale": [
             [
              0,
              "#0d0887"
             ],
             [
              0.1111111111111111,
              "#46039f"
             ],
             [
              0.2222222222222222,
              "#7201a8"
             ],
             [
              0.3333333333333333,
              "#9c179e"
             ],
             [
              0.4444444444444444,
              "#bd3786"
             ],
             [
              0.5555555555555556,
              "#d8576b"
             ],
             [
              0.6666666666666666,
              "#ed7953"
             ],
             [
              0.7777777777777778,
              "#fb9f3a"
             ],
             [
              0.8888888888888888,
              "#fdca26"
             ],
             [
              1,
              "#f0f921"
             ]
            ],
            "type": "contour"
           }
          ],
          "contourcarpet": [
           {
            "colorbar": {
             "outlinewidth": 0,
             "ticks": ""
            },
            "type": "contourcarpet"
           }
          ],
          "heatmap": [
           {
            "colorbar": {
             "outlinewidth": 0,
             "ticks": ""
            },
            "colorscale": [
             [
              0,
              "#0d0887"
             ],
             [
              0.1111111111111111,
              "#46039f"
             ],
             [
              0.2222222222222222,
              "#7201a8"
             ],
             [
              0.3333333333333333,
              "#9c179e"
             ],
             [
              0.4444444444444444,
              "#bd3786"
             ],
             [
              0.5555555555555556,
              "#d8576b"
             ],
             [
              0.6666666666666666,
              "#ed7953"
             ],
             [
              0.7777777777777778,
              "#fb9f3a"
             ],
             [
              0.8888888888888888,
              "#fdca26"
             ],
             [
              1,
              "#f0f921"
             ]
            ],
            "type": "heatmap"
           }
          ],
          "heatmapgl": [
           {
            "colorbar": {
             "outlinewidth": 0,
             "ticks": ""
            },
            "colorscale": [
             [
              0,
              "#0d0887"
             ],
             [
              0.1111111111111111,
              "#46039f"
             ],
             [
              0.2222222222222222,
              "#7201a8"
             ],
             [
              0.3333333333333333,
              "#9c179e"
             ],
             [
              0.4444444444444444,
              "#bd3786"
             ],
             [
              0.5555555555555556,
              "#d8576b"
             ],
             [
              0.6666666666666666,
              "#ed7953"
             ],
             [
              0.7777777777777778,
              "#fb9f3a"
             ],
             [
              0.8888888888888888,
              "#fdca26"
             ],
             [
              1,
              "#f0f921"
             ]
            ],
            "type": "heatmapgl"
           }
          ],
          "histogram": [
           {
            "marker": {
             "pattern": {
              "fillmode": "overlay",
              "size": 10,
              "solidity": 0.2
             }
            },
            "type": "histogram"
           }
          ],
          "histogram2d": [
           {
            "colorbar": {
             "outlinewidth": 0,
             "ticks": ""
            },
            "colorscale": [
             [
              0,
              "#0d0887"
             ],
             [
              0.1111111111111111,
              "#46039f"
             ],
             [
              0.2222222222222222,
              "#7201a8"
             ],
             [
              0.3333333333333333,
              "#9c179e"
             ],
             [
              0.4444444444444444,
              "#bd3786"
             ],
             [
              0.5555555555555556,
              "#d8576b"
             ],
             [
              0.6666666666666666,
              "#ed7953"
             ],
             [
              0.7777777777777778,
              "#fb9f3a"
             ],
             [
              0.8888888888888888,
              "#fdca26"
             ],
             [
              1,
              "#f0f921"
             ]
            ],
            "type": "histogram2d"
           }
          ],
          "histogram2dcontour": [
           {
            "colorbar": {
             "outlinewidth": 0,
             "ticks": ""
            },
            "colorscale": [
             [
              0,
              "#0d0887"
             ],
             [
              0.1111111111111111,
              "#46039f"
             ],
             [
              0.2222222222222222,
              "#7201a8"
             ],
             [
              0.3333333333333333,
              "#9c179e"
             ],
             [
              0.4444444444444444,
              "#bd3786"
             ],
             [
              0.5555555555555556,
              "#d8576b"
             ],
             [
              0.6666666666666666,
              "#ed7953"
             ],
             [
              0.7777777777777778,
              "#fb9f3a"
             ],
             [
              0.8888888888888888,
              "#fdca26"
             ],
             [
              1,
              "#f0f921"
             ]
            ],
            "type": "histogram2dcontour"
           }
          ],
          "mesh3d": [
           {
            "colorbar": {
             "outlinewidth": 0,
             "ticks": ""
            },
            "type": "mesh3d"
           }
          ],
          "parcoords": [
           {
            "line": {
             "colorbar": {
              "outlinewidth": 0,
              "ticks": ""
             }
            },
            "type": "parcoords"
           }
          ],
          "pie": [
           {
            "automargin": true,
            "type": "pie"
           }
          ],
          "scatter": [
           {
            "fillpattern": {
             "fillmode": "overlay",
             "size": 10,
             "solidity": 0.2
            },
            "type": "scatter"
           }
          ],
          "scatter3d": [
           {
            "line": {
             "colorbar": {
              "outlinewidth": 0,
              "ticks": ""
             }
            },
            "marker": {
             "colorbar": {
              "outlinewidth": 0,
              "ticks": ""
             }
            },
            "type": "scatter3d"
           }
          ],
          "scattercarpet": [
           {
            "marker": {
             "colorbar": {
              "outlinewidth": 0,
              "ticks": ""
             }
            },
            "type": "scattercarpet"
           }
          ],
          "scattergeo": [
           {
            "marker": {
             "colorbar": {
              "outlinewidth": 0,
              "ticks": ""
             }
            },
            "type": "scattergeo"
           }
          ],
          "scattergl": [
           {
            "marker": {
             "colorbar": {
              "outlinewidth": 0,
              "ticks": ""
             }
            },
            "type": "scattergl"
           }
          ],
          "scattermapbox": [
           {
            "marker": {
             "colorbar": {
              "outlinewidth": 0,
              "ticks": ""
             }
            },
            "type": "scattermapbox"
           }
          ],
          "scatterpolar": [
           {
            "marker": {
             "colorbar": {
              "outlinewidth": 0,
              "ticks": ""
             }
            },
            "type": "scatterpolar"
           }
          ],
          "scatterpolargl": [
           {
            "marker": {
             "colorbar": {
              "outlinewidth": 0,
              "ticks": ""
             }
            },
            "type": "scatterpolargl"
           }
          ],
          "scatterternary": [
           {
            "marker": {
             "colorbar": {
              "outlinewidth": 0,
              "ticks": ""
             }
            },
            "type": "scatterternary"
           }
          ],
          "surface": [
           {
            "colorbar": {
             "outlinewidth": 0,
             "ticks": ""
            },
            "colorscale": [
             [
              0,
              "#0d0887"
             ],
             [
              0.1111111111111111,
              "#46039f"
             ],
             [
              0.2222222222222222,
              "#7201a8"
             ],
             [
              0.3333333333333333,
              "#9c179e"
             ],
             [
              0.4444444444444444,
              "#bd3786"
             ],
             [
              0.5555555555555556,
              "#d8576b"
             ],
             [
              0.6666666666666666,
              "#ed7953"
             ],
             [
              0.7777777777777778,
              "#fb9f3a"
             ],
             [
              0.8888888888888888,
              "#fdca26"
             ],
             [
              1,
              "#f0f921"
             ]
            ],
            "type": "surface"
           }
          ],
          "table": [
           {
            "cells": {
             "fill": {
              "color": "#EBF0F8"
             },
             "line": {
              "color": "white"
             }
            },
            "header": {
             "fill": {
              "color": "#C8D4E3"
             },
             "line": {
              "color": "white"
             }
            },
            "type": "table"
           }
          ]
         },
         "layout": {
          "annotationdefaults": {
           "arrowcolor": "#2a3f5f",
           "arrowhead": 0,
           "arrowwidth": 1
          },
          "autotypenumbers": "strict",
          "coloraxis": {
           "colorbar": {
            "outlinewidth": 0,
            "ticks": ""
           }
          },
          "colorscale": {
           "diverging": [
            [
             0,
             "#8e0152"
            ],
            [
             0.1,
             "#c51b7d"
            ],
            [
             0.2,
             "#de77ae"
            ],
            [
             0.3,
             "#f1b6da"
            ],
            [
             0.4,
             "#fde0ef"
            ],
            [
             0.5,
             "#f7f7f7"
            ],
            [
             0.6,
             "#e6f5d0"
            ],
            [
             0.7,
             "#b8e186"
            ],
            [
             0.8,
             "#7fbc41"
            ],
            [
             0.9,
             "#4d9221"
            ],
            [
             1,
             "#276419"
            ]
           ],
           "sequential": [
            [
             0,
             "#0d0887"
            ],
            [
             0.1111111111111111,
             "#46039f"
            ],
            [
             0.2222222222222222,
             "#7201a8"
            ],
            [
             0.3333333333333333,
             "#9c179e"
            ],
            [
             0.4444444444444444,
             "#bd3786"
            ],
            [
             0.5555555555555556,
             "#d8576b"
            ],
            [
             0.6666666666666666,
             "#ed7953"
            ],
            [
             0.7777777777777778,
             "#fb9f3a"
            ],
            [
             0.8888888888888888,
             "#fdca26"
            ],
            [
             1,
             "#f0f921"
            ]
           ],
           "sequentialminus": [
            [
             0,
             "#0d0887"
            ],
            [
             0.1111111111111111,
             "#46039f"
            ],
            [
             0.2222222222222222,
             "#7201a8"
            ],
            [
             0.3333333333333333,
             "#9c179e"
            ],
            [
             0.4444444444444444,
             "#bd3786"
            ],
            [
             0.5555555555555556,
             "#d8576b"
            ],
            [
             0.6666666666666666,
             "#ed7953"
            ],
            [
             0.7777777777777778,
             "#fb9f3a"
            ],
            [
             0.8888888888888888,
             "#fdca26"
            ],
            [
             1,
             "#f0f921"
            ]
           ]
          },
          "colorway": [
           "#636efa",
           "#EF553B",
           "#00cc96",
           "#ab63fa",
           "#FFA15A",
           "#19d3f3",
           "#FF6692",
           "#B6E880",
           "#FF97FF",
           "#FECB52"
          ],
          "font": {
           "color": "#2a3f5f"
          },
          "geo": {
           "bgcolor": "white",
           "lakecolor": "white",
           "landcolor": "#E5ECF6",
           "showlakes": true,
           "showland": true,
           "subunitcolor": "white"
          },
          "hoverlabel": {
           "align": "left"
          },
          "hovermode": "closest",
          "mapbox": {
           "style": "light"
          },
          "paper_bgcolor": "white",
          "plot_bgcolor": "#E5ECF6",
          "polar": {
           "angularaxis": {
            "gridcolor": "white",
            "linecolor": "white",
            "ticks": ""
           },
           "bgcolor": "#E5ECF6",
           "radialaxis": {
            "gridcolor": "white",
            "linecolor": "white",
            "ticks": ""
           }
          },
          "scene": {
           "xaxis": {
            "backgroundcolor": "#E5ECF6",
            "gridcolor": "white",
            "gridwidth": 2,
            "linecolor": "white",
            "showbackground": true,
            "ticks": "",
            "zerolinecolor": "white"
           },
           "yaxis": {
            "backgroundcolor": "#E5ECF6",
            "gridcolor": "white",
            "gridwidth": 2,
            "linecolor": "white",
            "showbackground": true,
            "ticks": "",
            "zerolinecolor": "white"
           },
           "zaxis": {
            "backgroundcolor": "#E5ECF6",
            "gridcolor": "white",
            "gridwidth": 2,
            "linecolor": "white",
            "showbackground": true,
            "ticks": "",
            "zerolinecolor": "white"
           }
          },
          "shapedefaults": {
           "line": {
            "color": "#2a3f5f"
           }
          },
          "ternary": {
           "aaxis": {
            "gridcolor": "white",
            "linecolor": "white",
            "ticks": ""
           },
           "baxis": {
            "gridcolor": "white",
            "linecolor": "white",
            "ticks": ""
           },
           "bgcolor": "#E5ECF6",
           "caxis": {
            "gridcolor": "white",
            "linecolor": "white",
            "ticks": ""
           }
          },
          "title": {
           "x": 0.05
          },
          "xaxis": {
           "automargin": true,
           "gridcolor": "white",
           "linecolor": "white",
           "ticks": "",
           "title": {
            "standoff": 15
           },
           "zerolinecolor": "white",
           "zerolinewidth": 2
          },
          "yaxis": {
           "automargin": true,
           "gridcolor": "white",
           "linecolor": "white",
           "ticks": "",
           "title": {
            "standoff": 15
           },
           "zerolinecolor": "white",
           "zerolinewidth": 2
          }
         }
        },
        "title": {
         "text": "Connection Map Depicting Flights from Brazil to All Other Countries"
        },
        "width": 900
       }
      }
     },
     "metadata": {},
     "output_type": "display_data"
    }
   ],
   "source": [
    "plot_routes(df,date_start,date_end,\"BOS\",\"NumFlights\").show()"
   ]
  },
  {
   "cell_type": "code",
   "execution_count": null,
   "metadata": {},
   "outputs": [],
   "source": []
  }
 ],
 "metadata": {
  "kernelspec": {
   "display_name": "Python 3.10.7 64-bit",
   "language": "python",
   "name": "python3"
  },
  "language_info": {
   "codemirror_mode": {
    "name": "ipython",
    "version": 3
   },
   "file_extension": ".py",
   "mimetype": "text/x-python",
   "name": "python",
   "nbconvert_exporter": "python",
   "pygments_lexer": "ipython3",
   "version": "3.10.7"
  },
  "orig_nbformat": 4,
  "vscode": {
   "interpreter": {
    "hash": "b0fa6594d8f4cbf19f97940f81e996739fb7646882a419484c72d19e05852a7e"
   }
  }
 },
 "nbformat": 4,
 "nbformat_minor": 2
}
