{
 "cells": [
  {
   "cell_type": "code",
   "execution_count": 1,
   "metadata": {},
   "outputs": [],
   "source": [
    "import plotly.express as px\n",
    "import plotly.graph_objs as go\n",
    "import pandas as pd\n",
    "import numpy as np\n",
    "from pyspark.sql import SparkSession\n",
    "from pyspark.sql.functions import *\n",
    "from plotly.subplots import make_subplots\n",
    "import plotly.offline as py\n"
   ]
  },
  {
   "cell_type": "code",
   "execution_count": 2,
   "metadata": {},
   "outputs": [
    {
     "name": "stdout",
     "output_type": "stream",
     "text": [
      "22/12/25 10:41:49 WARN Utils: Your hostname, MacBook-Air-di-Teodoro.local resolves to a loopback address: 127.0.0.1; using 192.168.1.156 instead (on interface en0)\n",
      "22/12/25 10:41:49 WARN Utils: Set SPARK_LOCAL_IP if you need to bind to another address\n"
     ]
    },
    {
     "name": "stderr",
     "output_type": "stream",
     "text": [
      "Setting default log level to \"WARN\".\n",
      "To adjust logging level use sc.setLogLevel(newLevel). For SparkR, use setLogLevel(newLevel).\n"
     ]
    },
    {
     "name": "stdout",
     "output_type": "stream",
     "text": [
      "22/12/25 10:41:50 WARN NativeCodeLoader: Unable to load native-hadoop library for your platform... using builtin-java classes where applicable\n"
     ]
    }
   ],
   "source": [
    "spark = SparkSession.builder.appName(\"flights\").getOrCreate()\n",
    "import json\n",
    "from pyspark.sql.types import StructType, StructField, StringType, IntegerType, DoubleType, DateType, TimestampType\n",
    "with open(\"../matrix/schema.json\",\"r\") as f:\n",
    "    schema = StructType.fromJson(json.load(f))"
   ]
  },
  {
   "cell_type": "code",
   "execution_count": 3,
   "metadata": {},
   "outputs": [],
   "source": [
    "df = spark.read.csv(\"../../data.nosync/cleaned/cleaned_flights.csv\",schema=schema, header=True)"
   ]
  },
  {
   "cell_type": "code",
   "execution_count": 4,
   "metadata": {},
   "outputs": [],
   "source": [
    "airports_sp = spark.read.csv(\"../../preprocessing/airports.csv\", header=True,inferSchema=True)\n",
    "airports = airports_sp.toPandas()"
   ]
  },
  {
   "cell_type": "code",
   "execution_count": 5,
   "metadata": {},
   "outputs": [],
   "source": [
    "def routes_queries(df,date_start,date_end,origin=\"BOS\",query=\"NumFlights\"):\n",
    "    df_aggregated = df.filter((col(\"Origin\") == origin))\n",
    "    df_aggregated = df_aggregated.filter((col(\"FlightDate\") >= date_start) & (col(\"FlightDate\") <= date_end))\n",
    "    # aggregate by flight date, day of weew, Origin and Dest, count the number of flights and average the arrival delay\n",
    "    df_aggregated = df_aggregated.groupBy(\"Origin\",\"Dest\",\"ORIGIN_LATITUDE\",\"ORIGIN_LONGITUDE\",\"DEST_LATITUDE\",\"DEST_LONGITUDE\").agg({\"ArrDelay\": \"avg\",\"*\":\"count\"}).withColumnRenamed(\"avg(ArrDelay)\", \"AverageArrivalDelay\").withColumnRenamed(\"count(1)\", \"NumFlights\")\n",
    "    # sort by query and take the first 100 rows\n",
    "    df_aggregated = df_aggregated.orderBy(df_aggregated[query].desc()).limit(100)\n",
    "    return df_aggregated"
   ]
  },
  {
   "cell_type": "code",
   "execution_count": 8,
   "metadata": {},
   "outputs": [],
   "source": [
    "# create a timestamp object from the string\n",
    "date_start = \"2013-02-01\"\n",
    "date_end = \"2013-12-28\"\n",
    "# convert the string to a timestamp object\n",
    "date_start = pd.Timestamp(date_start)\n",
    "date_end = pd.Timestamp(date_end)\n"
   ]
  },
  {
   "cell_type": "code",
   "execution_count": 7,
   "metadata": {},
   "outputs": [],
   "source": [
    "df_aggregatedp = routes_queries(df,date_start,date_end)\n",
    "#show on map the routes\n"
   ]
  },
  {
   "cell_type": "code",
   "execution_count": 106,
   "metadata": {},
   "outputs": [
    {
     "name": "stderr",
     "output_type": "stream",
     "text": [
      "                                                                                \r"
     ]
    }
   ],
   "source": [
    "df_aggregatedp=df_aggregatedp.toPandas()"
   ]
  },
  {
   "cell_type": "code",
   "execution_count": 107,
   "metadata": {},
   "outputs": [],
   "source": [
    "# join the airports dataframe with the aggregated dataframe compare with Origin and Dest\n",
    "df_aggregatedp = df_aggregatedp.merge(airports, left_on=\"Origin\", right_on=\"IATA\")\n",
    "df_aggregatedp = df_aggregatedp.merge(airports, left_on=\"Dest\", right_on=\"IATA\")\n"
   ]
  },
  {
   "cell_type": "code",
   "execution_count": 108,
   "metadata": {},
   "outputs": [],
   "source": [
    "df_aggregated = df_aggregatedp.sort_values(by=\"AverageArrivalDelay\", ascending=False).head(100)"
   ]
  },
  {
   "cell_type": "code",
   "execution_count": 112,
   "metadata": {},
   "outputs": [],
   "source": [
    "df_aggregated[\"AverageArrivalDelay\"] = df_aggregated[\"AverageArrivalDelay\"]+ df_aggregated[\"AverageArrivalDelay\"].min()*-1"
   ]
  },
  {
   "cell_type": "code",
   "execution_count": 113,
   "metadata": {},
   "outputs": [
    {
     "data": {
      "text/plain": [
       "0.0"
      ]
     },
     "execution_count": 113,
     "metadata": {},
     "output_type": "execute_result"
    }
   ],
   "source": [
    "df_aggregated[\"AverageArrivalDelay\"].min()"
   ]
  },
  {
   "cell_type": "code",
   "execution_count": 24,
   "metadata": {},
   "outputs": [],
   "source": [
    "def plot_routes(df,date_start,date_to,origin=\"BOS\",query=\"NumFlights\"):\n",
    "    df_aggregated=routes_queries(df,date_start,date_to,origin,query).toPandas()\n",
    "    print(len(df_aggregated))\n",
    "    df_aggregated = df_aggregated.merge(airports, left_on=\"Origin\", right_on=\"IATA\")\n",
    "    df_aggregated = df_aggregated.merge(airports, left_on=\"Dest\", right_on=\"IATA\")\n",
    "\n",
    "    \n",
    "    \n",
    "    fig = go.Figure()\n",
    "    \n",
    "\n",
    "\n",
    "\n",
    "    source_to_dest = zip(df_aggregated[\"ORIGIN_LATITUDE\"], df_aggregated[\"DEST_LATITUDE\"],\n",
    "                         df_aggregated[\"ORIGIN_LONGITUDE\"], df_aggregated[\"DEST_LONGITUDE\"],\n",
    "                         df_aggregated[query])\n",
    "\n",
    "    ## Loop thorugh each flight entry to add line between source and destination\n",
    "    for slat,dlat, slon, dlon, num_flights in source_to_dest:\n",
    "        fig.add_trace(go.Scattergeo(\n",
    "                            lat = [slat,dlat],\n",
    "                            lon = [slon, dlon],\n",
    "                            mode = 'lines',\n",
    "                            line = dict(width = 2, color=\"red\"),\n",
    "                            hoverinfo='text',\n",
    "                            text = query+\" \"+str(num_flights)\n",
    "                            textposition=\"top center\"\n",
    "\n",
    "\n",
    "\n",
    "                            ))\n",
    "\n",
    "    ## Logic to create labels of source and destination cities of flights\n",
    "    cities = df_aggregated[\"AIRPORT_x\"].values.tolist()+df_aggregated[\"AIRPORT_y\"].values.tolist()\n",
    "    scatter_hover_data = [city for city in cities]\n",
    "\n",
    "    if query == \"AverageArrivalDelay\":\n",
    "        df_aggregated[query] = df_aggregated[query] + df_aggregated[query].min()*-1\n",
    "\n",
    "    \n",
    "    df_aggregated[query]=df_aggregated[query]/df_aggregated[query].max()\n",
    "    ## Loop thorugh each flight entry to plot source and destination as points.\n",
    "    fig.add_trace(\n",
    "        go.Scattergeo(\n",
    "                    lon = df_aggregated[\"DEST_LONGITUDE\"].values.tolist(),\n",
    "                    lat = df_aggregated[\"DEST_LATITUDE\"].values.tolist(),\n",
    "                    hoverinfo = 'text',\n",
    "                    text = df_aggregated[\"AIRPORT_y\"],\n",
    "                    mode = 'markers',\n",
    "                    marker = dict(size = df_aggregated[query]*20, color = 'blue', opacity=0.9)),\n",
    "                    # define the size of the marker based on the number of flights\n",
    "                    #     \n",
    "        )\n",
    "\n",
    "    ## Update graph layout to improve graph styling.\n",
    "    fig.update_layout(title_text=\"Connection Map Depicting Flights from Brazil to All Other Countries\",\n",
    "                      height=700, width=900,\n",
    "                      margin={\"t\":0,\"b\":0,\"l\":0, \"r\":0, \"pad\":0},\n",
    "                      showlegend=False,\n",
    "                      geo= dict(showland = True, landcolor = 'white', countrycolor = 'grey', bgcolor=\"lightgrey\",scope='north america'))\n",
    "\n",
    "    return fig"
   ]
  },
  {
   "cell_type": "code",
   "execution_count": 26,
   "metadata": {},
   "outputs": [
    {
     "name": "stderr",
     "output_type": "stream",
     "text": [
      "[Stage 30:=================================================>      (16 + 2) / 18]\r"
     ]
    },
    {
     "name": "stdout",
     "output_type": "stream",
     "text": [
      "58\n"
     ]
    },
    {
     "name": "stderr",
     "output_type": "stream",
     "text": [
      "                                                                                \r"
     ]
    },
    {
     "data": {
      "application/vnd.plotly.v1+json": {
       "config": {
        "plotlyServerURL": "https://plot.ly"
       },
       "data": [
        {
         "hoverinfo": "text",
         "lat": [
          42.3643475,
          37.72129083
         ],
         "line": {
          "color": "red",
          "width": 2
         },
         "lon": [
          -71.00517917,
          -122.2207167
         ],
         "mode": "lines",
         "text": "AverageArrivalDelay 25.049382716049383",
         "type": "scattergeo"
        },
        {
         "hoverinfo": "text",
         "lat": [
          42.3643475,
          39.71732917
         ],
         "line": {
          "color": "red",
          "width": 2
         },
         "lon": [
          -71.00517917,
          -86.29438417
         ],
         "mode": "lines",
         "text": "AverageArrivalDelay 15.0",
         "type": "scattergeo"
        },
        {
         "hoverinfo": "text",
         "lat": [
          42.3643475,
          26.68316194
         ],
         "line": {
          "color": "red",
          "width": 2
         },
         "lon": [
          -71.00517917,
          -80.09559417
         ],
         "mode": "lines",
         "text": "AverageArrivalDelay 14.434895833333334",
         "type": "scattergeo"
        },
        {
         "hoverinfo": "text",
         "lat": [
          42.3643475,
          18.43941667
         ],
         "line": {
          "color": "red",
          "width": 2
         },
         "lon": [
          -71.00517917,
          -66.00183333
         ],
         "mode": "lines",
         "text": "AverageArrivalDelay 13.849329205366358",
         "type": "scattergeo"
        },
        {
         "hoverinfo": "text",
         "lat": [
          42.3643475,
          26.07258333
         ],
         "line": {
          "color": "red",
          "width": 2
         },
         "lon": [
          -71.00517917,
          -80.15275
         ],
         "mode": "lines",
         "text": "AverageArrivalDelay 13.367701209889532",
         "type": "scattergeo"
        },
        {
         "hoverinfo": "text",
         "lat": [
          42.3643475,
          26.53616667
         ],
         "line": {
          "color": "red",
          "width": 2
         },
         "lon": [
          -71.00517917,
          -81.75516667
         ],
         "mode": "lines",
         "text": "AverageArrivalDelay 12.304405874499333",
         "type": "scattergeo"
        },
        {
         "hoverinfo": "text",
         "lat": [
          42.3643475,
          30.49405556
         ],
         "line": {
          "color": "red",
          "width": 2
         },
         "lon": [
          -71.00517917,
          -81.68786111
         ],
         "mode": "lines",
         "text": "AverageArrivalDelay 11.024955436720143",
         "type": "scattergeo"
        },
        {
         "hoverinfo": "text",
         "lat": [
          42.3643475,
          40.91631194
         ],
         "line": {
          "color": "red",
          "width": 2
         },
         "lon": [
          -71.00517917,
          -81.44246556
         ],
         "mode": "lines",
         "text": "AverageArrivalDelay 10.443775100401606",
         "type": "scattergeo"
        },
        {
         "hoverinfo": "text",
         "lat": [
          42.3643475,
          37.36186194
         ],
         "line": {
          "color": "red",
          "width": 2
         },
         "lon": [
          -71.00517917,
          -121.9290089
         ],
         "mode": "lines",
         "text": "AverageArrivalDelay 10.19047619047619",
         "type": "scattergeo"
        },
        {
         "hoverinfo": "text",
         "lat": [
          42.3643475,
          39.29760528
         ],
         "line": {
          "color": "red",
          "width": 2
         },
         "lon": [
          -71.00517917,
          -94.71390556
         ],
         "mode": "lines",
         "text": "AverageArrivalDelay 10.1440329218107",
         "type": "scattergeo"
        },
        {
         "hoverinfo": "text",
         "lat": [
          42.3643475,
          29.64541861
         ],
         "line": {
          "color": "red",
          "width": 2
         },
         "lon": [
          -71.00517917,
          -95.27888889
         ],
         "mode": "lines",
         "text": "AverageArrivalDelay 9.90092879256966",
         "type": "scattergeo"
        },
        {
         "hoverinfo": "text",
         "lat": [
          42.3643475,
          27.97547222
         ],
         "line": {
          "color": "red",
          "width": 2
         },
         "lon": [
          -71.00517917,
          -82.53325
         ],
         "mode": "lines",
         "text": "AverageArrivalDelay 9.88337684943429",
         "type": "scattergeo"
        },
        {
         "hoverinfo": "text",
         "lat": [
          42.3643475,
          40.69249722
         ],
         "line": {
          "color": "red",
          "width": 2
         },
         "lon": [
          -71.00517917,
          -74.16866056
         ],
         "mode": "lines",
         "text": "AverageArrivalDelay 8.841018151470895",
         "type": "scattergeo"
        },
        {
         "hoverinfo": "text",
         "lat": [
          42.3643475,
          38.74768694
         ],
         "line": {
          "color": "red",
          "width": 2
         },
         "lon": [
          -71.00517917,
          -90.35998972
         ],
         "mode": "lines",
         "text": "AverageArrivalDelay 8.72753209700428",
         "type": "scattergeo"
        },
        {
         "hoverinfo": "text",
         "lat": [
          42.3643475,
          41.7859825
         ],
         "line": {
          "color": "red",
          "width": 2
         },
         "lon": [
          -71.00517917,
          -87.75242444
         ],
         "mode": "lines",
         "text": "AverageArrivalDelay 8.479972844534963",
         "type": "scattergeo"
        },
        {
         "hoverinfo": "text",
         "lat": [
          42.3643475,
          28.42888889
         ],
         "line": {
          "color": "red",
          "width": 2
         },
         "lon": [
          -71.00517917,
          -81.31602778
         ],
         "mode": "lines",
         "text": "AverageArrivalDelay 8.06647305582446",
         "type": "scattergeo"
        },
        {
         "hoverinfo": "text",
         "lat": [
          42.3643475,
          40.63975111
         ],
         "line": {
          "color": "red",
          "width": 2
         },
         "lon": [
          -71.00517917,
          -73.77892556
         ],
         "mode": "lines",
         "text": "AverageArrivalDelay 8.005916030534351",
         "type": "scattergeo"
        },
        {
         "hoverinfo": "text",
         "lat": [
          42.3643475,
          33.67975
         ],
         "line": {
          "color": "red",
          "width": 2
         },
         "lon": [
          -71.00517917,
          -78.92833333
         ],
         "mode": "lines",
         "text": "AverageArrivalDelay 8.0",
         "type": "scattergeo"
        },
        {
         "hoverinfo": "text",
         "lat": [
          42.3643475,
          39.85840806
         ],
         "line": {
          "color": "red",
          "width": 2
         },
         "lon": [
          -71.00517917,
          -104.6670019
         ],
         "mode": "lines",
         "text": "AverageArrivalDelay 7.959680992467877",
         "type": "scattergeo"
        },
        {
         "hoverinfo": "text",
         "lat": [
          42.3643475,
          33.64044444
         ],
         "line": {
          "color": "red",
          "width": 2
         },
         "lon": [
          -71.00517917,
          -84.42694444
         ],
         "mode": "lines",
         "text": "AverageArrivalDelay 7.887414555689586",
         "type": "scattergeo"
        },
        {
         "hoverinfo": "text",
         "lat": [
          42.3643475,
          36.89461111
         ],
         "line": {
          "color": "red",
          "width": 2
         },
         "lon": [
          -71.00517917,
          -76.20122222
         ],
         "mode": "lines",
         "text": "AverageArrivalDelay 7.674937965260546",
         "type": "scattergeo"
        },
        {
         "hoverinfo": "text",
         "lat": [
          42.3643475,
          42.94722222
         ],
         "line": {
          "color": "red",
          "width": 2
         },
         "lon": [
          -71.00517917,
          -87.89658333
         ],
         "mode": "lines",
         "text": "AverageArrivalDelay 7.643939393939394",
         "type": "scattergeo"
        },
        {
         "hoverinfo": "text",
         "lat": [
          42.3643475,
          37.61900194
         ],
         "line": {
          "color": "red",
          "width": 2
         },
         "lon": [
          -71.00517917,
          -122.3748433
         ],
         "mode": "lines",
         "text": "AverageArrivalDelay 7.497145963577059",
         "type": "scattergeo"
        },
        {
         "hoverinfo": "text",
         "lat": [
          42.3643475,
          41.979595
         ],
         "line": {
          "color": "red",
          "width": 2
         },
         "lon": [
          -71.00517917,
          -87.90446417
         ],
         "mode": "lines",
         "text": "AverageArrivalDelay 7.05228121448287",
         "type": "scattergeo"
        },
        {
         "hoverinfo": "text",
         "lat": [
          42.3643475,
          29.99338889
         ],
         "line": {
          "color": "red",
          "width": 2
         },
         "lon": [
          -71.00517917,
          -90.25802778
         ],
         "mode": "lines",
         "text": "AverageArrivalDelay 7.046296296296297",
         "type": "scattergeo"
        },
        {
         "hoverinfo": "text",
         "lat": [
          42.3643475,
          36.08036111
         ],
         "line": {
          "color": "red",
          "width": 2
         },
         "lon": [
          -71.00517917,
          -115.1523333
         ],
         "mode": "lines",
         "text": "AverageArrivalDelay 7.01889338731444",
         "type": "scattergeo"
        },
        {
         "hoverinfo": "text",
         "lat": [
          42.3643475,
          39.17540167
         ],
         "line": {
          "color": "red",
          "width": 2
         },
         "lon": [
          -71.00517917,
          -76.66819833
         ],
         "mode": "lines",
         "text": "AverageArrivalDelay 6.817364098552992",
         "type": "scattergeo"
        },
        {
         "hoverinfo": "text",
         "lat": [
          42.3643475,
          38.94453194
         ],
         "line": {
          "color": "red",
          "width": 2
         },
         "lon": [
          -71.00517917,
          -77.45580972
         ],
         "mode": "lines",
         "text": "AverageArrivalDelay 6.3390092879256965",
         "type": "scattergeo"
        },
        {
         "hoverinfo": "text",
         "lat": [
          42.3643475,
          32.89595056
         ],
         "line": {
          "color": "red",
          "width": 2
         },
         "lon": [
          -71.00517917,
          -97.0372
         ],
         "mode": "lines",
         "text": "AverageArrivalDelay 6.090754395916052",
         "type": "scattergeo"
        },
        {
         "hoverinfo": "text",
         "lat": [
          42.3643475,
          32.73355611
         ],
         "line": {
          "color": "red",
          "width": 2
         },
         "lon": [
          -71.00517917,
          -117.1896567
         ],
         "mode": "lines",
         "text": "AverageArrivalDelay 6.039751552795031",
         "type": "scattergeo"
        },
        {
         "hoverinfo": "text",
         "lat": [
          42.3643475,
          36.12447667
         ],
         "line": {
          "color": "red",
          "width": 2
         },
         "lon": [
          -71.00517917,
          -86.67818222
         ],
         "mode": "lines",
         "text": "AverageArrivalDelay 5.866900175131349",
         "type": "scattergeo"
        },
        {
         "hoverinfo": "text",
         "lat": [
          42.3643475,
          42.94052472
         ],
         "line": {
          "color": "red",
          "width": 2
         },
         "lon": [
          -71.00517917,
          -78.73216667
         ],
         "mode": "lines",
         "text": "AverageArrivalDelay 5.585274229902329",
         "type": "scattergeo"
        },
        {
         "hoverinfo": "text",
         "lat": [
          42.3643475,
          39.87195278
         ],
         "line": {
          "color": "red",
          "width": 2
         },
         "lon": [
          -71.00517917,
          -75.24114083
         ],
         "mode": "lines",
         "text": "AverageArrivalDelay 5.261396526772793",
         "type": "scattergeo"
        },
        {
         "hoverinfo": "text",
         "lat": [
          42.3643475,
          33.94253611
         ],
         "line": {
          "color": "red",
          "width": 2
         },
         "lon": [
          -71.00517917,
          -118.4080744
         ],
         "mode": "lines",
         "text": "AverageArrivalDelay 5.138990267639903",
         "type": "scattergeo"
        },
        {
         "hoverinfo": "text",
         "lat": [
          42.3643475,
          40.49146583
         ],
         "line": {
          "color": "red",
          "width": 2
         },
         "lon": [
          -71.00517917,
          -80.23287083
         ],
         "mode": "lines",
         "text": "AverageArrivalDelay 4.361974405850091",
         "type": "scattergeo"
        },
        {
         "hoverinfo": "text",
         "lat": [
          42.3643475,
          35.21401111
         ],
         "line": {
          "color": "red",
          "width": 2
         },
         "lon": [
          -71.00517917,
          -80.94312583
         ],
         "mode": "lines",
         "text": "AverageArrivalDelay 3.962108262108262",
         "type": "scattergeo"
        },
        {
         "hoverinfo": "text",
         "lat": [
          42.3643475,
          27.39533333
         ],
         "line": {
          "color": "red",
          "width": 2
         },
         "lon": [
          -71.00517917,
          -82.55411111
         ],
         "mode": "lines",
         "text": "AverageArrivalDelay 3.6635220125786163",
         "type": "scattergeo"
        },
        {
         "hoverinfo": "text",
         "lat": [
          42.3643475,
          38.85208333
         ],
         "line": {
          "color": "red",
          "width": 2
         },
         "lon": [
          -71.00517917,
          -77.03772222
         ],
         "mode": "lines",
         "text": "AverageArrivalDelay 3.6487341772151898",
         "type": "scattergeo"
        },
        {
         "hoverinfo": "text",
         "lat": [
          42.3643475,
          39.99798528
         ],
         "line": {
          "color": "red",
          "width": 2
         },
         "lon": [
          -71.00517917,
          -82.89188278
         ],
         "mode": "lines",
         "text": "AverageArrivalDelay 3.6",
         "type": "scattergeo"
        },
        {
         "hoverinfo": "text",
         "lat": [
          42.3643475,
          18.33730556
         ],
         "line": {
          "color": "red",
          "width": 2
         },
         "lon": [
          -71.00517917,
          -64.97336111
         ],
         "mode": "lines",
         "text": "AverageArrivalDelay 3.5337423312883436",
         "type": "scattergeo"
        },
        {
         "hoverinfo": "text",
         "lat": [
          42.3643475,
          33.81772222
         ],
         "line": {
          "color": "red",
          "width": 2
         },
         "lon": [
          -71.00517917,
          -118.1516111
         ],
         "mode": "lines",
         "text": "AverageArrivalDelay 3.3244274809160306",
         "type": "scattergeo"
        },
        {
         "hoverinfo": "text",
         "lat": [
          42.3643475,
          42.21205889
         ],
         "line": {
          "color": "red",
          "width": 2
         },
         "lon": [
          -71.00517917,
          -83.34883583
         ],
         "mode": "lines",
         "text": "AverageArrivalDelay 3.2583732057416266",
         "type": "scattergeo"
        },
        {
         "hoverinfo": "text",
         "lat": [
          42.3643475,
          40.78838778
         ],
         "line": {
          "color": "red",
          "width": 2
         },
         "lon": [
          -71.00517917,
          -111.9777731
         ],
         "mode": "lines",
         "text": "AverageArrivalDelay 3.2522851919561244",
         "type": "scattergeo"
        },
        {
         "hoverinfo": "text",
         "lat": [
          42.3643475,
          32.89864639
         ],
         "line": {
          "color": "red",
          "width": 2
         },
         "lon": [
          -71.00517917,
          -80.04050583
         ],
         "mode": "lines",
         "text": "AverageArrivalDelay 2.5402298850574714",
         "type": "scattergeo"
        },
        {
         "hoverinfo": "text",
         "lat": [
          42.3643475,
          44.88054694
         ],
         "line": {
          "color": "red",
          "width": 2
         },
         "lon": [
          -71.00517917,
          -93.2169225
         ],
         "mode": "lines",
         "text": "AverageArrivalDelay 2.3903846153846153",
         "type": "scattergeo"
        },
        {
         "hoverinfo": "text",
         "lat": [
          42.3643475,
          37.50516667
         ],
         "line": {
          "color": "red",
          "width": 2
         },
         "lon": [
          -71.00517917,
          -77.31966667
         ],
         "mode": "lines",
         "text": "AverageArrivalDelay 2.2845528455284554",
         "type": "scattergeo"
        },
        {
         "hoverinfo": "text",
         "lat": [
          42.3643475,
          35.87763889
         ],
         "line": {
          "color": "red",
          "width": 2
         },
         "lon": [
          -71.00517917,
          -78.78747222
         ],
         "mode": "lines",
         "text": "AverageArrivalDelay 1.8603525751814725",
         "type": "scattergeo"
        },
        {
         "hoverinfo": "text",
         "lat": [
          42.3643475,
          25.79325
         ],
         "line": {
          "color": "red",
          "width": 2
         },
         "lon": [
          -71.00517917,
          -80.29055556
         ],
         "mode": "lines",
         "text": "AverageArrivalDelay 1.7844337560122432",
         "type": "scattergeo"
        },
        {
         "hoverinfo": "text",
         "lat": [
          42.3643475,
          41.25305194
         ],
         "line": {
          "color": "red",
          "width": 2
         },
         "lon": [
          -71.00517917,
          -70.06018139
         ],
         "mode": "lines",
         "text": "AverageArrivalDelay 0.9646017699115044",
         "type": "scattergeo"
        },
        {
         "hoverinfo": "text",
         "lat": [
          42.3643475,
          40.77724306
         ],
         "line": {
          "color": "red",
          "width": 2
         },
         "lon": [
          -71.00517917,
          -73.87260917
         ],
         "mode": "lines",
         "text": "AverageArrivalDelay 0.6715447154471544",
         "type": "scattergeo"
        },
        {
         "hoverinfo": "text",
         "lat": [
          42.3643475,
          39.04614278
         ],
         "line": {
          "color": "red",
          "width": 2
         },
         "lon": [
          -71.00517917,
          -84.6621725
         ],
         "mode": "lines",
         "text": "AverageArrivalDelay 0.6633119853613907",
         "type": "scattergeo"
        },
        {
         "hoverinfo": "text",
         "lat": [
          42.3643475,
          33.43416667
         ],
         "line": {
          "color": "red",
          "width": 2
         },
         "lon": [
          -71.00517917,
          -112.0080556
         ],
         "mode": "lines",
         "text": "AverageArrivalDelay 0.5413766434648105",
         "type": "scattergeo"
        },
        {
         "hoverinfo": "text",
         "lat": [
          42.3643475,
          47.44898194
         ],
         "line": {
          "color": "red",
          "width": 2
         },
         "lon": [
          -71.00517917,
          -122.3093131
         ],
         "mode": "lines",
         "text": "AverageArrivalDelay 0.4728682170542636",
         "type": "scattergeo"
        },
        {
         "hoverinfo": "text",
         "lat": [
          42.3643475,
          29.98047222
         ],
         "line": {
          "color": "red",
          "width": 2
         },
         "lon": [
          -71.00517917,
          -95.33972222
         ],
         "mode": "lines",
         "text": "AverageArrivalDelay 0.38415366146458585",
         "type": "scattergeo"
        },
        {
         "hoverinfo": "text",
         "lat": [
          42.3643475,
          35.04241667
         ],
         "line": {
          "color": "red",
          "width": 2
         },
         "lon": [
          -71.00517917,
          -89.97666667
         ],
         "mode": "lines",
         "text": "AverageArrivalDelay 0.13076923076923078",
         "type": "scattergeo"
        },
        {
         "hoverinfo": "text",
         "lat": [
          42.3643475,
          41.41089417
         ],
         "line": {
          "color": "red",
          "width": 2
         },
         "lon": [
          -71.00517917,
          -81.84939667
         ],
         "mode": "lines",
         "text": "AverageArrivalDelay -0.05442176870748299",
         "type": "scattergeo"
        },
        {
         "hoverinfo": "text",
         "lat": [
          42.3643475,
          30.19453278
         ],
         "line": {
          "color": "red",
          "width": 2
         },
         "lon": [
          -71.00517917,
          -97.66987194
         ],
         "mode": "lines",
         "text": "AverageArrivalDelay -0.6446540880503144",
         "type": "scattergeo"
        },
        {
         "hoverinfo": "text",
         "lat": [
          42.3643475,
          45.58872222
         ],
         "line": {
          "color": "red",
          "width": 2
         },
         "lon": [
          -71.00517917,
          -122.5975
         ],
         "mode": "lines",
         "text": "AverageArrivalDelay -1.910909090909091",
         "type": "scattergeo"
        },
        {
         "hoverinfo": "text",
         "lat": [
          37.72129083,
          39.71732917,
          26.68316194,
          18.43941667,
          26.07258333,
          26.53616667,
          30.49405556,
          40.91631194,
          37.36186194,
          39.29760528,
          29.64541861,
          27.97547222,
          40.69249722,
          38.74768694,
          41.7859825,
          28.42888889,
          40.63975111,
          33.67975,
          39.85840806,
          33.64044444,
          36.89461111,
          42.94722222,
          37.61900194,
          41.979595,
          29.99338889,
          36.08036111,
          39.17540167,
          38.94453194,
          32.89595056,
          32.73355611,
          36.12447667,
          42.94052472,
          39.87195278,
          33.94253611,
          40.49146583,
          35.21401111,
          27.39533333,
          38.85208333,
          39.99798528,
          18.33730556,
          33.81772222,
          42.21205889,
          40.78838778,
          32.89864639,
          44.88054694,
          37.50516667,
          35.87763889,
          25.79325,
          41.25305194,
          40.77724306,
          39.04614278,
          33.43416667,
          47.44898194,
          29.98047222,
          35.04241667,
          41.41089417,
          30.19453278,
          45.58872222
         ],
         "lon": [
          -122.2207167,
          -86.29438417,
          -80.09559417,
          -66.00183333,
          -80.15275,
          -81.75516667,
          -81.68786111,
          -81.44246556,
          -121.9290089,
          -94.71390556,
          -95.27888889,
          -82.53325,
          -74.16866056,
          -90.35998972,
          -87.75242444,
          -81.31602778,
          -73.77892556,
          -78.92833333,
          -104.6670019,
          -84.42694444,
          -76.20122222,
          -87.89658333,
          -122.3748433,
          -87.90446417,
          -90.25802778,
          -115.1523333,
          -76.66819833,
          -77.45580972,
          -97.0372,
          -117.1896567,
          -86.67818222,
          -78.73216667,
          -75.24114083,
          -118.4080744,
          -80.23287083,
          -80.94312583,
          -82.55411111,
          -77.03772222,
          -82.89188278,
          -64.97336111,
          -118.1516111,
          -83.34883583,
          -111.9777731,
          -80.04050583,
          -93.2169225,
          -77.31966667,
          -78.78747222,
          -80.29055556,
          -70.06018139,
          -73.87260917,
          -84.6621725,
          -112.0080556,
          -122.3093131,
          -95.33972222,
          -89.97666667,
          -81.84939667,
          -97.66987194,
          -122.5975
         ],
         "marker": {
          "color": "blue",
          "opacity": 0.9,
          "size": [
           20,
           12.545049001690975,
           12.125836798267562,
           11.691444891711239,
           11.334157961046401,
           10.545371739440474,
           9.596234803579147,
           9.165096787358912,
           8.977191617979374,
           8.942738527487599,
           8.762396169933224,
           8.74937558153526,
           7.9761208219600235,
           7.891933265475695,
           7.708285956135058,
           7.401538691178691,
           7.356615568147449,
           7.35222686896221,
           7.322316949721857,
           7.268707413671036,
           7.111085536318655,
           7.088089812427305,
           6.979193787552347,
           6.649178999671328,
           6.644739197439641,
           6.62441084997362,
           6.474910028391687,
           6.120051250117015,
           5.935887893290462,
           5.898052365777473,
           5.769825728691097,
           5.560906665614539,
           5.320643907741908,
           5.229839060369079,
           4.6534240368571576,
           4.3567906423783755,
           4.135289887366087,
           4.124319801827465,
           4.088167242675556,
           4.039015201454285,
           3.8837388032082627,
           3.8347376457672624,
           3.830221363948732,
           3.3019961414644032,
           3.1908361653441295,
           3.1123268000791398,
           2.797641578283806,
           2.741322589073434,
           2.1331452058530194,
           1.9157461831994802,
           1.9096388827706035,
           1.819183376747402,
           1.7683616520412437,
           1.7025503795039187,
           1.5145817681033873,
           1.3772012079798388,
           0.9393481435033689,
           0
          ]
         },
         "mode": "markers",
         "text": [
          "Metropolitan Oakland International",
          "Indianapolis International",
          "Palm Beach International",
          "Luis Munoz Marin International",
          "Fort Lauderdale-Hollywood Int'l",
          "Southwest Florida International",
          "Jacksonville International",
          "Akron-Canton Regional",
          "San Jose International",
          "Kansas City International",
          "William P X",
          "Tampa International ",
          "Newark Intl",
          "Lambert-St Louis International",
          "Chicago Midway",
          "Orlando International",
          "John F Kennedy Intl",
          "Myrtle Beach International",
          "Denver Intl",
          "William B Hartsfield-Atlanta Intl",
          "Norfolk International",
          "General Mitchell International",
          "San Francisco International",
          "Chicago O'Hare International",
          "New Orleans International ",
          "McCarran International",
          "Baltimore-Washington International",
          "Washington Dulles International",
          "Dallas-Fort Worth International",
          "San Diego International-Lindbergh ",
          "Nashville International",
          "Buffalo Niagara Intl",
          "Philadelphia Intl",
          "Los Angeles International",
          "Pittsburgh International",
          "Charlotte Douglas International",
          "Sarasota Bradenton International",
          "Ronald Reagan Washington National",
          "Port Columbus Intl",
          "Cyril E. King",
          "Long Beach (Daugherty )",
          "Detroit Metropolitan-Wayne County",
          "Salt Lake City Intl",
          "Charleston AFB International",
          "Minneapolis-St Paul Intl",
          "Richmond International",
          "Raleigh-Durham International",
          "Miami International",
          "Nantucket Memorial",
          "LaGuardia",
          "Cincinnati Northern Kentucky Intl",
          "Phoenix Sky Harbor International",
          "Seattle-Tacoma Intl",
          "George Bush Intercontinental",
          "Memphis International",
          "Cleveland-Hopkins Intl",
          "Austin-Bergstrom International",
          "Portland Intl"
         ],
         "type": "scattergeo"
        }
       ],
       "layout": {
        "geo": {
         "bgcolor": "lightgrey",
         "countrycolor": "grey",
         "landcolor": "white",
         "scope": "north america",
         "showland": true
        },
        "height": 700,
        "margin": {
         "b": 0,
         "l": 0,
         "pad": 0,
         "r": 0,
         "t": 0
        },
        "showlegend": false,
        "template": {
         "data": {
          "bar": [
           {
            "error_x": {
             "color": "#2a3f5f"
            },
            "error_y": {
             "color": "#2a3f5f"
            },
            "marker": {
             "line": {
              "color": "#E5ECF6",
              "width": 0.5
             },
             "pattern": {
              "fillmode": "overlay",
              "size": 10,
              "solidity": 0.2
             }
            },
            "type": "bar"
           }
          ],
          "barpolar": [
           {
            "marker": {
             "line": {
              "color": "#E5ECF6",
              "width": 0.5
             },
             "pattern": {
              "fillmode": "overlay",
              "size": 10,
              "solidity": 0.2
             }
            },
            "type": "barpolar"
           }
          ],
          "carpet": [
           {
            "aaxis": {
             "endlinecolor": "#2a3f5f",
             "gridcolor": "white",
             "linecolor": "white",
             "minorgridcolor": "white",
             "startlinecolor": "#2a3f5f"
            },
            "baxis": {
             "endlinecolor": "#2a3f5f",
             "gridcolor": "white",
             "linecolor": "white",
             "minorgridcolor": "white",
             "startlinecolor": "#2a3f5f"
            },
            "type": "carpet"
           }
          ],
          "choropleth": [
           {
            "colorbar": {
             "outlinewidth": 0,
             "ticks": ""
            },
            "type": "choropleth"
           }
          ],
          "contour": [
           {
            "colorbar": {
             "outlinewidth": 0,
             "ticks": ""
            },
            "colorscale": [
             [
              0,
              "#0d0887"
             ],
             [
              0.1111111111111111,
              "#46039f"
             ],
             [
              0.2222222222222222,
              "#7201a8"
             ],
             [
              0.3333333333333333,
              "#9c179e"
             ],
             [
              0.4444444444444444,
              "#bd3786"
             ],
             [
              0.5555555555555556,
              "#d8576b"
             ],
             [
              0.6666666666666666,
              "#ed7953"
             ],
             [
              0.7777777777777778,
              "#fb9f3a"
             ],
             [
              0.8888888888888888,
              "#fdca26"
             ],
             [
              1,
              "#f0f921"
             ]
            ],
            "type": "contour"
           }
          ],
          "contourcarpet": [
           {
            "colorbar": {
             "outlinewidth": 0,
             "ticks": ""
            },
            "type": "contourcarpet"
           }
          ],
          "heatmap": [
           {
            "colorbar": {
             "outlinewidth": 0,
             "ticks": ""
            },
            "colorscale": [
             [
              0,
              "#0d0887"
             ],
             [
              0.1111111111111111,
              "#46039f"
             ],
             [
              0.2222222222222222,
              "#7201a8"
             ],
             [
              0.3333333333333333,
              "#9c179e"
             ],
             [
              0.4444444444444444,
              "#bd3786"
             ],
             [
              0.5555555555555556,
              "#d8576b"
             ],
             [
              0.6666666666666666,
              "#ed7953"
             ],
             [
              0.7777777777777778,
              "#fb9f3a"
             ],
             [
              0.8888888888888888,
              "#fdca26"
             ],
             [
              1,
              "#f0f921"
             ]
            ],
            "type": "heatmap"
           }
          ],
          "heatmapgl": [
           {
            "colorbar": {
             "outlinewidth": 0,
             "ticks": ""
            },
            "colorscale": [
             [
              0,
              "#0d0887"
             ],
             [
              0.1111111111111111,
              "#46039f"
             ],
             [
              0.2222222222222222,
              "#7201a8"
             ],
             [
              0.3333333333333333,
              "#9c179e"
             ],
             [
              0.4444444444444444,
              "#bd3786"
             ],
             [
              0.5555555555555556,
              "#d8576b"
             ],
             [
              0.6666666666666666,
              "#ed7953"
             ],
             [
              0.7777777777777778,
              "#fb9f3a"
             ],
             [
              0.8888888888888888,
              "#fdca26"
             ],
             [
              1,
              "#f0f921"
             ]
            ],
            "type": "heatmapgl"
           }
          ],
          "histogram": [
           {
            "marker": {
             "pattern": {
              "fillmode": "overlay",
              "size": 10,
              "solidity": 0.2
             }
            },
            "type": "histogram"
           }
          ],
          "histogram2d": [
           {
            "colorbar": {
             "outlinewidth": 0,
             "ticks": ""
            },
            "colorscale": [
             [
              0,
              "#0d0887"
             ],
             [
              0.1111111111111111,
              "#46039f"
             ],
             [
              0.2222222222222222,
              "#7201a8"
             ],
             [
              0.3333333333333333,
              "#9c179e"
             ],
             [
              0.4444444444444444,
              "#bd3786"
             ],
             [
              0.5555555555555556,
              "#d8576b"
             ],
             [
              0.6666666666666666,
              "#ed7953"
             ],
             [
              0.7777777777777778,
              "#fb9f3a"
             ],
             [
              0.8888888888888888,
              "#fdca26"
             ],
             [
              1,
              "#f0f921"
             ]
            ],
            "type": "histogram2d"
           }
          ],
          "histogram2dcontour": [
           {
            "colorbar": {
             "outlinewidth": 0,
             "ticks": ""
            },
            "colorscale": [
             [
              0,
              "#0d0887"
             ],
             [
              0.1111111111111111,
              "#46039f"
             ],
             [
              0.2222222222222222,
              "#7201a8"
             ],
             [
              0.3333333333333333,
              "#9c179e"
             ],
             [
              0.4444444444444444,
              "#bd3786"
             ],
             [
              0.5555555555555556,
              "#d8576b"
             ],
             [
              0.6666666666666666,
              "#ed7953"
             ],
             [
              0.7777777777777778,
              "#fb9f3a"
             ],
             [
              0.8888888888888888,
              "#fdca26"
             ],
             [
              1,
              "#f0f921"
             ]
            ],
            "type": "histogram2dcontour"
           }
          ],
          "mesh3d": [
           {
            "colorbar": {
             "outlinewidth": 0,
             "ticks": ""
            },
            "type": "mesh3d"
           }
          ],
          "parcoords": [
           {
            "line": {
             "colorbar": {
              "outlinewidth": 0,
              "ticks": ""
             }
            },
            "type": "parcoords"
           }
          ],
          "pie": [
           {
            "automargin": true,
            "type": "pie"
           }
          ],
          "scatter": [
           {
            "fillpattern": {
             "fillmode": "overlay",
             "size": 10,
             "solidity": 0.2
            },
            "type": "scatter"
           }
          ],
          "scatter3d": [
           {
            "line": {
             "colorbar": {
              "outlinewidth": 0,
              "ticks": ""
             }
            },
            "marker": {
             "colorbar": {
              "outlinewidth": 0,
              "ticks": ""
             }
            },
            "type": "scatter3d"
           }
          ],
          "scattercarpet": [
           {
            "marker": {
             "colorbar": {
              "outlinewidth": 0,
              "ticks": ""
             }
            },
            "type": "scattercarpet"
           }
          ],
          "scattergeo": [
           {
            "marker": {
             "colorbar": {
              "outlinewidth": 0,
              "ticks": ""
             }
            },
            "type": "scattergeo"
           }
          ],
          "scattergl": [
           {
            "marker": {
             "colorbar": {
              "outlinewidth": 0,
              "ticks": ""
             }
            },
            "type": "scattergl"
           }
          ],
          "scattermapbox": [
           {
            "marker": {
             "colorbar": {
              "outlinewidth": 0,
              "ticks": ""
             }
            },
            "type": "scattermapbox"
           }
          ],
          "scatterpolar": [
           {
            "marker": {
             "colorbar": {
              "outlinewidth": 0,
              "ticks": ""
             }
            },
            "type": "scatterpolar"
           }
          ],
          "scatterpolargl": [
           {
            "marker": {
             "colorbar": {
              "outlinewidth": 0,
              "ticks": ""
             }
            },
            "type": "scatterpolargl"
           }
          ],
          "scatterternary": [
           {
            "marker": {
             "colorbar": {
              "outlinewidth": 0,
              "ticks": ""
             }
            },
            "type": "scatterternary"
           }
          ],
          "surface": [
           {
            "colorbar": {
             "outlinewidth": 0,
             "ticks": ""
            },
            "colorscale": [
             [
              0,
              "#0d0887"
             ],
             [
              0.1111111111111111,
              "#46039f"
             ],
             [
              0.2222222222222222,
              "#7201a8"
             ],
             [
              0.3333333333333333,
              "#9c179e"
             ],
             [
              0.4444444444444444,
              "#bd3786"
             ],
             [
              0.5555555555555556,
              "#d8576b"
             ],
             [
              0.6666666666666666,
              "#ed7953"
             ],
             [
              0.7777777777777778,
              "#fb9f3a"
             ],
             [
              0.8888888888888888,
              "#fdca26"
             ],
             [
              1,
              "#f0f921"
             ]
            ],
            "type": "surface"
           }
          ],
          "table": [
           {
            "cells": {
             "fill": {
              "color": "#EBF0F8"
             },
             "line": {
              "color": "white"
             }
            },
            "header": {
             "fill": {
              "color": "#C8D4E3"
             },
             "line": {
              "color": "white"
             }
            },
            "type": "table"
           }
          ]
         },
         "layout": {
          "annotationdefaults": {
           "arrowcolor": "#2a3f5f",
           "arrowhead": 0,
           "arrowwidth": 1
          },
          "autotypenumbers": "strict",
          "coloraxis": {
           "colorbar": {
            "outlinewidth": 0,
            "ticks": ""
           }
          },
          "colorscale": {
           "diverging": [
            [
             0,
             "#8e0152"
            ],
            [
             0.1,
             "#c51b7d"
            ],
            [
             0.2,
             "#de77ae"
            ],
            [
             0.3,
             "#f1b6da"
            ],
            [
             0.4,
             "#fde0ef"
            ],
            [
             0.5,
             "#f7f7f7"
            ],
            [
             0.6,
             "#e6f5d0"
            ],
            [
             0.7,
             "#b8e186"
            ],
            [
             0.8,
             "#7fbc41"
            ],
            [
             0.9,
             "#4d9221"
            ],
            [
             1,
             "#276419"
            ]
           ],
           "sequential": [
            [
             0,
             "#0d0887"
            ],
            [
             0.1111111111111111,
             "#46039f"
            ],
            [
             0.2222222222222222,
             "#7201a8"
            ],
            [
             0.3333333333333333,
             "#9c179e"
            ],
            [
             0.4444444444444444,
             "#bd3786"
            ],
            [
             0.5555555555555556,
             "#d8576b"
            ],
            [
             0.6666666666666666,
             "#ed7953"
            ],
            [
             0.7777777777777778,
             "#fb9f3a"
            ],
            [
             0.8888888888888888,
             "#fdca26"
            ],
            [
             1,
             "#f0f921"
            ]
           ],
           "sequentialminus": [
            [
             0,
             "#0d0887"
            ],
            [
             0.1111111111111111,
             "#46039f"
            ],
            [
             0.2222222222222222,
             "#7201a8"
            ],
            [
             0.3333333333333333,
             "#9c179e"
            ],
            [
             0.4444444444444444,
             "#bd3786"
            ],
            [
             0.5555555555555556,
             "#d8576b"
            ],
            [
             0.6666666666666666,
             "#ed7953"
            ],
            [
             0.7777777777777778,
             "#fb9f3a"
            ],
            [
             0.8888888888888888,
             "#fdca26"
            ],
            [
             1,
             "#f0f921"
            ]
           ]
          },
          "colorway": [
           "#636efa",
           "#EF553B",
           "#00cc96",
           "#ab63fa",
           "#FFA15A",
           "#19d3f3",
           "#FF6692",
           "#B6E880",
           "#FF97FF",
           "#FECB52"
          ],
          "font": {
           "color": "#2a3f5f"
          },
          "geo": {
           "bgcolor": "white",
           "lakecolor": "white",
           "landcolor": "#E5ECF6",
           "showlakes": true,
           "showland": true,
           "subunitcolor": "white"
          },
          "hoverlabel": {
           "align": "left"
          },
          "hovermode": "closest",
          "mapbox": {
           "style": "light"
          },
          "paper_bgcolor": "white",
          "plot_bgcolor": "#E5ECF6",
          "polar": {
           "angularaxis": {
            "gridcolor": "white",
            "linecolor": "white",
            "ticks": ""
           },
           "bgcolor": "#E5ECF6",
           "radialaxis": {
            "gridcolor": "white",
            "linecolor": "white",
            "ticks": ""
           }
          },
          "scene": {
           "xaxis": {
            "backgroundcolor": "#E5ECF6",
            "gridcolor": "white",
            "gridwidth": 2,
            "linecolor": "white",
            "showbackground": true,
            "ticks": "",
            "zerolinecolor": "white"
           },
           "yaxis": {
            "backgroundcolor": "#E5ECF6",
            "gridcolor": "white",
            "gridwidth": 2,
            "linecolor": "white",
            "showbackground": true,
            "ticks": "",
            "zerolinecolor": "white"
           },
           "zaxis": {
            "backgroundcolor": "#E5ECF6",
            "gridcolor": "white",
            "gridwidth": 2,
            "linecolor": "white",
            "showbackground": true,
            "ticks": "",
            "zerolinecolor": "white"
           }
          },
          "shapedefaults": {
           "line": {
            "color": "#2a3f5f"
           }
          },
          "ternary": {
           "aaxis": {
            "gridcolor": "white",
            "linecolor": "white",
            "ticks": ""
           },
           "baxis": {
            "gridcolor": "white",
            "linecolor": "white",
            "ticks": ""
           },
           "bgcolor": "#E5ECF6",
           "caxis": {
            "gridcolor": "white",
            "linecolor": "white",
            "ticks": ""
           }
          },
          "title": {
           "x": 0.05
          },
          "xaxis": {
           "automargin": true,
           "gridcolor": "white",
           "linecolor": "white",
           "ticks": "",
           "title": {
            "standoff": 15
           },
           "zerolinecolor": "white",
           "zerolinewidth": 2
          },
          "yaxis": {
           "automargin": true,
           "gridcolor": "white",
           "linecolor": "white",
           "ticks": "",
           "title": {
            "standoff": 15
           },
           "zerolinecolor": "white",
           "zerolinewidth": 2
          }
         }
        },
        "title": {
         "text": "Connection Map Depicting Flights from Brazil to All Other Countries"
        },
        "width": 900
       }
      }
     },
     "metadata": {},
     "output_type": "display_data"
    }
   ],
   "source": [
    "plot_routes(df,date_start,date_end,\"BOS\",\"AverageArrivalDelay\").show()"
   ]
  },
  {
   "cell_type": "code",
   "execution_count": null,
   "metadata": {},
   "outputs": [],
   "source": []
  }
 ],
 "metadata": {
  "kernelspec": {
   "display_name": "Python 3.10.7 64-bit",
   "language": "python",
   "name": "python3"
  },
  "language_info": {
   "codemirror_mode": {
    "name": "ipython",
    "version": 3
   },
   "file_extension": ".py",
   "mimetype": "text/x-python",
   "name": "python",
   "nbconvert_exporter": "python",
   "pygments_lexer": "ipython3",
   "version": "3.10.7"
  },
  "orig_nbformat": 4,
  "vscode": {
   "interpreter": {
    "hash": "b0fa6594d8f4cbf19f97940f81e996739fb7646882a419484c72d19e05852a7e"
   }
  }
 },
 "nbformat": 4,
 "nbformat_minor": 2
}
