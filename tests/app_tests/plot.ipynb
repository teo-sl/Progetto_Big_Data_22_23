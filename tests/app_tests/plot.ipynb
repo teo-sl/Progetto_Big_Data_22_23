{
 "cells": [
  {
   "cell_type": "code",
   "execution_count": 5,
   "metadata": {},
   "outputs": [],
   "source": [
    "import plotly.express as px\n",
    "import plotly.graph_objs as go\n",
    "import pandas as pd\n",
    "import numpy as np\n",
    "from pyspark.sql import SparkSession\n",
    "from pyspark.sql.functions import *\n",
    "from plotly.subplots import make_subplots\n",
    "import plotly.offline as py\n"
   ]
  },
  {
   "cell_type": "code",
   "execution_count": 6,
   "metadata": {},
   "outputs": [
    {
     "name": "stdout",
     "output_type": "stream",
     "text": [
      "22/12/25 11:02:02 WARN Utils: Your hostname, MacBook-Air-di-Teodoro.local resolves to a loopback address: 127.0.0.1; using 192.168.69.184 instead (on interface en0)\n",
      "22/12/25 11:02:02 WARN Utils: Set SPARK_LOCAL_IP if you need to bind to another address\n"
     ]
    },
    {
     "name": "stderr",
     "output_type": "stream",
     "text": [
      "Setting default log level to \"WARN\".\n",
      "To adjust logging level use sc.setLogLevel(newLevel). For SparkR, use setLogLevel(newLevel).\n"
     ]
    },
    {
     "name": "stdout",
     "output_type": "stream",
     "text": [
      "22/12/25 11:02:03 WARN NativeCodeLoader: Unable to load native-hadoop library for your platform... using builtin-java classes where applicable\n"
     ]
    }
   ],
   "source": [
    "spark = SparkSession.builder.appName(\"flights\").getOrCreate()\n",
    "import json\n",
    "from pyspark.sql.types import StructType, StructField, StringType, IntegerType, DoubleType, DateType, TimestampType\n",
    "with open(\"../matrix/schema.json\",\"r\") as f:\n",
    "    schema = StructType.fromJson(json.load(f))"
   ]
  },
  {
   "cell_type": "code",
   "execution_count": 7,
   "metadata": {},
   "outputs": [],
   "source": [
    "df = spark.read.csv(\"../../data.nosync/cleaned/cleaned_flights.csv\",schema=schema, header=True)"
   ]
  },
  {
   "cell_type": "code",
   "execution_count": 8,
   "metadata": {},
   "outputs": [],
   "source": [
    "airports_sp = spark.read.csv(\"../../preprocessing/airports.csv\", header=True,inferSchema=True)\n",
    "airports = airports_sp.toPandas()"
   ]
  },
  {
   "cell_type": "code",
   "execution_count": 56,
   "metadata": {},
   "outputs": [
    {
     "data": {
      "text/html": [
       "<div>\n",
       "<style scoped>\n",
       "    .dataframe tbody tr th:only-of-type {\n",
       "        vertical-align: middle;\n",
       "    }\n",
       "\n",
       "    .dataframe tbody tr th {\n",
       "        vertical-align: top;\n",
       "    }\n",
       "\n",
       "    .dataframe thead th {\n",
       "        text-align: right;\n",
       "    }\n",
       "</style>\n",
       "<table border=\"1\" class=\"dataframe\">\n",
       "  <thead>\n",
       "    <tr style=\"text-align: right;\">\n",
       "      <th></th>\n",
       "      <th>State</th>\n",
       "      <th>unk</th>\n",
       "      <th>Abbreviation</th>\n",
       "    </tr>\n",
       "  </thead>\n",
       "  <tbody>\n",
       "    <tr>\n",
       "      <th>0</th>\n",
       "      <td>Alabama</td>\n",
       "      <td>Ala.</td>\n",
       "      <td>AL</td>\n",
       "    </tr>\n",
       "    <tr>\n",
       "      <th>1</th>\n",
       "      <td>Alaska</td>\n",
       "      <td>Alaska</td>\n",
       "      <td>AK</td>\n",
       "    </tr>\n",
       "    <tr>\n",
       "      <th>2</th>\n",
       "      <td>Arizona</td>\n",
       "      <td>Ariz.</td>\n",
       "      <td>AZ</td>\n",
       "    </tr>\n",
       "    <tr>\n",
       "      <th>3</th>\n",
       "      <td>Arkansas</td>\n",
       "      <td>Ark.</td>\n",
       "      <td>AR</td>\n",
       "    </tr>\n",
       "    <tr>\n",
       "      <th>4</th>\n",
       "      <td>California</td>\n",
       "      <td>Calif.</td>\n",
       "      <td>CA</td>\n",
       "    </tr>\n",
       "  </tbody>\n",
       "</table>\n",
       "</div>"
      ],
      "text/plain": [
       "        State     unk Abbreviation\n",
       "0     Alabama    Ala.           AL\n",
       "1      Alaska  Alaska           AK\n",
       "2     Arizona   Ariz.           AZ\n",
       "3    Arkansas    Ark.           AR\n",
       "4  California  Calif.           CA"
      ]
     },
     "execution_count": 56,
     "metadata": {},
     "output_type": "execute_result"
    }
   ],
   "source": [
    "# get corrispondence between us states abbreviations and full names, from a dataset on internet, puerto rico included\n",
    "states = pd.read_csv(\"../../states.csv\",delimiter=\"\\t\",header=None)\n",
    "states.columns = [\"State\",\"unk\",\"Abbreviation\"]\n",
    "states.head()"
   ]
  },
  {
   "cell_type": "code",
   "execution_count": 14,
   "metadata": {},
   "outputs": [],
   "source": [
    "def routes_queries(df,date_start,date_end,origin=\"BOS\",query=\"NumFlights\",scope=\"airports\"):\n",
    "    df_aggregated = df.filter((col(\"Origin\") == origin))\n",
    "    df_aggregated = df_aggregated.filter((col(\"FlightDate\") >= date_start) & (col(\"FlightDate\") <= date_end))\n",
    "    # aggregate by flight date, day of weew, Origin and Dest, count the number of flights and average the arrival delay\n",
    "    if scope == \"airports\":\n",
    "        df_aggregated = df_aggregated.groupBy(\"Origin\",\"Dest\",\"ORIGIN_LATITUDE\",\"ORIGIN_LONGITUDE\",\"DEST_LATITUDE\",\"DEST_LONGITUDE\").agg({\"ArrDelay\": \"avg\",\"*\":\"count\"}).withColumnRenamed(\"avg(ArrDelay)\", \"AverageArrivalDelay\").withColumnRenamed(\"count(1)\", \"NumFlights\")\n",
    "    else:\n",
    "        df_aggregated = df_aggregated.groupBy(\"ORIGIN_STATE\",\"DEST_STATE\").agg({\"ArrDelay\": \"avg\",\"*\":\"count\",\"ORIGIN_LATITUDE\":\"avg\",\"DEST_LATITUDE\":\"avg\",\"ORIGIN_LONGITUDE\":\"avg\",\"DEST_LONGITUDE\":\"avg\"}).withColumnRenamed(\"avg(ArrDelay)\", \"AverageArrivalDelay\").withColumnRenamed(\"count(1)\", \"NumFlights\")\n",
    "        # rename columns\n",
    "        df_aggregated = df_aggregated.withColumnRenamed(\"avg(ORIGIN_LATITUDE)\", \"ORIGIN_LATITUDE\").withColumnRenamed(\"avg(ORIGIN_LONGITUDE)\", \"ORIGIN_LONGITUDE\").withColumnRenamed(\"avg(DEST_LATITUDE)\", \"DEST_LATITUDE\").withColumnRenamed(\"avg(DEST_LONGITUDE)\", \"DEST_LONGITUDE\")\n",
    "\n",
    "    # sort by query and take the first 100 rows\n",
    "    df_aggregated = df_aggregated.orderBy(df_aggregated[query].desc()).limit(100)\n",
    "    return df_aggregated"
   ]
  },
  {
   "cell_type": "code",
   "execution_count": 10,
   "metadata": {},
   "outputs": [],
   "source": [
    "# create a timestamp object from the string\n",
    "date_start = \"2013-02-01\"\n",
    "date_end = \"2013-12-28\"\n",
    "# convert the string to a timestamp object\n",
    "date_start = pd.Timestamp(date_start)\n",
    "date_end = pd.Timestamp(date_end)\n"
   ]
  },
  {
   "cell_type": "code",
   "execution_count": 7,
   "metadata": {},
   "outputs": [],
   "source": [
    "df_aggregatedp = routes_queries(df,date_start,date_end)\n",
    "#show on map the routes\n"
   ]
  },
  {
   "cell_type": "code",
   "execution_count": 106,
   "metadata": {},
   "outputs": [
    {
     "name": "stderr",
     "output_type": "stream",
     "text": [
      "                                                                                \r"
     ]
    }
   ],
   "source": [
    "df_aggregatedp=df_aggregatedp.toPandas()"
   ]
  },
  {
   "cell_type": "code",
   "execution_count": 107,
   "metadata": {},
   "outputs": [],
   "source": [
    "# join the airports dataframe with the aggregated dataframe compare with Origin and Dest\n",
    "df_aggregatedp = df_aggregatedp.merge(airports, left_on=\"Origin\", right_on=\"IATA\")\n",
    "df_aggregatedp = df_aggregatedp.merge(airports, left_on=\"Dest\", right_on=\"IATA\")\n"
   ]
  },
  {
   "cell_type": "code",
   "execution_count": 108,
   "metadata": {},
   "outputs": [],
   "source": [
    "df_aggregated = df_aggregatedp.sort_values(by=\"AverageArrivalDelay\", ascending=False).head(100)"
   ]
  },
  {
   "cell_type": "code",
   "execution_count": 112,
   "metadata": {},
   "outputs": [],
   "source": [
    "df_aggregated[\"AverageArrivalDelay\"] = df_aggregated[\"AverageArrivalDelay\"]+ df_aggregated[\"AverageArrivalDelay\"].min()*-1"
   ]
  },
  {
   "cell_type": "code",
   "execution_count": 113,
   "metadata": {},
   "outputs": [
    {
     "data": {
      "text/plain": [
       "0.0"
      ]
     },
     "execution_count": 113,
     "metadata": {},
     "output_type": "execute_result"
    }
   ],
   "source": [
    "df_aggregated[\"AverageArrivalDelay\"].min()"
   ]
  },
  {
   "cell_type": "code",
   "execution_count": 24,
   "metadata": {},
   "outputs": [
    {
     "data": {
      "text/html": [
       "<div>\n",
       "<style scoped>\n",
       "    .dataframe tbody tr th:only-of-type {\n",
       "        vertical-align: middle;\n",
       "    }\n",
       "\n",
       "    .dataframe tbody tr th {\n",
       "        vertical-align: top;\n",
       "    }\n",
       "\n",
       "    .dataframe thead th {\n",
       "        text-align: right;\n",
       "    }\n",
       "</style>\n",
       "<table border=\"1\" class=\"dataframe\">\n",
       "  <thead>\n",
       "    <tr style=\"text-align: right;\">\n",
       "      <th></th>\n",
       "      <th>State</th>\n",
       "      <th>Abbreviation</th>\n",
       "    </tr>\n",
       "  </thead>\n",
       "  <tbody>\n",
       "    <tr>\n",
       "      <th>0</th>\n",
       "      <td>Alabama</td>\n",
       "      <td>AL</td>\n",
       "    </tr>\n",
       "    <tr>\n",
       "      <th>1</th>\n",
       "      <td>Alaska</td>\n",
       "      <td>AK</td>\n",
       "    </tr>\n",
       "    <tr>\n",
       "      <th>2</th>\n",
       "      <td>Arizona</td>\n",
       "      <td>AZ</td>\n",
       "    </tr>\n",
       "    <tr>\n",
       "      <th>3</th>\n",
       "      <td>Arkansas</td>\n",
       "      <td>AR</td>\n",
       "    </tr>\n",
       "    <tr>\n",
       "      <th>4</th>\n",
       "      <td>California</td>\n",
       "      <td>CA</td>\n",
       "    </tr>\n",
       "  </tbody>\n",
       "</table>\n",
       "</div>"
      ],
      "text/plain": [
       "        State Abbreviation\n",
       "0     Alabama           AL\n",
       "1      Alaska           AK\n",
       "2     Arizona           AZ\n",
       "3    Arkansas           AR\n",
       "4  California           CA"
      ]
     },
     "execution_count": 24,
     "metadata": {},
     "output_type": "execute_result"
    }
   ],
   "source": [
    "states.head()"
   ]
  },
  {
   "cell_type": "code",
   "execution_count": 81,
   "metadata": {},
   "outputs": [],
   "source": [
    "def plot_routes(df,date_start,date_to,origin=\"BOS\",query=\"NumFlights\",scope=\"airports\"):\n",
    "    df_aggregated=routes_queries(df,date_start,date_to,origin,query,scope).toPandas()\n",
    "    print(len(df_aggregated))\n",
    "    if scope == \"airports\":\n",
    "        df_aggregated = df_aggregated.merge(airports, left_on=\"Origin\", right_on=\"IATA\")\n",
    "        df_aggregated = df_aggregated.merge(airports, left_on=\"Dest\", right_on=\"IATA\")\n",
    "    else:\n",
    "        # join with states\n",
    "        df_aggregated = df_aggregated.merge(states, left_on=\"ORIGIN_STATE\", right_on=\"Abbreviation\")\n",
    "        df_aggregated = df_aggregated.merge(states, left_on=\"DEST_STATE\", right_on=\"Abbreviation\")\n",
    "        \n",
    "    \n",
    "    fig = go.Figure()\n",
    "    \n",
    "\n",
    "\n",
    "\n",
    "    source_to_dest = zip(df_aggregated[\"ORIGIN_LATITUDE\"], df_aggregated[\"DEST_LATITUDE\"],\n",
    "                         df_aggregated[\"ORIGIN_LONGITUDE\"], df_aggregated[\"DEST_LONGITUDE\"],\n",
    "                         df_aggregated[query])\n",
    "\n",
    "    ## Loop thorugh each flight entry to add line between source and destination\n",
    "    for slat,dlat, slon, dlon, num_flights in source_to_dest:\n",
    "        fig.add_trace(go.Scattergeo(\n",
    "                            lat = [slat,dlat],\n",
    "                            lon = [slon, dlon],\n",
    "                            mode = 'lines',\n",
    "                            line = dict(width = 1, color=\"red\"),\n",
    "                            # disable hover info\n",
    "                            hoverinfo=\"skip\",\n",
    "                            textposition=\"top center\"\n",
    "                    ))\n",
    "\n",
    "    ## Logic to create labels of source and destination cities of flights\n",
    "    if scope==\"airports\":\n",
    "        cities = df_aggregated[\"AIRPORT_x\"].values.tolist()+df_aggregated[\"AIRPORT_y\"].values.tolist()\n",
    "    else:\n",
    "        cities = df_aggregated[\"State_x\"].values.tolist()+df_aggregated[\"State_y\"].values.tolist()\n",
    "\n",
    "    scatter_hover_data = [city for city in cities]\n",
    "\n",
    "    if query == \"AverageArrivalDelay\":\n",
    "        df_aggregated[query] = df_aggregated[query] + df_aggregated[query].min()*-1\n",
    "\n",
    "    # create a column as concatenation of AIRPORT_x and query\n",
    "    target_col = \"AIRPORT_y\" if scope==\"airports\" else \"State_y\"\n",
    "\n",
    "    df_aggregated[target_col] = df_aggregated[target_col] + \"<br>\"+query+\" : \"+ df_aggregated[query].astype(str)\n",
    "    text = df_aggregated[target_col].values.tolist()\n",
    "\n",
    "    df_aggregated[query]=df_aggregated[query]/df_aggregated[query].max()\n",
    "    ## Loop thorugh each flight entry to plot source and destination as points.\n",
    "    fig.add_trace(\n",
    "        go.Scattergeo(\n",
    "                    lon = df_aggregated[\"DEST_LONGITUDE\"].values.tolist(),\n",
    "                    lat = df_aggregated[\"DEST_LATITUDE\"].values.tolist(),\n",
    "                    hoverinfo = 'text',\n",
    "                    text = text,\n",
    "                    mode = 'markers',\n",
    "                    marker = dict(size = df_aggregated[query]*20+1, color = 'blue', opacity=0.9)),\n",
    "                    # define the size of the marker based on the number of flights\n",
    "                    #     \n",
    "        )\n",
    "\n",
    "    ## Update graph layout to improve graph styling.\n",
    "    fig.update_layout(title_text=\"Connection Map Depicting Flights from Brazil to All Other Countries\",\n",
    "                      height=700, width=900,\n",
    "                      margin={\"t\":0,\"b\":0,\"l\":0, \"r\":0, \"pad\":0},\n",
    "                      showlegend=False,\n",
    "                      geo= dict(showland = True, landcolor = 'white', countrycolor = 'grey', bgcolor=\"lightgrey\",scope='north america'))\n",
    "\n",
    "    return fig"
   ]
  },
  {
   "cell_type": "code",
   "execution_count": 82,
   "metadata": {},
   "outputs": [
    {
     "name": "stderr",
     "output_type": "stream",
     "text": [
      "[Stage 84:=================================================>      (16 + 2) / 18]\r"
     ]
    },
    {
     "name": "stdout",
     "output_type": "stream",
     "text": [
      "58\n"
     ]
    },
    {
     "name": "stderr",
     "output_type": "stream",
     "text": [
      "                                                                                \r"
     ]
    },
    {
     "data": {
      "application/vnd.plotly.v1+json": {
       "config": {
        "plotlyServerURL": "https://plot.ly"
       },
       "data": [
        {
         "hoverinfo": "skip",
         "lat": [
          42.3643475,
          38.85208333
         ],
         "line": {
          "color": "red",
          "width": 1
         },
         "lon": [
          -71.00517917,
          -77.03772222
         ],
         "mode": "lines",
         "textposition": "top center",
         "type": "scattergeo"
        },
        {
         "hoverinfo": "skip",
         "lat": [
          42.3643475,
          41.979595
         ],
         "line": {
          "color": "red",
          "width": 1
         },
         "lon": [
          -71.00517917,
          -87.90446417
         ],
         "mode": "lines",
         "textposition": "top center",
         "type": "scattergeo"
        },
        {
         "hoverinfo": "skip",
         "lat": [
          42.3643475,
          39.87195278
         ],
         "line": {
          "color": "red",
          "width": 1
         },
         "lon": [
          -71.00517917,
          -75.24114083
         ],
         "mode": "lines",
         "textposition": "top center",
         "type": "scattergeo"
        },
        {
         "hoverinfo": "skip",
         "lat": [
          42.3643475,
          40.63975111
         ],
         "line": {
          "color": "red",
          "width": 1
         },
         "lon": [
          -71.00517917,
          -73.77892556
         ],
         "mode": "lines",
         "textposition": "top center",
         "type": "scattergeo"
        },
        {
         "hoverinfo": "skip",
         "lat": [
          42.3643475,
          39.17540167
         ],
         "line": {
          "color": "red",
          "width": 1
         },
         "lon": [
          -71.00517917,
          -76.66819833
         ],
         "mode": "lines",
         "textposition": "top center",
         "type": "scattergeo"
        },
        {
         "hoverinfo": "skip",
         "lat": [
          42.3643475,
          33.64044444
         ],
         "line": {
          "color": "red",
          "width": 1
         },
         "lon": [
          -71.00517917,
          -84.42694444
         ],
         "mode": "lines",
         "textposition": "top center",
         "type": "scattergeo"
        },
        {
         "hoverinfo": "skip",
         "lat": [
          42.3643475,
          40.69249722
         ],
         "line": {
          "color": "red",
          "width": 1
         },
         "lon": [
          -71.00517917,
          -74.16866056
         ],
         "mode": "lines",
         "textposition": "top center",
         "type": "scattergeo"
        },
        {
         "hoverinfo": "skip",
         "lat": [
          42.3643475,
          40.77724306
         ],
         "line": {
          "color": "red",
          "width": 1
         },
         "lon": [
          -71.00517917,
          -73.87260917
         ],
         "mode": "lines",
         "textposition": "top center",
         "type": "scattergeo"
        },
        {
         "hoverinfo": "skip",
         "lat": [
          42.3643475,
          37.61900194
         ],
         "line": {
          "color": "red",
          "width": 1
         },
         "lon": [
          -71.00517917,
          -122.3748433
         ],
         "mode": "lines",
         "textposition": "top center",
         "type": "scattergeo"
        },
        {
         "hoverinfo": "skip",
         "lat": [
          42.3643475,
          32.89595056
         ],
         "line": {
          "color": "red",
          "width": 1
         },
         "lon": [
          -71.00517917,
          -97.0372
         ],
         "mode": "lines",
         "textposition": "top center",
         "type": "scattergeo"
        },
        {
         "hoverinfo": "skip",
         "lat": [
          42.3643475,
          35.21401111
         ],
         "line": {
          "color": "red",
          "width": 1
         },
         "lon": [
          -71.00517917,
          -80.94312583
         ],
         "mode": "lines",
         "textposition": "top center",
         "type": "scattergeo"
        },
        {
         "hoverinfo": "skip",
         "lat": [
          42.3643475,
          33.94253611
         ],
         "line": {
          "color": "red",
          "width": 1
         },
         "lon": [
          -71.00517917,
          -118.4080744
         ],
         "mode": "lines",
         "textposition": "top center",
         "type": "scattergeo"
        },
        {
         "hoverinfo": "skip",
         "lat": [
          42.3643475,
          28.42888889
         ],
         "line": {
          "color": "red",
          "width": 1
         },
         "lon": [
          -71.00517917,
          -81.31602778
         ],
         "mode": "lines",
         "textposition": "top center",
         "type": "scattergeo"
        },
        {
         "hoverinfo": "skip",
         "lat": [
          42.3643475,
          35.87763889
         ],
         "line": {
          "color": "red",
          "width": 1
         },
         "lon": [
          -71.00517917,
          -78.78747222
         ],
         "mode": "lines",
         "textposition": "top center",
         "type": "scattergeo"
        },
        {
         "hoverinfo": "skip",
         "lat": [
          42.3643475,
          38.94453194
         ],
         "line": {
          "color": "red",
          "width": 1
         },
         "lon": [
          -71.00517917,
          -77.45580972
         ],
         "mode": "lines",
         "textposition": "top center",
         "type": "scattergeo"
        },
        {
         "hoverinfo": "skip",
         "lat": [
          42.3643475,
          25.79325
         ],
         "line": {
          "color": "red",
          "width": 1
         },
         "lon": [
          -71.00517917,
          -80.29055556
         ],
         "mode": "lines",
         "textposition": "top center",
         "type": "scattergeo"
        },
        {
         "hoverinfo": "skip",
         "lat": [
          42.3643475,
          39.85840806
         ],
         "line": {
          "color": "red",
          "width": 1
         },
         "lon": [
          -71.00517917,
          -104.6670019
         ],
         "mode": "lines",
         "textposition": "top center",
         "type": "scattergeo"
        },
        {
         "hoverinfo": "skip",
         "lat": [
          42.3643475,
          42.21205889
         ],
         "line": {
          "color": "red",
          "width": 1
         },
         "lon": [
          -71.00517917,
          -83.34883583
         ],
         "mode": "lines",
         "textposition": "top center",
         "type": "scattergeo"
        },
        {
         "hoverinfo": "skip",
         "lat": [
          42.3643475,
          26.07258333
         ],
         "line": {
          "color": "red",
          "width": 1
         },
         "lon": [
          -71.00517917,
          -80.15275
         ],
         "mode": "lines",
         "textposition": "top center",
         "type": "scattergeo"
        },
        {
         "hoverinfo": "skip",
         "lat": [
          42.3643475,
          29.98047222
         ],
         "line": {
          "color": "red",
          "width": 1
         },
         "lon": [
          -71.00517917,
          -95.33972222
         ],
         "mode": "lines",
         "textposition": "top center",
         "type": "scattergeo"
        },
        {
         "hoverinfo": "skip",
         "lat": [
          42.3643475,
          44.88054694
         ],
         "line": {
          "color": "red",
          "width": 1
         },
         "lon": [
          -71.00517917,
          -93.2169225
         ],
         "mode": "lines",
         "textposition": "top center",
         "type": "scattergeo"
        },
        {
         "hoverinfo": "skip",
         "lat": [
          42.3643475,
          26.53616667
         ],
         "line": {
          "color": "red",
          "width": 1
         },
         "lon": [
          -71.00517917,
          -81.75516667
         ],
         "mode": "lines",
         "textposition": "top center",
         "type": "scattergeo"
        },
        {
         "hoverinfo": "skip",
         "lat": [
          42.3643475,
          41.7859825
         ],
         "line": {
          "color": "red",
          "width": 1
         },
         "lon": [
          -71.00517917,
          -87.75242444
         ],
         "mode": "lines",
         "textposition": "top center",
         "type": "scattergeo"
        },
        {
         "hoverinfo": "skip",
         "lat": [
          42.3643475,
          42.94052472
         ],
         "line": {
          "color": "red",
          "width": 1
         },
         "lon": [
          -71.00517917,
          -78.73216667
         ],
         "mode": "lines",
         "textposition": "top center",
         "type": "scattergeo"
        },
        {
         "hoverinfo": "skip",
         "lat": [
          42.3643475,
          33.43416667
         ],
         "line": {
          "color": "red",
          "width": 1
         },
         "lon": [
          -71.00517917,
          -112.0080556
         ],
         "mode": "lines",
         "textposition": "top center",
         "type": "scattergeo"
        },
        {
         "hoverinfo": "skip",
         "lat": [
          42.3643475,
          47.44898194
         ],
         "line": {
          "color": "red",
          "width": 1
         },
         "lon": [
          -71.00517917,
          -122.3093131
         ],
         "mode": "lines",
         "textposition": "top center",
         "type": "scattergeo"
        },
        {
         "hoverinfo": "skip",
         "lat": [
          42.3643475,
          26.68316194
         ],
         "line": {
          "color": "red",
          "width": 1
         },
         "lon": [
          -71.00517917,
          -80.09559417
         ],
         "mode": "lines",
         "textposition": "top center",
         "type": "scattergeo"
        },
        {
         "hoverinfo": "skip",
         "lat": [
          42.3643475,
          27.97547222
         ],
         "line": {
          "color": "red",
          "width": 1
         },
         "lon": [
          -71.00517917,
          -82.53325
         ],
         "mode": "lines",
         "textposition": "top center",
         "type": "scattergeo"
        },
        {
         "hoverinfo": "skip",
         "lat": [
          42.3643475,
          40.49146583
         ],
         "line": {
          "color": "red",
          "width": 1
         },
         "lon": [
          -71.00517917,
          -80.23287083
         ],
         "mode": "lines",
         "textposition": "top center",
         "type": "scattergeo"
        },
        {
         "hoverinfo": "skip",
         "lat": [
          42.3643475,
          39.04614278
         ],
         "line": {
          "color": "red",
          "width": 1
         },
         "lon": [
          -71.00517917,
          -84.6621725
         ],
         "mode": "lines",
         "textposition": "top center",
         "type": "scattergeo"
        },
        {
         "hoverinfo": "skip",
         "lat": [
          42.3643475,
          18.43941667
         ],
         "line": {
          "color": "red",
          "width": 1
         },
         "lon": [
          -71.00517917,
          -66.00183333
         ],
         "mode": "lines",
         "textposition": "top center",
         "type": "scattergeo"
        },
        {
         "hoverinfo": "skip",
         "lat": [
          42.3643475,
          37.50516667
         ],
         "line": {
          "color": "red",
          "width": 1
         },
         "lon": [
          -71.00517917,
          -77.31966667
         ],
         "mode": "lines",
         "textposition": "top center",
         "type": "scattergeo"
        },
        {
         "hoverinfo": "skip",
         "lat": [
          42.3643475,
          32.73355611
         ],
         "line": {
          "color": "red",
          "width": 1
         },
         "lon": [
          -71.00517917,
          -117.1896567
         ],
         "mode": "lines",
         "textposition": "top center",
         "type": "scattergeo"
        },
        {
         "hoverinfo": "skip",
         "lat": [
          42.3643475,
          42.94722222
         ],
         "line": {
          "color": "red",
          "width": 1
         },
         "lon": [
          -71.00517917,
          -87.89658333
         ],
         "mode": "lines",
         "textposition": "top center",
         "type": "scattergeo"
        },
        {
         "hoverinfo": "skip",
         "lat": [
          42.3643475,
          36.08036111
         ],
         "line": {
          "color": "red",
          "width": 1
         },
         "lon": [
          -71.00517917,
          -115.1523333
         ],
         "mode": "lines",
         "textposition": "top center",
         "type": "scattergeo"
        },
        {
         "hoverinfo": "skip",
         "lat": [
          42.3643475,
          38.74768694
         ],
         "line": {
          "color": "red",
          "width": 1
         },
         "lon": [
          -71.00517917,
          -90.35998972
         ],
         "mode": "lines",
         "textposition": "top center",
         "type": "scattergeo"
        },
        {
         "hoverinfo": "skip",
         "lat": [
          42.3643475,
          29.64541861
         ],
         "line": {
          "color": "red",
          "width": 1
         },
         "lon": [
          -71.00517917,
          -95.27888889
         ],
         "mode": "lines",
         "textposition": "top center",
         "type": "scattergeo"
        },
        {
         "hoverinfo": "skip",
         "lat": [
          42.3643475,
          41.41089417
         ],
         "line": {
          "color": "red",
          "width": 1
         },
         "lon": [
          -71.00517917,
          -81.84939667
         ],
         "mode": "lines",
         "textposition": "top center",
         "type": "scattergeo"
        },
        {
         "hoverinfo": "skip",
         "lat": [
          42.3643475,
          36.12447667
         ],
         "line": {
          "color": "red",
          "width": 1
         },
         "lon": [
          -71.00517917,
          -86.67818222
         ],
         "mode": "lines",
         "textposition": "top center",
         "type": "scattergeo"
        },
        {
         "hoverinfo": "skip",
         "lat": [
          42.3643475,
          30.49405556
         ],
         "line": {
          "color": "red",
          "width": 1
         },
         "lon": [
          -71.00517917,
          -81.68786111
         ],
         "mode": "lines",
         "textposition": "top center",
         "type": "scattergeo"
        },
        {
         "hoverinfo": "skip",
         "lat": [
          42.3643475,
          45.58872222
         ],
         "line": {
          "color": "red",
          "width": 1
         },
         "lon": [
          -71.00517917,
          -122.5975
         ],
         "mode": "lines",
         "textposition": "top center",
         "type": "scattergeo"
        },
        {
         "hoverinfo": "skip",
         "lat": [
          42.3643475,
          40.78838778
         ],
         "line": {
          "color": "red",
          "width": 1
         },
         "lon": [
          -71.00517917,
          -111.9777731
         ],
         "mode": "lines",
         "textposition": "top center",
         "type": "scattergeo"
        },
        {
         "hoverinfo": "skip",
         "lat": [
          42.3643475,
          40.91631194
         ],
         "line": {
          "color": "red",
          "width": 1
         },
         "lon": [
          -71.00517917,
          -81.44246556
         ],
         "mode": "lines",
         "textposition": "top center",
         "type": "scattergeo"
        },
        {
         "hoverinfo": "skip",
         "lat": [
          42.3643475,
          39.29760528
         ],
         "line": {
          "color": "red",
          "width": 1
         },
         "lon": [
          -71.00517917,
          -94.71390556
         ],
         "mode": "lines",
         "textposition": "top center",
         "type": "scattergeo"
        },
        {
         "hoverinfo": "skip",
         "lat": [
          42.3643475,
          36.89461111
         ],
         "line": {
          "color": "red",
          "width": 1
         },
         "lon": [
          -71.00517917,
          -76.20122222
         ],
         "mode": "lines",
         "textposition": "top center",
         "type": "scattergeo"
        },
        {
         "hoverinfo": "skip",
         "lat": [
          42.3643475,
          32.89864639
         ],
         "line": {
          "color": "red",
          "width": 1
         },
         "lon": [
          -71.00517917,
          -80.04050583
         ],
         "mode": "lines",
         "textposition": "top center",
         "type": "scattergeo"
        },
        {
         "hoverinfo": "skip",
         "lat": [
          42.3643475,
          29.99338889
         ],
         "line": {
          "color": "red",
          "width": 1
         },
         "lon": [
          -71.00517917,
          -90.25802778
         ],
         "mode": "lines",
         "textposition": "top center",
         "type": "scattergeo"
        },
        {
         "hoverinfo": "skip",
         "lat": [
          42.3643475,
          27.39533333
         ],
         "line": {
          "color": "red",
          "width": 1
         },
         "lon": [
          -71.00517917,
          -82.55411111
         ],
         "mode": "lines",
         "textposition": "top center",
         "type": "scattergeo"
        },
        {
         "hoverinfo": "skip",
         "lat": [
          42.3643475,
          30.19453278
         ],
         "line": {
          "color": "red",
          "width": 1
         },
         "lon": [
          -71.00517917,
          -97.66987194
         ],
         "mode": "lines",
         "textposition": "top center",
         "type": "scattergeo"
        },
        {
         "hoverinfo": "skip",
         "lat": [
          42.3643475,
          33.81772222
         ],
         "line": {
          "color": "red",
          "width": 1
         },
         "lon": [
          -71.00517917,
          -118.1516111
         ],
         "mode": "lines",
         "textposition": "top center",
         "type": "scattergeo"
        },
        {
         "hoverinfo": "skip",
         "lat": [
          42.3643475,
          35.04241667
         ],
         "line": {
          "color": "red",
          "width": 1
         },
         "lon": [
          -71.00517917,
          -89.97666667
         ],
         "mode": "lines",
         "textposition": "top center",
         "type": "scattergeo"
        },
        {
         "hoverinfo": "skip",
         "lat": [
          42.3643475,
          37.36186194
         ],
         "line": {
          "color": "red",
          "width": 1
         },
         "lon": [
          -71.00517917,
          -121.9290089
         ],
         "mode": "lines",
         "textposition": "top center",
         "type": "scattergeo"
        },
        {
         "hoverinfo": "skip",
         "lat": [
          42.3643475,
          18.33730556
         ],
         "line": {
          "color": "red",
          "width": 1
         },
         "lon": [
          -71.00517917,
          -64.97336111
         ],
         "mode": "lines",
         "textposition": "top center",
         "type": "scattergeo"
        },
        {
         "hoverinfo": "skip",
         "lat": [
          42.3643475,
          41.25305194
         ],
         "line": {
          "color": "red",
          "width": 1
         },
         "lon": [
          -71.00517917,
          -70.06018139
         ],
         "mode": "lines",
         "textposition": "top center",
         "type": "scattergeo"
        },
        {
         "hoverinfo": "skip",
         "lat": [
          42.3643475,
          37.72129083
         ],
         "line": {
          "color": "red",
          "width": 1
         },
         "lon": [
          -71.00517917,
          -122.2207167
         ],
         "mode": "lines",
         "textposition": "top center",
         "type": "scattergeo"
        },
        {
         "hoverinfo": "skip",
         "lat": [
          42.3643475,
          39.71732917
         ],
         "line": {
          "color": "red",
          "width": 1
         },
         "lon": [
          -71.00517917,
          -86.29438417
         ],
         "mode": "lines",
         "textposition": "top center",
         "type": "scattergeo"
        },
        {
         "hoverinfo": "skip",
         "lat": [
          42.3643475,
          39.99798528
         ],
         "line": {
          "color": "red",
          "width": 1
         },
         "lon": [
          -71.00517917,
          -82.89188278
         ],
         "mode": "lines",
         "textposition": "top center",
         "type": "scattergeo"
        },
        {
         "hoverinfo": "skip",
         "lat": [
          42.3643475,
          33.67975
         ],
         "line": {
          "color": "red",
          "width": 1
         },
         "lon": [
          -71.00517917,
          -78.92833333
         ],
         "mode": "lines",
         "textposition": "top center",
         "type": "scattergeo"
        },
        {
         "hoverinfo": "text",
         "lat": [
          38.85208333,
          41.979595,
          39.87195278,
          40.63975111,
          39.17540167,
          33.64044444,
          40.69249722,
          40.77724306,
          37.61900194,
          32.89595056,
          35.21401111,
          33.94253611,
          28.42888889,
          35.87763889,
          38.94453194,
          25.79325,
          39.85840806,
          42.21205889,
          26.07258333,
          29.98047222,
          44.88054694,
          26.53616667,
          41.7859825,
          42.94052472,
          33.43416667,
          47.44898194,
          26.68316194,
          27.97547222,
          40.49146583,
          39.04614278,
          18.43941667,
          37.50516667,
          32.73355611,
          42.94722222,
          36.08036111,
          38.74768694,
          29.64541861,
          41.41089417,
          36.12447667,
          30.49405556,
          45.58872222,
          40.78838778,
          40.91631194,
          39.29760528,
          36.89461111,
          32.89864639,
          29.99338889,
          27.39533333,
          30.19453278,
          33.81772222,
          35.04241667,
          37.36186194,
          18.33730556,
          41.25305194,
          37.72129083,
          39.71732917,
          39.99798528,
          33.67975
         ],
         "lon": [
          -77.03772222,
          -87.90446417,
          -75.24114083,
          -73.77892556,
          -76.66819833,
          -84.42694444,
          -74.16866056,
          -73.87260917,
          -122.3748433,
          -97.0372,
          -80.94312583,
          -118.4080744,
          -81.31602778,
          -78.78747222,
          -77.45580972,
          -80.29055556,
          -104.6670019,
          -83.34883583,
          -80.15275,
          -95.33972222,
          -93.2169225,
          -81.75516667,
          -87.75242444,
          -78.73216667,
          -112.0080556,
          -122.3093131,
          -80.09559417,
          -82.53325,
          -80.23287083,
          -84.6621725,
          -66.00183333,
          -77.31966667,
          -117.1896567,
          -87.89658333,
          -115.1523333,
          -90.35998972,
          -95.27888889,
          -81.84939667,
          -86.67818222,
          -81.68786111,
          -122.5975,
          -111.9777731,
          -81.44246556,
          -94.71390556,
          -76.20122222,
          -80.04050583,
          -90.25802778,
          -82.55411111,
          -97.66987194,
          -118.1516111,
          -89.97666667,
          -121.9290089,
          -64.97336111,
          -70.06018139,
          -122.2207167,
          -86.29438417,
          -82.89188278,
          -78.92833333
         ],
         "marker": {
          "color": "blue",
          "opacity": 0.9,
          "size": [
           21,
           17.94826637314254,
           16.211887727022564,
           15.41937259218492,
           15.072647220693451,
           14.687396807925152,
           14.189323059988993,
           11.15410016510732,
           11.123830489818381,
           10.702806824435884,
           10.658778205833793,
           10.047881122729773,
           9.52779306549257,
           8.960924600990644,
           8.110621904237755,
           7.293340671436434,
           7.210787011557512,
           6.751238304898184,
           6.231150247660979,
           5.584479911942763,
           5.292790313703907,
           5.122179416620804,
           5.053384700055036,
           4.662630709961475,
           4.558062740781508,
           4.549807374793616,
           4.170060539350578,
           4.161805173362685,
           4.010456796917997,
           4.007705008255366,
           3.6664832140891583,
           3.3692900385250413,
           3.2151898734177213,
           3.179416620803522,
           3.039075399009356,
           2.9290038525041275,
           2.7776554760594387,
           2.6180517336268574,
           2.5712713263621354,
           2.5437534397358283,
           2.5134837644468906,
           2.5052283984589985,
           2.370390753990094,
           2.337369290038525,
           2.108970831040176,
           1.957622454595487,
           1.8915795266923499,
           1.8750687947165656,
           1.8750687947165656,
           1.7209686296092461,
           1.7154650522839847,
           1.577875619152449,
           1.4485415520088059,
           1.3109521188772701,
           1.2228948816730876,
           1.0302696752889378,
           1.0137589433131535,
           1.0027517886626307
          ]
         },
         "mode": "markers",
         "text": [
          "Ronald Reagan Washington National<br>NumFlights : 7268",
          "Chicago O'Hare International<br>NumFlights : 6159",
          "Philadelphia Intl<br>NumFlights : 5528",
          "John F Kennedy Intl<br>NumFlights : 5240",
          "Baltimore-Washington International<br>NumFlights : 5114",
          "William B Hartsfield-Atlanta Intl<br>NumFlights : 4974",
          "Newark Intl<br>NumFlights : 4793",
          "LaGuardia<br>NumFlights : 3690",
          "San Francisco International<br>NumFlights : 3679",
          "Dallas-Fort Worth International<br>NumFlights : 3526",
          "Charlotte Douglas International<br>NumFlights : 3510",
          "Los Angeles International<br>NumFlights : 3288",
          "Orlando International<br>NumFlights : 3099",
          "Raleigh-Durham International<br>NumFlights : 2893",
          "Washington Dulles International<br>NumFlights : 2584",
          "Miami International<br>NumFlights : 2287",
          "Denver Intl<br>NumFlights : 2257",
          "Detroit Metropolitan-Wayne County<br>NumFlights : 2090",
          "Fort Lauderdale-Hollywood Int'l<br>NumFlights : 1901",
          "George Bush Intercontinental<br>NumFlights : 1666",
          "Minneapolis-St Paul Intl<br>NumFlights : 1560",
          "Southwest Florida International<br>NumFlights : 1498",
          "Chicago Midway<br>NumFlights : 1473",
          "Buffalo Niagara Intl<br>NumFlights : 1331",
          "Phoenix Sky Harbor International<br>NumFlights : 1293",
          "Seattle-Tacoma Intl<br>NumFlights : 1290",
          "Palm Beach International<br>NumFlights : 1152",
          "Tampa International <br>NumFlights : 1149",
          "Pittsburgh International<br>NumFlights : 1094",
          "Cincinnati Northern Kentucky Intl<br>NumFlights : 1093",
          "Luis Munoz Marin International<br>NumFlights : 969",
          "Richmond International<br>NumFlights : 861",
          "San Diego International-Lindbergh <br>NumFlights : 805",
          "General Mitchell International<br>NumFlights : 792",
          "McCarran International<br>NumFlights : 741",
          "Lambert-St Louis International<br>NumFlights : 701",
          "William P X<br>NumFlights : 646",
          "Cleveland-Hopkins Intl<br>NumFlights : 588",
          "Nashville International<br>NumFlights : 571",
          "Jacksonville International<br>NumFlights : 561",
          "Portland Intl<br>NumFlights : 550",
          "Salt Lake City Intl<br>NumFlights : 547",
          "Akron-Canton Regional<br>NumFlights : 498",
          "Kansas City International<br>NumFlights : 486",
          "Norfolk International<br>NumFlights : 403",
          "Charleston AFB International<br>NumFlights : 348",
          "New Orleans International <br>NumFlights : 324",
          "Sarasota Bradenton International<br>NumFlights : 318",
          "Austin-Bergstrom International<br>NumFlights : 318",
          "Long Beach (Daugherty )<br>NumFlights : 262",
          "Memphis International<br>NumFlights : 260",
          "San Jose International<br>NumFlights : 210",
          "Cyril E. King<br>NumFlights : 163",
          "Nantucket Memorial<br>NumFlights : 113",
          "Metropolitan Oakland International<br>NumFlights : 81",
          "Indianapolis International<br>NumFlights : 11",
          "Port Columbus Intl<br>NumFlights : 5",
          "Myrtle Beach International<br>NumFlights : 1"
         ],
         "type": "scattergeo"
        }
       ],
       "layout": {
        "geo": {
         "bgcolor": "lightgrey",
         "countrycolor": "grey",
         "landcolor": "white",
         "scope": "north america",
         "showland": true
        },
        "height": 700,
        "margin": {
         "b": 0,
         "l": 0,
         "pad": 0,
         "r": 0,
         "t": 0
        },
        "showlegend": false,
        "template": {
         "data": {
          "bar": [
           {
            "error_x": {
             "color": "#2a3f5f"
            },
            "error_y": {
             "color": "#2a3f5f"
            },
            "marker": {
             "line": {
              "color": "#E5ECF6",
              "width": 0.5
             },
             "pattern": {
              "fillmode": "overlay",
              "size": 10,
              "solidity": 0.2
             }
            },
            "type": "bar"
           }
          ],
          "barpolar": [
           {
            "marker": {
             "line": {
              "color": "#E5ECF6",
              "width": 0.5
             },
             "pattern": {
              "fillmode": "overlay",
              "size": 10,
              "solidity": 0.2
             }
            },
            "type": "barpolar"
           }
          ],
          "carpet": [
           {
            "aaxis": {
             "endlinecolor": "#2a3f5f",
             "gridcolor": "white",
             "linecolor": "white",
             "minorgridcolor": "white",
             "startlinecolor": "#2a3f5f"
            },
            "baxis": {
             "endlinecolor": "#2a3f5f",
             "gridcolor": "white",
             "linecolor": "white",
             "minorgridcolor": "white",
             "startlinecolor": "#2a3f5f"
            },
            "type": "carpet"
           }
          ],
          "choropleth": [
           {
            "colorbar": {
             "outlinewidth": 0,
             "ticks": ""
            },
            "type": "choropleth"
           }
          ],
          "contour": [
           {
            "colorbar": {
             "outlinewidth": 0,
             "ticks": ""
            },
            "colorscale": [
             [
              0,
              "#0d0887"
             ],
             [
              0.1111111111111111,
              "#46039f"
             ],
             [
              0.2222222222222222,
              "#7201a8"
             ],
             [
              0.3333333333333333,
              "#9c179e"
             ],
             [
              0.4444444444444444,
              "#bd3786"
             ],
             [
              0.5555555555555556,
              "#d8576b"
             ],
             [
              0.6666666666666666,
              "#ed7953"
             ],
             [
              0.7777777777777778,
              "#fb9f3a"
             ],
             [
              0.8888888888888888,
              "#fdca26"
             ],
             [
              1,
              "#f0f921"
             ]
            ],
            "type": "contour"
           }
          ],
          "contourcarpet": [
           {
            "colorbar": {
             "outlinewidth": 0,
             "ticks": ""
            },
            "type": "contourcarpet"
           }
          ],
          "heatmap": [
           {
            "colorbar": {
             "outlinewidth": 0,
             "ticks": ""
            },
            "colorscale": [
             [
              0,
              "#0d0887"
             ],
             [
              0.1111111111111111,
              "#46039f"
             ],
             [
              0.2222222222222222,
              "#7201a8"
             ],
             [
              0.3333333333333333,
              "#9c179e"
             ],
             [
              0.4444444444444444,
              "#bd3786"
             ],
             [
              0.5555555555555556,
              "#d8576b"
             ],
             [
              0.6666666666666666,
              "#ed7953"
             ],
             [
              0.7777777777777778,
              "#fb9f3a"
             ],
             [
              0.8888888888888888,
              "#fdca26"
             ],
             [
              1,
              "#f0f921"
             ]
            ],
            "type": "heatmap"
           }
          ],
          "heatmapgl": [
           {
            "colorbar": {
             "outlinewidth": 0,
             "ticks": ""
            },
            "colorscale": [
             [
              0,
              "#0d0887"
             ],
             [
              0.1111111111111111,
              "#46039f"
             ],
             [
              0.2222222222222222,
              "#7201a8"
             ],
             [
              0.3333333333333333,
              "#9c179e"
             ],
             [
              0.4444444444444444,
              "#bd3786"
             ],
             [
              0.5555555555555556,
              "#d8576b"
             ],
             [
              0.6666666666666666,
              "#ed7953"
             ],
             [
              0.7777777777777778,
              "#fb9f3a"
             ],
             [
              0.8888888888888888,
              "#fdca26"
             ],
             [
              1,
              "#f0f921"
             ]
            ],
            "type": "heatmapgl"
           }
          ],
          "histogram": [
           {
            "marker": {
             "pattern": {
              "fillmode": "overlay",
              "size": 10,
              "solidity": 0.2
             }
            },
            "type": "histogram"
           }
          ],
          "histogram2d": [
           {
            "colorbar": {
             "outlinewidth": 0,
             "ticks": ""
            },
            "colorscale": [
             [
              0,
              "#0d0887"
             ],
             [
              0.1111111111111111,
              "#46039f"
             ],
             [
              0.2222222222222222,
              "#7201a8"
             ],
             [
              0.3333333333333333,
              "#9c179e"
             ],
             [
              0.4444444444444444,
              "#bd3786"
             ],
             [
              0.5555555555555556,
              "#d8576b"
             ],
             [
              0.6666666666666666,
              "#ed7953"
             ],
             [
              0.7777777777777778,
              "#fb9f3a"
             ],
             [
              0.8888888888888888,
              "#fdca26"
             ],
             [
              1,
              "#f0f921"
             ]
            ],
            "type": "histogram2d"
           }
          ],
          "histogram2dcontour": [
           {
            "colorbar": {
             "outlinewidth": 0,
             "ticks": ""
            },
            "colorscale": [
             [
              0,
              "#0d0887"
             ],
             [
              0.1111111111111111,
              "#46039f"
             ],
             [
              0.2222222222222222,
              "#7201a8"
             ],
             [
              0.3333333333333333,
              "#9c179e"
             ],
             [
              0.4444444444444444,
              "#bd3786"
             ],
             [
              0.5555555555555556,
              "#d8576b"
             ],
             [
              0.6666666666666666,
              "#ed7953"
             ],
             [
              0.7777777777777778,
              "#fb9f3a"
             ],
             [
              0.8888888888888888,
              "#fdca26"
             ],
             [
              1,
              "#f0f921"
             ]
            ],
            "type": "histogram2dcontour"
           }
          ],
          "mesh3d": [
           {
            "colorbar": {
             "outlinewidth": 0,
             "ticks": ""
            },
            "type": "mesh3d"
           }
          ],
          "parcoords": [
           {
            "line": {
             "colorbar": {
              "outlinewidth": 0,
              "ticks": ""
             }
            },
            "type": "parcoords"
           }
          ],
          "pie": [
           {
            "automargin": true,
            "type": "pie"
           }
          ],
          "scatter": [
           {
            "fillpattern": {
             "fillmode": "overlay",
             "size": 10,
             "solidity": 0.2
            },
            "type": "scatter"
           }
          ],
          "scatter3d": [
           {
            "line": {
             "colorbar": {
              "outlinewidth": 0,
              "ticks": ""
             }
            },
            "marker": {
             "colorbar": {
              "outlinewidth": 0,
              "ticks": ""
             }
            },
            "type": "scatter3d"
           }
          ],
          "scattercarpet": [
           {
            "marker": {
             "colorbar": {
              "outlinewidth": 0,
              "ticks": ""
             }
            },
            "type": "scattercarpet"
           }
          ],
          "scattergeo": [
           {
            "marker": {
             "colorbar": {
              "outlinewidth": 0,
              "ticks": ""
             }
            },
            "type": "scattergeo"
           }
          ],
          "scattergl": [
           {
            "marker": {
             "colorbar": {
              "outlinewidth": 0,
              "ticks": ""
             }
            },
            "type": "scattergl"
           }
          ],
          "scattermapbox": [
           {
            "marker": {
             "colorbar": {
              "outlinewidth": 0,
              "ticks": ""
             }
            },
            "type": "scattermapbox"
           }
          ],
          "scatterpolar": [
           {
            "marker": {
             "colorbar": {
              "outlinewidth": 0,
              "ticks": ""
             }
            },
            "type": "scatterpolar"
           }
          ],
          "scatterpolargl": [
           {
            "marker": {
             "colorbar": {
              "outlinewidth": 0,
              "ticks": ""
             }
            },
            "type": "scatterpolargl"
           }
          ],
          "scatterternary": [
           {
            "marker": {
             "colorbar": {
              "outlinewidth": 0,
              "ticks": ""
             }
            },
            "type": "scatterternary"
           }
          ],
          "surface": [
           {
            "colorbar": {
             "outlinewidth": 0,
             "ticks": ""
            },
            "colorscale": [
             [
              0,
              "#0d0887"
             ],
             [
              0.1111111111111111,
              "#46039f"
             ],
             [
              0.2222222222222222,
              "#7201a8"
             ],
             [
              0.3333333333333333,
              "#9c179e"
             ],
             [
              0.4444444444444444,
              "#bd3786"
             ],
             [
              0.5555555555555556,
              "#d8576b"
             ],
             [
              0.6666666666666666,
              "#ed7953"
             ],
             [
              0.7777777777777778,
              "#fb9f3a"
             ],
             [
              0.8888888888888888,
              "#fdca26"
             ],
             [
              1,
              "#f0f921"
             ]
            ],
            "type": "surface"
           }
          ],
          "table": [
           {
            "cells": {
             "fill": {
              "color": "#EBF0F8"
             },
             "line": {
              "color": "white"
             }
            },
            "header": {
             "fill": {
              "color": "#C8D4E3"
             },
             "line": {
              "color": "white"
             }
            },
            "type": "table"
           }
          ]
         },
         "layout": {
          "annotationdefaults": {
           "arrowcolor": "#2a3f5f",
           "arrowhead": 0,
           "arrowwidth": 1
          },
          "autotypenumbers": "strict",
          "coloraxis": {
           "colorbar": {
            "outlinewidth": 0,
            "ticks": ""
           }
          },
          "colorscale": {
           "diverging": [
            [
             0,
             "#8e0152"
            ],
            [
             0.1,
             "#c51b7d"
            ],
            [
             0.2,
             "#de77ae"
            ],
            [
             0.3,
             "#f1b6da"
            ],
            [
             0.4,
             "#fde0ef"
            ],
            [
             0.5,
             "#f7f7f7"
            ],
            [
             0.6,
             "#e6f5d0"
            ],
            [
             0.7,
             "#b8e186"
            ],
            [
             0.8,
             "#7fbc41"
            ],
            [
             0.9,
             "#4d9221"
            ],
            [
             1,
             "#276419"
            ]
           ],
           "sequential": [
            [
             0,
             "#0d0887"
            ],
            [
             0.1111111111111111,
             "#46039f"
            ],
            [
             0.2222222222222222,
             "#7201a8"
            ],
            [
             0.3333333333333333,
             "#9c179e"
            ],
            [
             0.4444444444444444,
             "#bd3786"
            ],
            [
             0.5555555555555556,
             "#d8576b"
            ],
            [
             0.6666666666666666,
             "#ed7953"
            ],
            [
             0.7777777777777778,
             "#fb9f3a"
            ],
            [
             0.8888888888888888,
             "#fdca26"
            ],
            [
             1,
             "#f0f921"
            ]
           ],
           "sequentialminus": [
            [
             0,
             "#0d0887"
            ],
            [
             0.1111111111111111,
             "#46039f"
            ],
            [
             0.2222222222222222,
             "#7201a8"
            ],
            [
             0.3333333333333333,
             "#9c179e"
            ],
            [
             0.4444444444444444,
             "#bd3786"
            ],
            [
             0.5555555555555556,
             "#d8576b"
            ],
            [
             0.6666666666666666,
             "#ed7953"
            ],
            [
             0.7777777777777778,
             "#fb9f3a"
            ],
            [
             0.8888888888888888,
             "#fdca26"
            ],
            [
             1,
             "#f0f921"
            ]
           ]
          },
          "colorway": [
           "#636efa",
           "#EF553B",
           "#00cc96",
           "#ab63fa",
           "#FFA15A",
           "#19d3f3",
           "#FF6692",
           "#B6E880",
           "#FF97FF",
           "#FECB52"
          ],
          "font": {
           "color": "#2a3f5f"
          },
          "geo": {
           "bgcolor": "white",
           "lakecolor": "white",
           "landcolor": "#E5ECF6",
           "showlakes": true,
           "showland": true,
           "subunitcolor": "white"
          },
          "hoverlabel": {
           "align": "left"
          },
          "hovermode": "closest",
          "mapbox": {
           "style": "light"
          },
          "paper_bgcolor": "white",
          "plot_bgcolor": "#E5ECF6",
          "polar": {
           "angularaxis": {
            "gridcolor": "white",
            "linecolor": "white",
            "ticks": ""
           },
           "bgcolor": "#E5ECF6",
           "radialaxis": {
            "gridcolor": "white",
            "linecolor": "white",
            "ticks": ""
           }
          },
          "scene": {
           "xaxis": {
            "backgroundcolor": "#E5ECF6",
            "gridcolor": "white",
            "gridwidth": 2,
            "linecolor": "white",
            "showbackground": true,
            "ticks": "",
            "zerolinecolor": "white"
           },
           "yaxis": {
            "backgroundcolor": "#E5ECF6",
            "gridcolor": "white",
            "gridwidth": 2,
            "linecolor": "white",
            "showbackground": true,
            "ticks": "",
            "zerolinecolor": "white"
           },
           "zaxis": {
            "backgroundcolor": "#E5ECF6",
            "gridcolor": "white",
            "gridwidth": 2,
            "linecolor": "white",
            "showbackground": true,
            "ticks": "",
            "zerolinecolor": "white"
           }
          },
          "shapedefaults": {
           "line": {
            "color": "#2a3f5f"
           }
          },
          "ternary": {
           "aaxis": {
            "gridcolor": "white",
            "linecolor": "white",
            "ticks": ""
           },
           "baxis": {
            "gridcolor": "white",
            "linecolor": "white",
            "ticks": ""
           },
           "bgcolor": "#E5ECF6",
           "caxis": {
            "gridcolor": "white",
            "linecolor": "white",
            "ticks": ""
           }
          },
          "title": {
           "x": 0.05
          },
          "xaxis": {
           "automargin": true,
           "gridcolor": "white",
           "linecolor": "white",
           "ticks": "",
           "title": {
            "standoff": 15
           },
           "zerolinecolor": "white",
           "zerolinewidth": 2
          },
          "yaxis": {
           "automargin": true,
           "gridcolor": "white",
           "linecolor": "white",
           "ticks": "",
           "title": {
            "standoff": 15
           },
           "zerolinecolor": "white",
           "zerolinewidth": 2
          }
         }
        },
        "title": {
         "text": "Connection Map Depicting Flights from Brazil to All Other Countries"
        },
        "width": 900
       }
      }
     },
     "metadata": {},
     "output_type": "display_data"
    }
   ],
   "source": [
    "plot_routes(df,date_start,date_end,\"BOS\",\"NumFlights\",\"airports\").show()"
   ]
  },
  {
   "cell_type": "code",
   "execution_count": null,
   "metadata": {},
   "outputs": [],
   "source": []
  }
 ],
 "metadata": {
  "kernelspec": {
   "display_name": "Python 3.10.7 64-bit",
   "language": "python",
   "name": "python3"
  },
  "language_info": {
   "codemirror_mode": {
    "name": "ipython",
    "version": 3
   },
   "file_extension": ".py",
   "mimetype": "text/x-python",
   "name": "python",
   "nbconvert_exporter": "python",
   "pygments_lexer": "ipython3",
   "version": "3.10.7"
  },
  "orig_nbformat": 4,
  "vscode": {
   "interpreter": {
    "hash": "b0fa6594d8f4cbf19f97940f81e996739fb7646882a419484c72d19e05852a7e"
   }
  }
 },
 "nbformat": 4,
 "nbformat_minor": 2
}
