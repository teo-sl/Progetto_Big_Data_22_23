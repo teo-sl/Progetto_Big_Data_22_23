{
 "cells": [
  {
   "cell_type": "code",
   "execution_count": 1,
   "metadata": {},
   "outputs": [],
   "source": [
    "import plotly.express as px\n",
    "from pyspark.sql.functions import *"
   ]
  },
  {
   "cell_type": "code",
   "execution_count": 2,
   "metadata": {},
   "outputs": [
    {
     "name": "stdout",
     "output_type": "stream",
     "text": [
      "23/01/02 20:49:20 WARN Utils: Your hostname, MacBook-Air-di-Teodoro.local resolves to a loopback address: 127.0.0.1; using 192.168.1.156 instead (on interface en0)\n",
      "23/01/02 20:49:20 WARN Utils: Set SPARK_LOCAL_IP if you need to bind to another address\n"
     ]
    },
    {
     "name": "stderr",
     "output_type": "stream",
     "text": [
      "Setting default log level to \"WARN\".\n",
      "To adjust logging level use sc.setLogLevel(newLevel). For SparkR, use setLogLevel(newLevel).\n"
     ]
    },
    {
     "name": "stdout",
     "output_type": "stream",
     "text": [
      "23/01/02 20:49:20 WARN NativeCodeLoader: Unable to load native-hadoop library for your platform... using builtin-java classes where applicable\n"
     ]
    }
   ],
   "source": [
    "from pyspark.sql import SparkSession\n",
    "spark = SparkSession.builder.appName('flights').getOrCreate()"
   ]
  },
  {
   "cell_type": "code",
   "execution_count": 3,
   "metadata": {},
   "outputs": [
    {
     "name": "stderr",
     "output_type": "stream",
     "text": [
      "                                                                                \r"
     ]
    }
   ],
   "source": [
    "df = spark.read.csv('../../data.nosync/',inferSchema=True,header=True)"
   ]
  },
  {
   "cell_type": "code",
   "execution_count": 8,
   "metadata": {},
   "outputs": [],
   "source": [
    "df_prep = df.groupBy('FlightDate').agg({'Diverted':'sum',\"Cancelled\":'sum'})\n",
    "df_prep = df_prep.withColumnRenamed('sum(Diverted)','Diverted')\n",
    "df_prep = df_prep.withColumnRenamed('sum(Cancelled)','Cancelled')"
   ]
  },
  {
   "cell_type": "code",
   "execution_count": 9,
   "metadata": {},
   "outputs": [
    {
     "name": "stderr",
     "output_type": "stream",
     "text": [
      "[Stage 10:=====================================>                  (16 + 8) / 24]\r"
     ]
    },
    {
     "name": "stdout",
     "output_type": "stream",
     "text": [
      "+-------------------+--------+---------+\n",
      "|         FlightDate|Diverted|Cancelled|\n",
      "+-------------------+--------+---------+\n",
      "|2013-06-12 00:00:00|   123.0|    597.0|\n",
      "|2013-06-13 00:00:00|    97.0|    719.0|\n",
      "|2013-06-05 00:00:00|    56.0|    203.0|\n",
      "|2013-06-24 00:00:00|    64.0|    656.0|\n",
      "|2013-06-10 00:00:00|    60.0|    363.0|\n",
      "|2013-06-19 00:00:00|    21.0|    166.0|\n",
      "|2013-06-06 00:00:00|    74.0|    231.0|\n",
      "|2013-06-15 00:00:00|    15.0|    110.0|\n",
      "|2013-06-01 00:00:00|    49.0|    135.0|\n",
      "|2013-06-26 00:00:00|    94.0|    648.0|\n",
      "|2013-06-29 00:00:00|    34.0|    347.0|\n",
      "|2013-06-02 00:00:00|    65.0|    398.0|\n",
      "|2013-06-18 00:00:00|    79.0|    540.0|\n",
      "|2013-06-25 00:00:00|    54.0|    454.0|\n",
      "|2013-06-30 00:00:00|    71.0|    350.0|\n",
      "|2013-06-22 00:00:00|    62.0|    101.0|\n",
      "|2013-06-20 00:00:00|    26.0|     93.0|\n",
      "|2013-06-03 00:00:00|    30.0|    209.0|\n",
      "|2013-06-23 00:00:00|    85.0|    229.0|\n",
      "|2013-06-16 00:00:00|    26.0|    106.0|\n",
      "+-------------------+--------+---------+\n",
      "only showing top 20 rows\n",
      "\n"
     ]
    },
    {
     "name": "stderr",
     "output_type": "stream",
     "text": [
      "                                                                                \r"
     ]
    }
   ],
   "source": [
    "df_prep.show()"
   ]
  },
  {
   "cell_type": "code",
   "execution_count": 10,
   "metadata": {},
   "outputs": [
    {
     "name": "stderr",
     "output_type": "stream",
     "text": [
      "/opt/homebrew/lib/python3.10/site-packages/pyspark/sql/pandas/conversion.py:248: FutureWarning: Passing unit-less datetime64 dtype to .astype is deprecated and will raise in a future version. Pass 'datetime64[ns]' instead\n",
      "  series = series.astype(t, copy=False)\n"
     ]
    }
   ],
   "source": [
    "# convert to pandas mantain flightdate as timestamp\n",
    "df_prep = df_prep.toPandas()\n",
    "df_prep['FlightDate'] = pd.to_datetime(df_prep['FlightDate'])\n"
   ]
  },
  {
   "cell_type": "code",
   "execution_count": 12,
   "metadata": {},
   "outputs": [
    {
     "data": {
      "text/html": [
       "<div>\n",
       "<style scoped>\n",
       "    .dataframe tbody tr th:only-of-type {\n",
       "        vertical-align: middle;\n",
       "    }\n",
       "\n",
       "    .dataframe tbody tr th {\n",
       "        vertical-align: top;\n",
       "    }\n",
       "\n",
       "    .dataframe thead th {\n",
       "        text-align: right;\n",
       "    }\n",
       "</style>\n",
       "<table border=\"1\" class=\"dataframe\">\n",
       "  <thead>\n",
       "    <tr style=\"text-align: right;\">\n",
       "      <th></th>\n",
       "      <th>FlightDate</th>\n",
       "      <th>Diverted</th>\n",
       "      <th>Cancelled</th>\n",
       "    </tr>\n",
       "  </thead>\n",
       "  <tbody>\n",
       "    <tr>\n",
       "      <th>0</th>\n",
       "      <td>2013-06-12</td>\n",
       "      <td>123.0</td>\n",
       "      <td>597.0</td>\n",
       "    </tr>\n",
       "    <tr>\n",
       "      <th>1</th>\n",
       "      <td>2013-06-13</td>\n",
       "      <td>97.0</td>\n",
       "      <td>719.0</td>\n",
       "    </tr>\n",
       "    <tr>\n",
       "      <th>2</th>\n",
       "      <td>2013-06-05</td>\n",
       "      <td>56.0</td>\n",
       "      <td>203.0</td>\n",
       "    </tr>\n",
       "    <tr>\n",
       "      <th>3</th>\n",
       "      <td>2013-06-24</td>\n",
       "      <td>64.0</td>\n",
       "      <td>656.0</td>\n",
       "    </tr>\n",
       "    <tr>\n",
       "      <th>4</th>\n",
       "      <td>2013-06-10</td>\n",
       "      <td>60.0</td>\n",
       "      <td>363.0</td>\n",
       "    </tr>\n",
       "    <tr>\n",
       "      <th>...</th>\n",
       "      <td>...</td>\n",
       "      <td>...</td>\n",
       "      <td>...</td>\n",
       "    </tr>\n",
       "    <tr>\n",
       "      <th>360</th>\n",
       "      <td>2013-08-26</td>\n",
       "      <td>48.0</td>\n",
       "      <td>103.0</td>\n",
       "    </tr>\n",
       "    <tr>\n",
       "      <th>361</th>\n",
       "      <td>2013-08-24</td>\n",
       "      <td>17.0</td>\n",
       "      <td>50.0</td>\n",
       "    </tr>\n",
       "    <tr>\n",
       "      <th>362</th>\n",
       "      <td>2013-08-27</td>\n",
       "      <td>18.0</td>\n",
       "      <td>104.0</td>\n",
       "    </tr>\n",
       "    <tr>\n",
       "      <th>363</th>\n",
       "      <td>2013-08-11</td>\n",
       "      <td>25.0</td>\n",
       "      <td>112.0</td>\n",
       "    </tr>\n",
       "    <tr>\n",
       "      <th>364</th>\n",
       "      <td>2013-08-01</td>\n",
       "      <td>37.0</td>\n",
       "      <td>269.0</td>\n",
       "    </tr>\n",
       "  </tbody>\n",
       "</table>\n",
       "<p>365 rows × 3 columns</p>\n",
       "</div>"
      ],
      "text/plain": [
       "    FlightDate  Diverted  Cancelled\n",
       "0   2013-06-12     123.0      597.0\n",
       "1   2013-06-13      97.0      719.0\n",
       "2   2013-06-05      56.0      203.0\n",
       "3   2013-06-24      64.0      656.0\n",
       "4   2013-06-10      60.0      363.0\n",
       "..         ...       ...        ...\n",
       "360 2013-08-26      48.0      103.0\n",
       "361 2013-08-24      17.0       50.0\n",
       "362 2013-08-27      18.0      104.0\n",
       "363 2013-08-11      25.0      112.0\n",
       "364 2013-08-01      37.0      269.0\n",
       "\n",
       "[365 rows x 3 columns]"
      ]
     },
     "execution_count": 12,
     "metadata": {},
     "output_type": "execute_result"
    }
   ],
   "source": [
    "df_prep"
   ]
  },
  {
   "cell_type": "code",
   "execution_count": 11,
   "metadata": {},
   "outputs": [],
   "source": [
    "# save df_pd to a csv file\n",
    "df_pd.to_csv('../../util/cancelled_diverted.csv',index=False)"
   ]
  },
  {
   "cell_type": "code",
   "execution_count": 4,
   "metadata": {},
   "outputs": [
    {
     "name": "stderr",
     "output_type": "stream",
     "text": [
      "/opt/homebrew/lib/python3.10/site-packages/pyspark/sql/pandas/conversion.py:248: FutureWarning: Passing unit-less datetime64 dtype to .astype is deprecated and will raise in a future version. Pass 'datetime64[ns]' instead\n",
      "  series = series.astype(t, copy=False)\n"
     ]
    }
   ],
   "source": [
    "dates = df.select('FlightDate').distinct().orderBy('FlightDate',ascending=True).toPandas()['FlightDate']"
   ]
  },
  {
   "cell_type": "code",
   "execution_count": 5,
   "metadata": {},
   "outputs": [],
   "source": [
    "import pandas as pd\n",
    "cancelled_diverted=pd.read_csv('../../util/cancelled_diverted.csv')"
   ]
  },
  {
   "cell_type": "code",
   "execution_count": 18,
   "metadata": {},
   "outputs": [
    {
     "data": {
      "text/html": [
       "<div>\n",
       "<style scoped>\n",
       "    .dataframe tbody tr th:only-of-type {\n",
       "        vertical-align: middle;\n",
       "    }\n",
       "\n",
       "    .dataframe tbody tr th {\n",
       "        vertical-align: top;\n",
       "    }\n",
       "\n",
       "    .dataframe thead th {\n",
       "        text-align: right;\n",
       "    }\n",
       "</style>\n",
       "<table border=\"1\" class=\"dataframe\">\n",
       "  <thead>\n",
       "    <tr style=\"text-align: right;\">\n",
       "      <th></th>\n",
       "      <th>FlightDate</th>\n",
       "      <th>Diverted</th>\n",
       "      <th>Cancelled</th>\n",
       "    </tr>\n",
       "  </thead>\n",
       "  <tbody>\n",
       "    <tr>\n",
       "      <th>0</th>\n",
       "      <td>2013-06-12</td>\n",
       "      <td>123.0</td>\n",
       "      <td>597.0</td>\n",
       "    </tr>\n",
       "    <tr>\n",
       "      <th>1</th>\n",
       "      <td>2013-06-13</td>\n",
       "      <td>97.0</td>\n",
       "      <td>719.0</td>\n",
       "    </tr>\n",
       "    <tr>\n",
       "      <th>2</th>\n",
       "      <td>2013-06-05</td>\n",
       "      <td>56.0</td>\n",
       "      <td>203.0</td>\n",
       "    </tr>\n",
       "    <tr>\n",
       "      <th>3</th>\n",
       "      <td>2013-06-24</td>\n",
       "      <td>64.0</td>\n",
       "      <td>656.0</td>\n",
       "    </tr>\n",
       "    <tr>\n",
       "      <th>4</th>\n",
       "      <td>2013-06-10</td>\n",
       "      <td>60.0</td>\n",
       "      <td>363.0</td>\n",
       "    </tr>\n",
       "    <tr>\n",
       "      <th>...</th>\n",
       "      <td>...</td>\n",
       "      <td>...</td>\n",
       "      <td>...</td>\n",
       "    </tr>\n",
       "    <tr>\n",
       "      <th>360</th>\n",
       "      <td>2013-08-26</td>\n",
       "      <td>48.0</td>\n",
       "      <td>103.0</td>\n",
       "    </tr>\n",
       "    <tr>\n",
       "      <th>361</th>\n",
       "      <td>2013-08-24</td>\n",
       "      <td>17.0</td>\n",
       "      <td>50.0</td>\n",
       "    </tr>\n",
       "    <tr>\n",
       "      <th>362</th>\n",
       "      <td>2013-08-27</td>\n",
       "      <td>18.0</td>\n",
       "      <td>104.0</td>\n",
       "    </tr>\n",
       "    <tr>\n",
       "      <th>363</th>\n",
       "      <td>2013-08-11</td>\n",
       "      <td>25.0</td>\n",
       "      <td>112.0</td>\n",
       "    </tr>\n",
       "    <tr>\n",
       "      <th>364</th>\n",
       "      <td>2013-08-01</td>\n",
       "      <td>37.0</td>\n",
       "      <td>269.0</td>\n",
       "    </tr>\n",
       "  </tbody>\n",
       "</table>\n",
       "<p>365 rows × 3 columns</p>\n",
       "</div>"
      ],
      "text/plain": [
       "    FlightDate  Diverted  Cancelled\n",
       "0   2013-06-12     123.0      597.0\n",
       "1   2013-06-13      97.0      719.0\n",
       "2   2013-06-05      56.0      203.0\n",
       "3   2013-06-24      64.0      656.0\n",
       "4   2013-06-10      60.0      363.0\n",
       "..         ...       ...        ...\n",
       "360 2013-08-26      48.0      103.0\n",
       "361 2013-08-24      17.0       50.0\n",
       "362 2013-08-27      18.0      104.0\n",
       "363 2013-08-11      25.0      112.0\n",
       "364 2013-08-01      37.0      269.0\n",
       "\n",
       "[365 rows x 3 columns]"
      ]
     },
     "execution_count": 18,
     "metadata": {},
     "output_type": "execute_result"
    }
   ],
   "source": [
    "# get the type of FlightDate column in cancelled_diverted\n",
    "type(cancelled_diverted['FlightDate'][0])\n",
    "# convert to timestamp\n",
    "\n",
    "cancelled_diverted"
   ]
  },
  {
   "cell_type": "code",
   "execution_count": 16,
   "metadata": {},
   "outputs": [],
   "source": [
    "cd_filtered = cancelled_diverted[(cancelled_diverted['FlightDate'] >= dates[0]) & (cancelled_diverted['FlightDate'] <= dates[100])]"
   ]
  },
  {
   "cell_type": "code",
   "execution_count": 17,
   "metadata": {},
   "outputs": [
    {
     "data": {
      "text/plain": [
       "101"
      ]
     },
     "execution_count": 17,
     "metadata": {},
     "output_type": "execute_result"
    }
   ],
   "source": [
    "len(cd_filtered)"
   ]
  },
  {
   "cell_type": "code",
   "execution_count": 6,
   "metadata": {},
   "outputs": [],
   "source": [
    "def textual_queries(df,from_date,to_date):\n",
    "    #df = df.filter(df[\"FlightDate\"].between(from_date,to_date))\n",
    "    # filter the pandas dataframe cancelled_diverted by the dates\n",
    "    cd_filtered = cancelled_diverted[(cancelled_diverted['FlightDate'] >= from_date) & (cancelled_diverted['FlightDate'] <= to_date)]\n",
    "    #'textual-num','textual-airports','textual-cancelled','textual-delayed','textual-diverted','textual-average-delay'\n",
    "\n",
    "    num = df.count()\n",
    "    airports = df.select('Origin').distinct().count()+df.select('Dest').distinct().count()\n",
    "    canceled = cd_filtered['Cancelled'].sum()\n",
    "    # count the rows where ArrDelay is > 0\n",
    "    delayed = df.filter(df[\"ArrDelay\"] > 0).count()\n",
    "\n",
    "    diverted = cd_filtered['Diverted'].sum()\n",
    "    # make the average of ArrDelay\n",
    "    average_delay = df.agg({\"ArrDelay\": \"avg\"}).collect()[0][0]\n",
    "\n",
    "    return num,airports,canceled,delayed,diverted,average_delay"
   ]
  },
  {
   "cell_type": "code",
   "execution_count": null,
   "metadata": {},
   "outputs": [],
   "source": []
  }
 ],
 "metadata": {
  "kernelspec": {
   "display_name": "Python 3.10.9 64-bit",
   "language": "python",
   "name": "python3"
  },
  "language_info": {
   "codemirror_mode": {
    "name": "ipython",
    "version": 3
   },
   "file_extension": ".py",
   "mimetype": "text/x-python",
   "name": "python",
   "nbconvert_exporter": "python",
   "pygments_lexer": "ipython3",
   "version": "3.10.9"
  },
  "orig_nbformat": 4,
  "vscode": {
   "interpreter": {
    "hash": "b0fa6594d8f4cbf19f97940f81e996739fb7646882a419484c72d19e05852a7e"
   }
  }
 },
 "nbformat": 4,
 "nbformat_minor": 2
}
