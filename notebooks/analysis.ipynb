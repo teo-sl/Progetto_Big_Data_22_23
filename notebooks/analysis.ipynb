{
 "cells": [
  {
   "cell_type": "code",
   "execution_count": 22,
   "metadata": {},
   "outputs": [],
   "source": [
    "# import plotly px\n",
    "import plotly.express as px\n",
    "import pandas as pd\n",
    "import plotly.graph_objects as go\n",
    "import plotly.offline as py\n",
    "import numpy as np"
   ]
  },
  {
   "cell_type": "code",
   "execution_count": 23,
   "metadata": {},
   "outputs": [],
   "source": [
    "# import spark and create spark session with name flights\n",
    "from pyspark.sql import SparkSession\n",
    "spark = SparkSession.builder.appName('flights').getOrCreate()"
   ]
  },
  {
   "cell_type": "markdown",
   "metadata": {},
   "source": [
    "![](imgs/Flight-cycle-of-an-aircraft.png)"
   ]
  },
  {
   "cell_type": "code",
   "execution_count": 24,
   "metadata": {},
   "outputs": [
    {
     "name": "stderr",
     "output_type": "stream",
     "text": [
      "                                                                                \r"
     ]
    }
   ],
   "source": [
    "# load a csv file in a dataframe infer schema\n",
    "df = spark.read.csv('../data/On_Time_Reporting_Carrier_On_Time_Performance_(1987_present)_2013_12.csv', inferSchema=True, header=True)\n"
   ]
  },
  {
   "cell_type": "code",
   "execution_count": 27,
   "metadata": {},
   "outputs": [
    {
     "name": "stdout",
     "output_type": "stream",
     "text": [
      "22/12/21 11:10:16 WARN CSVHeaderChecker: CSV header does not conform to the schema.\n",
      " Header: Year, Quarter, Month, DayofMonth, DayOfWeek, FlightDate, Reporting_Airline, DOT_ID_Reporting_Airline, IATA_CODE_Reporting_Airline, Tail_Number, Flight_Number_Reporting_Airline, OriginAirportID, OriginAirportSeqID, OriginCityMarketID, Origin, OriginCityName, OriginState, OriginStateFips, OriginStateName, OriginWac, DestAirportID, DestAirportSeqID, DestCityMarketID, Dest, DestCityName, DestState, DestStateFips, DestStateName, DestWac, CRSDepTime, DepTime, DepDelay, DepDelayMinutes, DepDel15, DepartureDelayGroups, DepTimeBlk, TaxiOut, WheelsOff, WheelsOn, TaxiIn, CRSArrTime, ArrTime, ArrDelay, ArrDelayMinutes, ArrDel15, ArrivalDelayGroups, ArrTimeBlk, Cancelled, CancellationCode, Diverted, CRSElapsedTime, ActualElapsedTime, AirTime, Flights, Distance, DistanceGroup, CarrierDelay, WeatherDelay, NASDelay, SecurityDelay, LateAircraftDelay, FirstDepTime, TotalAddGTime, LongestAddGTime, DivAirportLandings, DivReachedDest, DivActualElapsedTime, DivArrDelay, DivDistance, Div1Airport, Div1AirportID, Div1AirportSeqID, Div1WheelsOn, Div1TotalGTime, Div1LongestGTime, Div1WheelsOff, Div1TailNum, Div2Airport, Div2AirportID, Div2AirportSeqID, Div2WheelsOn, Div2TotalGTime, Div2LongestGTime, Div2WheelsOff, Div2TailNum, Div3Airport, Div3AirportID, Div3AirportSeqID, Div3WheelsOn, Div3TotalGTime, Div3LongestGTime, Div3WheelsOff, Div3TailNum, Div4Airport, Div4AirportID, Div4AirportSeqID, Div4WheelsOn, Div4TotalGTime, Div4LongestGTime, Div4WheelsOff, Div4TailNum, Div5Airport, Div5AirportID, Div5AirportSeqID, Div5WheelsOn, Div5TotalGTime, Div5LongestGTime, Div5WheelsOff, Div5TailNum, \n",
      " Schema: Year, Quarter, Month, DayofMonth, DayOfWeek, FlightDate, Reporting_Airline, DOT_ID_Reporting_Airline, IATA_CODE_Reporting_Airline, Tail_Number, Flight_Number_Reporting_Airline, OriginAirportID, OriginAirportSeqID, OriginCityMarketID, Origin, OriginCityName, OriginState, OriginStateFips, OriginStateName, OriginWac, DestAirportID, DestAirportSeqID, DestCityMarketID, Dest, DestCityName, DestState, DestStateFips, DestStateName, DestWac, CRSDepTime, DepTime, DepDelay, DepDelayMinutes, DepDel15, DepartureDelayGroups, DepTimeBlk, TaxiOut, WheelsOff, WheelsOn, TaxiIn, CRSArrTime, ArrTime, ArrDelay, ArrDelayMinutes, ArrDel15, ArrivalDelayGroups, ArrTimeBlk, Cancelled, CancellationCode, Diverted, CRSElapsedTime, ActualElapsedTime, AirTime, Flights, Distance, DistanceGroup, CarrierDelay, WeatherDelay, NASDelay, SecurityDelay, LateAircraftDelay, FirstDepTime, TotalAddGTime, LongestAddGTime, DivAirportLandings, DivReachedDest, DivActualElapsedTime, DivArrDelay, DivDistance, Div1Airport, Div1AirportID, Div1AirportSeqID, Div1WheelsOn, Div1TotalGTime, Div1LongestGTime, Div1WheelsOff, Div1TailNum, Div2Airport, Div2AirportID, Div2AirportSeqID, Div2WheelsOn, Div2TotalGTime, Div2LongestGTime, Div2WheelsOff, Div2TailNum, Div3Airport, Div3AirportID, Div3AirportSeqID, Div3WheelsOn, Div3TotalGTime, Div3LongestGTime, Div3WheelsOff, Div3TailNum, Div4Airport, Div4AirportID, Div4AirportSeqID, Div4WheelsOn, Div4TotalGTime, Div4LongestGTime, Div4WheelsOff, Div4TailNum, Div5Airport, Div5AirportID, Div5AirportSeqID, Div5WheelsOn, Div5TotalGTime, Div5LongestGTime, Div5WheelsOff, Div5TailNum, _c109\n",
      "Expected: _c109 but found: \n",
      "CSV file: file:///Users/teodorosullazzo/Documents/git_repos/Progetto_Big_Data_22_23/data/On_Time_Reporting_Carrier_On_Time_Performance_(1987_present)_2013_12.csv\n",
      "+----+-------+-----+----------+---------+-------------------+-----------------+------------------------+---------------------------+-----------+-------------------------------+---------------+------------------+------------------+------+---------------+-----------+---------------+---------------+---------+-------------+----------------+----------------+----+---------------+---------+-------------+-------------+-------+----------+-------+--------+---------------+--------+--------------------+----------+-------+---------+--------+------+----------+-------+--------+---------------+--------+------------------+----------+---------+----------------+--------+--------------+-----------------+-------+-------+--------+-------------+------------+------------+--------+-------------+-----------------+------------+-------------+---------------+------------------+--------------+--------------------+-----------+-----------+-----------+-------------+----------------+------------+--------------+----------------+-------------+-----------+-----------+-------------+----------------+------------+--------------+----------------+-------------+-----------+-----------+-------------+----------------+------------+--------------+----------------+-------------+-----------+-----------+-------------+----------------+------------+--------------+----------------+-------------+-----------+-----------+-------------+----------------+------------+--------------+----------------+-------------+-----------+-----+\n",
      "|Year|Quarter|Month|DayofMonth|DayOfWeek|         FlightDate|Reporting_Airline|DOT_ID_Reporting_Airline|IATA_CODE_Reporting_Airline|Tail_Number|Flight_Number_Reporting_Airline|OriginAirportID|OriginAirportSeqID|OriginCityMarketID|Origin| OriginCityName|OriginState|OriginStateFips|OriginStateName|OriginWac|DestAirportID|DestAirportSeqID|DestCityMarketID|Dest|   DestCityName|DestState|DestStateFips|DestStateName|DestWac|CRSDepTime|DepTime|DepDelay|DepDelayMinutes|DepDel15|DepartureDelayGroups|DepTimeBlk|TaxiOut|WheelsOff|WheelsOn|TaxiIn|CRSArrTime|ArrTime|ArrDelay|ArrDelayMinutes|ArrDel15|ArrivalDelayGroups|ArrTimeBlk|Cancelled|CancellationCode|Diverted|CRSElapsedTime|ActualElapsedTime|AirTime|Flights|Distance|DistanceGroup|CarrierDelay|WeatherDelay|NASDelay|SecurityDelay|LateAircraftDelay|FirstDepTime|TotalAddGTime|LongestAddGTime|DivAirportLandings|DivReachedDest|DivActualElapsedTime|DivArrDelay|DivDistance|Div1Airport|Div1AirportID|Div1AirportSeqID|Div1WheelsOn|Div1TotalGTime|Div1LongestGTime|Div1WheelsOff|Div1TailNum|Div2Airport|Div2AirportID|Div2AirportSeqID|Div2WheelsOn|Div2TotalGTime|Div2LongestGTime|Div2WheelsOff|Div2TailNum|Div3Airport|Div3AirportID|Div3AirportSeqID|Div3WheelsOn|Div3TotalGTime|Div3LongestGTime|Div3WheelsOff|Div3TailNum|Div4Airport|Div4AirportID|Div4AirportSeqID|Div4WheelsOn|Div4TotalGTime|Div4LongestGTime|Div4WheelsOff|Div4TailNum|Div5Airport|Div5AirportID|Div5AirportSeqID|Div5WheelsOn|Div5TotalGTime|Div5LongestGTime|Div5WheelsOff|Div5TailNum|_c109|\n",
      "+----+-------+-----+----------+---------+-------------------+-----------------+------------------------+---------------------------+-----------+-------------------------------+---------------+------------------+------------------+------+---------------+-----------+---------------+---------------+---------+-------------+----------------+----------------+----+---------------+---------+-------------+-------------+-------+----------+-------+--------+---------------+--------+--------------------+----------+-------+---------+--------+------+----------+-------+--------+---------------+--------+------------------+----------+---------+----------------+--------+--------------+-----------------+-------+-------+--------+-------------+------------+------------+--------+-------------+-----------------+------------+-------------+---------------+------------------+--------------+--------------------+-----------+-----------+-----------+-------------+----------------+------------+--------------+----------------+-------------+-----------+-----------+-------------+----------------+------------+--------------+----------------+-------------+-----------+-----------+-------------+----------------+------------+--------------+----------------+-------------+-----------+-----------+-------------+----------------+------------+--------------+----------------+-------------+-----------+-----------+-------------+----------------+------------+--------------+----------------+-------------+-----------+-----+\n",
      "|2013|      4|   12|        16|        1|2013-12-16 00:00:00|               DL|                   19790|                         DL|     N552NW|                           1302|          14635|           1463502|             31714|   RSW| Fort Myers, FL|         FL|             12|        Florida|       33|        10397|         1039705|           30397| ATL|    Atlanta, GA|       GA|           13|      Georgia|     34|      1810|   1810|     0.0|            0.0|     0.0|                   0| 1800-1859|   16.0|     1826|    1950|  33.0|      2000|   2023|    23.0|           23.0|     1.0|                 1| 2000-2059|      0.0|            null|     0.0|         110.0|            133.0|   84.0|    1.0|   515.0|            3|         0.0|         0.0|    23.0|          0.0|              0.0|        null|         null|           null|                 0|          null|                null|       null|       null|       null|         null|            null|        null|          null|            null|         null|       null|       null|         null|            null|        null|          null|            null|         null|       null|       null|         null|            null|        null|          null|            null|         null|       null|       null|         null|            null|        null|          null|            null|         null|       null|       null|         null|            null|        null|          null|            null|         null|       null| null|\n",
      "|2013|      4|   12|        16|        1|2013-12-16 00:00:00|               DL|                   19790|                         DL|     N907DL|                           1304|          10397|           1039705|             30397|   ATL|    Atlanta, GA|         GA|             13|        Georgia|       34|        10599|         1059904|           30599| BHM| Birmingham, AL|       AL|            1|      Alabama|     51|      1639|   1636|    -3.0|            0.0|     0.0|                  -1| 1600-1659|   23.0|     1659|    1625|   5.0|      1633|   1630|    -3.0|            0.0|     0.0|                -1| 1600-1659|      0.0|            null|     0.0|          54.0|             54.0|   26.0|    1.0|   134.0|            1|        null|        null|    null|         null|             null|        null|         null|           null|                 0|          null|                null|       null|       null|       null|         null|            null|        null|          null|            null|         null|       null|       null|         null|            null|        null|          null|            null|         null|       null|       null|         null|            null|        null|          null|            null|         null|       null|       null|         null|            null|        null|          null|            null|         null|       null|       null|         null|            null|        null|          null|            null|         null|       null| null|\n",
      "|2013|      4|   12|        16|        1|2013-12-16 00:00:00|               DL|                   19790|                         DL|     N924DL|                           1305|          10397|           1039705|             30397|   ATL|    Atlanta, GA|         GA|             13|        Georgia|       34|        13495|         1349503|           33495| MSY|New Orleans, LA|       LA|           22|    Louisiana|     72|      1751|   1748|    -3.0|            0.0|     0.0|                  -1| 1700-1759|   23.0|     1811|    1818|   5.0|      1834|   1823|   -11.0|            0.0|     0.0|                -1| 1800-1859|      0.0|            null|     0.0|         103.0|             95.0|   67.0|    1.0|   425.0|            2|        null|        null|    null|         null|             null|        null|         null|           null|                 0|          null|                null|       null|       null|       null|         null|            null|        null|          null|            null|         null|       null|       null|         null|            null|        null|          null|            null|         null|       null|       null|         null|            null|        null|          null|            null|         null|       null|       null|         null|            null|        null|          null|            null|         null|       null|       null|         null|            null|        null|          null|            null|         null|       null| null|\n",
      "|2013|      4|   12|        16|        1|2013-12-16 00:00:00|               DL|                   19790|                         DL|     N924DL|                           1305|          13495|           1349503|             33495|   MSY|New Orleans, LA|         LA|             22|      Louisiana|       72|        10397|         1039705|           30397| ATL|    Atlanta, GA|       GA|           13|      Georgia|     34|      1915|   1911|    -4.0|            0.0|     0.0|                  -1| 1900-1959|   11.0|     1922|    2121|   6.0|      2136|   2127|    -9.0|            0.0|     0.0|                -1| 2100-2159|      0.0|            null|     0.0|          81.0|             76.0|   59.0|    1.0|   425.0|            2|        null|        null|    null|         null|             null|        null|         null|           null|                 0|          null|                null|       null|       null|       null|         null|            null|        null|          null|            null|         null|       null|       null|         null|            null|        null|          null|            null|         null|       null|       null|         null|            null|        null|          null|            null|         null|       null|       null|         null|            null|        null|          null|            null|         null|       null|       null|         null|            null|        null|          null|            null|         null|       null| null|\n",
      "|2013|      4|   12|        16|        1|2013-12-16 00:00:00|               DL|                   19790|                         DL|     N908DA|                           1307|          10397|           1039705|             30397|   ATL|    Atlanta, GA|         GA|             13|        Georgia|       34|        14524|         1452401|           34524| RIC|   Richmond, VA|       VA|           51|     Virginia|     38|      1545|   1545|     0.0|            0.0|     0.0|                   0| 1500-1559|   25.0|     1610|    1713|   6.0|      1715|   1719|     4.0|            4.0|     0.0|                 0| 1700-1759|      0.0|            null|     0.0|          90.0|             94.0|   63.0|    1.0|   481.0|            2|        null|        null|    null|         null|             null|        null|         null|           null|                 0|          null|                null|       null|       null|       null|         null|            null|        null|          null|            null|         null|       null|       null|         null|            null|        null|          null|            null|         null|       null|       null|         null|            null|        null|          null|            null|         null|       null|       null|         null|            null|        null|          null|            null|         null|       null|       null|         null|            null|        null|          null|            null|         null|       null| null|\n",
      "|2013|      4|   12|        16|        1|2013-12-16 00:00:00|               DL|                   19790|                         DL|     N908DA|                           1307|          14524|           1452401|             34524|   RIC|   Richmond, VA|         VA|             51|       Virginia|       38|        10397|         1039705|           30397| ATL|    Atlanta, GA|       GA|           13|      Georgia|     34|      1759|   1757|    -2.0|            0.0|     0.0|                  -1| 1700-1759|   13.0|     1810|    1929|   5.0|      1948|   1934|   -14.0|            0.0|     0.0|                -1| 1900-1959|      0.0|            null|     0.0|         109.0|             97.0|   79.0|    1.0|   481.0|            2|        null|        null|    null|         null|             null|        null|         null|           null|                 0|          null|                null|       null|       null|       null|         null|            null|        null|          null|            null|         null|       null|       null|         null|            null|        null|          null|            null|         null|       null|       null|         null|            null|        null|          null|            null|         null|       null|       null|         null|            null|        null|          null|            null|         null|       null|       null|         null|            null|        null|          null|            null|         null|       null| null|\n",
      "|2013|      4|   12|        16|        1|2013-12-16 00:00:00|               DL|                   19790|                         DL|     N939DN|                           1308|          10423|           1042302|             30423|   AUS|     Austin, TX|         TX|             48|          Texas|       74|        10397|         1039705|           30397| ATL|    Atlanta, GA|       GA|           13|      Georgia|     34|       815|    813|    -2.0|            0.0|     0.0|                  -1| 0800-0859|   17.0|      830|    1108|  12.0|      1118|   1120|     2.0|            2.0|     0.0|                 0| 1100-1159|      0.0|            null|     0.0|         123.0|            127.0|   98.0|    1.0|   813.0|            4|        null|        null|    null|         null|             null|        null|         null|           null|                 0|          null|                null|       null|       null|       null|         null|            null|        null|          null|            null|         null|       null|       null|         null|            null|        null|          null|            null|         null|       null|       null|         null|            null|        null|          null|            null|         null|       null|       null|         null|            null|        null|          null|            null|         null|       null|       null|         null|            null|        null|          null|            null|         null|       null| null|\n",
      "|2013|      4|   12|        16|        1|2013-12-16 00:00:00|               DL|                   19790|                         DL|     N911DA|                           1309|          10397|           1039705|             30397|   ATL|    Atlanta, GA|         GA|             13|        Georgia|       34|        10423|         1042302|           30423| AUS|     Austin, TX|       TX|           48|        Texas|     74|      1857|   1931|    34.0|           34.0|     1.0|                   2| 1800-1859|   17.0|     1948|    2045|   5.0|      2036|   2050|    14.0|           14.0|     0.0|                 0| 2000-2059|      0.0|            null|     0.0|         159.0|            139.0|  117.0|    1.0|   813.0|            4|        null|        null|    null|         null|             null|        null|         null|           null|                 0|          null|                null|       null|       null|       null|         null|            null|        null|          null|            null|         null|       null|       null|         null|            null|        null|          null|            null|         null|       null|       null|         null|            null|        null|          null|            null|         null|       null|       null|         null|            null|        null|          null|            null|         null|       null|       null|         null|            null|        null|          null|            null|         null|       null| null|\n",
      "|2013|      4|   12|        16|        1|2013-12-16 00:00:00|               DL|                   19790|                         DL|     N383DN|                           1312|          11292|           1129202|             30325|   DEN|     Denver, CO|         CO|              8|       Colorado|       82|        12478|         1247802|           31703| JFK|   New York, NY|       NY|           36|     New York|     22|       830|    824|    -6.0|            0.0|     0.0|                  -1| 0800-0859|   12.0|      836|    1339|   7.0|      1409|   1346|   -23.0|            0.0|     0.0|                -2| 1400-1459|      0.0|            null|     0.0|         219.0|            202.0|  183.0|    1.0|  1626.0|            7|        null|        null|    null|         null|             null|        null|         null|           null|                 0|          null|                null|       null|       null|       null|         null|            null|        null|          null|            null|         null|       null|       null|         null|            null|        null|          null|            null|         null|       null|       null|         null|            null|        null|          null|            null|         null|       null|       null|         null|            null|        null|          null|            null|         null|       null|       null|         null|            null|        null|          null|            null|         null|       null| null|\n",
      "|2013|      4|   12|        16|        1|2013-12-16 00:00:00|               DL|                   19790|                         DL|     N376DA|                           1314|          10397|           1039705|             30397|   ATL|    Atlanta, GA|         GA|             13|        Georgia|       34|        11066|         1106603|           31066| CMH|   Columbus, OH|       OH|           39|         Ohio|     44|      1655|   1706|    11.0|           11.0|     0.0|                   0| 1600-1659|   16.0|     1722|    1829|   3.0|      1830|   1832|     2.0|            2.0|     0.0|                 0| 1800-1859|      0.0|            null|     0.0|          95.0|             86.0|   67.0|    1.0|   447.0|            2|        null|        null|    null|         null|             null|        null|         null|           null|                 0|          null|                null|       null|       null|       null|         null|            null|        null|          null|            null|         null|       null|       null|         null|            null|        null|          null|            null|         null|       null|       null|         null|            null|        null|          null|            null|         null|       null|       null|         null|            null|        null|          null|            null|         null|       null|       null|         null|            null|        null|          null|            null|         null|       null| null|\n",
      "+----+-------+-----+----------+---------+-------------------+-----------------+------------------------+---------------------------+-----------+-------------------------------+---------------+------------------+------------------+------+---------------+-----------+---------------+---------------+---------+-------------+----------------+----------------+----+---------------+---------+-------------+-------------+-------+----------+-------+--------+---------------+--------+--------------------+----------+-------+---------+--------+------+----------+-------+--------+---------------+--------+------------------+----------+---------+----------------+--------+--------------+-----------------+-------+-------+--------+-------------+------------+------------+--------+-------------+-----------------+------------+-------------+---------------+------------------+--------------+--------------------+-----------+-----------+-----------+-------------+----------------+------------+--------------+----------------+-------------+-----------+-----------+-------------+----------------+------------+--------------+----------------+-------------+-----------+-----------+-------------+----------------+------------+--------------+----------------+-------------+-----------+-----------+-------------+----------------+------------+--------------+----------------+-------------+-----------+-----------+-------------+----------------+------------+--------------+----------------+-------------+-----------+-----+\n",
      "only showing top 10 rows\n",
      "\n"
     ]
    }
   ],
   "source": [
    "# get the rows with Flights equals to 2\n",
    "df.filter(df.Flights == 1).show(10)"
   ]
  },
  {
   "cell_type": "code",
   "execution_count": 4,
   "metadata": {},
   "outputs": [],
   "source": [
    "# import sql functions\n",
    "from pyspark.sql.functions import *\n"
   ]
  },
  {
   "cell_type": "code",
   "execution_count": 9,
   "metadata": {},
   "outputs": [
    {
     "name": "stdout",
     "output_type": "stream",
     "text": [
      "root\n",
      " |-- Year: integer (nullable = true)\n",
      " |-- Quarter: integer (nullable = true)\n",
      " |-- Month: integer (nullable = true)\n",
      " |-- DayofMonth: integer (nullable = true)\n",
      " |-- DayOfWeek: integer (nullable = true)\n",
      " |-- FlightDate: timestamp (nullable = true)\n",
      " |-- Reporting_Airline: string (nullable = true)\n",
      " |-- DOT_ID_Reporting_Airline: integer (nullable = true)\n",
      " |-- IATA_CODE_Reporting_Airline: string (nullable = true)\n",
      " |-- Tail_Number: string (nullable = true)\n",
      " |-- Flight_Number_Reporting_Airline: integer (nullable = true)\n",
      " |-- OriginAirportID: integer (nullable = true)\n",
      " |-- OriginAirportSeqID: integer (nullable = true)\n",
      " |-- OriginCityMarketID: integer (nullable = true)\n",
      " |-- Origin: string (nullable = true)\n",
      " |-- OriginCityName: string (nullable = true)\n",
      " |-- OriginState: string (nullable = true)\n",
      " |-- OriginStateFips: integer (nullable = true)\n",
      " |-- OriginStateName: string (nullable = true)\n",
      " |-- OriginWac: integer (nullable = true)\n",
      " |-- DestAirportID: integer (nullable = true)\n",
      " |-- DestAirportSeqID: integer (nullable = true)\n",
      " |-- DestCityMarketID: integer (nullable = true)\n",
      " |-- Dest: string (nullable = true)\n",
      " |-- DestCityName: string (nullable = true)\n",
      " |-- DestState: string (nullable = true)\n",
      " |-- DestStateFips: integer (nullable = true)\n",
      " |-- DestStateName: string (nullable = true)\n",
      " |-- DestWac: integer (nullable = true)\n",
      " |-- CRSDepTime: integer (nullable = true)\n",
      " |-- DepTime: integer (nullable = true)\n",
      " |-- DepDelay: double (nullable = true)\n",
      " |-- DepDelayMinutes: double (nullable = true)\n",
      " |-- DepDel15: double (nullable = true)\n",
      " |-- DepartureDelayGroups: integer (nullable = true)\n",
      " |-- DepTimeBlk: string (nullable = true)\n",
      " |-- TaxiOut: double (nullable = true)\n",
      " |-- WheelsOff: integer (nullable = true)\n",
      " |-- WheelsOn: integer (nullable = true)\n",
      " |-- TaxiIn: double (nullable = true)\n",
      " |-- CRSArrTime: integer (nullable = true)\n",
      " |-- ArrTime: integer (nullable = true)\n",
      " |-- ArrDelay: double (nullable = true)\n",
      " |-- ArrDelayMinutes: double (nullable = true)\n",
      " |-- ArrDel15: double (nullable = true)\n",
      " |-- ArrivalDelayGroups: integer (nullable = true)\n",
      " |-- ArrTimeBlk: string (nullable = true)\n",
      " |-- Cancelled: double (nullable = true)\n",
      " |-- CancellationCode: string (nullable = true)\n",
      " |-- Diverted: double (nullable = true)\n",
      " |-- CRSElapsedTime: double (nullable = true)\n",
      " |-- ActualElapsedTime: double (nullable = true)\n",
      " |-- AirTime: double (nullable = true)\n",
      " |-- Flights: double (nullable = true)\n",
      " |-- Distance: double (nullable = true)\n",
      " |-- DistanceGroup: integer (nullable = true)\n",
      " |-- CarrierDelay: double (nullable = true)\n",
      " |-- WeatherDelay: double (nullable = true)\n",
      " |-- NASDelay: double (nullable = true)\n",
      " |-- SecurityDelay: double (nullable = true)\n",
      " |-- LateAircraftDelay: double (nullable = true)\n",
      " |-- FirstDepTime: integer (nullable = true)\n",
      " |-- TotalAddGTime: double (nullable = true)\n",
      " |-- LongestAddGTime: double (nullable = true)\n",
      " |-- DivAirportLandings: integer (nullable = true)\n",
      " |-- DivReachedDest: double (nullable = true)\n",
      " |-- DivActualElapsedTime: double (nullable = true)\n",
      " |-- DivArrDelay: double (nullable = true)\n",
      " |-- DivDistance: double (nullable = true)\n",
      " |-- Div1Airport: string (nullable = true)\n",
      " |-- Div1AirportID: integer (nullable = true)\n",
      " |-- Div1AirportSeqID: integer (nullable = true)\n",
      " |-- Div1WheelsOn: integer (nullable = true)\n",
      " |-- Div1TotalGTime: double (nullable = true)\n",
      " |-- Div1LongestGTime: double (nullable = true)\n",
      " |-- Div1WheelsOff: integer (nullable = true)\n",
      " |-- Div1TailNum: string (nullable = true)\n",
      " |-- Div2Airport: string (nullable = true)\n",
      " |-- Div2AirportID: integer (nullable = true)\n",
      " |-- Div2AirportSeqID: integer (nullable = true)\n",
      " |-- Div2WheelsOn: integer (nullable = true)\n",
      " |-- Div2TotalGTime: double (nullable = true)\n",
      " |-- Div2LongestGTime: double (nullable = true)\n",
      " |-- Div2WheelsOff: integer (nullable = true)\n",
      " |-- Div2TailNum: string (nullable = true)\n",
      " |-- Div3Airport: string (nullable = true)\n",
      " |-- Div3AirportID: integer (nullable = true)\n",
      " |-- Div3AirportSeqID: integer (nullable = true)\n",
      " |-- Div3WheelsOn: integer (nullable = true)\n",
      " |-- Div3TotalGTime: double (nullable = true)\n",
      " |-- Div3LongestGTime: double (nullable = true)\n",
      " |-- Div3WheelsOff: string (nullable = true)\n",
      " |-- Div3TailNum: string (nullable = true)\n",
      " |-- Div4Airport: string (nullable = true)\n",
      " |-- Div4AirportID: string (nullable = true)\n",
      " |-- Div4AirportSeqID: string (nullable = true)\n",
      " |-- Div4WheelsOn: string (nullable = true)\n",
      " |-- Div4TotalGTime: string (nullable = true)\n",
      " |-- Div4LongestGTime: string (nullable = true)\n",
      " |-- Div4WheelsOff: string (nullable = true)\n",
      " |-- Div4TailNum: string (nullable = true)\n",
      " |-- Div5Airport: string (nullable = true)\n",
      " |-- Div5AirportID: string (nullable = true)\n",
      " |-- Div5AirportSeqID: string (nullable = true)\n",
      " |-- Div5WheelsOn: string (nullable = true)\n",
      " |-- Div5TotalGTime: string (nullable = true)\n",
      " |-- Div5LongestGTime: string (nullable = true)\n",
      " |-- Div5WheelsOff: string (nullable = true)\n",
      " |-- Div5TailNum: string (nullable = true)\n",
      " |-- _c109: string (nullable = true)\n",
      "\n"
     ]
    }
   ],
   "source": [
    "# print df schema\n",
    "df.printSchema()"
   ]
  },
  {
   "cell_type": "markdown",
   "metadata": {},
   "source": [
    "To drop:\n",
    "- IATA_CODE_Reporting_Airline\n",
    "- "
   ]
  },
  {
   "cell_type": "markdown",
   "metadata": {},
   "source": [
    "Meaning:\n",
    "- Tail_Number: plane identifier"
   ]
  },
  {
   "cell_type": "code",
   "execution_count": 11,
   "metadata": {},
   "outputs": [
    {
     "name": "stderr",
     "output_type": "stream",
     "text": [
      "/var/folders/tx/5_6_zg1d0fd4zjwzxg1ztrth0000gn/T/ipykernel_56760/2719218514.py:2: DtypeWarning:\n",
      "\n",
      "Columns (77,84,85) have mixed types. Specify dtype option on import or set low_memory=False.\n",
      "\n"
     ]
    }
   ],
   "source": [
    "# import the data from csv in pandas dataframe\n",
    "df_pd = pd.read_csv('../data/On_Time_Reporting_Carrier_On_Time_Performance_(1987_present)_2013_12.csv')"
   ]
  },
  {
   "cell_type": "code",
   "execution_count": 14,
   "metadata": {},
   "outputs": [
    {
     "name": "stdout",
     "output_type": "stream",
     "text": [
      "Number of rows in pandas dataframe:  516739\n"
     ]
    }
   ],
   "source": [
    "# count rows in pandas dataframe\n",
    "print('Number of rows in pandas dataframe: ', len(df_pd))"
   ]
  },
  {
   "cell_type": "code",
   "execution_count": 15,
   "metadata": {},
   "outputs": [],
   "source": [
    "pd.set_option('display.max_rows', None)"
   ]
  },
  {
   "cell_type": "code",
   "execution_count": 16,
   "metadata": {},
   "outputs": [
    {
     "name": "stdout",
     "output_type": "stream",
     "text": [
      "Percentage of missing values in each column: \n",
      "Year                                 0.000000\n",
      "Quarter                              0.000000\n",
      "Month                                0.000000\n",
      "DayofMonth                           0.000000\n",
      "DayOfWeek                            0.000000\n",
      "FlightDate                           0.000000\n",
      "Reporting_Airline                    0.000000\n",
      "DOT_ID_Reporting_Airline             0.000000\n",
      "IATA_CODE_Reporting_Airline          0.000000\n",
      "Tail_Number                          0.457291\n",
      "Flight_Number_Reporting_Airline      0.000000\n",
      "OriginAirportID                      0.000000\n",
      "OriginAirportSeqID                   0.000000\n",
      "OriginCityMarketID                   0.000000\n",
      "Origin                               0.000000\n",
      "OriginCityName                       0.000000\n",
      "OriginState                          0.000000\n",
      "OriginStateFips                      0.000000\n",
      "OriginStateName                      0.000000\n",
      "OriginWac                            0.000000\n",
      "DestAirportID                        0.000000\n",
      "DestAirportSeqID                     0.000000\n",
      "DestCityMarketID                     0.000000\n",
      "Dest                                 0.000000\n",
      "DestCityName                         0.000000\n",
      "DestState                            0.000000\n",
      "DestStateFips                        0.000000\n",
      "DestStateName                        0.000000\n",
      "DestWac                              0.000000\n",
      "CRSDepTime                           0.000000\n",
      "DepTime                              2.753034\n",
      "DepDelay                             2.753034\n",
      "DepDelayMinutes                      2.753034\n",
      "DepDel15                             2.753034\n",
      "DepartureDelayGroups                 2.753034\n",
      "DepTimeBlk                           0.000000\n",
      "TaxiOut                              2.824056\n",
      "WheelsOff                            2.824056\n",
      "WheelsOn                             2.910754\n",
      "TaxiIn                               2.910754\n",
      "CRSArrTime                           0.000000\n",
      "ArrTime                              2.910754\n",
      "ArrDelay                             3.077569\n",
      "ArrDelayMinutes                      3.077569\n",
      "ArrDel15                             3.077569\n",
      "ArrivalDelayGroups                   3.077569\n",
      "ArrTimeBlk                           0.000000\n",
      "Cancelled                            0.000000\n",
      "CancellationCode                    97.146141\n",
      "Diverted                             0.000000\n",
      "CRSElapsedTime                       0.000000\n",
      "ActualElapsedTime                    3.077569\n",
      "AirTime                              3.077569\n",
      "Flights                              0.000000\n",
      "Distance                             0.000000\n",
      "DistanceGroup                        0.000000\n",
      "CarrierDelay                        71.947540\n",
      "WeatherDelay                        71.947540\n",
      "NASDelay                            71.947540\n",
      "SecurityDelay                       71.947540\n",
      "LateAircraftDelay                   71.947540\n",
      "FirstDepTime                        99.309710\n",
      "TotalAddGTime                       99.309710\n",
      "LongestAddGTime                     99.309710\n",
      "DivAirportLandings                   0.000000\n",
      "DivReachedDest                      99.776289\n",
      "DivActualElapsedTime                99.833185\n",
      "DivArrDelay                         99.833185\n",
      "DivDistance                         99.776289\n",
      "Div1Airport                         99.746487\n",
      "Div1AirportID                       99.746487\n",
      "Div1AirportSeqID                    99.746487\n",
      "Div1WheelsOn                        99.746487\n",
      "Div1TotalGTime                      99.746487\n",
      "Div1LongestGTime                    99.746487\n",
      "Div1WheelsOff                       99.830475\n",
      "Div1TailNum                         99.830475\n",
      "Div2Airport                         99.996323\n",
      "Div2AirportID                       99.996323\n",
      "Div2AirportSeqID                    99.996323\n",
      "Div2WheelsOn                        99.996323\n",
      "Div2TotalGTime                      99.996323\n",
      "Div2LongestGTime                    99.996323\n",
      "Div2WheelsOff                       99.998839\n",
      "Div2TailNum                         99.998839\n",
      "Div3Airport                         99.999806\n",
      "Div3AirportID                       99.999806\n",
      "Div3AirportSeqID                    99.999806\n",
      "Div3WheelsOn                        99.999806\n",
      "Div3TotalGTime                      99.999806\n",
      "Div3LongestGTime                    99.999806\n",
      "Div3WheelsOff                      100.000000\n",
      "Div3TailNum                        100.000000\n",
      "Div4Airport                        100.000000\n",
      "Div4AirportID                      100.000000\n",
      "Div4AirportSeqID                   100.000000\n",
      "Div4WheelsOn                       100.000000\n",
      "Div4TotalGTime                     100.000000\n",
      "Div4LongestGTime                   100.000000\n",
      "Div4WheelsOff                      100.000000\n",
      "Div4TailNum                        100.000000\n",
      "Div5Airport                        100.000000\n",
      "Div5AirportID                      100.000000\n",
      "Div5AirportSeqID                   100.000000\n",
      "Div5WheelsOn                       100.000000\n",
      "Div5TotalGTime                     100.000000\n",
      "Div5LongestGTime                   100.000000\n",
      "Div5WheelsOff                      100.000000\n",
      "Div5TailNum                        100.000000\n",
      "Unnamed: 109                       100.000000\n",
      "dtype: float64\n"
     ]
    }
   ],
   "source": [
    "# count the percentage of missing values in each column\n",
    "print('Percentage of missing values in each column: ')\n",
    "print(df_pd.isnull().sum()/len(df_pd)*100)\n"
   ]
  },
  {
   "cell_type": "code",
   "execution_count": 19,
   "metadata": {},
   "outputs": [],
   "source": [
    "# load airport.csv as pandas dataframe\n",
    "airports = pd.read_csv('airports.csv')"
   ]
  },
  {
   "cell_type": "code",
   "execution_count": null,
   "metadata": {},
   "outputs": [],
   "source": [
    "# make a join between df_sampled and airports\n",
    "df_sampled = df_sampled.merge(airports, left_on='Origin', right_on='IATA')\n",
    "df_sampled = df_sampled.merge(airports, left_on='Dest', right_on='IATA')"
   ]
  },
  {
   "cell_type": "code",
   "execution_count": null,
   "metadata": {},
   "outputs": [],
   "source": [
    "# save df_sampled as csv\n",
    "df_sampled.to_csv('df_sampled.csv')"
   ]
  },
  {
   "cell_type": "code",
   "execution_count": null,
   "metadata": {},
   "outputs": [],
   "source": [
    "df_sampled=df.toPandas()"
   ]
  },
  {
   "cell_type": "code",
   "execution_count": 17,
   "metadata": {},
   "outputs": [],
   "source": [
    "# sample 100_000 rows from df_sampled\n",
    "df_sampled = df_pd.sample(100)"
   ]
  },
  {
   "cell_type": "code",
   "execution_count": null,
   "metadata": {},
   "outputs": [],
   "source": [
    "# numbers of null values in each column, show full output\n",
    "pd.set_option('display.max_rows', None)\n",
    "df_sampled.isnull().sum()"
   ]
  },
  {
   "cell_type": "code",
   "execution_count": 20,
   "metadata": {},
   "outputs": [
    {
     "name": "stderr",
     "output_type": "stream",
     "text": [
      "/opt/homebrew/lib/python3.10/site-packages/plotly/graph_objs/_deprecations.py:173: DeprecationWarning:\n",
      "\n",
      "plotly.graph_objs.ColorBar is deprecated.\n",
      "Please replace it with one of the following more specific types\n",
      "  - plotly.graph_objs.scatter.marker.ColorBar\n",
      "  - plotly.graph_objs.surface.ColorBar\n",
      "  - etc.\n",
      "\n",
      "\n"
     ]
    }
   ],
   "source": [
    "airportspy = [ dict(\n",
    "        type = 'scattergeo',\n",
    "        locationmode = 'USA-states',\n",
    "        lon = airports['LONGITUDE'],\n",
    "        lat = airports['LATITUDE'],\n",
    "        text = '<b>' + airports['AIRPORT'].map(str) + '</b>',\n",
    "        hoverinfo = 'text',\n",
    "        marker = dict(\n",
    "            size=2,\n",
    "            sizemin=2,\n",
    "            cmin = 10.565915336317195,\n",
    "            cmax = 38.383341806128094,\n",
    "            colorscale = [[0,'rgb(255, 255, 0)'],[1,'rgb(255, 0, 0)']],\n",
    "            colorbar=go.ColorBar(\n",
    "                 title='Score'\n",
    "            ),\n",
    "            opacity = 1,\n",
    "            line = dict(\n",
    "                width=0,\n",
    "                color='rgba(68, 68, 68, 0)'\n",
    "            )          \n",
    "        ))]"
   ]
  },
  {
   "cell_type": "code",
   "execution_count": null,
   "metadata": {},
   "outputs": [],
   "source": [
    "flight_paths = []\n",
    "for i in range(len(df_pd)):\n",
    "      \n",
    "     \n",
    "    \n",
    "    flight_paths.append(\n",
    "        dict(\n",
    "            type = 'scattergeo',\n",
    "            locationmode = 'USA-states',\n",
    "            lon = [ float(aux_origin['LONGITUDE_x']), float(aux_destin['LONGITUDE_y']) ],\n",
    "            lat = [ float(aux_origin['LATITUDE_x']), float(aux_destin['LATITUDE_y']) ],\n",
    "            mode = 'lines',\n",
    "            hoverinfo = 'skip',\n",
    "            line = dict(\n",
    "                width = 0.5,\n",
    "                #color = color[i]\n",
    "            ),\n",
    "            #opacity = float(df_pd.loc[i,'COUNT']/maxcount_f)*2\n",
    "        )\n",
    "    )\n",
    "    "
   ]
  },
  {
   "cell_type": "code",
   "execution_count": 21,
   "metadata": {},
   "outputs": [
    {
     "name": "stderr",
     "output_type": "stream",
     "text": [
      "/opt/homebrew/lib/python3.10/site-packages/plotly/graph_objs/_deprecations.py:405: DeprecationWarning:\n",
      "\n",
      "plotly.graph_objs.Margin is deprecated.\n",
      "Please replace it with one of the following more specific types\n",
      "  - plotly.graph_objs.layout.Margin\n",
      "\n",
      "\n"
     ]
    },
    {
     "ename": "NameError",
     "evalue": "name 'flight_paths' is not defined",
     "output_type": "error",
     "traceback": [
      "\u001b[0;31m---------------------------------------------------------------------------\u001b[0m",
      "\u001b[0;31mNameError\u001b[0m                                 Traceback (most recent call last)",
      "\u001b[1;32m/Users/teodorosullazzo/Documents/git_repos/Progetto_Big_Data_22_23/notebooks/analysis.ipynb Cella 20\u001b[0m in \u001b[0;36m<cell line: 29>\u001b[0;34m()\u001b[0m\n\u001b[1;32m      <a href='vscode-notebook-cell:/Users/teodorosullazzo/Documents/git_repos/Progetto_Big_Data_22_23/notebooks/analysis.ipynb#ch0000015?line=0'>1</a>\u001b[0m layout \u001b[39m=\u001b[39m go\u001b[39m.\u001b[39mLayout(\n\u001b[1;32m      <a href='vscode-notebook-cell:/Users/teodorosullazzo/Documents/git_repos/Progetto_Big_Data_22_23/notebooks/analysis.ipynb#ch0000015?line=1'>2</a>\u001b[0m         showlegend \u001b[39m=\u001b[39m \u001b[39mFalse\u001b[39;00m, \n\u001b[1;32m      <a href='vscode-notebook-cell:/Users/teodorosullazzo/Documents/git_repos/Progetto_Big_Data_22_23/notebooks/analysis.ipynb#ch0000015?line=2'>3</a>\u001b[0m         geo \u001b[39m=\u001b[39m \u001b[39mdict\u001b[39m(\n\u001b[0;32m   (...)\u001b[0m\n\u001b[1;32m     <a href='vscode-notebook-cell:/Users/teodorosullazzo/Documents/git_repos/Progetto_Big_Data_22_23/notebooks/analysis.ipynb#ch0000015?line=25'>26</a>\u001b[0m         plot_bgcolor \u001b[39m=\u001b[39m \u001b[39m'\u001b[39m\u001b[39mrgb(29, 29, 29)\u001b[39m\u001b[39m'\u001b[39m\n\u001b[1;32m     <a href='vscode-notebook-cell:/Users/teodorosullazzo/Documents/git_repos/Progetto_Big_Data_22_23/notebooks/analysis.ipynb#ch0000015?line=26'>27</a>\u001b[0m                             )\n\u001b[0;32m---> <a href='vscode-notebook-cell:/Users/teodorosullazzo/Documents/git_repos/Progetto_Big_Data_22_23/notebooks/analysis.ipynb#ch0000015?line=28'>29</a>\u001b[0m fig \u001b[39m=\u001b[39m \u001b[39mdict\u001b[39m( data\u001b[39m=\u001b[39mflight_paths\u001b[39m+\u001b[39mairportspy , layout\u001b[39m=\u001b[39mlayout )\n\u001b[1;32m     <a href='vscode-notebook-cell:/Users/teodorosullazzo/Documents/git_repos/Progetto_Big_Data_22_23/notebooks/analysis.ipynb#ch0000015?line=29'>30</a>\u001b[0m py\u001b[39m.\u001b[39miplot(fig, filename\u001b[39m=\u001b[39m\u001b[39m'\u001b[39m\u001b[39mroutes-graph\u001b[39m\u001b[39m'\u001b[39m)\n",
      "\u001b[0;31mNameError\u001b[0m: name 'flight_paths' is not defined"
     ]
    }
   ],
   "source": [
    "\n",
    "\n",
    "\n",
    "    \n",
    "layout = go.Layout(\n",
    "        showlegend = False, \n",
    "        geo = dict(\n",
    "            #scope='north america',\n",
    "            projection=dict( type='orthographic' , scale = 1.8),\n",
    "            showland = True,\n",
    "            showocean = True,\n",
    "            showcoastlines = True,\n",
    "            showcountries = True,\n",
    "            landcolor = 'rgb(49, 49, 49)',\n",
    "            countrycolor = 'rgb(90, 90, 90)',\n",
    "            coastlinecolor = 'rgb(90, 90, 90)',\n",
    "            oceancolor = 'rgb(29, 29, 29)',\n",
    "            bgcolor = 'rgb(29, 29, 29)'\n",
    "            #,center = dict(lon='-100', lat='36')\n",
    "        ),\n",
    "        margin=go.Margin(\n",
    "         l=0,\n",
    "         r=0,\n",
    "         b=0,\n",
    "         t=0,\n",
    "         pad=0\n",
    "        ),\n",
    "        autosize=True,\n",
    "        paper_bgcolor = 'rgb(29, 29, 29)',\n",
    "        plot_bgcolor = 'rgb(29, 29, 29)'\n",
    "                            )\n",
    "\n",
    "fig = dict( data=flight_paths+airportspy , layout=layout )\n",
    "py.iplot(fig, filename='routes-graph')"
   ]
  },
  {
   "cell_type": "code",
   "execution_count": null,
   "metadata": {},
   "outputs": [],
   "source": []
  }
 ],
 "metadata": {
  "kernelspec": {
   "display_name": "Python 3.10.7 64-bit",
   "language": "python",
   "name": "python3"
  },
  "language_info": {
   "codemirror_mode": {
    "name": "ipython",
    "version": 3
   },
   "file_extension": ".py",
   "mimetype": "text/x-python",
   "name": "python",
   "nbconvert_exporter": "python",
   "pygments_lexer": "ipython3",
   "version": "3.10.7"
  },
  "orig_nbformat": 4,
  "vscode": {
   "interpreter": {
    "hash": "b0fa6594d8f4cbf19f97940f81e996739fb7646882a419484c72d19e05852a7e"
   }
  }
 },
 "nbformat": 4,
 "nbformat_minor": 2
}
