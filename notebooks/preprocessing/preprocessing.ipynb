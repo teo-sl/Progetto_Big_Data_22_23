{
 "cells": [
  {
   "cell_type": "code",
   "execution_count": 1,
   "metadata": {},
   "outputs": [],
   "source": [
    "import pandas as pd\n",
    "import numpy as np\n",
    "from pyspark.sql import SparkSession\n",
    "import pyspark.sql.functions as F"
   ]
  },
  {
   "cell_type": "code",
   "execution_count": 2,
   "metadata": {},
   "outputs": [
    {
     "name": "stdout",
     "output_type": "stream",
     "text": [
      "23/01/08 11:06:40 WARN Utils: Your hostname, MacBook-Air-di-Teodoro.local resolves to a loopback address: 127.0.0.1; using 192.168.240.184 instead (on interface en0)\n",
      "23/01/08 11:06:40 WARN Utils: Set SPARK_LOCAL_IP if you need to bind to another address\n"
     ]
    },
    {
     "name": "stderr",
     "output_type": "stream",
     "text": [
      "Setting default log level to \"WARN\".\n",
      "To adjust logging level use sc.setLogLevel(newLevel). For SparkR, use setLogLevel(newLevel).\n"
     ]
    },
    {
     "name": "stdout",
     "output_type": "stream",
     "text": [
      "23/01/08 11:06:41 WARN NativeCodeLoader: Unable to load native-hadoop library for your platform... using builtin-java classes where applicable\n"
     ]
    }
   ],
   "source": [
    "spark = SparkSession.builder.appName('flights').getOrCreate()"
   ]
  },
  {
   "cell_type": "code",
   "execution_count": 3,
   "metadata": {},
   "outputs": [],
   "source": [
    "# count the missing values in each column\n",
    "def count_null(df):\n",
    "    cols_check = df.columns\n",
    "    df.select(*[\n",
    "    (\n",
    "        F.count(F.when((F.isnan(c) | F.col(c).isNull()), c)) if t not in (\"timestamp\", \"date\")\n",
    "        else F.count(F.when(F.col(c).isNull(), c))\n",
    "    ).alias(c)\n",
    "    for c, t in df.dtypes if c in cols_check\n",
    "]).show()"
   ]
  },
  {
   "cell_type": "code",
   "execution_count": 6,
   "metadata": {},
   "outputs": [],
   "source": [
    "# extract the selected features from file\n",
    "def select_features():\n",
    "    features = []\n",
    "    with open(\"../../util/features_analysis.txt\",\"r\") as f:\n",
    "        lines = f.readlines()\n",
    "        for line in lines:\n",
    "            line = line.strip()\n",
    "            features.append(line)\n",
    "    return features\n"
   ]
  },
  {
   "cell_type": "code",
   "execution_count": 7,
   "metadata": {},
   "outputs": [
    {
     "data": {
      "text/plain": [
       "['Year',\n",
       " 'Quarter',\n",
       " 'Month',\n",
       " 'DayofMonth',\n",
       " 'DayOfWeek',\n",
       " 'FlightDate',\n",
       " 'Reporting_Airline',\n",
       " 'Tail_Number',\n",
       " 'Flight_Number_Reporting_Airline',\n",
       " 'Origin',\n",
       " 'Dest',\n",
       " 'CRSDepTime',\n",
       " 'DepTime',\n",
       " 'DepDelay',\n",
       " 'DepDelayMinutes',\n",
       " 'DepDel15',\n",
       " 'DepartureDelayGroups',\n",
       " 'DepTimeBlk',\n",
       " 'TaxiOut',\n",
       " 'WheelsOff',\n",
       " 'WheelsOn',\n",
       " 'TaxiIn',\n",
       " 'CRSArrTime',\n",
       " 'ArrTime',\n",
       " 'ArrDelay',\n",
       " 'ArrDelayMinutes',\n",
       " 'ArrDel15',\n",
       " 'ArrivalDelayGroups',\n",
       " 'ArrTimeBlk',\n",
       " 'Cancelled',\n",
       " 'Diverted',\n",
       " 'CRSElapsedTime',\n",
       " 'ActualElapsedTime',\n",
       " 'AirTime',\n",
       " 'Distance',\n",
       " 'DistanceGroup',\n",
       " 'DivAirportLandings',\n",
       " 'DestCityName',\n",
       " 'OriginCityName']"
      ]
     },
     "execution_count": 7,
     "metadata": {},
     "output_type": "execute_result"
    }
   ],
   "source": [
    "select_features()"
   ]
  },
  {
   "cell_type": "code",
   "execution_count": 8,
   "metadata": {},
   "outputs": [],
   "source": [
    "# select the features from the dataset and drop the missing values\n",
    "def clean_data(df,features):\n",
    "    df = df.select(features)\n",
    "    df = df.na.drop()\n",
    "    return df"
   ]
  },
  {
   "cell_type": "code",
   "execution_count": 9,
   "metadata": {},
   "outputs": [],
   "source": [
    "# complete the geographical information with latitude and longitude\n",
    "def join_airports(df,airports):\n",
    "    df = df.join(airports,df.Origin==airports.IATA)\n",
    "    df = df.withColumnRenamed(\"LATITUDE\",\"ORIGIN_LATITUDE\")\n",
    "    df = df.withColumnRenamed(\"LONGITUDE\",\"ORIGIN_LONGITUDE\")\n",
    "    df = df.withColumnRenamed(\"STATE\",\"ORIGIN_STATE\")\n",
    "    df = df.withColumnRenamed(\"AIRPORT\", \"ORIGIN_AIRPORT_FULL_NAME\")\n",
    "    df = df.withColumnRenamed(\"STATE_FULL_NAME\", \"ORIGIN_STATE_FULL_NAME\")\n",
    "    df = df.drop(\"IATA\",\"CITY\",\"COUNTRY\")\n",
    "    df = df.join(airports,df.Dest==airports.IATA)\n",
    "    df = df.withColumnRenamed(\"LATITUDE\",\"DEST_LATITUDE\")\n",
    "    df = df.withColumnRenamed(\"LONGITUDE\",\"DEST_LONGITUDE\")\n",
    "    df = df.withColumnRenamed(\"STATE\",\"DEST_STATE\")\n",
    "    df = df.withColumnRenamed(\"AIRPORT\", \"DEST_AIRPORT_FULL_NAME\")\n",
    "    df = df.withColumnRenamed(\"STATE_FULL_NAME\", \"DEST_STATE_FULL_NAME\")\n",
    "    df = df.drop(\"IATA\",\"CITY\",\"COUNTRY\")    \n",
    "    return df"
   ]
  },
  {
   "cell_type": "code",
   "execution_count": 10,
   "metadata": {},
   "outputs": [],
   "source": [
    "# get all files with .csv extension\n",
    "import glob\n",
    "files = glob.glob(\"../../data.nosync/*.csv\")"
   ]
  },
  {
   "cell_type": "code",
   "execution_count": 11,
   "metadata": {},
   "outputs": [
    {
     "name": "stderr",
     "output_type": "stream",
     "text": [
      "                                                                                \r"
     ]
    }
   ],
   "source": [
    "# get the first file and use it to infer the schema\n",
    "df_tmp = spark.read.csv(files[0],header=True,inferSchema=True)"
   ]
  },
  {
   "cell_type": "code",
   "execution_count": 12,
   "metadata": {},
   "outputs": [],
   "source": [
    "schema = df_tmp.schema"
   ]
  },
  {
   "cell_type": "code",
   "execution_count": 13,
   "metadata": {},
   "outputs": [],
   "source": [
    "# save schema as json\n",
    "with open(\"schema.json\",\"w\") as f:\n",
    "    f.write(schema.json())\n"
   ]
  },
  {
   "cell_type": "code",
   "execution_count": 14,
   "metadata": {},
   "outputs": [],
   "source": [
    "# load schema from json\n",
    "import json\n",
    "from pyspark.sql.types import StructType, StructField, StringType, IntegerType, DoubleType, DateType, TimestampType\n",
    "with open(\"schema.json\",\"r\") as f:\n",
    "    schema_loaded = StructType.fromJson(json.load(f))\n"
   ]
  },
  {
   "cell_type": "code",
   "execution_count": 16,
   "metadata": {},
   "outputs": [],
   "source": [
    "from pyspark.sql.functions import date_format, col, concat_ws, to_date, unix_timestamp\n",
    "\n",
    "spark.conf.set(\"spark.sql.legacy.timeParserPolicy\", \"LEGACY\")\n",
    "\n",
    "def preprocess_normal_data(path):\n",
    "    df = spark.read.csv(path, schema=schema, header=True)\n",
    "    columns = df.columns\n",
    "    df_normal = df.filter(df['Diverted'] == 0)\n",
    "    features = select_features()\n",
    "    df_normal = clean_data(df_normal,features)\n",
    "    airports = spark.read.csv(\"../../util/airports_fil.csv\", inferSchema=True, header=True)\n",
    "    df_normal = join_airports(df_normal,airports)\n",
    "    df_normal =  df_normal.withColumn(\"WeekofMonth\", concat_ws(\"-\", df_normal.Year, df_normal.Month, date_format(col(\"FlightDate\"), \"W\").cast(\"string\")))\n",
    "    df_normal = df_normal.withColumn(\"WeekofMonth\", to_date(unix_timestamp(col('WeekofMonth'), 'yyyy-MM-dd').cast(\"timestamp\")))\n",
    "    return df_normal"
   ]
  },
  {
   "cell_type": "code",
   "execution_count": 17,
   "metadata": {},
   "outputs": [],
   "source": [
    "# obtain the preprocessed data\n",
    "df_cleaned = preprocess_normal_data(\"../../data.nosync\")\n",
    "df_cleaned = df_cleaned.drop(\"_c0\")"
   ]
  },
  {
   "cell_type": "code",
   "execution_count": 18,
   "metadata": {},
   "outputs": [
    {
     "data": {
      "text/plain": [
       "['Year',\n",
       " 'Quarter',\n",
       " 'Month',\n",
       " 'DayofMonth',\n",
       " 'DayOfWeek',\n",
       " 'FlightDate',\n",
       " 'Reporting_Airline',\n",
       " 'Tail_Number',\n",
       " 'Flight_Number_Reporting_Airline',\n",
       " 'Origin',\n",
       " 'Dest',\n",
       " 'CRSDepTime',\n",
       " 'DepTime',\n",
       " 'DepDelay',\n",
       " 'DepDelayMinutes',\n",
       " 'DepDel15',\n",
       " 'DepartureDelayGroups',\n",
       " 'DepTimeBlk',\n",
       " 'TaxiOut',\n",
       " 'WheelsOff',\n",
       " 'WheelsOn',\n",
       " 'TaxiIn',\n",
       " 'CRSArrTime',\n",
       " 'ArrTime',\n",
       " 'ArrDelay',\n",
       " 'ArrDelayMinutes',\n",
       " 'ArrDel15',\n",
       " 'ArrivalDelayGroups',\n",
       " 'ArrTimeBlk',\n",
       " 'Cancelled',\n",
       " 'Diverted',\n",
       " 'CRSElapsedTime',\n",
       " 'ActualElapsedTime',\n",
       " 'AirTime',\n",
       " 'Distance',\n",
       " 'DistanceGroup',\n",
       " 'DivAirportLandings',\n",
       " 'DestCityName',\n",
       " 'OriginCityName',\n",
       " 'ORIGIN_AIRPORT_FULL_NAME',\n",
       " 'ORIGIN_STATE',\n",
       " 'ORIGIN_LATITUDE',\n",
       " 'ORIGIN_LONGITUDE',\n",
       " 'ORIGIN_STATE_FULL_NAME',\n",
       " 'DEST_AIRPORT_FULL_NAME',\n",
       " 'DEST_STATE',\n",
       " 'DEST_LATITUDE',\n",
       " 'DEST_LONGITUDE',\n",
       " 'DEST_STATE_FULL_NAME',\n",
       " 'WeekofMonth']"
      ]
     },
     "execution_count": 18,
     "metadata": {},
     "output_type": "execute_result"
    }
   ],
   "source": [
    "df_cleaned.columns"
   ]
  },
  {
   "cell_type": "code",
   "execution_count": 19,
   "metadata": {},
   "outputs": [
    {
     "name": "stdout",
     "output_type": "stream",
     "text": [
      "23/01/08 11:09:40 WARN package: Truncated the string representation of a plan since it was too large. This behavior can be adjusted by setting 'spark.sql.debug.maxToStringFields'.\n"
     ]
    },
    {
     "name": "stderr",
     "output_type": "stream",
     "text": [
      "                                                                                \r"
     ]
    }
   ],
   "source": [
    "# save the cleaned data\n",
    "df_cleaned.write.csv(\"../../data.nosync/cleaned/cleaned_flights.csv\",header=True)"
   ]
  },
  {
   "cell_type": "code",
   "execution_count": null,
   "metadata": {},
   "outputs": [],
   "source": [
    "df_cleaned.count()"
   ]
  }
 ],
 "metadata": {
  "kernelspec": {
   "display_name": "Python 3.10.7 64-bit",
   "language": "python",
   "name": "python3"
  },
  "language_info": {
   "codemirror_mode": {
    "name": "ipython",
    "version": 3
   },
   "file_extension": ".py",
   "mimetype": "text/x-python",
   "name": "python",
   "nbconvert_exporter": "python",
   "pygments_lexer": "ipython3",
   "version": "3.10.9"
  },
  "orig_nbformat": 4,
  "vscode": {
   "interpreter": {
    "hash": "b0fa6594d8f4cbf19f97940f81e996739fb7646882a419484c72d19e05852a7e"
   }
  }
 },
 "nbformat": 4,
 "nbformat_minor": 2
}
