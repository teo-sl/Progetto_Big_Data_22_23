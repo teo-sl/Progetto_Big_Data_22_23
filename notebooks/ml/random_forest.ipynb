{
 "cells": [
  {
   "cell_type": "code",
   "execution_count": 5,
   "metadata": {},
   "outputs": [],
   "source": [
    "import plotly.express as px\n",
    "import plotly.graph_objs as go\n",
    "import pandas as pd\n",
    "import numpy as np\n",
    "from pyspark.sql import SparkSession\n",
    "from pyspark.sql.functions import *\n",
    "import plotly.offline as py\n"
   ]
  },
  {
   "cell_type": "code",
   "execution_count": 6,
   "metadata": {},
   "outputs": [],
   "source": [
    "spark = SparkSession.builder.appName(\"flights\").getOrCreate()\n",
    "import json\n",
    "from pyspark.sql.types import StructType, StructField, StringType, IntegerType, DoubleType, DateType, TimestampType\n",
    "with open(\"../matrix/schema.json\",\"r\") as f:\n",
    "    schema = StructType.fromJson(json.load(f))"
   ]
  },
  {
   "cell_type": "code",
   "execution_count": 7,
   "metadata": {},
   "outputs": [],
   "source": [
    "df = spark.read.csv(\"../../data.nosync/cleaned/cleaned_flights.csv\",schema=schema, header=True)"
   ]
  },
  {
   "cell_type": "code",
   "execution_count": 10,
   "metadata": {},
   "outputs": [],
   "source": [
    "# create a new column 'label' that is 1 if the flight is delayed and 0 if it is not\n",
    "df = df.withColumn(\"label\", when(df[\"ArrDelay\"] > 0, 1).otherwise(0))"
   ]
  },
  {
   "cell_type": "code",
   "execution_count": 14,
   "metadata": {},
   "outputs": [],
   "source": [
    "features = [\n",
    " 'Quarter',\n",
    " 'Month',\n",
    " 'DayofMonth',\n",
    " 'DayOfWeek',\n",
    " 'Reporting_Airline',\n",
    " 'Origin',\n",
    " 'Dest',\n",
    " 'DepDelay',\n",
    " 'CRSDepTime',\n",
    " 'CRSArrTime',\n",
    " 'CRSElapsedTime',\n",
    " 'AirTime',\n",
    " 'Distance',\n",
    " 'ORIGIN_STATE',\n",
    " 'DEST_STATE',\n",
    " 'label'\n",
    " ]\n",
    "\n",
    "\n",
    "# mantain only the features in features list\n",
    "df = df.select(features)"
   ]
  },
  {
   "cell_type": "code",
   "execution_count": 16,
   "metadata": {},
   "outputs": [
    {
     "name": "stdout",
     "output_type": "stream",
     "text": [
      "+-------+-----+----------+---------+-----------------+------+----+--------+----------+----------+--------------+-------+--------+------------+----------+-----+\n",
      "|Quarter|Month|DayofMonth|DayOfWeek|Reporting_Airline|Origin|Dest|DepDelay|CRSDepTime|CRSArrTime|CRSElapsedTime|AirTime|Distance|ORIGIN_STATE|DEST_STATE|label|\n",
      "+-------+-----+----------+---------+-----------------+------+----+--------+----------+----------+--------------+-------+--------+------------+----------+-----+\n",
      "|      4|   10|         4|        5|               9E|   ATL| OMA|     0.0|       855|      1025|         150.0|  124.0|   821.0|          GA|        NE|    0|\n",
      "|      4|   10|        26|        6|               9E|   IAH| MSP|    -8.0|       730|      1021|         171.0|  142.0|  1034.0|          TX|        MN|    0|\n",
      "|      4|   10|        12|        6|               9E|   LGA| CLT|   104.0|      1625|      1839|         134.0|   81.0|   544.0|          NY|        NC|    1|\n",
      "|      4|   10|         4|        5|               9E|   OMA| ATL|    -1.0|      1100|      1409|         129.0|  116.0|   821.0|          NE|        GA|    1|\n",
      "|      4|   10|         1|        2|               9E|   TYS| ATL|    -6.0|      1708|      1814|          66.0|   32.0|   152.0|          TN|        GA|    0|\n",
      "|      4|   10|         2|        3|               9E|   TYS| ATL|    -6.0|      1708|      1814|          66.0|   39.0|   152.0|          TN|        GA|    0|\n",
      "|      4|   10|         3|        4|               9E|   TYS| ATL|     1.0|      1708|      1814|          66.0|   36.0|   152.0|          TN|        GA|    0|\n",
      "|      4|   10|         6|        7|               9E|   TYS| ATL|    14.0|      1708|      1814|          66.0|   46.0|   152.0|          TN|        GA|    1|\n",
      "|      4|   10|         7|        1|               9E|   TYS| ATL|    52.0|      1708|      1814|          66.0|   32.0|   152.0|          TN|        GA|    1|\n",
      "|      4|   10|         8|        2|               9E|   TYS| ATL|    -7.0|      1708|      1814|          66.0|   34.0|   152.0|          TN|        GA|    0|\n",
      "+-------+-----+----------+---------+-----------------+------+----+--------+----------+----------+--------------+-------+--------+------------+----------+-----+\n",
      "only showing top 10 rows\n",
      "\n"
     ]
    }
   ],
   "source": [
    "df.show(10)"
   ]
  },
  {
   "cell_type": "code",
   "execution_count": 17,
   "metadata": {},
   "outputs": [],
   "source": [
    "from pyspark.ml import Pipeline\n",
    "from pyspark.ml.feature import StringIndexer, VectorAssembler\n",
    "from pyspark.ml.regression import RandomForestRegressor\n",
    "from pyspark.ml.classification import RandomForestClassifier\n",
    "from pyspark.ml.evaluation import MulticlassClassificationEvaluator\n",
    "from pyspark.ml.tuning import CrossValidator, ParamGridBuilder\n",
    "from pyspark.ml.feature import VectorIndexer\n",
    "from pyspark.ml.feature import OneHotEncoder"
   ]
  },
  {
   "cell_type": "code",
   "execution_count": 18,
   "metadata": {},
   "outputs": [
    {
     "data": {
      "text/plain": [
       "[('Quarter', 'int'),\n",
       " ('Month', 'int'),\n",
       " ('DayofMonth', 'int'),\n",
       " ('DayOfWeek', 'int'),\n",
       " ('Reporting_Airline', 'string'),\n",
       " ('Origin', 'string'),\n",
       " ('Dest', 'string'),\n",
       " ('DepDelay', 'double'),\n",
       " ('CRSDepTime', 'int'),\n",
       " ('CRSArrTime', 'int'),\n",
       " ('CRSElapsedTime', 'double'),\n",
       " ('AirTime', 'double'),\n",
       " ('Distance', 'double'),\n",
       " ('ORIGIN_STATE', 'string'),\n",
       " ('DEST_STATE', 'string'),\n",
       " ('label', 'int')]"
      ]
     },
     "execution_count": 18,
     "metadata": {},
     "output_type": "execute_result"
    }
   ],
   "source": [
    "df.dtypes"
   ]
  },
  {
   "cell_type": "code",
   "execution_count": 19,
   "metadata": {},
   "outputs": [],
   "source": [
    "from pyspark.ml.feature import OneHotEncoder, StringIndexer\n",
    "\n",
    "categoricalCols = [field for (field, dataType) in df.dtypes\n",
    "if dataType == \"string\"]\n",
    "\n",
    "indexOutputCols = [x + \"Index\" for x in categoricalCols]\n",
    "oheOutputCols = [x + \"OHE\" for x in categoricalCols]\n",
    "\n",
    "stringIndexer = StringIndexer(inputCols=categoricalCols,\n",
    "                                outputCols=indexOutputCols,\n",
    "                                handleInvalid=\"skip\")\n",
    "oheEncoder = OneHotEncoder(inputCols=indexOutputCols,\n",
    "                            outputCols=oheOutputCols)\n",
    "\n",
    "numericCols = [field for (field, dataType) in df.dtypes\n",
    "                    if ((dataType == \"double\" or dataType == \"int\" ) & (field != \"label\"))]\n",
    "\n",
    "assemblerInputs = oheOutputCols + numericCols\n",
    "\n",
    "vecAssembler = VectorAssembler(inputCols=assemblerInputs,\n",
    "                        outputCol=\"features\")\n"
   ]
  },
  {
   "cell_type": "code",
   "execution_count": 21,
   "metadata": {},
   "outputs": [
    {
     "name": "stderr",
     "output_type": "stream",
     "text": [
      "                                                                                \r"
     ]
    }
   ],
   "source": [
    "# create the pipeline\n",
    "pipeline = Pipeline(stages=[stringIndexer, oheEncoder, vecAssembler])\n",
    "\n",
    "# fit the pipeline to the data\n",
    "pipelineModel = pipeline.fit(df)\n",
    "\n",
    "# transform the data\n",
    "df_proc = pipelineModel.transform(df)"
   ]
  },
  {
   "cell_type": "code",
   "execution_count": 22,
   "metadata": {},
   "outputs": [],
   "source": [
    "# select the features and label columns\n",
    "df_proc = df_proc.select(\"features\",\"label\")\n"
   ]
  },
  {
   "cell_type": "code",
   "execution_count": 23,
   "metadata": {},
   "outputs": [
    {
     "name": "stdout",
     "output_type": "stream",
     "text": [
      "+--------------------+-----+\n",
      "|            features|label|\n",
      "+--------------------+-----+\n",
      "|(762,[8,15,389,64...|    0|\n",
      "|(762,[8,20,340,64...|    0|\n",
      "|(762,[8,33,339,64...|    1|\n",
      "|(762,[8,75,330,67...|    1|\n",
      "|(762,[8,94,330,66...|    0|\n",
      "+--------------------+-----+\n",
      "only showing top 5 rows\n",
      "\n"
     ]
    }
   ],
   "source": [
    "# show the first 5 rows\n",
    "df_proc.show(5)\n"
   ]
  },
  {
   "cell_type": "code",
   "execution_count": 24,
   "metadata": {},
   "outputs": [
    {
     "name": "stderr",
     "output_type": "stream",
     "text": [
      "                                                                                \r"
     ]
    },
    {
     "data": {
      "text/plain": [
       "2501251"
      ]
     },
     "execution_count": 24,
     "metadata": {},
     "output_type": "execute_result"
    }
   ],
   "source": [
    "# count the number of rows with label 1\n",
    "df_proc.filter(df_proc.label == 1).count()"
   ]
  },
  {
   "cell_type": "code",
   "execution_count": 25,
   "metadata": {},
   "outputs": [
    {
     "name": "stderr",
     "output_type": "stream",
     "text": [
      "                                                                                \r"
     ]
    },
    {
     "data": {
      "text/plain": [
       "3745488"
      ]
     },
     "execution_count": 25,
     "metadata": {},
     "output_type": "execute_result"
    }
   ],
   "source": [
    "# count the number of rows with label 0\n",
    "df_proc.filter(df_proc.label == 0).count()"
   ]
  },
  {
   "cell_type": "code",
   "execution_count": 26,
   "metadata": {},
   "outputs": [
    {
     "data": {
      "text/plain": [
       "0.6678037681605175"
      ]
     },
     "execution_count": 26,
     "metadata": {},
     "output_type": "execute_result"
    }
   ],
   "source": [
    "sample_rate = 2501251/3745488\n",
    "sample_rate"
   ]
  },
  {
   "cell_type": "code",
   "execution_count": 28,
   "metadata": {},
   "outputs": [],
   "source": [
    "# split the data into train and test\n",
    "train, test = df_proc.randomSplit([0.8, 0.2], seed=42)\n"
   ]
  },
  {
   "cell_type": "code",
   "execution_count": 29,
   "metadata": {},
   "outputs": [],
   "source": [
    "\n",
    "train_1 = train.filter(train.label == 1)\n",
    "\n",
    "\n",
    "train_0 = train.filter(train.label == 0).sample(False, sample_rate, seed=42)\n",
    "\n",
    "\n",
    "# merge the two datasets\n",
    "train = train_1.union(train_0)"
   ]
  },
  {
   "cell_type": "code",
   "execution_count": 30,
   "metadata": {},
   "outputs": [
    {
     "name": "stderr",
     "output_type": "stream",
     "text": [
      "                                                                                \r"
     ]
    },
    {
     "data": {
      "text/plain": [
       "2001500"
      ]
     },
     "execution_count": 30,
     "metadata": {},
     "output_type": "execute_result"
    }
   ],
   "source": [
    "# count the number of rows with label 1\n",
    "train.filter(train.label == 1).count()"
   ]
  },
  {
   "cell_type": "code",
   "execution_count": 31,
   "metadata": {},
   "outputs": [
    {
     "name": "stderr",
     "output_type": "stream",
     "text": [
      "                                                                                \r"
     ]
    },
    {
     "data": {
      "text/plain": [
       "2002517"
      ]
     },
     "execution_count": 31,
     "metadata": {},
     "output_type": "execute_result"
    }
   ],
   "source": [
    "# count the number of rows with label 0\n",
    "train.filter(train.label == 0).count()"
   ]
  },
  {
   "cell_type": "code",
   "execution_count": 32,
   "metadata": {},
   "outputs": [],
   "source": [
    "# create the model\n",
    "rf = RandomForestClassifier(featuresCol=\"features\", labelCol=\"label\")\n"
   ]
  },
  {
   "cell_type": "code",
   "execution_count": 33,
   "metadata": {},
   "outputs": [
    {
     "name": "stderr",
     "output_type": "stream",
     "text": [
      "[Stage 27:>                                                        (0 + 8) / 36]\r"
     ]
    },
    {
     "name": "stdout",
     "output_type": "stream",
     "text": [
      "22/12/26 21:30:43 WARN MemoryStore: Not enough space to cache rdd_102_5 in memory! (computed 13.7 MiB so far)\n",
      "22/12/26 21:30:43 WARN MemoryStore: Not enough space to cache rdd_102_3 in memory! (computed 8.7 MiB so far)\n",
      "22/12/26 21:30:43 WARN MemoryStore: Not enough space to cache rdd_102_7 in memory! (computed 21.0 MiB so far)\n",
      "22/12/26 21:30:43 WARN MemoryStore: Not enough space to cache rdd_102_2 in memory! (computed 21.0 MiB so far)\n",
      "22/12/26 21:30:43 WARN BlockManager: Persisting block rdd_102_3 to disk instead.\n",
      "22/12/26 21:30:43 WARN BlockManager: Persisting block rdd_102_5 to disk instead.\n",
      "22/12/26 21:30:43 WARN BlockManager: Persisting block rdd_102_7 to disk instead.\n",
      "22/12/26 21:30:43 WARN BlockManager: Persisting block rdd_102_2 to disk instead.\n",
      "22/12/26 21:30:43 WARN MemoryStore: Not enough space to cache rdd_102_4 in memory! (computed 31.5 MiB so far)\n",
      "22/12/26 21:30:43 WARN BlockManager: Persisting block rdd_102_4 to disk instead.\n",
      "22/12/26 21:30:43 WARN MemoryStore: Not enough space to cache rdd_102_6 in memory! (computed 47.3 MiB so far)\n",
      "22/12/26 21:30:43 WARN BlockManager: Persisting block rdd_102_6 to disk instead.\n",
      "22/12/26 21:30:43 WARN MemoryStore: Not enough space to cache rdd_102_0 in memory! (computed 13.7 MiB so far)\n",
      "22/12/26 21:30:43 WARN BlockManager: Persisting block rdd_102_0 to disk instead.\n",
      "22/12/26 21:30:43 WARN MemoryStore: Not enough space to cache rdd_102_1 in memory! (computed 71.5 MiB so far)\n",
      "22/12/26 21:30:43 WARN BlockManager: Persisting block rdd_102_1 to disk instead.\n",
      "22/12/26 21:30:44 WARN MemoryStore: Not enough space to cache rdd_102_7 in memory! (computed 47.3 MiB so far)\n",
      "22/12/26 21:30:44 WARN MemoryStore: Not enough space to cache rdd_102_4 in memory! (computed 13.7 MiB so far)\n",
      "22/12/26 21:30:44 WARN MemoryStore: Not enough space to cache rdd_102_0 in memory! (computed 21.0 MiB so far)\n",
      "22/12/26 21:30:44 WARN MemoryStore: Not enough space to cache rdd_102_2 in memory! (computed 169.5 MiB so far)\n",
      "22/12/26 21:30:45 WARN MemoryStore: Not enough space to cache rdd_102_3 in memory! (computed 5.8 MiB so far)\n",
      "22/12/26 21:30:45 WARN MemoryStore: Not enough space to cache rdd_102_1 in memory! (computed 111.0 MiB so far)\n",
      "22/12/26 21:30:45 WARN MemoryStore: Not enough space to cache rdd_102_5 in memory! (computed 169.5 MiB so far)\n",
      "22/12/26 21:30:45 WARN MemoryStore: Not enough space to cache rdd_102_6 in memory! (computed 254.2 MiB so far)\n"
     ]
    },
    {
     "name": "stderr",
     "output_type": "stream",
     "text": [
      "[Stage 27:============>                                            (8 + 8) / 36]\r"
     ]
    },
    {
     "name": "stdout",
     "output_type": "stream",
     "text": [
      "22/12/26 21:30:49 WARN MemoryStore: Not enough space to cache rdd_102_9 in memory! (computed 31.5 MiB so far)\n",
      "22/12/26 21:30:49 WARN BlockManager: Persisting block rdd_102_9 to disk instead.\n",
      "22/12/26 21:30:49 WARN MemoryStore: Not enough space to cache rdd_102_8 in memory! (computed 31.5 MiB so far)\n",
      "22/12/26 21:30:49 WARN BlockManager: Persisting block rdd_102_8 to disk instead.\n",
      "22/12/26 21:30:49 WARN MemoryStore: Not enough space to cache rdd_102_11 in memory! (computed 31.5 MiB so far)\n",
      "22/12/26 21:30:49 WARN BlockManager: Persisting block rdd_102_11 to disk instead.\n",
      "22/12/26 21:30:50 WARN MemoryStore: Not enough space to cache rdd_102_10 in memory! (computed 169.5 MiB so far)\n",
      "22/12/26 21:30:50 WARN BlockManager: Persisting block rdd_102_10 to disk instead.\n",
      "22/12/26 21:30:51 WARN MemoryStore: Not enough space to cache rdd_102_9 in memory! (computed 111.0 MiB so far)\n",
      "22/12/26 21:30:51 WARN MemoryStore: Not enough space to cache rdd_102_10 in memory! (computed 71.5 MiB so far)\n",
      "22/12/26 21:30:51 WARN MemoryStore: Not enough space to cache rdd_102_8 in memory! (computed 254.2 MiB so far)\n",
      "22/12/26 21:30:51 WARN MemoryStore: Not enough space to cache rdd_102_11 in memory! (computed 47.3 MiB so far)\n",
      "22/12/26 21:30:51 WARN MemoryStore: Not enough space to cache rdd_102_13 in memory! (computed 8.7 MiB so far)\n",
      "22/12/26 21:30:51 WARN BlockManager: Persisting block rdd_102_13 to disk instead.\n"
     ]
    },
    {
     "name": "stderr",
     "output_type": "stream",
     "text": [
      "[Stage 27:==============>                                          (9 + 8) / 36]\r"
     ]
    },
    {
     "name": "stdout",
     "output_type": "stream",
     "text": [
      "22/12/26 21:30:52 WARN MemoryStore: Not enough space to cache rdd_102_14 in memory! (computed 31.5 MiB so far)\n",
      "22/12/26 21:30:52 WARN BlockManager: Persisting block rdd_102_14 to disk instead.\n"
     ]
    },
    {
     "name": "stderr",
     "output_type": "stream",
     "text": [
      "[Stage 27:==================>                                     (12 + 8) / 36]\r"
     ]
    },
    {
     "name": "stdout",
     "output_type": "stream",
     "text": [
      "22/12/26 21:30:53 WARN MemoryStore: Not enough space to cache rdd_102_12 in memory! (computed 111.0 MiB so far)\n",
      "22/12/26 21:30:53 WARN BlockManager: Persisting block rdd_102_12 to disk instead.\n",
      "22/12/26 21:30:53 WARN MemoryStore: Not enough space to cache rdd_102_15 in memory! (computed 254.2 MiB so far)\n",
      "22/12/26 21:30:53 WARN BlockManager: Persisting block rdd_102_15 to disk instead.\n",
      "22/12/26 21:30:53 WARN MemoryStore: Failed to reserve initial memory threshold of 1024.0 KiB for computing block rdd_102_19 in memory.\n",
      "22/12/26 21:30:55 WARN MemoryStore: Not enough space to cache rdd_102_14 in memory! (computed 111.0 MiB so far)\n",
      "22/12/26 21:30:55 WARN MemoryStore: Not enough space to cache rdd_102_15 in memory! (computed 169.5 MiB so far)\n",
      "22/12/26 21:30:55 WARN MemoryStore: Not enough space to cache rdd_102_13 in memory! (computed 254.2 MiB so far)\n"
     ]
    },
    {
     "name": "stderr",
     "output_type": "stream",
     "text": [
      "[Stage 27:=====================>                                  (14 + 8) / 36]\r"
     ]
    },
    {
     "name": "stdout",
     "output_type": "stream",
     "text": [
      "22/12/26 21:30:56 WARN MemoryStore: Not enough space to cache rdd_102_19 in memory! (computed 384.0 B so far)\n",
      "22/12/26 21:30:56 WARN BlockManager: Persisting block rdd_102_19 to disk instead.\n",
      "22/12/26 21:30:57 WARN MemoryStore: Not enough space to cache rdd_102_12 in memory! (computed 111.0 MiB so far)\n",
      "22/12/26 21:30:57 WARN MemoryStore: Not enough space to cache rdd_102_18 in memory! (computed 111.0 MiB so far)\n",
      "22/12/26 21:30:57 WARN BlockManager: Persisting block rdd_102_18 to disk instead.\n"
     ]
    },
    {
     "name": "stderr",
     "output_type": "stream",
     "text": [
      "[Stage 27:=======================>                                (15 + 8) / 36]\r"
     ]
    },
    {
     "name": "stdout",
     "output_type": "stream",
     "text": [
      "22/12/26 21:30:58 WARN MemoryStore: Not enough space to cache rdd_102_16 in memory! (computed 71.5 MiB so far)\n",
      "22/12/26 21:30:58 WARN BlockManager: Persisting block rdd_102_16 to disk instead.\n"
     ]
    },
    {
     "name": "stderr",
     "output_type": "stream",
     "text": [
      "[Stage 27:========================>                               (16 + 8) / 36]\r"
     ]
    },
    {
     "name": "stdout",
     "output_type": "stream",
     "text": [
      "22/12/26 21:30:58 WARN MemoryStore: Not enough space to cache rdd_102_17 in memory! (computed 254.2 MiB so far)\n",
      "22/12/26 21:30:58 WARN BlockManager: Persisting block rdd_102_17 to disk instead.\n",
      "22/12/26 21:30:59 WARN MemoryStore: Not enough space to cache rdd_102_18 in memory! (computed 47.3 MiB so far)\n",
      "22/12/26 21:30:59 WARN MemoryStore: Not enough space to cache rdd_102_19 in memory! (computed 47.3 MiB so far)\n"
     ]
    },
    {
     "name": "stderr",
     "output_type": "stream",
     "text": [
      "[Stage 27:==========================>                             (17 + 8) / 36]\r"
     ]
    },
    {
     "name": "stdout",
     "output_type": "stream",
     "text": [
      "22/12/26 21:31:00 WARN MemoryStore: Not enough space to cache rdd_102_17 in memory! (computed 169.5 MiB so far)\n",
      "22/12/26 21:31:00 WARN MemoryStore: Not enough space to cache rdd_102_16 in memory! (computed 21.0 MiB so far)\n",
      "22/12/26 21:31:00 WARN MemoryStore: Not enough space to cache rdd_102_21 in memory! (computed 2.5 MiB so far)\n",
      "22/12/26 21:31:00 WARN BlockManager: Persisting block rdd_102_21 to disk instead.\n",
      "22/12/26 21:31:00 WARN MemoryStore: Not enough space to cache rdd_102_20 in memory! (computed 47.3 MiB so far)\n",
      "22/12/26 21:31:00 WARN BlockManager: Persisting block rdd_102_20 to disk instead.\n"
     ]
    },
    {
     "name": "stderr",
     "output_type": "stream",
     "text": [
      "[Stage 27:===============================>                        (20 + 8) / 36]\r"
     ]
    },
    {
     "name": "stdout",
     "output_type": "stream",
     "text": [
      "22/12/26 21:31:02 WARN MemoryStore: Not enough space to cache rdd_102_22 in memory! (computed 254.2 MiB so far)\n",
      "22/12/26 21:31:02 WARN BlockManager: Persisting block rdd_102_22 to disk instead.\n",
      "22/12/26 21:31:02 WARN MemoryStore: Not enough space to cache rdd_102_23 in memory! (computed 1054.5 KiB so far)\n",
      "22/12/26 21:31:02 WARN BlockManager: Persisting block rdd_102_23 to disk instead.\n",
      "22/12/26 21:31:02 WARN MemoryStore: Not enough space to cache rdd_102_20 in memory! (computed 47.3 MiB so far)\n",
      "22/12/26 21:31:02 WARN MemoryStore: Not enough space to cache rdd_102_21 in memory! (computed 254.2 MiB so far)\n",
      "22/12/26 21:31:03 WARN MemoryStore: Not enough space to cache rdd_102_22 in memory! (computed 47.3 MiB so far)\n"
     ]
    },
    {
     "name": "stderr",
     "output_type": "stream",
     "text": [
      "[Stage 27:===================================>                    (23 + 8) / 36]\r"
     ]
    },
    {
     "name": "stdout",
     "output_type": "stream",
     "text": [
      "22/12/26 21:31:04 WARN MemoryStore: Not enough space to cache rdd_102_25 in memory! (computed 47.3 MiB so far)\n",
      "22/12/26 21:31:04 WARN BlockManager: Persisting block rdd_102_25 to disk instead.\n",
      "22/12/26 21:31:04 WARN MemoryStore: Not enough space to cache rdd_102_23 in memory! (computed 8.7 MiB so far)\n",
      "22/12/26 21:31:04 WARN MemoryStore: Not enough space to cache rdd_102_24 in memory! (computed 169.5 MiB so far)\n",
      "22/12/26 21:31:04 WARN BlockManager: Persisting block rdd_102_24 to disk instead.\n"
     ]
    },
    {
     "name": "stderr",
     "output_type": "stream",
     "text": [
      "[Stage 27:=====================================>                  (24 + 8) / 36]\r"
     ]
    },
    {
     "name": "stdout",
     "output_type": "stream",
     "text": [
      "22/12/26 21:31:05 WARN MemoryStore: Not enough space to cache rdd_102_26 in memory! (computed 111.0 MiB so far)\n",
      "22/12/26 21:31:05 WARN BlockManager: Persisting block rdd_102_26 to disk instead.\n",
      "22/12/26 21:31:05 WARN MemoryStore: Not enough space to cache rdd_102_24 in memory! (computed 21.0 MiB so far)\n",
      "22/12/26 21:31:05 WARN MemoryStore: Not enough space to cache rdd_102_27 in memory! (computed 111.0 MiB so far)\n",
      "22/12/26 21:31:05 WARN BlockManager: Persisting block rdd_102_27 to disk instead.\n"
     ]
    },
    {
     "name": "stderr",
     "output_type": "stream",
     "text": [
      "[Stage 27:======================================>                 (25 + 8) / 36]\r"
     ]
    },
    {
     "name": "stdout",
     "output_type": "stream",
     "text": [
      "22/12/26 21:31:06 WARN MemoryStore: Not enough space to cache rdd_102_25 in memory! (computed 254.2 MiB so far)\n"
     ]
    },
    {
     "name": "stderr",
     "output_type": "stream",
     "text": [
      "[Stage 27:========================================>               (26 + 8) / 36]\r"
     ]
    },
    {
     "name": "stdout",
     "output_type": "stream",
     "text": [
      "22/12/26 21:31:07 WARN MemoryStore: Not enough space to cache rdd_102_26 in memory! (computed 254.2 MiB so far)\n",
      "22/12/26 21:31:07 WARN MemoryStore: Not enough space to cache rdd_102_29 in memory! (computed 8.7 MiB so far)\n",
      "22/12/26 21:31:07 WARN BlockManager: Persisting block rdd_102_29 to disk instead.\n",
      "22/12/26 21:31:07 WARN MemoryStore: Not enough space to cache rdd_102_27 in memory! (computed 111.0 MiB so far)\n",
      "22/12/26 21:31:07 WARN MemoryStore: Not enough space to cache rdd_102_28 in memory! (computed 1054.5 KiB so far)\n",
      "22/12/26 21:31:07 WARN BlockManager: Persisting block rdd_102_28 to disk instead.\n"
     ]
    },
    {
     "name": "stderr",
     "output_type": "stream",
     "text": [
      "[Stage 27:===========================================>            (28 + 8) / 36]\r"
     ]
    },
    {
     "name": "stdout",
     "output_type": "stream",
     "text": [
      "22/12/26 21:31:08 WARN MemoryStore: Not enough space to cache rdd_102_29 in memory! (computed 111.0 MiB so far)\n"
     ]
    },
    {
     "name": "stderr",
     "output_type": "stream",
     "text": [
      "[Stage 27:=============================================>          (29 + 7) / 36]\r"
     ]
    },
    {
     "name": "stdout",
     "output_type": "stream",
     "text": [
      "22/12/26 21:31:09 WARN MemoryStore: Not enough space to cache rdd_102_28 in memory! (computed 254.2 MiB so far)\n"
     ]
    },
    {
     "name": "stderr",
     "output_type": "stream",
     "text": [
      "[Stage 27:==============================================>         (30 + 6) / 36]\r"
     ]
    },
    {
     "name": "stdout",
     "output_type": "stream",
     "text": [
      "22/12/26 21:31:11 WARN MemoryStore: Not enough space to cache rdd_102_30 in memory! (computed 111.0 MiB so far)\n",
      "22/12/26 21:31:11 WARN BlockManager: Persisting block rdd_102_30 to disk instead.\n",
      "22/12/26 21:31:11 WARN MemoryStore: Not enough space to cache rdd_102_31 in memory! (computed 1054.5 KiB so far)\n",
      "22/12/26 21:31:11 WARN BlockManager: Persisting block rdd_102_31 to disk instead.\n",
      "22/12/26 21:31:12 WARN MemoryStore: Not enough space to cache rdd_102_33 in memory! (computed 71.5 MiB so far)\n",
      "22/12/26 21:31:12 WARN BlockManager: Persisting block rdd_102_33 to disk instead.\n",
      "22/12/26 21:31:12 WARN MemoryStore: Not enough space to cache rdd_102_32 in memory! (computed 71.5 MiB so far)\n",
      "22/12/26 21:31:12 WARN BlockManager: Persisting block rdd_102_32 to disk instead.\n",
      "22/12/26 21:31:12 WARN MemoryStore: Not enough space to cache rdd_102_35 in memory! (computed 47.3 MiB so far)\n",
      "22/12/26 21:31:12 WARN BlockManager: Persisting block rdd_102_35 to disk instead.\n",
      "22/12/26 21:31:12 WARN MemoryStore: Not enough space to cache rdd_102_34 in memory! (computed 169.5 MiB so far)\n",
      "22/12/26 21:31:12 WARN BlockManager: Persisting block rdd_102_34 to disk instead.\n",
      "22/12/26 21:31:13 WARN MemoryStore: Not enough space to cache rdd_102_30 in memory! (computed 254.2 MiB so far)\n",
      "22/12/26 21:31:13 WARN MemoryStore: Not enough space to cache rdd_102_31 in memory! (computed 71.5 MiB so far)\n",
      "22/12/26 21:31:14 WARN MemoryStore: Not enough space to cache rdd_102_35 in memory! (computed 169.5 MiB so far)\n",
      "22/12/26 21:31:14 WARN MemoryStore: Not enough space to cache rdd_102_33 in memory! (computed 169.5 MiB so far)\n"
     ]
    },
    {
     "name": "stderr",
     "output_type": "stream",
     "text": [
      "[Stage 27:=================================================>      (32 + 4) / 36]\r"
     ]
    },
    {
     "name": "stdout",
     "output_type": "stream",
     "text": [
      "22/12/26 21:31:14 WARN MemoryStore: Not enough space to cache rdd_102_32 in memory! (computed 169.5 MiB so far)\n",
      "22/12/26 21:31:14 WARN MemoryStore: Not enough space to cache rdd_102_34 in memory! (computed 254.2 MiB so far)\n"
     ]
    },
    {
     "name": "stderr",
     "output_type": "stream",
     "text": [
      "                                                                                \r"
     ]
    },
    {
     "name": "stdout",
     "output_type": "stream",
     "text": [
      "22/12/26 21:31:15 WARN MemoryStore: Not enough space to cache rdd_102_7 in memory! (computed 47.3 MiB so far)\n",
      "22/12/26 21:31:15 WARN MemoryStore: Not enough space to cache rdd_102_4 in memory! (computed 71.5 MiB so far)\n",
      "22/12/26 21:31:15 WARN MemoryStore: Not enough space to cache rdd_102_6 in memory! (computed 47.3 MiB so far)\n",
      "22/12/26 21:31:15 WARN MemoryStore: Not enough space to cache rdd_102_1 in memory! (computed 47.3 MiB so far)\n",
      "22/12/26 21:31:15 WARN MemoryStore: Not enough space to cache rdd_102_3 in memory! (computed 31.5 MiB so far)\n",
      "22/12/26 21:31:15 WARN MemoryStore: Not enough space to cache rdd_102_5 in memory! (computed 71.5 MiB so far)\n",
      "22/12/26 21:31:15 WARN MemoryStore: Not enough space to cache rdd_102_2 in memory! (computed 47.3 MiB so far)\n",
      "22/12/26 21:31:15 WARN MemoryStore: Not enough space to cache rdd_102_0 in memory! (computed 71.5 MiB so far)\n"
     ]
    },
    {
     "name": "stderr",
     "output_type": "stream",
     "text": [
      "[Stage 29:===========>                                             (7 + 8) / 36]\r"
     ]
    },
    {
     "name": "stdout",
     "output_type": "stream",
     "text": [
      "22/12/26 21:31:16 WARN MemoryStore: Not enough space to cache rdd_102_8 in memory! (computed 169.5 MiB so far)\n",
      "22/12/26 21:31:16 WARN MemoryStore: Not enough space to cache rdd_102_9 in memory! (computed 111.0 MiB so far)\n",
      "22/12/26 21:31:16 WARN MemoryStore: Not enough space to cache rdd_102_10 in memory! (computed 71.5 MiB so far)\n",
      "22/12/26 21:31:16 WARN MemoryStore: Not enough space to cache rdd_102_13 in memory! (computed 13.7 MiB so far)\n",
      "22/12/26 21:31:16 WARN MemoryStore: Not enough space to cache rdd_102_12 in memory! (computed 21.0 MiB so far)\n",
      "22/12/26 21:31:16 WARN MemoryStore: Not enough space to cache rdd_102_11 in memory! (computed 47.3 MiB so far)\n",
      "22/12/26 21:31:16 WARN MemoryStore: Not enough space to cache rdd_102_15 in memory! (computed 3.8 MiB so far)\n"
     ]
    },
    {
     "name": "stderr",
     "output_type": "stream",
     "text": [
      "[Stage 29:============>                                            (8 + 8) / 36]\r"
     ]
    },
    {
     "name": "stdout",
     "output_type": "stream",
     "text": [
      "22/12/26 21:31:17 WARN MemoryStore: Not enough space to cache rdd_102_14 in memory! (computed 381.3 MiB so far)\n",
      "22/12/26 21:31:17 WARN MemoryStore: Not enough space to cache rdd_102_16 in memory! (computed 31.5 MiB so far)\n"
     ]
    },
    {
     "name": "stderr",
     "output_type": "stream",
     "text": [
      "[Stage 29:=================>                                      (11 + 8) / 36]\r"
     ]
    },
    {
     "name": "stdout",
     "output_type": "stream",
     "text": [
      "22/12/26 21:31:17 WARN MemoryStore: Not enough space to cache rdd_102_17 in memory! (computed 21.0 MiB so far)\n",
      "22/12/26 21:31:17 WARN MemoryStore: Not enough space to cache rdd_102_18 in memory! (computed 47.3 MiB so far)\n"
     ]
    },
    {
     "name": "stderr",
     "output_type": "stream",
     "text": [
      "[Stage 29:=======================>                                (15 + 8) / 36]\r"
     ]
    },
    {
     "name": "stdout",
     "output_type": "stream",
     "text": [
      "22/12/26 21:31:18 WARN MemoryStore: Not enough space to cache rdd_102_19 in memory! (computed 254.2 MiB so far)\n",
      "22/12/26 21:31:18 WARN MemoryStore: Not enough space to cache rdd_102_21 in memory! (computed 47.3 MiB so far)\n",
      "22/12/26 21:31:18 WARN MemoryStore: Not enough space to cache rdd_102_22 in memory! (computed 21.0 MiB so far)\n",
      "22/12/26 21:31:18 WARN MemoryStore: Not enough space to cache rdd_102_20 in memory! (computed 111.0 MiB so far)\n",
      "22/12/26 21:31:18 WARN MemoryStore: Not enough space to cache rdd_102_23 in memory! (computed 71.5 MiB so far)\n",
      "22/12/26 21:31:18 WARN MemoryStore: Not enough space to cache rdd_102_25 in memory! (computed 1644.5 KiB so far)\n",
      "22/12/26 21:31:18 WARN MemoryStore: Not enough space to cache rdd_102_24 in memory! (computed 111.0 MiB so far)\n"
     ]
    },
    {
     "name": "stderr",
     "output_type": "stream",
     "text": [
      "[Stage 29:================================>                       (21 + 8) / 36]\r"
     ]
    },
    {
     "name": "stdout",
     "output_type": "stream",
     "text": [
      "22/12/26 21:31:18 WARN MemoryStore: Not enough space to cache rdd_102_27 in memory! (computed 111.0 MiB so far)\n",
      "22/12/26 21:31:18 WARN MemoryStore: Not enough space to cache rdd_102_28 in memory! (computed 71.5 MiB so far)\n",
      "22/12/26 21:31:18 WARN MemoryStore: Not enough space to cache rdd_102_29 in memory! (computed 1644.5 KiB so far)\n",
      "22/12/26 21:31:19 WARN MemoryStore: Not enough space to cache rdd_102_26 in memory! (computed 254.2 MiB so far)\n"
     ]
    },
    {
     "name": "stderr",
     "output_type": "stream",
     "text": [
      "[Stage 29:======================================>                 (25 + 8) / 36]\r"
     ]
    },
    {
     "name": "stdout",
     "output_type": "stream",
     "text": [
      "22/12/26 21:31:19 WARN MemoryStore: Not enough space to cache rdd_102_30 in memory! (computed 111.0 MiB so far)\n",
      "22/12/26 21:31:19 WARN MemoryStore: Not enough space to cache rdd_102_31 in memory! (computed 47.3 MiB so far)\n",
      "22/12/26 21:31:19 WARN MemoryStore: Not enough space to cache rdd_102_32 in memory! (computed 21.0 MiB so far)\n"
     ]
    },
    {
     "name": "stderr",
     "output_type": "stream",
     "text": [
      "[Stage 29:==========================================>             (27 + 8) / 36]\r"
     ]
    },
    {
     "name": "stdout",
     "output_type": "stream",
     "text": [
      "22/12/26 21:31:19 WARN MemoryStore: Not enough space to cache rdd_102_35 in memory! (computed 13.7 MiB so far)\n",
      "22/12/26 21:31:19 WARN MemoryStore: Not enough space to cache rdd_102_34 in memory! (computed 169.5 MiB so far)\n",
      "22/12/26 21:31:19 WARN MemoryStore: Not enough space to cache rdd_102_33 in memory! (computed 254.2 MiB so far)\n"
     ]
    },
    {
     "name": "stderr",
     "output_type": "stream",
     "text": [
      "                                                                                \r"
     ]
    },
    {
     "name": "stdout",
     "output_type": "stream",
     "text": [
      "22/12/26 21:31:20 WARN MemoryStore: Not enough space to cache rdd_102_0 in memory! (computed 47.3 MiB so far)\n",
      "22/12/26 21:31:20 WARN MemoryStore: Not enough space to cache rdd_102_6 in memory! (computed 47.3 MiB so far)\n",
      "22/12/26 21:31:20 WARN MemoryStore: Not enough space to cache rdd_102_5 in memory! (computed 47.3 MiB so far)\n",
      "22/12/26 21:31:20 WARN MemoryStore: Not enough space to cache rdd_102_1 in memory! (computed 47.3 MiB so far)\n",
      "22/12/26 21:31:20 WARN MemoryStore: Not enough space to cache rdd_102_2 in memory! (computed 47.3 MiB so far)\n",
      "22/12/26 21:31:20 WARN MemoryStore: Not enough space to cache rdd_102_3 in memory! (computed 71.5 MiB so far)\n",
      "22/12/26 21:31:20 WARN MemoryStore: Not enough space to cache rdd_102_4 in memory! (computed 47.3 MiB so far)\n",
      "22/12/26 21:31:20 WARN MemoryStore: Not enough space to cache rdd_102_7 in memory! (computed 71.5 MiB so far)\n"
     ]
    },
    {
     "name": "stderr",
     "output_type": "stream",
     "text": [
      "[Stage 31:=======>                                                 (5 + 8) / 36]\r"
     ]
    },
    {
     "name": "stdout",
     "output_type": "stream",
     "text": [
      "22/12/26 21:31:21 WARN MemoryStore: Not enough space to cache rdd_102_12 in memory! (computed 21.0 MiB so far)\n",
      "22/12/26 21:31:21 WARN MemoryStore: Not enough space to cache rdd_102_11 in memory! (computed 31.5 MiB so far)\n",
      "22/12/26 21:31:21 WARN MemoryStore: Not enough space to cache rdd_102_9 in memory! (computed 111.0 MiB so far)\n",
      "22/12/26 21:31:21 WARN MemoryStore: Not enough space to cache rdd_102_10 in memory! (computed 111.0 MiB so far)\n",
      "22/12/26 21:31:21 WARN MemoryStore: Not enough space to cache rdd_102_8 in memory! (computed 169.5 MiB so far)\n",
      "22/12/26 21:31:21 WARN MemoryStore: Not enough space to cache rdd_102_13 in memory! (computed 31.5 MiB so far)\n",
      "22/12/26 21:31:21 WARN MemoryStore: Not enough space to cache rdd_102_14 in memory! (computed 13.7 MiB so far)\n",
      "22/12/26 21:31:21 WARN MemoryStore: Not enough space to cache rdd_102_15 in memory! (computed 8.7 MiB so far)\n"
     ]
    },
    {
     "name": "stderr",
     "output_type": "stream",
     "text": [
      "[Stage 31:=================>                                      (11 + 8) / 36]\r"
     ]
    },
    {
     "name": "stdout",
     "output_type": "stream",
     "text": [
      "22/12/26 21:31:22 WARN MemoryStore: Not enough space to cache rdd_102_17 in memory! (computed 111.0 MiB so far)\n",
      "22/12/26 21:31:22 WARN MemoryStore: Not enough space to cache rdd_102_18 in memory! (computed 71.5 MiB so far)\n",
      "22/12/26 21:31:22 WARN MemoryStore: Not enough space to cache rdd_102_16 in memory! (computed 254.2 MiB so far)\n"
     ]
    },
    {
     "name": "stderr",
     "output_type": "stream",
     "text": [
      "[Stage 31:==================>                                     (12 + 8) / 36]\r"
     ]
    },
    {
     "name": "stdout",
     "output_type": "stream",
     "text": [
      "22/12/26 21:31:23 WARN MemoryStore: Not enough space to cache rdd_102_19 in memory! (computed 169.5 MiB so far)\n"
     ]
    },
    {
     "name": "stderr",
     "output_type": "stream",
     "text": [
      "[Stage 31:=====================>                                  (14 + 8) / 36]\r"
     ]
    },
    {
     "name": "stdout",
     "output_type": "stream",
     "text": [
      "22/12/26 21:31:23 WARN MemoryStore: Not enough space to cache rdd_102_21 in memory! (computed 71.5 MiB so far)\n",
      "22/12/26 21:31:23 WARN MemoryStore: Not enough space to cache rdd_102_22 in memory! (computed 111.0 MiB so far)\n",
      "22/12/26 21:31:23 WARN MemoryStore: Not enough space to cache rdd_102_23 in memory! (computed 1644.5 KiB so far)\n",
      "22/12/26 21:31:23 WARN MemoryStore: Not enough space to cache rdd_102_20 in memory! (computed 254.2 MiB so far)\n"
     ]
    },
    {
     "name": "stderr",
     "output_type": "stream",
     "text": [
      "[Stage 31:=============================>                          (19 + 8) / 36]\r"
     ]
    },
    {
     "name": "stdout",
     "output_type": "stream",
     "text": [
      "22/12/26 21:31:24 WARN MemoryStore: Not enough space to cache rdd_102_25 in memory! (computed 71.5 MiB so far)\n",
      "22/12/26 21:31:24 WARN MemoryStore: Not enough space to cache rdd_102_26 in memory! (computed 1644.5 KiB so far)\n",
      "22/12/26 21:31:24 WARN MemoryStore: Not enough space to cache rdd_102_24 in memory! (computed 111.0 MiB so far)\n"
     ]
    },
    {
     "name": "stderr",
     "output_type": "stream",
     "text": [
      "[Stage 31:===============================>                        (20 + 8) / 36]\r"
     ]
    },
    {
     "name": "stdout",
     "output_type": "stream",
     "text": [
      "22/12/26 21:31:24 WARN MemoryStore: Not enough space to cache rdd_102_28 in memory! (computed 71.5 MiB so far)\n",
      "22/12/26 21:31:24 WARN MemoryStore: Not enough space to cache rdd_102_30 in memory! (computed 31.5 MiB so far)\n",
      "22/12/26 21:31:24 WARN MemoryStore: Not enough space to cache rdd_102_29 in memory! (computed 71.5 MiB so far)\n",
      "22/12/26 21:31:24 WARN MemoryStore: Not enough space to cache rdd_102_27 in memory! (computed 254.2 MiB so far)\n"
     ]
    },
    {
     "name": "stderr",
     "output_type": "stream",
     "text": [
      "[Stage 31:==========================================>             (27 + 8) / 36]\r"
     ]
    },
    {
     "name": "stdout",
     "output_type": "stream",
     "text": [
      "22/12/26 21:31:25 WARN MemoryStore: Not enough space to cache rdd_102_32 in memory! (computed 31.5 MiB so far)\n",
      "22/12/26 21:31:25 WARN MemoryStore: Not enough space to cache rdd_102_33 in memory! (computed 31.5 MiB so far)\n",
      "22/12/26 21:31:25 WARN MemoryStore: Not enough space to cache rdd_102_31 in memory! (computed 111.0 MiB so far)\n",
      "22/12/26 21:31:25 WARN MemoryStore: Not enough space to cache rdd_102_34 in memory! (computed 71.5 MiB so far)\n"
     ]
    },
    {
     "name": "stderr",
     "output_type": "stream",
     "text": [
      "[Stage 31:==============================================>         (30 + 6) / 36]\r"
     ]
    },
    {
     "name": "stdout",
     "output_type": "stream",
     "text": [
      "22/12/26 21:31:25 WARN MemoryStore: Not enough space to cache rdd_102_35 in memory! (computed 381.3 MiB so far)\n"
     ]
    },
    {
     "name": "stderr",
     "output_type": "stream",
     "text": [
      "                                                                                \r"
     ]
    },
    {
     "name": "stdout",
     "output_type": "stream",
     "text": [
      "22/12/26 21:31:26 WARN MemoryStore: Not enough space to cache rdd_102_4 in memory! (computed 47.3 MiB so far)\n",
      "22/12/26 21:31:26 WARN MemoryStore: Not enough space to cache rdd_102_7 in memory! (computed 47.3 MiB so far)\n",
      "22/12/26 21:31:26 WARN MemoryStore: Not enough space to cache rdd_102_1 in memory! (computed 47.3 MiB so far)\n",
      "22/12/26 21:31:26 WARN MemoryStore: Not enough space to cache rdd_102_3 in memory! (computed 31.5 MiB so far)\n",
      "22/12/26 21:31:26 WARN MemoryStore: Not enough space to cache rdd_102_5 in memory! (computed 47.3 MiB so far)\n",
      "22/12/26 21:31:26 WARN MemoryStore: Not enough space to cache rdd_102_6 in memory! (computed 71.5 MiB so far)\n",
      "22/12/26 21:31:26 WARN MemoryStore: Not enough space to cache rdd_102_2 in memory! (computed 71.5 MiB so far)\n",
      "22/12/26 21:31:26 WARN MemoryStore: Not enough space to cache rdd_102_0 in memory! (computed 71.5 MiB so far)\n"
     ]
    },
    {
     "name": "stderr",
     "output_type": "stream",
     "text": [
      "[Stage 33:======>                                                  (4 + 8) / 36]\r"
     ]
    },
    {
     "name": "stdout",
     "output_type": "stream",
     "text": [
      "22/12/26 21:31:28 WARN MemoryStore: Not enough space to cache rdd_102_8 in memory! (computed 111.0 MiB so far)\n",
      "22/12/26 21:31:28 WARN MemoryStore: Not enough space to cache rdd_102_12 in memory! (computed 13.7 MiB so far)\n",
      "22/12/26 21:31:28 WARN MemoryStore: Not enough space to cache rdd_102_10 in memory! (computed 71.5 MiB so far)\n",
      "22/12/26 21:31:28 WARN MemoryStore: Not enough space to cache rdd_102_11 in memory! (computed 71.5 MiB so far)\n",
      "22/12/26 21:31:28 WARN MemoryStore: Not enough space to cache rdd_102_13 in memory! (computed 13.7 MiB so far)\n",
      "22/12/26 21:31:28 WARN MemoryStore: Not enough space to cache rdd_102_15 in memory! (computed 3.8 MiB so far)\n",
      "22/12/26 21:31:28 WARN MemoryStore: Not enough space to cache rdd_102_14 in memory! (computed 1644.5 KiB so far)\n",
      "22/12/26 21:31:28 WARN MemoryStore: Not enough space to cache rdd_102_9 in memory! (computed 169.5 MiB so far)\n"
     ]
    },
    {
     "name": "stderr",
     "output_type": "stream",
     "text": [
      "[Stage 33:=================>                                      (11 + 8) / 36]\r"
     ]
    },
    {
     "name": "stdout",
     "output_type": "stream",
     "text": [
      "22/12/26 21:31:29 WARN MemoryStore: Not enough space to cache rdd_102_17 in memory! (computed 111.0 MiB so far)\n",
      "22/12/26 21:31:29 WARN MemoryStore: Not enough space to cache rdd_102_18 in memory! (computed 71.5 MiB so far)\n",
      "22/12/26 21:31:29 WARN MemoryStore: Not enough space to cache rdd_102_16 in memory! (computed 254.2 MiB so far)\n"
     ]
    },
    {
     "name": "stderr",
     "output_type": "stream",
     "text": [
      "[Stage 33:==================>                                     (12 + 8) / 36]\r"
     ]
    },
    {
     "name": "stdout",
     "output_type": "stream",
     "text": [
      "22/12/26 21:31:29 WARN MemoryStore: Not enough space to cache rdd_102_19 in memory! (computed 1644.5 KiB so far)\n"
     ]
    },
    {
     "name": "stderr",
     "output_type": "stream",
     "text": [
      "[Stage 33:=======================>                                (15 + 8) / 36]\r"
     ]
    },
    {
     "name": "stdout",
     "output_type": "stream",
     "text": [
      "22/12/26 21:31:30 WARN MemoryStore: Not enough space to cache rdd_102_22 in memory! (computed 71.5 MiB so far)\n",
      "22/12/26 21:31:30 WARN MemoryStore: Not enough space to cache rdd_102_21 in memory! (computed 111.0 MiB so far)\n",
      "22/12/26 21:31:30 WARN MemoryStore: Not enough space to cache rdd_102_20 in memory! (computed 254.2 MiB so far)\n"
     ]
    },
    {
     "name": "stderr",
     "output_type": "stream",
     "text": [
      "[Stage 33:==========================>                             (17 + 8) / 36]\r"
     ]
    },
    {
     "name": "stdout",
     "output_type": "stream",
     "text": [
      "22/12/26 21:31:31 WARN MemoryStore: Not enough space to cache rdd_102_23 in memory! (computed 111.0 MiB so far)\n",
      "22/12/26 21:31:31 WARN MemoryStore: Not enough space to cache rdd_102_24 in memory! (computed 71.5 MiB so far)\n",
      "22/12/26 21:31:31 WARN MemoryStore: Not enough space to cache rdd_102_25 in memory! (computed 1644.5 KiB so far)\n",
      "22/12/26 21:31:31 WARN MemoryStore: Failed to reserve initial memory threshold of 1024.0 KiB for computing block rdd_102_26 in memory.\n",
      "22/12/26 21:31:31 WARN MemoryStore: Not enough space to cache rdd_102_26 in memory! (computed 384.0 B so far)\n"
     ]
    },
    {
     "name": "stderr",
     "output_type": "stream",
     "text": [
      "[Stage 33:===============================>                        (20 + 8) / 36]\r"
     ]
    },
    {
     "name": "stdout",
     "output_type": "stream",
     "text": [
      "22/12/26 21:31:31 WARN MemoryStore: Not enough space to cache rdd_102_28 in memory! (computed 111.0 MiB so far)\n",
      "22/12/26 21:31:31 WARN MemoryStore: Not enough space to cache rdd_102_29 in memory! (computed 21.0 MiB so far)\n",
      "22/12/26 21:31:31 WARN MemoryStore: Not enough space to cache rdd_102_30 in memory! (computed 21.0 MiB so far)\n"
     ]
    },
    {
     "name": "stderr",
     "output_type": "stream",
     "text": [
      "[Stage 33:========================================>               (26 + 8) / 36]\r"
     ]
    },
    {
     "name": "stdout",
     "output_type": "stream",
     "text": [
      "22/12/26 21:31:32 WARN MemoryStore: Not enough space to cache rdd_102_31 in memory! (computed 111.0 MiB so far)\n",
      "22/12/26 21:31:32 WARN MemoryStore: Not enough space to cache rdd_102_32 in memory! (computed 21.0 MiB so far)\n",
      "22/12/26 21:31:32 WARN MemoryStore: Not enough space to cache rdd_102_33 in memory! (computed 8.7 MiB so far)\n"
     ]
    },
    {
     "name": "stderr",
     "output_type": "stream",
     "text": [
      "[Stage 33:===========================================>            (28 + 8) / 36]\r"
     ]
    },
    {
     "name": "stdout",
     "output_type": "stream",
     "text": [
      "22/12/26 21:31:32 WARN MemoryStore: Not enough space to cache rdd_102_35 in memory! (computed 21.0 MiB so far)\n",
      "22/12/26 21:31:32 WARN MemoryStore: Not enough space to cache rdd_102_34 in memory! (computed 111.0 MiB so far)\n"
     ]
    },
    {
     "name": "stderr",
     "output_type": "stream",
     "text": [
      "                                                                                \r"
     ]
    },
    {
     "name": "stdout",
     "output_type": "stream",
     "text": [
      "22/12/26 21:31:34 WARN MemoryStore: Not enough space to cache rdd_102_3 in memory! (computed 13.7 MiB so far)\n",
      "22/12/26 21:31:34 WARN MemoryStore: Not enough space to cache rdd_102_0 in memory! (computed 5.8 MiB so far)\n",
      "22/12/26 21:31:34 WARN MemoryStore: Not enough space to cache rdd_102_7 in memory! (computed 21.0 MiB so far)\n",
      "22/12/26 21:31:34 WARN MemoryStore: Not enough space to cache rdd_102_6 in memory! (computed 31.5 MiB so far)\n",
      "22/12/26 21:31:34 WARN MemoryStore: Not enough space to cache rdd_102_2 in memory! (computed 21.0 MiB so far)\n",
      "22/12/26 21:31:34 WARN MemoryStore: Not enough space to cache rdd_102_4 in memory! (computed 21.0 MiB so far)\n",
      "22/12/26 21:31:34 WARN MemoryStore: Not enough space to cache rdd_102_1 in memory! (computed 3.8 MiB so far)\n",
      "22/12/26 21:31:34 WARN MemoryStore: Not enough space to cache rdd_102_5 in memory! (computed 21.0 MiB so far)\n"
     ]
    },
    {
     "name": "stderr",
     "output_type": "stream",
     "text": [
      "[Stage 35:>                                                        (0 + 8) / 36]\r"
     ]
    },
    {
     "name": "stdout",
     "output_type": "stream",
     "text": [
      "22/12/26 21:31:35 WARN MemoryStore: Not enough space to cache rdd_102_12 in memory! (computed 3.8 MiB so far)\n",
      "22/12/26 21:31:35 WARN MemoryStore: Not enough space to cache rdd_102_10 in memory! (computed 21.0 MiB so far)\n",
      "22/12/26 21:31:35 WARN MemoryStore: Not enough space to cache rdd_102_11 in memory! (computed 21.0 MiB so far)\n",
      "22/12/26 21:31:35 WARN MemoryStore: Not enough space to cache rdd_102_9 in memory! (computed 21.0 MiB so far)\n",
      "22/12/26 21:31:35 WARN MemoryStore: Not enough space to cache rdd_102_8 in memory! (computed 71.5 MiB so far)\n",
      "22/12/26 21:31:35 WARN MemoryStore: Not enough space to cache rdd_102_13 in memory! (computed 3.8 MiB so far)\n"
     ]
    },
    {
     "name": "stderr",
     "output_type": "stream",
     "text": [
      "[Stage 35:===========>                                             (7 + 8) / 36]\r"
     ]
    },
    {
     "name": "stdout",
     "output_type": "stream",
     "text": [
      "22/12/26 21:31:35 WARN MemoryStore: Not enough space to cache rdd_102_14 in memory! (computed 47.3 MiB so far)\n",
      "22/12/26 21:31:35 WARN MemoryStore: Not enough space to cache rdd_102_15 in memory! (computed 111.0 MiB so far)\n"
     ]
    },
    {
     "name": "stderr",
     "output_type": "stream",
     "text": [
      "[Stage 35:==============>                                          (9 + 8) / 36]\r"
     ]
    },
    {
     "name": "stdout",
     "output_type": "stream",
     "text": [
      "22/12/26 21:31:36 WARN MemoryStore: Not enough space to cache rdd_102_16 in memory! (computed 111.0 MiB so far)\n",
      "22/12/26 21:31:36 WARN MemoryStore: Not enough space to cache rdd_102_18 in memory! (computed 8.7 MiB so far)\n",
      "22/12/26 21:31:36 WARN MemoryStore: Not enough space to cache rdd_102_17 in memory! (computed 21.0 MiB so far)\n"
     ]
    },
    {
     "name": "stderr",
     "output_type": "stream",
     "text": [
      "[Stage 35:==================>                                     (12 + 8) / 36]\r"
     ]
    },
    {
     "name": "stdout",
     "output_type": "stream",
     "text": [
      "22/12/26 21:31:37 WARN MemoryStore: Not enough space to cache rdd_102_19 in memory! (computed 111.0 MiB so far)\n"
     ]
    },
    {
     "name": "stderr",
     "output_type": "stream",
     "text": [
      "[Stage 35:=======================>                                (15 + 8) / 36]\r"
     ]
    },
    {
     "name": "stdout",
     "output_type": "stream",
     "text": [
      "22/12/26 21:31:37 WARN MemoryStore: Not enough space to cache rdd_102_20 in memory! (computed 111.0 MiB so far)\n",
      "22/12/26 21:31:37 WARN MemoryStore: Not enough space to cache rdd_102_22 in memory! (computed 8.7 MiB so far)\n",
      "22/12/26 21:31:37 WARN MemoryStore: Not enough space to cache rdd_102_21 in memory! (computed 21.0 MiB so far)\n"
     ]
    },
    {
     "name": "stderr",
     "output_type": "stream",
     "text": [
      "[Stage 35:========================>                               (16 + 8) / 36]\r"
     ]
    },
    {
     "name": "stdout",
     "output_type": "stream",
     "text": [
      "22/12/26 21:31:38 WARN MemoryStore: Not enough space to cache rdd_102_23 in memory! (computed 111.0 MiB so far)\n",
      "22/12/26 21:31:38 WARN MemoryStore: Not enough space to cache rdd_102_24 in memory! (computed 21.0 MiB so far)\n",
      "22/12/26 21:31:38 WARN MemoryStore: Not enough space to cache rdd_102_25 in memory! (computed 8.7 MiB so far)\n"
     ]
    },
    {
     "name": "stderr",
     "output_type": "stream",
     "text": [
      "[Stage 35:===============================>                        (20 + 8) / 36]\r"
     ]
    },
    {
     "name": "stdout",
     "output_type": "stream",
     "text": [
      "22/12/26 21:31:38 WARN MemoryStore: Not enough space to cache rdd_102_26 in memory! (computed 111.0 MiB so far)\n"
     ]
    },
    {
     "name": "stderr",
     "output_type": "stream",
     "text": [
      "[Stage 35:==================================>                     (22 + 8) / 36]\r"
     ]
    },
    {
     "name": "stdout",
     "output_type": "stream",
     "text": [
      "22/12/26 21:31:38 WARN MemoryStore: Not enough space to cache rdd_102_28 in memory! (computed 71.5 MiB so far)\n",
      "22/12/26 21:31:38 WARN MemoryStore: Not enough space to cache rdd_102_29 in memory! (computed 47.3 MiB so far)\n"
     ]
    },
    {
     "name": "stderr",
     "output_type": "stream",
     "text": [
      "[Stage 35:===================================>                    (23 + 8) / 36]\r"
     ]
    },
    {
     "name": "stdout",
     "output_type": "stream",
     "text": [
      "22/12/26 21:31:39 WARN MemoryStore: Not enough space to cache rdd_102_30 in memory! (computed 71.5 MiB so far)\n",
      "22/12/26 21:31:39 WARN MemoryStore: Not enough space to cache rdd_102_31 in memory! (computed 47.3 MiB so far)\n",
      "22/12/26 21:31:39 WARN MemoryStore: Not enough space to cache rdd_102_32 in memory! (computed 13.7 MiB so far)\n"
     ]
    },
    {
     "name": "stderr",
     "output_type": "stream",
     "text": [
      "[Stage 35:======================================>                 (25 + 8) / 36]\r"
     ]
    },
    {
     "name": "stdout",
     "output_type": "stream",
     "text": [
      "22/12/26 21:31:39 WARN MemoryStore: Not enough space to cache rdd_102_34 in memory! (computed 13.7 MiB so far)\n",
      "22/12/26 21:31:39 WARN MemoryStore: Not enough space to cache rdd_102_35 in memory! (computed 21.0 MiB so far)\n",
      "22/12/26 21:31:39 WARN MemoryStore: Not enough space to cache rdd_102_33 in memory! (computed 111.0 MiB so far)\n"
     ]
    },
    {
     "name": "stderr",
     "output_type": "stream",
     "text": [
      "                                                                                \r"
     ]
    }
   ],
   "source": [
    "# train the model\n",
    "model = rf.fit(train)"
   ]
  },
  {
   "cell_type": "code",
   "execution_count": 34,
   "metadata": {},
   "outputs": [
    {
     "name": "stderr",
     "output_type": "stream",
     "text": [
      "[Stage 37:=================================================>      (16 + 2) / 18]\r"
     ]
    },
    {
     "name": "stdout",
     "output_type": "stream",
     "text": [
      "Test Error = 0.213845 \n",
      "Accuracy = 0.786155 \n"
     ]
    },
    {
     "name": "stderr",
     "output_type": "stream",
     "text": [
      "                                                                                \r"
     ]
    }
   ],
   "source": [
    "# evaluate the model\n",
    "predictions = model.transform(test)\n",
    "\n",
    "# evaluate the model\n",
    "evaluator = MulticlassClassificationEvaluator(labelCol=\"label\", predictionCol=\"prediction\", metricName=\"accuracy\")\n",
    "accuracy = evaluator.evaluate(predictions)\n",
    "print(\"Test Error = %g \" % (1.0 - accuracy))\n",
    "\n",
    "# print the accuracy\n",
    "print(\"Accuracy = %g \" % accuracy)\n",
    "\n"
   ]
  }
 ],
 "metadata": {
  "kernelspec": {
   "display_name": "Python 3.10.7 64-bit",
   "language": "python",
   "name": "python3"
  },
  "language_info": {
   "codemirror_mode": {
    "name": "ipython",
    "version": 3
   },
   "file_extension": ".py",
   "mimetype": "text/x-python",
   "name": "python",
   "nbconvert_exporter": "python",
   "pygments_lexer": "ipython3",
   "version": "3.10.9"
  },
  "orig_nbformat": 4,
  "vscode": {
   "interpreter": {
    "hash": "b0fa6594d8f4cbf19f97940f81e996739fb7646882a419484c72d19e05852a7e"
   }
  }
 },
 "nbformat": 4,
 "nbformat_minor": 2
}
