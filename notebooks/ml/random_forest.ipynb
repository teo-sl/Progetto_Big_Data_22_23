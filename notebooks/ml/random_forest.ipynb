{
 "cells": [
  {
   "cell_type": "code",
   "execution_count": 1,
   "metadata": {},
   "outputs": [],
   "source": [
    "import plotly.express as px\n",
    "import plotly.graph_objs as go\n",
    "import pandas as pd\n",
    "import numpy as np\n",
    "from pyspark.sql import SparkSession\n",
    "from pyspark.sql.functions import *\n",
    "import plotly.offline as py\n"
   ]
  },
  {
   "cell_type": "code",
   "execution_count": 3,
   "metadata": {},
   "outputs": [],
   "source": [
    "spark = SparkSession.builder.appName(\"flights\").getOrCreate()\n",
    "import json\n",
    "from pyspark.sql.types import StructType, StructField, StringType, IntegerType, DoubleType, DateType, TimestampType\n",
    "with open(\"../../util/schema.json\",\"r\") as f:\n",
    "    schema = StructType.fromJson(json.load(f))"
   ]
  },
  {
   "cell_type": "code",
   "execution_count": 4,
   "metadata": {},
   "outputs": [],
   "source": [
    "df = spark.read.csv(\"../../data.nosync/cleaned/cleaned_flights.csv\",schema=schema, header=True)"
   ]
  },
  {
   "cell_type": "code",
   "execution_count": 5,
   "metadata": {},
   "outputs": [],
   "source": [
    "# create a new column 'label' that is 1 if the flight is delayed and 0 if it is not\n",
    "df = df.withColumn(\"label\", when(df[\"ArrDelay\"] > 0, 1).otherwise(0))"
   ]
  },
  {
   "cell_type": "code",
   "execution_count": 6,
   "metadata": {},
   "outputs": [],
   "source": [
    "features = [\n",
    " 'Quarter',\n",
    " 'Month',\n",
    " 'DayofMonth',\n",
    " 'DayOfWeek',\n",
    " 'Reporting_Airline',\n",
    " 'Origin',\n",
    " 'Dest',\n",
    " #'DepDelay',\n",
    " 'CRSDepTime',\n",
    " 'CRSArrTime',\n",
    " 'CRSElapsedTime',\n",
    " 'AirTime',\n",
    " 'Distance',\n",
    " 'ORIGIN_STATE',\n",
    " 'DEST_STATE',\n",
    " 'label'\n",
    " ]\n",
    "\n",
    "\n",
    "# mantain only the features in features list\n",
    "df = df.select(features)"
   ]
  },
  {
   "cell_type": "code",
   "execution_count": 7,
   "metadata": {},
   "outputs": [
    {
     "name": "stdout",
     "output_type": "stream",
     "text": [
      "+-------+-----+----------+---------+-----------------+------+----+----------+----------+--------------+-------+--------+------------+----------+-----+\n",
      "|Quarter|Month|DayofMonth|DayOfWeek|Reporting_Airline|Origin|Dest|CRSDepTime|CRSArrTime|CRSElapsedTime|AirTime|Distance|ORIGIN_STATE|DEST_STATE|label|\n",
      "+-------+-----+----------+---------+-----------------+------+----+----------+----------+--------------+-------+--------+------------+----------+-----+\n",
      "|      4|   10|         4|        5|               9E|   ATL| OMA|       855|      1025|         150.0|  124.0|   821.0|          GA|        NE|    0|\n",
      "|      4|   10|        26|        6|               9E|   IAH| MSP|       730|      1021|         171.0|  142.0|  1034.0|          TX|        MN|    0|\n",
      "|      4|   10|        12|        6|               9E|   LGA| CLT|      1625|      1839|         134.0|   81.0|   544.0|          NY|        NC|    1|\n",
      "|      4|   10|         4|        5|               9E|   OMA| ATL|      1100|      1409|         129.0|  116.0|   821.0|          NE|        GA|    1|\n",
      "|      4|   10|         1|        2|               9E|   TYS| ATL|      1708|      1814|          66.0|   32.0|   152.0|          TN|        GA|    0|\n",
      "|      4|   10|         2|        3|               9E|   TYS| ATL|      1708|      1814|          66.0|   39.0|   152.0|          TN|        GA|    0|\n",
      "|      4|   10|         3|        4|               9E|   TYS| ATL|      1708|      1814|          66.0|   36.0|   152.0|          TN|        GA|    0|\n",
      "|      4|   10|         6|        7|               9E|   TYS| ATL|      1708|      1814|          66.0|   46.0|   152.0|          TN|        GA|    1|\n",
      "|      4|   10|         7|        1|               9E|   TYS| ATL|      1708|      1814|          66.0|   32.0|   152.0|          TN|        GA|    1|\n",
      "|      4|   10|         8|        2|               9E|   TYS| ATL|      1708|      1814|          66.0|   34.0|   152.0|          TN|        GA|    0|\n",
      "+-------+-----+----------+---------+-----------------+------+----+----------+----------+--------------+-------+--------+------------+----------+-----+\n",
      "only showing top 10 rows\n",
      "\n"
     ]
    }
   ],
   "source": [
    "df.show(10)"
   ]
  },
  {
   "cell_type": "code",
   "execution_count": 8,
   "metadata": {},
   "outputs": [],
   "source": [
    "from pyspark.ml import Pipeline\n",
    "from pyspark.ml.feature import StringIndexer, VectorAssembler\n",
    "from pyspark.ml.regression import RandomForestRegressor\n",
    "from pyspark.ml.classification import RandomForestClassifier\n",
    "from pyspark.ml.evaluation import MulticlassClassificationEvaluator\n",
    "from pyspark.ml.tuning import CrossValidator, ParamGridBuilder\n",
    "from pyspark.ml.feature import VectorIndexer\n",
    "from pyspark.ml.feature import OneHotEncoder"
   ]
  },
  {
   "cell_type": "code",
   "execution_count": 9,
   "metadata": {},
   "outputs": [
    {
     "data": {
      "text/plain": [
       "[('Quarter', 'int'),\n",
       " ('Month', 'int'),\n",
       " ('DayofMonth', 'int'),\n",
       " ('DayOfWeek', 'int'),\n",
       " ('Reporting_Airline', 'string'),\n",
       " ('Origin', 'string'),\n",
       " ('Dest', 'string'),\n",
       " ('CRSDepTime', 'int'),\n",
       " ('CRSArrTime', 'int'),\n",
       " ('CRSElapsedTime', 'double'),\n",
       " ('AirTime', 'double'),\n",
       " ('Distance', 'double'),\n",
       " ('ORIGIN_STATE', 'string'),\n",
       " ('DEST_STATE', 'string'),\n",
       " ('label', 'int')]"
      ]
     },
     "execution_count": 9,
     "metadata": {},
     "output_type": "execute_result"
    }
   ],
   "source": [
    "df.dtypes"
   ]
  },
  {
   "cell_type": "code",
   "execution_count": 10,
   "metadata": {},
   "outputs": [],
   "source": [
    "from pyspark.ml.feature import OneHotEncoder, StringIndexer\n",
    "\n",
    "categoricalCols = [field for (field, dataType) in df.dtypes\n",
    "if dataType == \"string\"]\n",
    "\n",
    "indexOutputCols = [x + \"Index\" for x in categoricalCols]\n",
    "oheOutputCols = [x + \"OHE\" for x in categoricalCols]\n",
    "\n",
    "stringIndexer = StringIndexer(inputCols=categoricalCols,\n",
    "                                outputCols=indexOutputCols,\n",
    "                                handleInvalid=\"skip\")\n",
    "oheEncoder = OneHotEncoder(inputCols=indexOutputCols,\n",
    "                            outputCols=oheOutputCols)\n",
    "\n",
    "numericCols = [field for (field, dataType) in df.dtypes\n",
    "                    if ((dataType == \"double\" or dataType == \"int\" ) & (field != \"label\"))]\n",
    "\n",
    "assemblerInputs = oheOutputCols + numericCols\n",
    "\n",
    "vecAssembler = VectorAssembler(inputCols=assemblerInputs,\n",
    "                        outputCol=\"features\")\n"
   ]
  },
  {
   "cell_type": "code",
   "execution_count": 11,
   "metadata": {},
   "outputs": [
    {
     "name": "stderr",
     "output_type": "stream",
     "text": [
      "                                                                                \r"
     ]
    }
   ],
   "source": [
    "# create the pipeline\n",
    "pipeline = Pipeline(stages=[stringIndexer, oheEncoder, vecAssembler])\n",
    "\n",
    "# fit the pipeline to the data\n",
    "pipelineModel = pipeline.fit(df)\n",
    "\n",
    "# transform the data\n",
    "df_proc = pipelineModel.transform(df)"
   ]
  },
  {
   "cell_type": "code",
   "execution_count": 12,
   "metadata": {},
   "outputs": [],
   "source": [
    "# select the features and label columns\n",
    "df_proc = df_proc.select(\"features\",\"label\")\n"
   ]
  },
  {
   "cell_type": "code",
   "execution_count": 13,
   "metadata": {},
   "outputs": [
    {
     "name": "stdout",
     "output_type": "stream",
     "text": [
      "22/12/27 18:10:46 WARN package: Truncated the string representation of a plan since it was too large. This behavior can be adjusted by setting 'spark.sql.debug.maxToStringFields'.\n",
      "+--------------------+-----+\n",
      "|            features|label|\n",
      "+--------------------+-----+\n",
      "|(761,[8,15,389,64...|    0|\n",
      "|(761,[8,20,340,64...|    0|\n",
      "|(761,[8,33,339,64...|    1|\n",
      "|(761,[8,75,330,67...|    1|\n",
      "|(761,[8,94,330,66...|    0|\n",
      "+--------------------+-----+\n",
      "only showing top 5 rows\n",
      "\n"
     ]
    }
   ],
   "source": [
    "# show the first 5 rows\n",
    "df_proc.show(5)\n"
   ]
  },
  {
   "cell_type": "code",
   "execution_count": 14,
   "metadata": {},
   "outputs": [
    {
     "name": "stderr",
     "output_type": "stream",
     "text": [
      "                                                                                \r"
     ]
    },
    {
     "data": {
      "text/plain": [
       "2501251"
      ]
     },
     "execution_count": 14,
     "metadata": {},
     "output_type": "execute_result"
    }
   ],
   "source": [
    "# count the number of rows with label 1\n",
    "df_proc.filter(df_proc.label == 1).count()"
   ]
  },
  {
   "cell_type": "code",
   "execution_count": 15,
   "metadata": {},
   "outputs": [
    {
     "name": "stderr",
     "output_type": "stream",
     "text": [
      "                                                                                \r"
     ]
    },
    {
     "data": {
      "text/plain": [
       "3745488"
      ]
     },
     "execution_count": 15,
     "metadata": {},
     "output_type": "execute_result"
    }
   ],
   "source": [
    "# count the number of rows with label 0\n",
    "df_proc.filter(df_proc.label == 0).count()"
   ]
  },
  {
   "cell_type": "code",
   "execution_count": 16,
   "metadata": {},
   "outputs": [
    {
     "data": {
      "text/plain": [
       "0.6678037681605175"
      ]
     },
     "execution_count": 16,
     "metadata": {},
     "output_type": "execute_result"
    }
   ],
   "source": [
    "sample_rate = 2501251/3745488\n",
    "sample_rate"
   ]
  },
  {
   "cell_type": "code",
   "execution_count": 17,
   "metadata": {},
   "outputs": [],
   "source": [
    "# split the data into train and test\n",
    "train, test = df_proc.randomSplit([0.8, 0.2], seed=42)\n"
   ]
  },
  {
   "cell_type": "code",
   "execution_count": 18,
   "metadata": {},
   "outputs": [],
   "source": [
    "\n",
    "train_1 = train.filter(train.label == 1)\n",
    "\n",
    "\n",
    "train_0 = train.filter(train.label == 0).sample(False, sample_rate, seed=42)\n",
    "\n",
    "\n",
    "# merge the two datasets\n",
    "train = train_1.union(train_0)"
   ]
  },
  {
   "cell_type": "code",
   "execution_count": 19,
   "metadata": {},
   "outputs": [
    {
     "name": "stderr",
     "output_type": "stream",
     "text": [
      "                                                                                \r"
     ]
    },
    {
     "data": {
      "text/plain": [
       "2001882"
      ]
     },
     "execution_count": 19,
     "metadata": {},
     "output_type": "execute_result"
    }
   ],
   "source": [
    "# count the number of rows with label 1\n",
    "train.filter(train.label == 1).count()"
   ]
  },
  {
   "cell_type": "code",
   "execution_count": 20,
   "metadata": {},
   "outputs": [
    {
     "name": "stderr",
     "output_type": "stream",
     "text": [
      "                                                                                \r"
     ]
    },
    {
     "data": {
      "text/plain": [
       "2002297"
      ]
     },
     "execution_count": 20,
     "metadata": {},
     "output_type": "execute_result"
    }
   ],
   "source": [
    "# count the number of rows with label 0\n",
    "train.filter(train.label == 0).count()"
   ]
  },
  {
   "cell_type": "code",
   "execution_count": 21,
   "metadata": {},
   "outputs": [],
   "source": [
    "# create the model\n",
    "rf = RandomForestClassifier(featuresCol=\"features\", labelCol=\"label\", numTrees=30,maxDepth=10)\n"
   ]
  },
  {
   "cell_type": "code",
   "execution_count": 22,
   "metadata": {},
   "outputs": [
    {
     "name": "stderr",
     "output_type": "stream",
     "text": [
      "[Stage 24:>                                                        (0 + 8) / 36]\r"
     ]
    },
    {
     "name": "stdout",
     "output_type": "stream",
     "text": [
      "22/12/27 18:15:06 WARN MemoryStore: Not enough space to cache rdd_95_6 in memory! (computed 13.9 MiB so far)\n",
      "22/12/27 18:15:06 WARN MemoryStore: Not enough space to cache rdd_95_2 in memory! (computed 21.2 MiB so far)\n",
      "22/12/27 18:15:06 WARN BlockManager: Persisting block rdd_95_6 to disk instead.\n",
      "22/12/27 18:15:06 WARN BlockManager: Persisting block rdd_95_2 to disk instead.\n",
      "22/12/27 18:15:06 WARN MemoryStore: Not enough space to cache rdd_95_5 in memory! (computed 21.2 MiB so far)\n",
      "22/12/27 18:15:06 WARN BlockManager: Persisting block rdd_95_5 to disk instead.\n",
      "22/12/27 18:15:06 WARN MemoryStore: Not enough space to cache rdd_95_3 in memory! (computed 13.9 MiB so far)\n",
      "22/12/27 18:15:06 WARN BlockManager: Persisting block rdd_95_3 to disk instead.\n",
      "22/12/27 18:15:06 WARN MemoryStore: Not enough space to cache rdd_95_4 in memory! (computed 21.2 MiB so far)\n",
      "22/12/27 18:15:06 WARN BlockManager: Persisting block rdd_95_4 to disk instead.\n",
      "22/12/27 18:15:06 WARN MemoryStore: Not enough space to cache rdd_95_7 in memory! (computed 13.9 MiB so far)\n",
      "22/12/27 18:15:06 WARN BlockManager: Persisting block rdd_95_7 to disk instead.\n",
      "22/12/27 18:15:06 WARN MemoryStore: Not enough space to cache rdd_95_1 in memory! (computed 21.2 MiB so far)\n",
      "22/12/27 18:15:06 WARN BlockManager: Persisting block rdd_95_1 to disk instead.\n",
      "22/12/27 18:15:06 WARN MemoryStore: Not enough space to cache rdd_95_0 in memory! (computed 21.2 MiB so far)\n",
      "22/12/27 18:15:06 WARN BlockManager: Persisting block rdd_95_0 to disk instead.\n",
      "22/12/27 18:15:09 WARN MemoryStore: Not enough space to cache rdd_95_0 in memory! (computed 72.4 MiB so far)\n",
      "22/12/27 18:15:09 WARN MemoryStore: Not enough space to cache rdd_95_1 in memory! (computed 47.9 MiB so far)\n",
      "22/12/27 18:15:09 WARN MemoryStore: Not enough space to cache rdd_95_2 in memory! (computed 112.4 MiB so far)\n",
      "22/12/27 18:15:09 WARN MemoryStore: Not enough space to cache rdd_95_5 in memory! (computed 5.8 MiB so far)\n",
      "22/12/27 18:15:09 WARN MemoryStore: Not enough space to cache rdd_95_6 in memory! (computed 21.2 MiB so far)\n",
      "22/12/27 18:15:09 WARN MemoryStore: Not enough space to cache rdd_95_7 in memory! (computed 21.2 MiB so far)\n",
      "22/12/27 18:15:09 WARN MemoryStore: Not enough space to cache rdd_95_4 in memory! (computed 112.4 MiB so far)\n",
      "22/12/27 18:15:09 WARN MemoryStore: Not enough space to cache rdd_95_3 in memory! (computed 47.9 MiB so far)\n"
     ]
    },
    {
     "name": "stderr",
     "output_type": "stream",
     "text": [
      "[Stage 24:============>                                            (8 + 8) / 36]\r"
     ]
    },
    {
     "name": "stdout",
     "output_type": "stream",
     "text": [
      "22/12/27 18:15:18 WARN MemoryStore: Not enough space to cache rdd_95_8 in memory! (computed 72.4 MiB so far)\n",
      "22/12/27 18:15:18 WARN BlockManager: Persisting block rdd_95_8 to disk instead.\n",
      "22/12/27 18:15:18 WARN MemoryStore: Not enough space to cache rdd_95_10 in memory! (computed 13.9 MiB so far)\n",
      "22/12/27 18:15:18 WARN BlockManager: Persisting block rdd_95_10 to disk instead.\n",
      "22/12/27 18:15:18 WARN MemoryStore: Not enough space to cache rdd_95_11 in memory! (computed 8.8 MiB so far)\n",
      "22/12/27 18:15:18 WARN BlockManager: Persisting block rdd_95_11 to disk instead.\n",
      "22/12/27 18:15:18 WARN MemoryStore: Not enough space to cache rdd_95_9 in memory! (computed 72.4 MiB so far)\n",
      "22/12/27 18:15:18 WARN BlockManager: Persisting block rdd_95_9 to disk instead.\n",
      "22/12/27 18:15:21 WARN MemoryStore: Not enough space to cache rdd_95_9 in memory! (computed 171.6 MiB so far)\n",
      "22/12/27 18:15:21 WARN MemoryStore: Not enough space to cache rdd_95_8 in memory! (computed 31.9 MiB so far)\n",
      "22/12/27 18:15:22 WARN MemoryStore: Not enough space to cache rdd_95_10 in memory! (computed 112.4 MiB so far)\n",
      "22/12/27 18:15:22 WARN MemoryStore: Not enough space to cache rdd_95_15 in memory! (computed 47.9 MiB so far)\n",
      "22/12/27 18:15:22 WARN BlockManager: Persisting block rdd_95_15 to disk instead.\n",
      "22/12/27 18:15:23 WARN MemoryStore: Not enough space to cache rdd_95_12 in memory! (computed 8.8 MiB so far)\n",
      "22/12/27 18:15:23 WARN BlockManager: Persisting block rdd_95_12 to disk instead.\n",
      "22/12/27 18:15:23 WARN MemoryStore: Not enough space to cache rdd_95_13 in memory! (computed 13.9 MiB so far)\n",
      "22/12/27 18:15:23 WARN BlockManager: Persisting block rdd_95_13 to disk instead.\n",
      "22/12/27 18:15:23 WARN MemoryStore: Not enough space to cache rdd_95_14 in memory! (computed 72.4 MiB so far)\n",
      "22/12/27 18:15:23 WARN BlockManager: Persisting block rdd_95_14 to disk instead.\n",
      "22/12/27 18:15:23 WARN MemoryStore: Not enough space to cache rdd_95_11 in memory! (computed 257.4 MiB so far)\n"
     ]
    },
    {
     "name": "stderr",
     "output_type": "stream",
     "text": [
      "[Stage 24:==================>                                     (12 + 8) / 36]\r"
     ]
    },
    {
     "name": "stdout",
     "output_type": "stream",
     "text": [
      "22/12/27 18:15:28 WARN MemoryStore: Not enough space to cache rdd_95_14 in memory! (computed 72.4 MiB so far)\n",
      "22/12/27 18:15:28 WARN MemoryStore: Not enough space to cache rdd_95_15 in memory! (computed 171.6 MiB so far)\n",
      "22/12/27 18:15:30 WARN MemoryStore: Not enough space to cache rdd_95_13 in memory! (computed 257.4 MiB so far)\n",
      "22/12/27 18:15:31 WARN MemoryStore: Not enough space to cache rdd_95_12 in memory! (computed 47.9 MiB so far)\n",
      "22/12/27 18:15:32 WARN MemoryStore: Not enough space to cache rdd_95_18 in memory! (computed 31.9 MiB so far)\n",
      "22/12/27 18:15:32 WARN BlockManager: Persisting block rdd_95_18 to disk instead.\n"
     ]
    },
    {
     "name": "stderr",
     "output_type": "stream",
     "text": [
      "[Stage 24:=====================>                                  (14 + 8) / 36]\r"
     ]
    },
    {
     "name": "stdout",
     "output_type": "stream",
     "text": [
      "22/12/27 18:15:34 WARN MemoryStore: Not enough space to cache rdd_95_16 in memory! (computed 112.4 MiB so far)\n",
      "22/12/27 18:15:34 WARN BlockManager: Persisting block rdd_95_16 to disk instead.\n",
      "22/12/27 18:15:34 WARN MemoryStore: Not enough space to cache rdd_95_17 in memory! (computed 112.4 MiB so far)\n",
      "22/12/27 18:15:34 WARN BlockManager: Persisting block rdd_95_17 to disk instead.\n",
      "22/12/27 18:15:34 WARN MemoryStore: Not enough space to cache rdd_95_19 in memory! (computed 112.4 MiB so far)\n",
      "22/12/27 18:15:34 WARN BlockManager: Persisting block rdd_95_19 to disk instead.\n"
     ]
    },
    {
     "name": "stderr",
     "output_type": "stream",
     "text": [
      "[Stage 24:=======================>                                (15 + 8) / 36]\r"
     ]
    },
    {
     "name": "stdout",
     "output_type": "stream",
     "text": [
      "22/12/27 18:15:36 WARN MemoryStore: Not enough space to cache rdd_95_18 in memory! (computed 257.4 MiB so far)\n"
     ]
    },
    {
     "name": "stderr",
     "output_type": "stream",
     "text": [
      "[Stage 24:========================>                               (16 + 8) / 36]\r"
     ]
    },
    {
     "name": "stdout",
     "output_type": "stream",
     "text": [
      "22/12/27 18:15:37 WARN MemoryStore: Not enough space to cache rdd_95_19 in memory! (computed 47.9 MiB so far)\n",
      "22/12/27 18:15:37 WARN MemoryStore: Not enough space to cache rdd_95_17 in memory! (computed 31.9 MiB so far)\n",
      "22/12/27 18:15:37 WARN MemoryStore: Not enough space to cache rdd_95_16 in memory! (computed 13.9 MiB so far)\n"
     ]
    },
    {
     "name": "stderr",
     "output_type": "stream",
     "text": [
      "[Stage 24:==========================>                             (17 + 8) / 36]\r"
     ]
    },
    {
     "name": "stdout",
     "output_type": "stream",
     "text": [
      "22/12/27 18:15:40 WARN MemoryStore: Not enough space to cache rdd_95_20 in memory! (computed 112.4 MiB so far)\n",
      "22/12/27 18:15:40 WARN BlockManager: Persisting block rdd_95_20 to disk instead.\n",
      "22/12/27 18:15:40 WARN MemoryStore: Not enough space to cache rdd_95_21 in memory! (computed 112.4 MiB so far)\n",
      "22/12/27 18:15:40 WARN BlockManager: Persisting block rdd_95_21 to disk instead.\n"
     ]
    },
    {
     "name": "stderr",
     "output_type": "stream",
     "text": [
      "[Stage 24:===============================>                        (20 + 8) / 36]\r"
     ]
    },
    {
     "name": "stdout",
     "output_type": "stream",
     "text": [
      "22/12/27 18:15:42 WARN MemoryStore: Not enough space to cache rdd_95_22 in memory! (computed 171.6 MiB so far)\n",
      "22/12/27 18:15:42 WARN BlockManager: Persisting block rdd_95_22 to disk instead.\n",
      "22/12/27 18:15:43 WARN MemoryStore: Not enough space to cache rdd_95_21 in memory! (computed 171.6 MiB so far)\n",
      "22/12/27 18:15:43 WARN MemoryStore: Not enough space to cache rdd_95_20 in memory! (computed 112.4 MiB so far)\n",
      "22/12/27 18:15:44 WARN MemoryStore: Not enough space to cache rdd_95_23 in memory! (computed 47.9 MiB so far)\n",
      "22/12/27 18:15:44 WARN BlockManager: Persisting block rdd_95_23 to disk instead.\n",
      "22/12/27 18:15:45 WARN MemoryStore: Not enough space to cache rdd_95_22 in memory! (computed 257.4 MiB so far)\n",
      "22/12/27 18:15:46 WARN MemoryStore: Not enough space to cache rdd_95_24 in memory! (computed 47.9 MiB so far)\n",
      "22/12/27 18:15:46 WARN BlockManager: Persisting block rdd_95_24 to disk instead.\n"
     ]
    },
    {
     "name": "stderr",
     "output_type": "stream",
     "text": [
      "[Stage 24:================================>                       (21 + 8) / 36]\r"
     ]
    },
    {
     "name": "stdout",
     "output_type": "stream",
     "text": [
      "22/12/27 18:15:47 WARN MemoryStore: Not enough space to cache rdd_95_23 in memory! (computed 8.8 MiB so far)\n",
      "22/12/27 18:15:47 WARN MemoryStore: Not enough space to cache rdd_95_25 in memory! (computed 21.2 MiB so far)\n",
      "22/12/27 18:15:47 WARN BlockManager: Persisting block rdd_95_25 to disk instead.\n"
     ]
    },
    {
     "name": "stderr",
     "output_type": "stream",
     "text": [
      "[Stage 24:==================================>                     (22 + 8) / 36]\r"
     ]
    },
    {
     "name": "stdout",
     "output_type": "stream",
     "text": [
      "22/12/27 18:15:47 WARN MemoryStore: Not enough space to cache rdd_95_26 in memory! (computed 47.9 MiB so far)\n",
      "22/12/27 18:15:47 WARN BlockManager: Persisting block rdd_95_26 to disk instead.\n",
      "22/12/27 18:15:47 WARN MemoryStore: Not enough space to cache rdd_95_27 in memory! (computed 21.2 MiB so far)\n",
      "22/12/27 18:15:47 WARN BlockManager: Persisting block rdd_95_27 to disk instead.\n"
     ]
    },
    {
     "name": "stderr",
     "output_type": "stream",
     "text": [
      "[Stage 24:===================================>                    (23 + 8) / 36]\r"
     ]
    },
    {
     "name": "stdout",
     "output_type": "stream",
     "text": [
      "22/12/27 18:15:49 WARN MemoryStore: Not enough space to cache rdd_95_24 in memory! (computed 257.4 MiB so far)\n"
     ]
    },
    {
     "name": "stderr",
     "output_type": "stream",
     "text": [
      "[Stage 24:=====================================>                  (24 + 8) / 36]\r"
     ]
    },
    {
     "name": "stdout",
     "output_type": "stream",
     "text": [
      "22/12/27 18:15:50 WARN MemoryStore: Not enough space to cache rdd_95_26 in memory! (computed 31.9 MiB so far)\n",
      "22/12/27 18:15:50 WARN MemoryStore: Not enough space to cache rdd_95_25 in memory! (computed 72.4 MiB so far)\n",
      "22/12/27 18:15:51 WARN MemoryStore: Not enough space to cache rdd_95_27 in memory! (computed 72.4 MiB so far)\n"
     ]
    },
    {
     "name": "stderr",
     "output_type": "stream",
     "text": [
      "[Stage 24:==========================================>             (27 + 8) / 36]\r"
     ]
    },
    {
     "name": "stdout",
     "output_type": "stream",
     "text": [
      "22/12/27 18:15:54 WARN MemoryStore: Not enough space to cache rdd_95_29 in memory! (computed 112.4 MiB so far)\n",
      "22/12/27 18:15:54 WARN BlockManager: Persisting block rdd_95_29 to disk instead.\n",
      "22/12/27 18:15:54 WARN MemoryStore: Not enough space to cache rdd_95_28 in memory! (computed 171.6 MiB so far)\n",
      "22/12/27 18:15:54 WARN BlockManager: Persisting block rdd_95_28 to disk instead.\n"
     ]
    },
    {
     "name": "stderr",
     "output_type": "stream",
     "text": [
      "[Stage 24:===========================================>            (28 + 8) / 36]\r"
     ]
    },
    {
     "name": "stdout",
     "output_type": "stream",
     "text": [
      "22/12/27 18:15:56 WARN MemoryStore: Not enough space to cache rdd_95_29 in memory! (computed 72.4 MiB so far)\n",
      "22/12/27 18:15:56 WARN MemoryStore: Not enough space to cache rdd_95_28 in memory! (computed 112.4 MiB so far)\n"
     ]
    },
    {
     "name": "stderr",
     "output_type": "stream",
     "text": [
      "[Stage 24:==============================================>         (30 + 6) / 36]\r"
     ]
    },
    {
     "name": "stdout",
     "output_type": "stream",
     "text": [
      "22/12/27 18:16:00 WARN MemoryStore: Not enough space to cache rdd_95_30 in memory! (computed 112.4 MiB so far)\n",
      "22/12/27 18:16:00 WARN BlockManager: Persisting block rdd_95_30 to disk instead.\n",
      "22/12/27 18:16:00 WARN MemoryStore: Not enough space to cache rdd_95_31 in memory! (computed 13.9 MiB so far)\n",
      "22/12/27 18:16:00 WARN BlockManager: Persisting block rdd_95_31 to disk instead.\n",
      "22/12/27 18:16:02 WARN MemoryStore: Not enough space to cache rdd_95_32 in memory! (computed 47.9 MiB so far)\n",
      "22/12/27 18:16:02 WARN BlockManager: Persisting block rdd_95_32 to disk instead.\n",
      "22/12/27 18:16:02 WARN MemoryStore: Not enough space to cache rdd_95_33 in memory! (computed 31.9 MiB so far)\n",
      "22/12/27 18:16:02 WARN BlockManager: Persisting block rdd_95_33 to disk instead.\n",
      "22/12/27 18:16:02 WARN MemoryStore: Not enough space to cache rdd_95_34 in memory! (computed 72.4 MiB so far)\n",
      "22/12/27 18:16:02 WARN BlockManager: Persisting block rdd_95_34 to disk instead.\n",
      "22/12/27 18:16:03 WARN MemoryStore: Not enough space to cache rdd_95_35 in memory! (computed 257.4 MiB so far)\n",
      "22/12/27 18:16:03 WARN BlockManager: Persisting block rdd_95_35 to disk instead.\n",
      "22/12/27 18:16:04 WARN MemoryStore: Not enough space to cache rdd_95_30 in memory! (computed 257.4 MiB so far)\n",
      "22/12/27 18:16:05 WARN MemoryStore: Not enough space to cache rdd_95_31 in memory! (computed 72.4 MiB so far)\n",
      "22/12/27 18:16:05 WARN MemoryStore: Not enough space to cache rdd_95_35 in memory! (computed 31.9 MiB so far)\n",
      "22/12/27 18:16:05 WARN MemoryStore: Not enough space to cache rdd_95_34 in memory! (computed 47.9 MiB so far)\n",
      "22/12/27 18:16:06 WARN MemoryStore: Not enough space to cache rdd_95_33 in memory! (computed 112.4 MiB so far)\n",
      "22/12/27 18:16:07 WARN MemoryStore: Not enough space to cache rdd_95_32 in memory! (computed 386.0 MiB so far)\n"
     ]
    },
    {
     "name": "stderr",
     "output_type": "stream",
     "text": [
      "                                                                                \r"
     ]
    },
    {
     "name": "stdout",
     "output_type": "stream",
     "text": [
      "22/12/27 18:16:10 WARN MemoryStore: Not enough space to cache rdd_95_2 in memory! (computed 47.9 MiB so far)\n",
      "22/12/27 18:16:10 WARN MemoryStore: Not enough space to cache rdd_95_6 in memory! (computed 47.9 MiB so far)\n",
      "22/12/27 18:16:10 WARN MemoryStore: Not enough space to cache rdd_95_3 in memory! (computed 47.9 MiB so far)\n",
      "22/12/27 18:16:10 WARN MemoryStore: Not enough space to cache rdd_95_4 in memory! (computed 47.9 MiB so far)\n",
      "22/12/27 18:16:10 WARN MemoryStore: Not enough space to cache rdd_95_7 in memory! (computed 47.9 MiB so far)\n",
      "22/12/27 18:16:10 WARN MemoryStore: Not enough space to cache rdd_95_0 in memory! (computed 47.9 MiB so far)\n",
      "22/12/27 18:16:10 WARN MemoryStore: Not enough space to cache rdd_95_1 in memory! (computed 72.4 MiB so far)\n",
      "22/12/27 18:16:10 WARN MemoryStore: Not enough space to cache rdd_95_5 in memory! (computed 72.4 MiB so far)\n"
     ]
    },
    {
     "name": "stderr",
     "output_type": "stream",
     "text": [
      "[Stage 26:=======>                                                 (5 + 8) / 36]\r"
     ]
    },
    {
     "name": "stdout",
     "output_type": "stream",
     "text": [
      "22/12/27 18:16:13 WARN MemoryStore: Not enough space to cache rdd_95_10 in memory! (computed 47.9 MiB so far)\n",
      "22/12/27 18:16:13 WARN MemoryStore: Not enough space to cache rdd_95_12 in memory! (computed 1067.6 KiB so far)\n",
      "22/12/27 18:16:13 WARN MemoryStore: Not enough space to cache rdd_95_11 in memory! (computed 47.9 MiB so far)\n",
      "22/12/27 18:16:13 WARN MemoryStore: Not enough space to cache rdd_95_9 in memory! (computed 171.6 MiB so far)\n",
      "22/12/27 18:16:13 WARN MemoryStore: Not enough space to cache rdd_95_8 in memory! (computed 171.6 MiB so far)\n",
      "22/12/27 18:16:13 WARN MemoryStore: Failed to reserve initial memory threshold of 1024.0 KiB for computing block rdd_95_14 in memory.\n",
      "22/12/27 18:16:13 WARN MemoryStore: Not enough space to cache rdd_95_14 in memory! (computed 384.0 B so far)\n",
      "22/12/27 18:16:13 WARN MemoryStore: Not enough space to cache rdd_95_13 in memory! (computed 1067.6 KiB so far)\n",
      "22/12/27 18:16:13 WARN MemoryStore: Not enough space to cache rdd_95_15 in memory! (computed 1067.6 KiB so far)\n"
     ]
    },
    {
     "name": "stderr",
     "output_type": "stream",
     "text": [
      "[Stage 26:===============>                                        (10 + 8) / 36]\r"
     ]
    },
    {
     "name": "stdout",
     "output_type": "stream",
     "text": [
      "22/12/27 18:16:17 WARN MemoryStore: Not enough space to cache rdd_95_17 in memory! (computed 47.9 MiB so far)\n",
      "22/12/27 18:16:17 WARN MemoryStore: Failed to reserve initial memory threshold of 1024.0 KiB for computing block rdd_95_18 in memory.\n",
      "22/12/27 18:16:17 WARN MemoryStore: Not enough space to cache rdd_95_18 in memory! (computed 384.0 B so far)\n"
     ]
    },
    {
     "name": "stderr",
     "output_type": "stream",
     "text": [
      "[Stage 26:==================>                                     (12 + 8) / 36]\r"
     ]
    },
    {
     "name": "stdout",
     "output_type": "stream",
     "text": [
      "22/12/27 18:16:19 WARN MemoryStore: Not enough space to cache rdd_95_19 in memory! (computed 72.4 MiB so far)\n"
     ]
    },
    {
     "name": "stderr",
     "output_type": "stream",
     "text": [
      "[Stage 26:====================>                                   (13 + 8) / 36]\r"
     ]
    },
    {
     "name": "stdout",
     "output_type": "stream",
     "text": [
      "22/12/27 18:16:20 WARN MemoryStore: Not enough space to cache rdd_95_20 in memory! (computed 72.4 MiB so far)\n",
      "22/12/27 18:16:21 WARN MemoryStore: Not enough space to cache rdd_95_21 in memory! (computed 1067.6 KiB so far)\n",
      "22/12/27 18:16:21 WARN MemoryStore: Not enough space to cache rdd_95_22 in memory! (computed 1067.6 KiB so far)\n"
     ]
    },
    {
     "name": "stderr",
     "output_type": "stream",
     "text": [
      "[Stage 26:==========================>                             (17 + 8) / 36]\r"
     ]
    },
    {
     "name": "stdout",
     "output_type": "stream",
     "text": [
      "22/12/27 18:16:22 WARN MemoryStore: Not enough space to cache rdd_95_23 in memory! (computed 72.4 MiB so far)\n",
      "22/12/27 18:16:22 WARN MemoryStore: Not enough space to cache rdd_95_24 in memory! (computed 1067.6 KiB so far)\n",
      "22/12/27 18:16:22 WARN MemoryStore: Not enough space to cache rdd_95_25 in memory! (computed 1067.6 KiB so far)\n",
      "22/12/27 18:16:23 WARN MemoryStore: Not enough space to cache rdd_95_26 in memory! (computed 1067.6 KiB so far)\n"
     ]
    },
    {
     "name": "stderr",
     "output_type": "stream",
     "text": [
      "[Stage 26:===============================>                        (20 + 8) / 36]\r"
     ]
    },
    {
     "name": "stdout",
     "output_type": "stream",
     "text": [
      "22/12/27 18:16:24 WARN MemoryStore: Not enough space to cache rdd_95_27 in memory! (computed 72.4 MiB so far)\n"
     ]
    },
    {
     "name": "stderr",
     "output_type": "stream",
     "text": [
      "[Stage 26:================================>                       (21 + 8) / 36]\r"
     ]
    },
    {
     "name": "stdout",
     "output_type": "stream",
     "text": [
      "22/12/27 18:16:26 WARN MemoryStore: Not enough space to cache rdd_95_28 in memory! (computed 72.4 MiB so far)\n",
      "22/12/27 18:16:26 WARN MemoryStore: Not enough space to cache rdd_95_29 in memory! (computed 1067.6 KiB so far)\n"
     ]
    },
    {
     "name": "stderr",
     "output_type": "stream",
     "text": [
      "[Stage 26:==================================>                     (22 + 8) / 36]\r"
     ]
    },
    {
     "name": "stdout",
     "output_type": "stream",
     "text": [
      "22/12/27 18:16:26 WARN MemoryStore: Not enough space to cache rdd_95_30 in memory! (computed 1067.6 KiB so far)\n"
     ]
    },
    {
     "name": "stderr",
     "output_type": "stream",
     "text": [
      "[Stage 26:=====================================>                  (24 + 8) / 36]\r"
     ]
    },
    {
     "name": "stdout",
     "output_type": "stream",
     "text": [
      "22/12/27 18:16:27 WARN MemoryStore: Not enough space to cache rdd_95_31 in memory! (computed 72.4 MiB so far)\n",
      "22/12/27 18:16:27 WARN MemoryStore: Not enough space to cache rdd_95_32 in memory! (computed 1067.6 KiB so far)\n",
      "22/12/27 18:16:27 WARN MemoryStore: Failed to reserve initial memory threshold of 1024.0 KiB for computing block rdd_95_33 in memory.\n",
      "22/12/27 18:16:27 WARN MemoryStore: Not enough space to cache rdd_95_33 in memory! (computed 384.0 B so far)\n"
     ]
    },
    {
     "name": "stderr",
     "output_type": "stream",
     "text": [
      "[Stage 26:========================================>               (26 + 8) / 36]\r"
     ]
    },
    {
     "name": "stdout",
     "output_type": "stream",
     "text": [
      "22/12/27 18:16:28 WARN MemoryStore: Not enough space to cache rdd_95_34 in memory! (computed 1067.6 KiB so far)\n"
     ]
    },
    {
     "name": "stderr",
     "output_type": "stream",
     "text": [
      "[Stage 26:===========================================>            (28 + 8) / 36]\r"
     ]
    },
    {
     "name": "stdout",
     "output_type": "stream",
     "text": [
      "22/12/27 18:16:29 WARN MemoryStore: Not enough space to cache rdd_95_35 in memory! (computed 72.4 MiB so far)\n"
     ]
    },
    {
     "name": "stderr",
     "output_type": "stream",
     "text": [
      "                                                                                \r"
     ]
    },
    {
     "name": "stdout",
     "output_type": "stream",
     "text": [
      "22/12/27 18:16:33 WARN MemoryStore: Not enough space to cache rdd_95_3 in memory! (computed 8.8 MiB so far)\n",
      "22/12/27 18:16:33 WARN MemoryStore: Not enough space to cache rdd_95_5 in memory! (computed 8.8 MiB so far)\n",
      "22/12/27 18:16:33 WARN MemoryStore: Not enough space to cache rdd_95_4 in memory! (computed 8.8 MiB so far)\n",
      "22/12/27 18:16:33 WARN MemoryStore: Not enough space to cache rdd_95_7 in memory! (computed 8.8 MiB so far)\n",
      "22/12/27 18:16:33 WARN MemoryStore: Not enough space to cache rdd_95_2 in memory! (computed 8.8 MiB so far)\n",
      "22/12/27 18:16:33 WARN MemoryStore: Not enough space to cache rdd_95_6 in memory! (computed 8.8 MiB so far)\n",
      "22/12/27 18:16:33 WARN MemoryStore: Not enough space to cache rdd_95_0 in memory! (computed 8.8 MiB so far)\n",
      "22/12/27 18:16:33 WARN MemoryStore: Not enough space to cache rdd_95_1 in memory! (computed 8.8 MiB so far)\n"
     ]
    },
    {
     "name": "stderr",
     "output_type": "stream",
     "text": [
      "[Stage 28:=>                                                       (1 + 8) / 36]\r"
     ]
    },
    {
     "name": "stdout",
     "output_type": "stream",
     "text": [
      "22/12/27 18:16:37 WARN MemoryStore: Not enough space to cache rdd_95_8 in memory! (computed 31.9 MiB so far)\n",
      "22/12/27 18:16:37 WARN MemoryStore: Not enough space to cache rdd_95_9 in memory! (computed 31.9 MiB so far)\n",
      "22/12/27 18:16:37 WARN MemoryStore: Not enough space to cache rdd_95_10 in memory! (computed 8.8 MiB so far)\n"
     ]
    },
    {
     "name": "stderr",
     "output_type": "stream",
     "text": [
      "[Stage 28:===>                                                     (2 + 8) / 36]\r"
     ]
    },
    {
     "name": "stdout",
     "output_type": "stream",
     "text": [
      "22/12/27 18:16:37 WARN MemoryStore: Failed to reserve initial memory threshold of 1024.0 KiB for computing block rdd_95_11 in memory.\n",
      "22/12/27 18:16:37 WARN MemoryStore: Not enough space to cache rdd_95_11 in memory! (computed 384.0 B so far)\n"
     ]
    },
    {
     "name": "stderr",
     "output_type": "stream",
     "text": [
      "[Stage 28:=======>                                                 (5 + 8) / 36]\r"
     ]
    },
    {
     "name": "stdout",
     "output_type": "stream",
     "text": [
      "22/12/27 18:16:37 WARN MemoryStore: Not enough space to cache rdd_95_12 in memory! (computed 72.4 MiB so far)\n",
      "22/12/27 18:16:37 WARN MemoryStore: Failed to reserve initial memory threshold of 1024.0 KiB for computing block rdd_95_13 in memory.\n",
      "22/12/27 18:16:37 WARN MemoryStore: Not enough space to cache rdd_95_13 in memory! (computed 384.0 B so far)\n",
      "22/12/27 18:16:37 WARN MemoryStore: Failed to reserve initial memory threshold of 1024.0 KiB for computing block rdd_95_15 in memory.\n",
      "22/12/27 18:16:37 WARN MemoryStore: Not enough space to cache rdd_95_15 in memory! (computed 384.0 B so far)\n",
      "22/12/27 18:16:37 WARN MemoryStore: Not enough space to cache rdd_95_14 in memory! (computed 1067.6 KiB so far)\n"
     ]
    },
    {
     "name": "stderr",
     "output_type": "stream",
     "text": [
      "[Stage 28:=================>                                      (11 + 8) / 36]\r"
     ]
    },
    {
     "name": "stdout",
     "output_type": "stream",
     "text": [
      "22/12/27 18:16:41 WARN MemoryStore: Not enough space to cache rdd_95_18 in memory! (computed 1067.6 KiB so far)\n",
      "22/12/27 18:16:41 WARN MemoryStore: Not enough space to cache rdd_95_17 in memory! (computed 72.4 MiB so far)\n"
     ]
    },
    {
     "name": "stderr",
     "output_type": "stream",
     "text": [
      "[Stage 28:==================>                                     (12 + 8) / 36]\r"
     ]
    },
    {
     "name": "stdout",
     "output_type": "stream",
     "text": [
      "22/12/27 18:16:42 WARN MemoryStore: Not enough space to cache rdd_95_19 in memory! (computed 72.4 MiB so far)\n"
     ]
    },
    {
     "name": "stderr",
     "output_type": "stream",
     "text": [
      "[Stage 28:====================>                                   (13 + 8) / 36]\r"
     ]
    },
    {
     "name": "stdout",
     "output_type": "stream",
     "text": [
      "22/12/27 18:16:44 WARN MemoryStore: Not enough space to cache rdd_95_20 in memory! (computed 72.4 MiB so far)\n"
     ]
    },
    {
     "name": "stderr",
     "output_type": "stream",
     "text": [
      "[Stage 28:=====================>                                  (14 + 8) / 36]\r"
     ]
    },
    {
     "name": "stdout",
     "output_type": "stream",
     "text": [
      "22/12/27 18:16:44 WARN MemoryStore: Not enough space to cache rdd_95_21 in memory! (computed 1067.6 KiB so far)\n",
      "22/12/27 18:16:44 WARN MemoryStore: Not enough space to cache rdd_95_22 in memory! (computed 1067.6 KiB so far)\n"
     ]
    },
    {
     "name": "stderr",
     "output_type": "stream",
     "text": [
      "[Stage 28:========================>                               (16 + 8) / 36]\r"
     ]
    },
    {
     "name": "stdout",
     "output_type": "stream",
     "text": [
      "22/12/27 18:16:44 WARN MemoryStore: Not enough space to cache rdd_95_23 in memory! (computed 1067.6 KiB so far)\n"
     ]
    },
    {
     "name": "stderr",
     "output_type": "stream",
     "text": [
      "[Stage 28:==========================>                             (17 + 8) / 36]\r"
     ]
    },
    {
     "name": "stdout",
     "output_type": "stream",
     "text": [
      "22/12/27 18:16:45 WARN MemoryStore: Not enough space to cache rdd_95_24 in memory! (computed 72.4 MiB so far)\n",
      "22/12/27 18:16:46 WARN MemoryStore: Not enough space to cache rdd_95_25 in memory! (computed 1067.6 KiB so far)\n",
      "22/12/27 18:16:46 WARN MemoryStore: Not enough space to cache rdd_95_26 in memory! (computed 1067.6 KiB so far)\n"
     ]
    },
    {
     "name": "stderr",
     "output_type": "stream",
     "text": [
      "[Stage 28:===============================>                        (20 + 8) / 36]\r"
     ]
    },
    {
     "name": "stdout",
     "output_type": "stream",
     "text": [
      "22/12/27 18:16:47 WARN MemoryStore: Not enough space to cache rdd_95_27 in memory! (computed 72.4 MiB so far)\n"
     ]
    },
    {
     "name": "stderr",
     "output_type": "stream",
     "text": [
      "[Stage 28:===================================>                    (23 + 8) / 36]\r"
     ]
    },
    {
     "name": "stdout",
     "output_type": "stream",
     "text": [
      "22/12/27 18:16:48 WARN MemoryStore: Not enough space to cache rdd_95_28 in memory! (computed 31.9 MiB so far)\n",
      "22/12/27 18:16:48 WARN MemoryStore: Not enough space to cache rdd_95_29 in memory! (computed 31.9 MiB so far)\n",
      "22/12/27 18:16:48 WARN MemoryStore: Not enough space to cache rdd_95_30 in memory! (computed 8.8 MiB so far)\n"
     ]
    },
    {
     "name": "stderr",
     "output_type": "stream",
     "text": [
      "[Stage 28:=====================================>                  (24 + 8) / 36]\r"
     ]
    },
    {
     "name": "stdout",
     "output_type": "stream",
     "text": [
      "22/12/27 18:16:48 WARN MemoryStore: Not enough space to cache rdd_95_31 in memory! (computed 8.8 MiB so far)\n"
     ]
    },
    {
     "name": "stderr",
     "output_type": "stream",
     "text": [
      "[Stage 28:======================================>                 (25 + 8) / 36]\r"
     ]
    },
    {
     "name": "stdout",
     "output_type": "stream",
     "text": [
      "22/12/27 18:16:49 WARN MemoryStore: Not enough space to cache rdd_95_32 in memory! (computed 72.4 MiB so far)\n",
      "22/12/27 18:16:49 WARN MemoryStore: Not enough space to cache rdd_95_33 in memory! (computed 1067.6 KiB so far)\n"
     ]
    },
    {
     "name": "stderr",
     "output_type": "stream",
     "text": [
      "[Stage 28:========================================>               (26 + 8) / 36]\r"
     ]
    },
    {
     "name": "stdout",
     "output_type": "stream",
     "text": [
      "22/12/27 18:16:50 WARN MemoryStore: Not enough space to cache rdd_95_34 in memory! (computed 1067.6 KiB so far)\n"
     ]
    },
    {
     "name": "stderr",
     "output_type": "stream",
     "text": [
      "[Stage 28:===========================================>            (28 + 8) / 36]\r"
     ]
    },
    {
     "name": "stdout",
     "output_type": "stream",
     "text": [
      "22/12/27 18:16:51 WARN MemoryStore: Not enough space to cache rdd_95_35 in memory! (computed 72.4 MiB so far)\n"
     ]
    },
    {
     "name": "stderr",
     "output_type": "stream",
     "text": [
      "                                                                                \r"
     ]
    },
    {
     "name": "stdout",
     "output_type": "stream",
     "text": [
      "22/12/27 18:16:55 WARN MemoryStore: Not enough space to cache rdd_95_0 in memory! (computed 8.8 MiB so far)\n",
      "22/12/27 18:16:55 WARN MemoryStore: Not enough space to cache rdd_95_3 in memory! (computed 8.8 MiB so far)\n",
      "22/12/27 18:16:55 WARN MemoryStore: Not enough space to cache rdd_95_6 in memory! (computed 8.8 MiB so far)\n",
      "22/12/27 18:16:55 WARN MemoryStore: Not enough space to cache rdd_95_7 in memory! (computed 8.8 MiB so far)\n",
      "22/12/27 18:16:55 WARN MemoryStore: Not enough space to cache rdd_95_5 in memory! (computed 8.8 MiB so far)\n",
      "22/12/27 18:16:55 WARN MemoryStore: Not enough space to cache rdd_95_1 in memory! (computed 13.9 MiB so far)\n",
      "22/12/27 18:16:55 WARN MemoryStore: Not enough space to cache rdd_95_4 in memory! (computed 5.8 MiB so far)\n",
      "22/12/27 18:16:55 WARN MemoryStore: Not enough space to cache rdd_95_2 in memory! (computed 8.8 MiB so far)\n"
     ]
    },
    {
     "name": "stderr",
     "output_type": "stream",
     "text": [
      "[Stage 30:=>                                                       (1 + 8) / 36]\r"
     ]
    },
    {
     "name": "stdout",
     "output_type": "stream",
     "text": [
      "22/12/27 18:16:58 WARN MemoryStore: Not enough space to cache rdd_95_8 in memory! (computed 47.9 MiB so far)\n",
      "22/12/27 18:16:58 WARN MemoryStore: Not enough space to cache rdd_95_9 in memory! (computed 21.2 MiB so far)\n",
      "22/12/27 18:16:58 WARN MemoryStore: Not enough space to cache rdd_95_10 in memory! (computed 3.8 MiB so far)\n",
      "22/12/27 18:16:58 WARN MemoryStore: Failed to reserve initial memory threshold of 1024.0 KiB for computing block rdd_95_11 in memory.\n",
      "22/12/27 18:16:58 WARN MemoryStore: Not enough space to cache rdd_95_11 in memory! (computed 384.0 B so far)\n"
     ]
    },
    {
     "name": "stderr",
     "output_type": "stream",
     "text": [
      "[Stage 30:======>                                                  (4 + 8) / 36]\r"
     ]
    },
    {
     "name": "stdout",
     "output_type": "stream",
     "text": [
      "22/12/27 18:16:58 WARN MemoryStore: Not enough space to cache rdd_95_12 in memory! (computed 21.2 MiB so far)\n",
      "22/12/27 18:16:58 WARN MemoryStore: Not enough space to cache rdd_95_13 in memory! (computed 21.2 MiB so far)\n"
     ]
    },
    {
     "name": "stderr",
     "output_type": "stream",
     "text": [
      "[Stage 30:=======>                                                 (5 + 8) / 36]\r"
     ]
    },
    {
     "name": "stdout",
     "output_type": "stream",
     "text": [
      "22/12/27 18:16:58 WARN MemoryStore: Not enough space to cache rdd_95_14 in memory! (computed 21.2 MiB so far)\n",
      "22/12/27 18:16:58 WARN MemoryStore: Not enough space to cache rdd_95_15 in memory! (computed 21.2 MiB so far)\n"
     ]
    },
    {
     "name": "stderr",
     "output_type": "stream",
     "text": [
      "[Stage 30:===============>                                        (10 + 8) / 36]\r"
     ]
    },
    {
     "name": "stdout",
     "output_type": "stream",
     "text": [
      "22/12/27 18:17:02 WARN MemoryStore: Not enough space to cache rdd_95_17 in memory! (computed 72.4 MiB so far)\n",
      "22/12/27 18:17:02 WARN MemoryStore: Not enough space to cache rdd_95_18 in memory! (computed 1067.6 KiB so far)\n"
     ]
    },
    {
     "name": "stderr",
     "output_type": "stream",
     "text": [
      "[Stage 30:=================>                                      (11 + 8) / 36]\r"
     ]
    },
    {
     "name": "stdout",
     "output_type": "stream",
     "text": [
      "22/12/27 18:17:03 WARN MemoryStore: Not enough space to cache rdd_95_19 in memory! (computed 1067.6 KiB so far)\n"
     ]
    },
    {
     "name": "stderr",
     "output_type": "stream",
     "text": [
      "[Stage 30:====================>                                   (13 + 8) / 36]\r"
     ]
    },
    {
     "name": "stdout",
     "output_type": "stream",
     "text": [
      "22/12/27 18:17:04 WARN MemoryStore: Not enough space to cache rdd_95_20 in memory! (computed 72.4 MiB so far)\n",
      "22/12/27 18:17:05 WARN MemoryStore: Not enough space to cache rdd_95_21 in memory! (computed 1067.6 KiB so far)\n"
     ]
    },
    {
     "name": "stderr",
     "output_type": "stream",
     "text": [
      "[Stage 30:=====================>                                  (14 + 8) / 36]\r"
     ]
    },
    {
     "name": "stdout",
     "output_type": "stream",
     "text": [
      "22/12/27 18:17:05 WARN MemoryStore: Not enough space to cache rdd_95_22 in memory! (computed 1067.6 KiB so far)\n"
     ]
    },
    {
     "name": "stderr",
     "output_type": "stream",
     "text": [
      "[Stage 30:========================>                               (16 + 8) / 36]\r"
     ]
    },
    {
     "name": "stdout",
     "output_type": "stream",
     "text": [
      "22/12/27 18:17:06 WARN MemoryStore: Not enough space to cache rdd_95_23 in memory! (computed 72.4 MiB so far)\n",
      "22/12/27 18:17:07 WARN MemoryStore: Not enough space to cache rdd_95_24 in memory! (computed 1067.6 KiB so far)\n"
     ]
    },
    {
     "name": "stderr",
     "output_type": "stream",
     "text": [
      "[Stage 30:==========================>                             (17 + 8) / 36]\r"
     ]
    },
    {
     "name": "stdout",
     "output_type": "stream",
     "text": [
      "22/12/27 18:17:07 WARN MemoryStore: Not enough space to cache rdd_95_26 in memory! (computed 21.2 MiB so far)\n",
      "22/12/27 18:17:08 WARN MemoryStore: Not enough space to cache rdd_95_25 in memory! (computed 47.9 MiB so far)\n"
     ]
    },
    {
     "name": "stderr",
     "output_type": "stream",
     "text": [
      "[Stage 30:===============================>                        (20 + 8) / 36]\r"
     ]
    },
    {
     "name": "stdout",
     "output_type": "stream",
     "text": [
      "22/12/27 18:17:08 WARN MemoryStore: Not enough space to cache rdd_95_27 in memory! (computed 21.2 MiB so far)\n"
     ]
    },
    {
     "name": "stderr",
     "output_type": "stream",
     "text": [
      "[Stage 30:==================================>                     (22 + 8) / 36]\r"
     ]
    },
    {
     "name": "stdout",
     "output_type": "stream",
     "text": [
      "22/12/27 18:17:10 WARN MemoryStore: Not enough space to cache rdd_95_29 in memory! (computed 21.2 MiB so far)\n",
      "22/12/27 18:17:10 WARN MemoryStore: Not enough space to cache rdd_95_28 in memory! (computed 47.9 MiB so far)\n"
     ]
    },
    {
     "name": "stderr",
     "output_type": "stream",
     "text": [
      "[Stage 30:=====================================>                  (24 + 8) / 36]\r"
     ]
    },
    {
     "name": "stdout",
     "output_type": "stream",
     "text": [
      "22/12/27 18:17:10 WARN MemoryStore: Not enough space to cache rdd_95_31 in memory! (computed 3.8 MiB so far)\n",
      "22/12/27 18:17:10 WARN MemoryStore: Not enough space to cache rdd_95_30 in memory! (computed 21.2 MiB so far)\n"
     ]
    },
    {
     "name": "stderr",
     "output_type": "stream",
     "text": [
      "[Stage 30:========================================>               (26 + 8) / 36]\r"
     ]
    },
    {
     "name": "stdout",
     "output_type": "stream",
     "text": [
      "22/12/27 18:17:11 WARN MemoryStore: Not enough space to cache rdd_95_32 in memory! (computed 72.4 MiB so far)\n",
      "22/12/27 18:17:11 WARN MemoryStore: Not enough space to cache rdd_95_33 in memory! (computed 1067.6 KiB so far)\n",
      "22/12/27 18:17:11 WARN MemoryStore: Not enough space to cache rdd_95_34 in memory! (computed 1067.6 KiB so far)\n"
     ]
    },
    {
     "name": "stderr",
     "output_type": "stream",
     "text": [
      "[Stage 30:===========================================>            (28 + 8) / 36]\r"
     ]
    },
    {
     "name": "stdout",
     "output_type": "stream",
     "text": [
      "22/12/27 18:17:12 WARN MemoryStore: Not enough space to cache rdd_95_35 in memory! (computed 72.4 MiB so far)\n"
     ]
    },
    {
     "name": "stderr",
     "output_type": "stream",
     "text": [
      "                                                                                \r"
     ]
    },
    {
     "name": "stdout",
     "output_type": "stream",
     "text": [
      "22/12/27 18:17:17 WARN MemoryStore: Not enough space to cache rdd_95_4 in memory! (computed 8.8 MiB so far)\n",
      "22/12/27 18:17:17 WARN MemoryStore: Not enough space to cache rdd_95_5 in memory! (computed 5.8 MiB so far)\n",
      "22/12/27 18:17:17 WARN MemoryStore: Not enough space to cache rdd_95_6 in memory! (computed 8.8 MiB so far)\n",
      "22/12/27 18:17:17 WARN MemoryStore: Not enough space to cache rdd_95_1 in memory! (computed 13.9 MiB so far)\n",
      "22/12/27 18:17:17 WARN MemoryStore: Not enough space to cache rdd_95_7 in memory! (computed 8.8 MiB so far)\n",
      "22/12/27 18:17:17 WARN MemoryStore: Not enough space to cache rdd_95_2 in memory! (computed 8.8 MiB so far)\n",
      "22/12/27 18:17:17 WARN MemoryStore: Not enough space to cache rdd_95_3 in memory! (computed 8.8 MiB so far)\n",
      "22/12/27 18:17:17 WARN MemoryStore: Not enough space to cache rdd_95_0 in memory! (computed 8.8 MiB so far)\n"
     ]
    },
    {
     "name": "stderr",
     "output_type": "stream",
     "text": [
      "[Stage 32:=>                                                       (1 + 8) / 36]\r"
     ]
    },
    {
     "name": "stdout",
     "output_type": "stream",
     "text": [
      "22/12/27 18:17:21 WARN MemoryStore: Failed to reserve initial memory threshold of 1024.0 KiB for computing block rdd_95_9 in memory.\n",
      "22/12/27 18:17:21 WARN MemoryStore: Not enough space to cache rdd_95_9 in memory! (computed 384.0 B so far)\n",
      "22/12/27 18:17:21 WARN MemoryStore: Not enough space to cache rdd_95_8 in memory! (computed 72.4 MiB so far)\n",
      "22/12/27 18:17:21 WARN MemoryStore: Failed to reserve initial memory threshold of 1024.0 KiB for computing block rdd_95_10 in memory.\n",
      "22/12/27 18:17:21 WARN MemoryStore: Not enough space to cache rdd_95_10 in memory! (computed 384.0 B so far)\n",
      "22/12/27 18:17:21 WARN MemoryStore: Failed to reserve initial memory threshold of 1024.0 KiB for computing block rdd_95_11 in memory.\n",
      "22/12/27 18:17:21 WARN MemoryStore: Not enough space to cache rdd_95_11 in memory! (computed 384.0 B so far)\n"
     ]
    },
    {
     "name": "stderr",
     "output_type": "stream",
     "text": [
      "[Stage 32:=======>                                                 (5 + 8) / 36]\r"
     ]
    },
    {
     "name": "stdout",
     "output_type": "stream",
     "text": [
      "22/12/27 18:17:21 WARN MemoryStore: Failed to reserve initial memory threshold of 1024.0 KiB for computing block rdd_95_12 in memory.\n",
      "22/12/27 18:17:21 WARN MemoryStore: Not enough space to cache rdd_95_12 in memory! (computed 384.0 B so far)\n",
      "22/12/27 18:17:21 WARN MemoryStore: Failed to reserve initial memory threshold of 1024.0 KiB for computing block rdd_95_13 in memory.\n",
      "22/12/27 18:17:21 WARN MemoryStore: Not enough space to cache rdd_95_13 in memory! (computed 384.0 B so far)\n",
      "22/12/27 18:17:21 WARN MemoryStore: Not enough space to cache rdd_95_14 in memory! (computed 1067.6 KiB so far)\n",
      "22/12/27 18:17:21 WARN MemoryStore: Not enough space to cache rdd_95_15 in memory! (computed 1067.6 KiB so far)\n"
     ]
    },
    {
     "name": "stderr",
     "output_type": "stream",
     "text": [
      "[Stage 32:=================>                                      (11 + 8) / 36]\r"
     ]
    },
    {
     "name": "stdout",
     "output_type": "stream",
     "text": [
      "22/12/27 18:17:25 WARN MemoryStore: Not enough space to cache rdd_95_17 in memory! (computed 47.9 MiB so far)\n",
      "22/12/27 18:17:25 WARN MemoryStore: Not enough space to cache rdd_95_18 in memory! (computed 21.2 MiB so far)\n"
     ]
    },
    {
     "name": "stderr",
     "output_type": "stream",
     "text": [
      "[Stage 32:==================>                                     (12 + 8) / 36]\r"
     ]
    },
    {
     "name": "stdout",
     "output_type": "stream",
     "text": [
      "22/12/27 18:17:26 WARN MemoryStore: Not enough space to cache rdd_95_19 in memory! (computed 72.4 MiB so far)\n"
     ]
    },
    {
     "name": "stderr",
     "output_type": "stream",
     "text": [
      "[Stage 32:====================>                                   (13 + 8) / 36]\r"
     ]
    },
    {
     "name": "stdout",
     "output_type": "stream",
     "text": [
      "22/12/27 18:17:28 WARN MemoryStore: Not enough space to cache rdd_95_20 in memory! (computed 72.4 MiB so far)\n",
      "22/12/27 18:17:28 WARN MemoryStore: Not enough space to cache rdd_95_21 in memory! (computed 1067.6 KiB so far)\n"
     ]
    },
    {
     "name": "stderr",
     "output_type": "stream",
     "text": [
      "[Stage 32:=======================>                                (15 + 8) / 36]\r"
     ]
    },
    {
     "name": "stdout",
     "output_type": "stream",
     "text": [
      "22/12/27 18:17:28 WARN MemoryStore: Not enough space to cache rdd_95_22 in memory! (computed 1067.6 KiB so far)\n",
      "22/12/27 18:17:28 WARN MemoryStore: Not enough space to cache rdd_95_23 in memory! (computed 1067.6 KiB so far)\n"
     ]
    },
    {
     "name": "stderr",
     "output_type": "stream",
     "text": [
      "[Stage 32:==========================>                             (17 + 8) / 36]\r"
     ]
    },
    {
     "name": "stdout",
     "output_type": "stream",
     "text": [
      "22/12/27 18:17:29 WARN MemoryStore: Not enough space to cache rdd_95_24 in memory! (computed 72.4 MiB so far)\n",
      "22/12/27 18:17:30 WARN MemoryStore: Not enough space to cache rdd_95_25 in memory! (computed 1067.6 KiB so far)\n",
      "22/12/27 18:17:30 WARN MemoryStore: Not enough space to cache rdd_95_26 in memory! (computed 1067.6 KiB so far)\n"
     ]
    },
    {
     "name": "stderr",
     "output_type": "stream",
     "text": [
      "[Stage 32:===============================>                        (20 + 8) / 36]\r"
     ]
    },
    {
     "name": "stdout",
     "output_type": "stream",
     "text": [
      "22/12/27 18:17:31 WARN MemoryStore: Not enough space to cache rdd_95_27 in memory! (computed 72.4 MiB so far)\n"
     ]
    },
    {
     "name": "stderr",
     "output_type": "stream",
     "text": [
      "[Stage 32:==================================>                     (22 + 8) / 36]\r"
     ]
    },
    {
     "name": "stdout",
     "output_type": "stream",
     "text": [
      "22/12/27 18:17:32 WARN MemoryStore: Not enough space to cache rdd_95_28 in memory! (computed 47.9 MiB so far)\n",
      "22/12/27 18:17:32 WARN MemoryStore: Not enough space to cache rdd_95_29 in memory! (computed 21.2 MiB so far)\n",
      "22/12/27 18:17:33 WARN MemoryStore: Not enough space to cache rdd_95_30 in memory! (computed 3.8 MiB so far)\n"
     ]
    },
    {
     "name": "stderr",
     "output_type": "stream",
     "text": [
      "[Stage 32:===================================>                    (23 + 8) / 36]\r"
     ]
    },
    {
     "name": "stdout",
     "output_type": "stream",
     "text": [
      "22/12/27 18:17:33 WARN MemoryStore: Not enough space to cache rdd_95_31 in memory! (computed 21.2 MiB so far)\n"
     ]
    },
    {
     "name": "stderr",
     "output_type": "stream",
     "text": [
      "[Stage 32:======================================>                 (25 + 8) / 36]\r"
     ]
    },
    {
     "name": "stdout",
     "output_type": "stream",
     "text": [
      "22/12/27 18:17:34 WARN MemoryStore: Not enough space to cache rdd_95_32 in memory! (computed 47.9 MiB so far)\n",
      "22/12/27 18:17:34 WARN MemoryStore: Not enough space to cache rdd_95_33 in memory! (computed 21.2 MiB so far)\n"
     ]
    },
    {
     "name": "stderr",
     "output_type": "stream",
     "text": [
      "[Stage 32:==========================================>             (27 + 8) / 36]\r"
     ]
    },
    {
     "name": "stdout",
     "output_type": "stream",
     "text": [
      "22/12/27 18:17:34 WARN MemoryStore: Not enough space to cache rdd_95_34 in memory! (computed 21.2 MiB so far)\n"
     ]
    },
    {
     "name": "stderr",
     "output_type": "stream",
     "text": [
      "[Stage 32:===========================================>            (28 + 8) / 36]\r"
     ]
    },
    {
     "name": "stdout",
     "output_type": "stream",
     "text": [
      "22/12/27 18:17:35 WARN MemoryStore: Not enough space to cache rdd_95_35 in memory! (computed 72.4 MiB so far)\n"
     ]
    },
    {
     "name": "stderr",
     "output_type": "stream",
     "text": [
      "                                                                                \r"
     ]
    },
    {
     "name": "stdout",
     "output_type": "stream",
     "text": [
      "22/12/27 18:17:40 WARN MemoryStore: Not enough space to cache rdd_95_7 in memory! (computed 8.8 MiB so far)\n",
      "22/12/27 18:17:40 WARN MemoryStore: Not enough space to cache rdd_95_0 in memory! (computed 8.8 MiB so far)\n",
      "22/12/27 18:17:40 WARN MemoryStore: Not enough space to cache rdd_95_6 in memory! (computed 8.8 MiB so far)\n",
      "22/12/27 18:17:40 WARN MemoryStore: Not enough space to cache rdd_95_5 in memory! (computed 8.8 MiB so far)\n",
      "22/12/27 18:17:40 WARN MemoryStore: Not enough space to cache rdd_95_2 in memory! (computed 8.8 MiB so far)\n",
      "22/12/27 18:17:40 WARN MemoryStore: Not enough space to cache rdd_95_1 in memory! (computed 8.8 MiB so far)\n",
      "22/12/27 18:17:40 WARN MemoryStore: Not enough space to cache rdd_95_4 in memory! (computed 8.8 MiB so far)\n",
      "22/12/27 18:17:40 WARN MemoryStore: Not enough space to cache rdd_95_3 in memory! (computed 8.8 MiB so far)\n"
     ]
    },
    {
     "name": "stderr",
     "output_type": "stream",
     "text": [
      "[Stage 34:===>                                                     (2 + 8) / 36]\r"
     ]
    },
    {
     "name": "stdout",
     "output_type": "stream",
     "text": [
      "22/12/27 18:17:45 WARN MemoryStore: Not enough space to cache rdd_95_8 in memory! (computed 31.9 MiB so far)\n",
      "22/12/27 18:17:45 WARN MemoryStore: Not enough space to cache rdd_95_9 in memory! (computed 31.9 MiB so far)\n",
      "22/12/27 18:17:45 WARN MemoryStore: Not enough space to cache rdd_95_10 in memory! (computed 5.8 MiB so far)\n",
      "22/12/27 18:17:45 WARN MemoryStore: Not enough space to cache rdd_95_11 in memory! (computed 2.5 MiB so far)\n"
     ]
    },
    {
     "name": "stderr",
     "output_type": "stream",
     "text": [
      "[Stage 34:=======>                                                 (5 + 8) / 36]\r"
     ]
    },
    {
     "name": "stdout",
     "output_type": "stream",
     "text": [
      "22/12/27 18:17:45 WARN MemoryStore: Not enough space to cache rdd_95_12 in memory! (computed 8.8 MiB so far)\n",
      "22/12/27 18:17:46 WARN MemoryStore: Not enough space to cache rdd_95_13 in memory! (computed 47.9 MiB so far)\n",
      "22/12/27 18:17:46 WARN MemoryStore: Not enough space to cache rdd_95_14 in memory! (computed 21.2 MiB so far)\n",
      "22/12/27 18:17:46 WARN MemoryStore: Not enough space to cache rdd_95_15 in memory! (computed 3.8 MiB so far)\n"
     ]
    },
    {
     "name": "stderr",
     "output_type": "stream",
     "text": [
      "[Stage 34:===============>                                        (10 + 8) / 36]\r"
     ]
    },
    {
     "name": "stdout",
     "output_type": "stream",
     "text": [
      "22/12/27 18:17:51 WARN MemoryStore: Not enough space to cache rdd_95_17 in memory! (computed 47.9 MiB so far)\n",
      "22/12/27 18:17:51 WARN MemoryStore: Not enough space to cache rdd_95_18 in memory! (computed 21.2 MiB so far)\n"
     ]
    },
    {
     "name": "stderr",
     "output_type": "stream",
     "text": [
      "[Stage 34:==================>                                     (12 + 8) / 36]\r"
     ]
    },
    {
     "name": "stdout",
     "output_type": "stream",
     "text": [
      "22/12/27 18:17:52 WARN MemoryStore: Not enough space to cache rdd_95_19 in memory! (computed 72.4 MiB so far)\n"
     ]
    },
    {
     "name": "stderr",
     "output_type": "stream",
     "text": [
      "[Stage 34:====================>                                   (13 + 8) / 36]\r"
     ]
    },
    {
     "name": "stdout",
     "output_type": "stream",
     "text": [
      "22/12/27 18:17:53 WARN MemoryStore: Not enough space to cache rdd_95_20 in memory! (computed 72.4 MiB so far)\n",
      "22/12/27 18:17:54 WARN MemoryStore: Not enough space to cache rdd_95_21 in memory! (computed 1067.6 KiB so far)\n"
     ]
    },
    {
     "name": "stderr",
     "output_type": "stream",
     "text": [
      "[Stage 34:=======================>                                (15 + 8) / 36]\r"
     ]
    },
    {
     "name": "stdout",
     "output_type": "stream",
     "text": [
      "22/12/27 18:17:55 WARN MemoryStore: Not enough space to cache rdd_95_22 in memory! (computed 72.4 MiB so far)\n",
      "22/12/27 18:17:55 WARN MemoryStore: Not enough space to cache rdd_95_23 in memory! (computed 1067.6 KiB so far)\n"
     ]
    },
    {
     "name": "stderr",
     "output_type": "stream",
     "text": [
      "[Stage 34:========================>                               (16 + 8) / 36]\r"
     ]
    },
    {
     "name": "stdout",
     "output_type": "stream",
     "text": [
      "22/12/27 18:17:55 WARN MemoryStore: Not enough space to cache rdd_95_24 in memory! (computed 1067.6 KiB so far)\n"
     ]
    },
    {
     "name": "stderr",
     "output_type": "stream",
     "text": [
      "[Stage 34:=============================>                          (19 + 8) / 36]\r"
     ]
    },
    {
     "name": "stdout",
     "output_type": "stream",
     "text": [
      "22/12/27 18:17:56 WARN MemoryStore: Not enough space to cache rdd_95_26 in memory! (computed 21.2 MiB so far)\n",
      "22/12/27 18:17:56 WARN MemoryStore: Not enough space to cache rdd_95_25 in memory! (computed 47.9 MiB so far)\n"
     ]
    },
    {
     "name": "stderr",
     "output_type": "stream",
     "text": [
      "[Stage 34:===============================>                        (20 + 8) / 36]\r"
     ]
    },
    {
     "name": "stdout",
     "output_type": "stream",
     "text": [
      "22/12/27 18:17:57 WARN MemoryStore: Not enough space to cache rdd_95_27 in memory! (computed 72.4 MiB so far)\n"
     ]
    },
    {
     "name": "stderr",
     "output_type": "stream",
     "text": [
      "[Stage 34:================================>                       (21 + 8) / 36]\r"
     ]
    },
    {
     "name": "stdout",
     "output_type": "stream",
     "text": [
      "22/12/27 18:17:59 WARN MemoryStore: Not enough space to cache rdd_95_28 in memory! (computed 72.4 MiB so far)\n",
      "22/12/27 18:17:59 WARN MemoryStore: Not enough space to cache rdd_95_29 in memory! (computed 1067.6 KiB so far)\n"
     ]
    },
    {
     "name": "stderr",
     "output_type": "stream",
     "text": [
      "[Stage 34:=====================================>                  (24 + 8) / 36]\r"
     ]
    },
    {
     "name": "stdout",
     "output_type": "stream",
     "text": [
      "22/12/27 18:17:59 WARN MemoryStore: Not enough space to cache rdd_95_30 in memory! (computed 1067.6 KiB so far)\n",
      "22/12/27 18:17:59 WARN MemoryStore: Not enough space to cache rdd_95_31 in memory! (computed 1067.6 KiB so far)\n"
     ]
    },
    {
     "name": "stderr",
     "output_type": "stream",
     "text": [
      "[Stage 34:======================================>                 (25 + 8) / 36]\r"
     ]
    },
    {
     "name": "stdout",
     "output_type": "stream",
     "text": [
      "22/12/27 18:18:00 WARN MemoryStore: Not enough space to cache rdd_95_32 in memory! (computed 72.4 MiB so far)\n",
      "22/12/27 18:18:00 WARN MemoryStore: Not enough space to cache rdd_95_33 in memory! (computed 1067.6 KiB so far)\n"
     ]
    },
    {
     "name": "stderr",
     "output_type": "stream",
     "text": [
      "[Stage 34:==========================================>             (27 + 8) / 36]\r"
     ]
    },
    {
     "name": "stdout",
     "output_type": "stream",
     "text": [
      "22/12/27 18:18:01 WARN MemoryStore: Not enough space to cache rdd_95_34 in memory! (computed 72.4 MiB so far)\n"
     ]
    },
    {
     "name": "stderr",
     "output_type": "stream",
     "text": [
      "[Stage 34:===========================================>            (28 + 8) / 36]\r"
     ]
    },
    {
     "name": "stdout",
     "output_type": "stream",
     "text": [
      "22/12/27 18:18:02 WARN MemoryStore: Not enough space to cache rdd_95_35 in memory! (computed 1067.6 KiB so far)\n"
     ]
    },
    {
     "name": "stderr",
     "output_type": "stream",
     "text": [
      "                                                                                \r"
     ]
    },
    {
     "name": "stdout",
     "output_type": "stream",
     "text": [
      "22/12/27 18:18:07 WARN MemoryStore: Not enough space to cache rdd_95_6 in memory! (computed 8.8 MiB so far)\n",
      "22/12/27 18:18:07 WARN MemoryStore: Not enough space to cache rdd_95_7 in memory! (computed 5.8 MiB so far)\n",
      "22/12/27 18:18:07 WARN MemoryStore: Not enough space to cache rdd_95_0 in memory! (computed 8.8 MiB so far)\n",
      "22/12/27 18:18:07 WARN MemoryStore: Not enough space to cache rdd_95_3 in memory! (computed 8.8 MiB so far)\n",
      "22/12/27 18:18:07 WARN MemoryStore: Not enough space to cache rdd_95_2 in memory! (computed 13.9 MiB so far)\n",
      "22/12/27 18:18:07 WARN MemoryStore: Not enough space to cache rdd_95_4 in memory! (computed 8.8 MiB so far)\n",
      "22/12/27 18:18:07 WARN MemoryStore: Not enough space to cache rdd_95_5 in memory! (computed 8.8 MiB so far)\n",
      "22/12/27 18:18:07 WARN MemoryStore: Not enough space to cache rdd_95_1 in memory! (computed 8.8 MiB so far)\n"
     ]
    },
    {
     "name": "stderr",
     "output_type": "stream",
     "text": [
      "[Stage 36:===>                                                     (2 + 8) / 36]\r"
     ]
    },
    {
     "name": "stdout",
     "output_type": "stream",
     "text": [
      "22/12/27 18:18:11 WARN MemoryStore: Not enough space to cache rdd_95_8 in memory! (computed 47.9 MiB so far)\n",
      "22/12/27 18:18:11 WARN MemoryStore: Not enough space to cache rdd_95_9 in memory! (computed 21.2 MiB so far)\n",
      "22/12/27 18:18:11 WARN MemoryStore: Not enough space to cache rdd_95_10 in memory! (computed 3.8 MiB so far)\n",
      "22/12/27 18:18:11 WARN MemoryStore: Not enough space to cache rdd_95_11 in memory! (computed 3.8 MiB so far)\n"
     ]
    },
    {
     "name": "stderr",
     "output_type": "stream",
     "text": [
      "[Stage 36:=======>                                                 (5 + 8) / 36]\r"
     ]
    },
    {
     "name": "stdout",
     "output_type": "stream",
     "text": [
      "22/12/27 18:18:11 WARN MemoryStore: Not enough space to cache rdd_95_12 in memory! (computed 21.2 MiB so far)\n"
     ]
    },
    {
     "name": "stderr",
     "output_type": "stream",
     "text": [
      "[Stage 36:============>                                            (8 + 8) / 36]\r"
     ]
    },
    {
     "name": "stdout",
     "output_type": "stream",
     "text": [
      "22/12/27 18:18:12 WARN MemoryStore: Not enough space to cache rdd_95_14 in memory! (computed 21.2 MiB so far)\n",
      "22/12/27 18:18:12 WARN MemoryStore: Not enough space to cache rdd_95_15 in memory! (computed 3.8 MiB so far)\n",
      "22/12/27 18:18:12 WARN MemoryStore: Not enough space to cache rdd_95_13 in memory! (computed 47.9 MiB so far)\n"
     ]
    },
    {
     "name": "stderr",
     "output_type": "stream",
     "text": [
      "[Stage 36:===============>                                        (10 + 8) / 36]\r"
     ]
    },
    {
     "name": "stdout",
     "output_type": "stream",
     "text": [
      "22/12/27 18:18:17 WARN MemoryStore: Not enough space to cache rdd_95_17 in memory! (computed 47.9 MiB so far)\n",
      "22/12/27 18:18:17 WARN MemoryStore: Not enough space to cache rdd_95_18 in memory! (computed 21.2 MiB so far)\n"
     ]
    },
    {
     "name": "stderr",
     "output_type": "stream",
     "text": [
      "[Stage 36:==================>                                     (12 + 8) / 36]\r"
     ]
    },
    {
     "name": "stdout",
     "output_type": "stream",
     "text": [
      "22/12/27 18:18:18 WARN MemoryStore: Not enough space to cache rdd_95_19 in memory! (computed 72.4 MiB so far)\n"
     ]
    },
    {
     "name": "stderr",
     "output_type": "stream",
     "text": [
      "[Stage 36:====================>                                   (13 + 8) / 36]\r"
     ]
    },
    {
     "name": "stdout",
     "output_type": "stream",
     "text": [
      "22/12/27 18:18:20 WARN MemoryStore: Not enough space to cache rdd_95_20 in memory! (computed 72.4 MiB so far)\n",
      "22/12/27 18:18:21 WARN MemoryStore: Not enough space to cache rdd_95_21 in memory! (computed 1067.6 KiB so far)\n"
     ]
    },
    {
     "name": "stderr",
     "output_type": "stream",
     "text": [
      "[Stage 36:=====================>                                  (14 + 8) / 36]\r"
     ]
    },
    {
     "name": "stdout",
     "output_type": "stream",
     "text": [
      "22/12/27 18:18:21 WARN MemoryStore: Not enough space to cache rdd_95_22 in memory! (computed 1067.6 KiB so far)\n"
     ]
    },
    {
     "name": "stderr",
     "output_type": "stream",
     "text": [
      "[Stage 36:========================>                               (16 + 8) / 36]\r"
     ]
    },
    {
     "name": "stdout",
     "output_type": "stream",
     "text": [
      "22/12/27 18:18:22 WARN MemoryStore: Not enough space to cache rdd_95_23 in memory! (computed 72.4 MiB so far)\n",
      "22/12/27 18:18:22 WARN MemoryStore: Not enough space to cache rdd_95_24 in memory! (computed 1067.6 KiB so far)\n"
     ]
    },
    {
     "name": "stderr",
     "output_type": "stream",
     "text": [
      "[Stage 36:=============================>                          (19 + 8) / 36]\r"
     ]
    },
    {
     "name": "stdout",
     "output_type": "stream",
     "text": [
      "22/12/27 18:18:23 WARN MemoryStore: Not enough space to cache rdd_95_25 in memory! (computed 31.9 MiB so far)\n",
      "22/12/27 18:18:24 WARN MemoryStore: Not enough space to cache rdd_95_26 in memory! (computed 31.9 MiB so far)\n"
     ]
    },
    {
     "name": "stderr",
     "output_type": "stream",
     "text": [
      "[Stage 36:===============================>                        (20 + 8) / 36]\r"
     ]
    },
    {
     "name": "stdout",
     "output_type": "stream",
     "text": [
      "22/12/27 18:18:24 WARN MemoryStore: Not enough space to cache rdd_95_27 in memory! (computed 72.4 MiB so far)\n"
     ]
    },
    {
     "name": "stderr",
     "output_type": "stream",
     "text": [
      "[Stage 36:================================>                       (21 + 8) / 36]\r"
     ]
    },
    {
     "name": "stdout",
     "output_type": "stream",
     "text": [
      "22/12/27 18:18:26 WARN MemoryStore: Not enough space to cache rdd_95_28 in memory! (computed 72.4 MiB so far)\n",
      "22/12/27 18:18:26 WARN MemoryStore: Not enough space to cache rdd_95_29 in memory! (computed 1067.6 KiB so far)\n"
     ]
    },
    {
     "name": "stderr",
     "output_type": "stream",
     "text": [
      "[Stage 36:==================================>                     (22 + 8) / 36]\r"
     ]
    },
    {
     "name": "stdout",
     "output_type": "stream",
     "text": [
      "22/12/27 18:18:27 WARN MemoryStore: Not enough space to cache rdd_95_30 in memory! (computed 1067.6 KiB so far)\n",
      "22/12/27 18:18:27 WARN MemoryStore: Not enough space to cache rdd_95_31 in memory! (computed 1067.6 KiB so far)\n"
     ]
    },
    {
     "name": "stderr",
     "output_type": "stream",
     "text": [
      "[Stage 36:======================================>                 (25 + 8) / 36]\r"
     ]
    },
    {
     "name": "stdout",
     "output_type": "stream",
     "text": [
      "22/12/27 18:18:27 WARN MemoryStore: Not enough space to cache rdd_95_32 in memory! (computed 72.4 MiB so far)\n",
      "22/12/27 18:18:28 WARN MemoryStore: Not enough space to cache rdd_95_33 in memory! (computed 1067.6 KiB so far)\n"
     ]
    },
    {
     "name": "stderr",
     "output_type": "stream",
     "text": [
      "[Stage 36:========================================>               (26 + 8) / 36]\r"
     ]
    },
    {
     "name": "stdout",
     "output_type": "stream",
     "text": [
      "22/12/27 18:18:29 WARN MemoryStore: Not enough space to cache rdd_95_34 in memory! (computed 1067.6 KiB so far)\n"
     ]
    },
    {
     "name": "stderr",
     "output_type": "stream",
     "text": [
      "[Stage 36:===========================================>            (28 + 8) / 36]\r"
     ]
    },
    {
     "name": "stdout",
     "output_type": "stream",
     "text": [
      "22/12/27 18:18:30 WARN MemoryStore: Not enough space to cache rdd_95_35 in memory! (computed 72.4 MiB so far)\n"
     ]
    },
    {
     "name": "stderr",
     "output_type": "stream",
     "text": [
      "                                                                                \r"
     ]
    },
    {
     "name": "stdout",
     "output_type": "stream",
     "text": [
      "22/12/27 18:18:35 WARN MemoryStore: Not enough space to cache rdd_95_6 in memory! (computed 8.8 MiB so far)\n",
      "22/12/27 18:18:35 WARN MemoryStore: Not enough space to cache rdd_95_2 in memory! (computed 8.8 MiB so far)\n",
      "22/12/27 18:18:36 WARN MemoryStore: Not enough space to cache rdd_95_1 in memory! (computed 72.4 MiB so far)\n",
      "22/12/27 18:18:36 WARN MemoryStore: Not enough space to cache rdd_95_5 in memory! (computed 72.4 MiB so far)\n",
      "22/12/27 18:18:36 WARN MemoryStore: Not enough space to cache rdd_95_0 in memory! (computed 72.4 MiB so far)\n",
      "22/12/27 18:18:36 WARN MemoryStore: Not enough space to cache rdd_95_4 in memory! (computed 72.4 MiB so far)\n",
      "22/12/27 18:18:36 WARN MemoryStore: Not enough space to cache rdd_95_7 in memory! (computed 72.4 MiB so far)\n",
      "22/12/27 18:18:36 WARN MemoryStore: Not enough space to cache rdd_95_3 in memory! (computed 72.4 MiB so far)\n"
     ]
    },
    {
     "name": "stderr",
     "output_type": "stream",
     "text": [
      "[Stage 38:======>                                                  (4 + 8) / 36]\r"
     ]
    },
    {
     "name": "stdout",
     "output_type": "stream",
     "text": [
      "22/12/27 18:18:40 WARN MemoryStore: Not enough space to cache rdd_95_9 in memory! (computed 112.4 MiB so far)\n",
      "22/12/27 18:18:40 WARN MemoryStore: Not enough space to cache rdd_95_11 in memory! (computed 13.9 MiB so far)\n",
      "22/12/27 18:18:40 WARN MemoryStore: Not enough space to cache rdd_95_10 in memory! (computed 47.9 MiB so far)\n",
      "22/12/27 18:18:40 WARN MemoryStore: Not enough space to cache rdd_95_8 in memory! (computed 257.4 MiB so far)\n",
      "22/12/27 18:18:40 WARN MemoryStore: Not enough space to cache rdd_95_12 in memory! (computed 13.9 MiB so far)\n"
     ]
    },
    {
     "name": "stderr",
     "output_type": "stream",
     "text": [
      "[Stage 38:=======>                                                 (5 + 8) / 36]\r"
     ]
    },
    {
     "name": "stdout",
     "output_type": "stream",
     "text": [
      "22/12/27 18:18:41 WARN MemoryStore: Not enough space to cache rdd_95_13 in memory! (computed 13.9 MiB so far)\n",
      "22/12/27 18:18:41 WARN MemoryStore: Not enough space to cache rdd_95_14 in memory! (computed 5.8 MiB so far)\n",
      "22/12/27 18:18:41 WARN MemoryStore: Not enough space to cache rdd_95_15 in memory! (computed 1664.9 KiB so far)\n"
     ]
    },
    {
     "name": "stderr",
     "output_type": "stream",
     "text": [
      "[Stage 38:=================>                                      (11 + 8) / 36]\r"
     ]
    },
    {
     "name": "stdout",
     "output_type": "stream",
     "text": [
      "22/12/27 18:18:45 WARN MemoryStore: Not enough space to cache rdd_95_18 in memory! (computed 1067.6 KiB so far)\n",
      "22/12/27 18:18:45 WARN MemoryStore: Not enough space to cache rdd_95_17 in memory! (computed 72.4 MiB so far)\n",
      "22/12/27 18:18:46 WARN MemoryStore: Not enough space to cache rdd_95_19 in memory! (computed 1067.6 KiB so far)\n"
     ]
    },
    {
     "name": "stderr",
     "output_type": "stream",
     "text": [
      "[Stage 38:====================>                                   (13 + 8) / 36]\r"
     ]
    },
    {
     "name": "stdout",
     "output_type": "stream",
     "text": [
      "22/12/27 18:18:48 WARN MemoryStore: Not enough space to cache rdd_95_20 in memory! (computed 72.4 MiB so far)\n",
      "22/12/27 18:18:48 WARN MemoryStore: Not enough space to cache rdd_95_21 in memory! (computed 1067.6 KiB so far)\n"
     ]
    },
    {
     "name": "stderr",
     "output_type": "stream",
     "text": [
      "[Stage 38:=====================>                                  (14 + 8) / 36]\r"
     ]
    },
    {
     "name": "stdout",
     "output_type": "stream",
     "text": [
      "22/12/27 18:18:49 WARN MemoryStore: Not enough space to cache rdd_95_22 in memory! (computed 1067.6 KiB so far)\n"
     ]
    },
    {
     "name": "stderr",
     "output_type": "stream",
     "text": [
      "[Stage 38:========================>                               (16 + 8) / 36]\r"
     ]
    },
    {
     "name": "stdout",
     "output_type": "stream",
     "text": [
      "22/12/27 18:18:50 WARN MemoryStore: Not enough space to cache rdd_95_23 in memory! (computed 72.4 MiB so far)\n",
      "22/12/27 18:18:50 WARN MemoryStore: Not enough space to cache rdd_95_24 in memory! (computed 1067.6 KiB so far)\n"
     ]
    },
    {
     "name": "stderr",
     "output_type": "stream",
     "text": [
      "[Stage 38:==========================>                             (17 + 8) / 36]\r"
     ]
    },
    {
     "name": "stdout",
     "output_type": "stream",
     "text": [
      "22/12/27 18:18:51 WARN MemoryStore: Not enough space to cache rdd_95_25 in memory! (computed 1067.6 KiB so far)\n",
      "22/12/27 18:18:51 WARN MemoryStore: Not enough space to cache rdd_95_26 in memory! (computed 1067.6 KiB so far)\n"
     ]
    },
    {
     "name": "stderr",
     "output_type": "stream",
     "text": [
      "[Stage 38:===============================>                        (20 + 8) / 36]\r"
     ]
    },
    {
     "name": "stdout",
     "output_type": "stream",
     "text": [
      "22/12/27 18:18:52 WARN MemoryStore: Not enough space to cache rdd_95_27 in memory! (computed 72.4 MiB so far)\n",
      "22/12/27 18:18:53 WARN MemoryStore: Not enough space to cache rdd_95_29 in memory! (computed 21.2 MiB so far)\n",
      "22/12/27 18:18:54 WARN MemoryStore: Not enough space to cache rdd_95_28 in memory! (computed 47.9 MiB so far)\n"
     ]
    },
    {
     "name": "stderr",
     "output_type": "stream",
     "text": [
      "[Stage 38:===================================>                    (23 + 8) / 36]\r"
     ]
    },
    {
     "name": "stdout",
     "output_type": "stream",
     "text": [
      "22/12/27 18:18:54 WARN MemoryStore: Not enough space to cache rdd_95_30 in memory! (computed 72.4 MiB so far)\n",
      "22/12/27 18:18:55 WARN MemoryStore: Not enough space to cache rdd_95_31 in memory! (computed 1067.6 KiB so far)\n"
     ]
    },
    {
     "name": "stderr",
     "output_type": "stream",
     "text": [
      "[Stage 38:=====================================>                  (24 + 8) / 36]\r"
     ]
    },
    {
     "name": "stdout",
     "output_type": "stream",
     "text": [
      "22/12/27 18:18:55 WARN MemoryStore: Failed to reserve initial memory threshold of 1024.0 KiB for computing block rdd_95_33 in memory.\n",
      "22/12/27 18:18:55 WARN MemoryStore: Not enough space to cache rdd_95_33 in memory! (computed 384.0 B so far)\n",
      "22/12/27 18:18:55 WARN MemoryStore: Not enough space to cache rdd_95_32 in memory! (computed 1067.6 KiB so far)\n"
     ]
    },
    {
     "name": "stderr",
     "output_type": "stream",
     "text": [
      "[Stage 38:==========================================>             (27 + 8) / 36]\r"
     ]
    },
    {
     "name": "stdout",
     "output_type": "stream",
     "text": [
      "22/12/27 18:18:56 WARN MemoryStore: Not enough space to cache rdd_95_34 in memory! (computed 72.4 MiB so far)\n",
      "22/12/27 18:18:57 WARN MemoryStore: Not enough space to cache rdd_95_35 in memory! (computed 1067.6 KiB so far)\n"
     ]
    },
    {
     "name": "stderr",
     "output_type": "stream",
     "text": [
      "                                                                                \r"
     ]
    },
    {
     "name": "stdout",
     "output_type": "stream",
     "text": [
      "22/12/27 18:19:03 WARN DAGScheduler: Broadcasting large task binary with size 1192.5 KiB\n",
      "22/12/27 18:19:03 WARN MemoryStore: Not enough space to cache rdd_95_0 in memory! (computed 8.8 MiB so far)\n",
      "22/12/27 18:19:03 WARN MemoryStore: Not enough space to cache rdd_95_4 in memory! (computed 47.9 MiB so far)\n",
      "22/12/27 18:19:03 WARN MemoryStore: Not enough space to cache rdd_95_7 in memory! (computed 47.9 MiB so far)\n",
      "22/12/27 18:19:03 WARN MemoryStore: Not enough space to cache rdd_95_2 in memory! (computed 47.9 MiB so far)\n",
      "22/12/27 18:19:03 WARN MemoryStore: Not enough space to cache rdd_95_1 in memory! (computed 72.4 MiB so far)\n",
      "22/12/27 18:19:03 WARN MemoryStore: Not enough space to cache rdd_95_3 in memory! (computed 72.4 MiB so far)\n",
      "22/12/27 18:19:03 WARN MemoryStore: Not enough space to cache rdd_95_6 in memory! (computed 72.4 MiB so far)\n",
      "22/12/27 18:19:03 WARN MemoryStore: Not enough space to cache rdd_95_5 in memory! (computed 72.4 MiB so far)\n"
     ]
    },
    {
     "name": "stderr",
     "output_type": "stream",
     "text": [
      "[Stage 40:======>                                                  (4 + 8) / 36]\r"
     ]
    },
    {
     "name": "stdout",
     "output_type": "stream",
     "text": [
      "22/12/27 18:19:08 WARN MemoryStore: Not enough space to cache rdd_95_8 in memory! (computed 171.6 MiB so far)\n",
      "22/12/27 18:19:08 WARN MemoryStore: Not enough space to cache rdd_95_9 in memory! (computed 171.6 MiB so far)\n",
      "22/12/27 18:19:08 WARN MemoryStore: Not enough space to cache rdd_95_11 in memory! (computed 47.9 MiB so far)\n",
      "22/12/27 18:19:08 WARN MemoryStore: Not enough space to cache rdd_95_10 in memory! (computed 47.9 MiB so far)\n",
      "22/12/27 18:19:08 WARN MemoryStore: Not enough space to cache rdd_95_12 in memory! (computed 1067.6 KiB so far)\n"
     ]
    },
    {
     "name": "stderr",
     "output_type": "stream",
     "text": [
      "[Stage 40:=========>                                               (6 + 8) / 36]\r"
     ]
    },
    {
     "name": "stdout",
     "output_type": "stream",
     "text": [
      "22/12/27 18:19:09 WARN MemoryStore: Not enough space to cache rdd_95_13 in memory! (computed 1067.6 KiB so far)\n",
      "22/12/27 18:19:09 WARN MemoryStore: Not enough space to cache rdd_95_14 in memory! (computed 1067.6 KiB so far)\n",
      "22/12/27 18:19:09 WARN MemoryStore: Not enough space to cache rdd_95_15 in memory! (computed 1067.6 KiB so far)\n"
     ]
    },
    {
     "name": "stderr",
     "output_type": "stream",
     "text": [
      "[Stage 40:===============>                                        (10 + 8) / 36]\r"
     ]
    },
    {
     "name": "stdout",
     "output_type": "stream",
     "text": [
      "22/12/27 18:19:15 WARN MemoryStore: Not enough space to cache rdd_95_17 in memory! (computed 72.4 MiB so far)\n",
      "22/12/27 18:19:15 WARN MemoryStore: Not enough space to cache rdd_95_18 in memory! (computed 1067.6 KiB so far)\n"
     ]
    },
    {
     "name": "stderr",
     "output_type": "stream",
     "text": [
      "[Stage 40:=================>                                      (11 + 8) / 36]\r"
     ]
    },
    {
     "name": "stdout",
     "output_type": "stream",
     "text": [
      "22/12/27 18:19:16 WARN MemoryStore: Not enough space to cache rdd_95_19 in memory! (computed 1067.6 KiB so far)\n"
     ]
    },
    {
     "name": "stderr",
     "output_type": "stream",
     "text": [
      "[Stage 40:====================>                                   (13 + 8) / 36]\r"
     ]
    },
    {
     "name": "stdout",
     "output_type": "stream",
     "text": [
      "22/12/27 18:19:18 WARN MemoryStore: Not enough space to cache rdd_95_20 in memory! (computed 72.4 MiB so far)\n",
      "22/12/27 18:19:19 WARN MemoryStore: Not enough space to cache rdd_95_21 in memory! (computed 1067.6 KiB so far)\n"
     ]
    },
    {
     "name": "stderr",
     "output_type": "stream",
     "text": [
      "[Stage 40:=======================>                                (15 + 8) / 36]\r"
     ]
    },
    {
     "name": "stdout",
     "output_type": "stream",
     "text": [
      "22/12/27 18:19:19 WARN MemoryStore: Not enough space to cache rdd_95_22 in memory! (computed 72.4 MiB so far)\n",
      "22/12/27 18:19:20 WARN MemoryStore: Not enough space to cache rdd_95_23 in memory! (computed 1067.6 KiB so far)\n"
     ]
    },
    {
     "name": "stderr",
     "output_type": "stream",
     "text": [
      "[Stage 40:========================>                               (16 + 8) / 36]\r"
     ]
    },
    {
     "name": "stdout",
     "output_type": "stream",
     "text": [
      "22/12/27 18:19:20 WARN MemoryStore: Not enough space to cache rdd_95_24 in memory! (computed 1067.6 KiB so far)\n"
     ]
    },
    {
     "name": "stderr",
     "output_type": "stream",
     "text": [
      "[Stage 40:=============================>                          (19 + 8) / 36]\r"
     ]
    },
    {
     "name": "stdout",
     "output_type": "stream",
     "text": [
      "22/12/27 18:19:21 WARN MemoryStore: Not enough space to cache rdd_95_26 in memory! (computed 21.2 MiB so far)\n",
      "22/12/27 18:19:21 WARN MemoryStore: Not enough space to cache rdd_95_25 in memory! (computed 47.9 MiB so far)\n"
     ]
    },
    {
     "name": "stderr",
     "output_type": "stream",
     "text": [
      "[Stage 40:===============================>                        (20 + 8) / 36]\r"
     ]
    },
    {
     "name": "stdout",
     "output_type": "stream",
     "text": [
      "22/12/27 18:19:22 WARN MemoryStore: Not enough space to cache rdd_95_27 in memory! (computed 21.2 MiB so far)\n"
     ]
    },
    {
     "name": "stderr",
     "output_type": "stream",
     "text": [
      "[Stage 40:================================>                       (21 + 8) / 36]\r"
     ]
    },
    {
     "name": "stdout",
     "output_type": "stream",
     "text": [
      "22/12/27 18:19:24 WARN MemoryStore: Not enough space to cache rdd_95_28 in memory! (computed 72.4 MiB so far)\n",
      "22/12/27 18:19:24 WARN MemoryStore: Not enough space to cache rdd_95_29 in memory! (computed 1067.6 KiB so far)\n"
     ]
    },
    {
     "name": "stderr",
     "output_type": "stream",
     "text": [
      "[Stage 40:==================================>                     (22 + 8) / 36]\r"
     ]
    },
    {
     "name": "stdout",
     "output_type": "stream",
     "text": [
      "22/12/27 18:19:25 WARN MemoryStore: Not enough space to cache rdd_95_30 in memory! (computed 1067.6 KiB so far)\n"
     ]
    },
    {
     "name": "stderr",
     "output_type": "stream",
     "text": [
      "[Stage 40:===================================>                    (23 + 8) / 36]\r"
     ]
    },
    {
     "name": "stdout",
     "output_type": "stream",
     "text": [
      "22/12/27 18:19:25 WARN MemoryStore: Not enough space to cache rdd_95_31 in memory! (computed 1067.6 KiB so far)\n"
     ]
    },
    {
     "name": "stderr",
     "output_type": "stream",
     "text": [
      "[Stage 40:=====================================>                  (24 + 8) / 36]\r"
     ]
    },
    {
     "name": "stdout",
     "output_type": "stream",
     "text": [
      "22/12/27 18:19:26 WARN MemoryStore: Not enough space to cache rdd_95_32 in memory! (computed 31.9 MiB so far)\n",
      "22/12/27 18:19:26 WARN MemoryStore: Not enough space to cache rdd_95_33 in memory! (computed 31.9 MiB so far)\n"
     ]
    },
    {
     "name": "stderr",
     "output_type": "stream",
     "text": [
      "[Stage 40:========================================>               (26 + 8) / 36]\r"
     ]
    },
    {
     "name": "stdout",
     "output_type": "stream",
     "text": [
      "22/12/27 18:19:26 WARN MemoryStore: Not enough space to cache rdd_95_34 in memory! (computed 8.8 MiB so far)\n"
     ]
    },
    {
     "name": "stderr",
     "output_type": "stream",
     "text": [
      "[Stage 40:===========================================>            (28 + 8) / 36]\r"
     ]
    },
    {
     "name": "stdout",
     "output_type": "stream",
     "text": [
      "22/12/27 18:19:27 WARN MemoryStore: Not enough space to cache rdd_95_35 in memory! (computed 72.4 MiB so far)\n"
     ]
    },
    {
     "name": "stderr",
     "output_type": "stream",
     "text": [
      "                                                                                \r"
     ]
    },
    {
     "name": "stdout",
     "output_type": "stream",
     "text": [
      "22/12/27 18:19:33 WARN DAGScheduler: Broadcasting large task binary with size 1562.4 KiB\n",
      "22/12/27 18:19:33 WARN MemoryStore: Not enough space to cache rdd_95_1 in memory! (computed 8.8 MiB so far)\n",
      "22/12/27 18:19:33 WARN MemoryStore: Not enough space to cache rdd_95_2 in memory! (computed 8.8 MiB so far)\n",
      "22/12/27 18:19:33 WARN MemoryStore: Not enough space to cache rdd_95_5 in memory! (computed 8.8 MiB so far)\n",
      "22/12/27 18:19:33 WARN MemoryStore: Not enough space to cache rdd_95_4 in memory! (computed 8.8 MiB so far)\n",
      "22/12/27 18:19:33 WARN MemoryStore: Not enough space to cache rdd_95_6 in memory! (computed 8.8 MiB so far)\n",
      "22/12/27 18:19:33 WARN MemoryStore: Not enough space to cache rdd_95_7 in memory! (computed 8.8 MiB so far)\n",
      "22/12/27 18:19:33 WARN MemoryStore: Not enough space to cache rdd_95_3 in memory! (computed 8.8 MiB so far)\n",
      "22/12/27 18:19:33 WARN MemoryStore: Not enough space to cache rdd_95_0 in memory! (computed 8.8 MiB so far)\n"
     ]
    },
    {
     "name": "stderr",
     "output_type": "stream",
     "text": [
      "[Stage 42:===>                                                     (2 + 8) / 36]\r"
     ]
    },
    {
     "name": "stdout",
     "output_type": "stream",
     "text": [
      "22/12/27 18:19:38 WARN MemoryStore: Not enough space to cache rdd_95_8 in memory! (computed 47.9 MiB so far)\n",
      "22/12/27 18:19:38 WARN MemoryStore: Not enough space to cache rdd_95_9 in memory! (computed 21.2 MiB so far)\n",
      "22/12/27 18:19:38 WARN MemoryStore: Not enough space to cache rdd_95_10 in memory! (computed 3.8 MiB so far)\n",
      "22/12/27 18:19:38 WARN MemoryStore: Failed to reserve initial memory threshold of 1024.0 KiB for computing block rdd_95_11 in memory.\n",
      "22/12/27 18:19:38 WARN MemoryStore: Not enough space to cache rdd_95_11 in memory! (computed 384.0 B so far)\n",
      "22/12/27 18:19:39 WARN MemoryStore: Not enough space to cache rdd_95_12 in memory! (computed 21.2 MiB so far)\n"
     ]
    },
    {
     "name": "stderr",
     "output_type": "stream",
     "text": [
      "[Stage 42:============>                                            (8 + 8) / 36]\r"
     ]
    },
    {
     "name": "stdout",
     "output_type": "stream",
     "text": [
      "22/12/27 18:19:39 WARN MemoryStore: Not enough space to cache rdd_95_13 in memory! (computed 31.9 MiB so far)\n",
      "22/12/27 18:19:39 WARN MemoryStore: Not enough space to cache rdd_95_14 in memory! (computed 31.9 MiB so far)\n",
      "22/12/27 18:19:39 WARN MemoryStore: Not enough space to cache rdd_95_15 in memory! (computed 8.8 MiB so far)\n"
     ]
    },
    {
     "name": "stderr",
     "output_type": "stream",
     "text": [
      "[Stage 42:=================>                                      (11 + 8) / 36]\r"
     ]
    },
    {
     "name": "stdout",
     "output_type": "stream",
     "text": [
      "22/12/27 18:19:45 WARN MemoryStore: Not enough space to cache rdd_95_17 in memory! (computed 47.9 MiB so far)\n",
      "22/12/27 18:19:45 WARN MemoryStore: Not enough space to cache rdd_95_18 in memory! (computed 21.2 MiB so far)\n"
     ]
    },
    {
     "name": "stderr",
     "output_type": "stream",
     "text": [
      "[Stage 42:==================>                                     (12 + 8) / 36]\r"
     ]
    },
    {
     "name": "stdout",
     "output_type": "stream",
     "text": [
      "22/12/27 18:19:46 WARN MemoryStore: Not enough space to cache rdd_95_19 in memory! (computed 72.4 MiB so far)\n"
     ]
    },
    {
     "name": "stderr",
     "output_type": "stream",
     "text": [
      "[Stage 42:====================>                                   (13 + 8) / 36]\r"
     ]
    },
    {
     "name": "stdout",
     "output_type": "stream",
     "text": [
      "22/12/27 18:19:48 WARN MemoryStore: Not enough space to cache rdd_95_20 in memory! (computed 72.4 MiB so far)\n",
      "22/12/27 18:19:49 WARN MemoryStore: Not enough space to cache rdd_95_21 in memory! (computed 1067.6 KiB so far)\n"
     ]
    },
    {
     "name": "stderr",
     "output_type": "stream",
     "text": [
      "[Stage 42:=====================>                                  (14 + 8) / 36]\r"
     ]
    },
    {
     "name": "stdout",
     "output_type": "stream",
     "text": [
      "22/12/27 18:19:49 WARN MemoryStore: Not enough space to cache rdd_95_22 in memory! (computed 1067.6 KiB so far)\n"
     ]
    },
    {
     "name": "stderr",
     "output_type": "stream",
     "text": [
      "[Stage 42:========================>                               (16 + 8) / 36]\r"
     ]
    },
    {
     "name": "stdout",
     "output_type": "stream",
     "text": [
      "22/12/27 18:19:50 WARN MemoryStore: Not enough space to cache rdd_95_23 in memory! (computed 72.4 MiB so far)\n",
      "22/12/27 18:19:50 WARN MemoryStore: Not enough space to cache rdd_95_24 in memory! (computed 1067.6 KiB so far)\n"
     ]
    },
    {
     "name": "stderr",
     "output_type": "stream",
     "text": [
      "[Stage 42:=============================>                          (19 + 8) / 36]\r"
     ]
    },
    {
     "name": "stdout",
     "output_type": "stream",
     "text": [
      "22/12/27 18:19:51 WARN MemoryStore: Not enough space to cache rdd_95_26 in memory! (computed 21.2 MiB so far)\n",
      "22/12/27 18:19:51 WARN MemoryStore: Not enough space to cache rdd_95_25 in memory! (computed 47.9 MiB so far)\n"
     ]
    },
    {
     "name": "stderr",
     "output_type": "stream",
     "text": [
      "[Stage 42:===============================>                        (20 + 8) / 36]\r"
     ]
    },
    {
     "name": "stdout",
     "output_type": "stream",
     "text": [
      "22/12/27 18:19:52 WARN MemoryStore: Not enough space to cache rdd_95_27 in memory! (computed 72.4 MiB so far)\n"
     ]
    },
    {
     "name": "stderr",
     "output_type": "stream",
     "text": [
      "[Stage 42:================================>                       (21 + 8) / 36]\r"
     ]
    },
    {
     "name": "stdout",
     "output_type": "stream",
     "text": [
      "22/12/27 18:19:54 WARN MemoryStore: Not enough space to cache rdd_95_28 in memory! (computed 72.4 MiB so far)\n",
      "22/12/27 18:19:54 WARN MemoryStore: Not enough space to cache rdd_95_29 in memory! (computed 1067.6 KiB so far)\n"
     ]
    },
    {
     "name": "stderr",
     "output_type": "stream",
     "text": [
      "[Stage 42:==================================>                     (22 + 8) / 36]\r"
     ]
    },
    {
     "name": "stdout",
     "output_type": "stream",
     "text": [
      "22/12/27 18:19:55 WARN MemoryStore: Not enough space to cache rdd_95_30 in memory! (computed 1067.6 KiB so far)\n",
      "22/12/27 18:19:55 WARN MemoryStore: Not enough space to cache rdd_95_31 in memory! (computed 1067.6 KiB so far)\n"
     ]
    },
    {
     "name": "stderr",
     "output_type": "stream",
     "text": [
      "[Stage 42:======================================>                 (25 + 8) / 36]\r"
     ]
    },
    {
     "name": "stdout",
     "output_type": "stream",
     "text": [
      "22/12/27 18:19:55 WARN MemoryStore: Not enough space to cache rdd_95_32 in memory! (computed 72.4 MiB so far)\n",
      "22/12/27 18:19:56 WARN MemoryStore: Not enough space to cache rdd_95_33 in memory! (computed 1067.6 KiB so far)\n"
     ]
    },
    {
     "name": "stderr",
     "output_type": "stream",
     "text": [
      "[Stage 42:========================================>               (26 + 8) / 36]\r"
     ]
    },
    {
     "name": "stdout",
     "output_type": "stream",
     "text": [
      "22/12/27 18:19:57 WARN MemoryStore: Not enough space to cache rdd_95_34 in memory! (computed 1067.6 KiB so far)\n"
     ]
    },
    {
     "name": "stderr",
     "output_type": "stream",
     "text": [
      "[Stage 42:===========================================>            (28 + 8) / 36]\r"
     ]
    },
    {
     "name": "stdout",
     "output_type": "stream",
     "text": [
      "22/12/27 18:19:58 WARN MemoryStore: Not enough space to cache rdd_95_35 in memory! (computed 72.4 MiB so far)\n"
     ]
    },
    {
     "name": "stderr",
     "output_type": "stream",
     "text": [
      "                                                                                \r"
     ]
    }
   ],
   "source": [
    "# train the model\n",
    "model = rf.fit(train)"
   ]
  },
  {
   "cell_type": "code",
   "execution_count": null,
   "metadata": {},
   "outputs": [],
   "source": []
  },
  {
   "cell_type": "code",
   "execution_count": 24,
   "metadata": {},
   "outputs": [
    {
     "name": "stderr",
     "output_type": "stream",
     "text": [
      "[Stage 46:======================================================> (35 + 1) / 36]\r"
     ]
    },
    {
     "name": "stdout",
     "output_type": "stream",
     "text": [
      "Test Error = 0.414965 \n",
      "Accuracy = 0.585035 \n"
     ]
    },
    {
     "name": "stderr",
     "output_type": "stream",
     "text": [
      "                                                                                \r"
     ]
    }
   ],
   "source": [
    "# evaluate the model\n",
    "predictions = model.transform(train)\n",
    "\n",
    "# evaluate the model\n",
    "evaluator = MulticlassClassificationEvaluator(labelCol=\"label\", predictionCol=\"prediction\", metricName=\"accuracy\")\n",
    "accuracy = evaluator.evaluate(predictions)\n",
    "print(\"Test Error = %g \" % (1.0 - accuracy))\n",
    "\n",
    "# print the accuracy\n",
    "print(\"Accuracy = %g \" % accuracy)\n",
    "\n"
   ]
  },
  {
   "cell_type": "markdown",
   "metadata": {},
   "source": [
    "Test Error = 0.419311 \n",
    "Accuracy = 0.580689 "
   ]
  }
 ],
 "metadata": {
  "kernelspec": {
   "display_name": "Python 3.10.7 64-bit",
   "language": "python",
   "name": "python3"
  },
  "language_info": {
   "codemirror_mode": {
    "name": "ipython",
    "version": 3
   },
   "file_extension": ".py",
   "mimetype": "text/x-python",
   "name": "python",
   "nbconvert_exporter": "python",
   "pygments_lexer": "ipython3",
   "version": "3.10.9"
  },
  "orig_nbformat": 4,
  "vscode": {
   "interpreter": {
    "hash": "b0fa6594d8f4cbf19f97940f81e996739fb7646882a419484c72d19e05852a7e"
   }
  }
 },
 "nbformat": 4,
 "nbformat_minor": 2
}
