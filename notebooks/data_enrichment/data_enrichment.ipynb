{
 "cells": [
  {
   "cell_type": "code",
   "execution_count": 17,
   "metadata": {},
   "outputs": [],
   "source": [
    "from pyspark.sql import SparkSession\n",
    "from pyspark.sql.functions import *\n",
    "import pandas as pd"
   ]
  },
  {
   "cell_type": "code",
   "execution_count": 2,
   "metadata": {},
   "outputs": [
    {
     "name": "stdout",
     "output_type": "stream",
     "text": [
      "22/12/27 15:03:35 WARN Utils: Your hostname, MacBook-Air-di-Teodoro.local resolves to a loopback address: 127.0.0.1; using 192.168.69.184 instead (on interface en0)\n",
      "22/12/27 15:03:35 WARN Utils: Set SPARK_LOCAL_IP if you need to bind to another address\n"
     ]
    },
    {
     "name": "stderr",
     "output_type": "stream",
     "text": [
      "Setting default log level to \"WARN\".\n",
      "To adjust logging level use sc.setLogLevel(newLevel). For SparkR, use setLogLevel(newLevel).\n"
     ]
    },
    {
     "name": "stdout",
     "output_type": "stream",
     "text": [
      "22/12/27 15:03:36 WARN NativeCodeLoader: Unable to load native-hadoop library for your platform... using builtin-java classes where applicable\n"
     ]
    }
   ],
   "source": [
    "spark = SparkSession.builder.appName(\"flights\").getOrCreate()\n",
    "import json\n",
    "from pyspark.sql.types import StructType, StructField, StringType, IntegerType, DoubleType, DateType, TimestampType\n",
    "with open(\"../util/schema.json\",\"r\") as f:\n",
    "    schema = StructType.fromJson(json.load(f))"
   ]
  },
  {
   "cell_type": "code",
   "execution_count": 3,
   "metadata": {},
   "outputs": [],
   "source": [
    "df = spark.read.csv(\"../data.nosync/cleaned/cleaned_flights.csv\",schema=schema, header=True)"
   ]
  },
  {
   "cell_type": "code",
   "execution_count": 4,
   "metadata": {},
   "outputs": [
    {
     "name": "stderr",
     "output_type": "stream",
     "text": [
      "                                                                                \r"
     ]
    }
   ],
   "source": [
    "# get the different airports in Origin and Dest\n",
    "airports_origin = df.select(\"Origin\").distinct()\n",
    "airports_dest = df.select(\"Dest\").distinct()\n",
    "\n",
    "# merge the two dataframes and remove duplicates\n",
    "airports = airports_origin.union(airports_dest).distinct()\n",
    "\n",
    "# convert to pandas dataframe\n",
    "airports_pd = airports.toPandas()\n"
   ]
  },
  {
   "cell_type": "code",
   "execution_count": 5,
   "metadata": {},
   "outputs": [],
   "source": [
    "# converto to a list\n",
    "airports_list = airports_pd[\"Origin\"].tolist()\n"
   ]
  },
  {
   "cell_type": "code",
   "execution_count": 7,
   "metadata": {},
   "outputs": [
    {
     "name": "stdout",
     "output_type": "stream",
     "text": [
      "--2022-12-27 17:09:27--  https://www.ncei.noaa.gov/orders/cdo/3181703.csv\n",
      "Risoluzione di www.ncei.noaa.gov (www.ncei.noaa.gov)... 205.167.25.167, 205.167.25.177, 205.167.25.171, ...\n",
      "Connessione a www.ncei.noaa.gov (www.ncei.noaa.gov)|205.167.25.167|:443... connesso.\n",
      "Richiesta HTTP inviata, in attesa di risposta... 200 OK\n",
      "Lunghezza: 10397206 (9,9M) [text/csv]\n",
      "Salvataggio in: «3181703.csv»\n",
      "\n",
      "3181703.csv         100%[===================>]   9,92M  3,49MB/s    in 2,8s    \n",
      "\n",
      "2022-12-27 17:09:31 (3,49 MB/s) - «3181703.csv» salvato [10397206/10397206]\n",
      "\n",
      "--2022-12-27 17:09:31--  https://www.ncei.noaa.gov/orders/cdo/3181706.csv\n",
      "Risoluzione di www.ncei.noaa.gov (www.ncei.noaa.gov)... 205.167.25.167, 205.167.25.177, 205.167.25.171, ...\n",
      "Connessione a www.ncei.noaa.gov (www.ncei.noaa.gov)|205.167.25.167|:443... connesso.\n",
      "Richiesta HTTP inviata, in attesa di risposta... 200 OK\n",
      "Lunghezza: 9733601 (9,3M) [text/csv]\n",
      "Salvataggio in: «3181706.csv»\n",
      "\n",
      "3181706.csv         100%[===================>]   9,28M  2,18MB/s    in 4,6s    \n",
      "\n",
      "2022-12-27 17:09:37 (2,02 MB/s) - «3181706.csv» salvato [9733601/9733601]\n",
      "\n",
      "--2022-12-27 17:09:37--  https://www.ncei.noaa.gov/orders/cdo/3181708.csv\n",
      "Risoluzione di www.ncei.noaa.gov (www.ncei.noaa.gov)... 205.167.25.167, 205.167.25.177, 205.167.25.171, ...\n",
      "Connessione a www.ncei.noaa.gov (www.ncei.noaa.gov)|205.167.25.167|:443... connesso.\n",
      "Richiesta HTTP inviata, in attesa di risposta... 200 OK\n",
      "Lunghezza: 10750296 (10M) [text/csv]\n",
      "Salvataggio in: «3181708.csv»\n",
      "\n",
      "3181708.csv         100%[===================>]  10,25M  2,54MB/s    in 4,5s    \n",
      "\n",
      "2022-12-27 17:09:43 (2,26 MB/s) - «3181708.csv» salvato [10750296/10750296]\n",
      "\n",
      "--2022-12-27 17:09:43--  https://www.ncei.noaa.gov/orders/cdo/3181724.csv\n",
      "Risoluzione di www.ncei.noaa.gov (www.ncei.noaa.gov)... 205.167.25.167, 205.167.25.177, 205.167.25.171, ...\n",
      "Connessione a www.ncei.noaa.gov (www.ncei.noaa.gov)|205.167.25.167|:443... connesso.\n",
      "Richiesta HTTP inviata, in attesa di risposta... 200 OK\n",
      "Lunghezza: 1796394 (1,7M) [text/csv]\n",
      "Salvataggio in: «3181724.csv»\n",
      "\n",
      "3181724.csv         100%[===================>]   1,71M  1,22MB/s    in 1,4s    \n",
      "\n",
      "2022-12-27 17:09:45 (1,22 MB/s) - «3181724.csv» salvato [1796394/1796394]\n",
      "\n"
     ]
    }
   ],
   "source": [
    "'''\n",
    "!wget https://www.ncei.noaa.gov/orders/cdo/3181703.csv\n",
    "!wget https://www.ncei.noaa.gov/orders/cdo/3181706.csv\n",
    "!wget https://www.ncei.noaa.gov/orders/cdo/3181708.csv\n",
    "!wget https://www.ncei.noaa.gov/orders/cdo/3181724.csv\n",
    "'''"
   ]
  },
  {
   "cell_type": "code",
   "execution_count": 92,
   "metadata": {},
   "outputs": [],
   "source": [
    "df_meteo = spark.read.csv(\"../data.nosync/meteo/\",inferSchema=True, header=True)"
   ]
  },
  {
   "cell_type": "code",
   "execution_count": 79,
   "metadata": {},
   "outputs": [],
   "source": [
    "df_correspondence = spark.read.csv(\"corrispondence.csv\",inferSchema=True, header=True)"
   ]
  },
  {
   "cell_type": "code",
   "execution_count": 93,
   "metadata": {},
   "outputs": [
    {
     "name": "stdout",
     "output_type": "stream",
     "text": [
      "+-----------+--------+\n",
      "|    STATION|count(1)|\n",
      "+-----------+--------+\n",
      "|USC00481840|     301|\n",
      "|USW00003017|     304|\n",
      "|USC00314471|     317|\n",
      "|USW00025322|     335|\n",
      "|USW00025329|     335|\n",
      "|US1CABT0017|     336|\n",
      "|USC00045280|     346|\n",
      "|USW00004864|     347|\n",
      "|RQW00011603|     357|\n",
      "|USW00054831|     359|\n",
      "|USW00003902|     359|\n",
      "|USR0000AMOT|     360|\n",
      "|US1FLOK0002|     362|\n",
      "|USW00094938|     362|\n",
      "|USW00012907|     364|\n",
      "|USW00024132|     364|\n",
      "|USW00093845|     365|\n",
      "|USW00014737|     365|\n",
      "|USW00014929|     365|\n",
      "|USW00093821|     365|\n",
      "|USW00012842|     365|\n",
      "|USC00244558|     365|\n",
      "|USW00094893|     365|\n",
      "|USW00004781|     365|\n",
      "|USW00026411|     365|\n",
      "|USW00027502|     365|\n",
      "|USW00023023|     365|\n",
      "|USW00024131|     365|\n",
      "|USW00013994|     365|\n",
      "|USW00023169|     365|\n",
      "|USW00014740|     365|\n",
      "|USW00014836|     365|\n",
      "|USW00024089|     365|\n",
      "|USW00094746|     365|\n",
      "|USW00024233|     365|\n",
      "|USW00014850|     365|\n",
      "|USW00094870|     365|\n",
      "|USW00004803|     365|\n",
      "|USW00024011|     365|\n",
      "|USW00093822|     365|\n",
      "|USW00003950|     365|\n",
      "|USW00013741|     365|\n",
      "|USW00093138|     365|\n",
      "|USW00012838|     365|\n",
      "|USW00023047|     365|\n",
      "|VQW00011624|     365|\n",
      "|USW00093719|     365|\n",
      "|USW00014845|     365|\n",
      "|USW00003940|     365|\n",
      "|USW00094908|     365|\n",
      "|USW00014735|     365|\n",
      "|USW00014827|     365|\n",
      "|USW00024013|     365|\n",
      "|USW00012959|     365|\n",
      "|USW00014858|     365|\n",
      "|USW00003945|     365|\n",
      "|USW00012904|     365|\n",
      "|USW00023160|     365|\n",
      "|USW00013869|     365|\n",
      "|USW00025339|     365|\n",
      "|USW00012839|     365|\n",
      "|USW00013881|     365|\n",
      "|USC00304174|     365|\n",
      "|USW00012815|     365|\n",
      "|USW00023049|     365|\n",
      "|USW00093037|     365|\n",
      "|USW00003144|     365|\n",
      "|USW00014748|     365|\n",
      "|USW00014734|     365|\n",
      "|USW00012844|     365|\n",
      "|USW00013897|     365|\n",
      "|USW00024027|     365|\n",
      "|USW00014739|     365|\n",
      "|USW00023050|     365|\n",
      "|USW00024217|     365|\n",
      "|USW00003947|     365|\n",
      "|USW00093721|     365|\n",
      "|USW00014710|     365|\n",
      "|USW00024022|     365|\n",
      "|USW00023042|     365|\n",
      "|USW00003816|     365|\n",
      "|USW00013882|     365|\n",
      "|USW00014711|     365|\n",
      "|USW00014826|     365|\n",
      "|USW00025501|     365|\n",
      "|USW00093815|     365|\n",
      "|USW00014839|     365|\n",
      "|USC00111577|     365|\n",
      "|USW00014842|     365|\n",
      "|USW00012834|     365|\n",
      "|USW00013748|     365|\n",
      "|USW00014606|     365|\n",
      "|USW00013878|     365|\n",
      "|USW00025503|     365|\n",
      "|USW00014840|     365|\n",
      "|USW00023044|     365|\n",
      "|USW00013893|     365|\n",
      "|USW00013874|     365|\n",
      "|USW00013889|     365|\n",
      "|USW00012924|     365|\n",
      "+-----------+--------+\n",
      "only showing top 100 rows\n",
      "\n"
     ]
    }
   ],
   "source": [
    "count = df_meteo.groupBy(\"STATION\").agg({\"*\":\"count\"}).orderBy(\"count(1)\")\n",
    "# join df_meteo and count\n",
    "df_meteo = df_meteo.join(count, on=\"STATION\", how=\"inner\")\n",
    "# filter the stations with less than 300 value\n",
    "df_meteo = df_meteo.filter(df_meteo[\"count(1)\"] > 300)\n",
    "# drop the count column\n",
    "df_meteo = df_meteo.drop(\"count(1)\")\n",
    "\n",
    "df_meteo.groupBy(\"STATION\").agg({\"*\":\"count\"}).orderBy(\"count(1)\").show(100)\n"
   ]
  },
  {
   "cell_type": "code",
   "execution_count": 94,
   "metadata": {},
   "outputs": [
    {
     "name": "stdout",
     "output_type": "stream",
     "text": [
      "22/12/27 18:08:20 WARN CSVHeaderChecker: CSV header does not conform to the schema.\n",
      " Header: STATION, NAME, LATITUDE, LONGITUDE, ELEVATION, DATE, AWND, AWND_ATTRIBUTES, DAPR, DAPR_ATTRIBUTES, EVAP, EVAP_ATTRIBUTES, FMTM, FMTM_ATTRIBUTES, MDPR, MDPR_ATTRIBUTES, PGTM, PGTM_ATTRIBUTES, PRCP, PRCP_ATTRIBUTES, PSUN, PSUN_ATTRIBUTES, SN32, SN32_ATTRIBUTES, SNOW, SNOW_ATTRIBUTES, SNWD, SNWD_ATTRIBUTES, SX32, SX32_ATTRIBUTES, TAVG, TAVG_ATTRIBUTES, TMAX, TMAX_ATTRIBUTES, TMIN, TMIN_ATTRIBUTES, TOBS, TOBS_ATTRIBUTES, TSUN, TSUN_ATTRIBUTES, WDF2, WDF2_ATTRIBUTES, WDF5, WDF5_ATTRIBUTES, WDMV, WDMV_ATTRIBUTES, WESD, WESD_ATTRIBUTES, WSF2, WSF2_ATTRIBUTES, WSF5, WSF5_ATTRIBUTES, WT01, WT01_ATTRIBUTES, WT02, WT02_ATTRIBUTES, WT03, WT03_ATTRIBUTES, WT04, WT04_ATTRIBUTES, WT05, WT05_ATTRIBUTES, WT06, WT06_ATTRIBUTES, WT07, WT07_ATTRIBUTES, WT08, WT08_ATTRIBUTES, WT09, WT09_ATTRIBUTES, WT10, WT10_ATTRIBUTES, WT11, WT11_ATTRIBUTES, WT13, WT13_ATTRIBUTES, WT14, WT14_ATTRIBUTES, WT15, WT15_ATTRIBUTES, WT16, WT16_ATTRIBUTES, WT17, WT17_ATTRIBUTES, WT18, WT18_ATTRIBUTES, WT19, WT19_ATTRIBUTES, WT21, WT21_ATTRIBUTES, WT22, WT22_ATTRIBUTES\n",
      " Schema: STATION, NAME, LATITUDE, LONGITUDE, ELEVATION, DATE, AWND, AWND_ATTRIBUTES, DAPR, DAPR_ATTRIBUTES, EVAP, EVAP_ATTRIBUTES, FMTM, FMTM_ATTRIBUTES, MDPR, MDPR_ATTRIBUTES, PGTM, PGTM_ATTRIBUTES, PRCP, PRCP_ATTRIBUTES, PSUN, PSUN_ATTRIBUTES, SN52, SN52_ATTRIBUTES, SNOW, SNOW_ATTRIBUTES, SNWD, SNWD_ATTRIBUTES, SX52, SX52_ATTRIBUTES, TAVG, TAVG_ATTRIBUTES, TMAX, TMAX_ATTRIBUTES, TMIN, TMIN_ATTRIBUTES, TOBS, TOBS_ATTRIBUTES, TSUN, TSUN_ATTRIBUTES, WDF2, WDF2_ATTRIBUTES, WDF5, WDF5_ATTRIBUTES, WESD, WESD_ATTRIBUTES, WESF, WESF_ATTRIBUTES, WSF2, WSF2_ATTRIBUTES, WSF5, WSF5_ATTRIBUTES, WT01, WT01_ATTRIBUTES, WT02, WT02_ATTRIBUTES, WT03, WT03_ATTRIBUTES, WT04, WT04_ATTRIBUTES, WT05, WT05_ATTRIBUTES, WT06, WT06_ATTRIBUTES, WT07, WT07_ATTRIBUTES, WT08, WT08_ATTRIBUTES, WT09, WT09_ATTRIBUTES, WT10, WT10_ATTRIBUTES, WT11, WT11_ATTRIBUTES, WT13, WT13_ATTRIBUTES, WT14, WT14_ATTRIBUTES, WT15, WT15_ATTRIBUTES, WT16, WT16_ATTRIBUTES, WT17, WT17_ATTRIBUTES, WT18, WT18_ATTRIBUTES, WT19, WT19_ATTRIBUTES, WT21, WT21_ATTRIBUTES, WT22, WT22_ATTRIBUTES\n",
      "Expected: SN52 but found: SN32\n",
      "CSV file: file:///Users/teodorosullazzo/Documents/git_repos/Progetto_Big_Data_22_23/data.nosync/meteo/3181706.csv\n",
      "22/12/27 18:08:20 WARN CSVHeaderChecker: Number of column in CSV header is not equal to number of fields in the schema:\n",
      " Header length: 82, schema size: 92\n",
      "CSV file: file:///Users/teodorosullazzo/Documents/git_repos/Progetto_Big_Data_22_23/data.nosync/meteo/3181724.csv\n",
      "22/12/27 18:08:20 WARN CSVHeaderChecker: Number of column in CSV header is not equal to number of fields in the schema:\n",
      " Header length: 86, schema size: 92\n",
      "CSV file: file:///Users/teodorosullazzo/Documents/git_repos/Progetto_Big_Data_22_23/data.nosync/meteo/3181703.csv\n"
     ]
    },
    {
     "name": "stderr",
     "output_type": "stream",
     "text": [
      "                                                                                \r"
     ]
    }
   ],
   "source": [
    "df_meteo_pd = df_meteo.toPandas()"
   ]
  },
  {
   "cell_type": "code",
   "execution_count": 95,
   "metadata": {},
   "outputs": [
    {
     "data": {
      "text/plain": [
       "STATION            0.000000\n",
       "NAME               0.000000\n",
       "LATITUDE           0.000000\n",
       "LONGITUDE          0.000000\n",
       "ELEVATION          0.000000\n",
       "DATE               0.000000\n",
       "AWND               0.064842\n",
       "AWND_ATTRIBUTES    0.064842\n",
       "DAPR               0.999736\n",
       "DAPR_ATTRIBUTES    0.999736\n",
       "EVAP               0.993175\n",
       "EVAP_ATTRIBUTES    0.993175\n",
       "FMTM               0.993749\n",
       "FMTM_ATTRIBUTES    0.993749\n",
       "MDPR               0.975505\n",
       "MDPR_ATTRIBUTES    0.975505\n",
       "PGTM               0.575379\n",
       "PGTM_ATTRIBUTES    0.575379\n",
       "PRCP               0.383838\n",
       "PRCP_ATTRIBUTES    0.383838\n",
       "PSUN               0.728712\n",
       "PSUN_ATTRIBUTES    0.728712\n",
       "SN52               0.748075\n",
       "SN52_ATTRIBUTES    0.748075\n",
       "SNOW               0.379361\n",
       "SNOW_ATTRIBUTES    0.379361\n",
       "SNWD               0.240387\n",
       "SNWD_ATTRIBUTES    0.240387\n",
       "SX52               0.624989\n",
       "SX52_ATTRIBUTES    0.624989\n",
       "TAVG               0.704690\n",
       "TAVG_ATTRIBUTES    0.704690\n",
       "TMAX               0.391463\n",
       "TMAX_ATTRIBUTES    0.391463\n",
       "TMIN               0.043631\n",
       "TMIN_ATTRIBUTES    0.043631\n",
       "TOBS               0.638410\n",
       "TOBS_ATTRIBUTES    0.638410\n",
       "TSUN               0.987507\n",
       "TSUN_ATTRIBUTES    0.987507\n",
       "WDF2               0.370498\n",
       "WDF2_ATTRIBUTES    0.370498\n",
       "WDF5               0.081594\n",
       "WDF5_ATTRIBUTES    0.081594\n",
       "WESD               0.683552\n",
       "WESD_ATTRIBUTES    0.683552\n",
       "WESF               0.919980\n",
       "WESF_ATTRIBUTES    0.919980\n",
       "WSF2               0.408470\n",
       "WSF2_ATTRIBUTES    0.408470\n",
       "WSF5               0.420117\n",
       "WSF5_ATTRIBUTES    0.420117\n",
       "WT01               0.843082\n",
       "WT01_ATTRIBUTES    0.843082\n",
       "WT02               0.978253\n",
       "WT02_ATTRIBUTES    0.978253\n",
       "WT03               0.979799\n",
       "WT03_ATTRIBUTES    0.979799\n",
       "WT04               0.993021\n",
       "WT04_ATTRIBUTES    0.993021\n",
       "WT05               0.977879\n",
       "WT05_ATTRIBUTES    0.977879\n",
       "WT06               0.997661\n",
       "WT06_ATTRIBUTES    0.997661\n",
       "WT07               0.999572\n",
       "WT07_ATTRIBUTES    0.999572\n",
       "WT08               0.944858\n",
       "WT08_ATTRIBUTES    0.944858\n",
       "WT09               0.970409\n",
       "WT09_ATTRIBUTES    0.970409\n",
       "WT10               0.997097\n",
       "WT10_ATTRIBUTES    0.997097\n",
       "WT11               0.996579\n",
       "WT11_ATTRIBUTES    0.996579\n",
       "WT13               0.942192\n",
       "WT13_ATTRIBUTES    0.942192\n",
       "WT14               0.992511\n",
       "WT14_ATTRIBUTES    0.992511\n",
       "WT15               0.982229\n",
       "WT15_ATTRIBUTES    0.982229\n",
       "WT16               0.967461\n",
       "WT16_ATTRIBUTES    0.967461\n",
       "WT17               0.998226\n",
       "WT17_ATTRIBUTES    0.998226\n",
       "WT18               0.970145\n",
       "WT18_ATTRIBUTES    0.970145\n",
       "WT19               0.996797\n",
       "WT19_ATTRIBUTES    0.996797\n",
       "WT21               0.999563\n",
       "WT21_ATTRIBUTES    0.999563\n",
       "WT22               0.994886\n",
       "WT22_ATTRIBUTES    0.994886\n",
       "dtype: float64"
      ]
     },
     "execution_count": 95,
     "metadata": {},
     "output_type": "execute_result"
    }
   ],
   "source": [
    "# get the percentage of missing values for each column\n",
    "df_meteo_pd.isnull().sum()/len(df_meteo_pd)"
   ]
  },
  {
   "cell_type": "code",
   "execution_count": null,
   "metadata": {},
   "outputs": [],
   "source": []
  }
 ],
 "metadata": {
  "kernelspec": {
   "display_name": "Python 3.10.9 64-bit",
   "language": "python",
   "name": "python3"
  },
  "language_info": {
   "codemirror_mode": {
    "name": "ipython",
    "version": 3
   },
   "file_extension": ".py",
   "mimetype": "text/x-python",
   "name": "python",
   "nbconvert_exporter": "python",
   "pygments_lexer": "ipython3",
   "version": "3.10.9"
  },
  "orig_nbformat": 4,
  "vscode": {
   "interpreter": {
    "hash": "b0fa6594d8f4cbf19f97940f81e996739fb7646882a419484c72d19e05852a7e"
   }
  }
 },
 "nbformat": 4,
 "nbformat_minor": 2
}
