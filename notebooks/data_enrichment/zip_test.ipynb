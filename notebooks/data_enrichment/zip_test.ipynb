{
 "cells": [
  {
   "cell_type": "code",
   "execution_count": 2,
   "metadata": {},
   "outputs": [],
   "source": [
    "import pandas as pd\n",
    "import numpy as np\n",
    "import matplotlib.pyplot as plt"
   ]
  },
  {
   "cell_type": "code",
   "execution_count": 1,
   "metadata": {},
   "outputs": [
    {
     "name": "stdout",
     "output_type": "stream",
     "text": [
      "--2022-12-29 18:31:41--  https://raw.githubusercontent.com/scpike/us-state-county-zip/master/geo-data.csv\n",
      "Risoluzione di raw.githubusercontent.com (raw.githubusercontent.com)... 185.199.109.133, 185.199.111.133, 185.199.110.133, ...\n",
      "Connessione a raw.githubusercontent.com (raw.githubusercontent.com)|185.199.109.133|:443... connesso.\n",
      "Richiesta HTTP inviata, in attesa di risposta... 200 OK\n",
      "Lunghezza: 1299430 (1,2M) [text/plain]\n",
      "Salvataggio in: «geo-data.csv»\n",
      "\n",
      "geo-data.csv        100%[===================>]   1,24M  1,77MB/s    in 0,7s    \n",
      "\n",
      "2022-12-29 18:31:42 (1,77 MB/s) - «geo-data.csv» salvato [1299430/1299430]\n",
      "\n"
     ]
    }
   ],
   "source": [
    "!wget https://raw.githubusercontent.com/scpike/us-state-county-zip/master/geo-data.csv"
   ]
  },
  {
   "cell_type": "code",
   "execution_count": 75,
   "metadata": {},
   "outputs": [],
   "source": [
    "zip = pd.read_csv('../../util/zip_code_database.csv')\n",
    "airports = pd.read_csv('../../util/airports.csv')"
   ]
  },
  {
   "cell_type": "code",
   "execution_count": 85,
   "metadata": {},
   "outputs": [],
   "source": [
    "# merge the two dataframes based on latityde and longitude, use a neigboorhood of the geocoordinates\n",
    "# to find the closest zip code using euclidean distance\n",
    "# https://stackoverflow.com/questions/27928/calculate-distance-between-two-latitude-longitude-points-haversine-formula\n",
    "def get_zipcode(lat, lon):\n",
    "    zip['dist'] = np.sqrt((zip['latitude'] - lat)**2 + (zip['longitude'] - lon)**2)\n",
    "\n",
    "    return zip.loc[zip['dist'].idxmin()]['zip'],"
   ]
  },
  {
   "cell_type": "code",
   "execution_count": null,
   "metadata": {},
   "outputs": [],
   "source": [
    "# get the zip code for each airport\n",
    "airports['zip'] = airports.apply(lambda row: get_zipcode(row['LATITUDE'], row['LONGITUDE']), axis=1)\n",
    "\n"
   ]
  },
  {
   "cell_type": "code",
   "execution_count": 84,
   "metadata": {},
   "outputs": [
    {
     "name": "stdout",
     "output_type": "stream",
     "text": [
      "    zip      type  decommissioned primary_city acceptable_cities  \\\n",
      "48  690  STANDARD               0  San Antonio               NaN   \n",
      "4   603  STANDARD               0    Aguadilla             Ramey   \n",
      "5   604    PO BOX               0    Aguadilla             Ramey   \n",
      "6   605    PO BOX               0    Aguadilla               NaN   \n",
      "38  676  STANDARD               0         Moca               NaN   \n",
      "\n",
      "                                  unacceptable_cities state  \\\n",
      "48  Brisas De Campo Alegre, Hacienda Asturias, Par...    PR   \n",
      "4   Bda Caban, Bda Esteves, Bo Borinquen, Bo Ceiba...    PR   \n",
      "5                                                 NaN    PR   \n",
      "6                                                 NaN    PR   \n",
      "38  Hacienda La Monserrate, Parc Lomas Verdes, Par...    PR   \n",
      "\n",
      "                 county             timezone area_codes world_region country  \\\n",
      "48  Aguadilla Municipio  America/Puerto_Rico        NaN          NaN      US   \n",
      "4   Aguadilla Municipio  America/Puerto_Rico        787          NaN      US   \n",
      "5                   NaN  America/Puerto_Rico        NaN          NaN      US   \n",
      "6                   NaN  America/Puerto_Rico        NaN          NaN      US   \n",
      "38       Moca Municipio  America/Puerto_Rico        787          NaN      US   \n",
      "\n",
      "    latitude  longitude  irs_estimated_population      dist  \n",
      "48     18.49     -67.09                         0  0.039743  \n",
      "4      18.43     -67.15                         0  0.068040  \n",
      "5      18.43     -67.15                         0  0.068040  \n",
      "6      18.43     -67.15                         0  0.068040  \n",
      "38     18.39     -67.11                         0  0.106649  \n"
     ]
    },
    {
     "data": {
      "text/plain": [
       "690"
      ]
     },
     "execution_count": 84,
     "metadata": {},
     "output_type": "execute_result"
    }
   ],
   "source": [
    "get_zipcode(18.49486111,-67.12944444)"
   ]
  },
  {
   "cell_type": "code",
   "execution_count": 77,
   "metadata": {},
   "outputs": [
    {
     "data": {
      "text/html": [
       "<div>\n",
       "<style scoped>\n",
       "    .dataframe tbody tr th:only-of-type {\n",
       "        vertical-align: middle;\n",
       "    }\n",
       "\n",
       "    .dataframe tbody tr th {\n",
       "        vertical-align: top;\n",
       "    }\n",
       "\n",
       "    .dataframe thead th {\n",
       "        text-align: right;\n",
       "    }\n",
       "</style>\n",
       "<table border=\"1\" class=\"dataframe\">\n",
       "  <thead>\n",
       "    <tr style=\"text-align: right;\">\n",
       "      <th></th>\n",
       "      <th>IATA</th>\n",
       "      <th>AIRPORT</th>\n",
       "      <th>CITY</th>\n",
       "      <th>STATE</th>\n",
       "      <th>COUNTRY</th>\n",
       "      <th>LATITUDE</th>\n",
       "      <th>LONGITUDE</th>\n",
       "      <th>zip</th>\n",
       "    </tr>\n",
       "  </thead>\n",
       "  <tbody>\n",
       "    <tr>\n",
       "      <th>0</th>\n",
       "      <td>ABQ</td>\n",
       "      <td>Albuquerque International</td>\n",
       "      <td>Albuquerque</td>\n",
       "      <td>NM</td>\n",
       "      <td>USA</td>\n",
       "      <td>35.040222</td>\n",
       "      <td>-106.609194</td>\n",
       "      <td>87117</td>\n",
       "    </tr>\n",
       "    <tr>\n",
       "      <th>1</th>\n",
       "      <td>ANC</td>\n",
       "      <td>Ted Stevens Anchorage International</td>\n",
       "      <td>Anchorage</td>\n",
       "      <td>AK</td>\n",
       "      <td>USA</td>\n",
       "      <td>61.174320</td>\n",
       "      <td>-149.996186</td>\n",
       "      <td>99502</td>\n",
       "    </tr>\n",
       "    <tr>\n",
       "      <th>2</th>\n",
       "      <td>ATL</td>\n",
       "      <td>William B Hartsfield-Atlanta Intl</td>\n",
       "      <td>Atlanta</td>\n",
       "      <td>GA</td>\n",
       "      <td>USA</td>\n",
       "      <td>33.640444</td>\n",
       "      <td>-84.426944</td>\n",
       "      <td>30320</td>\n",
       "    </tr>\n",
       "    <tr>\n",
       "      <th>3</th>\n",
       "      <td>AUS</td>\n",
       "      <td>Austin-Bergstrom International</td>\n",
       "      <td>Austin</td>\n",
       "      <td>TX</td>\n",
       "      <td>USA</td>\n",
       "      <td>30.194533</td>\n",
       "      <td>-97.669872</td>\n",
       "      <td>78719</td>\n",
       "    </tr>\n",
       "    <tr>\n",
       "      <th>4</th>\n",
       "      <td>BDL</td>\n",
       "      <td>Bradley International</td>\n",
       "      <td>Windsor Locks</td>\n",
       "      <td>CT</td>\n",
       "      <td>USA</td>\n",
       "      <td>41.938874</td>\n",
       "      <td>-72.683228</td>\n",
       "      <td>6026</td>\n",
       "    </tr>\n",
       "  </tbody>\n",
       "</table>\n",
       "</div>"
      ],
      "text/plain": [
       "  IATA                              AIRPORT           CITY STATE COUNTRY  \\\n",
       "0  ABQ            Albuquerque International    Albuquerque    NM     USA   \n",
       "1  ANC  Ted Stevens Anchorage International      Anchorage    AK     USA   \n",
       "2  ATL    William B Hartsfield-Atlanta Intl        Atlanta    GA     USA   \n",
       "3  AUS       Austin-Bergstrom International         Austin    TX     USA   \n",
       "4  BDL                Bradley International  Windsor Locks    CT     USA   \n",
       "\n",
       "    LATITUDE   LONGITUDE    zip  \n",
       "0  35.040222 -106.609194  87117  \n",
       "1  61.174320 -149.996186  99502  \n",
       "2  33.640444  -84.426944  30320  \n",
       "3  30.194533  -97.669872  78719  \n",
       "4  41.938874  -72.683228   6026  "
      ]
     },
     "execution_count": 77,
     "metadata": {},
     "output_type": "execute_result"
    }
   ],
   "source": [
    "airports.head()"
   ]
  },
  {
   "cell_type": "code",
   "execution_count": 80,
   "metadata": {},
   "outputs": [
    {
     "data": {
      "text/html": [
       "<div>\n",
       "<style scoped>\n",
       "    .dataframe tbody tr th:only-of-type {\n",
       "        vertical-align: middle;\n",
       "    }\n",
       "\n",
       "    .dataframe tbody tr th {\n",
       "        vertical-align: top;\n",
       "    }\n",
       "\n",
       "    .dataframe thead th {\n",
       "        text-align: right;\n",
       "    }\n",
       "</style>\n",
       "<table border=\"1\" class=\"dataframe\">\n",
       "  <thead>\n",
       "    <tr style=\"text-align: right;\">\n",
       "      <th></th>\n",
       "      <th>IATA</th>\n",
       "      <th>AIRPORT</th>\n",
       "      <th>CITY</th>\n",
       "      <th>STATE</th>\n",
       "      <th>COUNTRY</th>\n",
       "      <th>LATITUDE</th>\n",
       "      <th>LONGITUDE</th>\n",
       "      <th>zip</th>\n",
       "    </tr>\n",
       "  </thead>\n",
       "  <tbody>\n",
       "    <tr>\n",
       "      <th>66</th>\n",
       "      <td>SJU</td>\n",
       "      <td>Luis Munoz Marin International</td>\n",
       "      <td>San Juan</td>\n",
       "      <td>PR</td>\n",
       "      <td>USA</td>\n",
       "      <td>18.439417</td>\n",
       "      <td>-66.001833</td>\n",
       "      <td>979</td>\n",
       "    </tr>\n",
       "    <tr>\n",
       "      <th>109</th>\n",
       "      <td>BQN</td>\n",
       "      <td>Rafael Hernandez</td>\n",
       "      <td>Aguadilla</td>\n",
       "      <td>PR</td>\n",
       "      <td>USA</td>\n",
       "      <td>18.494861</td>\n",
       "      <td>-67.129444</td>\n",
       "      <td>690</td>\n",
       "    </tr>\n",
       "    <tr>\n",
       "      <th>282</th>\n",
       "      <td>PSE</td>\n",
       "      <td>Mercedita</td>\n",
       "      <td>Ponce</td>\n",
       "      <td>PR</td>\n",
       "      <td>USA</td>\n",
       "      <td>18.008303</td>\n",
       "      <td>-66.563012</td>\n",
       "      <td>715</td>\n",
       "    </tr>\n",
       "  </tbody>\n",
       "</table>\n",
       "</div>"
      ],
      "text/plain": [
       "    IATA                         AIRPORT       CITY STATE COUNTRY   LATITUDE  \\\n",
       "66   SJU  Luis Munoz Marin International   San Juan    PR     USA  18.439417   \n",
       "109  BQN                Rafael Hernandez  Aguadilla    PR     USA  18.494861   \n",
       "282  PSE                       Mercedita      Ponce    PR     USA  18.008303   \n",
       "\n",
       "     LONGITUDE  zip  \n",
       "66  -66.001833  979  \n",
       "109 -67.129444  690  \n",
       "282 -66.563012  715  "
      ]
     },
     "execution_count": 80,
     "metadata": {},
     "output_type": "execute_result"
    }
   ],
   "source": [
    "airports[airports['STATE']=='PR']"
   ]
  },
  {
   "cell_type": "code",
   "execution_count": null,
   "metadata": {},
   "outputs": [],
   "source": []
  }
 ],
 "metadata": {
  "kernelspec": {
   "display_name": "Python 3.10.9 64-bit",
   "language": "python",
   "name": "python3"
  },
  "language_info": {
   "codemirror_mode": {
    "name": "ipython",
    "version": 3
   },
   "file_extension": ".py",
   "mimetype": "text/x-python",
   "name": "python",
   "nbconvert_exporter": "python",
   "pygments_lexer": "ipython3",
   "version": "3.10.9"
  },
  "orig_nbformat": 4,
  "vscode": {
   "interpreter": {
    "hash": "b0fa6594d8f4cbf19f97940f81e996739fb7646882a419484c72d19e05852a7e"
   }
  }
 },
 "nbformat": 4,
 "nbformat_minor": 2
}
